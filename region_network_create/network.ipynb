{
 "cells": [
  {
   "cell_type": "code",
   "execution_count": 173,
   "metadata": {},
   "outputs": [
    {
     "data": {
      "text/plain": [
       "region_cube_split (generic function with 1 method)"
      ]
     },
     "metadata": {},
     "output_type": "display_data"
    }
   ],
   "source": [
    "using CSV, DataFrames\n",
    "using FileIO, Dates\n",
    "using Graphs, MetaGraphs\n",
    "\n",
    "include(\"../region_cube_split/cubes.jl\")"
   ]
  },
  {
   "cell_type": "code",
   "execution_count": 174,
   "metadata": {},
   "outputs": [],
   "source": [
    "romania_full = CSV.read(\"../data/romania.csv\", DataFrame);\n",
    "romania = romania_full[romania_full.Datetime .> DateTime(1976,1,1,0,0,0),:];\n",
    "\n",
    "vrancea = romania[(romania.Latitude .>= 45.20) .& (romania.Latitude .<= 46.0) .& \n",
    "                    (romania.Longitude .>= 26.0) .& (romania.Longitude .<= 27.0) .&\n",
    "                    (romania.Depth .>= 50.0) .& (romania.Depth .<= 200.0), :];"
   ]
  },
  {
   "cell_type": "code",
   "execution_count": 175,
   "metadata": {},
   "outputs": [],
   "source": [
    "vrancea, vrancea_cubes = region_cube_split(vrancea,side=5);"
   ]
  },
  {
   "cell_type": "code",
   "execution_count": null,
   "metadata": {},
   "outputs": [],
   "source": []
  },
  {
   "cell_type": "code",
   "execution_count": 4,
   "metadata": {},
   "outputs": [],
   "source": [
    "# cube_dictionary = Dict()\n",
    "# for i=1:length(vrancea_cubes.cubeIndex)\n",
    "#     cube_dictionary[vrancea_cubes.cubeIndex[i]] = i\n",
    "# end\n",
    "# cube_dictionary;"
   ]
  },
  {
   "cell_type": "code",
   "execution_count": 216,
   "metadata": {},
   "outputs": [
    {
     "data": {
      "text/plain": [
       "Set{Symbol} with 1 element:\n",
       "  :cubeIndex"
      ]
     },
     "metadata": {},
     "output_type": "display_data"
    }
   ],
   "source": [
    "G = Graphs.Graph(length(vrancea_cubes.cubeIndex))\n",
    "MG = MetaGraph(G)\n",
    "\n",
    "for i in 1:nv(MG)\n",
    "    set_prop!(MG, i, :cubeIndex, vrancea_cubes.cubeIndex[i])\n",
    "end\n",
    "\n",
    "set_indexing_prop!(MG, :cubeIndex)"
   ]
  },
  {
   "cell_type": "code",
   "execution_count": 217,
   "metadata": {},
   "outputs": [
    {
     "data": {
      "text/plain": [
       "true"
      ]
     },
     "metadata": {},
     "output_type": "display_data"
    }
   ],
   "source": [
    "edgeWeight=true"
   ]
  },
  {
   "cell_type": "code",
   "execution_count": 218,
   "metadata": {},
   "outputs": [],
   "source": [
    "i=0\n",
    "while i < length(vrancea.cubeIndex)-1\n",
    "\n",
    "    i+=1\n",
    "    current_node = MG[vrancea.cubeIndex[i],:cubeIndex]\n",
    "    target_node = MG[vrancea.cubeIndex[i+1],:cubeIndex]\n",
    "\n",
    "    \n",
    "    if edgeWeight == false\n",
    "        add_edge!(MG,current_node,target_node)\n",
    "    else\n",
    "        if has_edge(MG, current_node, target_node)\n",
    "            set_prop!(MG,current_node,target_node,\n",
    "                    :weight, get_prop(MG,Edge(current_node,target_node),:weight)+1)\n",
    "            continue\n",
    "\n",
    "        else\n",
    "            add_edge!(MG,current_node,target_node,:weight,1)\n",
    "        end\n",
    "    end\n",
    "\n",
    "end"
   ]
  },
  {
   "cell_type": "code",
   "execution_count": 219,
   "metadata": {},
   "outputs": [
    {
     "data": {
      "text/plain": [
       "{1727, 7612} undirected Int64 metagraph with Float64 weights defined by :weight (default weight 1.0)"
      ]
     },
     "metadata": {},
     "output_type": "display_data"
    }
   ],
   "source": [
    "MG"
   ]
  },
  {
   "cell_type": "code",
   "execution_count": 234,
   "metadata": {},
   "outputs": [
    {
     "data": {
      "text/plain": [
       "{1727, 7612} undirected simple Int64 graph"
      ]
     },
     "metadata": {},
     "output_type": "display_data"
    }
   ],
   "source": [
    "G = Graph(MG)"
   ]
  },
  {
   "cell_type": "code",
   "execution_count": 235,
   "metadata": {},
   "outputs": [],
   "source": [
    "for i in 1:nv(MG)\n",
    "    set_prop!(MG, i, :xLatitude, vrancea_cubes.xLatitude[i])\n",
    "    set_prop!(MG, i, :yLongitude, vrancea_cubes.yLongitude[i])\n",
    "    set_prop!(MG, i, :zDepth, vrancea_cubes.zDepth[i])\n",
    "end"
   ]
  },
  {
   "cell_type": "code",
   "execution_count": 237,
   "metadata": {},
   "outputs": [
    {
     "data": {
      "text/plain": [
       "Dict{Symbol, Any} with 4 entries:\n",
       "  :zDepth     => 22\n",
       "  :cubeIndex  => \"6183\"\n",
       "  :xLatitude  => 10\n",
       "  :yLongitude => 8"
      ]
     },
     "metadata": {},
     "output_type": "display_data"
    }
   ],
   "source": [
    "props(MG,2)"
   ]
  },
  {
   "cell_type": "code",
   "execution_count": null,
   "metadata": {},
   "outputs": [],
   "source": []
  },
  {
   "cell_type": "code",
   "execution_count": 258,
   "metadata": {},
   "outputs": [],
   "source": [
    "using GraphIO, EzXML"
   ]
  },
  {
   "cell_type": "code",
   "execution_count": 262,
   "metadata": {},
   "outputs": [
    {
     "data": {
      "text/plain": [
       "1"
      ]
     },
     "metadata": {},
     "output_type": "display_data"
    }
   ],
   "source": [
    "savegraph(\"./vrancea_5km.graphml\", MG, GraphMLFormat())"
   ]
  },
  {
   "cell_type": "code",
   "execution_count": 248,
   "metadata": {},
   "outputs": [
    {
     "data": {
      "text/plain": [
       "1"
      ]
     },
     "metadata": {},
     "output_type": "display_data"
    }
   ],
   "source": [
    "savegraph(\"./vrancea_5km.txt\",MG, EdgeListFormat())"
   ]
  },
  {
   "cell_type": "code",
   "execution_count": null,
   "metadata": {},
   "outputs": [],
   "source": []
  },
  {
   "cell_type": "code",
   "execution_count": null,
   "metadata": {},
   "outputs": [],
   "source": []
  }
 ],
 "metadata": {
  "kernelspec": {
   "display_name": "Julia 1.8.5",
   "language": "julia",
   "name": "julia-1.8"
  },
  "language_info": {
   "file_extension": ".jl",
   "mimetype": "application/julia",
   "name": "julia",
   "version": "1.8.5"
  },
  "orig_nbformat": 4,
  "vscode": {
   "interpreter": {
    "hash": "0f70a35dd2b85e0fbdf740964da3dda7ef418e2ba19e1da9e3dbc65ae5d9559a"
   }
  }
 },
 "nbformat": 4,
 "nbformat_minor": 2
}
