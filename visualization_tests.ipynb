{
 "cells": [
  {
   "cell_type": "code",
   "execution_count": null,
   "metadata": {},
   "outputs": [],
   "source": [
    "using GLMakie"
   ]
  },
  {
   "cell_type": "code",
   "execution_count": null,
   "metadata": {},
   "outputs": [],
   "source": [
    "# Makie.inline!(true)"
   ]
  },
  {
   "cell_type": "code",
   "execution_count": null,
   "metadata": {},
   "outputs": [],
   "source": [
    "import Random\n",
    "\n",
    "function scatters_in_3D()\n",
    "    Random.seed!(123)\n",
    "    n = 10\n",
    "    x, y, z = randn(n), randn(n), randn(n)\n",
    "    fig = Figure(; resolution=(1200, 400))\n",
    "    ax1 = Axis3(fig[1, 1]; aspect=(1, 1, 1), perspectiveness=0.5)\n",
    "    ax2 = Axis3(fig[1, 2]; aspect=(1, 1, 1), perspectiveness=0.5)\n",
    "    ax3 = Axis3(fig[1, 3]; aspect=:data, perspectiveness=0.5)\n",
    "    scatter!(ax1, x, y, z; markersize=15)\n",
    "    meshscatter!(ax2, x, y, z; markersize=0.25)\n",
    "    hm = meshscatter!(ax3, x, y, z; markersize=0.25,\n",
    "        marker=Rect3f(Vec3f(0), Vec3f(1)), color=1:n,\n",
    "        colormap=:plasma, transparency=false)\n",
    "    Colorbar(fig[1, 4], hm, label=\"values\", height=Relative(0.5))\n",
    "    fig\n",
    "end\n",
    "\n",
    "scatters_in_3D()"
   ]
  },
  {
   "cell_type": "code",
   "execution_count": null,
   "metadata": {},
   "outputs": [],
   "source": []
  },
  {
   "cell_type": "code",
   "execution_count": null,
   "metadata": {},
   "outputs": [],
   "source": []
  },
  {
   "cell_type": "code",
   "execution_count": null,
   "metadata": {},
   "outputs": [],
   "source": []
  },
  {
   "cell_type": "code",
   "execution_count": null,
   "metadata": {},
   "outputs": [],
   "source": []
  },
  {
   "cell_type": "code",
   "execution_count": null,
   "metadata": {},
   "outputs": [],
   "source": [
    "fig = Figure(resolution = (1920, 1080))"
   ]
  },
  {
   "cell_type": "code",
   "execution_count": null,
   "metadata": {},
   "outputs": [],
   "source": [
    "ax1 = fig[1, 1] = Axis(fig,\n",
    "    # borders\n",
    "    # aspect = 1, targetlimits = BBox(-10, 10, -10, 10),\n",
    "    # title\n",
    "    title = \"Sliders Tutorial\",\n",
    "    titlegap = 48, titlesize = 48,\n",
    "    # x-axis\n",
    "    xautolimitmargin = (0, 0), xgridwidth = 2, xticklabelsize = 24,\n",
    "    xticks = LinearTicks(20), xticksize = 12,\n",
    "    # y-axis\n",
    "    yautolimitmargin = (0, 0), ygridwidth = 2, yticklabelpad = 14,\n",
    "    yticklabelsize = 24, yticks = LinearTicks(20), yticksize = 12\n",
    ")"
   ]
  }
 ],
 "metadata": {
  "kernelspec": {
   "display_name": "Julia 1.8.5",
   "language": "julia",
   "name": "julia-1.8"
  },
  "language_info": {
   "file_extension": ".jl",
   "mimetype": "application/julia",
   "name": "julia",
   "version": "1.8.5"
  },
  "orig_nbformat": 4,
  "vscode": {
   "interpreter": {
    "hash": "0f70a35dd2b85e0fbdf740964da3dda7ef418e2ba19e1da9e3dbc65ae5d9559a"
   }
  }
 },
 "nbformat": 4,
 "nbformat_minor": 2
}
