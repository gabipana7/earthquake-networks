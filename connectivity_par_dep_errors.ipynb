{
 "cells": [
  {
   "cell_type": "code",
   "execution_count": 1,
   "metadata": {},
   "outputs": [],
   "source": [
    "using CSV, DataFrames\n",
    "using FileIO, Dates\n",
    "using Graphs, MetaGraphs\n",
    "using DataStructures\n",
    "using PyCall\n",
    "using Plots, PyPlot; gr()\n",
    "\n",
    "include(\"./src/cubes.jl\")\n",
    "include(\"./src/network.jl\")\n",
    "\n",
    "@pyimport powerlaw as powlaw"
   ]
  },
  {
   "cell_type": "code",
   "execution_count": 15,
   "metadata": {},
   "outputs": [],
   "source": [
    "region = \"california\"\n",
    "mkpath(\"./results/$region\")\n",
    "\n",
    "df = CSV.read(\"./data/$(region).csv\", DataFrame);\n",
    "\n",
    "magnitude_threshold = 0.0\n",
    "df = df[df.Magnitude .> magnitude_threshold,:];"
   ]
  },
  {
   "cell_type": "code",
   "execution_count": null,
   "metadata": {},
   "outputs": [],
   "source": [
    "# cube_sides = [5,10]\n",
    "# degrees_alpha=[]\n",
    "# degrees_xmin=[]\n",
    "\n",
    "# for side in cube_sides\n",
    "#     df, df_cubes = region_cube_split(df,side=side)\n",
    "#     MG = create_network(df, df_cubes)\n",
    "#     degrees=[]\n",
    "#     for i in 1:nv(MG)\n",
    "#         push!(degrees, get_prop(MG, i, :degree))\n",
    "#     end\n",
    "\n",
    "#     fit_degrees = powlaw.Fit(degrees);\n",
    "#     push!(degrees_alpha, fit_degrees.alpha)\n",
    "#     push!(degrees_xmin, fit_degrees.xmin)\n",
    "\n",
    "# end"
   ]
  },
  {
   "cell_type": "code",
   "execution_count": 32,
   "metadata": {},
   "outputs": [
    {
     "name": "stdout",
     "output_type": "stream",
     "text": [
      "xmin progress: 93%\rxmin progress: 93%\rxmin progress: 93%\rxmin progress: 93%\rxmin progress: 94%\rxmin progress: 94%\rxmin progress: 94%\rxmin progress: 94%\rxmin progress: 94%\rxmin progress: 94%\rxmin progress: 94%\rxmin progress: 95%\rxmin progress: 95%\rxmin progress: 95%\rxmin progress: 95%\rxmin progress: 95%\rxmin progress: 95%\rxmin progress: 96%\rxmin progress: 96%\rxmin progress: 96%\rxmin progress: 96%\rxmin progress: 96%\rxmin progress: 96%\rxmin progress: 96%\rxmin progress: 97%\rxmin progress: 97%\rxmin progress: 97%\rxmin progress: 97%\rxmin progress: 97%\rxmin progress: 97%\rxmin progress: 97%\rxmin progress: 98%\rxmin progress: 98%\rxmin progress: 98%\rxmin progress: 98%\rxmin progress: 98%\rxmin progress: 98%\rxmin progress: 98%\rxmin progress: 99%\rxmin progress: 99%\rxmin progress: 99%\rxmin progress: 99%\rxmin progress: 99%\rxmin progress: 99%\rCalculating best minimal value for power law fit\n",
      "xmin progress: 00%\rxmin progress: 00%\rxmin progress: 00%\rxmin progress: 00%\rxmin progress: 00%\rxmin progress: 00%\rxmin progress: 00%\rxmin progress: 01%\rxmin progress: 01%\rxmin progress: 01%\rxmin progress: 01%\rxmin progress: 01%\rxmin progress: 01%\rxmin progress: 01%\rxmin progress: 02%\rxmin progress: 02%\rxmin progress: 02%\rxmin progress: 02%\rxmin progress: 02%\rxmin progress: 02%\rxmin progress: 02%\rxmin progress: 03%\rxmin progress: 03%\rxmin progress: 03%\rxmin progress: 03%\rxmin progress: 03%\rxmin progress: 03%\rxmin progress: 03%\rxmin progress: 04%\rxmin progress: 04%\rxmin progress: 04%\rxmin progress: 04%\rxmin progress: 04%\rxmin progress: 04%\rxmin progress: 05%\rxmin progress: 05%\rxmin progress: 05%\rxmin progress: 05%\rxmin progress: 05%\rxmin progress: 05%\rxmin progress: 05%\rxmin progress: 06%\rxmin progress: 06%\rxmin progress: 06%\rxmin progress: 06%\rxmin progress: 06%\rxmin progress: 06%\rxmin progress: 06%\rxmin progress: 07%\rxmin progress: 07%\rxmin progress: 07%\rxmin progress: 07%\rxmin progress: 07%\rxmin progress: 07%\rxmin progress: 07%\rxmin progress: 08%\rxmin progress: 08%\rxmin progress: 08%\rxmin progress: 08%\rxmin progress: 08%\rxmin progress: 08%\rxmin progress: 08%\rxmin progress: 09%\rxmin progress: 09%\rxmin progress: 09%\rxmin progress: 09%\rxmin progress: 09%\rxmin progress: 09%\rxmin progress: 10%\rxmin progress: 10%\rxmin progress: 10%\rxmin progress: 10%\rxmin progress: 10%\rxmin progress: 10%\rxmin progress: 10%\rxmin progress: 11%\rxmin progress: 11%\rxmin progress: 11%\rxmin progress: 11%\rxmin progress: 11%\rxmin progress: 11%\rxmin progress: 11%\rxmin progress: 12%\rxmin progress: 12%\rxmin progress: 12%\rxmin progress: 12%\rxmin progress: 12%\rxmin progress: 12%\rxmin progress: 12%\rxmin progress: 13%\rxmin progress: 13%\rxmin progress: 13%\rxmin progress: 13%\rxmin progress: 13%\rxmin progress: 13%\rxmin progress: 13%\rxmin progress: 14%\rxmin progress: 14%\rxmin progress: 14%\rxmin progress: 14%\rxmin progress: 14%\rxmin progress: 14%\rxmin progress: 15%\rxmin progress: 15%\rxmin progress: 15%\rxmin progress: 15%\rxmin progress: 15%\rxmin progress: 15%\rxmin progress: 15%\rxmin progress: 16%\rxmin progress: 16%\rxmin progress: 16%\rxmin progress: 16%\rxmin progress: 16%\rxmin progress: 16%\rxmin progress: 16%\rxmin progress: 17%\rxmin progress: 17%\rxmin progress: 17%\rxmin progress: 17%\rxmin progress: 17%\rxmin progress: 17%\rxmin progress: 17%\rxmin progress: 18%\rxmin progress: 18%\rxmin progress: 18%\rxmin progress: 18%\rxmin progress: 18%\rxmin progress: 18%\rxmin progress: 18%\rxmin progress: 19%\rxmin progress: 19%\rxmin progress: 19%\rxmin progress: 19%\rxmin progress: 19%\rxmin progress: 19%\rxmin progress: 20%\rxmin progress: 20%\rxmin progress: 20%\rxmin progress: 20%\rxmin progress: 20%\rxmin progress: 20%\rxmin progress: 20%\rxmin progress: 21%\rxmin progress: 21%\rxmin progress: 21%\rxmin progress: 21%\rxmin progress: 21%\rxmin progress: 21%\rxmin progress: 21%\rxmin progress: 22%\rxmin progress: 22%\rxmin progress: 22%\rxmin progress: 22%\rxmin progress: 22%\rxmin progress: 22%\rxmin progress: 22%\rxmin progress: 23%\rxmin progress: 23%\rxmin progress: 23%\rxmin progress: 23%\rxmin progress: 23%\rxmin progress: 23%\rxmin progress: 24%\rxmin progress: 24%\rxmin progress: 24%\rxmin progress: 24%\rxmin progress: 24%\rxmin progress: 24%\rxmin progress: 24%\rxmin progress: 25%\rxmin progress: 25%\rxmin progress: 25%\rxmin progress: 25%\rxmin progress: 25%\rxmin progress: 25%\rxmin progress: 25%\rxmin progress: 26%\rxmin progress: 26%\rxmin progress: 26%\rxmin progress: 26%\rxmin progress: 26%\rxmin progress: 26%\rxmin progress: 26%\rxmin progress: 27%\rxmin progress: 27%\rxmin progress: 27%\rxmin progress: 27%\rxmin progress: 27%\rxmin progress: 27%\rxmin progress: 27%\rxmin progress: 28%\rxmin progress: 28%\rxmin progress: 28%\rxmin progress: 28%\rxmin progress: 28%\rxmin progress: 28%\rxmin progress: 29%\rxmin progress: 29%\rxmin progress: 29%\rxmin progress: 29%\rxmin progress: 29%\rxmin progress: 29%\rxmin progress: 29%\rxmin progress: 30%\rxmin progress: 30%\rxmin progress: 30%\rxmin progress: 30%\rxmin progress: 30%\rxmin progress: 30%\rxmin progress: 30%\rxmin progress: 31%\rxmin progress: 31%\rxmin progress: 31%\rxmin progress: 31%\rxmin progress: 31%\rxmin progress: 31%\rxmin progress: 31%\rxmin progress: 32%\rxmin progress: 32%\rxmin progress: 32%\rxmin progress: 32%\rxmin progress: 32%\rxmin progress: 32%\rxmin progress: 32%\rxmin progress: 33%\rxmin progress: 33%\rxmin progress: 33%\rxmin progress: 33%\rxmin progress: 33%\rxmin progress: 33%\rxmin progress: 34%\rxmin progress: 34%\rxmin progress: 34%\rxmin progress: 34%\rxmin progress: 34%\rxmin progress: 34%\rxmin progress: 34%\rxmin progress: 35%\rxmin progress: 35%\rxmin progress: 35%\rxmin progress: 35%\rxmin progress: 35%\rxmin progress: 35%\rxmin progress: 35%\rxmin progress: 36%\rxmin progress: 36%\rxmin progress: 36%\rxmin progress: 36%\rxmin progress: 36%\rxmin progress: 36%\rxmin progress: 36%\rxmin progress: 37%\rxmin progress: 37%\rxmin progress: 37%\rxmin progress: 37%\rxmin progress: 37%\rxmin progress: 37%\rxmin progress: 37%\rxmin progress: 38%\rxmin progress: 38%\rxmin progress: 38%\rxmin progress: 38%\rxmin progress: 38%\rxmin progress: 38%\rxmin progress: 39%\rxmin progress: 39%\rxmin progress: 39%\rxmin progress: 39%\rxmin progress: 39%\rxmin progress: 39%\rxmin progress: 39%\rxmin progress: 40%\rxmin progress: 40%\rxmin progress: 40%\rxmin progress: 40%\rxmin progress: 40%\rxmin progress: 40%\rxmin progress: 40%\rxmin progress: 41%\rxmin progress: 41%\rxmin progress: 41%\rxmin progress: 41%\rxmin progress: 41%\rxmin progress: 41%\rxmin progress: 41%\rxmin progress: 42%\rxmin progress: 42%\rxmin progress: 42%\rxmin progress: 42%\rxmin progress: 42%\rxmin progress: 42%\rxmin progress: 43%\rxmin progress: 43%\rxmin progress: 43%\rxmin progress: 43%\rxmin progress: 43%\rxmin progress: 43%\rxmin progress: 43%\rxmin progress: 44%\rxmin progress: 44%\rxmin progress: 44%\rxmin progress: 44%\rxmin progress: 44%\rxmin progress: 44%\rxmin progress: 44%\rxmin progress: 45%\rxmin progress: 45%\rxmin progress: 45%\rxmin progress: 45%\rxmin progress: 45%\rxmin progress: 45%\rxmin progress: 45%\rxmin progress: 46%\rxmin progress: 46%\rxmin progress: 46%\rxmin progress: 46%\rxmin progress: 46%\rxmin progress: 46%\rxmin progress: 46%\rxmin progress: 47%\rxmin progress: 47%\rxmin progress: 47%\rxmin progress: 47%\rxmin progress: 47%\rxmin progress: 47%\rxmin progress: 48%\rxmin progress: 48%\rxmin progress: 48%\rxmin progress: 48%\rxmin progress: 48%\rxmin progress: 48%\rxmin progress: 48%\rxmin progress: 49%\rxmin progress: 49%\rxmin progress: 49%\rxmin progress: 49%\rxmin progress: 49%\rxmin progress: 49%\rxmin progress: 49%\rxmin progress: 50%\rxmin progress: 50%\rxmin progress: 50%\rxmin progress: 50%\rxmin progress: 50%\rxmin progress: 50%\rxmin progress: 50%\rxmin progress: 51%\rxmin progress: 51%\rxmin progress: 51%\rxmin progress: 51%\rxmin progress: 51%\rxmin progress: 51%\rxmin progress: 51%\rxmin progress: 52%\rxmin progress: 52%\rxmin progress: 52%\rxmin progress: 52%\rxmin progress: 52%\rxmin progress: 52%\rxmin progress: 53%\rxmin progress: 53%\rxmin progress: 53%\rxmin progress: 53%\rxmin progress: 53%\rxmin progress: 53%\rxmin progress: 53%\rxmin progress: 54%\rxmin progress: 54%\rxmin progress: 54%\rxmin progress: 54%\rxmin progress: 54%\rxmin progress: 54%\rxmin progress: 54%\rxmin progress: 55%\rxmin progress: 55%\rxmin progress: 55%\rxmin progress: 55%\rxmin progress: 55%\rxmin progress: 55%\rxmin progress: 55%\rxmin progress: 56%\rxmin progress: 56%\rxmin progress: 56%\r"
     ]
    },
    {
     "data": {
      "text/plain": [
       "614.0"
      ]
     },
     "metadata": {},
     "output_type": "display_data"
    }
   ],
   "source": [
    "side = 5\n",
    "degrees_alpha=[]\n",
    "degrees_xmin=[]\n",
    "\n",
    "df, df_cubes = region_cube_split(df,side=side)\n",
    "MG = create_network(df, df_cubes)\n",
    "degrees=[]\n",
    "for i in 1:nv(MG)\n",
    "    push!(degrees, get_prop(MG, i, :degree))\n",
    "end\n",
    "\n",
    "fit_degrees = powlaw.Fit(degrees);\n",
    "alpha = round(fit_degrees.alpha, digits=4)\n",
    "xmin = fit_degrees.xmin"
   ]
  },
  {
   "cell_type": "code",
   "execution_count": 33,
   "metadata": {},
   "outputs": [
    {
     "data": {
      "text/plain": [
       "2.2599"
      ]
     },
     "metadata": {},
     "output_type": "display_data"
    }
   ],
   "source": [
    "alpha"
   ]
  },
  {
   "cell_type": "code",
   "execution_count": 37,
   "metadata": {},
   "outputs": [
    {
     "data": {
      "image/png": "[encoded data removed]",
      "image/svg+xml": [
       "<?xml version=\"1.0\" encoding=\"utf-8\"?>\n",
       "<svg xmlns=\"http://www.w3.org/2000/svg\" xmlns:xlink=\"http://www.w3.org/1999/xlink\" width=\"600\" height=\"400\" viewBox=\"0 0 2400 1600\">\n",
       "<defs>\n",
       "  <clipPath id=\"clip910\">\n",
       "    <rect x=\"0\" y=\"0\" width=\"2400\" height=\"1600\"/>\n",
       "  </clipPath>\n",
       "</defs>\n",
       "<path clip-path=\"url(#clip910)\" d=\"\n",
       "M0 1600 L2400 1600 L2400 0 L0 0  Z\n",
       "  \" fill=\"#ffffff\" fill-rule=\"evenodd\" fill-opacity=\"1\"/>\n",
       "<defs>\n",
       "  <clipPath id=\"clip911\">\n",
       "    <rect x=\"480\" y=\"0\" width=\"1681\" height=\"1600\"/>\n",
       "  </clipPath>\n",
       "</defs>\n",
       "<path clip-path=\"url(#clip910)\" d=\"\n",
       "M251.372 1410.9 L2352.76 1410.9 L2352.76 47.2441 L251.372 47.2441  Z\n",
       "  \" fill=\"#ffffff\" fill-rule=\"evenodd\" fill-opacity=\"1\"/>\n",
       "<defs>\n",
       "  <clipPath id=\"clip912\">\n",
       "    <rect x=\"251\" y=\"47\" width=\"2102\" height=\"1365\"/>\n",
       "  </clipPath>\n",
       "</defs>\n",
       "<polyline clip-path=\"url(#clip912)\" style=\"stroke:#000000; stroke-linecap:round; stroke-linejoin:round; stroke-width:2; stroke-opacity:0.1; fill:none\" points=\"\n",
       "  595.053,1410.9 595.053,47.2441 \n",
       "  \"/>\n",
       "<polyline clip-path=\"url(#clip912)\" style=\"stroke:#000000; stroke-linecap:round; stroke-linejoin:round; stroke-width:2; stroke-opacity:0.1; fill:none\" points=\"\n",
       "  1936.72,1410.9 1936.72,47.2441 \n",
       "  \"/>\n",
       "<polyline clip-path=\"url(#clip910)\" style=\"stroke:#000000; stroke-linecap:round; stroke-linejoin:round; stroke-width:4; stroke-opacity:1; fill:none\" points=\"\n",
       "  251.372,1410.9 2352.76,1410.9 \n",
       "  \"/>\n",
       "<polyline clip-path=\"url(#clip910)\" style=\"stroke:#000000; stroke-linecap:round; stroke-linejoin:round; stroke-width:4; stroke-opacity:1; fill:none\" points=\"\n",
       "  595.053,1410.9 595.053,1392 \n",
       "  \"/>\n",
       "<polyline clip-path=\"url(#clip910)\" style=\"stroke:#000000; stroke-linecap:round; stroke-linejoin:round; stroke-width:4; stroke-opacity:1; fill:none\" points=\"\n",
       "  1936.72,1410.9 1936.72,1392 \n",
       "  \"/>\n",
       "<path clip-path=\"url(#clip910)\" d=\"M560.496 1485.02 L568.135 1485.02 L568.135 1458.66 L559.825 1460.32 L559.825 1456.06 L568.089 1454.4 L572.765 1454.4 L572.765 1485.02 L580.404 1485.02 L580.404 1488.96 L560.496 1488.96 L560.496 1485.02 Z\" fill=\"#000000\" fill-rule=\"evenodd\" fill-opacity=\"1\" /><path clip-path=\"url(#clip910)\" d=\"M599.848 1457.48 Q596.237 1457.48 594.408 1461.04 Q592.603 1464.58 592.603 1471.71 Q592.603 1478.82 594.408 1482.38 Q596.237 1485.92 599.848 1485.92 Q603.482 1485.92 605.288 1482.38 Q607.117 1478.82 607.117 1471.71 Q607.117 1464.58 605.288 1461.04 Q603.482 1457.48 599.848 1457.48 M599.848 1453.77 Q605.658 1453.77 608.714 1458.38 Q611.792 1462.96 611.792 1471.71 Q611.792 1480.44 608.714 1485.04 Q605.658 1489.63 599.848 1489.63 Q594.038 1489.63 590.959 1485.04 Q587.904 1480.44 587.904 1471.71 Q587.904 1462.96 590.959 1458.38 Q594.038 1453.77 599.848 1453.77 Z\" fill=\"#000000\" fill-rule=\"evenodd\" fill-opacity=\"1\" /><path clip-path=\"url(#clip910)\" d=\"M624.488 1446.41 Q627.215 1446.99 628.738 1448.83 Q630.281 1450.68 630.281 1453.38 Q630.281 1457.54 627.422 1459.82 Q624.563 1462.09 619.297 1462.09 Q617.529 1462.09 615.648 1461.73 Q613.786 1461.4 611.792 1460.7 L611.792 1457.03 Q613.372 1457.95 615.253 1458.42 Q617.134 1458.89 619.184 1458.89 Q622.757 1458.89 624.619 1457.48 Q626.5 1456.07 626.5 1453.38 Q626.5 1450.9 624.751 1449.51 Q623.021 1448.1 619.917 1448.1 L616.645 1448.1 L616.645 1444.98 L620.068 1444.98 Q622.87 1444.98 624.356 1443.87 Q625.842 1442.74 625.842 1440.63 Q625.842 1438.47 624.3 1437.32 Q622.776 1436.16 619.917 1436.16 Q618.356 1436.16 616.57 1436.49 Q614.783 1436.83 612.639 1437.55 L612.639 1434.16 Q614.802 1433.56 616.683 1433.26 Q618.582 1432.96 620.256 1432.96 Q624.582 1432.96 627.102 1434.93 Q629.622 1436.89 629.622 1440.24 Q629.622 1442.57 628.287 1444.19 Q626.952 1445.79 624.488 1446.41 Z\" fill=\"#000000\" fill-rule=\"evenodd\" fill-opacity=\"1\" /><path clip-path=\"url(#clip910)\" d=\"M1901.18 1485.02 L1908.82 1485.02 L1908.82 1458.66 L1900.5 1460.32 L1900.5 1456.06 L1908.77 1454.4 L1913.44 1454.4 L1913.44 1485.02 L1921.08 1485.02 L1921.08 1488.96 L1901.18 1488.96 L1901.18 1485.02 Z\" fill=\"#000000\" fill-rule=\"evenodd\" fill-opacity=\"1\" /><path clip-path=\"url(#clip910)\" d=\"M1940.53 1457.48 Q1936.92 1457.48 1935.09 1461.04 Q1933.28 1464.58 1933.28 1471.71 Q1933.28 1478.82 1935.09 1482.38 Q1936.92 1485.92 1940.53 1485.92 Q1944.16 1485.92 1945.97 1482.38 Q1947.8 1478.82 1947.8 1471.71 Q1947.8 1464.58 1945.97 1461.04 Q1944.16 1457.48 1940.53 1457.48 M1940.53 1453.77 Q1946.34 1453.77 1949.39 1458.38 Q1952.47 1462.96 1952.47 1471.71 Q1952.47 1480.44 1949.39 1485.04 Q1946.34 1489.63 1940.53 1489.63 Q1934.72 1489.63 1931.64 1485.04 Q1928.58 1480.44 1928.58 1471.71 Q1928.58 1462.96 1931.64 1458.38 Q1934.72 1453.77 1940.53 1453.77 Z\" fill=\"#000000\" fill-rule=\"evenodd\" fill-opacity=\"1\" /><path clip-path=\"url(#clip910)\" d=\"M1965.15 1436.78 L1955.56 1451.77 L1965.15 1451.77 L1965.15 1436.78 M1964.15 1433.47 L1968.93 1433.47 L1968.93 1451.77 L1972.94 1451.77 L1972.94 1454.93 L1968.93 1454.93 L1968.93 1461.55 L1965.15 1461.55 L1965.15 1454.93 L1952.47 1454.93 L1952.47 1451.26 L1964.15 1433.47 Z\" fill=\"#000000\" fill-rule=\"evenodd\" fill-opacity=\"1\" /><path clip-path=\"url(#clip910)\" d=\"M1286.25 1524.66 L1292.13 1524.66 L1292.13 1553.91 L1309.61 1538.54 L1317.09 1538.54 L1298.18 1555.22 L1317.88 1574.19 L1310.24 1574.19 L1292.13 1556.78 L1292.13 1574.19 L1286.25 1574.19 L1286.25 1524.66 Z\" fill=\"#000000\" fill-rule=\"evenodd\" fill-opacity=\"1\" /><polyline clip-path=\"url(#clip912)\" style=\"stroke:#000000; stroke-linecap:round; stroke-linejoin:round; stroke-width:2; stroke-opacity:0.1; fill:none\" points=\"\n",
       "  251.372,1035.51 2352.76,1035.51 \n",
       "  \"/>\n",
       "<polyline clip-path=\"url(#clip912)\" style=\"stroke:#000000; stroke-linecap:round; stroke-linejoin:round; stroke-width:2; stroke-opacity:0.1; fill:none\" points=\"\n",
       "  251.372,560.676 2352.76,560.676 \n",
       "  \"/>\n",
       "<polyline clip-path=\"url(#clip912)\" style=\"stroke:#000000; stroke-linecap:round; stroke-linejoin:round; stroke-width:2; stroke-opacity:0.1; fill:none\" points=\"\n",
       "  251.372,85.838 2352.76,85.838 \n",
       "  \"/>\n",
       "<polyline clip-path=\"url(#clip910)\" style=\"stroke:#000000; stroke-linecap:round; stroke-linejoin:round; stroke-width:4; stroke-opacity:1; fill:none\" points=\"\n",
       "  251.372,1410.9 251.372,47.2441 \n",
       "  \"/>\n",
       "<polyline clip-path=\"url(#clip910)\" style=\"stroke:#000000; stroke-linecap:round; stroke-linejoin:round; stroke-width:4; stroke-opacity:1; fill:none\" points=\"\n",
       "  251.372,1035.51 270.27,1035.51 \n",
       "  \"/>\n",
       "<polyline clip-path=\"url(#clip910)\" style=\"stroke:#000000; stroke-linecap:round; stroke-linejoin:round; stroke-width:4; stroke-opacity:1; fill:none\" points=\"\n",
       "  251.372,560.676 270.27,560.676 \n",
       "  \"/>\n",
       "<polyline clip-path=\"url(#clip910)\" style=\"stroke:#000000; stroke-linecap:round; stroke-linejoin:round; stroke-width:4; stroke-opacity:1; fill:none\" points=\"\n",
       "  251.372,85.838 270.27,85.838 \n",
       "  \"/>\n",
       "<path clip-path=\"url(#clip910)\" d=\"M115.232 1055.31 L122.871 1055.31 L122.871 1028.94 L114.561 1030.61 L114.561 1026.35 L122.825 1024.68 L127.501 1024.68 L127.501 1055.31 L135.14 1055.31 L135.14 1059.24 L115.232 1059.24 L115.232 1055.31 Z\" fill=\"#000000\" fill-rule=\"evenodd\" fill-opacity=\"1\" /><path clip-path=\"url(#clip910)\" d=\"M154.584 1027.76 Q150.973 1027.76 149.144 1031.33 Q147.339 1034.87 147.339 1042 Q147.339 1049.1 149.144 1052.67 Q150.973 1056.21 154.584 1056.21 Q158.218 1056.21 160.024 1052.67 Q161.852 1049.1 161.852 1042 Q161.852 1034.87 160.024 1031.33 Q158.218 1027.76 154.584 1027.76 M154.584 1024.06 Q160.394 1024.06 163.45 1028.66 Q166.528 1033.25 166.528 1042 Q166.528 1050.72 163.45 1055.33 Q160.394 1059.91 154.584 1059.91 Q148.774 1059.91 145.695 1055.33 Q142.64 1050.72 142.64 1042 Q142.64 1033.25 145.695 1028.66 Q148.774 1024.06 154.584 1024.06 Z\" fill=\"#000000\" fill-rule=\"evenodd\" fill-opacity=\"1\" /><path clip-path=\"url(#clip910)\" d=\"M166.528 1018.16 L190.64 1018.16 L190.64 1021.36 L166.528 1021.36 L166.528 1018.16 Z\" fill=\"#000000\" fill-rule=\"evenodd\" fill-opacity=\"1\" /><path clip-path=\"url(#clip910)\" d=\"M202.113 1028.63 L215.372 1028.63 L215.372 1031.83 L197.542 1031.83 L197.542 1028.63 Q199.705 1026.4 203.429 1022.63 Q207.172 1018.85 208.131 1017.76 Q209.956 1015.71 210.67 1014.3 Q211.404 1012.87 211.404 1011.5 Q211.404 1009.26 209.824 1007.85 Q208.263 1006.44 205.743 1006.44 Q203.956 1006.44 201.962 1007.06 Q199.987 1007.68 197.73 1008.94 L197.73 1005.11 Q200.025 1004.18 202.019 1003.71 Q204.012 1003.24 205.667 1003.24 Q210.031 1003.24 212.626 1005.43 Q215.222 1007.61 215.222 1011.26 Q215.222 1012.99 214.563 1014.55 Q213.924 1016.09 212.212 1018.2 Q211.742 1018.74 209.222 1021.36 Q206.702 1023.95 202.113 1028.63 Z\" fill=\"#000000\" fill-rule=\"evenodd\" fill-opacity=\"1\" /><path clip-path=\"url(#clip910)\" d=\"M114.931 580.469 L122.57 580.469 L122.57 554.103 L114.26 555.77 L114.26 551.51 L122.524 549.844 L127.2 549.844 L127.2 580.469 L134.839 580.469 L134.839 584.404 L114.931 584.404 L114.931 580.469 Z\" fill=\"#000000\" fill-rule=\"evenodd\" fill-opacity=\"1\" /><path clip-path=\"url(#clip910)\" d=\"M154.283 552.922 Q150.672 552.922 148.843 556.487 Q147.038 560.029 147.038 567.158 Q147.038 574.265 148.843 577.83 Q150.672 581.371 154.283 581.371 Q157.917 581.371 159.723 577.83 Q161.552 574.265 161.552 567.158 Q161.552 560.029 159.723 556.487 Q157.917 552.922 154.283 552.922 M154.283 549.219 Q160.093 549.219 163.149 553.825 Q166.227 558.409 166.227 567.158 Q166.227 575.885 163.149 580.492 Q160.093 585.075 154.283 585.075 Q148.473 585.075 145.394 580.492 Q142.339 575.885 142.339 567.158 Q142.339 558.409 145.394 553.825 Q148.473 549.219 154.283 549.219 Z\" fill=\"#000000\" fill-rule=\"evenodd\" fill-opacity=\"1\" /><path clip-path=\"url(#clip910)\" d=\"M166.227 543.32 L190.339 543.32 L190.339 546.517 L166.227 546.517 L166.227 543.32 Z\" fill=\"#000000\" fill-rule=\"evenodd\" fill-opacity=\"1\" /><path clip-path=\"url(#clip910)\" d=\"M199.197 553.796 L205.404 553.796 L205.404 532.374 L198.652 533.728 L198.652 530.268 L205.366 528.913 L209.166 528.913 L209.166 553.796 L215.372 553.796 L215.372 556.993 L199.197 556.993 L199.197 553.796 Z\" fill=\"#000000\" fill-rule=\"evenodd\" fill-opacity=\"1\" /><path clip-path=\"url(#clip910)\" d=\"M144.667 105.63 L152.305 105.63 L152.305 79.2649 L143.995 80.9315 L143.995 76.6723 L152.259 75.0056 L156.935 75.0056 L156.935 105.63 L164.574 105.63 L164.574 109.566 L144.667 109.566 L144.667 105.63 Z\" fill=\"#000000\" fill-rule=\"evenodd\" fill-opacity=\"1\" /><path clip-path=\"url(#clip910)\" d=\"M184.018 78.0843 Q180.407 78.0843 178.578 81.6491 Q176.773 85.1908 176.773 92.3204 Q176.773 99.4268 178.578 102.992 Q180.407 106.533 184.018 106.533 Q187.652 106.533 189.458 102.992 Q191.287 99.4268 191.287 92.3204 Q191.287 85.1908 189.458 81.6491 Q187.652 78.0843 184.018 78.0843 M184.018 74.3806 Q189.828 74.3806 192.884 78.9871 Q195.963 83.5704 195.963 92.3204 Q195.963 101.047 192.884 105.654 Q189.828 110.237 184.018 110.237 Q178.208 110.237 175.129 105.654 Q172.074 101.047 172.074 92.3204 Q172.074 83.5704 175.129 78.9871 Q178.208 74.3806 184.018 74.3806 Z\" fill=\"#000000\" fill-rule=\"evenodd\" fill-opacity=\"1\" /><path clip-path=\"url(#clip910)\" d=\"M205.667 56.5767 Q202.733 56.5767 201.248 59.4731 Q199.781 62.3507 199.781 68.1434 Q199.781 73.9174 201.248 76.8138 Q202.733 79.6914 205.667 79.6914 Q208.62 79.6914 210.087 76.8138 Q211.573 73.9174 211.573 68.1434 Q211.573 62.3507 210.087 59.4731 Q208.62 56.5767 205.667 56.5767 M205.667 53.5674 Q210.388 53.5674 212.871 57.3102 Q215.372 61.0341 215.372 68.1434 Q215.372 75.234 212.871 78.9767 Q210.388 82.7007 205.667 82.7007 Q200.947 82.7007 198.445 78.9767 Q195.963 75.234 195.963 68.1434 Q195.963 61.0341 198.445 57.3102 Q200.947 53.5674 205.667 53.5674 Z\" fill=\"#000000\" fill-rule=\"evenodd\" fill-opacity=\"1\" /><path clip-path=\"url(#clip910)\" d=\"M21.7677 780.601 L39.6235 780.601 L39.6235 772.516 Q39.6235 768.028 37.3 765.578 Q34.9765 763.127 30.6797 763.127 Q26.4147 763.127 24.0912 765.578 Q21.7677 768.028 21.7677 772.516 L21.7677 780.601 M16.4842 787.03 L16.4842 772.516 Q16.4842 764.527 20.1126 760.453 Q23.7092 756.347 30.6797 756.347 Q37.7138 756.347 41.3104 760.453 Q44.907 764.527 44.907 772.516 L44.907 780.601 L64.0042 780.601 L64.0042 787.03 L16.4842 787.03 Z\" fill=\"#000000\" fill-rule=\"evenodd\" fill-opacity=\"1\" /><path clip-path=\"url(#clip910)\" d=\"M14.5426 733.908 Q21.8632 738.173 29.0246 740.242 Q36.186 742.311 43.5384 742.311 Q50.8908 742.311 58.1159 740.242 Q65.3091 738.142 72.5979 733.908 L72.5979 739.001 Q65.1182 743.775 57.8931 746.162 Q50.668 748.518 43.5384 748.518 Q36.4406 748.518 29.2474 746.162 Q22.0542 743.807 14.5426 739.001 L14.5426 733.908 Z\" fill=\"#000000\" fill-rule=\"evenodd\" fill-opacity=\"1\" /><path clip-path=\"url(#clip910)\" d=\"M14.479 722.768 L14.479 716.88 L43.7294 716.88 L28.3562 699.406 L28.3562 691.926 L45.0344 710.833 L64.0042 691.131 L64.0042 698.77 L46.5939 716.88 L64.0042 716.88 L64.0042 722.768 L14.479 722.768 Z\" fill=\"#000000\" fill-rule=\"evenodd\" fill-opacity=\"1\" /><path clip-path=\"url(#clip910)\" d=\"M14.5426 685.72 L14.5426 680.627 Q22.0542 675.853 29.2474 673.498 Q36.4406 671.111 43.5384 671.111 Q50.668 671.111 57.8931 673.498 Q65.1182 675.853 72.5979 680.627 L72.5979 685.72 Q65.3091 681.487 58.1159 679.418 Q50.8908 677.317 43.5384 677.317 Q36.186 677.317 29.0246 679.418 Q21.8632 681.487 14.5426 685.72 Z\" fill=\"#000000\" fill-rule=\"evenodd\" fill-opacity=\"1\" /><polyline clip-path=\"url(#clip912)\" style=\"stroke:#009af9; stroke-linecap:round; stroke-linejoin:round; stroke-width:10; stroke-opacity:1; fill:none\" points=\"\n",
       "  310.845,85.838 312.74,87.8618 314.629,88.6769 320.259,90.3168 322.123,90.7288 323.982,91.1417 325.835,91.9699 327.681,93.6363 329.522,94.4746 331.358,94.895 \n",
       "  333.187,95.7385 335.011,96.5854 336.829,97.8623 338.641,99.1471 340.448,100.44 342.249,100.873 345.835,101.741 349.399,102.177 351.172,102.613 354.704,103.489 \n",
       "  356.462,103.928 358.214,104.368 359.961,105.694 361.703,106.138 363.44,107.476 365.171,107.924 372.047,109.273 373.753,110.178 377.151,110.631 378.842,111.542 \n",
       "  383.887,111.998 385.559,113.375 387.226,113.836 390.546,114.298 392.199,114.76 393.847,115.224 397.13,116.155 398.765,117.091 400.394,118.03 402.02,119.447 \n",
       "  403.641,119.922 405.257,120.875 406.869,121.352 410.079,121.831 411.678,122.312 416.447,122.793 418.028,123.275 419.605,123.759 421.178,125.216 422.746,126.684 \n",
       "  424.311,128.162 427.427,128.657 430.526,129.154 432.07,129.651 435.144,130.65 436.676,131.151 438.203,133.168 439.726,133.675 441.246,134.184 442.761,135.205 \n",
       "  444.273,136.231 445.78,137.262 447.284,137.779 448.784,138.298 451.772,138.818 454.745,140.912 456.225,141.438 457.702,141.966 459.176,142.496 462.111,143.027 \n",
       "  463.573,144.092 466.487,145.701 469.386,146.241 470.83,146.781 472.27,147.323 473.707,147.866 476.57,148.411 479.42,149.505 480.839,151.711 482.255,152.823 \n",
       "  483.668,153.94 485.077,155.628 486.483,156.194 487.885,157.33 490.68,160.199 492.072,161.357 493.461,163.107 494.847,163.694 496.229,164.282 497.608,164.872 \n",
       "  498.984,165.464 500.357,166.057 503.092,166.653 505.815,167.249 508.525,167.848 511.223,168.448 519.241,170.26 520.567,170.867 521.89,171.477 524.526,172.7 \n",
       "  527.151,173.932 528.459,174.55 529.764,175.17 531.066,177.042 534.955,178.3 536.245,178.931 537.533,180.2 538.818,180.838 541.379,181.477 542.656,182.119 \n",
       "  546.468,182.762 547.733,183.407 548.996,184.055 555.268,184.704 556.515,186.665 558.999,187.323 562.707,189.309 565.165,189.975 567.614,191.987 570.052,193.34 \n",
       "  572.479,194.019 576.102,194.701 579.703,196.76 584.469,197.45 586.838,198.144 589.197,200.237 590.373,201.645 591.546,202.352 592.717,204.489 593.886,205.207 \n",
       "  595.053,205.926 597.379,206.649 600.851,208.831 603.154,209.564 606.591,211.037 610.009,211.777 611.144,212.52 614.535,213.266 615.661,214.015 616.784,214.766 \n",
       "  619.025,215.52 624.591,216.277 629.005,217.036 633.386,218.564 634.476,219.332 637.734,220.103 638.816,220.876 639.896,222.433 642.05,223.215 650.588,226.376 \n",
       "  652.703,227.174 663.164,227.975 667.297,228.779 668.325,229.586 672.422,230.396 678.512,232.026 680.529,232.846 681.534,233.669 683.54,236.996 685.539,237.836 \n",
       "  688.524,238.679 689.516,240.376 694.45,241.23 696.412,242.088 700.316,243.813 701.288,244.682 703.227,245.554 706.123,247.309 711.873,248.192 713.778,249.079 \n",
       "  714.727,249.97 716.622,250.864 717.567,251.763 725.074,253.572 726.005,254.482 727.864,255.397 731.564,256.315 734.323,258.165 737.069,259.096 737.982,260.031 \n",
       "  743.427,260.971 750.61,261.914 753.281,263.815 755.939,264.772 756.823,265.733 760.344,266.699 766.454,267.67 767.322,268.645 770.78,269.624 771.641,270.609 \n",
       "  775.074,271.598 777.635,272.592 780.185,273.59 781.033,274.594 783.568,277.634 788.605,278.657 789.441,279.686 791.108,280.72 791.94,281.759 793.6,282.803 \n",
       "  795.255,283.852 799.373,284.907 805.09,287.033 807.523,288.104 808.331,289.181 810.751,290.264 811.555,292.446 812.358,293.546 817.154,294.651 818.744,296.881 \n",
       "  819.537,299.135 820.329,300.271 821.91,301.413 822.699,302.562 825.06,303.717 825.845,306.048 828.973,307.223 831.309,308.404 836.722,309.593 839.793,311.991 \n",
       "  842.085,313.201 843.608,314.417 845.886,315.641 847.399,316.872 854.908,318.111 860.847,320.61 864.527,321.872 877.589,323.141 881.166,325.703 887.55,326.995 \n",
       "  893.864,328.296 894.562,329.606 896.649,330.924 900.111,332.25 900.801,334.928 921.129,336.28 921.795,337.641 922.459,339.012 923.123,340.391 926.432,343.178 \n",
       "  928.408,344.585 934.948,346.003 936.896,347.43 947.175,348.867 949.082,350.314 952.878,351.772 954.138,353.239 957.901,354.718 960.397,356.207 961.019,357.706 \n",
       "  962.261,360.739 965.356,362.272 967.819,363.817 969.047,365.373 970.885,366.942 971.496,368.522 972.106,370.114 984.183,373.336 985.973,374.967 988.944,376.61 \n",
       "  989.537,378.266 991.31,379.936 997.768,381.62 1002.42,383.317 1007.04,385.028 1013.32,386.754 1022.91,388.494 1025.14,390.249 1025.7,392.019 1029.03,393.805 \n",
       "  1029.58,395.606 1042.7,397.423 1047.54,399.256 1050.22,401.105 1051.28,402.972 1051.82,404.855 1059.74,406.756 1061.32,408.674 1066.53,410.61 1069.12,414.538 \n",
       "  1075.79,416.531 1082.39,418.543 1090.42,420.574 1091.91,422.626 1092.9,424.699 1094.39,426.793 1104.68,428.908 1111.93,431.045 1113.85,433.204 1120.5,435.386 \n",
       "  1120.98,437.592 1128.02,439.821 1130.35,442.075 1140.95,444.354 1143.23,446.658 1150.01,448.988 1155.38,451.345 1157.61,453.729 1160.71,456.141 1163.79,458.582 \n",
       "  1164.23,461.051 1166.42,463.551 1168.16,466.081 1173.37,468.643 1177.24,471.237 1178.1,473.864 1187.87,476.525 1190.39,481.952 1192.49,484.72 1206.53,487.526 \n",
       "  1208.57,490.37 1210.19,493.255 1213.02,496.18 1239.45,499.147 1240.6,502.158 1241.37,505.213 1256.17,508.314 1265.47,511.462 1268.04,514.66 1268.59,517.907 \n",
       "  1270.61,521.207 1274.61,524.56 1278.59,527.969 1284.69,531.435 1290.02,534.96 1297.4,538.546 1300.88,542.196 1305.72,545.912 1307.78,549.696 1312.9,553.551 \n",
       "  1315.27,557.479 1323.34,561.483 1323.68,565.567 1339.16,569.733 1341.75,573.985 1359.9,578.327 1361.16,582.762 1391.05,587.294 1396.67,591.929 1425.95,596.67 \n",
       "  1433.74,601.522 1445.23,606.491 1445.77,611.584 1449.28,616.805 1460.2,622.161 1476.35,627.661 1478.4,633.311 1494.55,639.12 1498.27,645.098 1541.4,651.254 \n",
       "  1554.79,657.6 1559.71,664.147 1562.82,670.909 1594.9,677.9 1616.9,685.137 1631.45,692.637 1644.68,700.419 1662.86,708.507 1717.8,716.926 1720,725.702 \n",
       "  1730.56,734.869 1754.62,744.463 1757.8,754.524 1764.41,765.102 1765.67,776.251 1770.49,788.039 1800.11,800.541 1808.88,813.85 1811.78,828.077 1840.65,843.36 \n",
       "  1875.59,859.866 1889.65,877.81 1892.43,897.465 1902.52,919.192 1952.58,943.481 1984.79,971.018 2006.07,1002.81 2055.44,1040.41 2068.79,1086.42 2132.44,1145.75 \n",
       "  2238.32,1229.36 2293.28,1372.3 \n",
       "  \"/>\n",
       "<polyline clip-path=\"url(#clip912)\" style=\"stroke:#ff0000; stroke-linecap:round; stroke-linejoin:round; stroke-width:4; stroke-opacity:1; fill:none\" stroke-dasharray=\"16, 10\" points=\"\n",
       "  310.845,85.838 312.74,86.6829 314.629,87.5251 320.259,90.0354 322.123,90.8668 323.982,91.6955 325.835,92.5216 327.681,93.3451 329.522,94.166 331.358,94.9843 \n",
       "  333.187,95.8 335.011,96.6132 336.829,97.4238 338.641,98.2319 340.448,99.0375 342.249,99.8407 345.835,101.439 349.399,103.029 351.172,103.819 354.704,105.394 \n",
       "  356.462,106.178 358.214,106.959 359.961,107.738 361.703,108.515 363.44,109.289 365.171,110.061 372.047,113.127 373.753,113.888 377.151,115.403 378.842,116.157 \n",
       "  383.887,118.406 385.559,119.152 387.226,119.895 390.546,121.376 392.199,122.113 393.847,122.848 397.13,124.311 398.765,125.04 400.394,125.767 402.02,126.492 \n",
       "  403.641,127.214 405.257,127.935 406.869,128.654 410.079,130.085 411.678,130.798 416.447,132.925 418.028,133.63 419.605,134.333 421.178,135.034 422.746,135.733 \n",
       "  424.311,136.431 427.427,137.82 430.526,139.202 432.07,139.89 435.144,141.261 436.676,141.944 438.203,142.625 439.726,143.305 441.246,143.982 442.761,144.658 \n",
       "  444.273,145.332 445.78,146.004 447.284,146.674 448.784,147.343 451.772,148.675 454.745,150.001 456.225,150.661 457.702,151.32 459.176,151.977 462.111,153.286 \n",
       "  463.573,153.938 466.487,155.237 469.386,156.529 470.83,157.173 472.27,157.815 473.707,158.456 476.57,159.733 479.42,161.003 480.839,161.636 482.255,162.268 \n",
       "  483.668,162.897 485.077,163.526 486.483,164.153 487.885,164.778 490.68,166.024 492.072,166.645 493.461,167.264 494.847,167.882 496.229,168.498 497.608,169.113 \n",
       "  498.984,169.727 500.357,170.339 503.092,171.559 505.815,172.773 508.525,173.981 511.223,175.184 519.241,178.759 520.567,179.35 521.89,179.94 524.526,181.116 \n",
       "  527.151,182.286 528.459,182.869 529.764,183.451 531.066,184.032 534.955,185.766 536.245,186.341 537.533,186.915 538.818,187.488 541.379,188.63 542.656,189.199 \n",
       "  546.468,190.899 547.733,191.464 548.996,192.027 555.268,194.823 556.515,195.379 558.999,196.487 562.707,198.14 565.165,199.236 567.614,200.328 570.052,201.415 \n",
       "  572.479,202.497 576.102,204.113 579.703,205.718 584.469,207.844 586.838,208.9 589.197,209.952 590.373,210.476 591.546,210.999 592.717,211.521 593.886,212.043 \n",
       "  595.053,212.563 597.379,213.6 600.851,215.148 603.154,216.175 606.591,217.708 610.009,219.231 611.144,219.737 614.535,221.249 615.661,221.751 616.784,222.252 \n",
       "  619.025,223.252 624.591,225.733 629.005,227.702 633.386,229.655 634.476,230.141 637.734,231.594 638.816,232.076 639.896,232.558 642.05,233.518 650.588,237.325 \n",
       "  652.703,238.268 663.164,242.933 667.297,244.775 668.325,245.234 672.422,247.06 678.512,249.776 680.529,250.675 681.534,251.124 683.54,252.018 685.539,252.909 \n",
       "  688.524,254.24 689.516,254.683 694.45,256.883 696.412,257.757 700.316,259.498 701.288,259.932 703.227,260.796 706.123,262.088 711.873,264.652 713.778,265.501 \n",
       "  714.727,265.924 716.622,266.769 717.567,267.19 725.074,270.537 726.005,270.953 727.864,271.782 731.564,273.431 734.323,274.662 737.069,275.886 737.982,276.293 \n",
       "  743.427,278.721 750.61,281.924 753.281,283.115 755.939,284.3 756.823,284.694 760.344,286.264 766.454,288.988 767.322,289.375 770.78,290.917 771.641,291.301 \n",
       "  775.074,292.832 777.635,293.974 780.185,295.111 781.033,295.489 783.568,296.619 788.605,298.865 789.441,299.238 791.108,299.981 791.94,300.352 793.6,301.092 \n",
       "  795.255,301.83 799.373,303.667 805.09,306.216 807.523,307.3 808.331,307.661 810.751,308.74 811.555,309.098 812.358,309.456 817.154,311.595 818.744,312.304 \n",
       "  819.537,312.657 820.329,313.011 821.91,313.716 822.699,314.068 825.06,315.12 825.845,315.47 828.973,316.865 831.309,317.906 836.722,320.32 839.793,321.689 \n",
       "  842.085,322.711 843.608,323.391 845.886,324.406 847.399,325.081 854.908,328.429 860.847,331.077 864.527,332.718 877.589,338.542 881.166,340.137 887.55,342.984 \n",
       "  893.864,345.799 894.562,346.11 896.649,347.041 900.111,348.584 900.801,348.892 921.129,357.956 921.795,358.253 922.459,358.549 923.123,358.845 926.432,360.321 \n",
       "  928.408,361.202 934.948,364.118 936.896,364.986 947.175,369.57 949.082,370.42 952.878,372.113 954.138,372.674 957.901,374.352 960.397,375.465 961.019,375.742 \n",
       "  962.261,376.296 965.356,377.676 967.819,378.775 969.047,379.322 970.885,380.141 971.496,380.414 972.106,380.686 984.183,386.071 985.973,386.869 988.944,388.194 \n",
       "  989.537,388.458 991.31,389.249 997.768,392.129 1002.42,394.203 1007.04,396.261 1013.32,399.064 1022.91,403.338 1025.14,404.333 1025.7,404.582 1029.03,406.066 \n",
       "  1029.58,406.313 1042.7,412.162 1047.54,414.322 1050.22,415.515 1051.28,415.99 1051.82,416.228 1059.74,419.762 1061.32,420.464 1066.53,422.788 1069.12,423.942 \n",
       "  1075.79,426.919 1082.39,429.862 1090.42,433.44 1091.91,434.105 1092.9,434.548 1094.39,435.21 1104.68,439.801 1111.93,443.031 1113.85,443.886 1120.5,446.855 \n",
       "  1120.98,447.066 1128.02,450.208 1130.35,451.246 1140.95,455.972 1143.23,456.988 1150.01,460.013 1155.38,462.407 1157.61,463.399 1160.71,464.78 1163.79,466.154 \n",
       "  1164.23,466.35 1166.42,467.326 1168.16,468.105 1173.37,470.426 1177.24,472.154 1178.1,472.536 1187.87,476.893 1190.39,478.018 1192.49,478.952 1206.53,485.212 \n",
       "  1208.57,486.12 1210.19,486.845 1213.02,488.107 1239.45,499.891 1240.6,500.406 1241.37,500.749 1256.17,507.348 1265.47,511.492 1268.04,512.641 1268.59,512.886 \n",
       "  1270.61,513.784 1274.61,515.571 1278.59,517.345 1284.69,520.064 1290.02,522.44 1297.4,525.729 1300.88,527.282 1305.72,529.439 1307.78,530.358 1312.9,532.642 \n",
       "  1315.27,533.701 1323.34,537.299 1323.68,537.448 1339.16,544.349 1341.75,545.506 1359.9,553.601 1361.16,554.16 1391.05,567.486 1396.67,569.992 1425.95,583.05 \n",
       "  1433.74,586.522 1445.23,591.645 1445.77,591.887 1449.28,593.451 1460.2,598.323 1476.35,605.521 1478.4,606.435 1494.55,613.637 1498.27,615.296 1541.4,634.527 \n",
       "  1554.79,640.5 1559.71,642.692 1562.82,644.078 1594.9,658.384 1616.9,668.193 1631.45,674.679 1644.68,680.578 1662.86,688.684 1717.8,713.182 1720,714.164 \n",
       "  1730.56,718.869 1754.62,729.6 1757.8,731.016 1764.41,733.966 1765.67,734.525 1770.49,736.676 1800.11,749.881 1808.88,753.793 1811.78,755.084 1840.65,767.96 \n",
       "  1875.59,783.537 1889.65,789.809 1892.43,791.046 1902.52,795.548 1952.58,817.869 1984.79,832.23 2006.07,841.72 2055.44,863.734 2068.79,869.683 2132.44,898.066 \n",
       "  2238.32,945.274 2293.28,969.783 \n",
       "  \"/>\n",
       "<path clip-path=\"url(#clip910)\" d=\"\n",
       "M1544.31 196.379 L2282.71 196.379 L2282.71 92.6992 L1544.31 92.6992  Z\n",
       "  \" fill=\"#ffffff\" fill-rule=\"evenodd\" fill-opacity=\"1\"/>\n",
       "<polyline clip-path=\"url(#clip910)\" style=\"stroke:#000000; stroke-linecap:round; stroke-linejoin:round; stroke-width:4; stroke-opacity:1; fill:none\" points=\"\n",
       "  1544.31,196.379 2282.71,196.379 2282.71,92.6992 1544.31,92.6992 1544.31,196.379 \n",
       "  \"/>\n",
       "<polyline clip-path=\"url(#clip910)\" style=\"stroke:#009af9; stroke-linecap:round; stroke-linejoin:round; stroke-width:10; stroke-opacity:1; fill:none\" points=\"\n",
       "  1567.66,144.539 1707.75,144.539 \n",
       "  \"/>\n",
       "<path clip-path=\"url(#clip910)\" d=\"M1749.53 136.657 L1749.53 140.685 Q1747.72 139.759 1745.78 139.296 Q1743.83 138.833 1741.75 138.833 Q1738.58 138.833 1736.98 139.805 Q1735.41 140.778 1735.41 142.722 Q1735.41 144.204 1736.54 145.06 Q1737.67 145.893 1741.1 146.657 L1742.56 146.981 Q1747.1 147.954 1748.99 149.736 Q1750.91 151.495 1750.91 154.666 Q1750.91 158.278 1748.04 160.384 Q1745.2 162.49 1740.2 162.49 Q1738.11 162.49 1735.85 162.074 Q1733.6 161.68 1731.1 160.87 L1731.1 156.472 Q1733.46 157.699 1735.75 158.324 Q1738.04 158.926 1740.29 158.926 Q1743.3 158.926 1744.92 157.907 Q1746.54 156.866 1746.54 154.991 Q1746.54 153.254 1745.36 152.328 Q1744.2 151.403 1740.24 150.546 L1738.76 150.199 Q1734.8 149.366 1733.04 147.653 Q1731.29 145.916 1731.29 142.907 Q1731.29 139.25 1733.88 137.259 Q1736.47 135.268 1741.24 135.268 Q1743.6 135.268 1745.68 135.616 Q1747.77 135.963 1749.53 136.657 Z\" fill=\"#000000\" fill-rule=\"evenodd\" fill-opacity=\"1\" /><path clip-path=\"url(#clip910)\" d=\"M1757.7 135.893 L1761.96 135.893 L1761.96 161.819 L1757.7 161.819 L1757.7 135.893 M1757.7 125.801 L1761.96 125.801 L1761.96 131.194 L1757.7 131.194 L1757.7 125.801 Z\" fill=\"#000000\" fill-rule=\"evenodd\" fill-opacity=\"1\" /><path clip-path=\"url(#clip910)\" d=\"M1787.93 139.829 L1787.93 125.801 L1792.19 125.801 L1792.19 161.819 L1787.93 161.819 L1787.93 157.93 Q1786.59 160.245 1784.53 161.379 Q1782.49 162.49 1779.62 162.49 Q1774.92 162.49 1771.96 158.74 Q1769.02 154.991 1769.02 148.879 Q1769.02 142.768 1771.96 139.018 Q1774.92 135.268 1779.62 135.268 Q1782.49 135.268 1784.53 136.403 Q1786.59 137.514 1787.93 139.829 M1773.41 148.879 Q1773.41 153.578 1775.34 156.264 Q1777.28 158.926 1780.66 158.926 Q1784.04 158.926 1785.98 156.264 Q1787.93 153.578 1787.93 148.879 Q1787.93 144.18 1785.98 141.518 Q1784.04 138.833 1780.66 138.833 Q1777.28 138.833 1775.34 141.518 Q1773.41 144.18 1773.41 148.879 Z\" fill=\"#000000\" fill-rule=\"evenodd\" fill-opacity=\"1\" /><path clip-path=\"url(#clip910)\" d=\"M1823.14 147.791 L1823.14 149.875 L1803.55 149.875 Q1803.83 154.273 1806.19 156.588 Q1808.58 158.879 1812.81 158.879 Q1815.27 158.879 1817.56 158.278 Q1819.87 157.676 1822.14 156.472 L1822.14 160.5 Q1819.85 161.472 1817.44 161.981 Q1815.03 162.49 1812.56 162.49 Q1806.35 162.49 1802.72 158.879 Q1799.11 155.268 1799.11 149.111 Q1799.11 142.745 1802.53 139.018 Q1805.98 135.268 1811.82 135.268 Q1817.05 135.268 1820.08 138.648 Q1823.14 142.004 1823.14 147.791 M1818.88 146.541 Q1818.83 143.046 1816.91 140.963 Q1815.01 138.879 1811.86 138.879 Q1808.3 138.879 1806.15 140.893 Q1804.02 142.907 1803.69 146.565 L1818.88 146.541 Z\" fill=\"#000000\" fill-rule=\"evenodd\" fill-opacity=\"1\" /><path clip-path=\"url(#clip910)\" d=\"M1830.68 140.292 L1860.36 140.292 L1860.36 144.18 L1830.68 144.18 L1830.68 140.292 M1830.68 149.736 L1860.36 149.736 L1860.36 153.671 L1830.68 153.671 L1830.68 149.736 Z\" fill=\"#000000\" fill-rule=\"evenodd\" fill-opacity=\"1\" /><path clip-path=\"url(#clip910)\" d=\"M1870.5 127.259 L1888.85 127.259 L1888.85 131.194 L1874.78 131.194 L1874.78 139.667 Q1875.8 139.319 1876.82 139.157 Q1877.84 138.972 1878.85 138.972 Q1884.64 138.972 1888.02 142.143 Q1891.4 145.315 1891.4 150.731 Q1891.4 156.31 1887.93 159.412 Q1884.46 162.49 1878.14 162.49 Q1875.96 162.49 1873.69 162.12 Q1871.45 161.75 1869.04 161.009 L1869.04 156.31 Q1871.12 157.444 1873.34 158 Q1875.57 158.555 1878.04 158.555 Q1882.05 158.555 1884.39 156.449 Q1886.72 154.342 1886.72 150.731 Q1886.72 147.12 1884.39 145.014 Q1882.05 142.907 1878.04 142.907 Q1876.17 142.907 1874.29 143.324 Q1872.44 143.741 1870.5 144.62 L1870.5 127.259 Z\" fill=\"#000000\" fill-rule=\"evenodd\" fill-opacity=\"1\" /><path clip-path=\"url(#clip910)\" d=\"M1901.1 155.94 L1905.98 155.94 L1905.98 159.921 L1902.19 167.328 L1899.2 167.328 L1901.1 159.921 L1901.1 155.94 Z\" fill=\"#000000\" fill-rule=\"evenodd\" fill-opacity=\"1\" /><path clip-path=\"url(#clip910)\" d=\"M1941.93 148.787 Q1936.77 148.787 1934.78 149.967 Q1932.79 151.148 1932.79 153.995 Q1932.79 156.264 1934.27 157.606 Q1935.77 158.926 1938.34 158.926 Q1941.89 158.926 1944.02 156.426 Q1946.17 153.903 1946.17 149.736 L1946.17 148.787 L1941.93 148.787 M1950.43 147.028 L1950.43 161.819 L1946.17 161.819 L1946.17 157.884 Q1944.71 160.245 1942.53 161.379 Q1940.36 162.49 1937.21 162.49 Q1933.23 162.49 1930.87 160.268 Q1928.53 158.023 1928.53 154.273 Q1928.53 149.898 1931.45 147.676 Q1934.39 145.454 1940.2 145.454 L1946.17 145.454 L1946.17 145.037 Q1946.17 142.097 1944.22 140.5 Q1942.3 138.879 1938.81 138.879 Q1936.59 138.879 1934.48 139.412 Q1932.37 139.944 1930.43 141.009 L1930.43 137.074 Q1932.77 136.171 1934.96 135.731 Q1937.16 135.268 1939.25 135.268 Q1944.87 135.268 1947.65 138.185 Q1950.43 141.102 1950.43 147.028 Z\" fill=\"#000000\" fill-rule=\"evenodd\" fill-opacity=\"1\" /><path clip-path=\"url(#clip910)\" d=\"M1959.2 125.801 L1963.46 125.801 L1963.46 161.819 L1959.2 161.819 L1959.2 125.801 Z\" fill=\"#000000\" fill-rule=\"evenodd\" fill-opacity=\"1\" /><path clip-path=\"url(#clip910)\" d=\"M1976.49 157.93 L1976.49 171.68 L1972.21 171.68 L1972.21 135.893 L1976.49 135.893 L1976.49 139.829 Q1977.83 137.514 1979.87 136.403 Q1981.93 135.268 1984.78 135.268 Q1989.5 135.268 1992.44 139.018 Q1995.4 142.768 1995.4 148.879 Q1995.4 154.991 1992.44 158.74 Q1989.5 162.49 1984.78 162.49 Q1981.93 162.49 1979.87 161.379 Q1977.83 160.245 1976.49 157.93 M1990.98 148.879 Q1990.98 144.18 1989.04 141.518 Q1987.12 138.833 1983.74 138.833 Q1980.36 138.833 1978.41 141.518 Q1976.49 144.18 1976.49 148.879 Q1976.49 153.578 1978.41 156.264 Q1980.36 158.926 1983.74 158.926 Q1987.12 158.926 1989.04 156.264 Q1990.98 153.578 1990.98 148.879 Z\" fill=\"#000000\" fill-rule=\"evenodd\" fill-opacity=\"1\" /><path clip-path=\"url(#clip910)\" d=\"M2024.02 146.171 L2024.02 161.819 L2019.76 161.819 L2019.76 146.31 Q2019.76 142.629 2018.32 140.801 Q2016.89 138.972 2014.02 138.972 Q2010.57 138.972 2008.58 141.171 Q2006.58 143.37 2006.58 147.166 L2006.58 161.819 L2002.3 161.819 L2002.3 125.801 L2006.58 125.801 L2006.58 139.921 Q2008.11 137.583 2010.17 136.426 Q2012.26 135.268 2014.96 135.268 Q2019.43 135.268 2021.72 138.046 Q2024.02 140.801 2024.02 146.171 Z\" fill=\"#000000\" fill-rule=\"evenodd\" fill-opacity=\"1\" /><path clip-path=\"url(#clip910)\" d=\"M2044.29 148.787 Q2039.13 148.787 2037.14 149.967 Q2035.15 151.148 2035.15 153.995 Q2035.15 156.264 2036.63 157.606 Q2038.14 158.926 2040.7 158.926 Q2044.25 158.926 2046.38 156.426 Q2048.53 153.903 2048.53 149.736 L2048.53 148.787 L2044.29 148.787 M2052.79 147.028 L2052.79 161.819 L2048.53 161.819 L2048.53 157.884 Q2047.07 160.245 2044.89 161.379 Q2042.72 162.49 2039.57 162.49 Q2035.59 162.49 2033.23 160.268 Q2030.89 158.023 2030.89 154.273 Q2030.89 149.898 2033.81 147.676 Q2036.75 145.454 2042.56 145.454 L2048.53 145.454 L2048.53 145.037 Q2048.53 142.097 2046.58 140.5 Q2044.66 138.879 2041.17 138.879 Q2038.95 138.879 2036.84 139.412 Q2034.73 139.944 2032.79 141.009 L2032.79 137.074 Q2035.13 136.171 2037.33 135.731 Q2039.52 135.268 2041.61 135.268 Q2047.23 135.268 2050.01 138.185 Q2052.79 141.102 2052.79 147.028 Z\" fill=\"#000000\" fill-rule=\"evenodd\" fill-opacity=\"1\" /><path clip-path=\"url(#clip910)\" d=\"M2062.12 140.292 L2091.79 140.292 L2091.79 144.18 L2062.12 144.18 L2062.12 140.292 M2062.12 149.736 L2091.79 149.736 L2091.79 153.671 L2062.12 153.671 L2062.12 149.736 Z\" fill=\"#000000\" fill-rule=\"evenodd\" fill-opacity=\"1\" /><path clip-path=\"url(#clip910)\" d=\"M2105.91 157.884 L2122.23 157.884 L2122.23 161.819 L2100.29 161.819 L2100.29 157.884 Q2102.95 155.129 2107.53 150.5 Q2112.14 145.847 2113.32 144.504 Q2115.57 141.981 2116.45 140.245 Q2117.35 138.486 2117.35 136.796 Q2117.35 134.042 2115.4 132.305 Q2113.48 130.569 2110.38 130.569 Q2108.18 130.569 2105.73 131.333 Q2103.3 132.097 2100.52 133.648 L2100.52 128.926 Q2103.34 127.792 2105.8 127.213 Q2108.25 126.634 2110.29 126.634 Q2115.66 126.634 2118.85 129.319 Q2122.05 132.005 2122.05 136.495 Q2122.05 138.625 2121.24 140.546 Q2120.45 142.444 2118.34 145.037 Q2117.76 145.708 2114.66 148.926 Q2111.56 152.12 2105.91 157.884 Z\" fill=\"#000000\" fill-rule=\"evenodd\" fill-opacity=\"1\" /><path clip-path=\"url(#clip910)\" d=\"M2132.05 155.94 L2136.93 155.94 L2136.93 161.819 L2132.05 161.819 L2132.05 155.94 Z\" fill=\"#000000\" fill-rule=\"evenodd\" fill-opacity=\"1\" /><path clip-path=\"url(#clip910)\" d=\"M2151.14 157.884 L2167.46 157.884 L2167.46 161.819 L2145.52 161.819 L2145.52 157.884 Q2148.18 155.129 2152.76 150.5 Q2157.37 145.847 2158.55 144.504 Q2160.8 141.981 2161.68 140.245 Q2162.58 138.486 2162.58 136.796 Q2162.58 134.042 2160.63 132.305 Q2158.71 130.569 2155.61 130.569 Q2153.41 130.569 2150.96 131.333 Q2148.53 132.097 2145.75 133.648 L2145.75 128.926 Q2148.57 127.792 2151.03 127.213 Q2153.48 126.634 2155.52 126.634 Q2160.89 126.634 2164.08 129.319 Q2167.28 132.005 2167.28 136.495 Q2167.28 138.625 2166.47 140.546 Q2165.68 142.444 2163.57 145.037 Q2163 145.708 2159.89 148.926 Q2156.79 152.12 2151.14 157.884 Z\" fill=\"#000000\" fill-rule=\"evenodd\" fill-opacity=\"1\" /><path clip-path=\"url(#clip910)\" d=\"M2177.32 127.259 L2195.68 127.259 L2195.68 131.194 L2181.61 131.194 L2181.61 139.667 Q2182.63 139.319 2183.64 139.157 Q2184.66 138.972 2185.68 138.972 Q2191.47 138.972 2194.85 142.143 Q2198.23 145.315 2198.23 150.731 Q2198.23 156.31 2194.75 159.412 Q2191.28 162.49 2184.96 162.49 Q2182.79 162.49 2180.52 162.12 Q2178.27 161.75 2175.87 161.009 L2175.87 156.31 Q2177.95 157.444 2180.17 158 Q2182.39 158.555 2184.87 158.555 Q2188.88 158.555 2191.21 156.449 Q2193.55 154.342 2193.55 150.731 Q2193.55 147.12 2191.21 145.014 Q2188.88 142.907 2184.87 142.907 Q2183 142.907 2181.12 143.324 Q2179.27 143.741 2177.32 144.62 L2177.32 127.259 Z\" fill=\"#000000\" fill-rule=\"evenodd\" fill-opacity=\"1\" /><path clip-path=\"url(#clip910)\" d=\"M2207.58 161.102 L2207.58 156.842 Q2209.34 157.676 2211.14 158.115 Q2212.95 158.555 2214.69 158.555 Q2219.31 158.555 2221.75 155.453 Q2224.2 152.328 2224.55 145.986 Q2223.2 147.977 2221.14 149.041 Q2219.08 150.106 2216.58 150.106 Q2211.4 150.106 2208.37 146.981 Q2205.36 143.833 2205.36 138.393 Q2205.36 133.069 2208.5 129.852 Q2211.65 126.634 2216.88 126.634 Q2222.88 126.634 2226.03 131.241 Q2229.2 135.824 2229.2 144.574 Q2229.2 152.745 2225.31 157.629 Q2221.44 162.49 2214.89 162.49 Q2213.13 162.49 2211.33 162.143 Q2209.52 161.796 2207.58 161.102 M2216.88 146.449 Q2220.03 146.449 2221.86 144.296 Q2223.71 142.143 2223.71 138.393 Q2223.71 134.667 2221.86 132.514 Q2220.03 130.338 2216.88 130.338 Q2213.74 130.338 2211.88 132.514 Q2210.06 134.667 2210.06 138.393 Q2210.06 142.143 2211.88 144.296 Q2213.74 146.449 2216.88 146.449 Z\" fill=\"#000000\" fill-rule=\"evenodd\" fill-opacity=\"1\" /><path clip-path=\"url(#clip910)\" d=\"M2237.74 161.102 L2237.74 156.842 Q2239.5 157.676 2241.31 158.115 Q2243.11 158.555 2244.85 158.555 Q2249.48 158.555 2251.91 155.453 Q2254.36 152.328 2254.71 145.986 Q2253.37 147.977 2251.31 149.041 Q2249.25 150.106 2246.75 150.106 Q2241.56 150.106 2238.53 146.981 Q2235.52 143.833 2235.52 138.393 Q2235.52 133.069 2238.67 129.852 Q2241.81 126.634 2247.05 126.634 Q2253.04 126.634 2256.19 131.241 Q2259.36 135.824 2259.36 144.574 Q2259.36 152.745 2255.47 157.629 Q2251.61 162.49 2245.06 162.49 Q2243.3 162.49 2241.49 162.143 Q2239.69 161.796 2237.74 161.102 M2247.05 146.449 Q2250.19 146.449 2252.02 144.296 Q2253.87 142.143 2253.87 138.393 Q2253.87 134.667 2252.02 132.514 Q2250.19 130.338 2247.05 130.338 Q2243.9 130.338 2242.05 132.514 Q2240.22 134.667 2240.22 138.393 Q2240.22 142.143 2242.05 144.296 Q2243.9 146.449 2247.05 146.449 Z\" fill=\"#000000\" fill-rule=\"evenodd\" fill-opacity=\"1\" /></svg>\n"
      ],
      "text/html": [
       "<?xml version=\"1.0\" encoding=\"utf-8\"?>\n",
       "<svg xmlns=\"http://www.w3.org/2000/svg\" xmlns:xlink=\"http://www.w3.org/1999/xlink\" width=\"600\" height=\"400\" viewBox=\"0 0 2400 1600\">\n",
       "<defs>\n",
       "  <clipPath id=\"clip960\">\n",
       "    <rect x=\"0\" y=\"0\" width=\"2400\" height=\"1600\"/>\n",
       "  </clipPath>\n",
       "</defs>\n",
       "<path clip-path=\"url(#clip960)\" d=\"\n",
       "M0 1600 L2400 1600 L2400 0 L0 0  Z\n",
       "  \" fill=\"#ffffff\" fill-rule=\"evenodd\" fill-opacity=\"1\"/>\n",
       "<defs>\n",
       "  <clipPath id=\"clip961\">\n",
       "    <rect x=\"480\" y=\"0\" width=\"1681\" height=\"1600\"/>\n",
       "  </clipPath>\n",
       "</defs>\n",
       "<path clip-path=\"url(#clip960)\" d=\"\n",
       "M251.372 1410.9 L2352.76 1410.9 L2352.76 47.2441 L251.372 47.2441  Z\n",
       "  \" fill=\"#ffffff\" fill-rule=\"evenodd\" fill-opacity=\"1\"/>\n",
       "<defs>\n",
       "  <clipPath id=\"clip962\">\n",
       "    <rect x=\"251\" y=\"47\" width=\"2102\" height=\"1365\"/>\n",
       "  </clipPath>\n",
       "</defs>\n",
       "<polyline clip-path=\"url(#clip962)\" style=\"stroke:#000000; stroke-linecap:round; stroke-linejoin:round; stroke-width:2; stroke-opacity:0.1; fill:none\" points=\"\n",
       "  595.053,1410.9 595.053,47.2441 \n",
       "  \"/>\n",
       "<polyline clip-path=\"url(#clip962)\" style=\"stroke:#000000; stroke-linecap:round; stroke-linejoin:round; stroke-width:2; stroke-opacity:0.1; fill:none\" points=\"\n",
       "  1936.72,1410.9 1936.72,47.2441 \n",
       "  \"/>\n",
       "<polyline clip-path=\"url(#clip960)\" style=\"stroke:#000000; stroke-linecap:round; stroke-linejoin:round; stroke-width:4; stroke-opacity:1; fill:none\" points=\"\n",
       "  251.372,1410.9 2352.76,1410.9 \n",
       "  \"/>\n",
       "<polyline clip-path=\"url(#clip960)\" style=\"stroke:#000000; stroke-linecap:round; stroke-linejoin:round; stroke-width:4; stroke-opacity:1; fill:none\" points=\"\n",
       "  595.053,1410.9 595.053,1392 \n",
       "  \"/>\n",
       "<polyline clip-path=\"url(#clip960)\" style=\"stroke:#000000; stroke-linecap:round; stroke-linejoin:round; stroke-width:4; stroke-opacity:1; fill:none\" points=\"\n",
       "  1936.72,1410.9 1936.72,1392 \n",
       "  \"/>\n",
       "<path clip-path=\"url(#clip960)\" d=\"M560.496 1485.02 L568.135 1485.02 L568.135 1458.66 L559.825 1460.32 L559.825 1456.06 L568.089 1454.4 L572.765 1454.4 L572.765 1485.02 L580.404 1485.02 L580.404 1488.96 L560.496 1488.96 L560.496 1485.02 Z\" fill=\"#000000\" fill-rule=\"evenodd\" fill-opacity=\"1\" /><path clip-path=\"url(#clip960)\" d=\"M599.848 1457.48 Q596.237 1457.48 594.408 1461.04 Q592.603 1464.58 592.603 1471.71 Q592.603 1478.82 594.408 1482.38 Q596.237 1485.92 599.848 1485.92 Q603.482 1485.92 605.288 1482.38 Q607.117 1478.82 607.117 1471.71 Q607.117 1464.58 605.288 1461.04 Q603.482 1457.48 599.848 1457.48 M599.848 1453.77 Q605.658 1453.77 608.714 1458.38 Q611.792 1462.96 611.792 1471.71 Q611.792 1480.44 608.714 1485.04 Q605.658 1489.63 599.848 1489.63 Q594.038 1489.63 590.959 1485.04 Q587.904 1480.44 587.904 1471.71 Q587.904 1462.96 590.959 1458.38 Q594.038 1453.77 599.848 1453.77 Z\" fill=\"#000000\" fill-rule=\"evenodd\" fill-opacity=\"1\" /><path clip-path=\"url(#clip960)\" d=\"M624.488 1446.41 Q627.215 1446.99 628.738 1448.83 Q630.281 1450.68 630.281 1453.38 Q630.281 1457.54 627.422 1459.82 Q624.563 1462.09 619.297 1462.09 Q617.529 1462.09 615.648 1461.73 Q613.786 1461.4 611.792 1460.7 L611.792 1457.03 Q613.372 1457.95 615.253 1458.42 Q617.134 1458.89 619.184 1458.89 Q622.757 1458.89 624.619 1457.48 Q626.5 1456.07 626.5 1453.38 Q626.5 1450.9 624.751 1449.51 Q623.021 1448.1 619.917 1448.1 L616.645 1448.1 L616.645 1444.98 L620.068 1444.98 Q622.87 1444.98 624.356 1443.87 Q625.842 1442.74 625.842 1440.63 Q625.842 1438.47 624.3 1437.32 Q622.776 1436.16 619.917 1436.16 Q618.356 1436.16 616.57 1436.49 Q614.783 1436.83 612.639 1437.55 L612.639 1434.16 Q614.802 1433.56 616.683 1433.26 Q618.582 1432.96 620.256 1432.96 Q624.582 1432.96 627.102 1434.93 Q629.622 1436.89 629.622 1440.24 Q629.622 1442.57 628.287 1444.19 Q626.952 1445.79 624.488 1446.41 Z\" fill=\"#000000\" fill-rule=\"evenodd\" fill-opacity=\"1\" /><path clip-path=\"url(#clip960)\" d=\"M1901.18 1485.02 L1908.82 1485.02 L1908.82 1458.66 L1900.5 1460.32 L1900.5 1456.06 L1908.77 1454.4 L1913.44 1454.4 L1913.44 1485.02 L1921.08 1485.02 L1921.08 1488.96 L1901.18 1488.96 L1901.18 1485.02 Z\" fill=\"#000000\" fill-rule=\"evenodd\" fill-opacity=\"1\" /><path clip-path=\"url(#clip960)\" d=\"M1940.53 1457.48 Q1936.92 1457.48 1935.09 1461.04 Q1933.28 1464.58 1933.28 1471.71 Q1933.28 1478.82 1935.09 1482.38 Q1936.92 1485.92 1940.53 1485.92 Q1944.16 1485.92 1945.97 1482.38 Q1947.8 1478.82 1947.8 1471.71 Q1947.8 1464.58 1945.97 1461.04 Q1944.16 1457.48 1940.53 1457.48 M1940.53 1453.77 Q1946.34 1453.77 1949.39 1458.38 Q1952.47 1462.96 1952.47 1471.71 Q1952.47 1480.44 1949.39 1485.04 Q1946.34 1489.63 1940.53 1489.63 Q1934.72 1489.63 1931.64 1485.04 Q1928.58 1480.44 1928.58 1471.71 Q1928.58 1462.96 1931.64 1458.38 Q1934.72 1453.77 1940.53 1453.77 Z\" fill=\"#000000\" fill-rule=\"evenodd\" fill-opacity=\"1\" /><path clip-path=\"url(#clip960)\" d=\"M1965.15 1436.78 L1955.56 1451.77 L1965.15 1451.77 L1965.15 1436.78 M1964.15 1433.47 L1968.93 1433.47 L1968.93 1451.77 L1972.94 1451.77 L1972.94 1454.93 L1968.93 1454.93 L1968.93 1461.55 L1965.15 1461.55 L1965.15 1454.93 L1952.47 1454.93 L1952.47 1451.26 L1964.15 1433.47 Z\" fill=\"#000000\" fill-rule=\"evenodd\" fill-opacity=\"1\" /><path clip-path=\"url(#clip960)\" d=\"M1286.25 1524.66 L1292.13 1524.66 L1292.13 1553.91 L1309.61 1538.54 L1317.09 1538.54 L1298.18 1555.22 L1317.88 1574.19 L1310.24 1574.19 L1292.13 1556.78 L1292.13 1574.19 L1286.25 1574.19 L1286.25 1524.66 Z\" fill=\"#000000\" fill-rule=\"evenodd\" fill-opacity=\"1\" /><polyline clip-path=\"url(#clip962)\" style=\"stroke:#000000; stroke-linecap:round; stroke-linejoin:round; stroke-width:2; stroke-opacity:0.1; fill:none\" points=\"\n",
       "  251.372,1035.51 2352.76,1035.51 \n",
       "  \"/>\n",
       "<polyline clip-path=\"url(#clip962)\" style=\"stroke:#000000; stroke-linecap:round; stroke-linejoin:round; stroke-width:2; stroke-opacity:0.1; fill:none\" points=\"\n",
       "  251.372,560.676 2352.76,560.676 \n",
       "  \"/>\n",
       "<polyline clip-path=\"url(#clip962)\" style=\"stroke:#000000; stroke-linecap:round; stroke-linejoin:round; stroke-width:2; stroke-opacity:0.1; fill:none\" points=\"\n",
       "  251.372,85.838 2352.76,85.838 \n",
       "  \"/>\n",
       "<polyline clip-path=\"url(#clip960)\" style=\"stroke:#000000; stroke-linecap:round; stroke-linejoin:round; stroke-width:4; stroke-opacity:1; fill:none\" points=\"\n",
       "  251.372,1410.9 251.372,47.2441 \n",
       "  \"/>\n",
       "<polyline clip-path=\"url(#clip960)\" style=\"stroke:#000000; stroke-linecap:round; stroke-linejoin:round; stroke-width:4; stroke-opacity:1; fill:none\" points=\"\n",
       "  251.372,1035.51 270.27,1035.51 \n",
       "  \"/>\n",
       "<polyline clip-path=\"url(#clip960)\" style=\"stroke:#000000; stroke-linecap:round; stroke-linejoin:round; stroke-width:4; stroke-opacity:1; fill:none\" points=\"\n",
       "  251.372,560.676 270.27,560.676 \n",
       "  \"/>\n",
       "<polyline clip-path=\"url(#clip960)\" style=\"stroke:#000000; stroke-linecap:round; stroke-linejoin:round; stroke-width:4; stroke-opacity:1; fill:none\" points=\"\n",
       "  251.372,85.838 270.27,85.838 \n",
       "  \"/>\n",
       "<path clip-path=\"url(#clip960)\" d=\"M115.232 1055.31 L122.871 1055.31 L122.871 1028.94 L114.561 1030.61 L114.561 1026.35 L122.825 1024.68 L127.501 1024.68 L127.501 1055.31 L135.14 1055.31 L135.14 1059.24 L115.232 1059.24 L115.232 1055.31 Z\" fill=\"#000000\" fill-rule=\"evenodd\" fill-opacity=\"1\" /><path clip-path=\"url(#clip960)\" d=\"M154.584 1027.76 Q150.973 1027.76 149.144 1031.33 Q147.339 1034.87 147.339 1042 Q147.339 1049.1 149.144 1052.67 Q150.973 1056.21 154.584 1056.21 Q158.218 1056.21 160.024 1052.67 Q161.852 1049.1 161.852 1042 Q161.852 1034.87 160.024 1031.33 Q158.218 1027.76 154.584 1027.76 M154.584 1024.06 Q160.394 1024.06 163.45 1028.66 Q166.528 1033.25 166.528 1042 Q166.528 1050.72 163.45 1055.33 Q160.394 1059.91 154.584 1059.91 Q148.774 1059.91 145.695 1055.33 Q142.64 1050.72 142.64 1042 Q142.64 1033.25 145.695 1028.66 Q148.774 1024.06 154.584 1024.06 Z\" fill=\"#000000\" fill-rule=\"evenodd\" fill-opacity=\"1\" /><path clip-path=\"url(#clip960)\" d=\"M166.528 1018.16 L190.64 1018.16 L190.64 1021.36 L166.528 1021.36 L166.528 1018.16 Z\" fill=\"#000000\" fill-rule=\"evenodd\" fill-opacity=\"1\" /><path clip-path=\"url(#clip960)\" d=\"M202.113 1028.63 L215.372 1028.63 L215.372 1031.83 L197.542 1031.83 L197.542 1028.63 Q199.705 1026.4 203.429 1022.63 Q207.172 1018.85 208.131 1017.76 Q209.956 1015.71 210.67 1014.3 Q211.404 1012.87 211.404 1011.5 Q211.404 1009.26 209.824 1007.85 Q208.263 1006.44 205.743 1006.44 Q203.956 1006.44 201.962 1007.06 Q199.987 1007.68 197.73 1008.94 L197.73 1005.11 Q200.025 1004.18 202.019 1003.71 Q204.012 1003.24 205.667 1003.24 Q210.031 1003.24 212.626 1005.43 Q215.222 1007.61 215.222 1011.26 Q215.222 1012.99 214.563 1014.55 Q213.924 1016.09 212.212 1018.2 Q211.742 1018.74 209.222 1021.36 Q206.702 1023.95 202.113 1028.63 Z\" fill=\"#000000\" fill-rule=\"evenodd\" fill-opacity=\"1\" /><path clip-path=\"url(#clip960)\" d=\"M114.931 580.469 L122.57 580.469 L122.57 554.103 L114.26 555.77 L114.26 551.51 L122.524 549.844 L127.2 549.844 L127.2 580.469 L134.839 580.469 L134.839 584.404 L114.931 584.404 L114.931 580.469 Z\" fill=\"#000000\" fill-rule=\"evenodd\" fill-opacity=\"1\" /><path clip-path=\"url(#clip960)\" d=\"M154.283 552.922 Q150.672 552.922 148.843 556.487 Q147.038 560.029 147.038 567.158 Q147.038 574.265 148.843 577.83 Q150.672 581.371 154.283 581.371 Q157.917 581.371 159.723 577.83 Q161.552 574.265 161.552 567.158 Q161.552 560.029 159.723 556.487 Q157.917 552.922 154.283 552.922 M154.283 549.219 Q160.093 549.219 163.149 553.825 Q166.227 558.409 166.227 567.158 Q166.227 575.885 163.149 580.492 Q160.093 585.075 154.283 585.075 Q148.473 585.075 145.394 580.492 Q142.339 575.885 142.339 567.158 Q142.339 558.409 145.394 553.825 Q148.473 549.219 154.283 549.219 Z\" fill=\"#000000\" fill-rule=\"evenodd\" fill-opacity=\"1\" /><path clip-path=\"url(#clip960)\" d=\"M166.227 543.32 L190.339 543.32 L190.339 546.517 L166.227 546.517 L166.227 543.32 Z\" fill=\"#000000\" fill-rule=\"evenodd\" fill-opacity=\"1\" /><path clip-path=\"url(#clip960)\" d=\"M199.197 553.796 L205.404 553.796 L205.404 532.374 L198.652 533.728 L198.652 530.268 L205.366 528.913 L209.166 528.913 L209.166 553.796 L215.372 553.796 L215.372 556.993 L199.197 556.993 L199.197 553.796 Z\" fill=\"#000000\" fill-rule=\"evenodd\" fill-opacity=\"1\" /><path clip-path=\"url(#clip960)\" d=\"M144.667 105.63 L152.305 105.63 L152.305 79.2649 L143.995 80.9315 L143.995 76.6723 L152.259 75.0056 L156.935 75.0056 L156.935 105.63 L164.574 105.63 L164.574 109.566 L144.667 109.566 L144.667 105.63 Z\" fill=\"#000000\" fill-rule=\"evenodd\" fill-opacity=\"1\" /><path clip-path=\"url(#clip960)\" d=\"M184.018 78.0843 Q180.407 78.0843 178.578 81.6491 Q176.773 85.1908 176.773 92.3204 Q176.773 99.4268 178.578 102.992 Q180.407 106.533 184.018 106.533 Q187.652 106.533 189.458 102.992 Q191.287 99.4268 191.287 92.3204 Q191.287 85.1908 189.458 81.6491 Q187.652 78.0843 184.018 78.0843 M184.018 74.3806 Q189.828 74.3806 192.884 78.9871 Q195.963 83.5704 195.963 92.3204 Q195.963 101.047 192.884 105.654 Q189.828 110.237 184.018 110.237 Q178.208 110.237 175.129 105.654 Q172.074 101.047 172.074 92.3204 Q172.074 83.5704 175.129 78.9871 Q178.208 74.3806 184.018 74.3806 Z\" fill=\"#000000\" fill-rule=\"evenodd\" fill-opacity=\"1\" /><path clip-path=\"url(#clip960)\" d=\"M205.667 56.5767 Q202.733 56.5767 201.248 59.4731 Q199.781 62.3507 199.781 68.1434 Q199.781 73.9174 201.248 76.8138 Q202.733 79.6914 205.667 79.6914 Q208.62 79.6914 210.087 76.8138 Q211.573 73.9174 211.573 68.1434 Q211.573 62.3507 210.087 59.4731 Q208.62 56.5767 205.667 56.5767 M205.667 53.5674 Q210.388 53.5674 212.871 57.3102 Q215.372 61.0341 215.372 68.1434 Q215.372 75.234 212.871 78.9767 Q210.388 82.7007 205.667 82.7007 Q200.947 82.7007 198.445 78.9767 Q195.963 75.234 195.963 68.1434 Q195.963 61.0341 198.445 57.3102 Q200.947 53.5674 205.667 53.5674 Z\" fill=\"#000000\" fill-rule=\"evenodd\" fill-opacity=\"1\" /><path clip-path=\"url(#clip960)\" d=\"M21.7677 780.601 L39.6235 780.601 L39.6235 772.516 Q39.6235 768.028 37.3 765.578 Q34.9765 763.127 30.6797 763.127 Q26.4147 763.127 24.0912 765.578 Q21.7677 768.028 21.7677 772.516 L21.7677 780.601 M16.4842 787.03 L16.4842 772.516 Q16.4842 764.527 20.1126 760.453 Q23.7092 756.347 30.6797 756.347 Q37.7138 756.347 41.3104 760.453 Q44.907 764.527 44.907 772.516 L44.907 780.601 L64.0042 780.601 L64.0042 787.03 L16.4842 787.03 Z\" fill=\"#000000\" fill-rule=\"evenodd\" fill-opacity=\"1\" /><path clip-path=\"url(#clip960)\" d=\"M14.5426 733.908 Q21.8632 738.173 29.0246 740.242 Q36.186 742.311 43.5384 742.311 Q50.8908 742.311 58.1159 740.242 Q65.3091 738.142 72.5979 733.908 L72.5979 739.001 Q65.1182 743.775 57.8931 746.162 Q50.668 748.518 43.5384 748.518 Q36.4406 748.518 29.2474 746.162 Q22.0542 743.807 14.5426 739.001 L14.5426 733.908 Z\" fill=\"#000000\" fill-rule=\"evenodd\" fill-opacity=\"1\" /><path clip-path=\"url(#clip960)\" d=\"M14.479 722.768 L14.479 716.88 L43.7294 716.88 L28.3562 699.406 L28.3562 691.926 L45.0344 710.833 L64.0042 691.131 L64.0042 698.77 L46.5939 716.88 L64.0042 716.88 L64.0042 722.768 L14.479 722.768 Z\" fill=\"#000000\" fill-rule=\"evenodd\" fill-opacity=\"1\" /><path clip-path=\"url(#clip960)\" d=\"M14.5426 685.72 L14.5426 680.627 Q22.0542 675.853 29.2474 673.498 Q36.4406 671.111 43.5384 671.111 Q50.668 671.111 57.8931 673.498 Q65.1182 675.853 72.5979 680.627 L72.5979 685.72 Q65.3091 681.487 58.1159 679.418 Q50.8908 677.317 43.5384 677.317 Q36.186 677.317 29.0246 679.418 Q21.8632 681.487 14.5426 685.72 Z\" fill=\"#000000\" fill-rule=\"evenodd\" fill-opacity=\"1\" /><polyline clip-path=\"url(#clip962)\" style=\"stroke:#009af9; stroke-linecap:round; stroke-linejoin:round; stroke-width:10; stroke-opacity:1; fill:none\" points=\"\n",
       "  310.845,85.838 312.74,87.8618 314.629,88.6769 320.259,90.3168 322.123,90.7288 323.982,91.1417 325.835,91.9699 327.681,93.6363 329.522,94.4746 331.358,94.895 \n",
       "  333.187,95.7385 335.011,96.5854 336.829,97.8623 338.641,99.1471 340.448,100.44 342.249,100.873 345.835,101.741 349.399,102.177 351.172,102.613 354.704,103.489 \n",
       "  356.462,103.928 358.214,104.368 359.961,105.694 361.703,106.138 363.44,107.476 365.171,107.924 372.047,109.273 373.753,110.178 377.151,110.631 378.842,111.542 \n",
       "  383.887,111.998 385.559,113.375 387.226,113.836 390.546,114.298 392.199,114.76 393.847,115.224 397.13,116.155 398.765,117.091 400.394,118.03 402.02,119.447 \n",
       "  403.641,119.922 405.257,120.875 406.869,121.352 410.079,121.831 411.678,122.312 416.447,122.793 418.028,123.275 419.605,123.759 421.178,125.216 422.746,126.684 \n",
       "  424.311,128.162 427.427,128.657 430.526,129.154 432.07,129.651 435.144,130.65 436.676,131.151 438.203,133.168 439.726,133.675 441.246,134.184 442.761,135.205 \n",
       "  444.273,136.231 445.78,137.262 447.284,137.779 448.784,138.298 451.772,138.818 454.745,140.912 456.225,141.438 457.702,141.966 459.176,142.496 462.111,143.027 \n",
       "  463.573,144.092 466.487,145.701 469.386,146.241 470.83,146.781 472.27,147.323 473.707,147.866 476.57,148.411 479.42,149.505 480.839,151.711 482.255,152.823 \n",
       "  483.668,153.94 485.077,155.628 486.483,156.194 487.885,157.33 490.68,160.199 492.072,161.357 493.461,163.107 494.847,163.694 496.229,164.282 497.608,164.872 \n",
       "  498.984,165.464 500.357,166.057 503.092,166.653 505.815,167.249 508.525,167.848 511.223,168.448 519.241,170.26 520.567,170.867 521.89,171.477 524.526,172.7 \n",
       "  527.151,173.932 528.459,174.55 529.764,175.17 531.066,177.042 534.955,178.3 536.245,178.931 537.533,180.2 538.818,180.838 541.379,181.477 542.656,182.119 \n",
       "  546.468,182.762 547.733,183.407 548.996,184.055 555.268,184.704 556.515,186.665 558.999,187.323 562.707,189.309 565.165,189.975 567.614,191.987 570.052,193.34 \n",
       "  572.479,194.019 576.102,194.701 579.703,196.76 584.469,197.45 586.838,198.144 589.197,200.237 590.373,201.645 591.546,202.352 592.717,204.489 593.886,205.207 \n",
       "  595.053,205.926 597.379,206.649 600.851,208.831 603.154,209.564 606.591,211.037 610.009,211.777 611.144,212.52 614.535,213.266 615.661,214.015 616.784,214.766 \n",
       "  619.025,215.52 624.591,216.277 629.005,217.036 633.386,218.564 634.476,219.332 637.734,220.103 638.816,220.876 639.896,222.433 642.05,223.215 650.588,226.376 \n",
       "  652.703,227.174 663.164,227.975 667.297,228.779 668.325,229.586 672.422,230.396 678.512,232.026 680.529,232.846 681.534,233.669 683.54,236.996 685.539,237.836 \n",
       "  688.524,238.679 689.516,240.376 694.45,241.23 696.412,242.088 700.316,243.813 701.288,244.682 703.227,245.554 706.123,247.309 711.873,248.192 713.778,249.079 \n",
       "  714.727,249.97 716.622,250.864 717.567,251.763 725.074,253.572 726.005,254.482 727.864,255.397 731.564,256.315 734.323,258.165 737.069,259.096 737.982,260.031 \n",
       "  743.427,260.971 750.61,261.914 753.281,263.815 755.939,264.772 756.823,265.733 760.344,266.699 766.454,267.67 767.322,268.645 770.78,269.624 771.641,270.609 \n",
       "  775.074,271.598 777.635,272.592 780.185,273.59 781.033,274.594 783.568,277.634 788.605,278.657 789.441,279.686 791.108,280.72 791.94,281.759 793.6,282.803 \n",
       "  795.255,283.852 799.373,284.907 805.09,287.033 807.523,288.104 808.331,289.181 810.751,290.264 811.555,292.446 812.358,293.546 817.154,294.651 818.744,296.881 \n",
       "  819.537,299.135 820.329,300.271 821.91,301.413 822.699,302.562 825.06,303.717 825.845,306.048 828.973,307.223 831.309,308.404 836.722,309.593 839.793,311.991 \n",
       "  842.085,313.201 843.608,314.417 845.886,315.641 847.399,316.872 854.908,318.111 860.847,320.61 864.527,321.872 877.589,323.141 881.166,325.703 887.55,326.995 \n",
       "  893.864,328.296 894.562,329.606 896.649,330.924 900.111,332.25 900.801,334.928 921.129,336.28 921.795,337.641 922.459,339.012 923.123,340.391 926.432,343.178 \n",
       "  928.408,344.585 934.948,346.003 936.896,347.43 947.175,348.867 949.082,350.314 952.878,351.772 954.138,353.239 957.901,354.718 960.397,356.207 961.019,357.706 \n",
       "  962.261,360.739 965.356,362.272 967.819,363.817 969.047,365.373 970.885,366.942 971.496,368.522 972.106,370.114 984.183,373.336 985.973,374.967 988.944,376.61 \n",
       "  989.537,378.266 991.31,379.936 997.768,381.62 1002.42,383.317 1007.04,385.028 1013.32,386.754 1022.91,388.494 1025.14,390.249 1025.7,392.019 1029.03,393.805 \n",
       "  1029.58,395.606 1042.7,397.423 1047.54,399.256 1050.22,401.105 1051.28,402.972 1051.82,404.855 1059.74,406.756 1061.32,408.674 1066.53,410.61 1069.12,414.538 \n",
       "  1075.79,416.531 1082.39,418.543 1090.42,420.574 1091.91,422.626 1092.9,424.699 1094.39,426.793 1104.68,428.908 1111.93,431.045 1113.85,433.204 1120.5,435.386 \n",
       "  1120.98,437.592 1128.02,439.821 1130.35,442.075 1140.95,444.354 1143.23,446.658 1150.01,448.988 1155.38,451.345 1157.61,453.729 1160.71,456.141 1163.79,458.582 \n",
       "  1164.23,461.051 1166.42,463.551 1168.16,466.081 1173.37,468.643 1177.24,471.237 1178.1,473.864 1187.87,476.525 1190.39,481.952 1192.49,484.72 1206.53,487.526 \n",
       "  1208.57,490.37 1210.19,493.255 1213.02,496.18 1239.45,499.147 1240.6,502.158 1241.37,505.213 1256.17,508.314 1265.47,511.462 1268.04,514.66 1268.59,517.907 \n",
       "  1270.61,521.207 1274.61,524.56 1278.59,527.969 1284.69,531.435 1290.02,534.96 1297.4,538.546 1300.88,542.196 1305.72,545.912 1307.78,549.696 1312.9,553.551 \n",
       "  1315.27,557.479 1323.34,561.483 1323.68,565.567 1339.16,569.733 1341.75,573.985 1359.9,578.327 1361.16,582.762 1391.05,587.294 1396.67,591.929 1425.95,596.67 \n",
       "  1433.74,601.522 1445.23,606.491 1445.77,611.584 1449.28,616.805 1460.2,622.161 1476.35,627.661 1478.4,633.311 1494.55,639.12 1498.27,645.098 1541.4,651.254 \n",
       "  1554.79,657.6 1559.71,664.147 1562.82,670.909 1594.9,677.9 1616.9,685.137 1631.45,692.637 1644.68,700.419 1662.86,708.507 1717.8,716.926 1720,725.702 \n",
       "  1730.56,734.869 1754.62,744.463 1757.8,754.524 1764.41,765.102 1765.67,776.251 1770.49,788.039 1800.11,800.541 1808.88,813.85 1811.78,828.077 1840.65,843.36 \n",
       "  1875.59,859.866 1889.65,877.81 1892.43,897.465 1902.52,919.192 1952.58,943.481 1984.79,971.018 2006.07,1002.81 2055.44,1040.41 2068.79,1086.42 2132.44,1145.75 \n",
       "  2238.32,1229.36 2293.28,1372.3 \n",
       "  \"/>\n",
       "<polyline clip-path=\"url(#clip962)\" style=\"stroke:#ff0000; stroke-linecap:round; stroke-linejoin:round; stroke-width:4; stroke-opacity:1; fill:none\" stroke-dasharray=\"16, 10\" points=\"\n",
       "  310.845,85.838 312.74,86.6829 314.629,87.5251 320.259,90.0354 322.123,90.8668 323.982,91.6955 325.835,92.5216 327.681,93.3451 329.522,94.166 331.358,94.9843 \n",
       "  333.187,95.8 335.011,96.6132 336.829,97.4238 338.641,98.2319 340.448,99.0375 342.249,99.8407 345.835,101.439 349.399,103.029 351.172,103.819 354.704,105.394 \n",
       "  356.462,106.178 358.214,106.959 359.961,107.738 361.703,108.515 363.44,109.289 365.171,110.061 372.047,113.127 373.753,113.888 377.151,115.403 378.842,116.157 \n",
       "  383.887,118.406 385.559,119.152 387.226,119.895 390.546,121.376 392.199,122.113 393.847,122.848 397.13,124.311 398.765,125.04 400.394,125.767 402.02,126.492 \n",
       "  403.641,127.214 405.257,127.935 406.869,128.654 410.079,130.085 411.678,130.798 416.447,132.925 418.028,133.63 419.605,134.333 421.178,135.034 422.746,135.733 \n",
       "  424.311,136.431 427.427,137.82 430.526,139.202 432.07,139.89 435.144,141.261 436.676,141.944 438.203,142.625 439.726,143.305 441.246,143.982 442.761,144.658 \n",
       "  444.273,145.332 445.78,146.004 447.284,146.674 448.784,147.343 451.772,148.675 454.745,150.001 456.225,150.661 457.702,151.32 459.176,151.977 462.111,153.286 \n",
       "  463.573,153.938 466.487,155.237 469.386,156.529 470.83,157.173 472.27,157.815 473.707,158.456 476.57,159.733 479.42,161.003 480.839,161.636 482.255,162.268 \n",
       "  483.668,162.897 485.077,163.526 486.483,164.153 487.885,164.778 490.68,166.024 492.072,166.645 493.461,167.264 494.847,167.882 496.229,168.498 497.608,169.113 \n",
       "  498.984,169.727 500.357,170.339 503.092,171.559 505.815,172.773 508.525,173.981 511.223,175.184 519.241,178.759 520.567,179.35 521.89,179.94 524.526,181.116 \n",
       "  527.151,182.286 528.459,182.869 529.764,183.451 531.066,184.032 534.955,185.766 536.245,186.341 537.533,186.915 538.818,187.488 541.379,188.63 542.656,189.199 \n",
       "  546.468,190.899 547.733,191.464 548.996,192.027 555.268,194.823 556.515,195.379 558.999,196.487 562.707,198.14 565.165,199.236 567.614,200.328 570.052,201.415 \n",
       "  572.479,202.497 576.102,204.113 579.703,205.718 584.469,207.844 586.838,208.9 589.197,209.952 590.373,210.476 591.546,210.999 592.717,211.521 593.886,212.043 \n",
       "  595.053,212.563 597.379,213.6 600.851,215.148 603.154,216.175 606.591,217.708 610.009,219.231 611.144,219.737 614.535,221.249 615.661,221.751 616.784,222.252 \n",
       "  619.025,223.252 624.591,225.733 629.005,227.702 633.386,229.655 634.476,230.141 637.734,231.594 638.816,232.076 639.896,232.558 642.05,233.518 650.588,237.325 \n",
       "  652.703,238.268 663.164,242.933 667.297,244.775 668.325,245.234 672.422,247.06 678.512,249.776 680.529,250.675 681.534,251.124 683.54,252.018 685.539,252.909 \n",
       "  688.524,254.24 689.516,254.683 694.45,256.883 696.412,257.757 700.316,259.498 701.288,259.932 703.227,260.796 706.123,262.088 711.873,264.652 713.778,265.501 \n",
       "  714.727,265.924 716.622,266.769 717.567,267.19 725.074,270.537 726.005,270.953 727.864,271.782 731.564,273.431 734.323,274.662 737.069,275.886 737.982,276.293 \n",
       "  743.427,278.721 750.61,281.924 753.281,283.115 755.939,284.3 756.823,284.694 760.344,286.264 766.454,288.988 767.322,289.375 770.78,290.917 771.641,291.301 \n",
       "  775.074,292.832 777.635,293.974 780.185,295.111 781.033,295.489 783.568,296.619 788.605,298.865 789.441,299.238 791.108,299.981 791.94,300.352 793.6,301.092 \n",
       "  795.255,301.83 799.373,303.667 805.09,306.216 807.523,307.3 808.331,307.661 810.751,308.74 811.555,309.098 812.358,309.456 817.154,311.595 818.744,312.304 \n",
       "  819.537,312.657 820.329,313.011 821.91,313.716 822.699,314.068 825.06,315.12 825.845,315.47 828.973,316.865 831.309,317.906 836.722,320.32 839.793,321.689 \n",
       "  842.085,322.711 843.608,323.391 845.886,324.406 847.399,325.081 854.908,328.429 860.847,331.077 864.527,332.718 877.589,338.542 881.166,340.137 887.55,342.984 \n",
       "  893.864,345.799 894.562,346.11 896.649,347.041 900.111,348.584 900.801,348.892 921.129,357.956 921.795,358.253 922.459,358.549 923.123,358.845 926.432,360.321 \n",
       "  928.408,361.202 934.948,364.118 936.896,364.986 947.175,369.57 949.082,370.42 952.878,372.113 954.138,372.674 957.901,374.352 960.397,375.465 961.019,375.742 \n",
       "  962.261,376.296 965.356,377.676 967.819,378.775 969.047,379.322 970.885,380.141 971.496,380.414 972.106,380.686 984.183,386.071 985.973,386.869 988.944,388.194 \n",
       "  989.537,388.458 991.31,389.249 997.768,392.129 1002.42,394.203 1007.04,396.261 1013.32,399.064 1022.91,403.338 1025.14,404.333 1025.7,404.582 1029.03,406.066 \n",
       "  1029.58,406.313 1042.7,412.162 1047.54,414.322 1050.22,415.515 1051.28,415.99 1051.82,416.228 1059.74,419.762 1061.32,420.464 1066.53,422.788 1069.12,423.942 \n",
       "  1075.79,426.919 1082.39,429.862 1090.42,433.44 1091.91,434.105 1092.9,434.548 1094.39,435.21 1104.68,439.801 1111.93,443.031 1113.85,443.886 1120.5,446.855 \n",
       "  1120.98,447.066 1128.02,450.208 1130.35,451.246 1140.95,455.972 1143.23,456.988 1150.01,460.013 1155.38,462.407 1157.61,463.399 1160.71,464.78 1163.79,466.154 \n",
       "  1164.23,466.35 1166.42,467.326 1168.16,468.105 1173.37,470.426 1177.24,472.154 1178.1,472.536 1187.87,476.893 1190.39,478.018 1192.49,478.952 1206.53,485.212 \n",
       "  1208.57,486.12 1210.19,486.845 1213.02,488.107 1239.45,499.891 1240.6,500.406 1241.37,500.749 1256.17,507.348 1265.47,511.492 1268.04,512.641 1268.59,512.886 \n",
       "  1270.61,513.784 1274.61,515.571 1278.59,517.345 1284.69,520.064 1290.02,522.44 1297.4,525.729 1300.88,527.282 1305.72,529.439 1307.78,530.358 1312.9,532.642 \n",
       "  1315.27,533.701 1323.34,537.299 1323.68,537.448 1339.16,544.349 1341.75,545.506 1359.9,553.601 1361.16,554.16 1391.05,567.486 1396.67,569.992 1425.95,583.05 \n",
       "  1433.74,586.522 1445.23,591.645 1445.77,591.887 1449.28,593.451 1460.2,598.323 1476.35,605.521 1478.4,606.435 1494.55,613.637 1498.27,615.296 1541.4,634.527 \n",
       "  1554.79,640.5 1559.71,642.692 1562.82,644.078 1594.9,658.384 1616.9,668.193 1631.45,674.679 1644.68,680.578 1662.86,688.684 1717.8,713.182 1720,714.164 \n",
       "  1730.56,718.869 1754.62,729.6 1757.8,731.016 1764.41,733.966 1765.67,734.525 1770.49,736.676 1800.11,749.881 1808.88,753.793 1811.78,755.084 1840.65,767.96 \n",
       "  1875.59,783.537 1889.65,789.809 1892.43,791.046 1902.52,795.548 1952.58,817.869 1984.79,832.23 2006.07,841.72 2055.44,863.734 2068.79,869.683 2132.44,898.066 \n",
       "  2238.32,945.274 2293.28,969.783 \n",
       "  \"/>\n",
       "<path clip-path=\"url(#clip960)\" d=\"\n",
       "M1544.31 196.379 L2282.71 196.379 L2282.71 92.6992 L1544.31 92.6992  Z\n",
       "  \" fill=\"#ffffff\" fill-rule=\"evenodd\" fill-opacity=\"1\"/>\n",
       "<polyline clip-path=\"url(#clip960)\" style=\"stroke:#000000; stroke-linecap:round; stroke-linejoin:round; stroke-width:4; stroke-opacity:1; fill:none\" points=\"\n",
       "  1544.31,196.379 2282.71,196.379 2282.71,92.6992 1544.31,92.6992 1544.31,196.379 \n",
       "  \"/>\n",
       "<polyline clip-path=\"url(#clip960)\" style=\"stroke:#009af9; stroke-linecap:round; stroke-linejoin:round; stroke-width:10; stroke-opacity:1; fill:none\" points=\"\n",
       "  1567.66,144.539 1707.75,144.539 \n",
       "  \"/>\n",
       "<path clip-path=\"url(#clip960)\" d=\"M1749.53 136.657 L1749.53 140.685 Q1747.72 139.759 1745.78 139.296 Q1743.83 138.833 1741.75 138.833 Q1738.58 138.833 1736.98 139.805 Q1735.41 140.778 1735.41 142.722 Q1735.41 144.204 1736.54 145.06 Q1737.67 145.893 1741.1 146.657 L1742.56 146.981 Q1747.1 147.954 1748.99 149.736 Q1750.91 151.495 1750.91 154.666 Q1750.91 158.278 1748.04 160.384 Q1745.2 162.49 1740.2 162.49 Q1738.11 162.49 1735.85 162.074 Q1733.6 161.68 1731.1 160.87 L1731.1 156.472 Q1733.46 157.699 1735.75 158.324 Q1738.04 158.926 1740.29 158.926 Q1743.3 158.926 1744.92 157.907 Q1746.54 156.866 1746.54 154.991 Q1746.54 153.254 1745.36 152.328 Q1744.2 151.403 1740.24 150.546 L1738.76 150.199 Q1734.8 149.366 1733.04 147.653 Q1731.29 145.916 1731.29 142.907 Q1731.29 139.25 1733.88 137.259 Q1736.47 135.268 1741.24 135.268 Q1743.6 135.268 1745.68 135.616 Q1747.77 135.963 1749.53 136.657 Z\" fill=\"#000000\" fill-rule=\"evenodd\" fill-opacity=\"1\" /><path clip-path=\"url(#clip960)\" d=\"M1757.7 135.893 L1761.96 135.893 L1761.96 161.819 L1757.7 161.819 L1757.7 135.893 M1757.7 125.801 L1761.96 125.801 L1761.96 131.194 L1757.7 131.194 L1757.7 125.801 Z\" fill=\"#000000\" fill-rule=\"evenodd\" fill-opacity=\"1\" /><path clip-path=\"url(#clip960)\" d=\"M1787.93 139.829 L1787.93 125.801 L1792.19 125.801 L1792.19 161.819 L1787.93 161.819 L1787.93 157.93 Q1786.59 160.245 1784.53 161.379 Q1782.49 162.49 1779.62 162.49 Q1774.92 162.49 1771.96 158.74 Q1769.02 154.991 1769.02 148.879 Q1769.02 142.768 1771.96 139.018 Q1774.92 135.268 1779.62 135.268 Q1782.49 135.268 1784.53 136.403 Q1786.59 137.514 1787.93 139.829 M1773.41 148.879 Q1773.41 153.578 1775.34 156.264 Q1777.28 158.926 1780.66 158.926 Q1784.04 158.926 1785.98 156.264 Q1787.93 153.578 1787.93 148.879 Q1787.93 144.18 1785.98 141.518 Q1784.04 138.833 1780.66 138.833 Q1777.28 138.833 1775.34 141.518 Q1773.41 144.18 1773.41 148.879 Z\" fill=\"#000000\" fill-rule=\"evenodd\" fill-opacity=\"1\" /><path clip-path=\"url(#clip960)\" d=\"M1823.14 147.791 L1823.14 149.875 L1803.55 149.875 Q1803.83 154.273 1806.19 156.588 Q1808.58 158.879 1812.81 158.879 Q1815.27 158.879 1817.56 158.278 Q1819.87 157.676 1822.14 156.472 L1822.14 160.5 Q1819.85 161.472 1817.44 161.981 Q1815.03 162.49 1812.56 162.49 Q1806.35 162.49 1802.72 158.879 Q1799.11 155.268 1799.11 149.111 Q1799.11 142.745 1802.53 139.018 Q1805.98 135.268 1811.82 135.268 Q1817.05 135.268 1820.08 138.648 Q1823.14 142.004 1823.14 147.791 M1818.88 146.541 Q1818.83 143.046 1816.91 140.963 Q1815.01 138.879 1811.86 138.879 Q1808.3 138.879 1806.15 140.893 Q1804.02 142.907 1803.69 146.565 L1818.88 146.541 Z\" fill=\"#000000\" fill-rule=\"evenodd\" fill-opacity=\"1\" /><path clip-path=\"url(#clip960)\" d=\"M1830.68 140.292 L1860.36 140.292 L1860.36 144.18 L1830.68 144.18 L1830.68 140.292 M1830.68 149.736 L1860.36 149.736 L1860.36 153.671 L1830.68 153.671 L1830.68 149.736 Z\" fill=\"#000000\" fill-rule=\"evenodd\" fill-opacity=\"1\" /><path clip-path=\"url(#clip960)\" d=\"M1870.5 127.259 L1888.85 127.259 L1888.85 131.194 L1874.78 131.194 L1874.78 139.667 Q1875.8 139.319 1876.82 139.157 Q1877.84 138.972 1878.85 138.972 Q1884.64 138.972 1888.02 142.143 Q1891.4 145.315 1891.4 150.731 Q1891.4 156.31 1887.93 159.412 Q1884.46 162.49 1878.14 162.49 Q1875.96 162.49 1873.69 162.12 Q1871.45 161.75 1869.04 161.009 L1869.04 156.31 Q1871.12 157.444 1873.34 158 Q1875.57 158.555 1878.04 158.555 Q1882.05 158.555 1884.39 156.449 Q1886.72 154.342 1886.72 150.731 Q1886.72 147.12 1884.39 145.014 Q1882.05 142.907 1878.04 142.907 Q1876.17 142.907 1874.29 143.324 Q1872.44 143.741 1870.5 144.62 L1870.5 127.259 Z\" fill=\"#000000\" fill-rule=\"evenodd\" fill-opacity=\"1\" /><path clip-path=\"url(#clip960)\" d=\"M1901.1 155.94 L1905.98 155.94 L1905.98 159.921 L1902.19 167.328 L1899.2 167.328 L1901.1 159.921 L1901.1 155.94 Z\" fill=\"#000000\" fill-rule=\"evenodd\" fill-opacity=\"1\" /><path clip-path=\"url(#clip960)\" d=\"M1941.93 148.787 Q1936.77 148.787 1934.78 149.967 Q1932.79 151.148 1932.79 153.995 Q1932.79 156.264 1934.27 157.606 Q1935.77 158.926 1938.34 158.926 Q1941.89 158.926 1944.02 156.426 Q1946.17 153.903 1946.17 149.736 L1946.17 148.787 L1941.93 148.787 M1950.43 147.028 L1950.43 161.819 L1946.17 161.819 L1946.17 157.884 Q1944.71 160.245 1942.53 161.379 Q1940.36 162.49 1937.21 162.49 Q1933.23 162.49 1930.87 160.268 Q1928.53 158.023 1928.53 154.273 Q1928.53 149.898 1931.45 147.676 Q1934.39 145.454 1940.2 145.454 L1946.17 145.454 L1946.17 145.037 Q1946.17 142.097 1944.22 140.5 Q1942.3 138.879 1938.81 138.879 Q1936.59 138.879 1934.48 139.412 Q1932.37 139.944 1930.43 141.009 L1930.43 137.074 Q1932.77 136.171 1934.96 135.731 Q1937.16 135.268 1939.25 135.268 Q1944.87 135.268 1947.65 138.185 Q1950.43 141.102 1950.43 147.028 Z\" fill=\"#000000\" fill-rule=\"evenodd\" fill-opacity=\"1\" /><path clip-path=\"url(#clip960)\" d=\"M1959.2 125.801 L1963.46 125.801 L1963.46 161.819 L1959.2 161.819 L1959.2 125.801 Z\" fill=\"#000000\" fill-rule=\"evenodd\" fill-opacity=\"1\" /><path clip-path=\"url(#clip960)\" d=\"M1976.49 157.93 L1976.49 171.68 L1972.21 171.68 L1972.21 135.893 L1976.49 135.893 L1976.49 139.829 Q1977.83 137.514 1979.87 136.403 Q1981.93 135.268 1984.78 135.268 Q1989.5 135.268 1992.44 139.018 Q1995.4 142.768 1995.4 148.879 Q1995.4 154.991 1992.44 158.74 Q1989.5 162.49 1984.78 162.49 Q1981.93 162.49 1979.87 161.379 Q1977.83 160.245 1976.49 157.93 M1990.98 148.879 Q1990.98 144.18 1989.04 141.518 Q1987.12 138.833 1983.74 138.833 Q1980.36 138.833 1978.41 141.518 Q1976.49 144.18 1976.49 148.879 Q1976.49 153.578 1978.41 156.264 Q1980.36 158.926 1983.74 158.926 Q1987.12 158.926 1989.04 156.264 Q1990.98 153.578 1990.98 148.879 Z\" fill=\"#000000\" fill-rule=\"evenodd\" fill-opacity=\"1\" /><path clip-path=\"url(#clip960)\" d=\"M2024.02 146.171 L2024.02 161.819 L2019.76 161.819 L2019.76 146.31 Q2019.76 142.629 2018.32 140.801 Q2016.89 138.972 2014.02 138.972 Q2010.57 138.972 2008.58 141.171 Q2006.58 143.37 2006.58 147.166 L2006.58 161.819 L2002.3 161.819 L2002.3 125.801 L2006.58 125.801 L2006.58 139.921 Q2008.11 137.583 2010.17 136.426 Q2012.26 135.268 2014.96 135.268 Q2019.43 135.268 2021.72 138.046 Q2024.02 140.801 2024.02 146.171 Z\" fill=\"#000000\" fill-rule=\"evenodd\" fill-opacity=\"1\" /><path clip-path=\"url(#clip960)\" d=\"M2044.29 148.787 Q2039.13 148.787 2037.14 149.967 Q2035.15 151.148 2035.15 153.995 Q2035.15 156.264 2036.63 157.606 Q2038.14 158.926 2040.7 158.926 Q2044.25 158.926 2046.38 156.426 Q2048.53 153.903 2048.53 149.736 L2048.53 148.787 L2044.29 148.787 M2052.79 147.028 L2052.79 161.819 L2048.53 161.819 L2048.53 157.884 Q2047.07 160.245 2044.89 161.379 Q2042.72 162.49 2039.57 162.49 Q2035.59 162.49 2033.23 160.268 Q2030.89 158.023 2030.89 154.273 Q2030.89 149.898 2033.81 147.676 Q2036.75 145.454 2042.56 145.454 L2048.53 145.454 L2048.53 145.037 Q2048.53 142.097 2046.58 140.5 Q2044.66 138.879 2041.17 138.879 Q2038.95 138.879 2036.84 139.412 Q2034.73 139.944 2032.79 141.009 L2032.79 137.074 Q2035.13 136.171 2037.33 135.731 Q2039.52 135.268 2041.61 135.268 Q2047.23 135.268 2050.01 138.185 Q2052.79 141.102 2052.79 147.028 Z\" fill=\"#000000\" fill-rule=\"evenodd\" fill-opacity=\"1\" /><path clip-path=\"url(#clip960)\" d=\"M2062.12 140.292 L2091.79 140.292 L2091.79 144.18 L2062.12 144.18 L2062.12 140.292 M2062.12 149.736 L2091.79 149.736 L2091.79 153.671 L2062.12 153.671 L2062.12 149.736 Z\" fill=\"#000000\" fill-rule=\"evenodd\" fill-opacity=\"1\" /><path clip-path=\"url(#clip960)\" d=\"M2105.91 157.884 L2122.23 157.884 L2122.23 161.819 L2100.29 161.819 L2100.29 157.884 Q2102.95 155.129 2107.53 150.5 Q2112.14 145.847 2113.32 144.504 Q2115.57 141.981 2116.45 140.245 Q2117.35 138.486 2117.35 136.796 Q2117.35 134.042 2115.4 132.305 Q2113.48 130.569 2110.38 130.569 Q2108.18 130.569 2105.73 131.333 Q2103.3 132.097 2100.52 133.648 L2100.52 128.926 Q2103.34 127.792 2105.8 127.213 Q2108.25 126.634 2110.29 126.634 Q2115.66 126.634 2118.85 129.319 Q2122.05 132.005 2122.05 136.495 Q2122.05 138.625 2121.24 140.546 Q2120.45 142.444 2118.34 145.037 Q2117.76 145.708 2114.66 148.926 Q2111.56 152.12 2105.91 157.884 Z\" fill=\"#000000\" fill-rule=\"evenodd\" fill-opacity=\"1\" /><path clip-path=\"url(#clip960)\" d=\"M2132.05 155.94 L2136.93 155.94 L2136.93 161.819 L2132.05 161.819 L2132.05 155.94 Z\" fill=\"#000000\" fill-rule=\"evenodd\" fill-opacity=\"1\" /><path clip-path=\"url(#clip960)\" d=\"M2151.14 157.884 L2167.46 157.884 L2167.46 161.819 L2145.52 161.819 L2145.52 157.884 Q2148.18 155.129 2152.76 150.5 Q2157.37 145.847 2158.55 144.504 Q2160.8 141.981 2161.68 140.245 Q2162.58 138.486 2162.58 136.796 Q2162.58 134.042 2160.63 132.305 Q2158.71 130.569 2155.61 130.569 Q2153.41 130.569 2150.96 131.333 Q2148.53 132.097 2145.75 133.648 L2145.75 128.926 Q2148.57 127.792 2151.03 127.213 Q2153.48 126.634 2155.52 126.634 Q2160.89 126.634 2164.08 129.319 Q2167.28 132.005 2167.28 136.495 Q2167.28 138.625 2166.47 140.546 Q2165.68 142.444 2163.57 145.037 Q2163 145.708 2159.89 148.926 Q2156.79 152.12 2151.14 157.884 Z\" fill=\"#000000\" fill-rule=\"evenodd\" fill-opacity=\"1\" /><path clip-path=\"url(#clip960)\" d=\"M2177.32 127.259 L2195.68 127.259 L2195.68 131.194 L2181.61 131.194 L2181.61 139.667 Q2182.63 139.319 2183.64 139.157 Q2184.66 138.972 2185.68 138.972 Q2191.47 138.972 2194.85 142.143 Q2198.23 145.315 2198.23 150.731 Q2198.23 156.31 2194.75 159.412 Q2191.28 162.49 2184.96 162.49 Q2182.79 162.49 2180.52 162.12 Q2178.27 161.75 2175.87 161.009 L2175.87 156.31 Q2177.95 157.444 2180.17 158 Q2182.39 158.555 2184.87 158.555 Q2188.88 158.555 2191.21 156.449 Q2193.55 154.342 2193.55 150.731 Q2193.55 147.12 2191.21 145.014 Q2188.88 142.907 2184.87 142.907 Q2183 142.907 2181.12 143.324 Q2179.27 143.741 2177.32 144.62 L2177.32 127.259 Z\" fill=\"#000000\" fill-rule=\"evenodd\" fill-opacity=\"1\" /><path clip-path=\"url(#clip960)\" d=\"M2207.58 161.102 L2207.58 156.842 Q2209.34 157.676 2211.14 158.115 Q2212.95 158.555 2214.69 158.555 Q2219.31 158.555 2221.75 155.453 Q2224.2 152.328 2224.55 145.986 Q2223.2 147.977 2221.14 149.041 Q2219.08 150.106 2216.58 150.106 Q2211.4 150.106 2208.37 146.981 Q2205.36 143.833 2205.36 138.393 Q2205.36 133.069 2208.5 129.852 Q2211.65 126.634 2216.88 126.634 Q2222.88 126.634 2226.03 131.241 Q2229.2 135.824 2229.2 144.574 Q2229.2 152.745 2225.31 157.629 Q2221.44 162.49 2214.89 162.49 Q2213.13 162.49 2211.33 162.143 Q2209.52 161.796 2207.58 161.102 M2216.88 146.449 Q2220.03 146.449 2221.86 144.296 Q2223.71 142.143 2223.71 138.393 Q2223.71 134.667 2221.86 132.514 Q2220.03 130.338 2216.88 130.338 Q2213.74 130.338 2211.88 132.514 Q2210.06 134.667 2210.06 138.393 Q2210.06 142.143 2211.88 144.296 Q2213.74 146.449 2216.88 146.449 Z\" fill=\"#000000\" fill-rule=\"evenodd\" fill-opacity=\"1\" /><path clip-path=\"url(#clip960)\" d=\"M2237.74 161.102 L2237.74 156.842 Q2239.5 157.676 2241.31 158.115 Q2243.11 158.555 2244.85 158.555 Q2249.48 158.555 2251.91 155.453 Q2254.36 152.328 2254.71 145.986 Q2253.37 147.977 2251.31 149.041 Q2249.25 150.106 2246.75 150.106 Q2241.56 150.106 2238.53 146.981 Q2235.52 143.833 2235.52 138.393 Q2235.52 133.069 2238.67 129.852 Q2241.81 126.634 2247.05 126.634 Q2253.04 126.634 2256.19 131.241 Q2259.36 135.824 2259.36 144.574 Q2259.36 152.745 2255.47 157.629 Q2251.61 162.49 2245.06 162.49 Q2243.3 162.49 2241.49 162.143 Q2239.69 161.796 2237.74 161.102 M2247.05 146.449 Q2250.19 146.449 2252.02 144.296 Q2253.87 142.143 2253.87 138.393 Q2253.87 134.667 2252.02 132.514 Q2250.19 130.338 2247.05 130.338 Q2243.9 130.338 2242.05 132.514 Q2240.22 134.667 2240.22 138.393 Q2240.22 142.143 2242.05 144.296 Q2243.9 146.449 2247.05 146.449 Z\" fill=\"#000000\" fill-rule=\"evenodd\" fill-opacity=\"1\" /></svg>\n"
      ]
     },
     "metadata": {},
     "output_type": "display_data"
    }
   ],
   "source": [
    "Plots.plot(xlabel = \"k\", ylabel = \"P(k)\")\n",
    "x_ccdf, y_ccdf = fit_degrees.ccdf()\n",
    "Plots.plot!(x_ccdf, y_ccdf, xscale=:log10, yscale=:log10, label=\"side=$side, alpha=$alpha\", linewidth=2.5)\n",
    "\n",
    "# Theoretical power_law\n",
    "\n",
    "fit_degrees_power_law = fit_degrees.power_law.plot_ccdf()[:lines][1]\n",
    "x_powlaw, y_powlaw = fit_degrees_power_law[:get_xdata](), fit_degrees_power_law[:get_ydata]()\n",
    "Plots.plot!(x_powlaw, y_powlaw, xscale=:log10, yscale=:log10, label=\"\", color=:red, linestyle=:dash) #label=\"power law, alpha=$(alpha)\")"
   ]
  },
  {
   "cell_type": "code",
   "execution_count": 40,
   "metadata": {},
   "outputs": [
    {
     "data": {
      "text/plain": [
       "(73.58654878576934, 3.687471151684337e-5)"
      ]
     },
     "metadata": {},
     "output_type": "display_data"
    }
   ],
   "source": [
    "fit_degrees.distribution_compare(\"power_law\",\"exponential\")"
   ]
  },
  {
   "cell_type": "code",
   "execution_count": 41,
   "metadata": {},
   "outputs": [
    {
     "data": {
      "text/plain": [
       "(0.0, 1.0)"
      ]
     },
     "metadata": {},
     "output_type": "display_data"
    }
   ],
   "source": [
    "fit_degrees.distribution_compare(\"power_law\",\"power_law\")"
   ]
  },
  {
   "cell_type": "code",
   "execution_count": null,
   "metadata": {},
   "outputs": [],
   "source": [
    "Plots.plot(xlabel = \"k\", ylabel = \"P(k)\")\n",
    "for side in [3,5,8,10,15]\n",
    "    df, df_cubes = region_cube_split(df,side=side)\n",
    "    MG = create_network(df, df_cubes)\n",
    "    degrees=[]\n",
    "    # indegrees=[]\n",
    "    # outdegrees=[]\n",
    "    for i in 1:nv(MG)\n",
    "        push!(degrees, get_prop(MG, i, :degree))\n",
    "        # push!(indegrees, get_prop(MG, i, :indegree))\n",
    "        # push!(outdegrees, get_prop(MG, i, :outdegree))\n",
    "    end\n",
    "\n",
    "    fit = powlaw.Fit(degrees);\n",
    "    alpha = round(fit.alpha,digits=4)\n",
    "\n",
    "    # CCDF of data truncated\n",
    "    x_ccdf, y_ccdf = fit.ccdf()\n",
    "    Plots.plot!(x_ccdf, y_ccdf, xscale=:log10, yscale=:log10, label=\"side=$side, alpha=$alpha\", linewidth=2.5)\n",
    "    \n",
    "    # Theoretical power_law\n",
    "    \n",
    "    fit_degrees_power_law = fit.power_law.plot_ccdf()[:lines][1]\n",
    "    x_powlaw, y_powlaw = fit_degrees_power_law[:get_xdata](), fit_degrees_power_law[:get_ydata]()\n",
    "    Plots.plot!(x_powlaw, y_powlaw, xscale=:log10, yscale=:log10, label=\"\", color=:red, linestyle=:dash) #label=\"power law, alpha=$(alpha)\")\n",
    "    \n",
    "    # # Theoretical lognormal\n",
    "    # mu = round(fit.lognormal.mu, digits=4)\n",
    "    # fit_degrees_lognormal = fit.lognormal.plot_ccdf()[:lines][1]\n",
    "    # x_lognormal, y_lognormal = fit_degrees_lognormal[:get_xdata](), fit_degrees_lognormal[:get_ydata]()\n",
    "    # Plots.plot!(x_lognormal, y_lognormal, xscale=:log10, yscale=:log10, label=\"\") #label=\"lognormal, mu=$(mu)\")\n",
    "\n",
    "end\n",
    "plot!(size=(800,500), legend=:bottomleft)\n",
    "current()\n",
    "Plots.savefig(\"./results/$region/$(region)_mag_$(magnitude_threshold)_ccdfs_and_fits.png\")\n",
    "current()"
   ]
  },
  {
   "cell_type": "code",
   "execution_count": null,
   "metadata": {},
   "outputs": [],
   "source": []
  },
  {
   "cell_type": "code",
   "execution_count": 28,
   "metadata": {},
   "outputs": [
    {
     "ename": "ErrorException",
     "evalue": "syntax: invalid character \"’\" near column 34",
     "output_type": "error",
     "traceback": [
      "syntax: invalid character \"’\" near column 34\n",
      "\n",
      "Stacktrace:\n",
      " [1] top-level scope\n",
      "   @ /media/gabipana/work/Work/PROJECTS/seismic-networks/seismic-networks-julia-dev/connectivity_par_dep_errors.ipynb:1"
     ]
    }
   ],
   "source": [
    "fit_degrees.distribution_compare(’power_law’, ’exponential’)\n"
   ]
  },
  {
   "cell_type": "code",
   "execution_count": 21,
   "metadata": {},
   "outputs": [
    {
     "ename": "UndefVarError",
     "evalue": "UndefVarError: likelihoods not defined",
     "output_type": "error",
     "traceback": [
      "UndefVarError: likelihoods not defined\n",
      "\n",
      "Stacktrace:\n",
      " [1] getproperty(x::Module, f::Symbol)\n",
      "   @ Base ./Base.jl:31\n",
      " [2] top-level scope\n",
      "   @ /media/gabipana/work/Work/PROJECTS/seismic-networks/seismic-networks-julia-dev/connectivity_par_dep_errors.ipynb:1"
     ]
    }
   ],
   "source": [
    "powlaw.likelihoods(degrees)"
   ]
  },
  {
   "cell_type": "code",
   "execution_count": 11,
   "metadata": {},
   "outputs": [
    {
     "data": {
      "text/plain": [
       "1-element Vector{Any}:\n",
       " 10.0"
      ]
     },
     "metadata": {},
     "output_type": "display_data"
    }
   ],
   "source": [
    "degrees_xmin"
   ]
  },
  {
   "cell_type": "code",
   "execution_count": 23,
   "metadata": {},
   "outputs": [
    {
     "ename": "UndefVarError",
     "evalue": "UndefVarError: power_law not defined",
     "output_type": "error",
     "traceback": [
      "UndefVarError: power_law not defined\n",
      "\n",
      "Stacktrace:\n",
      " [1] getproperty(x::Module, f::Symbol)\n",
      "   @ Base ./Base.jl:31\n",
      " [2] top-level scope\n",
      "   @ /media/gabipana/work/Work/PROJECTS/seismic-networks/seismic-networks-julia-dev/connectivity_par_dep_errors.ipynb:1"
     ]
    }
   ],
   "source": [
    "powlaw.power_law.likelihoods(degrees)"
   ]
  },
  {
   "cell_type": "code",
   "execution_count": null,
   "metadata": {},
   "outputs": [],
   "source": []
  }
 ],
 "metadata": {
  "kernelspec": {
   "display_name": "Julia 1.8.5",
   "language": "julia",
   "name": "julia-1.8"
  },
  "language_info": {
   "file_extension": ".jl",
   "mimetype": "application/julia",
   "name": "julia",
   "version": "1.8.5"
  },
  "orig_nbformat": 4
 },
 "nbformat": 4,
 "nbformat_minor": 2
}
