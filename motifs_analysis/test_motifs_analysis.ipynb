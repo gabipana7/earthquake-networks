{
 "cells": [
  {
   "cell_type": "code",
   "execution_count": 9,
   "metadata": {},
   "outputs": [
    {
     "data": {
      "text/plain": [
       "volume_tetrahedrons (generic function with 1 method)"
      ]
     },
     "metadata": {},
     "output_type": "display_data"
    }
   ],
   "source": [
    "using CSV, DataFrames\n",
    "using FileIO, Dates\n",
    "using DelimitedFiles\n",
    "\n",
    "include(\"../region_cube_split/cubes.jl\")\n",
    "include(\"./motifs_analysis.jl\")"
   ]
  },
  {
   "cell_type": "code",
   "execution_count": 2,
   "metadata": {},
   "outputs": [],
   "source": [
    "romania_full = CSV.read(\"../data/romania.csv\", DataFrame);\n",
    "romania = romania_full[romania_full.Datetime .> DateTime(1976,1,1,0,0,0),:];\n",
    "\n",
    "vrancea = romania[(romania.Latitude .>= 45.20) .& (romania.Latitude .<= 46.0) .& \n",
    "                    (romania.Longitude .>= 26.0) .& (romania.Longitude .<= 27.0) .&\n",
    "                    (romania.Depth .>= 50.0) .& (romania.Depth .<= 200.0), :];"
   ]
  },
  {
   "cell_type": "code",
   "execution_count": 3,
   "metadata": {},
   "outputs": [],
   "source": [
    "vrancea, vrancea_cubes = region_cube_split(vrancea,side=5,energyRelease=true);"
   ]
  },
  {
   "cell_type": "code",
   "execution_count": 4,
   "metadata": {},
   "outputs": [],
   "source": [
    "filename=\"./motifsTriangle_vrancea_5km.csv\"\n",
    "motifs = readdlm(filename, ',', Int64);\n",
    "motifs;"
   ]
  },
  {
   "cell_type": "code",
   "execution_count": 8,
   "metadata": {},
   "outputs": [
    {
     "data": {
      "text/plain": [
       "Dict{Any, Any} with 2312 entries:\n",
       "  1144 => [1.06164e12, 4.3573e10]\n",
       "  2108 => [3.06265e12, 1.03199e11]\n",
       "  1175 => [3.11695e12, 1.12903e11]\n",
       "  1953 => [2.19417e12, 8.58461e10]\n",
       "  719  => [4.99602e11, 4.36058e10]\n",
       "  1546 => [1.3779e12, 6.83807e10]\n",
       "  1703 => [6.48054e12, 1.74651e11]\n",
       "  1956 => [2.49914e12, 1.37161e11]\n",
       "  2261 => [3.07928e12, 9.16835e10]\n",
       "  2288 => [6.98603e12, 1.94934e11]\n",
       "  1028 => [9.37478e11, 5.65458e10]\n",
       "  699  => [2.09455e12, 6.99485e10]\n",
       "  831  => [1.03681e12, 3.69834e10]\n",
       "  1299 => [1.29191e12, 8.8249e10]\n",
       "  1438 => [1.2565e12, 8.09358e10]\n",
       "  1074 => [1.58424e12, 5.54168e10]\n",
       "  319  => [4.62493e12, 1.27889e11]\n",
       "  687  => [1.14613e12, 1.0504e11]\n",
       "  1812 => [3.50642e12, 1.46098e11]\n",
       "  ⋮    => ⋮"
      ]
     },
     "metadata": {},
     "output_type": "display_data"
    }
   ],
   "source": [
    "motif_energy = total_mean_energy(motifs, vrancea, vrancea_cubes)"
   ]
  },
  {
   "cell_type": "code",
   "execution_count": null,
   "metadata": {},
   "outputs": [],
   "source": []
  }
 ],
 "metadata": {
  "kernelspec": {
   "display_name": "Julia 1.8.5",
   "language": "julia",
   "name": "julia-1.8"
  },
  "language_info": {
   "file_extension": ".jl",
   "mimetype": "application/julia",
   "name": "julia",
   "version": "1.8.5"
  },
  "orig_nbformat": 4,
  "vscode": {
   "interpreter": {
    "hash": "0f70a35dd2b85e0fbdf740964da3dda7ef418e2ba19e1da9e3dbc65ae5d9559a"
   }
  }
 },
 "nbformat": 4,
 "nbformat_minor": 2
}
