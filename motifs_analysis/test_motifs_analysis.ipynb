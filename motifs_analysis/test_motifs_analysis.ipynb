{
 "cells": [
  {
   "cell_type": "code",
   "execution_count": 8,
   "metadata": {},
   "outputs": [
    {
     "data": {
      "text/plain": [
       "volume_tetrahedrons (generic function with 1 method)"
      ]
     },
     "metadata": {},
     "output_type": "display_data"
    }
   ],
   "source": [
    "using CSV, DataFrames\n",
    "using FileIO, Dates\n",
    "using DelimitedFiles\n",
    "\n",
    "include(\"../region_cube_split/cubes.jl\")\n",
    "include(\"./motifs_analysis.jl\")"
   ]
  },
  {
   "cell_type": "code",
   "execution_count": 2,
   "metadata": {},
   "outputs": [],
   "source": [
    "romania_full = CSV.read(\"../data/romania.csv\", DataFrame);\n",
    "romania = romania_full[romania_full.Datetime .> DateTime(1976,1,1,0,0,0),:];\n",
    "\n",
    "vrancea = romania[(romania.Latitude .>= 45.20) .& (romania.Latitude .<= 46.0) .& \n",
    "                    (romania.Longitude .>= 26.0) .& (romania.Longitude .<= 27.0) .&\n",
    "                    (romania.Depth .>= 50.0) .& (romania.Depth .<= 200.0), :];"
   ]
  },
  {
   "cell_type": "code",
   "execution_count": 3,
   "metadata": {},
   "outputs": [],
   "source": [
    "vrancea, vrancea_cubes = region_cube_split(vrancea,side=5,energyRelease=true);"
   ]
  },
  {
   "cell_type": "code",
   "execution_count": 11,
   "metadata": {},
   "outputs": [
    {
     "data": {
      "text/plain": [
       "\"Triangle\""
      ]
     },
     "metadata": {},
     "output_type": "display_data"
    }
   ],
   "source": [
    "motif = \"Triangle\"\n",
    "# motif = \"Tetrahedron\""
   ]
  },
  {
   "cell_type": "code",
   "execution_count": 12,
   "metadata": {},
   "outputs": [],
   "source": [
    "filename= \"./motifs\" * motif * \"_vrancea_5km.csv\"\n",
    "motifs = readdlm(filename, ',', Int64);\n",
    "motifs;"
   ]
  },
  {
   "cell_type": "code",
   "execution_count": 13,
   "metadata": {},
   "outputs": [
    {
     "data": {
      "text/plain": [
       "Dict{Any, Any} with 2312 entries:\n",
       "  1144 => [1.06164e12, 4.3573e10]\n",
       "  2108 => [3.06265e12, 1.03199e11]\n",
       "  1175 => [3.11695e12, 1.12903e11]\n",
       "  1953 => [2.19417e12, 8.58461e10]\n",
       "  719  => [4.99602e11, 4.36058e10]\n",
       "  1546 => [1.3779e12, 6.83807e10]\n",
       "  1703 => [6.48054e12, 1.74651e11]\n",
       "  1956 => [2.49914e12, 1.37161e11]\n",
       "  2261 => [3.07928e12, 9.16835e10]\n",
       "  2288 => [6.98603e12, 1.94934e11]\n",
       "  1028 => [9.37478e11, 5.65458e10]\n",
       "  699  => [2.09455e12, 6.99485e10]\n",
       "  831  => [1.03681e12, 3.69834e10]\n",
       "  1299 => [1.29191e12, 8.8249e10]\n",
       "  1438 => [1.2565e12, 8.09358e10]\n",
       "  1074 => [1.58424e12, 5.54168e10]\n",
       "  319  => [4.62493e12, 1.27889e11]\n",
       "  687  => [1.14613e12, 1.0504e11]\n",
       "  1812 => [3.50642e12, 1.46098e11]\n",
       "  ⋮    => ⋮"
      ]
     },
     "metadata": {},
     "output_type": "display_data"
    }
   ],
   "source": [
    "motif_energy = total_mean_energy(motifs, vrancea, vrancea_cubes)"
   ]
  },
  {
   "cell_type": "code",
   "execution_count": 14,
   "metadata": {},
   "outputs": [],
   "source": []
  },
  {
   "cell_type": "code",
   "execution_count": 15,
   "metadata": {},
   "outputs": [
    {
     "data": {
      "text/plain": [
       "Dict{Any, Any} with 2312 entries:\n",
       "  1144 => 12.6804\n",
       "  2108 => 37.2354\n",
       "  1175 => 74.5312\n",
       "  1953 => 12.4318\n",
       "  719  => 74.3585\n",
       "  1546 => 99.6018\n",
       "  1703 => 0.0706402\n",
       "  1956 => 12.5215\n",
       "  2261 => 12.2484\n",
       "  2288 => 37.2352\n",
       "  1028 => 74.536\n",
       "  699  => 0.0515364\n",
       "  831  => 24.8242\n",
       "  1299 => 61.8098\n",
       "  1438 => 12.5353\n",
       "  1074 => 12.4124\n",
       "  319  => 12.4519\n",
       "  687  => 49.6237\n",
       "  1812 => 0.0125032\n",
       "  ⋮    => ⋮"
      ]
     },
     "metadata": {},
     "output_type": "display_data"
    }
   ],
   "source": [
    "areas = area_triangles(motifs, vrancea_cubes)"
   ]
  },
  {
   "cell_type": "code",
   "execution_count": null,
   "metadata": {},
   "outputs": [],
   "source": []
  },
  {
   "cell_type": "code",
   "execution_count": 16,
   "metadata": {},
   "outputs": [
    {
     "data": {
      "text/plain": [
       "\"Tetrahedron\""
      ]
     },
     "metadata": {},
     "output_type": "display_data"
    }
   ],
   "source": [
    "# motif = \"Triangle\"\n",
    "motif = \"Tetrahedron\""
   ]
  },
  {
   "cell_type": "code",
   "execution_count": 17,
   "metadata": {},
   "outputs": [],
   "source": [
    "filename= \"./motifs\" * motif * \"_vrancea_5km.csv\"\n",
    "motifs = readdlm(filename, ',', Int64);\n",
    "motifs;"
   ]
  },
  {
   "cell_type": "code",
   "execution_count": 18,
   "metadata": {},
   "outputs": [
    {
     "data": {
      "text/plain": [
       "21977×4 Matrix{Int64}:\n",
       "  652  577  189    2\n",
       "  652  577  192    2\n",
       " 1281  353  168    2\n",
       " 1281  353  336    2\n",
       "  480   56    4    3\n",
       " 1390  169   42   22\n",
       "   81   82   42   24\n",
       "   81   82   76   24\n",
       "   78   79   36   26\n",
       "  933  917  163   27\n",
       "    ⋮            \n",
       "  181  666  151   15\n",
       "  181  376  160   56\n",
       "  181  330  329  242\n",
       "  181  919  189   46\n",
       "  181  919  566  141\n",
       "  181  919  131  141\n",
       "  181  919  131   56\n",
       "  181  919  131   15\n",
       "  181  919  131   66"
      ]
     },
     "metadata": {},
     "output_type": "display_data"
    }
   ],
   "source": [
    "motifs"
   ]
  },
  {
   "cell_type": "code",
   "execution_count": 19,
   "metadata": {},
   "outputs": [
    {
     "data": {
      "text/plain": [
       "Dict{Any, Any} with 21977 entries:\n",
       "  11950 => [1.54193e12, 7.31641e10]\n",
       "  1703  => [4.8157e11, 2.06604e10]\n",
       "  12427 => [1.63154e12, 5.0651e10]\n",
       "  7685  => [9.99835e12, 4.06294e11]\n",
       "  18374 => [5.59464e12, 1.61607e11]\n",
       "  3406  => [2.09461e13, 1.38262e12]\n",
       "  1090  => [2.45345e12, 9.88382e10]\n",
       "  2015  => [5.7741e13, 1.96905e12]\n",
       "  18139 => [2.48052e12, 1.06015e11]\n",
       "  17088 => [5.40481e12, 1.65503e11]\n",
       "  11280 => [2.69321e13, 1.53375e12]\n",
       "  16805 => [2.61405e12, 1.0413e12]\n",
       "  3220  => [2.51717e12, 1.00208e11]\n",
       "  11251 => [2.19959e13, 1.43391e12]\n",
       "  422   => [1.7971e13, 6.00658e11]\n",
       "  15370 => [2.91777e15, 1.38809e14]\n",
       "  15859 => [1.59227e12, 8.40716e10]\n",
       "  4030  => [2.18481e12, 1.58372e11]\n",
       "  8060  => [8.41971e11, 3.78217e10]\n",
       "  ⋮     => ⋮"
      ]
     },
     "metadata": {},
     "output_type": "display_data"
    }
   ],
   "source": [
    "motif_energy = total_mean_energy(motifs, vrancea, vrancea_cubes)"
   ]
  },
  {
   "cell_type": "code",
   "execution_count": null,
   "metadata": {},
   "outputs": [],
   "source": []
  },
  {
   "cell_type": "code",
   "execution_count": 20,
   "metadata": {},
   "outputs": [
    {
     "data": {
      "text/plain": [
       "Dict{Any, Any} with 21977 entries:\n",
       "  11950 => 1.023\n",
       "  1703  => 1.07235\n",
       "  12427 => 1.54003\n",
       "  7685  => 0.225364\n",
       "  18374 => 0.159408\n",
       "  3406  => 0.247584\n",
       "  1090  => 0.473368\n",
       "  2015  => 0.54375\n",
       "  18139 => 1.53502\n",
       "  17088 => 0.174772\n",
       "  11280 => 0.139509\n",
       "  16805 => 1.13957\n",
       "  3220  => 0.661264\n",
       "  11251 => 0.614917\n",
       "  422   => 0.0545653\n",
       "  15370 => 0.0909343\n",
       "  15859 => 0.255473\n",
       "  4030  => 0.231534\n",
       "  8060  => 0.156393\n",
       "  ⋮     => ⋮"
      ]
     },
     "metadata": {},
     "output_type": "display_data"
    }
   ],
   "source": [
    "voluems = volume_tetrahedrons(motifs,vrancea_cubes)"
   ]
  },
  {
   "cell_type": "code",
   "execution_count": null,
   "metadata": {},
   "outputs": [],
   "source": []
  }
 ],
 "metadata": {
  "kernelspec": {
   "display_name": "Julia 1.8.5",
   "language": "julia",
   "name": "julia-1.8"
  },
  "language_info": {
   "file_extension": ".jl",
   "mimetype": "application/julia",
   "name": "julia",
   "version": "1.8.5"
  },
  "orig_nbformat": 4,
  "vscode": {
   "interpreter": {
    "hash": "0f70a35dd2b85e0fbdf740964da3dda7ef418e2ba19e1da9e3dbc65ae5d9559a"
   }
  }
 },
 "nbformat": 4,
 "nbformat_minor": 2
}
