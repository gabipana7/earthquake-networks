{
 "cells": [
  {
   "cell_type": "code",
   "execution_count": 87,
   "metadata": {},
   "outputs": [
    {
     "data": {
      "text/plain": [
       "add_properties (generic function with 1 method)"
      ]
     },
     "metadata": {},
     "output_type": "display_data"
    }
   ],
   "source": [
    "using CSV, DataFrames\n",
    "using FileIO, Dates\n",
    "using DelimitedFiles\n",
    "\n",
    "include(\"../region_cube_split/cubes.jl\")\n",
    "include(\"../region_network_create/network.jl\")"
   ]
  },
  {
   "cell_type": "code",
   "execution_count": 2,
   "metadata": {},
   "outputs": [],
   "source": [
    "romania_full = CSV.read(\"../data/romania.csv\", DataFrame);\n",
    "romania = romania_full[romania_full.Datetime .> DateTime(1976,1,1,0,0,0),:];\n",
    "\n",
    "vrancea = romania[(romania.Latitude .>= 45.20) .& (romania.Latitude .<= 46.0) .& \n",
    "                    (romania.Longitude .>= 26.0) .& (romania.Longitude .<= 27.0) .&\n",
    "                    (romania.Depth .>= 50.0) .& (romania.Depth .<= 200.0), :];"
   ]
  },
  {
   "cell_type": "code",
   "execution_count": 3,
   "metadata": {},
   "outputs": [],
   "source": [
    "vrancea, vrancea_cubes = region_cube_split(vrancea,side=5,energyRelease=true);"
   ]
  },
  {
   "cell_type": "code",
   "execution_count": 5,
   "metadata": {},
   "outputs": [
    {
     "data": {
      "text/plain": [
       "{1727, 7612} undirected Int64 metagraph with Float64 weights defined by :weight (default weight 1.0)"
      ]
     },
     "metadata": {},
     "output_type": "display_data"
    }
   ],
   "source": [
    "MG = create_network(vrancea, vrancea_cubes; edgeWeight=true)\n",
    "# MG = add_properties(MG, vrancea_cubes)"
   ]
  },
  {
   "cell_type": "code",
   "execution_count": 6,
   "metadata": {},
   "outputs": [
    {
     "data": {
      "text/plain": [
       "\"./motifsTriangle_vrancea_5km.csv\""
      ]
     },
     "metadata": {},
     "output_type": "display_data"
    }
   ],
   "source": [
    "filename=\"./motifsTriangle_vrancea_5km.csv\""
   ]
  },
  {
   "cell_type": "code",
   "execution_count": 7,
   "metadata": {},
   "outputs": [],
   "source": [
    "# motifs = CSV.read(filename, DataFrame;header=false)\n",
    "\n",
    "# Creates a matrix: number of motifs x motif nodes (3 for triangles, 4 for tetrahedrons)\n",
    "motifs = readdlm(filename, ',', Int64);\n",
    "motifs;\n"
   ]
  },
  {
   "cell_type": "code",
   "execution_count": 86,
   "metadata": {},
   "outputs": [
    {
     "data": {
      "text/plain": [
       "Matrix{Int64}\u001b[90m (alias for \u001b[39m\u001b[90mArray{Int64, 2}\u001b[39m\u001b[90m)\u001b[39m"
      ]
     },
     "metadata": {},
     "output_type": "display_data"
    }
   ],
   "source": [
    "typeof(motifs)"
   ]
  },
  {
   "cell_type": "code",
   "execution_count": 62,
   "metadata": {},
   "outputs": [],
   "source": [
    "# Calculate total energy and mean energy only for cubes that are part of motifs\n",
    "# This is done to reduce calculations. I do not need to calculate these for each motif\n",
    "# (because, nodes are repeated in motifs.)\n",
    "# (I calculate separately, then I just add them up for each motif)\n",
    "\n",
    "# Get all the cubes, uniquely\n",
    "vec_motifs = unique!(vec(motifs));\n",
    "\n",
    "# Will apend to a dictionary: cubeIndex => [totalEnergy, meanEnergy]\n",
    "df = Dict()\n",
    "for value in vec_motifs\n",
    "    # Get the cube from df_cubes\n",
    "    respective_cube = vrancea_cubes.cubeIndex[value]\n",
    "    # Use the cube to get all the quakes in that cube from df\n",
    "    quakesInNode = vrancea[vrancea.cubeIndex .== respective_cube,:];\n",
    "\n",
    "    # Calculate total energy and mean energy\n",
    "    totalEnergy = sum(quakesInNode.energyRelease)\n",
    "    meanEnergy = totalEnergy / length(quakesInNode.energyRelease)\n",
    "\n",
    "    # Push to dictionary\n",
    "    df[value] = [totalEnergy, meanEnergy]\n",
    "end"
   ]
  },
  {
   "cell_type": "code",
   "execution_count": 85,
   "metadata": {},
   "outputs": [],
   "source": [
    "# Caclulate total energy and mean energy per each motif\n",
    "motifs_energy = Dict()\n",
    "for i=1:length(motifs[:,1])\n",
    "    total_energy_in_motif = df[motifs[i,1]][1] + \n",
    "                            df[motifs[i,2]][1] + \n",
    "                            df[motifs[i,3]][1]\n",
    "    mean_energy_in_motif = df[motifs[i,1]][2] + \n",
    "                            df[motifs[i,2]][2] + \n",
    "                            df[motifs[i,3]][2]\n",
    "\n",
    "    motifs_energy[i] = [total_energy_in_motif,mean_energy_in_motif]\n",
    "end"
   ]
  },
  {
   "cell_type": "code",
   "execution_count": 84,
   "metadata": {},
   "outputs": [
    {
     "data": {
      "text/plain": [
       "Dict{Any, Any} with 2312 entries:\n",
       "  1144 => [1.06164e12, 4.3573e10]\n",
       "  2108 => [3.06265e12, 1.03199e11]\n",
       "  1175 => [3.11695e12, 1.12903e11]\n",
       "  1953 => [2.19417e12, 8.58461e10]\n",
       "  719  => [4.99602e11, 4.36058e10]\n",
       "  1546 => [1.3779e12, 6.83807e10]\n",
       "  1703 => [6.48054e12, 1.74651e11]\n",
       "  1956 => [2.49914e12, 1.37161e11]\n",
       "  2261 => [3.07928e12, 9.16835e10]\n",
       "  2288 => [6.98603e12, 1.94934e11]\n",
       "  1028 => [9.37478e11, 5.65458e10]\n",
       "  699  => [2.09455e12, 6.99485e10]\n",
       "  831  => [1.03681e12, 3.69834e10]\n",
       "  1299 => [1.29191e12, 8.8249e10]\n",
       "  1438 => [1.2565e12, 8.09358e10]\n",
       "  1074 => [1.58424e12, 5.54168e10]\n",
       "  319  => [4.62493e12, 1.27889e11]\n",
       "  687  => [1.14613e12, 1.0504e11]\n",
       "  1812 => [3.50642e12, 1.46098e11]\n",
       "  ⋮    => ⋮"
      ]
     },
     "metadata": {},
     "output_type": "display_data"
    }
   ],
   "source": [
    "motifs_energy"
   ]
  },
  {
   "cell_type": "code",
   "execution_count": null,
   "metadata": {},
   "outputs": [],
   "source": []
  },
  {
   "cell_type": "code",
   "execution_count": null,
   "metadata": {},
   "outputs": [],
   "source": []
  },
  {
   "cell_type": "code",
   "execution_count": null,
   "metadata": {},
   "outputs": [],
   "source": [
    "using Geodesy"
   ]
  },
  {
   "cell_type": "code",
   "execution_count": 88,
   "metadata": {},
   "outputs": [
    {
     "data": {
      "text/plain": [
       "1165"
      ]
     },
     "metadata": {},
     "output_type": "display_data"
    }
   ],
   "source": [
    "motifs[1,1]"
   ]
  },
  {
   "cell_type": "code",
   "execution_count": null,
   "metadata": {},
   "outputs": [],
   "source": [
    "# Caclulate total energy and mean energy per each motif\n",
    "areas = Dict()\n",
    "for i=1:length(motifs[:,1])\n",
    "    total_energy_in_motif = df[motifs[i,1]][1] + \n",
    "                            df[motifs[i,2]][1] + \n",
    "                            df[motifs[i,3]][1]\n",
    "    mean_energy_in_motif = df[motifs[i,1]][2] + df[motifs[i,2]][2] + df[motifs[i,3]][2]\n",
    "\n",
    "    areas[i] = \n",
    "end"
   ]
  }
 ],
 "metadata": {
  "kernelspec": {
   "display_name": "Julia 1.8.5",
   "language": "julia",
   "name": "julia-1.8"
  },
  "language_info": {
   "file_extension": ".jl",
   "mimetype": "application/julia",
   "name": "julia",
   "version": "1.8.5"
  },
  "orig_nbformat": 4,
  "vscode": {
   "interpreter": {
    "hash": "0f70a35dd2b85e0fbdf740964da3dda7ef418e2ba19e1da9e3dbc65ae5d9559a"
   }
  }
 },
 "nbformat": 4,
 "nbformat_minor": 2
}
