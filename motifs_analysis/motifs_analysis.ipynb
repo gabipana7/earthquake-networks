{
 "cells": [
  {
   "cell_type": "code",
   "execution_count": 87,
   "metadata": {},
   "outputs": [
    {
     "data": {
      "text/plain": [
       "add_properties (generic function with 1 method)"
      ]
     },
     "metadata": {},
     "output_type": "display_data"
    }
   ],
   "source": [
    "using CSV, DataFrames\n",
    "using FileIO, Dates\n",
    "using DelimitedFiles\n",
    "\n",
    "include(\"../region_cube_split/cubes.jl\")\n",
    "include(\"../region_network_create/network.jl\")"
   ]
  },
  {
   "cell_type": "code",
   "execution_count": 2,
   "metadata": {},
   "outputs": [],
   "source": [
    "romania_full = CSV.read(\"../data/romania.csv\", DataFrame);\n",
    "romania = romania_full[romania_full.Datetime .> DateTime(1976,1,1,0,0,0),:];\n",
    "\n",
    "vrancea = romania[(romania.Latitude .>= 45.20) .& (romania.Latitude .<= 46.0) .& \n",
    "                    (romania.Longitude .>= 26.0) .& (romania.Longitude .<= 27.0) .&\n",
    "                    (romania.Depth .>= 50.0) .& (romania.Depth .<= 200.0), :];"
   ]
  },
  {
   "cell_type": "code",
   "execution_count": 3,
   "metadata": {},
   "outputs": [],
   "source": [
    "vrancea, vrancea_cubes = region_cube_split(vrancea,side=5,energyRelease=true);"
   ]
  },
  {
   "cell_type": "code",
   "execution_count": 5,
   "metadata": {},
   "outputs": [
    {
     "data": {
      "text/plain": [
       "{1727, 7612} undirected Int64 metagraph with Float64 weights defined by :weight (default weight 1.0)"
      ]
     },
     "metadata": {},
     "output_type": "display_data"
    }
   ],
   "source": [
    "MG = create_network(vrancea, vrancea_cubes; edgeWeight=true)\n",
    "# MG = add_properties(MG, vrancea_cubes)"
   ]
  },
  {
   "cell_type": "code",
   "execution_count": 141,
   "metadata": {},
   "outputs": [
    {
     "data": {
      "text/plain": [
       "\"Tetrahedron\""
      ]
     },
     "metadata": {},
     "output_type": "display_data"
    }
   ],
   "source": [
    "# motif = \"Triangle\"\n",
    "motif = \"Tetrahedron\""
   ]
  },
  {
   "cell_type": "code",
   "execution_count": 143,
   "metadata": {},
   "outputs": [
    {
     "data": {
      "text/plain": [
       "\"./motifsTetrahedron_vrancea_5km.csv\""
      ]
     },
     "metadata": {},
     "output_type": "display_data"
    }
   ],
   "source": [
    "filename= \"./motifs\" * motif * \"_vrancea_5km.csv\""
   ]
  },
  {
   "cell_type": "code",
   "execution_count": 144,
   "metadata": {},
   "outputs": [],
   "source": [
    "# motifs = CSV.read(filename, DataFrame;header=false)\n",
    "\n",
    "# Creates a matrix: number of motifs x motif nodes (3 for triangles, 4 for tetrahedrons)\n",
    "motifs = readdlm(filename, ',', Int64);\n",
    "motifs;\n"
   ]
  },
  {
   "cell_type": "code",
   "execution_count": 145,
   "metadata": {},
   "outputs": [],
   "source": [
    "# Calculate total energy and mean energy only for cubes that are part of motifs\n",
    "# This is done to reduce calculations. I do not need to calculate these for each motif\n",
    "# (because, nodes are repeated in motifs.)\n",
    "# (I calculate separately, then I just add them up for each motif)\n",
    "\n",
    "# Get all the cubes, uniquely\n",
    "vec_motifs = unique!(vec(motifs));\n",
    "\n",
    "# Will apend to a dictionary: cubeIndex => [totalEnergy, meanEnergy]\n",
    "cube_energy = Dict()\n",
    "for value in vec_motifs\n",
    "    # Get the cube from df_cubes\n",
    "    respective_cube = vrancea_cubes.cubeIndex[value]\n",
    "    # Use the cube to get all the quakes in that cube from df\n",
    "    quakesInNode = vrancea[vrancea.cubeIndex .== respective_cube,:];\n",
    "\n",
    "    # Calculate total energy and mean energy\n",
    "    totalEnergy = sum(quakesInNode.energyRelease)\n",
    "    meanEnergy = totalEnergy / length(quakesInNode.energyRelease)\n",
    "\n",
    "    # Push to dictionary\n",
    "    cube_energy[value] = [totalEnergy, meanEnergy]\n",
    "end"
   ]
  },
  {
   "cell_type": "code",
   "execution_count": 148,
   "metadata": {},
   "outputs": [],
   "source": [
    "# Caclulate total energy and mean energy per each motif\n",
    "motif_energy = Dict()\n",
    "for i=1:length(motifs[:,1])\n",
    "    # initialize with zero\n",
    "    total_energy_in_motif=0\n",
    "    mean_energy_in_motif=0\n",
    "    # parse each motif (3 elements for Triangles, 4 for Tetrahedrons)\n",
    "    for j=1:length(motifs[1,:])\n",
    "        # add to total energy and mean energy\n",
    "        total_energy_in_motif += cube_energy[motifs[i,j]][1] \n",
    "        mean_energy_in_motif += cube_energy[motifs[i,j]][2]  \n",
    "    end\n",
    "    # Add to dictionary\n",
    "    motif_energy[i] = [total_energy_in_motif,mean_energy_in_motif]\n",
    "end"
   ]
  },
  {
   "cell_type": "code",
   "execution_count": 149,
   "metadata": {},
   "outputs": [
    {
     "data": {
      "text/plain": [
       "Dict{Any, Any} with 21977 entries:\n",
       "  11950 => [1.54193e12, 7.31641e10]\n",
       "  1703  => [4.8157e11, 2.06604e10]\n",
       "  12427 => [1.63154e12, 5.0651e10]\n",
       "  7685  => [9.99835e12, 4.06294e11]\n",
       "  18374 => [5.59464e12, 1.61607e11]\n",
       "  3406  => [2.09461e13, 1.38262e12]\n",
       "  1090  => [2.45345e12, 9.88382e10]\n",
       "  2015  => [5.7741e13, 1.96905e12]\n",
       "  18139 => [2.48052e12, 1.06015e11]\n",
       "  17088 => [5.40481e12, 1.65503e11]\n",
       "  11280 => [2.69321e13, 1.53375e12]\n",
       "  16805 => [2.61405e12, 1.0413e12]\n",
       "  3220  => [2.51717e12, 1.00208e11]\n",
       "  11251 => [2.19959e13, 1.43391e12]\n",
       "  422   => [1.7971e13, 6.00658e11]\n",
       "  15370 => [2.91777e15, 1.38809e14]\n",
       "  15859 => [1.59227e12, 8.40716e10]\n",
       "  4030  => [2.18481e12, 1.58372e11]\n",
       "  8060  => [8.41971e11, 3.78217e10]\n",
       "  ⋮     => ⋮"
      ]
     },
     "metadata": {},
     "output_type": "display_data"
    }
   ],
   "source": [
    "motifs_energy"
   ]
  },
  {
   "cell_type": "code",
   "execution_count": null,
   "metadata": {},
   "outputs": [],
   "source": []
  },
  {
   "cell_type": "code",
   "execution_count": null,
   "metadata": {},
   "outputs": [],
   "source": []
  },
  {
   "cell_type": "code",
   "execution_count": null,
   "metadata": {},
   "outputs": [],
   "source": [
    "using Geodesy"
   ]
  },
  {
   "cell_type": "code",
   "execution_count": 89,
   "metadata": {},
   "outputs": [
    {
     "data": {
      "text/html": [
       "<div><div style = \"float: left;\"><span>1727×7 DataFrame</span></div><div style = \"float: right;\"><span style = \"font-style: italic;\">1702 rows omitted</span></div><div style = \"clear: both;\"></div></div><div class = \"data-frame\" style = \"overflow-x: scroll;\"><table class = \"data-frame\" style = \"margin-bottom: 6px;\"><thead><tr class = \"header\"><th class = \"rowNumber\" style = \"font-weight: bold; text-align: right;\">Row</th><th style = \"text-align: left;\">cubeIndex</th><th style = \"text-align: left;\">xLatitude</th><th style = \"text-align: left;\">yLongitude</th><th style = \"text-align: left;\">zDepth</th><th style = \"text-align: left;\">cubeLatitude</th><th style = \"text-align: left;\">cubeLongitude</th><th style = \"text-align: left;\">cubeDepth</th></tr><tr class = \"subheader headerLastRow\"><th class = \"rowNumber\" style = \"font-weight: bold; text-align: right;\"></th><th title = \"String\" style = \"text-align: left;\">String</th><th title = \"Int64\" style = \"text-align: left;\">Int64</th><th title = \"Int64\" style = \"text-align: left;\">Int64</th><th title = \"Int64\" style = \"text-align: left;\">Int64</th><th title = \"Float64\" style = \"text-align: left;\">Float64</th><th title = \"Float64\" style = \"text-align: left;\">Float64</th><th title = \"Float64\" style = \"text-align: left;\">Float64</th></tr></thead><tbody><tr><td class = \"rowNumber\" style = \"font-weight: bold; text-align: right;\">1</td><td style = \"text-align: left;\">6433</td><td style = \"text-align: right;\">8</td><td style = \"text-align: right;\">6</td><td style = \"text-align: right;\">23</td><td style = \"text-align: right;\">45.5374</td><td style = \"text-align: right;\">26.35</td><td style = \"text-align: right;\">162.5</td></tr><tr><td class = \"rowNumber\" style = \"font-weight: bold; text-align: right;\">2</td><td style = \"text-align: left;\">6183</td><td style = \"text-align: right;\">10</td><td style = \"text-align: right;\">8</td><td style = \"text-align: right;\">22</td><td style = \"text-align: right;\">45.6274</td><td style = \"text-align: right;\">26.4773</td><td style = \"text-align: right;\">157.5</td></tr><tr><td class = \"rowNumber\" style = \"font-weight: bold; text-align: right;\">3</td><td style = \"text-align: left;\">5608</td><td style = \"text-align: right;\">11</td><td style = \"text-align: right;\">8</td><td style = \"text-align: right;\">20</td><td style = \"text-align: right;\">45.6724</td><td style = \"text-align: right;\">26.4773</td><td style = \"text-align: right;\">147.5</td></tr><tr><td class = \"rowNumber\" style = \"font-weight: bold; text-align: right;\">4</td><td style = \"text-align: left;\">2514</td><td style = \"text-align: right;\">13</td><td style = \"text-align: right;\">12</td><td style = \"text-align: right;\">9</td><td style = \"text-align: right;\">45.7623</td><td style = \"text-align: right;\">26.7318</td><td style = \"text-align: right;\">92.5</td></tr><tr><td class = \"rowNumber\" style = \"font-weight: bold; text-align: right;\">5</td><td style = \"text-align: left;\">5364</td><td style = \"text-align: right;\">1</td><td style = \"text-align: right;\">11</td><td style = \"text-align: right;\">19</td><td style = \"text-align: right;\">45.2225</td><td style = \"text-align: right;\">26.6682</td><td style = \"text-align: right;\">142.5</td></tr><tr><td class = \"rowNumber\" style = \"font-weight: bold; text-align: right;\">6</td><td style = \"text-align: left;\">4077</td><td style = \"text-align: right;\">10</td><td style = \"text-align: right;\">3</td><td style = \"text-align: right;\">15</td><td style = \"text-align: right;\">45.6274</td><td style = \"text-align: right;\">26.1591</td><td style = \"text-align: right;\">122.5</td></tr><tr><td class = \"rowNumber\" style = \"font-weight: bold; text-align: right;\">7</td><td style = \"text-align: left;\">4107</td><td style = \"text-align: right;\">4</td><td style = \"text-align: right;\">5</td><td style = \"text-align: right;\">15</td><td style = \"text-align: right;\">45.3575</td><td style = \"text-align: right;\">26.2864</td><td style = \"text-align: right;\">122.5</td></tr><tr><td class = \"rowNumber\" style = \"font-weight: bold; text-align: right;\">8</td><td style = \"text-align: left;\">3632</td><td style = \"text-align: right;\">15</td><td style = \"text-align: right;\">10</td><td style = \"text-align: right;\">13</td><td style = \"text-align: right;\">45.8523</td><td style = \"text-align: right;\">26.6046</td><td style = \"text-align: right;\">112.5</td></tr><tr><td class = \"rowNumber\" style = \"font-weight: bold; text-align: right;\">9</td><td style = \"text-align: left;\">1852</td><td style = \"text-align: right;\">17</td><td style = \"text-align: right;\">7</td><td style = \"text-align: right;\">7</td><td style = \"text-align: right;\">45.9423</td><td style = \"text-align: right;\">26.4136</td><td style = \"text-align: right;\">82.5</td></tr><tr><td class = \"rowNumber\" style = \"font-weight: bold; text-align: right;\">10</td><td style = \"text-align: left;\">3442</td><td style = \"text-align: right;\">5</td><td style = \"text-align: right;\">16</td><td style = \"text-align: right;\">12</td><td style = \"text-align: right;\">45.4024</td><td style = \"text-align: right;\">26.9864</td><td style = \"text-align: right;\">107.5</td></tr><tr><td class = \"rowNumber\" style = \"font-weight: bold; text-align: right;\">11</td><td style = \"text-align: left;\">2220</td><td style = \"text-align: right;\">7</td><td style = \"text-align: right;\">12</td><td style = \"text-align: right;\">8</td><td style = \"text-align: right;\">45.4924</td><td style = \"text-align: right;\">26.7318</td><td style = \"text-align: right;\">87.5</td></tr><tr><td class = \"rowNumber\" style = \"font-weight: bold; text-align: right;\">12</td><td style = \"text-align: left;\">2856</td><td style = \"text-align: right;\">13</td><td style = \"text-align: right;\">15</td><td style = \"text-align: right;\">10</td><td style = \"text-align: right;\">45.7623</td><td style = \"text-align: right;\">26.9227</td><td style = \"text-align: right;\">97.5</td></tr><tr><td class = \"rowNumber\" style = \"font-weight: bold; text-align: right;\">13</td><td style = \"text-align: left;\">3127</td><td style = \"text-align: right;\">14</td><td style = \"text-align: right;\">14</td><td style = \"text-align: right;\">11</td><td style = \"text-align: right;\">45.8073</td><td style = \"text-align: right;\">26.8591</td><td style = \"text-align: right;\">102.5</td></tr><tr><td style = \"text-align: right;\">&vellip;</td><td style = \"text-align: right;\">&vellip;</td><td style = \"text-align: right;\">&vellip;</td><td style = \"text-align: right;\">&vellip;</td><td style = \"text-align: right;\">&vellip;</td><td style = \"text-align: right;\">&vellip;</td><td style = \"text-align: right;\">&vellip;</td><td style = \"text-align: right;\">&vellip;</td></tr><tr><td class = \"rowNumber\" style = \"font-weight: bold; text-align: right;\">1716</td><td style = \"text-align: left;\">2956</td><td style = \"text-align: right;\">5</td><td style = \"text-align: right;\">5</td><td style = \"text-align: right;\">11</td><td style = \"text-align: right;\">45.4024</td><td style = \"text-align: right;\">26.2864</td><td style = \"text-align: right;\">102.5</td></tr><tr><td class = \"rowNumber\" style = \"font-weight: bold; text-align: right;\">1717</td><td style = \"text-align: left;\">1129</td><td style = \"text-align: right;\">14</td><td style = \"text-align: right;\">15</td><td style = \"text-align: right;\">4</td><td style = \"text-align: right;\">45.8073</td><td style = \"text-align: right;\">26.9227</td><td style = \"text-align: right;\">67.5</td></tr><tr><td class = \"rowNumber\" style = \"font-weight: bold; text-align: right;\">1718</td><td style = \"text-align: left;\">3656</td><td style = \"text-align: right;\">3</td><td style = \"text-align: right;\">12</td><td style = \"text-align: right;\">13</td><td style = \"text-align: right;\">45.3125</td><td style = \"text-align: right;\">26.7318</td><td style = \"text-align: right;\">112.5</td></tr><tr><td class = \"rowNumber\" style = \"font-weight: bold; text-align: right;\">1719</td><td style = \"text-align: left;\">2721</td><td style = \"text-align: right;\">4</td><td style = \"text-align: right;\">8</td><td style = \"text-align: right;\">10</td><td style = \"text-align: right;\">45.3575</td><td style = \"text-align: right;\">26.4773</td><td style = \"text-align: right;\">97.5</td></tr><tr><td class = \"rowNumber\" style = \"font-weight: bold; text-align: right;\">1720</td><td style = \"text-align: left;\">2401</td><td style = \"text-align: right;\">8</td><td style = \"text-align: right;\">6</td><td style = \"text-align: right;\">9</td><td style = \"text-align: right;\">45.5374</td><td style = \"text-align: right;\">26.35</td><td style = \"text-align: right;\">92.5</td></tr><tr><td class = \"rowNumber\" style = \"font-weight: bold; text-align: right;\">1721</td><td style = \"text-align: left;\">3270</td><td style = \"text-align: right;\">13</td><td style = \"text-align: right;\">6</td><td style = \"text-align: right;\">12</td><td style = \"text-align: right;\">45.7623</td><td style = \"text-align: right;\">26.35</td><td style = \"text-align: right;\">107.5</td></tr><tr><td class = \"rowNumber\" style = \"font-weight: bold; text-align: right;\">1722</td><td style = \"text-align: left;\">809</td><td style = \"text-align: right;\">18</td><td style = \"text-align: right;\">13</td><td style = \"text-align: right;\">3</td><td style = \"text-align: right;\">45.9873</td><td style = \"text-align: right;\">26.7955</td><td style = \"text-align: right;\">62.5</td></tr><tr><td class = \"rowNumber\" style = \"font-weight: bold; text-align: right;\">1723</td><td style = \"text-align: left;\">3198</td><td style = \"text-align: right;\">13</td><td style = \"text-align: right;\">2</td><td style = \"text-align: right;\">12</td><td style = \"text-align: right;\">45.7623</td><td style = \"text-align: right;\">26.0955</td><td style = \"text-align: right;\">107.5</td></tr><tr><td class = \"rowNumber\" style = \"font-weight: bold; text-align: right;\">1724</td><td style = \"text-align: left;\">4813</td><td style = \"text-align: right;\">8</td><td style = \"text-align: right;\">12</td><td style = \"text-align: right;\">17</td><td style = \"text-align: right;\">45.5374</td><td style = \"text-align: right;\">26.7318</td><td style = \"text-align: right;\">132.5</td></tr><tr><td class = \"rowNumber\" style = \"font-weight: bold; text-align: right;\">1725</td><td style = \"text-align: left;\">3824</td><td style = \"text-align: right;\">9</td><td style = \"text-align: right;\">5</td><td style = \"text-align: right;\">14</td><td style = \"text-align: right;\">45.5824</td><td style = \"text-align: right;\">26.2864</td><td style = \"text-align: right;\">117.5</td></tr><tr><td class = \"rowNumber\" style = \"font-weight: bold; text-align: right;\">1726</td><td style = \"text-align: left;\">601</td><td style = \"text-align: right;\">8</td><td style = \"text-align: right;\">2</td><td style = \"text-align: right;\">3</td><td style = \"text-align: right;\">45.5374</td><td style = \"text-align: right;\">26.0955</td><td style = \"text-align: right;\">62.5</td></tr><tr><td class = \"rowNumber\" style = \"font-weight: bold; text-align: right;\">1727</td><td style = \"text-align: left;\">265</td><td style = \"text-align: right;\">14</td><td style = \"text-align: right;\">15</td><td style = \"text-align: right;\">1</td><td style = \"text-align: right;\">45.8073</td><td style = \"text-align: right;\">26.9227</td><td style = \"text-align: right;\">52.5</td></tr></tbody></table></div>"
      ],
      "text/latex": [
       "\\begin{tabular}{r|ccccccc}\n",
       "\t& cubeIndex & xLatitude & yLongitude & zDepth & cubeLatitude & cubeLongitude & cubeDepth\\\\\n",
       "\t\\hline\n",
       "\t& String & Int64 & Int64 & Int64 & Float64 & Float64 & Float64\\\\\n",
       "\t\\hline\n",
       "\t1 & 6433 & 8 & 6 & 23 & 45.5374 & 26.35 & 162.5 \\\\\n",
       "\t2 & 6183 & 10 & 8 & 22 & 45.6274 & 26.4773 & 157.5 \\\\\n",
       "\t3 & 5608 & 11 & 8 & 20 & 45.6724 & 26.4773 & 147.5 \\\\\n",
       "\t4 & 2514 & 13 & 12 & 9 & 45.7623 & 26.7318 & 92.5 \\\\\n",
       "\t5 & 5364 & 1 & 11 & 19 & 45.2225 & 26.6682 & 142.5 \\\\\n",
       "\t6 & 4077 & 10 & 3 & 15 & 45.6274 & 26.1591 & 122.5 \\\\\n",
       "\t7 & 4107 & 4 & 5 & 15 & 45.3575 & 26.2864 & 122.5 \\\\\n",
       "\t8 & 3632 & 15 & 10 & 13 & 45.8523 & 26.6046 & 112.5 \\\\\n",
       "\t9 & 1852 & 17 & 7 & 7 & 45.9423 & 26.4136 & 82.5 \\\\\n",
       "\t10 & 3442 & 5 & 16 & 12 & 45.4024 & 26.9864 & 107.5 \\\\\n",
       "\t11 & 2220 & 7 & 12 & 8 & 45.4924 & 26.7318 & 87.5 \\\\\n",
       "\t12 & 2856 & 13 & 15 & 10 & 45.7623 & 26.9227 & 97.5 \\\\\n",
       "\t13 & 3127 & 14 & 14 & 11 & 45.8073 & 26.8591 & 102.5 \\\\\n",
       "\t14 & 2819 & 12 & 13 & 10 & 45.7174 & 26.7955 & 97.5 \\\\\n",
       "\t15 & 2189 & 12 & 10 & 8 & 45.7174 & 26.6046 & 87.5 \\\\\n",
       "\t16 & 1074 & 13 & 12 & 4 & 45.7623 & 26.7318 & 67.5 \\\\\n",
       "\t17 & 6666 & 7 & 3 & 24 & 45.4924 & 26.1591 & 167.5 \\\\\n",
       "\t18 & 4152 & 13 & 7 & 15 & 45.7623 & 26.4136 & 122.5 \\\\\n",
       "\t19 & 3932 & 9 & 11 & 14 & 45.5824 & 26.6682 & 117.5 \\\\\n",
       "\t20 & 2361 & 4 & 4 & 9 & 45.3575 & 26.2227 & 92.5 \\\\\n",
       "\t21 & 5934 & 13 & 10 & 21 & 45.7623 & 26.6046 & 152.5 \\\\\n",
       "\t22 & 4205 & 12 & 10 & 15 & 45.7174 & 26.6046 & 122.5 \\\\\n",
       "\t23 & 3356 & 9 & 11 & 12 & 45.5824 & 26.6682 & 107.5 \\\\\n",
       "\t24 & 4781 & 12 & 10 & 17 & 45.7174 & 26.6046 & 132.5 \\\\\n",
       "\t$\\dots$ & $\\dots$ & $\\dots$ & $\\dots$ & $\\dots$ & $\\dots$ & $\\dots$ & $\\dots$ \\\\\n",
       "\\end{tabular}\n"
      ],
      "text/plain": [
       "\u001b[1m1727×7 DataFrame\u001b[0m\n",
       "\u001b[1m  Row \u001b[0m│\u001b[1m cubeIndex \u001b[0m\u001b[1m xLatitude \u001b[0m\u001b[1m yLongitude \u001b[0m\u001b[1m zDepth \u001b[0m\u001b[1m cubeLatitude \u001b[0m\u001b[1m cubeLongitude \u001b[0m\u001b[1m\u001b[0m ⋯\n",
       "      │\u001b[90m String    \u001b[0m\u001b[90m Int64     \u001b[0m\u001b[90m Int64      \u001b[0m\u001b[90m Int64  \u001b[0m\u001b[90m Float64      \u001b[0m\u001b[90m Float64       \u001b[0m\u001b[90m\u001b[0m ⋯\n",
       "──────┼─────────────────────────────────────────────────────────────────────────\n",
       "    1 │ 6433               8           6      23       45.5374        26.35    ⋯\n",
       "    2 │ 6183              10           8      22       45.6274        26.4773\n",
       "    3 │ 5608              11           8      20       45.6724        26.4773\n",
       "    4 │ 2514              13          12       9       45.7623        26.7318\n",
       "    5 │ 5364               1          11      19       45.2225        26.6682  ⋯\n",
       "    6 │ 4077              10           3      15       45.6274        26.1591\n",
       "    7 │ 4107               4           5      15       45.3575        26.2864\n",
       "    8 │ 3632              15          10      13       45.8523        26.6046\n",
       "  ⋮   │     ⋮          ⋮          ⋮         ⋮          ⋮              ⋮        ⋱\n",
       " 1721 │ 3270              13           6      12       45.7623        26.35    ⋯\n",
       " 1722 │ 809               18          13       3       45.9873        26.7955\n",
       " 1723 │ 3198              13           2      12       45.7623        26.0955\n",
       " 1724 │ 4813               8          12      17       45.5374        26.7318\n",
       " 1725 │ 3824               9           5      14       45.5824        26.2864  ⋯\n",
       " 1726 │ 601                8           2       3       45.5374        26.0955\n",
       " 1727 │ 265               14          15       1       45.8073        26.9227\n",
       "\u001b[36m                                                  1 column and 1712 rows omitted\u001b[0m"
      ]
     },
     "metadata": {},
     "output_type": "display_data"
    }
   ],
   "source": [
    "vrancea_cubes"
   ]
  },
  {
   "cell_type": "code",
   "execution_count": 119,
   "metadata": {},
   "outputs": [],
   "source": [
    "areas = Dict()\n",
    "for i=1:length(motifs[:,1])\n",
    "    x = Vector{Any}(undef,3)\n",
    "    for j=1:3\n",
    "\n",
    "        lat = vrancea_cubes.cubeLatitude[motifs[i,j]]\n",
    "        lon = vrancea_cubes.cubeLongitude[motifs[i,j]]\n",
    "        dep = vrancea_cubes.cubeDepth[motifs[i,j]]\n",
    "\n",
    "        x[j] = LLA(lat,lon,-dep)\n",
    "\n",
    "    end\n",
    "\n",
    "    a = Geodesy.euclidean_distance(x[1],x[2]) / 1000\n",
    "    b = Geodesy.euclidean_distance(x[2],x[3]) / 1000\n",
    "    c = Geodesy.euclidean_distance(x[1],x[3]) / 1000;\n",
    "\n",
    "    # calculate semiperimeter\n",
    "    sp = (a+b+c)/2\n",
    "            \n",
    "    # Use Heron's formula Area = sqrt(semiperimeter(sp-a)(sp-b)(sp-c))\n",
    "    # We have the areas of the triangle, append them to lists ! \n",
    "\n",
    "    A = sqrt(abs(sp*(sp-a)*(sp-b)*(sp-c)))\n",
    "\n",
    "    areas[i] = A\n",
    "end"
   ]
  },
  {
   "cell_type": "code",
   "execution_count": null,
   "metadata": {},
   "outputs": [],
   "source": []
  },
  {
   "cell_type": "code",
   "execution_count": null,
   "metadata": {},
   "outputs": [],
   "source": []
  },
  {
   "cell_type": "code",
   "execution_count": 126,
   "metadata": {},
   "outputs": [
    {
     "data": {
      "text/plain": [
       "\"./motifsTetrahedron_vrancea_5km.csv\""
      ]
     },
     "metadata": {},
     "output_type": "display_data"
    }
   ],
   "source": [
    "filename=\"./motifsTetrahedron_vrancea_5km.csv\""
   ]
  },
  {
   "cell_type": "code",
   "execution_count": 128,
   "metadata": {},
   "outputs": [],
   "source": [
    "# motifs = CSV.read(filename, DataFrame;header=false)\n",
    "\n",
    "# Creates a matrix: number of motifs x motif nodes (3 for triangles, 4 for tetrahedrons)\n",
    "motifs = readdlm(filename, ',', Int64);\n",
    "motifs;\n"
   ]
  },
  {
   "cell_type": "code",
   "execution_count": 140,
   "metadata": {},
   "outputs": [
    {
     "data": {
      "text/plain": [
       "4"
      ]
     },
     "metadata": {},
     "output_type": "display_data"
    }
   ],
   "source": [
    "length(motifs[1,:])"
   ]
  },
  {
   "attachments": {},
   "cell_type": "markdown",
   "metadata": {},
   "source": [
    "### Volumes"
   ]
  },
  {
   "cell_type": "code",
   "execution_count": 130,
   "metadata": {},
   "outputs": [],
   "source": [
    "volumes = Dict()\n",
    "for i=1:length(motifs[:,1])\n",
    "    x = Vector{Any}(undef,4)\n",
    "    for j=1:4\n",
    "\n",
    "        lat = vrancea_cubes.cubeLatitude[motifs[i,j]]\n",
    "        lon = vrancea_cubes.cubeLongitude[motifs[i,j]]\n",
    "        dep = vrancea_cubes.cubeDepth[motifs[i,j]]\n",
    "\n",
    "        x[j] = LLA(lat,lon,-dep)\n",
    "\n",
    "    end\n",
    "\n",
    "    W = Geodesy.euclidean_distance(x[1],x[2]) / 1000\n",
    "    V = Geodesy.euclidean_distance(x[2],x[3]) / 1000\n",
    "    U = Geodesy.euclidean_distance(x[1],x[3]) / 1000\n",
    "    u = Geodesy.euclidean_distance(x[2],x[4]) / 1000\n",
    "    v = Geodesy.euclidean_distance(x[1],x[4]) / 1000\n",
    "    w = Geodesy.euclidean_distance(x[3],x[4]) / 1000\n",
    "\n",
    "    # calculate elements that go into elements that go into Heron formula\n",
    "    A = (w-U+v)*(U+v+w)\n",
    "    B = (u-V+w)*(V+w+u)\n",
    "    C = (v-W+u)*(W+u+v)\n",
    "    \n",
    "    a = (U-v+w)*(v-w+U)\n",
    "    b = (V-w+u)*(w-u+V)\n",
    "    c = (W-u+v)*(u-v+W)\n",
    "\n",
    "    # elements that go into Heron formula\n",
    "    p = sqrt(abs(a*B*C))\n",
    "    q = sqrt(abs(b*C*A))\n",
    "    r = sqrt(abs(c*A*B))\n",
    "    s = sqrt(abs(a*b*c))\n",
    "            \n",
    "    # Use Heron's formula Area = sqrt(semiperimeter(sp-a)(sp-b)(sp-c))\n",
    "    # We have the areas of the triangle, append them to lists ! \n",
    "\n",
    "    V = sqrt(abs((-p+q+r+s)*(p-q+r+s)*(p+q-r+s)*(p+q+r-s)))/(192*u*v*w)\n",
    "\n",
    "    volumes[i] = V\n",
    "end"
   ]
  },
  {
   "cell_type": "code",
   "execution_count": 131,
   "metadata": {},
   "outputs": [
    {
     "data": {
      "text/plain": [
       "Dict{Any, Any} with 21977 entries:\n",
       "  11950 => 1.023\n",
       "  1703  => 1.07235\n",
       "  12427 => 1.54003\n",
       "  7685  => 0.225364\n",
       "  18374 => 0.159408\n",
       "  3406  => 0.247584\n",
       "  1090  => 0.588097\n",
       "  2015  => 0.54375\n",
       "  18139 => 1.53502\n",
       "  17088 => 0.174772\n",
       "  11280 => 0.139509\n",
       "  16805 => 1.13957\n",
       "  3220  => 0.661264\n",
       "  11251 => 0.614917\n",
       "  422   => 0.206537\n",
       "  15370 => 0.0909343\n",
       "  15859 => 0.255473\n",
       "  4030  => 0.231534\n",
       "  8060  => 0.156393\n",
       "  ⋮     => ⋮"
      ]
     },
     "metadata": {},
     "output_type": "display_data"
    }
   ],
   "source": [
    "volumes"
   ]
  },
  {
   "cell_type": "code",
   "execution_count": null,
   "metadata": {},
   "outputs": [],
   "source": []
  },
  {
   "cell_type": "code",
   "execution_count": 136,
   "metadata": {},
   "outputs": [
    {
     "data": {
      "text/plain": [
       "power_law (generic function with 1 method)"
      ]
     },
     "metadata": {},
     "output_type": "display_data"
    }
   ],
   "source": [
    "# Define the function to do the regression with \n",
    "function power_law(x, a, b)\n",
    "    return a*x^-b\n",
    "end"
   ]
  },
  {
   "cell_type": "code",
   "execution_count": null,
   "metadata": {},
   "outputs": [],
   "source": []
  }
 ],
 "metadata": {
  "kernelspec": {
   "display_name": "Julia 1.8.5",
   "language": "julia",
   "name": "julia-1.8"
  },
  "language_info": {
   "file_extension": ".jl",
   "mimetype": "application/julia",
   "name": "julia",
   "version": "1.8.5"
  },
  "orig_nbformat": 4,
  "vscode": {
   "interpreter": {
    "hash": "0f70a35dd2b85e0fbdf740964da3dda7ef418e2ba19e1da9e3dbc65ae5d9559a"
   }
  }
 },
 "nbformat": 4,
 "nbformat_minor": 2
}
