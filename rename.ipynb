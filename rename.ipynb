{
 "cells": [
  {
   "cell_type": "code",
   "execution_count": 1,
   "metadata": {},
   "outputs": [],
   "source": [
    "import os\n",
    "\n",
    "def rename_files(folder, old_word, new_word):\n",
    "    for root, dirs, files in os.walk(folder):\n",
    "        for filename in files:\n",
    "            if old_word in filename:\n",
    "                old_path = os.path.join(root, filename)\n",
    "                new_filename = filename.replace(old_word, new_word)\n",
    "                new_path = os.path.join(root, new_filename)\n",
    "                os.rename(old_path, new_path)\n",
    "                print(f\"Renamed {old_path} to {new_path}\")\n",
    "\n"
   ]
  },
  {
   "cell_type": "code",
   "execution_count": 5,
   "metadata": {},
   "outputs": [
    {
     "name": "stdout",
     "output_type": "stream",
     "text": [
      "Renamed ./results/california\\california_mag_0.0_alpha_xmin_dependency_cell_size.png to ./results/california\\california_minmag_0.0_alpha_xmin_dependency_cell_size.png\n",
      "Renamed ./results/california\\california_mag_0.0_alpha_xmin_dependency_cell_size_goodness_fit.png to ./results/california\\california_minmag_0.0_alpha_xmin_dependency_cell_size_goodness_fit.png\n",
      "Renamed ./results/california\\california_mag_0.0_alpha_xmin_dependency_cell_size_goodness_fit2.png to ./results/california\\california_minmag_0.0_alpha_xmin_dependency_cell_size_goodness_fit2.png\n",
      "Renamed ./results/california\\old_fits\\california_mag_0.0_best_fits.png to ./results/california\\old_fits\\california_minmag_0.0_best_fits.png\n",
      "Renamed ./results/california\\old_fits\\california_mag_0.0_best_fits_all_data.png to ./results/california\\old_fits\\california_minmag_0.0_best_fits_all_data.png\n",
      "Renamed ./results/california\\old_fits\\california_mag_0.0_best_fits_original_data.png to ./results/california\\old_fits\\california_minmag_0.0_best_fits_original_data.png\n",
      "Renamed ./results/california\\old_fits\\california_mag_0.0_ccdfs_and_fits.png to ./results/california\\old_fits\\california_minmag_0.0_ccdfs_and_fits.png\n",
      "Renamed ./results/california\\old_fits\\california_mag_0.0_ccdfs_and_fits_original_data.png to ./results/california\\old_fits\\california_minmag_0.0_ccdfs_and_fits_original_data.png\n"
     ]
    }
   ],
   "source": [
    "# Usage example\n",
    "folder_path = \"./results/california\"  # Replace with the actual folder path\n",
    "old_word = \"mag\"  # Replace with the word you want to replace\n",
    "new_word = \"minmag\"  # Replace with the new word\n",
    "rename_files(folder_path, old_word, new_word)"
   ]
  },
  {
   "cell_type": "code",
   "execution_count": null,
   "metadata": {},
   "outputs": [],
   "source": []
  }
 ],
 "metadata": {
  "kernelspec": {
   "display_name": "Python 3",
   "language": "python",
   "name": "python3"
  },
  "language_info": {
   "codemirror_mode": {
    "name": "ipython",
    "version": 3
   },
   "file_extension": ".py",
   "mimetype": "text/x-python",
   "name": "python",
   "nbconvert_exporter": "python",
   "pygments_lexer": "ipython3",
   "version": "3.10.7"
  },
  "orig_nbformat": 4
 },
 "nbformat": 4,
 "nbformat_minor": 2
}
