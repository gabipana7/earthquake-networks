{
 "cells": [
  {
   "cell_type": "code",
   "execution_count": 1,
   "metadata": {},
   "outputs": [],
   "source": [
    "import os\n",
    "\n",
    "def rename_files(folder, old_word, new_word):\n",
    "    for root, dirs, files in os.walk(folder):\n",
    "        for filename in files:\n",
    "            if old_word in filename:\n",
    "                old_path = os.path.join(root, filename)\n",
    "                new_filename = filename.replace(old_word, new_word)\n",
    "                new_path = os.path.join(root, new_filename)\n",
    "                os.rename(old_path, new_path)\n",
    "                print(f\"Renamed {old_path} to {new_path}\")\n",
    "\n"
   ]
  },
  {
   "cell_type": "code",
   "execution_count": 7,
   "metadata": {},
   "outputs": [
    {
     "name": "stdout",
     "output_type": "stream",
     "text": [
      "Renamed ./networks/romania/cell_size_3km/motifTetrahedron_romania_cell_size_3km_minmag_0.csv to ./networks/romania/cell_size_3km/motifTetrahedron_romania_cell_size_3.0km_minmag_0.csv\n",
      "Renamed ./networks/romania/cell_size_3km/motifTetrahedron_romania_cell_size_3km_minmag_1.csv to ./networks/romania/cell_size_3km/motifTetrahedron_romania_cell_size_3.0km_minmag_1.csv\n",
      "Renamed ./networks/romania/cell_size_3km/motifTetrahedron_romania_cell_size_3km_minmag_2.csv to ./networks/romania/cell_size_3km/motifTetrahedron_romania_cell_size_3.0km_minmag_2.csv\n",
      "Renamed ./networks/romania/cell_size_3km/motifTetrahedron_romania_cell_size_3km_minmag_3.csv to ./networks/romania/cell_size_3km/motifTetrahedron_romania_cell_size_3.0km_minmag_3.csv\n",
      "Renamed ./networks/romania/cell_size_3km/motifTetrahedron_romania_cell_size_3km_minmag_4.csv to ./networks/romania/cell_size_3km/motifTetrahedron_romania_cell_size_3.0km_minmag_4.csv\n",
      "Renamed ./networks/romania/cell_size_3km/motifTriangle_romania_cell_size_3km_minmag_0.csv to ./networks/romania/cell_size_3km/motifTriangle_romania_cell_size_3.0km_minmag_0.csv\n",
      "Renamed ./networks/romania/cell_size_3km/motifTriangle_romania_cell_size_3km_minmag_1.csv to ./networks/romania/cell_size_3km/motifTriangle_romania_cell_size_3.0km_minmag_1.csv\n",
      "Renamed ./networks/romania/cell_size_3km/motifTriangle_romania_cell_size_3km_minmag_2.csv to ./networks/romania/cell_size_3km/motifTriangle_romania_cell_size_3.0km_minmag_2.csv\n",
      "Renamed ./networks/romania/cell_size_3km/motifTriangle_romania_cell_size_3km_minmag_3.csv to ./networks/romania/cell_size_3km/motifTriangle_romania_cell_size_3.0km_minmag_3.csv\n",
      "Renamed ./networks/romania/cell_size_3km/motifTriangle_romania_cell_size_3km_minmag_4.csv to ./networks/romania/cell_size_3km/motifTriangle_romania_cell_size_3.0km_minmag_4.csv\n",
      "Renamed ./networks/romania/cell_size_3km/romania_cell_size_3km_minmag_0.txt to ./networks/romania/cell_size_3km/romania_cell_size_3.0km_minmag_0.txt\n",
      "Renamed ./networks/romania/cell_size_3km/romania_cell_size_3km_minmag_1.txt to ./networks/romania/cell_size_3km/romania_cell_size_3.0km_minmag_1.txt\n",
      "Renamed ./networks/romania/cell_size_3km/romania_cell_size_3km_minmag_2.txt to ./networks/romania/cell_size_3km/romania_cell_size_3.0km_minmag_2.txt\n",
      "Renamed ./networks/romania/cell_size_3km/romania_cell_size_3km_minmag_3.txt to ./networks/romania/cell_size_3km/romania_cell_size_3.0km_minmag_3.txt\n",
      "Renamed ./networks/romania/cell_size_3km/romania_cell_size_3km_minmag_4.png to ./networks/romania/cell_size_3km/romania_cell_size_3.0km_minmag_4.png\n",
      "Renamed ./networks/romania/cell_size_3km/romania_cell_size_3km_minmag_4.txt to ./networks/romania/cell_size_3km/romania_cell_size_3.0km_minmag_4.txt\n"
     ]
    }
   ],
   "source": [
    "# Usage example\n",
    "folder_path = \"./networks/romania/cell_size_3km/\"  # Replace with the actual folder path\n",
    "old_word = \"3km\"  # Replace with the word you want to replace\n",
    "new_word = \"3.0km\"  # Replace with the new word\n",
    "rename_files(folder_path, old_word, new_word)"
   ]
  },
  {
   "cell_type": "code",
   "execution_count": null,
   "metadata": {},
   "outputs": [],
   "source": []
  }
 ],
 "metadata": {
  "kernelspec": {
   "display_name": "Python 3",
   "language": "python",
   "name": "python3"
  },
  "language_info": {
   "codemirror_mode": {
    "name": "ipython",
    "version": 3
   },
   "file_extension": ".py",
   "mimetype": "text/x-python",
   "name": "python",
   "nbconvert_exporter": "python",
   "pygments_lexer": "ipython3",
   "version": "3.10.7"
  },
  "orig_nbformat": 4
 },
 "nbformat": 4,
 "nbformat_minor": 2
}
