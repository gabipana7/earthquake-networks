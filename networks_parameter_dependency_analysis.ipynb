{
 "cells": [
  {
   "cell_type": "code",
   "execution_count": 1,
   "metadata": {},
   "outputs": [],
   "source": [
    "using CSV, DataFrames"
   ]
  },
  {
   "cell_type": "code",
   "execution_count": 15,
   "metadata": {},
   "outputs": [],
   "source": [
    "region=\"romania\"\n",
    "magnitude_threshold = 0.0;"
   ]
  },
  {
   "cell_type": "code",
   "execution_count": 38,
   "metadata": {},
   "outputs": [
    {
     "data": {
      "text/plain": [
       "parameter_dependency_analysis (generic function with 1 method)"
      ]
     },
     "metadata": {},
     "output_type": "display_data"
    }
   ],
   "source": [
    "# Analysis of parameter dependency. Based on minimum KS, proper alpha and minimum xmin\n",
    "function parameter_dependency_analysis(region; magnitude_threshold=0.0)\n",
    "    results = CSV.read(\"./results/$region/$(region)_minmag_$(magnitude_threshold)_alpha_xmin_dependency_cell_size.csv\", DataFrame);\n",
    "\n",
    "    # Eliminate records if alpha is not in range [1.5,3.5]\n",
    "\n",
    "    results_filter_alpha = results[(results.alpha .> 1.7) .& (results.alpha .< 3.2), :];\n",
    "\n",
    "    # Sort by KS and keep first 10 only\n",
    "    results_sorted_KS = sort!(results_filter_alpha, [:KS])\n",
    "    results_filter_alpha_sorted_KS = first(results_sorted_KS, 10)\n",
    "\n",
    "    # Sort by xmin and keep first 7 only\n",
    "    results_filter_alpha_sorted_KS_sorted_xmin = sort!(results_filter_alpha_sorted_KS, [:xmin])\n",
    "    best_fits_region = first(results_filter_alpha_sorted_KS_sorted_xmin, 7) \n",
    "    return(best_fits_region)\n",
    "end\n",
    "\n",
    "\n"
   ]
  },
  {
   "cell_type": "code",
   "execution_count": 39,
   "metadata": {},
   "outputs": [],
   "source": [
    "###########################################################################################################################\n",
    "\n",
    "df = DataFrame([[0,0,0,0,0,0,0]],[\"par_dep\"])\n",
    "for region in [\"romania\",\"california\",\"italy\",\"japan\"]\n",
    "    par_dep_best_fits = DataFrame([[0,0,0,0,0,0,0]],[region])\n",
    "    best_fits = parameter_dependency_analysis(region)\n",
    "    par_dep_best_fits = hcat(par_dep_best_fits, best_fits)\n",
    "    df = hcat(df, par_dep_best_fits, makeunique=true)\n",
    "end\n",
    "\n",
    "###########################################################################################################################"
   ]
  },
  {
   "cell_type": "code",
   "execution_count": 40,
   "metadata": {},
   "outputs": [
    {
     "data": {
      "text/html": [
       "<div><div style = \"float: left;\"><span>7×21 DataFrame</span></div><div style = \"clear: both;\"></div></div><div class = \"data-frame\" style = \"overflow-x: scroll;\"><table class = \"data-frame\" style = \"margin-bottom: 6px;\"><thead><tr class = \"header\"><th class = \"rowNumber\" style = \"font-weight: bold; text-align: right;\">Row</th><th style = \"text-align: left;\">par_dep</th><th style = \"text-align: left;\">romania</th><th style = \"text-align: left;\">cell_size</th><th style = \"text-align: left;\">alpha</th><th style = \"text-align: left;\">xmin</th><th style = \"text-align: left;\">KS</th><th style = \"text-align: left;\">california</th><th style = \"text-align: left;\">cell_size_1</th><th style = \"text-align: left;\">alpha_1</th><th style = \"text-align: left;\">xmin_1</th><th style = \"text-align: left;\">KS_1</th><th style = \"text-align: left;\">italy</th><th style = \"text-align: left;\">cell_size_2</th><th style = \"text-align: left;\">alpha_2</th><th style = \"text-align: left;\">xmin_2</th><th style = \"text-align: left;\">KS_2</th><th style = \"text-align: left;\">japan</th><th style = \"text-align: left;\">cell_size_3</th><th style = \"text-align: left;\">alpha_3</th><th style = \"text-align: left;\">xmin_3</th><th style = \"text-align: left;\">KS_3</th></tr><tr class = \"subheader headerLastRow\"><th class = \"rowNumber\" style = \"font-weight: bold; text-align: right;\"></th><th title = \"Int64\" style = \"text-align: left;\">Int64</th><th title = \"Int64\" style = \"text-align: left;\">Int64</th><th title = \"Float64\" style = \"text-align: left;\">Float64</th><th title = \"Float64\" style = \"text-align: left;\">Float64</th><th title = \"Float64\" style = \"text-align: left;\">Float64</th><th title = \"Float64\" style = \"text-align: left;\">Float64</th><th title = \"Int64\" style = \"text-align: left;\">Int64</th><th title = \"Float64\" style = \"text-align: left;\">Float64</th><th title = \"Float64\" style = \"text-align: left;\">Float64</th><th title = \"Float64\" style = \"text-align: left;\">Float64</th><th title = \"Float64\" style = \"text-align: left;\">Float64</th><th title = \"Int64\" style = \"text-align: left;\">Int64</th><th title = \"Float64\" style = \"text-align: left;\">Float64</th><th title = \"Float64\" style = \"text-align: left;\">Float64</th><th title = \"Float64\" style = \"text-align: left;\">Float64</th><th title = \"Float64\" style = \"text-align: left;\">Float64</th><th title = \"Int64\" style = \"text-align: left;\">Int64</th><th title = \"Float64\" style = \"text-align: left;\">Float64</th><th title = \"Float64\" style = \"text-align: left;\">Float64</th><th title = \"Float64\" style = \"text-align: left;\">Float64</th><th title = \"Float64\" style = \"text-align: left;\">Float64</th></tr></thead><tbody><tr><td class = \"rowNumber\" style = \"font-weight: bold; text-align: right;\">1</td><td style = \"text-align: right;\">0</td><td style = \"text-align: right;\">0</td><td style = \"text-align: right;\">3.5</td><td style = \"text-align: right;\">3.02817</td><td style = \"text-align: right;\">24.0</td><td style = \"text-align: right;\">0.03748</td><td style = \"text-align: right;\">0</td><td style = \"text-align: right;\">1.0</td><td style = \"text-align: right;\">3.03866</td><td style = \"text-align: right;\">108.0</td><td style = \"text-align: right;\">0.0225605</td><td style = \"text-align: right;\">0</td><td style = \"text-align: right;\">4.0</td><td style = \"text-align: right;\">1.9747</td><td style = \"text-align: right;\">14.0</td><td style = \"text-align: right;\">0.0140652</td><td style = \"text-align: right;\">0</td><td style = \"text-align: right;\">2.5</td><td style = \"text-align: right;\">2.15997</td><td style = \"text-align: right;\">20.0</td><td style = \"text-align: right;\">0.0184474</td></tr><tr><td class = \"rowNumber\" style = \"font-weight: bold; text-align: right;\">2</td><td style = \"text-align: right;\">0</td><td style = \"text-align: right;\">0</td><td style = \"text-align: right;\">4.0</td><td style = \"text-align: right;\">3.03649</td><td style = \"text-align: right;\">26.0</td><td style = \"text-align: right;\">0.027346</td><td style = \"text-align: right;\">0</td><td style = \"text-align: right;\">2.0</td><td style = \"text-align: right;\">2.50847</td><td style = \"text-align: right;\">156.0</td><td style = \"text-align: right;\">0.027515</td><td style = \"text-align: right;\">0</td><td style = \"text-align: right;\">4.5</td><td style = \"text-align: right;\">1.95191</td><td style = \"text-align: right;\">16.0</td><td style = \"text-align: right;\">0.01416</td><td style = \"text-align: right;\">0</td><td style = \"text-align: right;\">3.0</td><td style = \"text-align: right;\">2.13042</td><td style = \"text-align: right;\">30.0</td><td style = \"text-align: right;\">0.0156549</td></tr><tr><td class = \"rowNumber\" style = \"font-weight: bold; text-align: right;\">3</td><td style = \"text-align: right;\">0</td><td style = \"text-align: right;\">0</td><td style = \"text-align: right;\">4.5</td><td style = \"text-align: right;\">3.08578</td><td style = \"text-align: right;\">34.0</td><td style = \"text-align: right;\">0.0214693</td><td style = \"text-align: right;\">0</td><td style = \"text-align: right;\">1.5</td><td style = \"text-align: right;\">2.93319</td><td style = \"text-align: right;\">238.0</td><td style = \"text-align: right;\">0.0276943</td><td style = \"text-align: right;\">0</td><td style = \"text-align: right;\">5.5</td><td style = \"text-align: right;\">1.92878</td><td style = \"text-align: right;\">24.0</td><td style = \"text-align: right;\">0.0104374</td><td style = \"text-align: right;\">0</td><td style = \"text-align: right;\">3.5</td><td style = \"text-align: right;\">2.1105</td><td style = \"text-align: right;\">34.0</td><td style = \"text-align: right;\">0.0151645</td></tr><tr><td class = \"rowNumber\" style = \"font-weight: bold; text-align: right;\">4</td><td style = \"text-align: right;\">0</td><td style = \"text-align: right;\">0</td><td style = \"text-align: right;\">10.0</td><td style = \"text-align: right;\">2.29816</td><td style = \"text-align: right;\">36.0</td><td style = \"text-align: right;\">0.0450462</td><td style = \"text-align: right;\">0</td><td style = \"text-align: right;\">3.0</td><td style = \"text-align: right;\">2.44654</td><td style = \"text-align: right;\">314.0</td><td style = \"text-align: right;\">0.0327554</td><td style = \"text-align: right;\">0</td><td style = \"text-align: right;\">5.0</td><td style = \"text-align: right;\">1.94258</td><td style = \"text-align: right;\">30.0</td><td style = \"text-align: right;\">0.0151428</td><td style = \"text-align: right;\">0</td><td style = \"text-align: right;\">5.0</td><td style = \"text-align: right;\">2.07403</td><td style = \"text-align: right;\">62.0</td><td style = \"text-align: right;\">0.0166223</td></tr><tr><td class = \"rowNumber\" style = \"font-weight: bold; text-align: right;\">5</td><td style = \"text-align: right;\">0</td><td style = \"text-align: right;\">0</td><td style = \"text-align: right;\">5.5</td><td style = \"text-align: right;\">3.01461</td><td style = \"text-align: right;\">46.0</td><td style = \"text-align: right;\">0.0286123</td><td style = \"text-align: right;\">0</td><td style = \"text-align: right;\">3.5</td><td style = \"text-align: right;\">2.46298</td><td style = \"text-align: right;\">430.0</td><td style = \"text-align: right;\">0.0277091</td><td style = \"text-align: right;\">0</td><td style = \"text-align: right;\">6.0</td><td style = \"text-align: right;\">1.93309</td><td style = \"text-align: right;\">32.0</td><td style = \"text-align: right;\">0.0123827</td><td style = \"text-align: right;\">0</td><td style = \"text-align: right;\">4.0</td><td style = \"text-align: right;\">2.12911</td><td style = \"text-align: right;\">80.0</td><td style = \"text-align: right;\">0.0159554</td></tr><tr><td class = \"rowNumber\" style = \"font-weight: bold; text-align: right;\">6</td><td style = \"text-align: right;\">0</td><td style = \"text-align: right;\">0</td><td style = \"text-align: right;\">5.0</td><td style = \"text-align: right;\">3.11</td><td style = \"text-align: right;\">58.0</td><td style = \"text-align: right;\">0.0384508</td><td style = \"text-align: right;\">0</td><td style = \"text-align: right;\">4.5</td><td style = \"text-align: right;\">2.32777</td><td style = \"text-align: right;\">494.0</td><td style = \"text-align: right;\">0.0266581</td><td style = \"text-align: right;\">0</td><td style = \"text-align: right;\">6.5</td><td style = \"text-align: right;\">1.9286</td><td style = \"text-align: right;\">44.0</td><td style = \"text-align: right;\">0.0109506</td><td style = \"text-align: right;\">0</td><td style = \"text-align: right;\">6.0</td><td style = \"text-align: right;\">2.11465</td><td style = \"text-align: right;\">148.0</td><td style = \"text-align: right;\">0.017038</td></tr><tr><td class = \"rowNumber\" style = \"font-weight: bold; text-align: right;\">7</td><td style = \"text-align: right;\">0</td><td style = \"text-align: right;\">0</td><td style = \"text-align: right;\">6.0</td><td style = \"text-align: right;\">3.13416</td><td style = \"text-align: right;\">76.0</td><td style = \"text-align: right;\">0.041155</td><td style = \"text-align: right;\">0</td><td style = \"text-align: right;\">4.0</td><td style = \"text-align: right;\">2.5846</td><td style = \"text-align: right;\">820.0</td><td style = \"text-align: right;\">0.0365082</td><td style = \"text-align: right;\">0</td><td style = \"text-align: right;\">7.0</td><td style = \"text-align: right;\">1.93482</td><td style = \"text-align: right;\">56.0</td><td style = \"text-align: right;\">0.0130251</td><td style = \"text-align: right;\">0</td><td style = \"text-align: right;\">6.5</td><td style = \"text-align: right;\">2.0788</td><td style = \"text-align: right;\">150.0</td><td style = \"text-align: right;\">0.0176586</td></tr></tbody></table></div>"
      ],
      "text/latex": [
       "\\begin{tabular}{r|ccccccccc}\n",
       "\t& par\\_dep & romania & cell\\_size & alpha & xmin & KS & california & cell\\_size\\_1 & \\\\\n",
       "\t\\hline\n",
       "\t& Int64 & Int64 & Float64 & Float64 & Float64 & Float64 & Int64 & Float64 & \\\\\n",
       "\t\\hline\n",
       "\t1 & 0 & 0 & 3.5 & 3.02817 & 24.0 & 0.03748 & 0 & 1.0 & $\\dots$ \\\\\n",
       "\t2 & 0 & 0 & 4.0 & 3.03649 & 26.0 & 0.027346 & 0 & 2.0 & $\\dots$ \\\\\n",
       "\t3 & 0 & 0 & 4.5 & 3.08578 & 34.0 & 0.0214693 & 0 & 1.5 & $\\dots$ \\\\\n",
       "\t4 & 0 & 0 & 10.0 & 2.29816 & 36.0 & 0.0450462 & 0 & 3.0 & $\\dots$ \\\\\n",
       "\t5 & 0 & 0 & 5.5 & 3.01461 & 46.0 & 0.0286123 & 0 & 3.5 & $\\dots$ \\\\\n",
       "\t6 & 0 & 0 & 5.0 & 3.11 & 58.0 & 0.0384508 & 0 & 4.5 & $\\dots$ \\\\\n",
       "\t7 & 0 & 0 & 6.0 & 3.13416 & 76.0 & 0.041155 & 0 & 4.0 & $\\dots$ \\\\\n",
       "\\end{tabular}\n"
      ],
      "text/plain": [
       "\u001b[1m7×21 DataFrame\u001b[0m\n",
       "\u001b[1m Row \u001b[0m│\u001b[1m par_dep \u001b[0m\u001b[1m romania \u001b[0m\u001b[1m cell_size \u001b[0m\u001b[1m alpha   \u001b[0m\u001b[1m xmin    \u001b[0m\u001b[1m KS        \u001b[0m\u001b[1m california \u001b[0m\u001b[1m c\u001b[0m ⋯\n",
       "     │\u001b[90m Int64   \u001b[0m\u001b[90m Int64   \u001b[0m\u001b[90m Float64   \u001b[0m\u001b[90m Float64 \u001b[0m\u001b[90m Float64 \u001b[0m\u001b[90m Float64   \u001b[0m\u001b[90m Int64      \u001b[0m\u001b[90m F\u001b[0m ⋯\n",
       "─────┼──────────────────────────────────────────────────────────────────────────\n",
       "   1 │       0        0        3.5  3.02817     24.0  0.03748             0    ⋯\n",
       "   2 │       0        0        4.0  3.03649     26.0  0.027346            0\n",
       "   3 │       0        0        4.5  3.08578     34.0  0.0214693           0\n",
       "   4 │       0        0       10.0  2.29816     36.0  0.0450462           0\n",
       "   5 │       0        0        5.5  3.01461     46.0  0.0286123           0    ⋯\n",
       "   6 │       0        0        5.0  3.11        58.0  0.0384508           0\n",
       "   7 │       0        0        6.0  3.13416     76.0  0.041155            0\n",
       "\u001b[36m                                                              14 columns omitted\u001b[0m"
      ]
     },
     "metadata": {},
     "output_type": "display_data"
    }
   ],
   "source": [
    "df"
   ]
  },
  {
   "cell_type": "code",
   "execution_count": null,
   "metadata": {},
   "outputs": [],
   "source": []
  }
 ],
 "metadata": {
  "kernelspec": {
   "display_name": "Julia 1.8.5",
   "language": "julia",
   "name": "julia-1.8"
  },
  "language_info": {
   "file_extension": ".jl",
   "mimetype": "application/julia",
   "name": "julia",
   "version": "1.8.5"
  },
  "orig_nbformat": 4
 },
 "nbformat": 4,
 "nbformat_minor": 2
}
