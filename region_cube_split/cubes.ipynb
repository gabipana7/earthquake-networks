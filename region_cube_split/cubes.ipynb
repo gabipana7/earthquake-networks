{
 "cells": [
  {
   "cell_type": "code",
   "execution_count": 1,
   "metadata": {},
   "outputs": [],
   "source": [
    "using CSV, DataFrames, Dates\n",
    "using FileIO\n",
    "# using LaTeXStrings"
   ]
  },
  {
   "cell_type": "code",
   "execution_count": 2,
   "metadata": {},
   "outputs": [
    {
     "data": {
      "text/html": [
       "<div><div style = \"float: left;\"><span>31383×5 DataFrame</span></div><div style = \"float: right;\"><span style = \"font-style: italic;\">31358 rows omitted</span></div><div style = \"clear: both;\"></div></div><div class = \"data-frame\" style = \"overflow-x: scroll;\"><table class = \"data-frame\" style = \"margin-bottom: 6px;\"><thead><tr class = \"header\"><th class = \"rowNumber\" style = \"font-weight: bold; text-align: right;\">Row</th><th style = \"text-align: left;\">Datetime</th><th style = \"text-align: left;\">Latitude</th><th style = \"text-align: left;\">Longitude</th><th style = \"text-align: left;\">Depth</th><th style = \"text-align: left;\">Magnitude</th></tr><tr class = \"subheader headerLastRow\"><th class = \"rowNumber\" style = \"font-weight: bold; text-align: right;\"></th><th title = \"DateTime\" style = \"text-align: left;\">DateTime</th><th title = \"Float64\" style = \"text-align: left;\">Float64</th><th title = \"Float64\" style = \"text-align: left;\">Float64</th><th title = \"Float64\" style = \"text-align: left;\">Float64</th><th title = \"Float64\" style = \"text-align: left;\">Float64</th></tr></thead><tbody><tr><td class = \"rowNumber\" style = \"font-weight: bold; text-align: right;\">1</td><td style = \"text-align: left;\">1976-02-03T13:29:16.400</td><td style = \"text-align: right;\">45.32</td><td style = \"text-align: right;\">25.99</td><td style = \"text-align: right;\">184.3</td><td style = \"text-align: right;\">2.6</td></tr><tr><td class = \"rowNumber\" style = \"font-weight: bold; text-align: right;\">2</td><td style = \"text-align: left;\">1976-08-19T19:03:00.800</td><td style = \"text-align: right;\">45.54</td><td style = \"text-align: right;\">26.37</td><td style = \"text-align: right;\">162.0</td><td style = \"text-align: right;\">2.3</td></tr><tr><td class = \"rowNumber\" style = \"font-weight: bold; text-align: right;\">3</td><td style = \"text-align: left;\">1976-09-07T17:38:08.200</td><td style = \"text-align: right;\">45.62</td><td style = \"text-align: right;\">26.5</td><td style = \"text-align: right;\">155.3</td><td style = \"text-align: right;\">3.6</td></tr><tr><td class = \"rowNumber\" style = \"font-weight: bold; text-align: right;\">4</td><td style = \"text-align: left;\">1976-10-01T17:50:43.200</td><td style = \"text-align: right;\">45.68</td><td style = \"text-align: right;\">26.49</td><td style = \"text-align: right;\">146.0</td><td style = \"text-align: right;\">6.0</td></tr><tr><td class = \"rowNumber\" style = \"font-weight: bold; text-align: right;\">5</td><td style = \"text-align: left;\">1976-10-15T10:54:48</td><td style = \"text-align: right;\">47.1</td><td style = \"text-align: right;\">25.6</td><td style = \"text-align: right;\">17.0</td><td style = \"text-align: right;\">3.9</td></tr><tr><td class = \"rowNumber\" style = \"font-weight: bold; text-align: right;\">6</td><td style = \"text-align: left;\">1977-03-04T19:21:54.100</td><td style = \"text-align: right;\">45.77</td><td style = \"text-align: right;\">26.76</td><td style = \"text-align: right;\">94.0</td><td style = \"text-align: right;\">7.4</td></tr><tr><td class = \"rowNumber\" style = \"font-weight: bold; text-align: right;\">7</td><td style = \"text-align: left;\">1977-03-04T21:21:01.100</td><td style = \"text-align: right;\">45.22</td><td style = \"text-align: right;\">26.65</td><td style = \"text-align: right;\">141.0</td><td style = \"text-align: right;\">3.0</td></tr><tr><td class = \"rowNumber\" style = \"font-weight: bold; text-align: right;\">8</td><td style = \"text-align: left;\">1977-03-04T21:28:07.400</td><td style = \"text-align: right;\">45.23</td><td style = \"text-align: right;\">26.87</td><td style = \"text-align: right;\">22.0</td><td style = \"text-align: right;\">1.5</td></tr><tr><td class = \"rowNumber\" style = \"font-weight: bold; text-align: right;\">9</td><td style = \"text-align: left;\">1977-03-04T23:17:14</td><td style = \"text-align: right;\">45.0</td><td style = \"text-align: right;\">27.2</td><td style = \"text-align: right;\">33.0</td><td style = \"text-align: right;\">2.5</td></tr><tr><td class = \"rowNumber\" style = \"font-weight: bold; text-align: right;\">10</td><td style = \"text-align: left;\">1977-03-05T00:00:45.900</td><td style = \"text-align: right;\">45.48</td><td style = \"text-align: right;\">27.09</td><td style = \"text-align: right;\">104.2</td><td style = \"text-align: right;\">4.2</td></tr><tr><td class = \"rowNumber\" style = \"font-weight: bold; text-align: right;\">11</td><td style = \"text-align: left;\">1977-03-05T00:08:37.700</td><td style = \"text-align: right;\">45.4</td><td style = \"text-align: right;\">27.16</td><td style = \"text-align: right;\">22.2</td><td style = \"text-align: right;\">3.0</td></tr><tr><td class = \"rowNumber\" style = \"font-weight: bold; text-align: right;\">12</td><td style = \"text-align: left;\">1977-03-05T00:13:04</td><td style = \"text-align: right;\">45.5</td><td style = \"text-align: right;\">27.2</td><td style = \"text-align: right;\">77.0</td><td style = \"text-align: right;\">3.2</td></tr><tr><td class = \"rowNumber\" style = \"font-weight: bold; text-align: right;\">13</td><td style = \"text-align: left;\">1977-03-05T00:47:55.100</td><td style = \"text-align: right;\">45.37</td><td style = \"text-align: right;\">27.31</td><td style = \"text-align: right;\">20.7</td><td style = \"text-align: right;\">2.3</td></tr><tr><td style = \"text-align: right;\">&vellip;</td><td style = \"text-align: right;\">&vellip;</td><td style = \"text-align: right;\">&vellip;</td><td style = \"text-align: right;\">&vellip;</td><td style = \"text-align: right;\">&vellip;</td><td style = \"text-align: right;\">&vellip;</td></tr><tr><td class = \"rowNumber\" style = \"font-weight: bold; text-align: right;\">31372</td><td style = \"text-align: left;\">2022-12-26T13:48:35.860</td><td style = \"text-align: right;\">47.28</td><td style = \"text-align: right;\">23.8104</td><td style = \"text-align: right;\">2.0</td><td style = \"text-align: right;\">2.0</td></tr><tr><td class = \"rowNumber\" style = \"font-weight: bold; text-align: right;\">31373</td><td style = \"text-align: left;\">2022-12-27T16:00:52.890</td><td style = \"text-align: right;\">45.5211</td><td style = \"text-align: right;\">26.4184</td><td style = \"text-align: right;\">110.2</td><td style = \"text-align: right;\">2.5</td></tr><tr><td class = \"rowNumber\" style = \"font-weight: bold; text-align: right;\">31374</td><td style = \"text-align: left;\">2022-12-28T07:38:54.270</td><td style = \"text-align: right;\">45.7505</td><td style = \"text-align: right;\">26.6086</td><td style = \"text-align: right;\">85.2</td><td style = \"text-align: right;\">2.9</td></tr><tr><td class = \"rowNumber\" style = \"font-weight: bold; text-align: right;\">31375</td><td style = \"text-align: left;\">2022-12-28T13:15:05.470</td><td style = \"text-align: right;\">46.3193</td><td style = \"text-align: right;\">23.1806</td><td style = \"text-align: right;\">2.0</td><td style = \"text-align: right;\">1.9</td></tr><tr><td class = \"rowNumber\" style = \"font-weight: bold; text-align: right;\">31376</td><td style = \"text-align: left;\">2022-12-29T02:06:28.320</td><td style = \"text-align: right;\">45.6714</td><td style = \"text-align: right;\">26.6291</td><td style = \"text-align: right;\">134.0</td><td style = \"text-align: right;\">2.8</td></tr><tr><td class = \"rowNumber\" style = \"font-weight: bold; text-align: right;\">31377</td><td style = \"text-align: left;\">2022-12-29T09:28:11.270</td><td style = \"text-align: right;\">45.2972</td><td style = \"text-align: right;\">25.093</td><td style = \"text-align: right;\">2.0</td><td style = \"text-align: right;\">1.5</td></tr><tr><td class = \"rowNumber\" style = \"font-weight: bold; text-align: right;\">31378</td><td style = \"text-align: left;\">2022-12-29T09:42:33.920</td><td style = \"text-align: right;\">45.9596</td><td style = \"text-align: right;\">22.6972</td><td style = \"text-align: right;\">3.3</td><td style = \"text-align: right;\">1.6</td></tr><tr><td class = \"rowNumber\" style = \"font-weight: bold; text-align: right;\">31379</td><td style = \"text-align: left;\">2022-12-29T12:16:03.080</td><td style = \"text-align: right;\">46.3226</td><td style = \"text-align: right;\">23.1438</td><td style = \"text-align: right;\">1.0</td><td style = \"text-align: right;\">1.7</td></tr><tr><td class = \"rowNumber\" style = \"font-weight: bold; text-align: right;\">31380</td><td style = \"text-align: left;\">2022-12-29T13:11:43.570</td><td style = \"text-align: right;\">45.4378</td><td style = \"text-align: right;\">24.1116</td><td style = \"text-align: right;\">11.7</td><td style = \"text-align: right;\">2.1</td></tr><tr><td class = \"rowNumber\" style = \"font-weight: bold; text-align: right;\">31381</td><td style = \"text-align: left;\">2022-12-30T14:23:49.390</td><td style = \"text-align: right;\">45.4639</td><td style = \"text-align: right;\">24.1433</td><td style = \"text-align: right;\">14.0</td><td style = \"text-align: right;\">1.7</td></tr><tr><td class = \"rowNumber\" style = \"font-weight: bold; text-align: right;\">31382</td><td style = \"text-align: left;\">2022-12-31T03:16:48.320</td><td style = \"text-align: right;\">45.4082</td><td style = \"text-align: right;\">24.134</td><td style = \"text-align: right;\">18.2</td><td style = \"text-align: right;\">1.7</td></tr><tr><td class = \"rowNumber\" style = \"font-weight: bold; text-align: right;\">31383</td><td style = \"text-align: left;\">2022-12-31T15:24:39.550</td><td style = \"text-align: right;\">45.0022</td><td style = \"text-align: right;\">22.6597</td><td style = \"text-align: right;\">4.5</td><td style = \"text-align: right;\">2.1</td></tr></tbody></table></div>"
      ],
      "text/latex": [
       "\\begin{tabular}{r|ccccc}\n",
       "\t& Datetime & Latitude & Longitude & Depth & Magnitude\\\\\n",
       "\t\\hline\n",
       "\t& DateTime & Float64 & Float64 & Float64 & Float64\\\\\n",
       "\t\\hline\n",
       "\t1 & 1976-02-03T13:29:16.400 & 45.32 & 25.99 & 184.3 & 2.6 \\\\\n",
       "\t2 & 1976-08-19T19:03:00.800 & 45.54 & 26.37 & 162.0 & 2.3 \\\\\n",
       "\t3 & 1976-09-07T17:38:08.200 & 45.62 & 26.5 & 155.3 & 3.6 \\\\\n",
       "\t4 & 1976-10-01T17:50:43.200 & 45.68 & 26.49 & 146.0 & 6.0 \\\\\n",
       "\t5 & 1976-10-15T10:54:48 & 47.1 & 25.6 & 17.0 & 3.9 \\\\\n",
       "\t6 & 1977-03-04T19:21:54.100 & 45.77 & 26.76 & 94.0 & 7.4 \\\\\n",
       "\t7 & 1977-03-04T21:21:01.100 & 45.22 & 26.65 & 141.0 & 3.0 \\\\\n",
       "\t8 & 1977-03-04T21:28:07.400 & 45.23 & 26.87 & 22.0 & 1.5 \\\\\n",
       "\t9 & 1977-03-04T23:17:14 & 45.0 & 27.2 & 33.0 & 2.5 \\\\\n",
       "\t10 & 1977-03-05T00:00:45.900 & 45.48 & 27.09 & 104.2 & 4.2 \\\\\n",
       "\t11 & 1977-03-05T00:08:37.700 & 45.4 & 27.16 & 22.2 & 3.0 \\\\\n",
       "\t12 & 1977-03-05T00:13:04 & 45.5 & 27.2 & 77.0 & 3.2 \\\\\n",
       "\t13 & 1977-03-05T00:47:55.100 & 45.37 & 27.31 & 20.7 & 2.3 \\\\\n",
       "\t14 & 1977-03-05T02:35:22 & 45.63 & 26.19 & 121.3 & 3.0 \\\\\n",
       "\t15 & 1977-03-05T05:50:13 & 45.19 & 27.2 & 33.0 & 2.6 \\\\\n",
       "\t16 & 1977-03-05T12:08:42 & 45.37 & 26.3 & 124.0 & 3.5 \\\\\n",
       "\t17 & 1977-03-06T13:27:06.300 & 45.83 & 26.63 & 112.3 & 2.6 \\\\\n",
       "\t18 & 1977-03-07T21:21:08.700 & 47.2 & 26.2 & 6.0 & 2.5 \\\\\n",
       "\t19 & 1977-03-07T21:27:16.400 & 47.1 & 26.3 & 2.0 & 2.9 \\\\\n",
       "\t20 & 1977-03-07T21:33:11.700 & 47.1 & 26.1 & 8.0 & 3.3 \\\\\n",
       "\t21 & 1977-03-08T18:44:56.500 & 45.96 & 26.44 & 80.4 & 1.9 \\\\\n",
       "\t22 & 1977-03-09T03:25:27.400 & 45.02 & 26.27 & 25.7 & 2.4 \\\\\n",
       "\t23 & 1977-03-09T03:52:50 & 45.07 & 26.31 & 35.6 & 1.2 \\\\\n",
       "\t24 & 1977-03-09T10:37:29.700 & 45.38 & 27.0 & 108.0 & 3.0 \\\\\n",
       "\t$\\dots$ & $\\dots$ & $\\dots$ & $\\dots$ & $\\dots$ & $\\dots$ \\\\\n",
       "\\end{tabular}\n"
      ],
      "text/plain": [
       "\u001b[1m31383×5 DataFrame\u001b[0m\n",
       "\u001b[1m   Row \u001b[0m│\u001b[1m Datetime                \u001b[0m\u001b[1m Latitude \u001b[0m\u001b[1m Longitude \u001b[0m\u001b[1m Depth   \u001b[0m\u001b[1m Magnitude \u001b[0m\n",
       "       │\u001b[90m DateTime                \u001b[0m\u001b[90m Float64  \u001b[0m\u001b[90m Float64   \u001b[0m\u001b[90m Float64 \u001b[0m\u001b[90m Float64   \u001b[0m\n",
       "───────┼──────────────────────────────────────────────────────────────────\n",
       "     1 │ 1976-02-03T13:29:16.400   45.32      25.99      184.3        2.6\n",
       "     2 │ 1976-08-19T19:03:00.800   45.54      26.37      162.0        2.3\n",
       "     3 │ 1976-09-07T17:38:08.200   45.62      26.5       155.3        3.6\n",
       "     4 │ 1976-10-01T17:50:43.200   45.68      26.49      146.0        6.0\n",
       "     5 │ 1976-10-15T10:54:48       47.1       25.6        17.0        3.9\n",
       "     6 │ 1977-03-04T19:21:54.100   45.77      26.76       94.0        7.4\n",
       "     7 │ 1977-03-04T21:21:01.100   45.22      26.65      141.0        3.0\n",
       "     8 │ 1977-03-04T21:28:07.400   45.23      26.87       22.0        1.5\n",
       "   ⋮   │            ⋮                ⋮          ⋮         ⋮         ⋮\n",
       " 31377 │ 2022-12-29T09:28:11.270   45.2972    25.093       2.0        1.5\n",
       " 31378 │ 2022-12-29T09:42:33.920   45.9596    22.6972      3.3        1.6\n",
       " 31379 │ 2022-12-29T12:16:03.080   46.3226    23.1438      1.0        1.7\n",
       " 31380 │ 2022-12-29T13:11:43.570   45.4378    24.1116     11.7        2.1\n",
       " 31381 │ 2022-12-30T14:23:49.390   45.4639    24.1433     14.0        1.7\n",
       " 31382 │ 2022-12-31T03:16:48.320   45.4082    24.134      18.2        1.7\n",
       " 31383 │ 2022-12-31T15:24:39.550   45.0022    22.6597      4.5        2.1\n",
       "\u001b[36m                                                        31368 rows omitted\u001b[0m"
      ]
     },
     "metadata": {},
     "output_type": "display_data"
    }
   ],
   "source": [
    "romania_full = CSV.read(\"../data/romania.csv\", DataFrame);\n",
    "romania = romania_full[romania_full.Datetime .> DateTime(1976,1,1,0,0,0),:]"
   ]
  },
  {
   "cell_type": "code",
   "execution_count": 6,
   "metadata": {},
   "outputs": [
    {
     "data": {
      "text/html": [
       "<div><div style = \"float: left;\"><span>7890×5 DataFrame</span></div><div style = \"float: right;\"><span style = \"font-style: italic;\">7865 rows omitted</span></div><div style = \"clear: both;\"></div></div><div class = \"data-frame\" style = \"overflow-x: scroll;\"><table class = \"data-frame\" style = \"margin-bottom: 6px;\"><thead><tr class = \"header\"><th class = \"rowNumber\" style = \"font-weight: bold; text-align: right;\">Row</th><th style = \"text-align: left;\">Datetime</th><th style = \"text-align: left;\">Latitude</th><th style = \"text-align: left;\">Longitude</th><th style = \"text-align: left;\">Depth</th><th style = \"text-align: left;\">Magnitude</th></tr><tr class = \"subheader headerLastRow\"><th class = \"rowNumber\" style = \"font-weight: bold; text-align: right;\"></th><th title = \"DateTime\" style = \"text-align: left;\">DateTime</th><th title = \"Float64\" style = \"text-align: left;\">Float64</th><th title = \"Float64\" style = \"text-align: left;\">Float64</th><th title = \"Float64\" style = \"text-align: left;\">Float64</th><th title = \"Float64\" style = \"text-align: left;\">Float64</th></tr></thead><tbody><tr><td class = \"rowNumber\" style = \"font-weight: bold; text-align: right;\">1</td><td style = \"text-align: left;\">1976-08-19T19:03:00.800</td><td style = \"text-align: right;\">45.54</td><td style = \"text-align: right;\">26.37</td><td style = \"text-align: right;\">162.0</td><td style = \"text-align: right;\">2.3</td></tr><tr><td class = \"rowNumber\" style = \"font-weight: bold; text-align: right;\">2</td><td style = \"text-align: left;\">1976-09-07T17:38:08.200</td><td style = \"text-align: right;\">45.62</td><td style = \"text-align: right;\">26.5</td><td style = \"text-align: right;\">155.3</td><td style = \"text-align: right;\">3.6</td></tr><tr><td class = \"rowNumber\" style = \"font-weight: bold; text-align: right;\">3</td><td style = \"text-align: left;\">1976-10-01T17:50:43.200</td><td style = \"text-align: right;\">45.68</td><td style = \"text-align: right;\">26.49</td><td style = \"text-align: right;\">146.0</td><td style = \"text-align: right;\">6.0</td></tr><tr><td class = \"rowNumber\" style = \"font-weight: bold; text-align: right;\">4</td><td style = \"text-align: left;\">1977-03-04T19:21:54.100</td><td style = \"text-align: right;\">45.77</td><td style = \"text-align: right;\">26.76</td><td style = \"text-align: right;\">94.0</td><td style = \"text-align: right;\">7.4</td></tr><tr><td class = \"rowNumber\" style = \"font-weight: bold; text-align: right;\">5</td><td style = \"text-align: left;\">1977-03-04T21:21:01.100</td><td style = \"text-align: right;\">45.22</td><td style = \"text-align: right;\">26.65</td><td style = \"text-align: right;\">141.0</td><td style = \"text-align: right;\">3.0</td></tr><tr><td class = \"rowNumber\" style = \"font-weight: bold; text-align: right;\">6</td><td style = \"text-align: left;\">1977-03-05T02:35:22</td><td style = \"text-align: right;\">45.63</td><td style = \"text-align: right;\">26.19</td><td style = \"text-align: right;\">121.3</td><td style = \"text-align: right;\">3.0</td></tr><tr><td class = \"rowNumber\" style = \"font-weight: bold; text-align: right;\">7</td><td style = \"text-align: left;\">1977-03-05T12:08:42</td><td style = \"text-align: right;\">45.37</td><td style = \"text-align: right;\">26.3</td><td style = \"text-align: right;\">124.0</td><td style = \"text-align: right;\">3.5</td></tr><tr><td class = \"rowNumber\" style = \"font-weight: bold; text-align: right;\">8</td><td style = \"text-align: left;\">1977-03-06T13:27:06.300</td><td style = \"text-align: right;\">45.83</td><td style = \"text-align: right;\">26.63</td><td style = \"text-align: right;\">112.3</td><td style = \"text-align: right;\">2.6</td></tr><tr><td class = \"rowNumber\" style = \"font-weight: bold; text-align: right;\">9</td><td style = \"text-align: left;\">1977-03-08T18:44:56.500</td><td style = \"text-align: right;\">45.96</td><td style = \"text-align: right;\">26.44</td><td style = \"text-align: right;\">80.4</td><td style = \"text-align: right;\">1.9</td></tr><tr><td class = \"rowNumber\" style = \"font-weight: bold; text-align: right;\">10</td><td style = \"text-align: left;\">1977-03-09T10:37:29.700</td><td style = \"text-align: right;\">45.38</td><td style = \"text-align: right;\">27.0</td><td style = \"text-align: right;\">108.0</td><td style = \"text-align: right;\">3.0</td></tr><tr><td class = \"rowNumber\" style = \"font-weight: bold; text-align: right;\">11</td><td style = \"text-align: left;\">1977-03-11T21:19:07.300</td><td style = \"text-align: right;\">45.49</td><td style = \"text-align: right;\">26.76</td><td style = \"text-align: right;\">87.1</td><td style = \"text-align: right;\">2.2</td></tr><tr><td class = \"rowNumber\" style = \"font-weight: bold; text-align: right;\">12</td><td style = \"text-align: left;\">1977-03-12T13:27:13.300</td><td style = \"text-align: right;\">45.74</td><td style = \"text-align: right;\">26.9</td><td style = \"text-align: right;\">99.9</td><td style = \"text-align: right;\">3.8</td></tr><tr><td class = \"rowNumber\" style = \"font-weight: bold; text-align: right;\">13</td><td style = \"text-align: left;\">1977-03-12T18:02:15.200</td><td style = \"text-align: right;\">45.79</td><td style = \"text-align: right;\">26.89</td><td style = \"text-align: right;\">100.0</td><td style = \"text-align: right;\">3.5</td></tr><tr><td style = \"text-align: right;\">&vellip;</td><td style = \"text-align: right;\">&vellip;</td><td style = \"text-align: right;\">&vellip;</td><td style = \"text-align: right;\">&vellip;</td><td style = \"text-align: right;\">&vellip;</td><td style = \"text-align: right;\">&vellip;</td></tr><tr><td class = \"rowNumber\" style = \"font-weight: bold; text-align: right;\">7879</td><td style = \"text-align: left;\">2022-12-09T00:52:37.880</td><td style = \"text-align: right;\">45.4519</td><td style = \"text-align: right;\">26.336</td><td style = \"text-align: right;\">129.6</td><td style = \"text-align: right;\">3.0</td></tr><tr><td class = \"rowNumber\" style = \"font-weight: bold; text-align: right;\">7880</td><td style = \"text-align: left;\">2022-12-09T15:36:01.740</td><td style = \"text-align: right;\">45.7038</td><td style = \"text-align: right;\">26.7097</td><td style = \"text-align: right;\">128.8</td><td style = \"text-align: right;\">3.2</td></tr><tr><td class = \"rowNumber\" style = \"font-weight: bold; text-align: right;\">7881</td><td style = \"text-align: left;\">2022-12-13T19:37:54.560</td><td style = \"text-align: right;\">45.4168</td><td style = \"text-align: right;\">26.338</td><td style = \"text-align: right;\">125.7</td><td style = \"text-align: right;\">2.8</td></tr><tr><td class = \"rowNumber\" style = \"font-weight: bold; text-align: right;\">7882</td><td style = \"text-align: left;\">2022-12-15T08:22:21.990</td><td style = \"text-align: right;\">45.7194</td><td style = \"text-align: right;\">26.4448</td><td style = \"text-align: right;\">142.2</td><td style = \"text-align: right;\">2.7</td></tr><tr><td class = \"rowNumber\" style = \"font-weight: bold; text-align: right;\">7883</td><td style = \"text-align: left;\">2022-12-15T23:47:13.400</td><td style = \"text-align: right;\">45.735</td><td style = \"text-align: right;\">26.6709</td><td style = \"text-align: right;\">87.7</td><td style = \"text-align: right;\">3.8</td></tr><tr><td class = \"rowNumber\" style = \"font-weight: bold; text-align: right;\">7884</td><td style = \"text-align: left;\">2022-12-17T05:42:58.120</td><td style = \"text-align: right;\">45.641</td><td style = \"text-align: right;\">26.487</td><td style = \"text-align: right;\">143.8</td><td style = \"text-align: right;\">4.1</td></tr><tr><td class = \"rowNumber\" style = \"font-weight: bold; text-align: right;\">7885</td><td style = \"text-align: left;\">2022-12-18T03:23:22.420</td><td style = \"text-align: right;\">45.7235</td><td style = \"text-align: right;\">26.6176</td><td style = \"text-align: right;\">138.4</td><td style = \"text-align: right;\">2.7</td></tr><tr><td class = \"rowNumber\" style = \"font-weight: bold; text-align: right;\">7886</td><td style = \"text-align: left;\">2022-12-19T19:32:11.030</td><td style = \"text-align: right;\">45.7157</td><td style = \"text-align: right;\">26.6342</td><td style = \"text-align: right;\">85.7</td><td style = \"text-align: right;\">2.7</td></tr><tr><td class = \"rowNumber\" style = \"font-weight: bold; text-align: right;\">7887</td><td style = \"text-align: left;\">2022-12-26T07:47:10.270</td><td style = \"text-align: right;\">45.5403</td><td style = \"text-align: right;\">26.5114</td><td style = \"text-align: right;\">105.9</td><td style = \"text-align: right;\">3.5</td></tr><tr><td class = \"rowNumber\" style = \"font-weight: bold; text-align: right;\">7888</td><td style = \"text-align: left;\">2022-12-27T16:00:52.890</td><td style = \"text-align: right;\">45.5211</td><td style = \"text-align: right;\">26.4184</td><td style = \"text-align: right;\">110.2</td><td style = \"text-align: right;\">2.5</td></tr><tr><td class = \"rowNumber\" style = \"font-weight: bold; text-align: right;\">7889</td><td style = \"text-align: left;\">2022-12-28T07:38:54.270</td><td style = \"text-align: right;\">45.7505</td><td style = \"text-align: right;\">26.6086</td><td style = \"text-align: right;\">85.2</td><td style = \"text-align: right;\">2.9</td></tr><tr><td class = \"rowNumber\" style = \"font-weight: bold; text-align: right;\">7890</td><td style = \"text-align: left;\">2022-12-29T02:06:28.320</td><td style = \"text-align: right;\">45.6714</td><td style = \"text-align: right;\">26.6291</td><td style = \"text-align: right;\">134.0</td><td style = \"text-align: right;\">2.8</td></tr></tbody></table></div>"
      ],
      "text/latex": [
       "\\begin{tabular}{r|ccccc}\n",
       "\t& Datetime & Latitude & Longitude & Depth & Magnitude\\\\\n",
       "\t\\hline\n",
       "\t& DateTime & Float64 & Float64 & Float64 & Float64\\\\\n",
       "\t\\hline\n",
       "\t1 & 1976-08-19T19:03:00.800 & 45.54 & 26.37 & 162.0 & 2.3 \\\\\n",
       "\t2 & 1976-09-07T17:38:08.200 & 45.62 & 26.5 & 155.3 & 3.6 \\\\\n",
       "\t3 & 1976-10-01T17:50:43.200 & 45.68 & 26.49 & 146.0 & 6.0 \\\\\n",
       "\t4 & 1977-03-04T19:21:54.100 & 45.77 & 26.76 & 94.0 & 7.4 \\\\\n",
       "\t5 & 1977-03-04T21:21:01.100 & 45.22 & 26.65 & 141.0 & 3.0 \\\\\n",
       "\t6 & 1977-03-05T02:35:22 & 45.63 & 26.19 & 121.3 & 3.0 \\\\\n",
       "\t7 & 1977-03-05T12:08:42 & 45.37 & 26.3 & 124.0 & 3.5 \\\\\n",
       "\t8 & 1977-03-06T13:27:06.300 & 45.83 & 26.63 & 112.3 & 2.6 \\\\\n",
       "\t9 & 1977-03-08T18:44:56.500 & 45.96 & 26.44 & 80.4 & 1.9 \\\\\n",
       "\t10 & 1977-03-09T10:37:29.700 & 45.38 & 27.0 & 108.0 & 3.0 \\\\\n",
       "\t11 & 1977-03-11T21:19:07.300 & 45.49 & 26.76 & 87.1 & 2.2 \\\\\n",
       "\t12 & 1977-03-12T13:27:13.300 & 45.74 & 26.9 & 99.9 & 3.8 \\\\\n",
       "\t13 & 1977-03-12T18:02:15.200 & 45.79 & 26.89 & 100.0 & 3.5 \\\\\n",
       "\t14 & 1977-03-12T22:03:44.400 & 45.73 & 26.8 & 97.9 & 2.6 \\\\\n",
       "\t15 & 1977-03-13T13:50:59 & 45.7 & 26.58 & 87.5 & 2.0 \\\\\n",
       "\t16 & 1977-03-21T00:35:54.600 & 45.75 & 26.72 & 69.7 & 2.7 \\\\\n",
       "\t17 & 1977-03-22T08:26:52.100 & 45.51 & 26.15 & 167.0 & 3.5 \\\\\n",
       "\t18 & 1977-03-26T06:54:16.700 & 45.77 & 26.4 & 123.6 & 1.9 \\\\\n",
       "\t19 & 1977-04-04T02:15:49.700 & 45.59 & 26.64 & 115.0 & 3.8 \\\\\n",
       "\t20 & 1977-04-13T21:07:22.500 & 45.34 & 26.24 & 91.2 & 1.5 \\\\\n",
       "\t21 & 1977-06-16T02:26:10.300 & 45.74 & 26.6 & 151.0 & 4.7 \\\\\n",
       "\t22 & 1977-06-16T02:42:00 & 45.7 & 26.6 & 120.0 & 3.2 \\\\\n",
       "\t23 & 1977-07-17T17:34:20.900 & 45.6 & 26.65 & 106.0 & 4.2 \\\\\n",
       "\t24 & 1977-07-24T05:57:00 & 45.7 & 26.6 & 130.0 & 3.4 \\\\\n",
       "\t$\\dots$ & $\\dots$ & $\\dots$ & $\\dots$ & $\\dots$ & $\\dots$ \\\\\n",
       "\\end{tabular}\n"
      ],
      "text/plain": [
       "\u001b[1m7890×5 DataFrame\u001b[0m\n",
       "\u001b[1m  Row \u001b[0m│\u001b[1m Datetime                \u001b[0m\u001b[1m Latitude \u001b[0m\u001b[1m Longitude \u001b[0m\u001b[1m Depth   \u001b[0m\u001b[1m Magnitude \u001b[0m\n",
       "      │\u001b[90m DateTime                \u001b[0m\u001b[90m Float64  \u001b[0m\u001b[90m Float64   \u001b[0m\u001b[90m Float64 \u001b[0m\u001b[90m Float64   \u001b[0m\n",
       "──────┼──────────────────────────────────────────────────────────────────\n",
       "    1 │ 1976-08-19T19:03:00.800   45.54      26.37      162.0        2.3\n",
       "    2 │ 1976-09-07T17:38:08.200   45.62      26.5       155.3        3.6\n",
       "    3 │ 1976-10-01T17:50:43.200   45.68      26.49      146.0        6.0\n",
       "    4 │ 1977-03-04T19:21:54.100   45.77      26.76       94.0        7.4\n",
       "    5 │ 1977-03-04T21:21:01.100   45.22      26.65      141.0        3.0\n",
       "    6 │ 1977-03-05T02:35:22       45.63      26.19      121.3        3.0\n",
       "    7 │ 1977-03-05T12:08:42       45.37      26.3       124.0        3.5\n",
       "    8 │ 1977-03-06T13:27:06.300   45.83      26.63      112.3        2.6\n",
       "  ⋮   │            ⋮                ⋮          ⋮         ⋮         ⋮\n",
       " 7884 │ 2022-12-17T05:42:58.120   45.641     26.487     143.8        4.1\n",
       " 7885 │ 2022-12-18T03:23:22.420   45.7235    26.6176    138.4        2.7\n",
       " 7886 │ 2022-12-19T19:32:11.030   45.7157    26.6342     85.7        2.7\n",
       " 7887 │ 2022-12-26T07:47:10.270   45.5403    26.5114    105.9        3.5\n",
       " 7888 │ 2022-12-27T16:00:52.890   45.5211    26.4184    110.2        2.5\n",
       " 7889 │ 2022-12-28T07:38:54.270   45.7505    26.6086     85.2        2.9\n",
       " 7890 │ 2022-12-29T02:06:28.320   45.6714    26.6291    134.0        2.8\n",
       "\u001b[36m                                                        7875 rows omitted\u001b[0m"
      ]
     },
     "metadata": {},
     "output_type": "display_data"
    }
   ],
   "source": [
    "vrancea = romania[(romania.Latitude .>= 45.20) .& (romania.Latitude .<= 46.0) .& \n",
    "                    (romania.Longitude .>= 26.0) .& (romania.Longitude .<= 27.0) .&\n",
    "                    (romania.Depth .>= 50.0) .& (romania.Depth .<= 200.0), :]"
   ]
  },
  {
   "cell_type": "code",
   "execution_count": 11,
   "metadata": {},
   "outputs": [
    {
     "data": {
      "text/plain": [
       "\"vrancea\""
      ]
     },
     "metadata": {},
     "output_type": "display_data"
    }
   ],
   "source": [
    "region = \"vrancea\""
   ]
  },
  {
   "cell_type": "code",
   "execution_count": 12,
   "metadata": {},
   "outputs": [
    {
     "data": {
      "text/plain": [
       "5"
      ]
     },
     "metadata": {},
     "output_type": "display_data"
    }
   ],
   "source": [
    "side = 5"
   ]
  },
  {
   "cell_type": "code",
   "execution_count": 9,
   "metadata": {},
   "outputs": [
    {
     "data": {
      "text/plain": [
       "Dict{String, Float64} with 8 entries:\n",
       "  \"maxLon\"   => 27.0\n",
       "  \"minMag\"   => 0.6\n",
       "  \"minLon\"   => 26.0\n",
       "  \"maxMag\"   => 7.4\n",
       "  \"minLat\"   => 45.2\n",
       "  \"maxLat\"   => 46.0\n",
       "  \"maxDepth\" => 196.0\n",
       "  \"minDepth\" => 50.0"
      ]
     },
     "metadata": {},
     "output_type": "display_data"
    }
   ],
   "source": [
    "mapcoords= Dict(\"minLat\"=>minimum(vrancea.Latitude),\n",
    "            \"maxLat\"=>maximum(vrancea.Latitude),\n",
    "            \"minLon\"=>minimum(vrancea.Longitude),\n",
    "            \"maxLon\"=>maximum(vrancea.Longitude),\n",
    "            \"minDepth\"=>minimum(vrancea.Depth),\n",
    "            \"maxDepth\"=>maximum(vrancea.Depth),\n",
    "            \"minMag\"=>minimum(vrancea.Magnitude),\n",
    "            \"maxMag\"=>maximum(vrancea.Magnitude)\n",
    ")"
   ]
  },
  {
   "cell_type": "code",
   "execution_count": 13,
   "metadata": {},
   "outputs": [
    {
     "data": {
      "text/plain": [
       "196.0"
      ]
     },
     "metadata": {},
     "output_type": "display_data"
    }
   ],
   "source": [
    "minLat=minimum(vrancea.Latitude)\n",
    "maxLat=maximum(vrancea.Latitude)\n",
    "minLon=minimum(vrancea.Longitude)\n",
    "maxLon=maximum(vrancea.Longitude)\n",
    "minDepth=minimum(vrancea.Depth)\n",
    "maxDepth=maximum(vrancea.Depth)"
   ]
  },
  {
   "cell_type": "code",
   "execution_count": 18,
   "metadata": {},
   "outputs": [
    {
     "data": {
      "text/plain": [
       "79"
      ]
     },
     "metadata": {},
     "output_type": "display_data"
    }
   ],
   "source": [
    "if region==\"vrancea\" || region==\"romania\"\n",
    "    longitudeInKm = 79\n",
    "end"
   ]
  },
  {
   "cell_type": "code",
   "execution_count": null,
   "metadata": {},
   "outputs": [],
   "source": []
  },
  {
   "cell_type": "code",
   "execution_count": 27,
   "metadata": {},
   "outputs": [
    {
     "data": {
      "text/plain": [
       "18.0"
      ]
     },
     "metadata": {},
     "output_type": "display_data"
    }
   ],
   "source": [
    "x = round((maxLat-minLat)*111 / side)"
   ]
  },
  {
   "cell_type": "code",
   "execution_count": 28,
   "metadata": {},
   "outputs": [
    {
     "data": {
      "text/plain": [
       "16.0"
      ]
     },
     "metadata": {},
     "output_type": "display_data"
    }
   ],
   "source": [
    "y = round((maxLon-minLon)*longitudeInKm / side)"
   ]
  },
  {
   "cell_type": "code",
   "execution_count": 29,
   "metadata": {},
   "outputs": [
    {
     "data": {
      "text/plain": [
       "29.0"
      ]
     },
     "metadata": {},
     "output_type": "display_data"
    }
   ],
   "source": [
    "z = round((maxDepth-minDepth) / side)"
   ]
  },
  {
   "cell_type": "code",
   "execution_count": 32,
   "metadata": {},
   "outputs": [
    {
     "data": {
      "text/plain": [
       "29.0"
      ]
     },
     "metadata": {},
     "output_type": "display_data"
    }
   ],
   "source": [
    "maxDim = maximum((x,y,z))"
   ]
  },
  {
   "cell_type": "code",
   "execution_count": 39,
   "metadata": {},
   "outputs": [
    {
     "data": {
      "text/plain": [
       "7890-element Vector{Int64}:\n",
       "  8\n",
       " 10\n",
       " 11\n",
       " 13\n",
       "  1\n",
       " 10\n",
       "  4\n",
       " 15\n",
       " 18\n",
       "  5\n",
       "  ⋮\n",
       " 12\n",
       " 13\n",
       " 10\n",
       " 12\n",
       " 12\n",
       "  8\n",
       "  8\n",
       " 13\n",
       " 11"
      ]
     },
     "metadata": {},
     "output_type": "display_data"
    }
   ],
   "source": [
    "xLatitude = [floor(Int,((i-minLat)*x/(maxLat-minLat))+1) for i in vrancea.Latitude]"
   ]
  },
  {
   "cell_type": "code",
   "execution_count": 40,
   "metadata": {},
   "outputs": [
    {
     "data": {
      "text/plain": [
       "7890-element Vector{Int64}:\n",
       "  6\n",
       "  9\n",
       "  8\n",
       " 13\n",
       " 11\n",
       "  4\n",
       "  5\n",
       " 11\n",
       "  8\n",
       " 17\n",
       "  ⋮\n",
       "  8\n",
       " 11\n",
       "  8\n",
       " 10\n",
       " 11\n",
       "  9\n",
       "  7\n",
       " 10\n",
       " 11"
      ]
     },
     "metadata": {},
     "output_type": "display_data"
    }
   ],
   "source": [
    "yLongitude = [floor(Int,((i-minLon)*y/(maxLon-minLon))+1) for i in vrancea.Longitude]"
   ]
  },
  {
   "cell_type": "code",
   "execution_count": 41,
   "metadata": {},
   "outputs": [
    {
     "data": {
      "text/plain": [
       "7890-element Vector{Int64}:\n",
       " 13\n",
       " 12\n",
       " 11\n",
       "  5\n",
       " 10\n",
       "  8\n",
       "  9\n",
       "  7\n",
       "  4\n",
       "  7\n",
       "  ⋮\n",
       " 11\n",
       "  5\n",
       " 11\n",
       " 10\n",
       "  4\n",
       "  7\n",
       "  7\n",
       "  4\n",
       " 10"
      ]
     },
     "metadata": {},
     "output_type": "display_data"
    }
   ],
   "source": [
    "zDepth = [floor(Int,((i-minDepth)*y/(maxDepth-minDepth))+1) for i in vrancea.Depth]"
   ]
  },
  {
   "cell_type": "code",
   "execution_count": 57,
   "metadata": {},
   "outputs": [
    {
     "data": {
      "text/plain": [
       "Int64[]"
      ]
     },
     "metadata": {},
     "output_type": "display_data"
    }
   ],
   "source": []
  },
  {
   "cell_type": "code",
   "execution_count": 60,
   "metadata": {},
   "outputs": [
    {
     "data": {
      "text/plain": [
       "7890-element Vector{Int64}:\n",
       "  6045\n",
       "  7813\n",
       "  8624\n",
       " 10445\n",
       "   300\n",
       "  7664\n",
       "  2648\n",
       " 12071\n",
       " 14504\n",
       "  3835\n",
       "     ⋮\n",
       "  9465\n",
       " 10387\n",
       "  7783\n",
       "  9522\n",
       "  9545\n",
       "  6126\n",
       "  6068\n",
       " 10357\n",
       "  8710"
      ]
     },
     "metadata": {},
     "output_type": "display_data"
    }
   ],
   "source": [
    "cubeIndex = zeros(Int64, 0)\n",
    "for i = 1:length(xLatitude)\n",
    "    append!(cubeIndex,maxDim*maxDim*(xLatitude[i]-1)+maxDim*(yLongitude[i]-1)+zDepth[i])\n",
    "end\n",
    "cubeIndex"
   ]
  },
  {
   "cell_type": "code",
   "execution_count": 62,
   "metadata": {},
   "outputs": [
    {
     "data": {
      "text/plain": [
       "7890-element Vector{Int64}:\n",
       "  6045\n",
       "  7813\n",
       "  8624\n",
       " 10445\n",
       "   300\n",
       "  7664\n",
       "  2648\n",
       " 12071\n",
       " 14504\n",
       "  3835\n",
       "     ⋮\n",
       "  9465\n",
       " 10387\n",
       "  7783\n",
       "  9522\n",
       "  9545\n",
       "  6126\n",
       "  6068\n",
       " 10357\n",
       "  8710"
      ]
     },
     "metadata": {},
     "output_type": "display_data"
    }
   ],
   "source": [
    "vrancea.xLatitude = xLatitude\n",
    "vrancea.yLongitude = yLongitude\n",
    "vrancea.zDepth = zDepth\n",
    "vrancea.cubeIndex = cubeIndex"
   ]
  },
  {
   "cell_type": "code",
   "execution_count": 63,
   "metadata": {},
   "outputs": [
    {
     "data": {
      "text/html": [
       "<div><div style = \"float: left;\"><span>7890×9 DataFrame</span></div><div style = \"float: right;\"><span style = \"font-style: italic;\">7865 rows omitted</span></div><div style = \"clear: both;\"></div></div><div class = \"data-frame\" style = \"overflow-x: scroll;\"><table class = \"data-frame\" style = \"margin-bottom: 6px;\"><thead><tr class = \"header\"><th class = \"rowNumber\" style = \"font-weight: bold; text-align: right;\">Row</th><th style = \"text-align: left;\">Datetime</th><th style = \"text-align: left;\">Latitude</th><th style = \"text-align: left;\">Longitude</th><th style = \"text-align: left;\">Depth</th><th style = \"text-align: left;\">Magnitude</th><th style = \"text-align: left;\">xLatitude</th><th style = \"text-align: left;\">yLongitude</th><th style = \"text-align: left;\">zDepth</th><th style = \"text-align: left;\">cubeIndex</th></tr><tr class = \"subheader headerLastRow\"><th class = \"rowNumber\" style = \"font-weight: bold; text-align: right;\"></th><th title = \"DateTime\" style = \"text-align: left;\">DateTime</th><th title = \"Float64\" style = \"text-align: left;\">Float64</th><th title = \"Float64\" style = \"text-align: left;\">Float64</th><th title = \"Float64\" style = \"text-align: left;\">Float64</th><th title = \"Float64\" style = \"text-align: left;\">Float64</th><th title = \"Int64\" style = \"text-align: left;\">Int64</th><th title = \"Int64\" style = \"text-align: left;\">Int64</th><th title = \"Int64\" style = \"text-align: left;\">Int64</th><th title = \"Int64\" style = \"text-align: left;\">Int64</th></tr></thead><tbody><tr><td class = \"rowNumber\" style = \"font-weight: bold; text-align: right;\">1</td><td style = \"text-align: left;\">1976-08-19T19:03:00.800</td><td style = \"text-align: right;\">45.54</td><td style = \"text-align: right;\">26.37</td><td style = \"text-align: right;\">162.0</td><td style = \"text-align: right;\">2.3</td><td style = \"text-align: right;\">8</td><td style = \"text-align: right;\">6</td><td style = \"text-align: right;\">13</td><td style = \"text-align: right;\">6045</td></tr><tr><td class = \"rowNumber\" style = \"font-weight: bold; text-align: right;\">2</td><td style = \"text-align: left;\">1976-09-07T17:38:08.200</td><td style = \"text-align: right;\">45.62</td><td style = \"text-align: right;\">26.5</td><td style = \"text-align: right;\">155.3</td><td style = \"text-align: right;\">3.6</td><td style = \"text-align: right;\">10</td><td style = \"text-align: right;\">9</td><td style = \"text-align: right;\">12</td><td style = \"text-align: right;\">7813</td></tr><tr><td class = \"rowNumber\" style = \"font-weight: bold; text-align: right;\">3</td><td style = \"text-align: left;\">1976-10-01T17:50:43.200</td><td style = \"text-align: right;\">45.68</td><td style = \"text-align: right;\">26.49</td><td style = \"text-align: right;\">146.0</td><td style = \"text-align: right;\">6.0</td><td style = \"text-align: right;\">11</td><td style = \"text-align: right;\">8</td><td style = \"text-align: right;\">11</td><td style = \"text-align: right;\">8624</td></tr><tr><td class = \"rowNumber\" style = \"font-weight: bold; text-align: right;\">4</td><td style = \"text-align: left;\">1977-03-04T19:21:54.100</td><td style = \"text-align: right;\">45.77</td><td style = \"text-align: right;\">26.76</td><td style = \"text-align: right;\">94.0</td><td style = \"text-align: right;\">7.4</td><td style = \"text-align: right;\">13</td><td style = \"text-align: right;\">13</td><td style = \"text-align: right;\">5</td><td style = \"text-align: right;\">10445</td></tr><tr><td class = \"rowNumber\" style = \"font-weight: bold; text-align: right;\">5</td><td style = \"text-align: left;\">1977-03-04T21:21:01.100</td><td style = \"text-align: right;\">45.22</td><td style = \"text-align: right;\">26.65</td><td style = \"text-align: right;\">141.0</td><td style = \"text-align: right;\">3.0</td><td style = \"text-align: right;\">1</td><td style = \"text-align: right;\">11</td><td style = \"text-align: right;\">10</td><td style = \"text-align: right;\">300</td></tr><tr><td class = \"rowNumber\" style = \"font-weight: bold; text-align: right;\">6</td><td style = \"text-align: left;\">1977-03-05T02:35:22</td><td style = \"text-align: right;\">45.63</td><td style = \"text-align: right;\">26.19</td><td style = \"text-align: right;\">121.3</td><td style = \"text-align: right;\">3.0</td><td style = \"text-align: right;\">10</td><td style = \"text-align: right;\">4</td><td style = \"text-align: right;\">8</td><td style = \"text-align: right;\">7664</td></tr><tr><td class = \"rowNumber\" style = \"font-weight: bold; text-align: right;\">7</td><td style = \"text-align: left;\">1977-03-05T12:08:42</td><td style = \"text-align: right;\">45.37</td><td style = \"text-align: right;\">26.3</td><td style = \"text-align: right;\">124.0</td><td style = \"text-align: right;\">3.5</td><td style = \"text-align: right;\">4</td><td style = \"text-align: right;\">5</td><td style = \"text-align: right;\">9</td><td style = \"text-align: right;\">2648</td></tr><tr><td class = \"rowNumber\" style = \"font-weight: bold; text-align: right;\">8</td><td style = \"text-align: left;\">1977-03-06T13:27:06.300</td><td style = \"text-align: right;\">45.83</td><td style = \"text-align: right;\">26.63</td><td style = \"text-align: right;\">112.3</td><td style = \"text-align: right;\">2.6</td><td style = \"text-align: right;\">15</td><td style = \"text-align: right;\">11</td><td style = \"text-align: right;\">7</td><td style = \"text-align: right;\">12071</td></tr><tr><td class = \"rowNumber\" style = \"font-weight: bold; text-align: right;\">9</td><td style = \"text-align: left;\">1977-03-08T18:44:56.500</td><td style = \"text-align: right;\">45.96</td><td style = \"text-align: right;\">26.44</td><td style = \"text-align: right;\">80.4</td><td style = \"text-align: right;\">1.9</td><td style = \"text-align: right;\">18</td><td style = \"text-align: right;\">8</td><td style = \"text-align: right;\">4</td><td style = \"text-align: right;\">14504</td></tr><tr><td class = \"rowNumber\" style = \"font-weight: bold; text-align: right;\">10</td><td style = \"text-align: left;\">1977-03-09T10:37:29.700</td><td style = \"text-align: right;\">45.38</td><td style = \"text-align: right;\">27.0</td><td style = \"text-align: right;\">108.0</td><td style = \"text-align: right;\">3.0</td><td style = \"text-align: right;\">5</td><td style = \"text-align: right;\">17</td><td style = \"text-align: right;\">7</td><td style = \"text-align: right;\">3835</td></tr><tr><td class = \"rowNumber\" style = \"font-weight: bold; text-align: right;\">11</td><td style = \"text-align: left;\">1977-03-11T21:19:07.300</td><td style = \"text-align: right;\">45.49</td><td style = \"text-align: right;\">26.76</td><td style = \"text-align: right;\">87.1</td><td style = \"text-align: right;\">2.2</td><td style = \"text-align: right;\">7</td><td style = \"text-align: right;\">13</td><td style = \"text-align: right;\">5</td><td style = \"text-align: right;\">5399</td></tr><tr><td class = \"rowNumber\" style = \"font-weight: bold; text-align: right;\">12</td><td style = \"text-align: left;\">1977-03-12T13:27:13.300</td><td style = \"text-align: right;\">45.74</td><td style = \"text-align: right;\">26.9</td><td style = \"text-align: right;\">99.9</td><td style = \"text-align: right;\">3.8</td><td style = \"text-align: right;\">13</td><td style = \"text-align: right;\">15</td><td style = \"text-align: right;\">6</td><td style = \"text-align: right;\">10504</td></tr><tr><td class = \"rowNumber\" style = \"font-weight: bold; text-align: right;\">13</td><td style = \"text-align: left;\">1977-03-12T18:02:15.200</td><td style = \"text-align: right;\">45.79</td><td style = \"text-align: right;\">26.89</td><td style = \"text-align: right;\">100.0</td><td style = \"text-align: right;\">3.5</td><td style = \"text-align: right;\">14</td><td style = \"text-align: right;\">15</td><td style = \"text-align: right;\">6</td><td style = \"text-align: right;\">11345</td></tr><tr><td style = \"text-align: right;\">&vellip;</td><td style = \"text-align: right;\">&vellip;</td><td style = \"text-align: right;\">&vellip;</td><td style = \"text-align: right;\">&vellip;</td><td style = \"text-align: right;\">&vellip;</td><td style = \"text-align: right;\">&vellip;</td><td style = \"text-align: right;\">&vellip;</td><td style = \"text-align: right;\">&vellip;</td><td style = \"text-align: right;\">&vellip;</td><td style = \"text-align: right;\">&vellip;</td></tr><tr><td class = \"rowNumber\" style = \"font-weight: bold; text-align: right;\">7879</td><td style = \"text-align: left;\">2022-12-09T00:52:37.880</td><td style = \"text-align: right;\">45.4519</td><td style = \"text-align: right;\">26.336</td><td style = \"text-align: right;\">129.6</td><td style = \"text-align: right;\">3.0</td><td style = \"text-align: right;\">6</td><td style = \"text-align: right;\">6</td><td style = \"text-align: right;\">9</td><td style = \"text-align: right;\">4359</td></tr><tr><td class = \"rowNumber\" style = \"font-weight: bold; text-align: right;\">7880</td><td style = \"text-align: left;\">2022-12-09T15:36:01.740</td><td style = \"text-align: right;\">45.7038</td><td style = \"text-align: right;\">26.7097</td><td style = \"text-align: right;\">128.8</td><td style = \"text-align: right;\">3.2</td><td style = \"text-align: right;\">12</td><td style = \"text-align: right;\">12</td><td style = \"text-align: right;\">9</td><td style = \"text-align: right;\">9579</td></tr><tr><td class = \"rowNumber\" style = \"font-weight: bold; text-align: right;\">7881</td><td style = \"text-align: left;\">2022-12-13T19:37:54.560</td><td style = \"text-align: right;\">45.4168</td><td style = \"text-align: right;\">26.338</td><td style = \"text-align: right;\">125.7</td><td style = \"text-align: right;\">2.8</td><td style = \"text-align: right;\">5</td><td style = \"text-align: right;\">6</td><td style = \"text-align: right;\">9</td><td style = \"text-align: right;\">3518</td></tr><tr><td class = \"rowNumber\" style = \"font-weight: bold; text-align: right;\">7882</td><td style = \"text-align: left;\">2022-12-15T08:22:21.990</td><td style = \"text-align: right;\">45.7194</td><td style = \"text-align: right;\">26.4448</td><td style = \"text-align: right;\">142.2</td><td style = \"text-align: right;\">2.7</td><td style = \"text-align: right;\">12</td><td style = \"text-align: right;\">8</td><td style = \"text-align: right;\">11</td><td style = \"text-align: right;\">9465</td></tr><tr><td class = \"rowNumber\" style = \"font-weight: bold; text-align: right;\">7883</td><td style = \"text-align: left;\">2022-12-15T23:47:13.400</td><td style = \"text-align: right;\">45.735</td><td style = \"text-align: right;\">26.6709</td><td style = \"text-align: right;\">87.7</td><td style = \"text-align: right;\">3.8</td><td style = \"text-align: right;\">13</td><td style = \"text-align: right;\">11</td><td style = \"text-align: right;\">5</td><td style = \"text-align: right;\">10387</td></tr><tr><td class = \"rowNumber\" style = \"font-weight: bold; text-align: right;\">7884</td><td style = \"text-align: left;\">2022-12-17T05:42:58.120</td><td style = \"text-align: right;\">45.641</td><td style = \"text-align: right;\">26.487</td><td style = \"text-align: right;\">143.8</td><td style = \"text-align: right;\">4.1</td><td style = \"text-align: right;\">10</td><td style = \"text-align: right;\">8</td><td style = \"text-align: right;\">11</td><td style = \"text-align: right;\">7783</td></tr><tr><td class = \"rowNumber\" style = \"font-weight: bold; text-align: right;\">7885</td><td style = \"text-align: left;\">2022-12-18T03:23:22.420</td><td style = \"text-align: right;\">45.7235</td><td style = \"text-align: right;\">26.6176</td><td style = \"text-align: right;\">138.4</td><td style = \"text-align: right;\">2.7</td><td style = \"text-align: right;\">12</td><td style = \"text-align: right;\">10</td><td style = \"text-align: right;\">10</td><td style = \"text-align: right;\">9522</td></tr><tr><td class = \"rowNumber\" style = \"font-weight: bold; text-align: right;\">7886</td><td style = \"text-align: left;\">2022-12-19T19:32:11.030</td><td style = \"text-align: right;\">45.7157</td><td style = \"text-align: right;\">26.6342</td><td style = \"text-align: right;\">85.7</td><td style = \"text-align: right;\">2.7</td><td style = \"text-align: right;\">12</td><td style = \"text-align: right;\">11</td><td style = \"text-align: right;\">4</td><td style = \"text-align: right;\">9545</td></tr><tr><td class = \"rowNumber\" style = \"font-weight: bold; text-align: right;\">7887</td><td style = \"text-align: left;\">2022-12-26T07:47:10.270</td><td style = \"text-align: right;\">45.5403</td><td style = \"text-align: right;\">26.5114</td><td style = \"text-align: right;\">105.9</td><td style = \"text-align: right;\">3.5</td><td style = \"text-align: right;\">8</td><td style = \"text-align: right;\">9</td><td style = \"text-align: right;\">7</td><td style = \"text-align: right;\">6126</td></tr><tr><td class = \"rowNumber\" style = \"font-weight: bold; text-align: right;\">7888</td><td style = \"text-align: left;\">2022-12-27T16:00:52.890</td><td style = \"text-align: right;\">45.5211</td><td style = \"text-align: right;\">26.4184</td><td style = \"text-align: right;\">110.2</td><td style = \"text-align: right;\">2.5</td><td style = \"text-align: right;\">8</td><td style = \"text-align: right;\">7</td><td style = \"text-align: right;\">7</td><td style = \"text-align: right;\">6068</td></tr><tr><td class = \"rowNumber\" style = \"font-weight: bold; text-align: right;\">7889</td><td style = \"text-align: left;\">2022-12-28T07:38:54.270</td><td style = \"text-align: right;\">45.7505</td><td style = \"text-align: right;\">26.6086</td><td style = \"text-align: right;\">85.2</td><td style = \"text-align: right;\">2.9</td><td style = \"text-align: right;\">13</td><td style = \"text-align: right;\">10</td><td style = \"text-align: right;\">4</td><td style = \"text-align: right;\">10357</td></tr><tr><td class = \"rowNumber\" style = \"font-weight: bold; text-align: right;\">7890</td><td style = \"text-align: left;\">2022-12-29T02:06:28.320</td><td style = \"text-align: right;\">45.6714</td><td style = \"text-align: right;\">26.6291</td><td style = \"text-align: right;\">134.0</td><td style = \"text-align: right;\">2.8</td><td style = \"text-align: right;\">11</td><td style = \"text-align: right;\">11</td><td style = \"text-align: right;\">10</td><td style = \"text-align: right;\">8710</td></tr></tbody></table></div>"
      ],
      "text/latex": [
       "\\begin{tabular}{r|cccccccc}\n",
       "\t& Datetime & Latitude & Longitude & Depth & Magnitude & xLatitude & yLongitude & \\\\\n",
       "\t\\hline\n",
       "\t& DateTime & Float64 & Float64 & Float64 & Float64 & Int64 & Int64 & \\\\\n",
       "\t\\hline\n",
       "\t1 & 1976-08-19T19:03:00.800 & 45.54 & 26.37 & 162.0 & 2.3 & 8 & 6 & $\\dots$ \\\\\n",
       "\t2 & 1976-09-07T17:38:08.200 & 45.62 & 26.5 & 155.3 & 3.6 & 10 & 9 & $\\dots$ \\\\\n",
       "\t3 & 1976-10-01T17:50:43.200 & 45.68 & 26.49 & 146.0 & 6.0 & 11 & 8 & $\\dots$ \\\\\n",
       "\t4 & 1977-03-04T19:21:54.100 & 45.77 & 26.76 & 94.0 & 7.4 & 13 & 13 & $\\dots$ \\\\\n",
       "\t5 & 1977-03-04T21:21:01.100 & 45.22 & 26.65 & 141.0 & 3.0 & 1 & 11 & $\\dots$ \\\\\n",
       "\t6 & 1977-03-05T02:35:22 & 45.63 & 26.19 & 121.3 & 3.0 & 10 & 4 & $\\dots$ \\\\\n",
       "\t7 & 1977-03-05T12:08:42 & 45.37 & 26.3 & 124.0 & 3.5 & 4 & 5 & $\\dots$ \\\\\n",
       "\t8 & 1977-03-06T13:27:06.300 & 45.83 & 26.63 & 112.3 & 2.6 & 15 & 11 & $\\dots$ \\\\\n",
       "\t9 & 1977-03-08T18:44:56.500 & 45.96 & 26.44 & 80.4 & 1.9 & 18 & 8 & $\\dots$ \\\\\n",
       "\t10 & 1977-03-09T10:37:29.700 & 45.38 & 27.0 & 108.0 & 3.0 & 5 & 17 & $\\dots$ \\\\\n",
       "\t11 & 1977-03-11T21:19:07.300 & 45.49 & 26.76 & 87.1 & 2.2 & 7 & 13 & $\\dots$ \\\\\n",
       "\t12 & 1977-03-12T13:27:13.300 & 45.74 & 26.9 & 99.9 & 3.8 & 13 & 15 & $\\dots$ \\\\\n",
       "\t13 & 1977-03-12T18:02:15.200 & 45.79 & 26.89 & 100.0 & 3.5 & 14 & 15 & $\\dots$ \\\\\n",
       "\t14 & 1977-03-12T22:03:44.400 & 45.73 & 26.8 & 97.9 & 2.6 & 12 & 13 & $\\dots$ \\\\\n",
       "\t15 & 1977-03-13T13:50:59 & 45.7 & 26.58 & 87.5 & 2.0 & 12 & 10 & $\\dots$ \\\\\n",
       "\t16 & 1977-03-21T00:35:54.600 & 45.75 & 26.72 & 69.7 & 2.7 & 13 & 12 & $\\dots$ \\\\\n",
       "\t17 & 1977-03-22T08:26:52.100 & 45.51 & 26.15 & 167.0 & 3.5 & 7 & 3 & $\\dots$ \\\\\n",
       "\t18 & 1977-03-26T06:54:16.700 & 45.77 & 26.4 & 123.6 & 1.9 & 13 & 7 & $\\dots$ \\\\\n",
       "\t19 & 1977-04-04T02:15:49.700 & 45.59 & 26.64 & 115.0 & 3.8 & 9 & 11 & $\\dots$ \\\\\n",
       "\t20 & 1977-04-13T21:07:22.500 & 45.34 & 26.24 & 91.2 & 1.5 & 4 & 4 & $\\dots$ \\\\\n",
       "\t21 & 1977-06-16T02:26:10.300 & 45.74 & 26.6 & 151.0 & 4.7 & 13 & 10 & $\\dots$ \\\\\n",
       "\t22 & 1977-06-16T02:42:00 & 45.7 & 26.6 & 120.0 & 3.2 & 12 & 10 & $\\dots$ \\\\\n",
       "\t23 & 1977-07-17T17:34:20.900 & 45.6 & 26.65 & 106.0 & 4.2 & 10 & 11 & $\\dots$ \\\\\n",
       "\t24 & 1977-07-24T05:57:00 & 45.7 & 26.6 & 130.0 & 3.4 & 12 & 10 & $\\dots$ \\\\\n",
       "\t$\\dots$ & $\\dots$ & $\\dots$ & $\\dots$ & $\\dots$ & $\\dots$ & $\\dots$ & $\\dots$ &  \\\\\n",
       "\\end{tabular}\n"
      ],
      "text/plain": [
       "\u001b[1m7890×9 DataFrame\u001b[0m\n",
       "\u001b[1m  Row \u001b[0m│\u001b[1m Datetime                \u001b[0m\u001b[1m Latitude \u001b[0m\u001b[1m Longitude \u001b[0m\u001b[1m Depth   \u001b[0m\u001b[1m Magnitude \u001b[0m\u001b[1m xLat\u001b[0m ⋯\n",
       "      │\u001b[90m DateTime                \u001b[0m\u001b[90m Float64  \u001b[0m\u001b[90m Float64   \u001b[0m\u001b[90m Float64 \u001b[0m\u001b[90m Float64   \u001b[0m\u001b[90m Int6\u001b[0m ⋯\n",
       "──────┼─────────────────────────────────────────────────────────────────────────\n",
       "    1 │ 1976-08-19T19:03:00.800   45.54      26.37      162.0        2.3       ⋯\n",
       "    2 │ 1976-09-07T17:38:08.200   45.62      26.5       155.3        3.6\n",
       "    3 │ 1976-10-01T17:50:43.200   45.68      26.49      146.0        6.0\n",
       "    4 │ 1977-03-04T19:21:54.100   45.77      26.76       94.0        7.4\n",
       "    5 │ 1977-03-04T21:21:01.100   45.22      26.65      141.0        3.0       ⋯\n",
       "    6 │ 1977-03-05T02:35:22       45.63      26.19      121.3        3.0\n",
       "    7 │ 1977-03-05T12:08:42       45.37      26.3       124.0        3.5\n",
       "    8 │ 1977-03-06T13:27:06.300   45.83      26.63      112.3        2.6\n",
       "  ⋮   │            ⋮                ⋮          ⋮         ⋮         ⋮           ⋱\n",
       " 7884 │ 2022-12-17T05:42:58.120   45.641     26.487     143.8        4.1       ⋯\n",
       " 7885 │ 2022-12-18T03:23:22.420   45.7235    26.6176    138.4        2.7\n",
       " 7886 │ 2022-12-19T19:32:11.030   45.7157    26.6342     85.7        2.7\n",
       " 7887 │ 2022-12-26T07:47:10.270   45.5403    26.5114    105.9        3.5\n",
       " 7888 │ 2022-12-27T16:00:52.890   45.5211    26.4184    110.2        2.5       ⋯\n",
       " 7889 │ 2022-12-28T07:38:54.270   45.7505    26.6086     85.2        2.9\n",
       " 7890 │ 2022-12-29T02:06:28.320   45.6714    26.6291    134.0        2.8\n",
       "\u001b[36m                                                 4 columns and 7875 rows omitted\u001b[0m"
      ]
     },
     "metadata": {},
     "output_type": "display_data"
    }
   ],
   "source": [
    "vrancea"
   ]
  },
  {
   "cell_type": "code",
   "execution_count": null,
   "metadata": {},
   "outputs": [],
   "source": []
  },
  {
   "cell_type": "code",
   "execution_count": 79,
   "metadata": {},
   "outputs": [
    {
     "data": {
      "text/plain": [
       "7890-element Vector{Float64}:\n",
       " 62.5\n",
       " 61.5\n",
       " 60.5\n",
       " 54.5\n",
       " 59.5\n",
       " 57.5\n",
       " 58.5\n",
       " 56.5\n",
       " 53.5\n",
       " 56.5\n",
       "  ⋮\n",
       " 60.5\n",
       " 54.5\n",
       " 60.5\n",
       " 59.5\n",
       " 53.5\n",
       " 56.5\n",
       " 56.5\n",
       " 53.5\n",
       " 59.5"
      ]
     },
     "metadata": {},
     "output_type": "display_data"
    }
   ],
   "source": [
    "cubeLatitude=[round(minLat + (side/111)*(i-1/2), digits = 4) for i in xLatitude]\n",
    "cubeLongitude=[round(minLon + (side/longitudeInKm)*(i-1/2), digits = 4) for i in yLongitude]\n",
    "cubeDepth=[round(minDepth + (i-1/2), digits = 4) for i in zDepth]"
   ]
  },
  {
   "cell_type": "code",
   "execution_count": 80,
   "metadata": {},
   "outputs": [
    {
     "data": {
      "text/plain": [
       "7890-element Vector{Float64}:\n",
       " 62.5\n",
       " 61.5\n",
       " 60.5\n",
       " 54.5\n",
       " 59.5\n",
       " 57.5\n",
       " 58.5\n",
       " 56.5\n",
       " 53.5\n",
       " 56.5\n",
       "  ⋮\n",
       " 60.5\n",
       " 54.5\n",
       " 60.5\n",
       " 59.5\n",
       " 53.5\n",
       " 56.5\n",
       " 56.5\n",
       " 53.5\n",
       " 59.5"
      ]
     },
     "metadata": {},
     "output_type": "display_data"
    }
   ],
   "source": [
    "vrancea.cubeLatitude = cubeLatitude\n",
    "vrancea.cubeLongitude = cubeLongitude\n",
    "vrancea.cubeDepth = cubeDepth"
   ]
  },
  {
   "cell_type": "code",
   "execution_count": 81,
   "metadata": {},
   "outputs": [
    {
     "data": {
      "text/plain": [
       "7890-element Vector{Float64}:\n",
       " 3.564511334262439e8\n",
       " 2.6546055619755363e10\n",
       " 7.585775750291852e13\n",
       " 7.870457896951001e15\n",
       " 3.6307805477010174e9\n",
       " 3.6307805477010174e9\n",
       " 1.9054607179632523e10\n",
       " 9.638290236239705e8\n",
       " 9.46237161365793e7\n",
       " 3.6307805477010174e9\n",
       " ⋮\n",
       " 1.342764961137864e9\n",
       " 5.152286445817561e10\n",
       " 1.393156802945298e11\n",
       " 1.342764961137864e9\n",
       " 1.342764961137864e9\n",
       " 1.9054607179632523e10\n",
       " 6.918309709189363e8\n",
       " 2.6061535499988976e9\n",
       " 1.8706821403658016e9"
      ]
     },
     "metadata": {},
     "output_type": "display_data"
    }
   ],
   "source": [
    "energyRelease=[10^(5.24 + 1.44*i) for i in vrancea.Magnitude]"
   ]
  },
  {
   "cell_type": "code",
   "execution_count": 82,
   "metadata": {},
   "outputs": [
    {
     "data": {
      "text/plain": [
       "7890-element Vector{Float64}:\n",
       " 3.564511334262439e8\n",
       " 2.6546055619755363e10\n",
       " 7.585775750291852e13\n",
       " 7.870457896951001e15\n",
       " 3.6307805477010174e9\n",
       " 3.6307805477010174e9\n",
       " 1.9054607179632523e10\n",
       " 9.638290236239705e8\n",
       " 9.46237161365793e7\n",
       " 3.6307805477010174e9\n",
       " ⋮\n",
       " 1.342764961137864e9\n",
       " 5.152286445817561e10\n",
       " 1.393156802945298e11\n",
       " 1.342764961137864e9\n",
       " 1.342764961137864e9\n",
       " 1.9054607179632523e10\n",
       " 6.918309709189363e8\n",
       " 2.6061535499988976e9\n",
       " 1.8706821403658016e9"
      ]
     },
     "metadata": {},
     "output_type": "display_data"
    }
   ],
   "source": [
    "vrancea.energyRelease = energyRelease"
   ]
  },
  {
   "cell_type": "code",
   "execution_count": 83,
   "metadata": {},
   "outputs": [
    {
     "data": {
      "text/html": [
       "<div><div style = \"float: left;\"><span>7890×13 DataFrame</span></div><div style = \"float: right;\"><span style = \"font-style: italic;\">7865 rows omitted</span></div><div style = \"clear: both;\"></div></div><div class = \"data-frame\" style = \"overflow-x: scroll;\"><table class = \"data-frame\" style = \"margin-bottom: 6px;\"><thead><tr class = \"header\"><th class = \"rowNumber\" style = \"font-weight: bold; text-align: right;\">Row</th><th style = \"text-align: left;\">Datetime</th><th style = \"text-align: left;\">Latitude</th><th style = \"text-align: left;\">Longitude</th><th style = \"text-align: left;\">Depth</th><th style = \"text-align: left;\">Magnitude</th><th style = \"text-align: left;\">xLatitude</th><th style = \"text-align: left;\">yLongitude</th><th style = \"text-align: left;\">zDepth</th><th style = \"text-align: left;\">cubeIndex</th><th style = \"text-align: left;\">cubeLatitude</th><th style = \"text-align: left;\">cubeLongitude</th><th style = \"text-align: left;\">cubeDepth</th><th style = \"text-align: left;\">energyRelease</th></tr><tr class = \"subheader headerLastRow\"><th class = \"rowNumber\" style = \"font-weight: bold; text-align: right;\"></th><th title = \"DateTime\" style = \"text-align: left;\">DateTime</th><th title = \"Float64\" style = \"text-align: left;\">Float64</th><th title = \"Float64\" style = \"text-align: left;\">Float64</th><th title = \"Float64\" style = \"text-align: left;\">Float64</th><th title = \"Float64\" style = \"text-align: left;\">Float64</th><th title = \"Int64\" style = \"text-align: left;\">Int64</th><th title = \"Int64\" style = \"text-align: left;\">Int64</th><th title = \"Int64\" style = \"text-align: left;\">Int64</th><th title = \"Int64\" style = \"text-align: left;\">Int64</th><th title = \"Float64\" style = \"text-align: left;\">Float64</th><th title = \"Float64\" style = \"text-align: left;\">Float64</th><th title = \"Float64\" style = \"text-align: left;\">Float64</th><th title = \"Float64\" style = \"text-align: left;\">Float64</th></tr></thead><tbody><tr><td class = \"rowNumber\" style = \"font-weight: bold; text-align: right;\">1</td><td style = \"text-align: left;\">1976-08-19T19:03:00.800</td><td style = \"text-align: right;\">45.54</td><td style = \"text-align: right;\">26.37</td><td style = \"text-align: right;\">162.0</td><td style = \"text-align: right;\">2.3</td><td style = \"text-align: right;\">8</td><td style = \"text-align: right;\">6</td><td style = \"text-align: right;\">13</td><td style = \"text-align: right;\">6045</td><td style = \"text-align: right;\">45.5378</td><td style = \"text-align: right;\">26.3481</td><td style = \"text-align: right;\">62.5</td><td style = \"text-align: right;\">3.56451e8</td></tr><tr><td class = \"rowNumber\" style = \"font-weight: bold; text-align: right;\">2</td><td style = \"text-align: left;\">1976-09-07T17:38:08.200</td><td style = \"text-align: right;\">45.62</td><td style = \"text-align: right;\">26.5</td><td style = \"text-align: right;\">155.3</td><td style = \"text-align: right;\">3.6</td><td style = \"text-align: right;\">10</td><td style = \"text-align: right;\">9</td><td style = \"text-align: right;\">12</td><td style = \"text-align: right;\">7813</td><td style = \"text-align: right;\">45.6279</td><td style = \"text-align: right;\">26.538</td><td style = \"text-align: right;\">61.5</td><td style = \"text-align: right;\">2.65461e10</td></tr><tr><td class = \"rowNumber\" style = \"font-weight: bold; text-align: right;\">3</td><td style = \"text-align: left;\">1976-10-01T17:50:43.200</td><td style = \"text-align: right;\">45.68</td><td style = \"text-align: right;\">26.49</td><td style = \"text-align: right;\">146.0</td><td style = \"text-align: right;\">6.0</td><td style = \"text-align: right;\">11</td><td style = \"text-align: right;\">8</td><td style = \"text-align: right;\">11</td><td style = \"text-align: right;\">8624</td><td style = \"text-align: right;\">45.673</td><td style = \"text-align: right;\">26.4747</td><td style = \"text-align: right;\">60.5</td><td style = \"text-align: right;\">7.58578e13</td></tr><tr><td class = \"rowNumber\" style = \"font-weight: bold; text-align: right;\">4</td><td style = \"text-align: left;\">1977-03-04T19:21:54.100</td><td style = \"text-align: right;\">45.77</td><td style = \"text-align: right;\">26.76</td><td style = \"text-align: right;\">94.0</td><td style = \"text-align: right;\">7.4</td><td style = \"text-align: right;\">13</td><td style = \"text-align: right;\">13</td><td style = \"text-align: right;\">5</td><td style = \"text-align: right;\">10445</td><td style = \"text-align: right;\">45.7631</td><td style = \"text-align: right;\">26.7911</td><td style = \"text-align: right;\">54.5</td><td style = \"text-align: right;\">7.87046e15</td></tr><tr><td class = \"rowNumber\" style = \"font-weight: bold; text-align: right;\">5</td><td style = \"text-align: left;\">1977-03-04T21:21:01.100</td><td style = \"text-align: right;\">45.22</td><td style = \"text-align: right;\">26.65</td><td style = \"text-align: right;\">141.0</td><td style = \"text-align: right;\">3.0</td><td style = \"text-align: right;\">1</td><td style = \"text-align: right;\">11</td><td style = \"text-align: right;\">10</td><td style = \"text-align: right;\">300</td><td style = \"text-align: right;\">45.2225</td><td style = \"text-align: right;\">26.6646</td><td style = \"text-align: right;\">59.5</td><td style = \"text-align: right;\">3.63078e9</td></tr><tr><td class = \"rowNumber\" style = \"font-weight: bold; text-align: right;\">6</td><td style = \"text-align: left;\">1977-03-05T02:35:22</td><td style = \"text-align: right;\">45.63</td><td style = \"text-align: right;\">26.19</td><td style = \"text-align: right;\">121.3</td><td style = \"text-align: right;\">3.0</td><td style = \"text-align: right;\">10</td><td style = \"text-align: right;\">4</td><td style = \"text-align: right;\">8</td><td style = \"text-align: right;\">7664</td><td style = \"text-align: right;\">45.6279</td><td style = \"text-align: right;\">26.2215</td><td style = \"text-align: right;\">57.5</td><td style = \"text-align: right;\">3.63078e9</td></tr><tr><td class = \"rowNumber\" style = \"font-weight: bold; text-align: right;\">7</td><td style = \"text-align: left;\">1977-03-05T12:08:42</td><td style = \"text-align: right;\">45.37</td><td style = \"text-align: right;\">26.3</td><td style = \"text-align: right;\">124.0</td><td style = \"text-align: right;\">3.5</td><td style = \"text-align: right;\">4</td><td style = \"text-align: right;\">5</td><td style = \"text-align: right;\">9</td><td style = \"text-align: right;\">2648</td><td style = \"text-align: right;\">45.3577</td><td style = \"text-align: right;\">26.2848</td><td style = \"text-align: right;\">58.5</td><td style = \"text-align: right;\">1.90546e10</td></tr><tr><td class = \"rowNumber\" style = \"font-weight: bold; text-align: right;\">8</td><td style = \"text-align: left;\">1977-03-06T13:27:06.300</td><td style = \"text-align: right;\">45.83</td><td style = \"text-align: right;\">26.63</td><td style = \"text-align: right;\">112.3</td><td style = \"text-align: right;\">2.6</td><td style = \"text-align: right;\">15</td><td style = \"text-align: right;\">11</td><td style = \"text-align: right;\">7</td><td style = \"text-align: right;\">12071</td><td style = \"text-align: right;\">45.8532</td><td style = \"text-align: right;\">26.6646</td><td style = \"text-align: right;\">56.5</td><td style = \"text-align: right;\">9.63829e8</td></tr><tr><td class = \"rowNumber\" style = \"font-weight: bold; text-align: right;\">9</td><td style = \"text-align: left;\">1977-03-08T18:44:56.500</td><td style = \"text-align: right;\">45.96</td><td style = \"text-align: right;\">26.44</td><td style = \"text-align: right;\">80.4</td><td style = \"text-align: right;\">1.9</td><td style = \"text-align: right;\">18</td><td style = \"text-align: right;\">8</td><td style = \"text-align: right;\">4</td><td style = \"text-align: right;\">14504</td><td style = \"text-align: right;\">45.9883</td><td style = \"text-align: right;\">26.4747</td><td style = \"text-align: right;\">53.5</td><td style = \"text-align: right;\">9.46237e7</td></tr><tr><td class = \"rowNumber\" style = \"font-weight: bold; text-align: right;\">10</td><td style = \"text-align: left;\">1977-03-09T10:37:29.700</td><td style = \"text-align: right;\">45.38</td><td style = \"text-align: right;\">27.0</td><td style = \"text-align: right;\">108.0</td><td style = \"text-align: right;\">3.0</td><td style = \"text-align: right;\">5</td><td style = \"text-align: right;\">17</td><td style = \"text-align: right;\">7</td><td style = \"text-align: right;\">3835</td><td style = \"text-align: right;\">45.4027</td><td style = \"text-align: right;\">27.0443</td><td style = \"text-align: right;\">56.5</td><td style = \"text-align: right;\">3.63078e9</td></tr><tr><td class = \"rowNumber\" style = \"font-weight: bold; text-align: right;\">11</td><td style = \"text-align: left;\">1977-03-11T21:19:07.300</td><td style = \"text-align: right;\">45.49</td><td style = \"text-align: right;\">26.76</td><td style = \"text-align: right;\">87.1</td><td style = \"text-align: right;\">2.2</td><td style = \"text-align: right;\">7</td><td style = \"text-align: right;\">13</td><td style = \"text-align: right;\">5</td><td style = \"text-align: right;\">5399</td><td style = \"text-align: right;\">45.4928</td><td style = \"text-align: right;\">26.7911</td><td style = \"text-align: right;\">54.5</td><td style = \"text-align: right;\">2.55859e8</td></tr><tr><td class = \"rowNumber\" style = \"font-weight: bold; text-align: right;\">12</td><td style = \"text-align: left;\">1977-03-12T13:27:13.300</td><td style = \"text-align: right;\">45.74</td><td style = \"text-align: right;\">26.9</td><td style = \"text-align: right;\">99.9</td><td style = \"text-align: right;\">3.8</td><td style = \"text-align: right;\">13</td><td style = \"text-align: right;\">15</td><td style = \"text-align: right;\">6</td><td style = \"text-align: right;\">10504</td><td style = \"text-align: right;\">45.7631</td><td style = \"text-align: right;\">26.9177</td><td style = \"text-align: right;\">55.5</td><td style = \"text-align: right;\">5.15229e10</td></tr><tr><td class = \"rowNumber\" style = \"font-weight: bold; text-align: right;\">13</td><td style = \"text-align: left;\">1977-03-12T18:02:15.200</td><td style = \"text-align: right;\">45.79</td><td style = \"text-align: right;\">26.89</td><td style = \"text-align: right;\">100.0</td><td style = \"text-align: right;\">3.5</td><td style = \"text-align: right;\">14</td><td style = \"text-align: right;\">15</td><td style = \"text-align: right;\">6</td><td style = \"text-align: right;\">11345</td><td style = \"text-align: right;\">45.8081</td><td style = \"text-align: right;\">26.9177</td><td style = \"text-align: right;\">55.5</td><td style = \"text-align: right;\">1.90546e10</td></tr><tr><td style = \"text-align: right;\">&vellip;</td><td style = \"text-align: right;\">&vellip;</td><td style = \"text-align: right;\">&vellip;</td><td style = \"text-align: right;\">&vellip;</td><td style = \"text-align: right;\">&vellip;</td><td style = \"text-align: right;\">&vellip;</td><td style = \"text-align: right;\">&vellip;</td><td style = \"text-align: right;\">&vellip;</td><td style = \"text-align: right;\">&vellip;</td><td style = \"text-align: right;\">&vellip;</td><td style = \"text-align: right;\">&vellip;</td><td style = \"text-align: right;\">&vellip;</td><td style = \"text-align: right;\">&vellip;</td><td style = \"text-align: right;\">&vellip;</td></tr><tr><td class = \"rowNumber\" style = \"font-weight: bold; text-align: right;\">7879</td><td style = \"text-align: left;\">2022-12-09T00:52:37.880</td><td style = \"text-align: right;\">45.4519</td><td style = \"text-align: right;\">26.336</td><td style = \"text-align: right;\">129.6</td><td style = \"text-align: right;\">3.0</td><td style = \"text-align: right;\">6</td><td style = \"text-align: right;\">6</td><td style = \"text-align: right;\">9</td><td style = \"text-align: right;\">4359</td><td style = \"text-align: right;\">45.4477</td><td style = \"text-align: right;\">26.3481</td><td style = \"text-align: right;\">58.5</td><td style = \"text-align: right;\">3.63078e9</td></tr><tr><td class = \"rowNumber\" style = \"font-weight: bold; text-align: right;\">7880</td><td style = \"text-align: left;\">2022-12-09T15:36:01.740</td><td style = \"text-align: right;\">45.7038</td><td style = \"text-align: right;\">26.7097</td><td style = \"text-align: right;\">128.8</td><td style = \"text-align: right;\">3.2</td><td style = \"text-align: right;\">12</td><td style = \"text-align: right;\">12</td><td style = \"text-align: right;\">9</td><td style = \"text-align: right;\">9579</td><td style = \"text-align: right;\">45.718</td><td style = \"text-align: right;\">26.7278</td><td style = \"text-align: right;\">58.5</td><td style = \"text-align: right;\">7.04693e9</td></tr><tr><td class = \"rowNumber\" style = \"font-weight: bold; text-align: right;\">7881</td><td style = \"text-align: left;\">2022-12-13T19:37:54.560</td><td style = \"text-align: right;\">45.4168</td><td style = \"text-align: right;\">26.338</td><td style = \"text-align: right;\">125.7</td><td style = \"text-align: right;\">2.8</td><td style = \"text-align: right;\">5</td><td style = \"text-align: right;\">6</td><td style = \"text-align: right;\">9</td><td style = \"text-align: right;\">3518</td><td style = \"text-align: right;\">45.4027</td><td style = \"text-align: right;\">26.3481</td><td style = \"text-align: right;\">58.5</td><td style = \"text-align: right;\">1.87068e9</td></tr><tr><td class = \"rowNumber\" style = \"font-weight: bold; text-align: right;\">7882</td><td style = \"text-align: left;\">2022-12-15T08:22:21.990</td><td style = \"text-align: right;\">45.7194</td><td style = \"text-align: right;\">26.4448</td><td style = \"text-align: right;\">142.2</td><td style = \"text-align: right;\">2.7</td><td style = \"text-align: right;\">12</td><td style = \"text-align: right;\">8</td><td style = \"text-align: right;\">11</td><td style = \"text-align: right;\">9465</td><td style = \"text-align: right;\">45.718</td><td style = \"text-align: right;\">26.4747</td><td style = \"text-align: right;\">60.5</td><td style = \"text-align: right;\">1.34276e9</td></tr><tr><td class = \"rowNumber\" style = \"font-weight: bold; text-align: right;\">7883</td><td style = \"text-align: left;\">2022-12-15T23:47:13.400</td><td style = \"text-align: right;\">45.735</td><td style = \"text-align: right;\">26.6709</td><td style = \"text-align: right;\">87.7</td><td style = \"text-align: right;\">3.8</td><td style = \"text-align: right;\">13</td><td style = \"text-align: right;\">11</td><td style = \"text-align: right;\">5</td><td style = \"text-align: right;\">10387</td><td style = \"text-align: right;\">45.7631</td><td style = \"text-align: right;\">26.6646</td><td style = \"text-align: right;\">54.5</td><td style = \"text-align: right;\">5.15229e10</td></tr><tr><td class = \"rowNumber\" style = \"font-weight: bold; text-align: right;\">7884</td><td style = \"text-align: left;\">2022-12-17T05:42:58.120</td><td style = \"text-align: right;\">45.641</td><td style = \"text-align: right;\">26.487</td><td style = \"text-align: right;\">143.8</td><td style = \"text-align: right;\">4.1</td><td style = \"text-align: right;\">10</td><td style = \"text-align: right;\">8</td><td style = \"text-align: right;\">11</td><td style = \"text-align: right;\">7783</td><td style = \"text-align: right;\">45.6279</td><td style = \"text-align: right;\">26.4747</td><td style = \"text-align: right;\">60.5</td><td style = \"text-align: right;\">1.39316e11</td></tr><tr><td class = \"rowNumber\" style = \"font-weight: bold; text-align: right;\">7885</td><td style = \"text-align: left;\">2022-12-18T03:23:22.420</td><td style = \"text-align: right;\">45.7235</td><td style = \"text-align: right;\">26.6176</td><td style = \"text-align: right;\">138.4</td><td style = \"text-align: right;\">2.7</td><td style = \"text-align: right;\">12</td><td style = \"text-align: right;\">10</td><td style = \"text-align: right;\">10</td><td style = \"text-align: right;\">9522</td><td style = \"text-align: right;\">45.718</td><td style = \"text-align: right;\">26.6013</td><td style = \"text-align: right;\">59.5</td><td style = \"text-align: right;\">1.34276e9</td></tr><tr><td class = \"rowNumber\" style = \"font-weight: bold; text-align: right;\">7886</td><td style = \"text-align: left;\">2022-12-19T19:32:11.030</td><td style = \"text-align: right;\">45.7157</td><td style = \"text-align: right;\">26.6342</td><td style = \"text-align: right;\">85.7</td><td style = \"text-align: right;\">2.7</td><td style = \"text-align: right;\">12</td><td style = \"text-align: right;\">11</td><td style = \"text-align: right;\">4</td><td style = \"text-align: right;\">9545</td><td style = \"text-align: right;\">45.718</td><td style = \"text-align: right;\">26.6646</td><td style = \"text-align: right;\">53.5</td><td style = \"text-align: right;\">1.34276e9</td></tr><tr><td class = \"rowNumber\" style = \"font-weight: bold; text-align: right;\">7887</td><td style = \"text-align: left;\">2022-12-26T07:47:10.270</td><td style = \"text-align: right;\">45.5403</td><td style = \"text-align: right;\">26.5114</td><td style = \"text-align: right;\">105.9</td><td style = \"text-align: right;\">3.5</td><td style = \"text-align: right;\">8</td><td style = \"text-align: right;\">9</td><td style = \"text-align: right;\">7</td><td style = \"text-align: right;\">6126</td><td style = \"text-align: right;\">45.5378</td><td style = \"text-align: right;\">26.538</td><td style = \"text-align: right;\">56.5</td><td style = \"text-align: right;\">1.90546e10</td></tr><tr><td class = \"rowNumber\" style = \"font-weight: bold; text-align: right;\">7888</td><td style = \"text-align: left;\">2022-12-27T16:00:52.890</td><td style = \"text-align: right;\">45.5211</td><td style = \"text-align: right;\">26.4184</td><td style = \"text-align: right;\">110.2</td><td style = \"text-align: right;\">2.5</td><td style = \"text-align: right;\">8</td><td style = \"text-align: right;\">7</td><td style = \"text-align: right;\">7</td><td style = \"text-align: right;\">6068</td><td style = \"text-align: right;\">45.5378</td><td style = \"text-align: right;\">26.4114</td><td style = \"text-align: right;\">56.5</td><td style = \"text-align: right;\">6.91831e8</td></tr><tr><td class = \"rowNumber\" style = \"font-weight: bold; text-align: right;\">7889</td><td style = \"text-align: left;\">2022-12-28T07:38:54.270</td><td style = \"text-align: right;\">45.7505</td><td style = \"text-align: right;\">26.6086</td><td style = \"text-align: right;\">85.2</td><td style = \"text-align: right;\">2.9</td><td style = \"text-align: right;\">13</td><td style = \"text-align: right;\">10</td><td style = \"text-align: right;\">4</td><td style = \"text-align: right;\">10357</td><td style = \"text-align: right;\">45.7631</td><td style = \"text-align: right;\">26.6013</td><td style = \"text-align: right;\">53.5</td><td style = \"text-align: right;\">2.60615e9</td></tr><tr><td class = \"rowNumber\" style = \"font-weight: bold; text-align: right;\">7890</td><td style = \"text-align: left;\">2022-12-29T02:06:28.320</td><td style = \"text-align: right;\">45.6714</td><td style = \"text-align: right;\">26.6291</td><td style = \"text-align: right;\">134.0</td><td style = \"text-align: right;\">2.8</td><td style = \"text-align: right;\">11</td><td style = \"text-align: right;\">11</td><td style = \"text-align: right;\">10</td><td style = \"text-align: right;\">8710</td><td style = \"text-align: right;\">45.673</td><td style = \"text-align: right;\">26.6646</td><td style = \"text-align: right;\">59.5</td><td style = \"text-align: right;\">1.87068e9</td></tr></tbody></table></div>"
      ],
      "text/latex": [
       "\\begin{tabular}{r|cccccccc}\n",
       "\t& Datetime & Latitude & Longitude & Depth & Magnitude & xLatitude & yLongitude & \\\\\n",
       "\t\\hline\n",
       "\t& DateTime & Float64 & Float64 & Float64 & Float64 & Int64 & Int64 & \\\\\n",
       "\t\\hline\n",
       "\t1 & 1976-08-19T19:03:00.800 & 45.54 & 26.37 & 162.0 & 2.3 & 8 & 6 & $\\dots$ \\\\\n",
       "\t2 & 1976-09-07T17:38:08.200 & 45.62 & 26.5 & 155.3 & 3.6 & 10 & 9 & $\\dots$ \\\\\n",
       "\t3 & 1976-10-01T17:50:43.200 & 45.68 & 26.49 & 146.0 & 6.0 & 11 & 8 & $\\dots$ \\\\\n",
       "\t4 & 1977-03-04T19:21:54.100 & 45.77 & 26.76 & 94.0 & 7.4 & 13 & 13 & $\\dots$ \\\\\n",
       "\t5 & 1977-03-04T21:21:01.100 & 45.22 & 26.65 & 141.0 & 3.0 & 1 & 11 & $\\dots$ \\\\\n",
       "\t6 & 1977-03-05T02:35:22 & 45.63 & 26.19 & 121.3 & 3.0 & 10 & 4 & $\\dots$ \\\\\n",
       "\t7 & 1977-03-05T12:08:42 & 45.37 & 26.3 & 124.0 & 3.5 & 4 & 5 & $\\dots$ \\\\\n",
       "\t8 & 1977-03-06T13:27:06.300 & 45.83 & 26.63 & 112.3 & 2.6 & 15 & 11 & $\\dots$ \\\\\n",
       "\t9 & 1977-03-08T18:44:56.500 & 45.96 & 26.44 & 80.4 & 1.9 & 18 & 8 & $\\dots$ \\\\\n",
       "\t10 & 1977-03-09T10:37:29.700 & 45.38 & 27.0 & 108.0 & 3.0 & 5 & 17 & $\\dots$ \\\\\n",
       "\t11 & 1977-03-11T21:19:07.300 & 45.49 & 26.76 & 87.1 & 2.2 & 7 & 13 & $\\dots$ \\\\\n",
       "\t12 & 1977-03-12T13:27:13.300 & 45.74 & 26.9 & 99.9 & 3.8 & 13 & 15 & $\\dots$ \\\\\n",
       "\t13 & 1977-03-12T18:02:15.200 & 45.79 & 26.89 & 100.0 & 3.5 & 14 & 15 & $\\dots$ \\\\\n",
       "\t14 & 1977-03-12T22:03:44.400 & 45.73 & 26.8 & 97.9 & 2.6 & 12 & 13 & $\\dots$ \\\\\n",
       "\t15 & 1977-03-13T13:50:59 & 45.7 & 26.58 & 87.5 & 2.0 & 12 & 10 & $\\dots$ \\\\\n",
       "\t16 & 1977-03-21T00:35:54.600 & 45.75 & 26.72 & 69.7 & 2.7 & 13 & 12 & $\\dots$ \\\\\n",
       "\t17 & 1977-03-22T08:26:52.100 & 45.51 & 26.15 & 167.0 & 3.5 & 7 & 3 & $\\dots$ \\\\\n",
       "\t18 & 1977-03-26T06:54:16.700 & 45.77 & 26.4 & 123.6 & 1.9 & 13 & 7 & $\\dots$ \\\\\n",
       "\t19 & 1977-04-04T02:15:49.700 & 45.59 & 26.64 & 115.0 & 3.8 & 9 & 11 & $\\dots$ \\\\\n",
       "\t20 & 1977-04-13T21:07:22.500 & 45.34 & 26.24 & 91.2 & 1.5 & 4 & 4 & $\\dots$ \\\\\n",
       "\t21 & 1977-06-16T02:26:10.300 & 45.74 & 26.6 & 151.0 & 4.7 & 13 & 10 & $\\dots$ \\\\\n",
       "\t22 & 1977-06-16T02:42:00 & 45.7 & 26.6 & 120.0 & 3.2 & 12 & 10 & $\\dots$ \\\\\n",
       "\t23 & 1977-07-17T17:34:20.900 & 45.6 & 26.65 & 106.0 & 4.2 & 10 & 11 & $\\dots$ \\\\\n",
       "\t24 & 1977-07-24T05:57:00 & 45.7 & 26.6 & 130.0 & 3.4 & 12 & 10 & $\\dots$ \\\\\n",
       "\t$\\dots$ & $\\dots$ & $\\dots$ & $\\dots$ & $\\dots$ & $\\dots$ & $\\dots$ & $\\dots$ &  \\\\\n",
       "\\end{tabular}\n"
      ],
      "text/plain": [
       "\u001b[1m7890×13 DataFrame\u001b[0m\n",
       "\u001b[1m  Row \u001b[0m│\u001b[1m Datetime                \u001b[0m\u001b[1m Latitude \u001b[0m\u001b[1m Longitude \u001b[0m\u001b[1m Depth   \u001b[0m\u001b[1m Magnitude \u001b[0m\u001b[1m xLat\u001b[0m ⋯\n",
       "      │\u001b[90m DateTime                \u001b[0m\u001b[90m Float64  \u001b[0m\u001b[90m Float64   \u001b[0m\u001b[90m Float64 \u001b[0m\u001b[90m Float64   \u001b[0m\u001b[90m Int6\u001b[0m ⋯\n",
       "──────┼─────────────────────────────────────────────────────────────────────────\n",
       "    1 │ 1976-08-19T19:03:00.800   45.54      26.37      162.0        2.3       ⋯\n",
       "    2 │ 1976-09-07T17:38:08.200   45.62      26.5       155.3        3.6\n",
       "    3 │ 1976-10-01T17:50:43.200   45.68      26.49      146.0        6.0\n",
       "    4 │ 1977-03-04T19:21:54.100   45.77      26.76       94.0        7.4\n",
       "    5 │ 1977-03-04T21:21:01.100   45.22      26.65      141.0        3.0       ⋯\n",
       "    6 │ 1977-03-05T02:35:22       45.63      26.19      121.3        3.0\n",
       "    7 │ 1977-03-05T12:08:42       45.37      26.3       124.0        3.5\n",
       "    8 │ 1977-03-06T13:27:06.300   45.83      26.63      112.3        2.6\n",
       "  ⋮   │            ⋮                ⋮          ⋮         ⋮         ⋮           ⋱\n",
       " 7884 │ 2022-12-17T05:42:58.120   45.641     26.487     143.8        4.1       ⋯\n",
       " 7885 │ 2022-12-18T03:23:22.420   45.7235    26.6176    138.4        2.7\n",
       " 7886 │ 2022-12-19T19:32:11.030   45.7157    26.6342     85.7        2.7\n",
       " 7887 │ 2022-12-26T07:47:10.270   45.5403    26.5114    105.9        3.5\n",
       " 7888 │ 2022-12-27T16:00:52.890   45.5211    26.4184    110.2        2.5       ⋯\n",
       " 7889 │ 2022-12-28T07:38:54.270   45.7505    26.6086     85.2        2.9\n",
       " 7890 │ 2022-12-29T02:06:28.320   45.6714    26.6291    134.0        2.8\n",
       "\u001b[36m                                                 8 columns and 7875 rows omitted\u001b[0m"
      ]
     },
     "metadata": {},
     "output_type": "display_data"
    }
   ],
   "source": [
    "vrancea"
   ]
  },
  {
   "cell_type": "code",
   "execution_count": null,
   "metadata": {},
   "outputs": [],
   "source": []
  }
 ],
 "metadata": {
  "kernelspec": {
   "display_name": "Julia 1.8.5",
   "language": "julia",
   "name": "julia-1.8"
  },
  "language_info": {
   "file_extension": ".jl",
   "mimetype": "application/julia",
   "name": "julia",
   "version": "1.8.5"
  },
  "orig_nbformat": 4
 },
 "nbformat": 4,
 "nbformat_minor": 2
}
