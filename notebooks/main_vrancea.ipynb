{
 "cells": [
  {
   "cell_type": "code",
   "execution_count": 9,
   "metadata": {},
   "outputs": [],
   "source": [
    "using CSV, DataFrames\n",
    "using FileIO, Dates\n",
    "using Plots\n",
    "using StatsBase"
   ]
  },
  {
   "cell_type": "code",
   "execution_count": 2,
   "metadata": {},
   "outputs": [
    {
     "data": {
      "text/plain": [
       "volume_tetrahedrons (generic function with 1 method)"
      ]
     },
     "metadata": {},
     "output_type": "display_data"
    }
   ],
   "source": [
    "include(\"./src/cubes.jl\")\n",
    "include(\"./src/network.jl\")"
   ]
  },
  {
   "cell_type": "code",
   "execution_count": 3,
   "metadata": {},
   "outputs": [
    {
     "data": {
      "text/plain": [
       "\"./data/romania.csv\""
      ]
     },
     "metadata": {},
     "output_type": "display_data"
    }
   ],
   "source": [
    "path = \"./data/\"\n",
    "name = \"vrancea\"\n",
    "filepath = path * name * \".csv\"\n",
    "\n",
    "df = CSV.read(filepath, DataFrame);\n",
    "\n",
    "df, df_cubes = region_cube_split(df,side=5,energyRelease=true);\n",
    "\n",
    "MG = create_network(vrancea, vrancea_cubes; edgeWeight=false);\n",
    "connectivity = degree(MG);"
   ]
  },
  {
   "cell_type": "code",
   "execution_count": null,
   "metadata": {},
   "outputs": [],
   "source": []
  },
  {
   "cell_type": "code",
   "execution_count": null,
   "metadata": {},
   "outputs": [],
   "source": []
  },
  {
   "cell_type": "code",
   "execution_count": 10,
   "metadata": {},
   "outputs": [
    {
     "data": {
      "text/plain": [
       "Histogram{Float64, 1, Tuple{StepRangeLen{Float64, Base.TwicePrecision{Float64}, Base.TwicePrecision{Float64}, Int64}}}\n",
       "edges:\n",
       "  1.0:1.333590634253139:81.01543805518834\n",
       "weights: [762.0, 6.0, 248.0, 139.0, 7.0, 86.0, 71.0, 10.0, 59.0, 32.0  …  0.0, 0.0, 1.0, 1.0, 0.0, 0.0, 0.0, 0.0, 0.0, 1.0]\n",
       "closed: left\n",
       "isdensity: false"
      ]
     },
     "metadata": {},
     "output_type": "display_data"
    }
   ],
   "source": [
    "bstep = 2 * iqr(fit_data) * length(fit_data) ^ (-1/3)\n",
    "b = minimum(fit_data) : bstep : maximum(fit_data)\n",
    "h = StatsBase.fit(Histogram{Float64}, fit_data, b)"
   ]
  },
  {
   "cell_type": "code",
   "execution_count": 12,
   "metadata": {},
   "outputs": [
    {
     "data": {
      "text/plain": [
       "\"d:\\\\projects\\\\seismicNetworks-extras\\\\seismic-networks-julia-tests\\\\results\\\\vrancea_bins_iqr.png\""
      ]
     },
     "metadata": {},
     "output_type": "display_data"
    }
   ],
   "source": [
    "plot(h ; label=\"\",xscale=:log10, xlim=extrema(b))\n",
    "savefig(\"./results/vrancea_bins_iqr.png\")"
   ]
  },
  {
   "cell_type": "code",
   "execution_count": null,
   "metadata": {},
   "outputs": [],
   "source": []
  },
  {
   "cell_type": "code",
   "execution_count": 24,
   "metadata": {},
   "outputs": [
    {
     "data": {
      "text/plain": [
       "Histogram{Float64, 1, Tuple{StepRangeLen{Float64, Base.TwicePrecision{Float64}, Base.TwicePrecision{Float64}, Int64}}}\n",
       "edges:\n",
       "  0.0:2.0:84.0\n",
       "weights: [3.0, 765.0, 248.0, 146.0, 86.0, 81.0, 59.0, 38.0, 43.0, 41.0  …  3.0, 1.0, 0.0, 1.0, 1.0, 0.0, 0.0, 0.0, 1.0, 1.0]\n",
       "closed: left\n",
       "isdensity: false"
      ]
     },
     "metadata": {},
     "output_type": "display_data"
    }
   ],
   "source": [
    "h = StatsBase.fit(Histogram{Float64}, fit_data, nbins=Int(ceil(sqrt(length(fit_data)))))"
   ]
  },
  {
   "cell_type": "code",
   "execution_count": 25,
   "metadata": {},
   "outputs": [
    {
     "data": {
      "text/plain": [
       "\"d:\\\\projects\\\\seismicNetworks-extras\\\\seismic-networks-julia-tests\\\\results\\\\vrancea_bins_sqrt.png\""
      ]
     },
     "metadata": {},
     "output_type": "display_data"
    }
   ],
   "source": [
    "plot(h ; label=\"\",xscale=:log10, xlim=extrema(b))\n",
    "savefig(\"./results/vrancea_bins_sqrt.png\")"
   ]
  },
  {
   "cell_type": "code",
   "execution_count": null,
   "metadata": {},
   "outputs": [],
   "source": []
  },
  {
   "cell_type": "code",
   "execution_count": 26,
   "metadata": {},
   "outputs": [
    {
     "name": "stderr",
     "output_type": "stream",
     "text": [
      "WARNING: using DataStructures.path in module Main conflicts with an existing identifier.\n"
     ]
    }
   ],
   "source": [
    "using DataStructures"
   ]
  },
  {
   "cell_type": "code",
   "execution_count": 27,
   "metadata": {},
   "outputs": [
    {
     "data": {
      "text/plain": [
       "Accumulator{Int64, Int64} with 68 entries:\n",
       "  5  => 4\n",
       "  56 => 1\n",
       "  35 => 4\n",
       "  55 => 1\n",
       "  60 => 1\n",
       "  30 => 4\n",
       "  32 => 3\n",
       "  6  => 139\n",
       "  67 => 1\n",
       "  45 => 5\n",
       "  73 => 1\n",
       "  64 => 2\n",
       "  4  => 244\n",
       "  13 => 13\n",
       "  54 => 2\n",
       "  63 => 1\n",
       "  62 => 1\n",
       "  58 => 6\n",
       "  52 => 2\n",
       "  ⋮  => ⋮"
      ]
     },
     "metadata": {},
     "output_type": "display_data"
    }
   ],
   "source": [
    "c = DataStructures.counter(fit_data)"
   ]
  },
  {
   "cell_type": "code",
   "execution_count": 29,
   "metadata": {},
   "outputs": [
    {
     "data": {
      "text/plain": [
       "\"d:\\\\projects\\\\seismicNetworks-extras\\\\seismic-networks-julia-tests\\\\results\\\\vrancea_actual_degrees.png\""
      ]
     },
     "metadata": {},
     "output_type": "display_data"
    }
   ],
   "source": [
    "bar(collect(keys(c)), collect(values(c)),yscale=:log10)\n",
    "savefig(\"./results/vrancea_actual_degrees.png\")"
   ]
  },
  {
   "cell_type": "code",
   "execution_count": null,
   "metadata": {},
   "outputs": [],
   "source": []
  },
  {
   "cell_type": "code",
   "execution_count": null,
   "metadata": {},
   "outputs": [],
   "source": []
  },
  {
   "cell_type": "code",
   "execution_count": 30,
   "metadata": {},
   "outputs": [],
   "source": [
    "using PyCall"
   ]
  },
  {
   "cell_type": "code",
   "execution_count": 31,
   "metadata": {},
   "outputs": [
    {
     "data": {
      "text/plain": [
       "PyObject <module 'powerlaw' from 'C:\\\\Users\\\\gabipana\\\\.julia\\\\conda\\\\3\\\\lib\\\\site-packages\\\\powerlaw.py'>"
      ]
     },
     "metadata": {},
     "output_type": "display_data"
    }
   ],
   "source": [
    "powerlaw = pyimport(\"powerlaw\")"
   ]
  },
  {
   "cell_type": "code",
   "execution_count": 32,
   "metadata": {},
   "outputs": [],
   "source": [
    "py\"\"\"\n",
    "import powerlaw as powerlaw\n",
    "def fit_data_powerlaw(data):\n",
    "    results = powerlaw.Fit(data)\n",
    "    print(results.power_law.alpha)\n",
    "    print(results.power_law.xmin)\n",
    "    R, p = results.distribution_compare('power_law', 'lognormal')\n",
    "    return results.power_law.alpha, results.power_law.xmin\n",
    "\n",
    "def plot_pdf(fit_data):\n",
    "    pdf = powerlaw.pdf(fit_data)\n",
    "    return pdf\n",
    "\"\"\""
   ]
  },
  {
   "cell_type": "code",
   "execution_count": 33,
   "metadata": {},
   "outputs": [
    {
     "name": "stderr",
     "output_type": "stream",
     "text": [
      "Calculating best minimal value for power law fit\r\n",
      "C:\\Users\\gabipana\\.julia\\conda\\3\\lib\\site-packages\\powerlaw.py:699: RuntimeWarning: invalid value encountered in divide\r\n",
      "  (CDF_diff**2) /\r\n",
      "C:\\Users\\gabipana\\.julia\\conda\\3\\lib\\site-packages\\powerlaw.py:699: RuntimeWarning: invalid value encountered in divide\r\n",
      "  (CDF_diff**2) /\r\n"
     ]
    },
    {
     "data": {
      "text/plain": [
       "(2.877396783935865, 16.0)"
      ]
     },
     "metadata": {},
     "output_type": "display_data"
    }
   ],
   "source": [
    "a,xmin = py\"fit_data_powerlaw\"(fit_data)"
   ]
  },
  {
   "cell_type": "code",
   "execution_count": 34,
   "metadata": {},
   "outputs": [
    {
     "data": {
      "text/plain": [
       "(2.877396783935865, 16.0)"
      ]
     },
     "metadata": {},
     "output_type": "display_data"
    }
   ],
   "source": [
    "a, xmin"
   ]
  },
  {
   "cell_type": "code",
   "execution_count": 35,
   "metadata": {},
   "outputs": [
    {
     "data": {
      "text/plain": [
       "([1.0, 2.0, 3.0, 4.0, 5.0, 6.0, 8.0, 10.0, 12.0, 16.0, 20.0, 25.0, 32.0, 40.0, 51.0, 65.0, 82.0], [0.0017371163867979154, 0.4394904458598726, 0.003474232773595831, 0.14128546612623047, 0.0023161551823972205, 0.04226983207874928, 0.024898668210770122, 0.023451071221771858, 0.01404169079328315, 0.012159814707585408, 0.007411696583671106, 0.0038878319133096202, 0.00253329473074696, 0.002158235510870137, 0.0009926379353130945, 0.00020436663374093125])"
      ]
     },
     "metadata": {},
     "output_type": "display_data"
    }
   ],
   "source": [
    "pdf = py\"plot_pdf\"(fit_data)"
   ]
  },
  {
   "cell_type": "code",
   "execution_count": 36,
   "metadata": {},
   "outputs": [
    {
     "data": {
      "text/plain": [
       "power_law (generic function with 1 method)"
      ]
     },
     "metadata": {},
     "output_type": "display_data"
    }
   ],
   "source": [
    "function power_law(x,b,a)\n",
    "    return b*x .^(-a)\n",
    "end"
   ]
  },
  {
   "cell_type": "code",
   "execution_count": 37,
   "metadata": {},
   "outputs": [
    {
     "data": {
      "text/plain": [
       "17-element Vector{Float64}:\n",
       "  1.0\n",
       "  2.0\n",
       "  3.0\n",
       "  4.0\n",
       "  5.0\n",
       "  6.0\n",
       "  8.0\n",
       " 10.0\n",
       " 12.0\n",
       " 16.0\n",
       " 20.0\n",
       " 25.0\n",
       " 32.0\n",
       " 40.0\n",
       " 51.0\n",
       " 65.0\n",
       " 82.0"
      ]
     },
     "metadata": {},
     "output_type": "display_data"
    }
   ],
   "source": [
    "pdf[1]"
   ]
  },
  {
   "cell_type": "code",
   "execution_count": 38,
   "metadata": {},
   "outputs": [
    {
     "data": {
      "text/plain": [
       "10"
      ]
     },
     "metadata": {},
     "output_type": "display_data"
    }
   ],
   "source": [
    "findfirst(item -> item == 16.0, pdf[1])"
   ]
  },
  {
   "cell_type": "code",
   "execution_count": 39,
   "metadata": {},
   "outputs": [
    {
     "data": {
      "text/plain": [
       "8-element Vector{Float64}:\n",
       " 16.0\n",
       " 20.0\n",
       " 25.0\n",
       " 32.0\n",
       " 40.0\n",
       " 51.0\n",
       " 65.0\n",
       " 82.0"
      ]
     },
     "metadata": {},
     "output_type": "display_data"
    }
   ],
   "source": [
    "pdf_cutoff = pdf[1][findfirst(item -> item == 16.0, pdf[1]) : end]"
   ]
  },
  {
   "cell_type": "code",
   "execution_count": 41,
   "metadata": {},
   "outputs": [
    {
     "data": {
      "text/plain": [
       "\"d:\\\\projects\\\\seismicNetworks-extras\\\\seismic-networks-julia-tests\\\\results\\\\vrancea_fit_mle.png\""
      ]
     },
     "metadata": {},
     "output_type": "display_data"
    }
   ],
   "source": [
    "scatter(pdf,xscale=:log10, yscale=:log10)\n",
    "plot!(pdf_cutoff,power_law(pdf_cutoff,xmin,a))\n",
    "savefig(\"./results/vrancea_fit_mle.png\")"
   ]
  },
  {
   "cell_type": "code",
   "execution_count": null,
   "metadata": {},
   "outputs": [],
   "source": []
  }
 ],
 "metadata": {
  "kernelspec": {
   "display_name": "Julia 1.8.5",
   "language": "julia",
   "name": "julia-1.8"
  },
  "language_info": {
   "file_extension": ".jl",
   "mimetype": "application/julia",
   "name": "julia",
   "version": "1.8.5"
  },
  "orig_nbformat": 4
 },
 "nbformat": 4,
 "nbformat_minor": 2
}
