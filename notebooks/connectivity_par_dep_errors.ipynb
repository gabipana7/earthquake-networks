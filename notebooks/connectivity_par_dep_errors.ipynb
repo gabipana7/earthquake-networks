{
 "cells": [
  {
   "cell_type": "code",
   "execution_count": 15,
   "metadata": {},
   "outputs": [],
   "source": [
    "using CSV, DataFrames\n",
    "using FileIO, Dates\n",
    "using Graphs, MetaGraphs\n",
    "using DataStructures\n",
    "using PyCall\n",
    "using Plots, PyPlot; gr()\n",
    "# using HypothesisTests\n",
    "\n",
    "include(\"./src/cubes.jl\")\n",
    "include(\"./src/network.jl\")\n",
    "\n",
    "@pyimport powerlaw as powlaw"
   ]
  },
  {
   "cell_type": "code",
   "execution_count": 2,
   "metadata": {},
   "outputs": [],
   "source": [
    "region = \"california\"\n",
    "mkpath(\"./results/$region\")\n",
    "\n",
    "df = CSV.read(\"./data/$(region).csv\", DataFrame);\n",
    "\n",
    "magnitude_threshold = 0.0\n",
    "df = df[df.Magnitude .> magnitude_threshold,:];"
   ]
  },
  {
   "cell_type": "code",
   "execution_count": 3,
   "metadata": {},
   "outputs": [],
   "source": [
    "# cube_sides = [5,10]\n",
    "# degrees_alpha=[]\n",
    "# degrees_xmin=[]\n",
    "\n",
    "# for side in cube_sides\n",
    "#     df, df_cubes = region_cube_split(df,side=side)\n",
    "#     MG = create_network(df, df_cubes)\n",
    "#     degrees=[]\n",
    "#     for i in 1:nv(MG)\n",
    "#         push!(degrees, get_prop(MG, i, :degree))\n",
    "#     end\n",
    "\n",
    "#     fit_degrees = powlaw.Fit(degrees);\n",
    "#     push!(degrees_alpha, fit_degrees.alpha)\n",
    "#     push!(degrees_xmin, fit_degrees.xmin)\n",
    "\n",
    "# end"
   ]
  },
  {
   "cell_type": "code",
   "execution_count": 44,
   "metadata": {},
   "outputs": [
    {
     "name": "stdout",
     "output_type": "stream",
     "text": [
      "xmin progress: 63%\rxmin progress: 63%\rxmin progress: 63%\rxmin progress: 63%\rxmin progress: 63%\rxmin progress: 63%\rxmin progress: 63%\rxmin progress: 64%\rxmin progress: 64%\rxmin progress: 64%\rxmin progress: 64%\rxmin progress: 64%\rxmin progress: 64%\rxmin progress: 64%\rxmin progress: 65%\rxmin progress: 65%\rxmin progress: 65%\rxmin progress: 65%\rxmin progress: 65%\rxmin progress: 65%\rxmin progress: 65%\rxmin progress: 66%\rxmin progress: 66%\rxmin progress: 66%\rxmin progress: 66%\rxmin progress: 66%\rxmin progress: 66%\rxmin progress: 67%\rxmin progress: 67%\rxmin progress: 67%\rxmin progress: 67%\rxmin progress: 67%\rxmin progress: 67%\rxmin progress: 67%\rxmin progress: 68%\rxmin progress: 68%\rxmin progress: 68%\rxmin progress: 68%\rxmin progress: 68%\rxmin progress: 68%\rxmin progress: 68%\rxmin progress: 69%\rxmin progress: 69%\rxmin progress: 69%\rxmin progress: 69%\rxmin progress: 69%\rxmin progress: 69%\rxmin progress: 69%\rxmin progress: 70%\rxmin progress: 70%\rxmin progress: 70%\rxmin progress: 70%\rxmin progress: 70%\rxmin progress: 70%\rxmin progress: 70%\rxmin progress: 71%\rxmin progress: 71%\rxmin progress: 71%\rxmin progress: 71%\rxmin progress: 71%\rxmin progress: 71%\rxmin progress: 72%\rxmin progress: 72%\rxmin progress: 72%\rxmin progress: 72%\rxmin progress: 72%\rxmin progress: 72%\rxmin progress: 72%\rxmin progress: 73%\rxmin progress: 73%\rxmin progress: 73%\rxmin progress: 73%\rxmin progress: 73%\rxmin progress: 73%\rxmin progress: 73%\rxmin progress: 74%\rxmin progress: 74%\rxmin progress: 74%\rxmin progress: 74%\rxmin progress: 74%\rxmin progress: 74%\rxmin progress: 74%\rxmin progress: 75%\rxmin progress: 75%\rxmin progress: 75%\rxmin progress: 75%\rxmin progress: 75%\rxmin progress: 75%\rxmin progress: 75%\rxmin progress: 76%\rxmin progress: 76%\rxmin progress: 76%\rxmin progress: 76%\rxmin progress: 76%\rxmin progress: 76%\rxmin progress: 77%\rxmin progress: 77%\rxmin progress: 77%\rxmin progress: 77%\rxmin progress: 77%\rxmin progress: 77%\rxmin progress: 77%\rxmin progress: 78%\rxmin progress: 78%\rxmin progress: 78%\rxmin progress: 78%\rxmin progress: 78%\rxmin progress: 78%\rxmin progress: 78%\rxmin progress: 79%\rxmin progress: 79%\rxmin progress: 79%\rxmin progress: 79%\rxmin progress: 79%\rxmin progress: 79%\rxmin progress: 79%\rxmin progress: 80%\rxmin progress: 80%\rxmin progress: 80%\rxmin progress: 80%\rxmin progress: 80%\rxmin progress: 80%\rxmin progress: 81%\rxmin progress: 81%\rxmin progress: 81%\rxmin progress: 81%\rxmin progress: 81%\rxmin progress: 81%\rxmin progress: 81%\rxmin progress: 82%\rxmin progress: 82%\rxmin progress: 82%\rxmin progress: 82%\rxmin progress: 82%\rxmin progress: 82%\rxmin progress: 82%\rxmin progress: 83%\rxmin progress: 83%\rxmin progress: 83%\rxmin progress: 83%\rxmin progress: 83%\rxmin progress: 83%\rxmin progress: 83%\rxmin progress: 84%\rxmin progress: 84%\rxmin progress: 84%\rxmin progress: 84%\rxmin progress: 84%\rxmin progress: 84%\rxmin progress: 84%\rxmin progress: 85%\rxmin progress: 85%\rxmin progress: 85%\rxmin progress: 85%\rxmin progress: 85%\rxmin progress: 85%\rxmin progress: 86%\rxmin progress: 86%\rxmin progress: 86%\rxmin progress: 86%\rxmin progress: 86%\rxmin progress: 86%\rxmin progress: 86%\rxmin progress: 87%\rxmin progress: 87%\rxmin progress: 87%\rxmin progress: 87%\rxmin progress: 87%\rxmin progress: 87%\rxmin progress: 87%\rxmin progress: 88%\rxmin progress: 88%\rxmin progress: 88%\rxmin progress: 88%\rxmin progress: 88%\rxmin progress: 88%\rxmin progress: 88%\rxmin progress: 89%\rxmin progress: 89%\rxmin progress: 89%\rxmin progress: 89%\rxmin progress: 89%\rxmin progress: 89%\rxmin progress: 89%\rxmin progress: 90%\rxmin progress: 90%\rxmin progress: 90%\rxmin progress: 90%\rxmin progress: 90%\rxmin progress: 90%\rxmin progress: 91%\rxmin progress: 91%\rxmin progress: 91%\rxmin progress: 91%\rxmin progress: 91%\rxmin progress: 91%\rxmin progress: 91%\rxmin progress: 92%\rxmin progress: 92%\rxmin progress: 92%\rxmin progress: 92%\rxmin progress: 92%\rxmin progress: 92%\rxmin progress: 92%\rxmin progress: 93%\rxmin progress: 93%\rxmin progress: 93%\rxmin progress: 93%\rxmin progress: 93%\rxmin progress: 93%\rxmin progress: 93%\rxmin progress: 94%\rxmin progress: 94%\rxmin progress: 94%\rxmin progress: 94%\rxmin progress: 94%\rxmin progress: 94%\rxmin progress: 94%\rxmin progress: 95%\rxmin progress: 95%\rxmin progress: 95%\rxmin progress: 95%\rxmin progress: 95%\rxmin progress: 95%\rxmin progress: 96%\rxmin progress: 96%\rxmin progress: 96%\rxmin progress: 96%\rxmin progress: 96%\rxmin progress: 96%\rxmin progress: 96%\rxmin progress: 97%\rxmin progress: 97%\rxmin progress: 97%\rxmin progress: 97%\rxmin progress: 97%\rxmin progress: 97%\rxmin progress: 97%\rxmin progress: 98%\rxmin progress: 98%\rxmin progress: 98%\rxmin progress: 98%\rxmin progress: 98%\rxmin progress: 98%\rxmin progress: 98%\rxmin progress: 99%\rxmin progress: 99%\rxmin progress: 99%\rxmin progress: 99%\rxmin progress: 99%\rxmin progress: 99%\rCalculating best minimal value for power law fit\n",
      "xmin progress: 00%\rxmin progress: 00%\rxmin progress: 00%\rxmin progress: 00%\rxmin progress: 00%\rxmin progress: 00%\rxmin progress: 01%\rxmin progress: 01%\rxmin progress: 01%\rxmin progress: 01%\rxmin progress: 01%\rxmin progress: 01%\rxmin progress: 02%\rxmin progress: 02%\rxmin progress: 02%\rxmin progress: 02%\rxmin progress: 02%\rxmin progress: 02%\rxmin progress: 03%\rxmin progress: 03%\rxmin progress: 03%\rxmin progress: 03%\rxmin progress: 03%\rxmin progress: 03%\rxmin progress: 04%\rxmin progress: 04%\rxmin progress: 04%\rxmin progress: 04%\rxmin progress: 04%\rxmin progress: 04%\rxmin progress: 05%\rxmin progress: 05%\rxmin progress: 05%\rxmin progress: 05%\rxmin progress: 05%\rxmin progress: 06%\rxmin progress: 06%\rxmin progress: 06%\rxmin progress: 06%\rxmin progress: 06%\rxmin progress: 06%\rxmin progress: 07%\rxmin progress: 07%\rxmin progress: 07%\rxmin progress: 07%\rxmin progress: 07%\rxmin progress: 07%\rxmin progress: 08%\rxmin progress: 08%\rxmin progress: 08%\rxmin progress: 08%\rxmin progress: 08%\rxmin progress: 08%\rxmin progress: 09%\rxmin progress: 09%\rxmin progress: 09%\rxmin progress: 09%\rxmin progress: 09%\rxmin progress: 09%\rxmin progress: 10%\rxmin progress: 10%\rxmin progress: 10%\rxmin progress: 10%\rxmin progress: 10%\rxmin progress: 11%\rxmin progress: 11%\rxmin progress: 11%\rxmin progress: 11%\rxmin progress: 11%\rxmin progress: 11%\rxmin progress: 12%\rxmin progress: 12%\rxmin progress: 12%\rxmin progress: 12%\rxmin progress: 12%\rxmin progress: 12%\rxmin progress: 13%\rxmin progress: 13%\rxmin progress: 13%\rxmin progress: 13%\rxmin progress: 13%\rxmin progress: 13%\rxmin progress: 14%\rxmin progress: 14%\rxmin progress: 14%\rxmin progress: 14%\rxmin progress: 14%\rxmin progress: 14%\rxmin progress: 15%\rxmin progress: 15%\rxmin progress: 15%\rxmin progress: 15%\rxmin progress: 15%\rxmin progress: 16%\rxmin progress: 16%\rxmin progress: 16%\rxmin progress: 16%\rxmin progress: 16%\rxmin progress: 16%\rxmin progress: 17%\rxmin progress: 17%\rxmin progress: 17%\rxmin progress: 17%\rxmin progress: 17%\rxmin progress: 17%\rxmin progress: 18%\rxmin progress: 18%\rxmin progress: 18%\rxmin progress: 18%\rxmin progress: 18%\rxmin progress: 18%\rxmin progress: 19%\rxmin progress: 19%\rxmin progress: 19%\rxmin progress: 19%\rxmin progress: 19%\rxmin progress: 19%\rxmin progress: 20%\rxmin progress: 20%\rxmin progress: 20%\rxmin progress: 20%\rxmin progress: 20%\rxmin progress: 20%\rxmin progress: 21%\rxmin progress: 21%\rxmin progress: 21%\rxmin progress: 21%\rxmin progress: 21%\rxmin progress: 22%\rxmin progress: 22%\rxmin progress: 22%\rxmin progress: 22%\rxmin progress: 22%\rxmin progress: 22%\rxmin progress: 23%\rxmin progress: 23%\rxmin progress: 23%\rxmin progress: 23%\rxmin progress: 23%\rxmin progress: 23%\rxmin progress: 24%\rxmin progress: 24%\rxmin progress: 24%\rxmin progress: 24%\rxmin progress: 24%\rxmin progress: 24%\rxmin progress: 25%\rxmin progress: 25%\rxmin progress: 25%\rxmin progress: 25%\rxmin progress: 25%\rxmin progress: 25%\rxmin progress: 26%\rxmin progress: 26%\rxmin progress: 26%\rxmin progress: 26%\rxmin progress: 26%\rxmin progress: 27%\rxmin progress: 27%\rxmin progress: 27%\rxmin progress: 27%\rxmin progress: 27%\rxmin progress: 27%\rxmin progress: 28%\rxmin progress: 28%\rxmin progress: 28%\rxmin progress: 28%\rxmin progress: 28%\rxmin progress: 28%\rxmin progress: 29%\rxmin progress: 29%\rxmin progress: 29%\rxmin progress: 29%\rxmin progress: 29%\rxmin progress: 29%\rxmin progress: 30%\rxmin progress: 30%\r"
     ]
    },
    {
     "data": {
      "text/plain": [
       "314.0"
      ]
     },
     "metadata": {},
     "output_type": "display_data"
    }
   ],
   "source": [
    "side = 3\n",
    "degrees_alpha=[]\n",
    "degrees_xmin=[]\n",
    "\n",
    "df, df_cubes = region_cube_split(df,side=side)\n",
    "MG = create_network(df, df_cubes)\n",
    "degrees=[]\n",
    "for i in 1:nv(MG)\n",
    "    push!(degrees, get_prop(MG, i, :degree))\n",
    "end\n",
    "\n",
    "fit_degrees = powlaw.Fit(degrees);\n",
    "alpha = round(fit_degrees.alpha, digits=4)\n",
    "xmin = fit_degrees.xmin"
   ]
  },
  {
   "cell_type": "code",
   "execution_count": 45,
   "metadata": {},
   "outputs": [
    {
     "data": {
      "text/plain": [
       "2.4465"
      ]
     },
     "metadata": {},
     "output_type": "display_data"
    }
   ],
   "source": [
    "alpha"
   ]
  },
  {
   "cell_type": "code",
   "execution_count": 46,
   "metadata": {},
   "outputs": [
    {
     "data": {
      "image/png": "[encoded data removed]",
      "image/svg+xml": [
       "<?xml version=\"1.0\" encoding=\"utf-8\"?>\n",
       "<svg xmlns=\"http://www.w3.org/2000/svg\" xmlns:xlink=\"http://www.w3.org/1999/xlink\" width=\"600\" height=\"400\" viewBox=\"0 0 2400 1600\">\n",
       "<defs>\n",
       "  <clipPath id=\"clip250\">\n",
       "    <rect x=\"0\" y=\"0\" width=\"2400\" height=\"1600\"/>\n",
       "  </clipPath>\n",
       "</defs>\n",
       "<path clip-path=\"url(#clip250)\" d=\"\n",
       "M0 1600 L2400 1600 L2400 0 L0 0  Z\n",
       "  \" fill=\"#ffffff\" fill-rule=\"evenodd\" fill-opacity=\"1\"/>\n",
       "<defs>\n",
       "  <clipPath id=\"clip251\">\n",
       "    <rect x=\"480\" y=\"0\" width=\"1681\" height=\"1600\"/>\n",
       "  </clipPath>\n",
       "</defs>\n",
       "<path clip-path=\"url(#clip250)\" d=\"\n",
       "M251.071 1410.9 L2352.76 1410.9 L2352.76 47.2441 L251.071 47.2441  Z\n",
       "  \" fill=\"#ffffff\" fill-rule=\"evenodd\" fill-opacity=\"1\"/>\n",
       "<defs>\n",
       "  <clipPath id=\"clip252\">\n",
       "    <rect x=\"251\" y=\"47\" width=\"2103\" height=\"1365\"/>\n",
       "  </clipPath>\n",
       "</defs>\n",
       "<polyline clip-path=\"url(#clip252)\" style=\"stroke:#000000; stroke-linecap:round; stroke-linejoin:round; stroke-width:2; stroke-opacity:0.1; fill:none\" points=\"\n",
       "  938.132,1410.9 938.132,47.2441 \n",
       "  \"/>\n",
       "<polyline clip-path=\"url(#clip252)\" style=\"stroke:#000000; stroke-linecap:round; stroke-linejoin:round; stroke-width:2; stroke-opacity:0.1; fill:none\" points=\"\n",
       "  2185.63,1410.9 2185.63,47.2441 \n",
       "  \"/>\n",
       "<polyline clip-path=\"url(#clip250)\" style=\"stroke:#000000; stroke-linecap:round; stroke-linejoin:round; stroke-width:4; stroke-opacity:1; fill:none\" points=\"\n",
       "  251.071,1410.9 2352.76,1410.9 \n",
       "  \"/>\n",
       "<polyline clip-path=\"url(#clip250)\" style=\"stroke:#000000; stroke-linecap:round; stroke-linejoin:round; stroke-width:4; stroke-opacity:1; fill:none\" points=\"\n",
       "  938.132,1410.9 938.132,1392 \n",
       "  \"/>\n",
       "<polyline clip-path=\"url(#clip250)\" style=\"stroke:#000000; stroke-linecap:round; stroke-linejoin:round; stroke-width:4; stroke-opacity:1; fill:none\" points=\"\n",
       "  2185.63,1410.9 2185.63,1392 \n",
       "  \"/>\n",
       "<path clip-path=\"url(#clip250)\" d=\"M903.576 1485.02 L911.214 1485.02 L911.214 1458.66 L902.904 1460.32 L902.904 1456.06 L911.168 1454.4 L915.844 1454.4 L915.844 1485.02 L923.483 1485.02 L923.483 1488.96 L903.576 1488.96 L903.576 1485.02 Z\" fill=\"#000000\" fill-rule=\"evenodd\" fill-opacity=\"1\" /><path clip-path=\"url(#clip250)\" d=\"M942.927 1457.48 Q939.316 1457.48 937.487 1461.04 Q935.682 1464.58 935.682 1471.71 Q935.682 1478.82 937.487 1482.38 Q939.316 1485.92 942.927 1485.92 Q946.561 1485.92 948.367 1482.38 Q950.196 1478.82 950.196 1471.71 Q950.196 1464.58 948.367 1461.04 Q946.561 1457.48 942.927 1457.48 M942.927 1453.77 Q948.737 1453.77 951.793 1458.38 Q954.872 1462.96 954.872 1471.71 Q954.872 1480.44 951.793 1485.04 Q948.737 1489.63 942.927 1489.63 Q937.117 1489.63 934.038 1485.04 Q930.983 1480.44 930.983 1471.71 Q930.983 1462.96 934.038 1458.38 Q937.117 1453.77 942.927 1453.77 Z\" fill=\"#000000\" fill-rule=\"evenodd\" fill-opacity=\"1\" /><path clip-path=\"url(#clip250)\" d=\"M967.567 1446.41 Q970.294 1446.99 971.817 1448.83 Q973.36 1450.68 973.36 1453.38 Q973.36 1457.54 970.501 1459.82 Q967.642 1462.09 962.376 1462.09 Q960.608 1462.09 958.727 1461.73 Q956.865 1461.4 954.872 1460.7 L954.872 1457.03 Q956.451 1457.95 958.332 1458.42 Q960.213 1458.89 962.263 1458.89 Q965.836 1458.89 967.698 1457.48 Q969.579 1456.07 969.579 1453.38 Q969.579 1450.9 967.83 1449.51 Q966.1 1448.1 962.996 1448.1 L959.724 1448.1 L959.724 1444.98 L963.147 1444.98 Q965.949 1444.98 967.435 1443.87 Q968.921 1442.74 968.921 1440.63 Q968.921 1438.47 967.379 1437.32 Q965.855 1436.16 962.996 1436.16 Q961.435 1436.16 959.649 1436.49 Q957.862 1436.83 955.718 1437.55 L955.718 1434.16 Q957.881 1433.56 959.762 1433.26 Q961.661 1432.96 963.335 1432.96 Q967.661 1432.96 970.181 1434.93 Q972.701 1436.89 972.701 1440.24 Q972.701 1442.57 971.366 1444.19 Q970.031 1445.79 967.567 1446.41 Z\" fill=\"#000000\" fill-rule=\"evenodd\" fill-opacity=\"1\" /><path clip-path=\"url(#clip250)\" d=\"M2150.09 1485.02 L2157.72 1485.02 L2157.72 1458.66 L2149.41 1460.32 L2149.41 1456.06 L2157.68 1454.4 L2162.35 1454.4 L2162.35 1485.02 L2169.99 1485.02 L2169.99 1488.96 L2150.09 1488.96 L2150.09 1485.02 Z\" fill=\"#000000\" fill-rule=\"evenodd\" fill-opacity=\"1\" /><path clip-path=\"url(#clip250)\" d=\"M2189.44 1457.48 Q2185.83 1457.48 2184 1461.04 Q2182.19 1464.58 2182.19 1471.71 Q2182.19 1478.82 2184 1482.38 Q2185.83 1485.92 2189.44 1485.92 Q2193.07 1485.92 2194.88 1482.38 Q2196.71 1478.82 2196.71 1471.71 Q2196.71 1464.58 2194.88 1461.04 Q2193.07 1457.48 2189.44 1457.48 M2189.44 1453.77 Q2195.25 1453.77 2198.3 1458.38 Q2201.38 1462.96 2201.38 1471.71 Q2201.38 1480.44 2198.3 1485.04 Q2195.25 1489.63 2189.44 1489.63 Q2183.63 1489.63 2180.55 1485.04 Q2177.49 1480.44 2177.49 1471.71 Q2177.49 1462.96 2180.55 1458.38 Q2183.63 1453.77 2189.44 1453.77 Z\" fill=\"#000000\" fill-rule=\"evenodd\" fill-opacity=\"1\" /><path clip-path=\"url(#clip250)\" d=\"M2214.06 1436.78 L2204.47 1451.77 L2214.06 1451.77 L2214.06 1436.78 M2213.06 1433.47 L2217.84 1433.47 L2217.84 1451.77 L2221.84 1451.77 L2221.84 1454.93 L2217.84 1454.93 L2217.84 1461.55 L2214.06 1461.55 L2214.06 1454.93 L2201.38 1454.93 L2201.38 1451.26 L2213.06 1433.47 Z\" fill=\"#000000\" fill-rule=\"evenodd\" fill-opacity=\"1\" /><path clip-path=\"url(#clip250)\" d=\"M1286.09 1524.66 L1291.98 1524.66 L1291.98 1553.91 L1309.46 1538.54 L1316.94 1538.54 L1298.03 1555.22 L1317.73 1574.19 L1310.09 1574.19 L1291.98 1556.78 L1291.98 1574.19 L1286.09 1574.19 L1286.09 1524.66 Z\" fill=\"#000000\" fill-rule=\"evenodd\" fill-opacity=\"1\" /><polyline clip-path=\"url(#clip252)\" style=\"stroke:#000000; stroke-linecap:round; stroke-linejoin:round; stroke-width:2; stroke-opacity:0.1; fill:none\" points=\"\n",
       "  251.071,948.449 2352.76,948.449 \n",
       "  \"/>\n",
       "<polyline clip-path=\"url(#clip252)\" style=\"stroke:#000000; stroke-linecap:round; stroke-linejoin:round; stroke-width:2; stroke-opacity:0.1; fill:none\" points=\"\n",
       "  251.071,85.838 2352.76,85.838 \n",
       "  \"/>\n",
       "<polyline clip-path=\"url(#clip250)\" style=\"stroke:#000000; stroke-linecap:round; stroke-linejoin:round; stroke-width:4; stroke-opacity:1; fill:none\" points=\"\n",
       "  251.071,1410.9 251.071,47.2441 \n",
       "  \"/>\n",
       "<polyline clip-path=\"url(#clip250)\" style=\"stroke:#000000; stroke-linecap:round; stroke-linejoin:round; stroke-width:4; stroke-opacity:1; fill:none\" points=\"\n",
       "  251.071,948.449 269.969,948.449 \n",
       "  \"/>\n",
       "<polyline clip-path=\"url(#clip250)\" style=\"stroke:#000000; stroke-linecap:round; stroke-linejoin:round; stroke-width:4; stroke-opacity:1; fill:none\" points=\"\n",
       "  251.071,85.838 269.969,85.838 \n",
       "  \"/>\n",
       "<path clip-path=\"url(#clip250)\" d=\"M114.931 968.241 L122.57 968.241 L122.57 941.876 L114.26 943.542 L114.26 939.283 L122.524 937.616 L127.2 937.616 L127.2 968.241 L134.839 968.241 L134.839 972.176 L114.931 972.176 L114.931 968.241 Z\" fill=\"#000000\" fill-rule=\"evenodd\" fill-opacity=\"1\" /><path clip-path=\"url(#clip250)\" d=\"M154.283 940.695 Q150.672 940.695 148.843 944.26 Q147.038 947.802 147.038 954.931 Q147.038 962.038 148.843 965.602 Q150.672 969.144 154.283 969.144 Q157.917 969.144 159.723 965.602 Q161.552 962.038 161.552 954.931 Q161.552 947.802 159.723 944.26 Q157.917 940.695 154.283 940.695 M154.283 936.991 Q160.093 936.991 163.149 941.598 Q166.227 946.181 166.227 954.931 Q166.227 963.658 163.149 968.264 Q160.093 972.848 154.283 972.848 Q148.473 972.848 145.394 968.264 Q142.339 963.658 142.339 954.931 Q142.339 946.181 145.394 941.598 Q148.473 936.991 154.283 936.991 Z\" fill=\"#000000\" fill-rule=\"evenodd\" fill-opacity=\"1\" /><path clip-path=\"url(#clip250)\" d=\"M166.227 931.093 L190.339 931.093 L190.339 934.29 L166.227 934.29 L166.227 931.093 Z\" fill=\"#000000\" fill-rule=\"evenodd\" fill-opacity=\"1\" /><path clip-path=\"url(#clip250)\" d=\"M201.812 941.569 L215.071 941.569 L215.071 944.766 L197.241 944.766 L197.241 941.569 Q199.404 939.331 203.128 935.569 Q206.871 931.789 207.83 930.698 Q209.655 928.648 210.369 927.237 Q211.103 925.808 211.103 924.435 Q211.103 922.197 209.523 920.786 Q207.962 919.376 205.442 919.376 Q203.655 919.376 201.661 919.996 Q199.686 920.617 197.43 921.877 L197.43 918.04 Q199.724 917.119 201.718 916.648 Q203.711 916.178 205.366 916.178 Q209.73 916.178 212.325 918.36 Q214.921 920.542 214.921 924.19 Q214.921 925.921 214.263 927.482 Q213.623 929.024 211.912 931.13 Q211.441 931.676 208.921 934.29 Q206.401 936.886 201.812 941.569 Z\" fill=\"#000000\" fill-rule=\"evenodd\" fill-opacity=\"1\" /><path clip-path=\"url(#clip250)\" d=\"M144.366 105.63 L152.004 105.63 L152.004 79.2649 L143.694 80.9315 L143.694 76.6723 L151.958 75.0056 L156.634 75.0056 L156.634 105.63 L164.273 105.63 L164.273 109.566 L144.366 109.566 L144.366 105.63 Z\" fill=\"#000000\" fill-rule=\"evenodd\" fill-opacity=\"1\" /><path clip-path=\"url(#clip250)\" d=\"M183.717 78.0843 Q180.106 78.0843 178.277 81.6491 Q176.472 85.1908 176.472 92.3204 Q176.472 99.4268 178.277 102.992 Q180.106 106.533 183.717 106.533 Q187.351 106.533 189.157 102.992 Q190.986 99.4268 190.986 92.3204 Q190.986 85.1908 189.157 81.6491 Q187.351 78.0843 183.717 78.0843 M183.717 74.3806 Q189.527 74.3806 192.583 78.9871 Q195.662 83.5704 195.662 92.3204 Q195.662 101.047 192.583 105.654 Q189.527 110.237 183.717 110.237 Q177.907 110.237 174.828 105.654 Q171.773 101.047 171.773 92.3204 Q171.773 83.5704 174.828 78.9871 Q177.907 74.3806 183.717 74.3806 Z\" fill=\"#000000\" fill-rule=\"evenodd\" fill-opacity=\"1\" /><path clip-path=\"url(#clip250)\" d=\"M205.366 56.5767 Q202.432 56.5767 200.947 59.4731 Q199.48 62.3507 199.48 68.1434 Q199.48 73.9174 200.947 76.8138 Q202.432 79.6914 205.366 79.6914 Q208.319 79.6914 209.786 76.8138 Q211.272 73.9174 211.272 68.1434 Q211.272 62.3507 209.786 59.4731 Q208.319 56.5767 205.366 56.5767 M205.366 53.5674 Q210.087 53.5674 212.57 57.3102 Q215.071 61.0341 215.071 68.1434 Q215.071 75.234 212.57 78.9767 Q210.087 82.7007 205.366 82.7007 Q200.646 82.7007 198.144 78.9767 Q195.662 75.234 195.662 68.1434 Q195.662 61.0341 198.144 57.3102 Q200.646 53.5674 205.366 53.5674 Z\" fill=\"#000000\" fill-rule=\"evenodd\" fill-opacity=\"1\" /><path clip-path=\"url(#clip250)\" d=\"M21.7677 780.601 L39.6235 780.601 L39.6235 772.516 Q39.6235 768.028 37.3 765.578 Q34.9765 763.127 30.6797 763.127 Q26.4147 763.127 24.0912 765.578 Q21.7677 768.028 21.7677 772.516 L21.7677 780.601 M16.4842 787.03 L16.4842 772.516 Q16.4842 764.527 20.1126 760.453 Q23.7092 756.347 30.6797 756.347 Q37.7138 756.347 41.3104 760.453 Q44.907 764.527 44.907 772.516 L44.907 780.601 L64.0042 780.601 L64.0042 787.03 L16.4842 787.03 Z\" fill=\"#000000\" fill-rule=\"evenodd\" fill-opacity=\"1\" /><path clip-path=\"url(#clip250)\" d=\"M14.5426 733.908 Q21.8632 738.173 29.0246 740.242 Q36.186 742.311 43.5384 742.311 Q50.8908 742.311 58.1159 740.242 Q65.3091 738.142 72.5979 733.908 L72.5979 739.001 Q65.1182 743.775 57.8931 746.162 Q50.668 748.518 43.5384 748.518 Q36.4406 748.518 29.2474 746.162 Q22.0542 743.807 14.5426 739.001 L14.5426 733.908 Z\" fill=\"#000000\" fill-rule=\"evenodd\" fill-opacity=\"1\" /><path clip-path=\"url(#clip250)\" d=\"M14.479 722.768 L14.479 716.88 L43.7294 716.88 L28.3562 699.406 L28.3562 691.926 L45.0344 710.833 L64.0042 691.131 L64.0042 698.77 L46.5939 716.88 L64.0042 716.88 L64.0042 722.768 L14.479 722.768 Z\" fill=\"#000000\" fill-rule=\"evenodd\" fill-opacity=\"1\" /><path clip-path=\"url(#clip250)\" d=\"M14.5426 685.72 L14.5426 680.627 Q22.0542 675.853 29.2474 673.498 Q36.4406 671.111 43.5384 671.111 Q50.668 671.111 57.8931 673.498 Q65.1182 675.853 72.5979 680.627 L72.5979 685.72 Q65.3091 681.487 58.1159 679.418 Q50.8908 677.317 43.5384 677.317 Q36.186 677.317 29.0246 679.418 Q21.8632 681.487 14.5426 685.72 Z\" fill=\"#000000\" fill-rule=\"evenodd\" fill-opacity=\"1\" /><polyline clip-path=\"url(#clip252)\" style=\"stroke:#009af9; stroke-linecap:round; stroke-linejoin:round; stroke-width:10; stroke-opacity:1; fill:none\" points=\"\n",
       "  310.553,85.838 313.993,87.2074 317.411,89.3798 320.808,89.9766 324.183,91.7787 327.538,93.8016 330.872,94.8212 334.186,96.0522 337.479,98.3302 340.753,99.7944 \n",
       "  344.007,100.847 347.241,101.906 350.457,102.971 353.653,105.769 356.831,107.511 359.99,108.608 363.13,110.378 366.253,111.939 369.358,113.514 372.445,114.648 \n",
       "  375.515,116.017 378.567,117.396 381.602,119.017 384.62,119.95 387.622,121.123 390.607,122.778 393.576,123.73 396.528,125.167 399.465,126.131 402.385,127.587 \n",
       "  405.29,128.319 408.18,130.533 411.054,133.024 413.913,134.03 416.757,135.803 419.586,138.365 422.401,140.441 425.201,141.75 427.986,142.54 430.757,143.598 \n",
       "  433.514,145.464 436.258,146.539 438.987,147.892 441.703,148.436 444.405,150.076 447.094,150.902 449.769,152.009 452.431,153.681 455.081,155.086 460.341,156.502 \n",
       "  462.952,157.072 465.55,157.357 468.136,157.929 470.71,159.366 473.272,160.524 475.821,161.106 478.359,161.69 480.885,163.157 483.399,165.528 485.901,166.425 \n",
       "  488.392,167.326 490.872,169.142 493.34,170.056 495.797,170.668 498.243,172.517 500.678,172.826 503.102,174.384 505.515,175.01 507.918,176.585 510.31,176.902 \n",
       "  512.691,177.855 515.062,179.134 517.423,180.099 519.774,181.393 522.114,182.369 524.444,183.351 526.764,183.679 529.075,185.661 531.375,185.994 533.666,186.66 \n",
       "  535.947,188.337 538.219,190.37 540.481,191.394 542.734,192.769 544.977,193.807 547.211,195.549 551.652,196.955 553.859,198.016 556.057,199.798 558.246,200.876 \n",
       "  560.426,202.686 562.598,203.78 564.761,204.881 569.06,205.618 571.198,207.475 573.326,208.597 575.447,209.727 577.559,210.105 579.663,210.484 581.759,210.863 \n",
       "  583.847,212.773 585.927,213.928 587.998,215.869 590.062,216.651 592.118,217.436 594.167,217.83 596.207,218.621 598.24,219.414 600.266,220.211 602.283,220.611 \n",
       "  604.294,222.219 606.297,222.623 608.292,223.028 610.28,223.434 612.261,224.657 614.235,225.477 616.202,226.3 618.161,227.542 620.113,229.211 622.059,230.472 \n",
       "  623.997,231.742 625.929,233.878 627.853,235.604 629.771,236.474 631.682,238.224 633.586,239.106 635.484,241.328 637.375,242.224 639.26,243.124 641.137,243.576 \n",
       "  643.009,244.029 644.874,244.483 646.733,244.939 654.104,246.771 655.931,248.621 657.752,249.086 661.376,249.553 663.179,251.43 666.767,251.903 668.552,252.376 \n",
       "  673.872,252.851 677.391,253.804 679.141,255.243 680.886,256.209 682.625,257.18 684.359,258.155 686.087,258.645 687.81,259.136 689.527,260.122 692.945,261.113 \n",
       "  694.646,262.609 698.032,263.111 699.717,265.13 701.397,266.659 703.072,267.172 704.742,267.686 706.406,270.799 708.066,271.323 709.72,272.375 713.013,272.904 \n",
       "  714.653,273.965 716.287,275.032 717.916,277.186 719.541,277.728 721.161,278.817 724.386,279.912 725.991,281.567 729.187,283.237 730.778,284.359 732.365,284.922 \n",
       "  735.524,285.487 737.097,286.623 738.665,287.765 740.228,288.338 741.787,288.914 743.342,291.818 744.892,292.992 746.438,293.582 747.979,294.174 749.516,295.363 \n",
       "  751.049,295.961 752.577,297.765 755.621,298.37 757.136,298.977 760.155,299.587 761.657,300.811 763.156,302.043 764.651,303.284 767.628,304.532 769.11,306.421 \n",
       "  770.588,308.329 773.533,309.612 774.999,310.257 776.461,312.205 779.374,312.859 782.271,314.834 783.714,315.497 785.153,316.162 786.588,318.173 788.02,319.525 \n",
       "  793.708,320.205 795.12,320.888 797.935,322.26 800.735,323.642 802.129,324.337 804.908,325.735 806.291,327.144 807.672,329.276 809.049,329.993 814.521,332.158 \n",
       "  818.59,332.886 821.285,333.616 829.292,334.349 830.615,335.085 831.935,336.566 833.251,337.31 835.875,338.058 837.182,338.809 839.787,339.563 841.084,340.32 \n",
       "  842.379,341.08 844.959,341.842 846.244,343.378 847.527,344.15 850.082,344.926 852.626,346.487 857.677,348.061 858.933,348.853 861.435,350.447 862.682,351.249 \n",
       "  863.926,352.055 867.641,353.677 868.874,356.136 871.331,360.308 873.777,361.154 874.996,362.003 876.212,363.714 878.636,364.575 882.252,365.44 888.226,366.309 \n",
       "  890.597,367.183 892.957,368.06 894.134,368.942 898.814,369.827 901.14,371.611 903.455,372.509 904.609,373.412 905.76,374.319 906.91,377.067 910.342,377.992 \n",
       "  911.482,378.922 913.753,380.795 917.143,382.687 918.268,383.64 919.391,384.598 921.63,385.561 926.08,387.503 929.393,388.481 930.493,390.452 931.591,393.45 \n",
       "  932.687,394.459 935.96,396.495 940.295,397.522 943.523,398.554 944.595,399.592 948.861,400.635 954.146,402.74 955.197,405.942 957.293,407.021 960.422,408.107 \n",
       "  966.626,409.199 974.788,410.298 975.8,412.515 979.828,413.633 989.769,415.89 996.621,417.029 1000.5,419.327 1002.43,420.487 1006.26,421.654 1007.22,424.01 \n",
       "  1008.17,425.199 1010.07,426.396 1016.67,427.601 1019.48,428.813 1021.34,431.262 1022.27,432.498 1023.19,433.743 1029.64,436.257 1030.55,438.806 1032.38,440.093 \n",
       "  1033.29,441.389 1036.91,442.695 1038.71,444.009 1042.3,445.333 1052.05,446.666 1052.92,448.009 1054.68,449.361 1059.89,450.724 1063.34,452.096 1064.2,454.871 \n",
       "  1067.63,456.274 1073.57,457.688 1074.41,459.112 1075.25,460.548 1085.25,461.994 1086.08,463.452 1091.82,464.921 1092.64,466.402 1094.26,467.894 1095.89,469.399 \n",
       "  1096.69,470.915 1103.13,472.444 1108.69,473.986 1112.63,475.541 1114.2,477.108 1114.98,478.689 1118.1,480.283 1119.65,481.891 1120.43,483.513 1130.4,485.149 \n",
       "  1131.15,486.799 1133.43,488.464 1140.18,490.144 1142.42,491.839 1143.9,493.55 1146.12,497.019 1150.53,498.777 1152.72,500.553 1153.45,504.155 1156.36,505.983 \n",
       "  1159.25,507.828 1159.97,509.692 1162.12,511.574 1169.95,513.476 1171.36,515.397 1172.77,517.338 1176.27,519.3 1179.75,521.282 1181.13,523.285 1182.52,527.358 \n",
       "  1183.21,529.427 1186.64,531.52 1204.16,533.637 1212.06,535.778 1213.37,537.943 1215.32,542.351 1217.27,544.594 1224.34,546.864 1227.21,549.163 1228.79,551.49 \n",
       "  1229.43,553.846 1231.32,556.232 1235.72,558.649 1241.94,561.098 1247.48,563.579 1248.09,566.093 1261.97,568.642 1278.99,571.225 1280.14,573.845 1303.83,576.502 \n",
       "  1309.86,579.197 1321.2,581.932 1322.8,584.707 1324.93,587.524 1327.04,590.383 1329.15,593.288 1332.3,596.237 1344.21,602.28 1344.72,605.376 1351.84,608.525 \n",
       "  1361.35,614.984 1362.84,621.675 1371.67,625.112 1372.16,632.181 1375.55,635.818 1377.96,639.528 1378.44,643.312 1379.4,647.174 1380.36,651.118 1390.8,655.146 \n",
       "  1392.21,659.263 1393.14,663.473 1401.96,667.779 1420.07,672.187 1427.14,676.7 1430.21,681.326 1435.43,686.068 1443.59,690.934 1449.52,695.929 1458.72,701.061 \n",
       "  1459.96,706.338 1464.9,711.768 1472.23,717.359 1475.86,723.123 1476.26,729.07 1482.24,735.212 1492.47,741.563 1502.5,748.136 1505.55,754.948 1550.05,762.017 \n",
       "  1551.45,769.364 1557.01,777.01 1570.33,784.982 1587.6,793.309 1623.32,802.022 1641.37,811.161 1651.05,820.769 1657.12,830.897 1663.4,841.603 1663.69,852.959 \n",
       "  1671.02,865.048 1674.65,877.972 1688.12,891.853 1731.4,906.846 1733.65,923.144 1755.66,940.997 1758.52,960.733 1760.9,982.795 1787.07,1007.81 1844.11,1036.68 \n",
       "  1848.17,1070.83 1848.57,1112.63 1875.35,1166.52 1977.96,1242.47 2293.27,1372.3 \n",
       "  \"/>\n",
       "<polyline clip-path=\"url(#clip252)\" style=\"stroke:#ff0000; stroke-linecap:round; stroke-linejoin:round; stroke-width:4; stroke-opacity:1; fill:none\" stroke-dasharray=\"16, 10\" points=\"\n",
       "  310.553,85.838 313.993,87.5584 317.411,89.2679 320.808,90.9667 324.183,92.6549 327.538,94.3327 330.872,96.0001 334.186,97.6574 337.479,99.3045 340.753,100.942 \n",
       "  344.007,102.569 347.241,104.187 350.457,105.795 353.653,107.393 356.831,108.983 359.99,110.563 363.13,112.133 366.253,113.695 369.358,115.248 372.445,116.792 \n",
       "  375.515,118.327 378.567,119.853 381.602,121.371 384.62,122.881 387.622,124.382 390.607,125.875 393.576,127.36 396.528,128.836 399.465,130.305 402.385,131.766 \n",
       "  405.29,133.218 408.18,134.664 411.054,136.101 413.913,137.531 416.757,138.953 419.586,140.368 422.401,141.776 425.201,143.176 427.986,144.569 430.757,145.955 \n",
       "  433.514,147.334 436.258,148.706 438.987,150.071 441.703,151.429 444.405,152.781 447.094,154.125 449.769,155.463 452.431,156.795 455.081,158.12 460.341,160.75 \n",
       "  462.952,162.056 465.55,163.356 468.136,164.649 470.71,165.936 473.272,167.218 475.821,168.493 478.359,169.762 480.885,171.025 483.399,172.282 485.901,173.534 \n",
       "  488.392,174.78 490.872,176.02 493.34,177.254 495.797,178.483 498.243,179.706 500.678,180.924 503.102,182.136 505.515,183.343 507.918,184.545 510.31,185.741 \n",
       "  512.691,186.932 515.062,188.118 517.423,189.299 519.774,190.474 522.114,191.645 524.444,192.81 526.764,193.97 529.075,195.126 531.375,196.277 533.666,197.422 \n",
       "  535.947,198.563 538.219,199.699 540.481,200.831 542.734,201.957 544.977,203.079 547.211,204.196 551.652,206.417 553.859,207.521 556.057,208.62 558.246,209.715 \n",
       "  560.426,210.806 562.598,211.892 564.761,212.973 569.06,215.124 571.198,216.193 573.326,217.257 575.447,218.318 577.559,219.374 579.663,220.426 581.759,221.475 \n",
       "  583.847,222.519 585.927,223.559 587.998,224.595 590.062,225.627 592.118,226.656 594.167,227.68 596.207,228.7 598.24,229.717 600.266,230.73 602.283,231.739 \n",
       "  604.294,232.745 606.297,233.746 608.292,234.744 610.28,235.739 612.261,236.729 614.235,237.717 616.202,238.7 618.161,239.68 620.113,240.656 622.059,241.629 \n",
       "  623.997,242.599 625.929,243.565 627.853,244.527 629.771,245.486 631.682,246.442 633.586,247.395 635.484,248.344 637.375,249.289 639.26,250.232 641.137,251.171 \n",
       "  643.009,252.107 644.874,253.04 646.733,253.969 654.104,257.656 655.931,258.57 657.752,259.48 661.376,261.293 663.179,262.195 666.767,263.989 668.552,264.882 \n",
       "  673.872,267.543 677.391,269.302 679.141,270.178 680.886,271.05 682.625,271.92 684.359,272.787 686.087,273.651 687.81,274.513 689.527,275.372 692.945,277.081 \n",
       "  694.646,277.932 698.032,279.626 699.717,280.468 701.397,281.309 703.072,282.146 704.742,282.981 706.406,283.814 708.066,284.643 709.72,285.471 713.013,287.118 \n",
       "  714.653,287.938 716.287,288.755 717.916,289.57 719.541,290.383 721.161,291.193 724.386,292.805 725.991,293.608 729.187,295.207 730.778,296.003 732.365,296.796 \n",
       "  735.524,298.376 737.097,299.162 738.665,299.947 740.228,300.729 741.787,301.508 743.342,302.286 744.892,303.061 746.438,303.834 747.979,304.605 749.516,305.374 \n",
       "  751.049,306.14 752.577,306.905 755.621,308.427 757.136,309.185 760.155,310.694 761.657,311.446 763.156,312.195 764.651,312.943 767.628,314.432 769.11,315.173 \n",
       "  770.588,315.912 773.533,317.385 774.999,318.118 776.461,318.85 779.374,320.306 782.271,321.755 783.714,322.477 785.153,323.197 786.588,323.914 788.02,324.63 \n",
       "  793.708,327.475 795.12,328.182 797.935,329.589 800.735,330.989 802.129,331.687 804.908,333.076 806.291,333.768 807.672,334.459 809.049,335.147 814.521,337.884 \n",
       "  818.59,339.919 821.285,341.267 829.292,345.272 830.615,345.933 831.935,346.593 833.251,347.252 835.875,348.564 837.182,349.218 839.787,350.52 841.084,351.169 \n",
       "  842.379,351.817 844.959,353.107 846.244,353.75 847.527,354.391 850.082,355.669 852.626,356.941 857.677,359.468 858.933,360.096 861.435,361.347 862.682,361.971 \n",
       "  863.926,362.593 867.641,364.451 868.874,365.068 871.331,366.296 873.777,367.52 874.996,368.129 876.212,368.737 878.636,369.95 882.252,371.758 888.226,374.746 \n",
       "  890.597,375.931 892.957,377.112 894.134,377.7 898.814,380.041 901.14,381.204 903.455,382.362 904.609,382.939 905.76,383.515 906.91,384.09 910.342,385.807 \n",
       "  911.482,386.376 913.753,387.513 917.143,389.208 918.268,389.771 919.391,390.332 921.63,391.452 926.08,393.677 929.393,395.335 930.493,395.885 931.591,396.434 \n",
       "  932.687,396.982 935.96,398.619 940.295,400.787 943.523,402.401 944.595,402.937 948.861,405.071 954.146,407.714 955.197,408.24 957.293,409.288 960.422,410.853 \n",
       "  966.626,413.955 974.788,418.038 975.8,418.544 979.828,420.558 989.769,425.53 996.621,428.957 1000.5,430.896 1002.43,431.86 1006.26,433.778 1007.22,434.256 \n",
       "  1008.17,434.732 1010.07,435.683 1016.67,438.985 1019.48,440.387 1021.34,441.318 1022.27,441.783 1023.19,442.246 1029.64,445.469 1030.55,445.927 1032.38,446.839 \n",
       "  1033.29,447.294 1036.91,449.106 1038.71,450.008 1042.3,451.802 1052.05,456.677 1052.92,457.116 1054.68,457.991 1059.89,460.601 1063.34,462.326 1064.2,462.756 \n",
       "  1067.63,464.468 1073.57,467.439 1074.41,467.861 1075.25,468.282 1085.25,473.284 1086.08,473.697 1091.82,476.569 1092.64,476.976 1094.26,477.79 1095.89,478.601 \n",
       "  1096.69,479.006 1103.13,482.222 1108.69,485.005 1112.63,486.976 1114.2,487.76 1114.98,488.151 1118.1,489.711 1119.65,490.487 1120.43,490.875 1130.4,495.861 \n",
       "  1131.15,496.24 1133.43,497.376 1140.18,500.756 1142.42,501.874 1143.9,502.616 1146.12,503.726 1150.53,505.932 1152.72,507.028 1153.45,507.392 1156.36,508.845 \n",
       "  1159.25,510.29 1159.97,510.65 1162.12,511.728 1169.95,515.642 1171.36,516.347 1172.77,517.051 1176.27,518.803 1179.75,520.543 1181.13,521.236 1182.52,521.927 \n",
       "  1183.21,522.272 1186.64,523.99 1204.16,532.753 1212.06,536.704 1213.37,537.357 1215.32,538.334 1217.27,539.307 1224.34,542.844 1227.21,544.278 1228.79,545.072 \n",
       "  1229.43,545.389 1231.32,546.337 1235.72,548.536 1241.94,551.647 1247.48,554.416 1248.09,554.722 1261.97,561.666 1278.99,570.176 1280.14,570.753 1303.83,582.597 \n",
       "  1309.86,585.615 1321.2,591.285 1322.8,592.086 1324.93,593.15 1327.04,594.209 1329.15,595.264 1332.3,596.84 1344.21,602.795 1344.72,603.051 1351.84,606.61 \n",
       "  1361.35,611.366 1362.84,612.109 1371.67,616.527 1372.16,616.77 1375.55,618.467 1377.96,619.673 1378.44,619.914 1379.4,620.394 1380.36,620.874 1390.8,626.094 \n",
       "  1392.21,626.798 1393.14,627.266 1401.96,631.676 1420.07,640.731 1427.14,644.27 1430.21,645.804 1435.43,648.414 1443.59,652.495 1449.52,655.463 1458.72,660.063 \n",
       "  1459.96,660.684 1464.9,663.155 1472.23,666.819 1475.86,668.633 1476.26,668.834 1482.24,671.828 1492.47,676.941 1502.5,681.958 1505.55,683.484 1550.05,705.742 \n",
       "  1551.45,706.442 1557.01,709.222 1570.33,715.884 1587.6,724.518 1623.32,742.383 1641.37,751.41 1651.05,756.25 1657.12,759.286 1663.4,762.43 1663.69,762.572 \n",
       "  1671.02,766.239 1674.65,768.055 1688.12,774.789 1731.4,796.436 1733.65,797.561 1755.66,808.567 1758.52,810.002 1760.9,811.191 1787.07,824.281 1844.11,852.807 \n",
       "  1848.17,854.835 1848.57,855.037 1875.35,868.43 1977.96,919.746 2293.27,1077.44 \n",
       "  \"/>\n",
       "<polyline clip-path=\"url(#clip252)\" style=\"stroke:#ff0000; stroke-linecap:round; stroke-linejoin:round; stroke-width:4; stroke-opacity:1; fill:none\" stroke-dasharray=\"16, 10\" points=\"\n",
       "  310.553,85.838 313.993,87.3402 317.411,88.8351 320.808,90.3228 324.183,91.8033 327.538,93.2767 330.872,94.7431 334.186,96.2026 337.479,97.6552 340.753,99.101 \n",
       "  344.007,100.54 347.241,101.973 350.457,103.399 353.653,104.818 356.831,106.231 359.99,107.637 363.13,109.038 366.253,110.432 369.358,111.819 372.445,113.201 \n",
       "  375.515,114.577 378.567,115.946 381.602,117.31 384.62,118.667 387.622,120.019 390.607,121.365 393.576,122.706 396.528,124.04 399.465,125.369 402.385,126.693 \n",
       "  405.29,128.011 408.18,129.323 411.054,130.63 413.913,131.932 416.757,133.228 419.586,134.519 422.401,135.805 425.201,137.086 427.986,138.361 430.757,139.632 \n",
       "  433.514,140.897 436.258,142.158 438.987,143.413 441.703,144.664 444.405,145.909 447.094,147.15 449.769,148.386 452.431,149.618 455.081,150.844 460.341,153.283 \n",
       "  462.952,154.496 465.55,155.704 468.136,156.908 470.71,158.107 473.272,159.302 475.821,160.492 478.359,161.678 480.885,162.86 483.399,164.037 485.901,165.21 \n",
       "  488.392,166.379 490.872,167.544 493.34,168.704 495.797,169.861 498.243,171.013 500.678,172.161 503.102,173.305 505.515,174.445 507.918,175.582 510.31,176.714 \n",
       "  512.691,177.842 515.062,178.967 517.423,180.087 519.774,181.204 522.114,182.317 524.444,183.426 526.764,184.532 529.075,185.633 531.375,186.732 533.666,187.826 \n",
       "  535.947,188.917 538.219,190.004 540.481,191.088 542.734,192.168 544.977,193.244 547.211,194.317 551.652,196.453 553.859,197.516 556.057,198.575 558.246,199.631 \n",
       "  560.426,200.684 562.598,201.733 564.761,202.779 569.06,204.861 571.198,205.897 573.326,206.93 575.447,207.96 577.559,208.986 579.663,210.01 581.759,211.03 \n",
       "  583.847,212.047 585.927,213.061 587.998,214.072 590.062,215.08 592.118,216.085 594.167,217.087 596.207,218.086 598.24,219.082 600.266,220.075 602.283,221.065 \n",
       "  604.294,222.053 606.297,223.037 608.292,224.019 610.28,224.997 612.261,225.973 614.235,226.946 616.202,227.916 618.161,228.883 620.113,229.848 622.059,230.81 \n",
       "  623.997,231.769 625.929,232.725 627.853,233.679 629.771,234.63 631.682,235.579 633.586,236.524 635.484,237.467 637.375,238.408 639.26,239.346 641.137,240.281 \n",
       "  643.009,241.214 644.874,242.144 646.733,243.072 654.104,246.757 655.931,247.672 657.752,248.585 661.376,250.403 663.179,251.309 666.767,253.113 668.552,254.011 \n",
       "  673.872,256.692 677.391,258.468 679.141,259.352 680.886,260.235 682.625,261.115 684.359,261.992 686.087,262.868 687.81,263.741 689.527,264.612 692.945,266.348 \n",
       "  694.646,267.212 698.032,268.935 699.717,269.793 701.397,270.649 703.072,271.502 704.742,272.354 706.406,273.204 708.066,274.051 709.72,274.897 713.013,276.582 \n",
       "  714.653,277.421 716.287,278.258 717.916,279.094 719.541,279.927 721.161,280.758 724.386,282.415 725.991,283.24 729.187,284.885 730.778,285.705 732.365,286.522 \n",
       "  735.524,288.152 737.097,288.964 738.665,289.774 740.228,290.582 741.787,291.389 743.342,292.193 744.892,292.996 746.438,293.797 747.979,294.596 749.516,295.393 \n",
       "  751.049,296.188 752.577,296.982 755.621,298.564 757.136,299.352 760.155,300.923 761.657,301.706 763.156,302.487 764.651,303.267 767.628,304.82 769.11,305.595 \n",
       "  770.588,306.368 773.533,307.908 774.999,308.675 776.461,309.441 779.374,310.968 782.271,312.489 783.714,313.247 785.153,314.003 786.588,314.757 788.02,315.51 \n",
       "  793.708,318.506 795.12,319.251 797.935,320.737 800.735,322.216 802.129,322.953 804.908,324.423 806.291,325.156 807.672,325.887 809.049,326.617 814.521,329.521 \n",
       "  818.59,331.684 821.285,333.119 829.292,337.389 830.615,338.096 831.935,338.801 833.251,339.505 835.875,340.909 837.182,341.608 839.787,343.004 841.084,343.7 \n",
       "  842.379,344.394 844.959,345.779 846.244,346.47 847.527,347.159 850.082,348.533 852.626,349.902 857.677,352.625 858.933,353.303 861.435,354.654 862.682,355.328 \n",
       "  863.926,356 867.641,358.01 868.874,358.678 871.331,360.009 873.777,361.336 874.996,361.997 876.212,362.657 878.636,363.974 882.252,365.941 888.226,369.195 \n",
       "  890.597,370.489 892.957,371.778 894.134,372.42 898.814,374.98 901.14,376.254 903.455,377.523 904.609,378.155 905.76,378.787 906.91,379.418 910.342,381.303 \n",
       "  911.482,381.93 913.753,383.179 917.143,385.045 918.268,385.665 919.391,386.284 921.63,387.519 926.08,389.976 929.393,391.809 930.493,392.417 931.591,393.025 \n",
       "  932.687,393.632 935.96,395.446 940.295,397.851 943.523,399.645 944.595,400.241 948.861,402.616 954.146,405.562 955.197,406.149 957.293,407.319 960.422,409.068 \n",
       "  966.626,412.541 974.788,417.122 975.8,417.691 979.828,419.957 989.769,425.563 996.621,429.439 1000.5,431.635 1002.43,432.729 1006.26,434.906 1007.22,435.449 \n",
       "  1008.17,435.99 1010.07,437.071 1016.67,440.83 1019.48,442.43 1021.34,443.493 1022.27,444.023 1023.19,444.553 1029.64,448.239 1030.55,448.762 1032.38,449.808 \n",
       "  1033.29,450.329 1036.91,452.408 1038.71,453.443 1042.3,455.505 1052.05,461.119 1052.92,461.625 1054.68,462.636 1059.89,465.651 1063.34,467.649 1064.2,468.146 \n",
       "  1067.63,470.131 1073.57,473.579 1074.41,474.069 1075.25,474.559 1085.25,480.384 1086.08,480.866 1091.82,484.219 1092.64,484.696 1094.26,485.648 1095.89,486.597 \n",
       "  1096.69,487.071 1103.13,490.841 1108.69,494.109 1112.63,496.427 1114.2,497.351 1114.98,497.812 1118.1,499.65 1119.65,500.565 1120.43,501.023 1130.4,506.916 \n",
       "  1131.15,507.366 1133.43,508.712 1140.18,512.722 1142.42,514.05 1143.9,514.932 1146.12,516.252 1150.53,518.88 1152.72,520.187 1153.45,520.621 1156.36,522.355 \n",
       "  1159.25,524.082 1159.97,524.512 1162.12,525.8 1169.95,530.489 1171.36,531.335 1172.77,532.18 1176.27,534.284 1179.75,536.376 1181.13,537.21 1182.52,538.043 \n",
       "  1183.21,538.458 1186.64,540.529 1204.16,551.126 1212.06,555.923 1213.37,556.717 1215.32,557.905 1217.27,559.089 1224.34,563.403 1227.21,565.154 1228.79,566.123 \n",
       "  1229.43,566.51 1231.32,567.67 1235.72,570.362 1241.94,574.176 1247.48,577.579 1248.09,577.955 1261.97,586.514 1278.99,597.053 1280.14,597.77 1303.83,612.54 \n",
       "  1309.86,616.321 1321.2,623.444 1322.8,624.452 1324.93,625.791 1327.04,627.126 1329.15,628.457 1332.3,630.446 1344.21,637.98 1344.72,638.304 1351.84,642.82 \n",
       "  1361.35,648.871 1362.84,649.818 1371.67,655.458 1372.16,655.769 1375.55,657.94 1377.96,659.484 1378.44,659.792 1379.4,660.407 1380.36,661.022 1390.8,667.722 \n",
       "  1392.21,668.628 1393.14,669.23 1401.96,674.912 1420.07,686.626 1427.14,691.222 1430.21,693.217 1435.43,696.615 1443.59,701.94 1449.52,705.822 1458.72,711.85 \n",
       "  1459.96,712.666 1464.9,715.912 1472.23,720.735 1475.86,723.127 1476.26,723.392 1482.24,727.345 1492.47,734.113 1502.5,740.775 1505.55,742.804 1550.05,772.622 \n",
       "  1551.45,773.566 1557.01,777.32 1570.33,786.338 1587.6,798.079 1623.32,822.56 1641.37,835.027 1651.05,841.738 1657.12,845.956 1663.4,850.332 1663.69,850.53 \n",
       "  1671.02,855.646 1674.65,858.182 1688.12,867.613 1731.4,898.17 1733.65,899.77 1755.66,915.459 1758.52,917.511 1760.9,919.213 1787.07,938.026 1844.11,979.495 \n",
       "  1848.17,982.468 1848.57,982.764 1875.35,1002.48 1977.96,1079.36 2293.27,1328.79 \n",
       "  \"/>\n",
       "<path clip-path=\"url(#clip250)\" d=\"\n",
       "M1545.08 196.379 L2282.7 196.379 L2282.7 92.6992 L1545.08 92.6992  Z\n",
       "  \" fill=\"#ffffff\" fill-rule=\"evenodd\" fill-opacity=\"1\"/>\n",
       "<polyline clip-path=\"url(#clip250)\" style=\"stroke:#000000; stroke-linecap:round; stroke-linejoin:round; stroke-width:4; stroke-opacity:1; fill:none\" points=\"\n",
       "  1545.08,196.379 2282.7,196.379 2282.7,92.6992 1545.08,92.6992 1545.08,196.379 \n",
       "  \"/>\n",
       "<polyline clip-path=\"url(#clip250)\" style=\"stroke:#009af9; stroke-linecap:round; stroke-linejoin:round; stroke-width:10; stroke-opacity:1; fill:none\" points=\"\n",
       "  1568.43,144.539 1708.54,144.539 \n",
       "  \"/>\n",
       "<path clip-path=\"url(#clip250)\" d=\"M1750.32 136.657 L1750.32 140.685 Q1748.52 139.759 1746.57 139.296 Q1744.63 138.833 1742.54 138.833 Q1739.37 138.833 1737.78 139.805 Q1736.2 140.778 1736.2 142.722 Q1736.2 144.204 1737.34 145.06 Q1738.47 145.893 1741.9 146.657 L1743.36 146.981 Q1747.89 147.954 1749.79 149.736 Q1751.71 151.495 1751.71 154.666 Q1751.71 158.278 1748.84 160.384 Q1745.99 162.49 1740.99 162.49 Q1738.91 162.49 1736.64 162.074 Q1734.4 161.68 1731.9 160.87 L1731.9 156.472 Q1734.26 157.699 1736.55 158.324 Q1738.84 158.926 1741.09 158.926 Q1744.1 158.926 1745.72 157.907 Q1747.34 156.866 1747.34 154.991 Q1747.34 153.254 1746.16 152.328 Q1745 151.403 1741.04 150.546 L1739.56 150.199 Q1735.6 149.366 1733.84 147.653 Q1732.08 145.916 1732.08 142.907 Q1732.08 139.25 1734.67 137.259 Q1737.27 135.268 1742.04 135.268 Q1744.4 135.268 1746.48 135.616 Q1748.56 135.963 1750.32 136.657 Z\" fill=\"#000000\" fill-rule=\"evenodd\" fill-opacity=\"1\" /><path clip-path=\"url(#clip250)\" d=\"M1758.49 135.893 L1762.75 135.893 L1762.75 161.819 L1758.49 161.819 L1758.49 135.893 M1758.49 125.801 L1762.75 125.801 L1762.75 131.194 L1758.49 131.194 L1758.49 125.801 Z\" fill=\"#000000\" fill-rule=\"evenodd\" fill-opacity=\"1\" /><path clip-path=\"url(#clip250)\" d=\"M1788.73 139.829 L1788.73 125.801 L1792.98 125.801 L1792.98 161.819 L1788.73 161.819 L1788.73 157.93 Q1787.38 160.245 1785.32 161.379 Q1783.29 162.49 1780.42 162.49 Q1775.72 162.49 1772.75 158.74 Q1769.81 154.991 1769.81 148.879 Q1769.81 142.768 1772.75 139.018 Q1775.72 135.268 1780.42 135.268 Q1783.29 135.268 1785.32 136.403 Q1787.38 137.514 1788.73 139.829 M1774.21 148.879 Q1774.21 153.578 1776.13 156.264 Q1778.08 158.926 1781.46 158.926 Q1784.84 158.926 1786.78 156.264 Q1788.73 153.578 1788.73 148.879 Q1788.73 144.18 1786.78 141.518 Q1784.84 138.833 1781.46 138.833 Q1778.08 138.833 1776.13 141.518 Q1774.21 144.18 1774.21 148.879 Z\" fill=\"#000000\" fill-rule=\"evenodd\" fill-opacity=\"1\" /><path clip-path=\"url(#clip250)\" d=\"M1823.93 147.791 L1823.93 149.875 L1804.35 149.875 Q1804.63 154.273 1806.99 156.588 Q1809.37 158.879 1813.61 158.879 Q1816.06 158.879 1818.35 158.278 Q1820.67 157.676 1822.94 156.472 L1822.94 160.5 Q1820.65 161.472 1818.24 161.981 Q1815.83 162.49 1813.35 162.49 Q1807.15 162.49 1803.52 158.879 Q1799.91 155.268 1799.91 149.111 Q1799.91 142.745 1803.33 139.018 Q1806.78 135.268 1812.61 135.268 Q1817.85 135.268 1820.88 138.648 Q1823.93 142.004 1823.93 147.791 M1819.67 146.541 Q1819.63 143.046 1817.71 140.963 Q1815.81 138.879 1812.66 138.879 Q1809.1 138.879 1806.94 140.893 Q1804.81 142.907 1804.49 146.565 L1819.67 146.541 Z\" fill=\"#000000\" fill-rule=\"evenodd\" fill-opacity=\"1\" /><path clip-path=\"url(#clip250)\" d=\"M1831.48 140.292 L1861.16 140.292 L1861.16 144.18 L1831.48 144.18 L1831.48 140.292 M1831.48 149.736 L1861.16 149.736 L1861.16 153.671 L1831.48 153.671 L1831.48 149.736 Z\" fill=\"#000000\" fill-rule=\"evenodd\" fill-opacity=\"1\" /><path clip-path=\"url(#clip250)\" d=\"M1885.41 143.185 Q1888.77 143.903 1890.65 146.171 Q1892.54 148.44 1892.54 151.773 Q1892.54 156.889 1889.03 159.69 Q1885.51 162.49 1879.03 162.49 Q1876.85 162.49 1874.53 162.051 Q1872.24 161.634 1869.79 160.778 L1869.79 156.264 Q1871.73 157.398 1874.05 157.977 Q1876.36 158.555 1878.89 158.555 Q1883.28 158.555 1885.58 156.819 Q1887.89 155.083 1887.89 151.773 Q1887.89 148.717 1885.74 147.004 Q1883.61 145.268 1879.79 145.268 L1875.76 145.268 L1875.76 141.426 L1879.97 141.426 Q1883.42 141.426 1885.25 140.06 Q1887.08 138.671 1887.08 136.079 Q1887.08 133.417 1885.18 132.005 Q1883.31 130.569 1879.79 130.569 Q1877.87 130.569 1875.67 130.986 Q1873.47 131.403 1870.83 132.282 L1870.83 128.116 Q1873.49 127.375 1875.81 127.005 Q1878.15 126.634 1880.21 126.634 Q1885.53 126.634 1888.63 129.065 Q1891.73 131.472 1891.73 135.592 Q1891.73 138.463 1890.09 140.454 Q1888.45 142.421 1885.41 143.185 Z\" fill=\"#000000\" fill-rule=\"evenodd\" fill-opacity=\"1\" /><path clip-path=\"url(#clip250)\" d=\"M1901.9 155.94 L1906.78 155.94 L1906.78 159.921 L1902.98 167.328 L1900 167.328 L1901.9 159.921 L1901.9 155.94 Z\" fill=\"#000000\" fill-rule=\"evenodd\" fill-opacity=\"1\" /><path clip-path=\"url(#clip250)\" d=\"M1942.73 148.787 Q1937.57 148.787 1935.58 149.967 Q1933.59 151.148 1933.59 153.995 Q1933.59 156.264 1935.07 157.606 Q1936.57 158.926 1939.14 158.926 Q1942.68 158.926 1944.81 156.426 Q1946.97 153.903 1946.97 149.736 L1946.97 148.787 L1942.73 148.787 M1951.22 147.028 L1951.22 161.819 L1946.97 161.819 L1946.97 157.884 Q1945.51 160.245 1943.33 161.379 Q1941.15 162.49 1938.01 162.49 Q1934.03 162.49 1931.66 160.268 Q1929.33 158.023 1929.33 154.273 Q1929.33 149.898 1932.24 147.676 Q1935.18 145.454 1940.99 145.454 L1946.97 145.454 L1946.97 145.037 Q1946.97 142.097 1945.02 140.5 Q1943.1 138.879 1939.6 138.879 Q1937.38 138.879 1935.28 139.412 Q1933.17 139.944 1931.22 141.009 L1931.22 137.074 Q1933.56 136.171 1935.76 135.731 Q1937.96 135.268 1940.04 135.268 Q1945.67 135.268 1948.45 138.185 Q1951.22 141.102 1951.22 147.028 Z\" fill=\"#000000\" fill-rule=\"evenodd\" fill-opacity=\"1\" /><path clip-path=\"url(#clip250)\" d=\"M1960 125.801 L1964.26 125.801 L1964.26 161.819 L1960 161.819 L1960 125.801 Z\" fill=\"#000000\" fill-rule=\"evenodd\" fill-opacity=\"1\" /><path clip-path=\"url(#clip250)\" d=\"M1977.29 157.93 L1977.29 171.68 L1973.01 171.68 L1973.01 135.893 L1977.29 135.893 L1977.29 139.829 Q1978.63 137.514 1980.67 136.403 Q1982.73 135.268 1985.58 135.268 Q1990.3 135.268 1993.24 139.018 Q1996.2 142.768 1996.2 148.879 Q1996.2 154.991 1993.24 158.74 Q1990.3 162.49 1985.58 162.49 Q1982.73 162.49 1980.67 161.379 Q1978.63 160.245 1977.29 157.93 M1991.78 148.879 Q1991.78 144.18 1989.84 141.518 Q1987.91 138.833 1984.53 138.833 Q1981.15 138.833 1979.21 141.518 Q1977.29 144.18 1977.29 148.879 Q1977.29 153.578 1979.21 156.264 Q1981.15 158.926 1984.53 158.926 Q1987.91 158.926 1989.84 156.264 Q1991.78 153.578 1991.78 148.879 Z\" fill=\"#000000\" fill-rule=\"evenodd\" fill-opacity=\"1\" /><path clip-path=\"url(#clip250)\" d=\"M2024.81 146.171 L2024.81 161.819 L2020.55 161.819 L2020.55 146.31 Q2020.55 142.629 2019.12 140.801 Q2017.68 138.972 2014.81 138.972 Q2011.36 138.972 2009.37 141.171 Q2007.38 143.37 2007.38 147.166 L2007.38 161.819 L2003.1 161.819 L2003.1 125.801 L2007.38 125.801 L2007.38 139.921 Q2008.91 137.583 2010.97 136.426 Q2013.05 135.268 2015.76 135.268 Q2020.23 135.268 2022.52 138.046 Q2024.81 140.801 2024.81 146.171 Z\" fill=\"#000000\" fill-rule=\"evenodd\" fill-opacity=\"1\" /><path clip-path=\"url(#clip250)\" d=\"M2045.09 148.787 Q2039.93 148.787 2037.94 149.967 Q2035.95 151.148 2035.95 153.995 Q2035.95 156.264 2037.43 157.606 Q2038.93 158.926 2041.5 158.926 Q2045.04 158.926 2047.17 156.426 Q2049.33 153.903 2049.33 149.736 L2049.33 148.787 L2045.09 148.787 M2053.58 147.028 L2053.58 161.819 L2049.33 161.819 L2049.33 157.884 Q2047.87 160.245 2045.69 161.379 Q2043.52 162.49 2040.37 162.49 Q2036.39 162.49 2034.02 160.268 Q2031.69 158.023 2031.69 154.273 Q2031.69 149.898 2034.6 147.676 Q2037.54 145.454 2043.35 145.454 L2049.33 145.454 L2049.33 145.037 Q2049.33 142.097 2047.38 140.5 Q2045.46 138.879 2041.96 138.879 Q2039.74 138.879 2037.64 139.412 Q2035.53 139.944 2033.59 141.009 L2033.59 137.074 Q2035.92 136.171 2038.12 135.731 Q2040.32 135.268 2042.4 135.268 Q2048.03 135.268 2050.81 138.185 Q2053.58 141.102 2053.58 147.028 Z\" fill=\"#000000\" fill-rule=\"evenodd\" fill-opacity=\"1\" /><path clip-path=\"url(#clip250)\" d=\"M2062.91 140.292 L2092.59 140.292 L2092.59 144.18 L2062.91 144.18 L2062.91 140.292 M2062.91 149.736 L2092.59 149.736 L2092.59 153.671 L2062.91 153.671 L2062.91 149.736 Z\" fill=\"#000000\" fill-rule=\"evenodd\" fill-opacity=\"1\" /><path clip-path=\"url(#clip250)\" d=\"M2106.71 157.884 L2123.03 157.884 L2123.03 161.819 L2101.08 161.819 L2101.08 157.884 Q2103.75 155.129 2108.33 150.5 Q2112.94 145.847 2114.12 144.504 Q2116.36 141.981 2117.24 140.245 Q2118.14 138.486 2118.14 136.796 Q2118.14 134.042 2116.2 132.305 Q2114.28 130.569 2111.18 130.569 Q2108.98 130.569 2106.52 131.333 Q2104.09 132.097 2101.32 133.648 L2101.32 128.926 Q2104.14 127.792 2106.59 127.213 Q2109.05 126.634 2111.08 126.634 Q2116.45 126.634 2119.65 129.319 Q2122.84 132.005 2122.84 136.495 Q2122.84 138.625 2122.03 140.546 Q2121.25 142.444 2119.14 145.037 Q2118.56 145.708 2115.46 148.926 Q2112.36 152.12 2106.71 157.884 Z\" fill=\"#000000\" fill-rule=\"evenodd\" fill-opacity=\"1\" /><path clip-path=\"url(#clip250)\" d=\"M2132.84 155.94 L2137.73 155.94 L2137.73 161.819 L2132.84 161.819 L2132.84 155.94 Z\" fill=\"#000000\" fill-rule=\"evenodd\" fill-opacity=\"1\" /><path clip-path=\"url(#clip250)\" d=\"M2160.76 131.333 L2148.95 149.782 L2160.76 149.782 L2160.76 131.333 M2159.53 127.259 L2165.41 127.259 L2165.41 149.782 L2170.34 149.782 L2170.34 153.671 L2165.41 153.671 L2165.41 161.819 L2160.76 161.819 L2160.76 153.671 L2145.16 153.671 L2145.16 149.157 L2159.53 127.259 Z\" fill=\"#000000\" fill-rule=\"evenodd\" fill-opacity=\"1\" /><path clip-path=\"url(#clip250)\" d=\"M2190.92 131.333 L2179.12 149.782 L2190.92 149.782 L2190.92 131.333 M2189.7 127.259 L2195.57 127.259 L2195.57 149.782 L2200.51 149.782 L2200.51 153.671 L2195.57 153.671 L2195.57 161.819 L2190.92 161.819 L2190.92 153.671 L2175.32 153.671 L2175.32 149.157 L2189.7 127.259 Z\" fill=\"#000000\" fill-rule=\"evenodd\" fill-opacity=\"1\" /><path clip-path=\"url(#clip250)\" d=\"M2218.82 142.676 Q2215.67 142.676 2213.82 144.829 Q2211.99 146.981 2211.99 150.731 Q2211.99 154.458 2213.82 156.634 Q2215.67 158.787 2218.82 158.787 Q2221.96 158.787 2223.79 156.634 Q2225.64 154.458 2225.64 150.731 Q2225.64 146.981 2223.79 144.829 Q2221.96 142.676 2218.82 142.676 M2228.1 128.023 L2228.1 132.282 Q2226.34 131.449 2224.53 131.009 Q2222.75 130.569 2220.99 130.569 Q2216.36 130.569 2213.91 133.694 Q2211.48 136.819 2211.13 143.139 Q2212.5 141.125 2214.56 140.06 Q2216.62 138.972 2219.09 138.972 Q2224.3 138.972 2227.31 142.143 Q2230.34 145.291 2230.34 150.731 Q2230.34 156.055 2227.2 159.273 Q2224.05 162.49 2218.82 162.49 Q2212.82 162.49 2209.65 157.907 Q2206.48 153.301 2206.48 144.574 Q2206.48 136.38 2210.37 131.518 Q2214.26 126.634 2220.81 126.634 Q2222.57 126.634 2224.35 126.981 Q2226.15 127.329 2228.1 128.023 Z\" fill=\"#000000\" fill-rule=\"evenodd\" fill-opacity=\"1\" /><path clip-path=\"url(#clip250)\" d=\"M2238.45 127.259 L2256.8 127.259 L2256.8 131.194 L2242.73 131.194 L2242.73 139.667 Q2243.75 139.319 2244.76 139.157 Q2245.78 138.972 2246.8 138.972 Q2252.59 138.972 2255.97 142.143 Q2259.35 145.315 2259.35 150.731 Q2259.35 156.31 2255.88 159.412 Q2252.4 162.49 2246.08 162.49 Q2243.91 162.49 2241.64 162.12 Q2239.39 161.75 2236.99 161.009 L2236.99 156.31 Q2239.07 157.444 2241.29 158 Q2243.51 158.555 2245.99 158.555 Q2250 158.555 2252.33 156.449 Q2254.67 154.342 2254.67 150.731 Q2254.67 147.12 2252.33 145.014 Q2250 142.907 2245.99 142.907 Q2244.12 142.907 2242.24 143.324 Q2240.39 143.741 2238.45 144.62 L2238.45 127.259 Z\" fill=\"#000000\" fill-rule=\"evenodd\" fill-opacity=\"1\" /></svg>\n"
      ],
      "text/html": [
       "<?xml version=\"1.0\" encoding=\"utf-8\"?>\n",
       "<svg xmlns=\"http://www.w3.org/2000/svg\" xmlns:xlink=\"http://www.w3.org/1999/xlink\" width=\"600\" height=\"400\" viewBox=\"0 0 2400 1600\">\n",
       "<defs>\n",
       "  <clipPath id=\"clip300\">\n",
       "    <rect x=\"0\" y=\"0\" width=\"2400\" height=\"1600\"/>\n",
       "  </clipPath>\n",
       "</defs>\n",
       "<path clip-path=\"url(#clip300)\" d=\"\n",
       "M0 1600 L2400 1600 L2400 0 L0 0  Z\n",
       "  \" fill=\"#ffffff\" fill-rule=\"evenodd\" fill-opacity=\"1\"/>\n",
       "<defs>\n",
       "  <clipPath id=\"clip301\">\n",
       "    <rect x=\"480\" y=\"0\" width=\"1681\" height=\"1600\"/>\n",
       "  </clipPath>\n",
       "</defs>\n",
       "<path clip-path=\"url(#clip300)\" d=\"\n",
       "M251.071 1410.9 L2352.76 1410.9 L2352.76 47.2441 L251.071 47.2441  Z\n",
       "  \" fill=\"#ffffff\" fill-rule=\"evenodd\" fill-opacity=\"1\"/>\n",
       "<defs>\n",
       "  <clipPath id=\"clip302\">\n",
       "    <rect x=\"251\" y=\"47\" width=\"2103\" height=\"1365\"/>\n",
       "  </clipPath>\n",
       "</defs>\n",
       "<polyline clip-path=\"url(#clip302)\" style=\"stroke:#000000; stroke-linecap:round; stroke-linejoin:round; stroke-width:2; stroke-opacity:0.1; fill:none\" points=\"\n",
       "  938.132,1410.9 938.132,47.2441 \n",
       "  \"/>\n",
       "<polyline clip-path=\"url(#clip302)\" style=\"stroke:#000000; stroke-linecap:round; stroke-linejoin:round; stroke-width:2; stroke-opacity:0.1; fill:none\" points=\"\n",
       "  2185.63,1410.9 2185.63,47.2441 \n",
       "  \"/>\n",
       "<polyline clip-path=\"url(#clip300)\" style=\"stroke:#000000; stroke-linecap:round; stroke-linejoin:round; stroke-width:4; stroke-opacity:1; fill:none\" points=\"\n",
       "  251.071,1410.9 2352.76,1410.9 \n",
       "  \"/>\n",
       "<polyline clip-path=\"url(#clip300)\" style=\"stroke:#000000; stroke-linecap:round; stroke-linejoin:round; stroke-width:4; stroke-opacity:1; fill:none\" points=\"\n",
       "  938.132,1410.9 938.132,1392 \n",
       "  \"/>\n",
       "<polyline clip-path=\"url(#clip300)\" style=\"stroke:#000000; stroke-linecap:round; stroke-linejoin:round; stroke-width:4; stroke-opacity:1; fill:none\" points=\"\n",
       "  2185.63,1410.9 2185.63,1392 \n",
       "  \"/>\n",
       "<path clip-path=\"url(#clip300)\" d=\"M903.576 1485.02 L911.214 1485.02 L911.214 1458.66 L902.904 1460.32 L902.904 1456.06 L911.168 1454.4 L915.844 1454.4 L915.844 1485.02 L923.483 1485.02 L923.483 1488.96 L903.576 1488.96 L903.576 1485.02 Z\" fill=\"#000000\" fill-rule=\"evenodd\" fill-opacity=\"1\" /><path clip-path=\"url(#clip300)\" d=\"M942.927 1457.48 Q939.316 1457.48 937.487 1461.04 Q935.682 1464.58 935.682 1471.71 Q935.682 1478.82 937.487 1482.38 Q939.316 1485.92 942.927 1485.92 Q946.561 1485.92 948.367 1482.38 Q950.196 1478.82 950.196 1471.71 Q950.196 1464.58 948.367 1461.04 Q946.561 1457.48 942.927 1457.48 M942.927 1453.77 Q948.737 1453.77 951.793 1458.38 Q954.872 1462.96 954.872 1471.71 Q954.872 1480.44 951.793 1485.04 Q948.737 1489.63 942.927 1489.63 Q937.117 1489.63 934.038 1485.04 Q930.983 1480.44 930.983 1471.71 Q930.983 1462.96 934.038 1458.38 Q937.117 1453.77 942.927 1453.77 Z\" fill=\"#000000\" fill-rule=\"evenodd\" fill-opacity=\"1\" /><path clip-path=\"url(#clip300)\" d=\"M967.567 1446.41 Q970.294 1446.99 971.817 1448.83 Q973.36 1450.68 973.36 1453.38 Q973.36 1457.54 970.501 1459.82 Q967.642 1462.09 962.376 1462.09 Q960.608 1462.09 958.727 1461.73 Q956.865 1461.4 954.872 1460.7 L954.872 1457.03 Q956.451 1457.95 958.332 1458.42 Q960.213 1458.89 962.263 1458.89 Q965.836 1458.89 967.698 1457.48 Q969.579 1456.07 969.579 1453.38 Q969.579 1450.9 967.83 1449.51 Q966.1 1448.1 962.996 1448.1 L959.724 1448.1 L959.724 1444.98 L963.147 1444.98 Q965.949 1444.98 967.435 1443.87 Q968.921 1442.74 968.921 1440.63 Q968.921 1438.47 967.379 1437.32 Q965.855 1436.16 962.996 1436.16 Q961.435 1436.16 959.649 1436.49 Q957.862 1436.83 955.718 1437.55 L955.718 1434.16 Q957.881 1433.56 959.762 1433.26 Q961.661 1432.96 963.335 1432.96 Q967.661 1432.96 970.181 1434.93 Q972.701 1436.89 972.701 1440.24 Q972.701 1442.57 971.366 1444.19 Q970.031 1445.79 967.567 1446.41 Z\" fill=\"#000000\" fill-rule=\"evenodd\" fill-opacity=\"1\" /><path clip-path=\"url(#clip300)\" d=\"M2150.09 1485.02 L2157.72 1485.02 L2157.72 1458.66 L2149.41 1460.32 L2149.41 1456.06 L2157.68 1454.4 L2162.35 1454.4 L2162.35 1485.02 L2169.99 1485.02 L2169.99 1488.96 L2150.09 1488.96 L2150.09 1485.02 Z\" fill=\"#000000\" fill-rule=\"evenodd\" fill-opacity=\"1\" /><path clip-path=\"url(#clip300)\" d=\"M2189.44 1457.48 Q2185.83 1457.48 2184 1461.04 Q2182.19 1464.58 2182.19 1471.71 Q2182.19 1478.82 2184 1482.38 Q2185.83 1485.92 2189.44 1485.92 Q2193.07 1485.92 2194.88 1482.38 Q2196.71 1478.82 2196.71 1471.71 Q2196.71 1464.58 2194.88 1461.04 Q2193.07 1457.48 2189.44 1457.48 M2189.44 1453.77 Q2195.25 1453.77 2198.3 1458.38 Q2201.38 1462.96 2201.38 1471.71 Q2201.38 1480.44 2198.3 1485.04 Q2195.25 1489.63 2189.44 1489.63 Q2183.63 1489.63 2180.55 1485.04 Q2177.49 1480.44 2177.49 1471.71 Q2177.49 1462.96 2180.55 1458.38 Q2183.63 1453.77 2189.44 1453.77 Z\" fill=\"#000000\" fill-rule=\"evenodd\" fill-opacity=\"1\" /><path clip-path=\"url(#clip300)\" d=\"M2214.06 1436.78 L2204.47 1451.77 L2214.06 1451.77 L2214.06 1436.78 M2213.06 1433.47 L2217.84 1433.47 L2217.84 1451.77 L2221.84 1451.77 L2221.84 1454.93 L2217.84 1454.93 L2217.84 1461.55 L2214.06 1461.55 L2214.06 1454.93 L2201.38 1454.93 L2201.38 1451.26 L2213.06 1433.47 Z\" fill=\"#000000\" fill-rule=\"evenodd\" fill-opacity=\"1\" /><path clip-path=\"url(#clip300)\" d=\"M1286.09 1524.66 L1291.98 1524.66 L1291.98 1553.91 L1309.46 1538.54 L1316.94 1538.54 L1298.03 1555.22 L1317.73 1574.19 L1310.09 1574.19 L1291.98 1556.78 L1291.98 1574.19 L1286.09 1574.19 L1286.09 1524.66 Z\" fill=\"#000000\" fill-rule=\"evenodd\" fill-opacity=\"1\" /><polyline clip-path=\"url(#clip302)\" style=\"stroke:#000000; stroke-linecap:round; stroke-linejoin:round; stroke-width:2; stroke-opacity:0.1; fill:none\" points=\"\n",
       "  251.071,948.449 2352.76,948.449 \n",
       "  \"/>\n",
       "<polyline clip-path=\"url(#clip302)\" style=\"stroke:#000000; stroke-linecap:round; stroke-linejoin:round; stroke-width:2; stroke-opacity:0.1; fill:none\" points=\"\n",
       "  251.071,85.838 2352.76,85.838 \n",
       "  \"/>\n",
       "<polyline clip-path=\"url(#clip300)\" style=\"stroke:#000000; stroke-linecap:round; stroke-linejoin:round; stroke-width:4; stroke-opacity:1; fill:none\" points=\"\n",
       "  251.071,1410.9 251.071,47.2441 \n",
       "  \"/>\n",
       "<polyline clip-path=\"url(#clip300)\" style=\"stroke:#000000; stroke-linecap:round; stroke-linejoin:round; stroke-width:4; stroke-opacity:1; fill:none\" points=\"\n",
       "  251.071,948.449 269.969,948.449 \n",
       "  \"/>\n",
       "<polyline clip-path=\"url(#clip300)\" style=\"stroke:#000000; stroke-linecap:round; stroke-linejoin:round; stroke-width:4; stroke-opacity:1; fill:none\" points=\"\n",
       "  251.071,85.838 269.969,85.838 \n",
       "  \"/>\n",
       "<path clip-path=\"url(#clip300)\" d=\"M114.931 968.241 L122.57 968.241 L122.57 941.876 L114.26 943.542 L114.26 939.283 L122.524 937.616 L127.2 937.616 L127.2 968.241 L134.839 968.241 L134.839 972.176 L114.931 972.176 L114.931 968.241 Z\" fill=\"#000000\" fill-rule=\"evenodd\" fill-opacity=\"1\" /><path clip-path=\"url(#clip300)\" d=\"M154.283 940.695 Q150.672 940.695 148.843 944.26 Q147.038 947.802 147.038 954.931 Q147.038 962.038 148.843 965.602 Q150.672 969.144 154.283 969.144 Q157.917 969.144 159.723 965.602 Q161.552 962.038 161.552 954.931 Q161.552 947.802 159.723 944.26 Q157.917 940.695 154.283 940.695 M154.283 936.991 Q160.093 936.991 163.149 941.598 Q166.227 946.181 166.227 954.931 Q166.227 963.658 163.149 968.264 Q160.093 972.848 154.283 972.848 Q148.473 972.848 145.394 968.264 Q142.339 963.658 142.339 954.931 Q142.339 946.181 145.394 941.598 Q148.473 936.991 154.283 936.991 Z\" fill=\"#000000\" fill-rule=\"evenodd\" fill-opacity=\"1\" /><path clip-path=\"url(#clip300)\" d=\"M166.227 931.093 L190.339 931.093 L190.339 934.29 L166.227 934.29 L166.227 931.093 Z\" fill=\"#000000\" fill-rule=\"evenodd\" fill-opacity=\"1\" /><path clip-path=\"url(#clip300)\" d=\"M201.812 941.569 L215.071 941.569 L215.071 944.766 L197.241 944.766 L197.241 941.569 Q199.404 939.331 203.128 935.569 Q206.871 931.789 207.83 930.698 Q209.655 928.648 210.369 927.237 Q211.103 925.808 211.103 924.435 Q211.103 922.197 209.523 920.786 Q207.962 919.376 205.442 919.376 Q203.655 919.376 201.661 919.996 Q199.686 920.617 197.43 921.877 L197.43 918.04 Q199.724 917.119 201.718 916.648 Q203.711 916.178 205.366 916.178 Q209.73 916.178 212.325 918.36 Q214.921 920.542 214.921 924.19 Q214.921 925.921 214.263 927.482 Q213.623 929.024 211.912 931.13 Q211.441 931.676 208.921 934.29 Q206.401 936.886 201.812 941.569 Z\" fill=\"#000000\" fill-rule=\"evenodd\" fill-opacity=\"1\" /><path clip-path=\"url(#clip300)\" d=\"M144.366 105.63 L152.004 105.63 L152.004 79.2649 L143.694 80.9315 L143.694 76.6723 L151.958 75.0056 L156.634 75.0056 L156.634 105.63 L164.273 105.63 L164.273 109.566 L144.366 109.566 L144.366 105.63 Z\" fill=\"#000000\" fill-rule=\"evenodd\" fill-opacity=\"1\" /><path clip-path=\"url(#clip300)\" d=\"M183.717 78.0843 Q180.106 78.0843 178.277 81.6491 Q176.472 85.1908 176.472 92.3204 Q176.472 99.4268 178.277 102.992 Q180.106 106.533 183.717 106.533 Q187.351 106.533 189.157 102.992 Q190.986 99.4268 190.986 92.3204 Q190.986 85.1908 189.157 81.6491 Q187.351 78.0843 183.717 78.0843 M183.717 74.3806 Q189.527 74.3806 192.583 78.9871 Q195.662 83.5704 195.662 92.3204 Q195.662 101.047 192.583 105.654 Q189.527 110.237 183.717 110.237 Q177.907 110.237 174.828 105.654 Q171.773 101.047 171.773 92.3204 Q171.773 83.5704 174.828 78.9871 Q177.907 74.3806 183.717 74.3806 Z\" fill=\"#000000\" fill-rule=\"evenodd\" fill-opacity=\"1\" /><path clip-path=\"url(#clip300)\" d=\"M205.366 56.5767 Q202.432 56.5767 200.947 59.4731 Q199.48 62.3507 199.48 68.1434 Q199.48 73.9174 200.947 76.8138 Q202.432 79.6914 205.366 79.6914 Q208.319 79.6914 209.786 76.8138 Q211.272 73.9174 211.272 68.1434 Q211.272 62.3507 209.786 59.4731 Q208.319 56.5767 205.366 56.5767 M205.366 53.5674 Q210.087 53.5674 212.57 57.3102 Q215.071 61.0341 215.071 68.1434 Q215.071 75.234 212.57 78.9767 Q210.087 82.7007 205.366 82.7007 Q200.646 82.7007 198.144 78.9767 Q195.662 75.234 195.662 68.1434 Q195.662 61.0341 198.144 57.3102 Q200.646 53.5674 205.366 53.5674 Z\" fill=\"#000000\" fill-rule=\"evenodd\" fill-opacity=\"1\" /><path clip-path=\"url(#clip300)\" d=\"M21.7677 780.601 L39.6235 780.601 L39.6235 772.516 Q39.6235 768.028 37.3 765.578 Q34.9765 763.127 30.6797 763.127 Q26.4147 763.127 24.0912 765.578 Q21.7677 768.028 21.7677 772.516 L21.7677 780.601 M16.4842 787.03 L16.4842 772.516 Q16.4842 764.527 20.1126 760.453 Q23.7092 756.347 30.6797 756.347 Q37.7138 756.347 41.3104 760.453 Q44.907 764.527 44.907 772.516 L44.907 780.601 L64.0042 780.601 L64.0042 787.03 L16.4842 787.03 Z\" fill=\"#000000\" fill-rule=\"evenodd\" fill-opacity=\"1\" /><path clip-path=\"url(#clip300)\" d=\"M14.5426 733.908 Q21.8632 738.173 29.0246 740.242 Q36.186 742.311 43.5384 742.311 Q50.8908 742.311 58.1159 740.242 Q65.3091 738.142 72.5979 733.908 L72.5979 739.001 Q65.1182 743.775 57.8931 746.162 Q50.668 748.518 43.5384 748.518 Q36.4406 748.518 29.2474 746.162 Q22.0542 743.807 14.5426 739.001 L14.5426 733.908 Z\" fill=\"#000000\" fill-rule=\"evenodd\" fill-opacity=\"1\" /><path clip-path=\"url(#clip300)\" d=\"M14.479 722.768 L14.479 716.88 L43.7294 716.88 L28.3562 699.406 L28.3562 691.926 L45.0344 710.833 L64.0042 691.131 L64.0042 698.77 L46.5939 716.88 L64.0042 716.88 L64.0042 722.768 L14.479 722.768 Z\" fill=\"#000000\" fill-rule=\"evenodd\" fill-opacity=\"1\" /><path clip-path=\"url(#clip300)\" d=\"M14.5426 685.72 L14.5426 680.627 Q22.0542 675.853 29.2474 673.498 Q36.4406 671.111 43.5384 671.111 Q50.668 671.111 57.8931 673.498 Q65.1182 675.853 72.5979 680.627 L72.5979 685.72 Q65.3091 681.487 58.1159 679.418 Q50.8908 677.317 43.5384 677.317 Q36.186 677.317 29.0246 679.418 Q21.8632 681.487 14.5426 685.72 Z\" fill=\"#000000\" fill-rule=\"evenodd\" fill-opacity=\"1\" /><polyline clip-path=\"url(#clip302)\" style=\"stroke:#009af9; stroke-linecap:round; stroke-linejoin:round; stroke-width:10; stroke-opacity:1; fill:none\" points=\"\n",
       "  310.553,85.838 313.993,87.2074 317.411,89.3798 320.808,89.9766 324.183,91.7787 327.538,93.8016 330.872,94.8212 334.186,96.0522 337.479,98.3302 340.753,99.7944 \n",
       "  344.007,100.847 347.241,101.906 350.457,102.971 353.653,105.769 356.831,107.511 359.99,108.608 363.13,110.378 366.253,111.939 369.358,113.514 372.445,114.648 \n",
       "  375.515,116.017 378.567,117.396 381.602,119.017 384.62,119.95 387.622,121.123 390.607,122.778 393.576,123.73 396.528,125.167 399.465,126.131 402.385,127.587 \n",
       "  405.29,128.319 408.18,130.533 411.054,133.024 413.913,134.03 416.757,135.803 419.586,138.365 422.401,140.441 425.201,141.75 427.986,142.54 430.757,143.598 \n",
       "  433.514,145.464 436.258,146.539 438.987,147.892 441.703,148.436 444.405,150.076 447.094,150.902 449.769,152.009 452.431,153.681 455.081,155.086 460.341,156.502 \n",
       "  462.952,157.072 465.55,157.357 468.136,157.929 470.71,159.366 473.272,160.524 475.821,161.106 478.359,161.69 480.885,163.157 483.399,165.528 485.901,166.425 \n",
       "  488.392,167.326 490.872,169.142 493.34,170.056 495.797,170.668 498.243,172.517 500.678,172.826 503.102,174.384 505.515,175.01 507.918,176.585 510.31,176.902 \n",
       "  512.691,177.855 515.062,179.134 517.423,180.099 519.774,181.393 522.114,182.369 524.444,183.351 526.764,183.679 529.075,185.661 531.375,185.994 533.666,186.66 \n",
       "  535.947,188.337 538.219,190.37 540.481,191.394 542.734,192.769 544.977,193.807 547.211,195.549 551.652,196.955 553.859,198.016 556.057,199.798 558.246,200.876 \n",
       "  560.426,202.686 562.598,203.78 564.761,204.881 569.06,205.618 571.198,207.475 573.326,208.597 575.447,209.727 577.559,210.105 579.663,210.484 581.759,210.863 \n",
       "  583.847,212.773 585.927,213.928 587.998,215.869 590.062,216.651 592.118,217.436 594.167,217.83 596.207,218.621 598.24,219.414 600.266,220.211 602.283,220.611 \n",
       "  604.294,222.219 606.297,222.623 608.292,223.028 610.28,223.434 612.261,224.657 614.235,225.477 616.202,226.3 618.161,227.542 620.113,229.211 622.059,230.472 \n",
       "  623.997,231.742 625.929,233.878 627.853,235.604 629.771,236.474 631.682,238.224 633.586,239.106 635.484,241.328 637.375,242.224 639.26,243.124 641.137,243.576 \n",
       "  643.009,244.029 644.874,244.483 646.733,244.939 654.104,246.771 655.931,248.621 657.752,249.086 661.376,249.553 663.179,251.43 666.767,251.903 668.552,252.376 \n",
       "  673.872,252.851 677.391,253.804 679.141,255.243 680.886,256.209 682.625,257.18 684.359,258.155 686.087,258.645 687.81,259.136 689.527,260.122 692.945,261.113 \n",
       "  694.646,262.609 698.032,263.111 699.717,265.13 701.397,266.659 703.072,267.172 704.742,267.686 706.406,270.799 708.066,271.323 709.72,272.375 713.013,272.904 \n",
       "  714.653,273.965 716.287,275.032 717.916,277.186 719.541,277.728 721.161,278.817 724.386,279.912 725.991,281.567 729.187,283.237 730.778,284.359 732.365,284.922 \n",
       "  735.524,285.487 737.097,286.623 738.665,287.765 740.228,288.338 741.787,288.914 743.342,291.818 744.892,292.992 746.438,293.582 747.979,294.174 749.516,295.363 \n",
       "  751.049,295.961 752.577,297.765 755.621,298.37 757.136,298.977 760.155,299.587 761.657,300.811 763.156,302.043 764.651,303.284 767.628,304.532 769.11,306.421 \n",
       "  770.588,308.329 773.533,309.612 774.999,310.257 776.461,312.205 779.374,312.859 782.271,314.834 783.714,315.497 785.153,316.162 786.588,318.173 788.02,319.525 \n",
       "  793.708,320.205 795.12,320.888 797.935,322.26 800.735,323.642 802.129,324.337 804.908,325.735 806.291,327.144 807.672,329.276 809.049,329.993 814.521,332.158 \n",
       "  818.59,332.886 821.285,333.616 829.292,334.349 830.615,335.085 831.935,336.566 833.251,337.31 835.875,338.058 837.182,338.809 839.787,339.563 841.084,340.32 \n",
       "  842.379,341.08 844.959,341.842 846.244,343.378 847.527,344.15 850.082,344.926 852.626,346.487 857.677,348.061 858.933,348.853 861.435,350.447 862.682,351.249 \n",
       "  863.926,352.055 867.641,353.677 868.874,356.136 871.331,360.308 873.777,361.154 874.996,362.003 876.212,363.714 878.636,364.575 882.252,365.44 888.226,366.309 \n",
       "  890.597,367.183 892.957,368.06 894.134,368.942 898.814,369.827 901.14,371.611 903.455,372.509 904.609,373.412 905.76,374.319 906.91,377.067 910.342,377.992 \n",
       "  911.482,378.922 913.753,380.795 917.143,382.687 918.268,383.64 919.391,384.598 921.63,385.561 926.08,387.503 929.393,388.481 930.493,390.452 931.591,393.45 \n",
       "  932.687,394.459 935.96,396.495 940.295,397.522 943.523,398.554 944.595,399.592 948.861,400.635 954.146,402.74 955.197,405.942 957.293,407.021 960.422,408.107 \n",
       "  966.626,409.199 974.788,410.298 975.8,412.515 979.828,413.633 989.769,415.89 996.621,417.029 1000.5,419.327 1002.43,420.487 1006.26,421.654 1007.22,424.01 \n",
       "  1008.17,425.199 1010.07,426.396 1016.67,427.601 1019.48,428.813 1021.34,431.262 1022.27,432.498 1023.19,433.743 1029.64,436.257 1030.55,438.806 1032.38,440.093 \n",
       "  1033.29,441.389 1036.91,442.695 1038.71,444.009 1042.3,445.333 1052.05,446.666 1052.92,448.009 1054.68,449.361 1059.89,450.724 1063.34,452.096 1064.2,454.871 \n",
       "  1067.63,456.274 1073.57,457.688 1074.41,459.112 1075.25,460.548 1085.25,461.994 1086.08,463.452 1091.82,464.921 1092.64,466.402 1094.26,467.894 1095.89,469.399 \n",
       "  1096.69,470.915 1103.13,472.444 1108.69,473.986 1112.63,475.541 1114.2,477.108 1114.98,478.689 1118.1,480.283 1119.65,481.891 1120.43,483.513 1130.4,485.149 \n",
       "  1131.15,486.799 1133.43,488.464 1140.18,490.144 1142.42,491.839 1143.9,493.55 1146.12,497.019 1150.53,498.777 1152.72,500.553 1153.45,504.155 1156.36,505.983 \n",
       "  1159.25,507.828 1159.97,509.692 1162.12,511.574 1169.95,513.476 1171.36,515.397 1172.77,517.338 1176.27,519.3 1179.75,521.282 1181.13,523.285 1182.52,527.358 \n",
       "  1183.21,529.427 1186.64,531.52 1204.16,533.637 1212.06,535.778 1213.37,537.943 1215.32,542.351 1217.27,544.594 1224.34,546.864 1227.21,549.163 1228.79,551.49 \n",
       "  1229.43,553.846 1231.32,556.232 1235.72,558.649 1241.94,561.098 1247.48,563.579 1248.09,566.093 1261.97,568.642 1278.99,571.225 1280.14,573.845 1303.83,576.502 \n",
       "  1309.86,579.197 1321.2,581.932 1322.8,584.707 1324.93,587.524 1327.04,590.383 1329.15,593.288 1332.3,596.237 1344.21,602.28 1344.72,605.376 1351.84,608.525 \n",
       "  1361.35,614.984 1362.84,621.675 1371.67,625.112 1372.16,632.181 1375.55,635.818 1377.96,639.528 1378.44,643.312 1379.4,647.174 1380.36,651.118 1390.8,655.146 \n",
       "  1392.21,659.263 1393.14,663.473 1401.96,667.779 1420.07,672.187 1427.14,676.7 1430.21,681.326 1435.43,686.068 1443.59,690.934 1449.52,695.929 1458.72,701.061 \n",
       "  1459.96,706.338 1464.9,711.768 1472.23,717.359 1475.86,723.123 1476.26,729.07 1482.24,735.212 1492.47,741.563 1502.5,748.136 1505.55,754.948 1550.05,762.017 \n",
       "  1551.45,769.364 1557.01,777.01 1570.33,784.982 1587.6,793.309 1623.32,802.022 1641.37,811.161 1651.05,820.769 1657.12,830.897 1663.4,841.603 1663.69,852.959 \n",
       "  1671.02,865.048 1674.65,877.972 1688.12,891.853 1731.4,906.846 1733.65,923.144 1755.66,940.997 1758.52,960.733 1760.9,982.795 1787.07,1007.81 1844.11,1036.68 \n",
       "  1848.17,1070.83 1848.57,1112.63 1875.35,1166.52 1977.96,1242.47 2293.27,1372.3 \n",
       "  \"/>\n",
       "<polyline clip-path=\"url(#clip302)\" style=\"stroke:#ff0000; stroke-linecap:round; stroke-linejoin:round; stroke-width:4; stroke-opacity:1; fill:none\" stroke-dasharray=\"16, 10\" points=\"\n",
       "  310.553,85.838 313.993,87.5584 317.411,89.2679 320.808,90.9667 324.183,92.6549 327.538,94.3327 330.872,96.0001 334.186,97.6574 337.479,99.3045 340.753,100.942 \n",
       "  344.007,102.569 347.241,104.187 350.457,105.795 353.653,107.393 356.831,108.983 359.99,110.563 363.13,112.133 366.253,113.695 369.358,115.248 372.445,116.792 \n",
       "  375.515,118.327 378.567,119.853 381.602,121.371 384.62,122.881 387.622,124.382 390.607,125.875 393.576,127.36 396.528,128.836 399.465,130.305 402.385,131.766 \n",
       "  405.29,133.218 408.18,134.664 411.054,136.101 413.913,137.531 416.757,138.953 419.586,140.368 422.401,141.776 425.201,143.176 427.986,144.569 430.757,145.955 \n",
       "  433.514,147.334 436.258,148.706 438.987,150.071 441.703,151.429 444.405,152.781 447.094,154.125 449.769,155.463 452.431,156.795 455.081,158.12 460.341,160.75 \n",
       "  462.952,162.056 465.55,163.356 468.136,164.649 470.71,165.936 473.272,167.218 475.821,168.493 478.359,169.762 480.885,171.025 483.399,172.282 485.901,173.534 \n",
       "  488.392,174.78 490.872,176.02 493.34,177.254 495.797,178.483 498.243,179.706 500.678,180.924 503.102,182.136 505.515,183.343 507.918,184.545 510.31,185.741 \n",
       "  512.691,186.932 515.062,188.118 517.423,189.299 519.774,190.474 522.114,191.645 524.444,192.81 526.764,193.97 529.075,195.126 531.375,196.277 533.666,197.422 \n",
       "  535.947,198.563 538.219,199.699 540.481,200.831 542.734,201.957 544.977,203.079 547.211,204.196 551.652,206.417 553.859,207.521 556.057,208.62 558.246,209.715 \n",
       "  560.426,210.806 562.598,211.892 564.761,212.973 569.06,215.124 571.198,216.193 573.326,217.257 575.447,218.318 577.559,219.374 579.663,220.426 581.759,221.475 \n",
       "  583.847,222.519 585.927,223.559 587.998,224.595 590.062,225.627 592.118,226.656 594.167,227.68 596.207,228.7 598.24,229.717 600.266,230.73 602.283,231.739 \n",
       "  604.294,232.745 606.297,233.746 608.292,234.744 610.28,235.739 612.261,236.729 614.235,237.717 616.202,238.7 618.161,239.68 620.113,240.656 622.059,241.629 \n",
       "  623.997,242.599 625.929,243.565 627.853,244.527 629.771,245.486 631.682,246.442 633.586,247.395 635.484,248.344 637.375,249.289 639.26,250.232 641.137,251.171 \n",
       "  643.009,252.107 644.874,253.04 646.733,253.969 654.104,257.656 655.931,258.57 657.752,259.48 661.376,261.293 663.179,262.195 666.767,263.989 668.552,264.882 \n",
       "  673.872,267.543 677.391,269.302 679.141,270.178 680.886,271.05 682.625,271.92 684.359,272.787 686.087,273.651 687.81,274.513 689.527,275.372 692.945,277.081 \n",
       "  694.646,277.932 698.032,279.626 699.717,280.468 701.397,281.309 703.072,282.146 704.742,282.981 706.406,283.814 708.066,284.643 709.72,285.471 713.013,287.118 \n",
       "  714.653,287.938 716.287,288.755 717.916,289.57 719.541,290.383 721.161,291.193 724.386,292.805 725.991,293.608 729.187,295.207 730.778,296.003 732.365,296.796 \n",
       "  735.524,298.376 737.097,299.162 738.665,299.947 740.228,300.729 741.787,301.508 743.342,302.286 744.892,303.061 746.438,303.834 747.979,304.605 749.516,305.374 \n",
       "  751.049,306.14 752.577,306.905 755.621,308.427 757.136,309.185 760.155,310.694 761.657,311.446 763.156,312.195 764.651,312.943 767.628,314.432 769.11,315.173 \n",
       "  770.588,315.912 773.533,317.385 774.999,318.118 776.461,318.85 779.374,320.306 782.271,321.755 783.714,322.477 785.153,323.197 786.588,323.914 788.02,324.63 \n",
       "  793.708,327.475 795.12,328.182 797.935,329.589 800.735,330.989 802.129,331.687 804.908,333.076 806.291,333.768 807.672,334.459 809.049,335.147 814.521,337.884 \n",
       "  818.59,339.919 821.285,341.267 829.292,345.272 830.615,345.933 831.935,346.593 833.251,347.252 835.875,348.564 837.182,349.218 839.787,350.52 841.084,351.169 \n",
       "  842.379,351.817 844.959,353.107 846.244,353.75 847.527,354.391 850.082,355.669 852.626,356.941 857.677,359.468 858.933,360.096 861.435,361.347 862.682,361.971 \n",
       "  863.926,362.593 867.641,364.451 868.874,365.068 871.331,366.296 873.777,367.52 874.996,368.129 876.212,368.737 878.636,369.95 882.252,371.758 888.226,374.746 \n",
       "  890.597,375.931 892.957,377.112 894.134,377.7 898.814,380.041 901.14,381.204 903.455,382.362 904.609,382.939 905.76,383.515 906.91,384.09 910.342,385.807 \n",
       "  911.482,386.376 913.753,387.513 917.143,389.208 918.268,389.771 919.391,390.332 921.63,391.452 926.08,393.677 929.393,395.335 930.493,395.885 931.591,396.434 \n",
       "  932.687,396.982 935.96,398.619 940.295,400.787 943.523,402.401 944.595,402.937 948.861,405.071 954.146,407.714 955.197,408.24 957.293,409.288 960.422,410.853 \n",
       "  966.626,413.955 974.788,418.038 975.8,418.544 979.828,420.558 989.769,425.53 996.621,428.957 1000.5,430.896 1002.43,431.86 1006.26,433.778 1007.22,434.256 \n",
       "  1008.17,434.732 1010.07,435.683 1016.67,438.985 1019.48,440.387 1021.34,441.318 1022.27,441.783 1023.19,442.246 1029.64,445.469 1030.55,445.927 1032.38,446.839 \n",
       "  1033.29,447.294 1036.91,449.106 1038.71,450.008 1042.3,451.802 1052.05,456.677 1052.92,457.116 1054.68,457.991 1059.89,460.601 1063.34,462.326 1064.2,462.756 \n",
       "  1067.63,464.468 1073.57,467.439 1074.41,467.861 1075.25,468.282 1085.25,473.284 1086.08,473.697 1091.82,476.569 1092.64,476.976 1094.26,477.79 1095.89,478.601 \n",
       "  1096.69,479.006 1103.13,482.222 1108.69,485.005 1112.63,486.976 1114.2,487.76 1114.98,488.151 1118.1,489.711 1119.65,490.487 1120.43,490.875 1130.4,495.861 \n",
       "  1131.15,496.24 1133.43,497.376 1140.18,500.756 1142.42,501.874 1143.9,502.616 1146.12,503.726 1150.53,505.932 1152.72,507.028 1153.45,507.392 1156.36,508.845 \n",
       "  1159.25,510.29 1159.97,510.65 1162.12,511.728 1169.95,515.642 1171.36,516.347 1172.77,517.051 1176.27,518.803 1179.75,520.543 1181.13,521.236 1182.52,521.927 \n",
       "  1183.21,522.272 1186.64,523.99 1204.16,532.753 1212.06,536.704 1213.37,537.357 1215.32,538.334 1217.27,539.307 1224.34,542.844 1227.21,544.278 1228.79,545.072 \n",
       "  1229.43,545.389 1231.32,546.337 1235.72,548.536 1241.94,551.647 1247.48,554.416 1248.09,554.722 1261.97,561.666 1278.99,570.176 1280.14,570.753 1303.83,582.597 \n",
       "  1309.86,585.615 1321.2,591.285 1322.8,592.086 1324.93,593.15 1327.04,594.209 1329.15,595.264 1332.3,596.84 1344.21,602.795 1344.72,603.051 1351.84,606.61 \n",
       "  1361.35,611.366 1362.84,612.109 1371.67,616.527 1372.16,616.77 1375.55,618.467 1377.96,619.673 1378.44,619.914 1379.4,620.394 1380.36,620.874 1390.8,626.094 \n",
       "  1392.21,626.798 1393.14,627.266 1401.96,631.676 1420.07,640.731 1427.14,644.27 1430.21,645.804 1435.43,648.414 1443.59,652.495 1449.52,655.463 1458.72,660.063 \n",
       "  1459.96,660.684 1464.9,663.155 1472.23,666.819 1475.86,668.633 1476.26,668.834 1482.24,671.828 1492.47,676.941 1502.5,681.958 1505.55,683.484 1550.05,705.742 \n",
       "  1551.45,706.442 1557.01,709.222 1570.33,715.884 1587.6,724.518 1623.32,742.383 1641.37,751.41 1651.05,756.25 1657.12,759.286 1663.4,762.43 1663.69,762.572 \n",
       "  1671.02,766.239 1674.65,768.055 1688.12,774.789 1731.4,796.436 1733.65,797.561 1755.66,808.567 1758.52,810.002 1760.9,811.191 1787.07,824.281 1844.11,852.807 \n",
       "  1848.17,854.835 1848.57,855.037 1875.35,868.43 1977.96,919.746 2293.27,1077.44 \n",
       "  \"/>\n",
       "<polyline clip-path=\"url(#clip302)\" style=\"stroke:#ff0000; stroke-linecap:round; stroke-linejoin:round; stroke-width:4; stroke-opacity:1; fill:none\" stroke-dasharray=\"16, 10\" points=\"\n",
       "  310.553,85.838 313.993,87.3402 317.411,88.8351 320.808,90.3228 324.183,91.8033 327.538,93.2767 330.872,94.7431 334.186,96.2026 337.479,97.6552 340.753,99.101 \n",
       "  344.007,100.54 347.241,101.973 350.457,103.399 353.653,104.818 356.831,106.231 359.99,107.637 363.13,109.038 366.253,110.432 369.358,111.819 372.445,113.201 \n",
       "  375.515,114.577 378.567,115.946 381.602,117.31 384.62,118.667 387.622,120.019 390.607,121.365 393.576,122.706 396.528,124.04 399.465,125.369 402.385,126.693 \n",
       "  405.29,128.011 408.18,129.323 411.054,130.63 413.913,131.932 416.757,133.228 419.586,134.519 422.401,135.805 425.201,137.086 427.986,138.361 430.757,139.632 \n",
       "  433.514,140.897 436.258,142.158 438.987,143.413 441.703,144.664 444.405,145.909 447.094,147.15 449.769,148.386 452.431,149.618 455.081,150.844 460.341,153.283 \n",
       "  462.952,154.496 465.55,155.704 468.136,156.908 470.71,158.107 473.272,159.302 475.821,160.492 478.359,161.678 480.885,162.86 483.399,164.037 485.901,165.21 \n",
       "  488.392,166.379 490.872,167.544 493.34,168.704 495.797,169.861 498.243,171.013 500.678,172.161 503.102,173.305 505.515,174.445 507.918,175.582 510.31,176.714 \n",
       "  512.691,177.842 515.062,178.967 517.423,180.087 519.774,181.204 522.114,182.317 524.444,183.426 526.764,184.532 529.075,185.633 531.375,186.732 533.666,187.826 \n",
       "  535.947,188.917 538.219,190.004 540.481,191.088 542.734,192.168 544.977,193.244 547.211,194.317 551.652,196.453 553.859,197.516 556.057,198.575 558.246,199.631 \n",
       "  560.426,200.684 562.598,201.733 564.761,202.779 569.06,204.861 571.198,205.897 573.326,206.93 575.447,207.96 577.559,208.986 579.663,210.01 581.759,211.03 \n",
       "  583.847,212.047 585.927,213.061 587.998,214.072 590.062,215.08 592.118,216.085 594.167,217.087 596.207,218.086 598.24,219.082 600.266,220.075 602.283,221.065 \n",
       "  604.294,222.053 606.297,223.037 608.292,224.019 610.28,224.997 612.261,225.973 614.235,226.946 616.202,227.916 618.161,228.883 620.113,229.848 622.059,230.81 \n",
       "  623.997,231.769 625.929,232.725 627.853,233.679 629.771,234.63 631.682,235.579 633.586,236.524 635.484,237.467 637.375,238.408 639.26,239.346 641.137,240.281 \n",
       "  643.009,241.214 644.874,242.144 646.733,243.072 654.104,246.757 655.931,247.672 657.752,248.585 661.376,250.403 663.179,251.309 666.767,253.113 668.552,254.011 \n",
       "  673.872,256.692 677.391,258.468 679.141,259.352 680.886,260.235 682.625,261.115 684.359,261.992 686.087,262.868 687.81,263.741 689.527,264.612 692.945,266.348 \n",
       "  694.646,267.212 698.032,268.935 699.717,269.793 701.397,270.649 703.072,271.502 704.742,272.354 706.406,273.204 708.066,274.051 709.72,274.897 713.013,276.582 \n",
       "  714.653,277.421 716.287,278.258 717.916,279.094 719.541,279.927 721.161,280.758 724.386,282.415 725.991,283.24 729.187,284.885 730.778,285.705 732.365,286.522 \n",
       "  735.524,288.152 737.097,288.964 738.665,289.774 740.228,290.582 741.787,291.389 743.342,292.193 744.892,292.996 746.438,293.797 747.979,294.596 749.516,295.393 \n",
       "  751.049,296.188 752.577,296.982 755.621,298.564 757.136,299.352 760.155,300.923 761.657,301.706 763.156,302.487 764.651,303.267 767.628,304.82 769.11,305.595 \n",
       "  770.588,306.368 773.533,307.908 774.999,308.675 776.461,309.441 779.374,310.968 782.271,312.489 783.714,313.247 785.153,314.003 786.588,314.757 788.02,315.51 \n",
       "  793.708,318.506 795.12,319.251 797.935,320.737 800.735,322.216 802.129,322.953 804.908,324.423 806.291,325.156 807.672,325.887 809.049,326.617 814.521,329.521 \n",
       "  818.59,331.684 821.285,333.119 829.292,337.389 830.615,338.096 831.935,338.801 833.251,339.505 835.875,340.909 837.182,341.608 839.787,343.004 841.084,343.7 \n",
       "  842.379,344.394 844.959,345.779 846.244,346.47 847.527,347.159 850.082,348.533 852.626,349.902 857.677,352.625 858.933,353.303 861.435,354.654 862.682,355.328 \n",
       "  863.926,356 867.641,358.01 868.874,358.678 871.331,360.009 873.777,361.336 874.996,361.997 876.212,362.657 878.636,363.974 882.252,365.941 888.226,369.195 \n",
       "  890.597,370.489 892.957,371.778 894.134,372.42 898.814,374.98 901.14,376.254 903.455,377.523 904.609,378.155 905.76,378.787 906.91,379.418 910.342,381.303 \n",
       "  911.482,381.93 913.753,383.179 917.143,385.045 918.268,385.665 919.391,386.284 921.63,387.519 926.08,389.976 929.393,391.809 930.493,392.417 931.591,393.025 \n",
       "  932.687,393.632 935.96,395.446 940.295,397.851 943.523,399.645 944.595,400.241 948.861,402.616 954.146,405.562 955.197,406.149 957.293,407.319 960.422,409.068 \n",
       "  966.626,412.541 974.788,417.122 975.8,417.691 979.828,419.957 989.769,425.563 996.621,429.439 1000.5,431.635 1002.43,432.729 1006.26,434.906 1007.22,435.449 \n",
       "  1008.17,435.99 1010.07,437.071 1016.67,440.83 1019.48,442.43 1021.34,443.493 1022.27,444.023 1023.19,444.553 1029.64,448.239 1030.55,448.762 1032.38,449.808 \n",
       "  1033.29,450.329 1036.91,452.408 1038.71,453.443 1042.3,455.505 1052.05,461.119 1052.92,461.625 1054.68,462.636 1059.89,465.651 1063.34,467.649 1064.2,468.146 \n",
       "  1067.63,470.131 1073.57,473.579 1074.41,474.069 1075.25,474.559 1085.25,480.384 1086.08,480.866 1091.82,484.219 1092.64,484.696 1094.26,485.648 1095.89,486.597 \n",
       "  1096.69,487.071 1103.13,490.841 1108.69,494.109 1112.63,496.427 1114.2,497.351 1114.98,497.812 1118.1,499.65 1119.65,500.565 1120.43,501.023 1130.4,506.916 \n",
       "  1131.15,507.366 1133.43,508.712 1140.18,512.722 1142.42,514.05 1143.9,514.932 1146.12,516.252 1150.53,518.88 1152.72,520.187 1153.45,520.621 1156.36,522.355 \n",
       "  1159.25,524.082 1159.97,524.512 1162.12,525.8 1169.95,530.489 1171.36,531.335 1172.77,532.18 1176.27,534.284 1179.75,536.376 1181.13,537.21 1182.52,538.043 \n",
       "  1183.21,538.458 1186.64,540.529 1204.16,551.126 1212.06,555.923 1213.37,556.717 1215.32,557.905 1217.27,559.089 1224.34,563.403 1227.21,565.154 1228.79,566.123 \n",
       "  1229.43,566.51 1231.32,567.67 1235.72,570.362 1241.94,574.176 1247.48,577.579 1248.09,577.955 1261.97,586.514 1278.99,597.053 1280.14,597.77 1303.83,612.54 \n",
       "  1309.86,616.321 1321.2,623.444 1322.8,624.452 1324.93,625.791 1327.04,627.126 1329.15,628.457 1332.3,630.446 1344.21,637.98 1344.72,638.304 1351.84,642.82 \n",
       "  1361.35,648.871 1362.84,649.818 1371.67,655.458 1372.16,655.769 1375.55,657.94 1377.96,659.484 1378.44,659.792 1379.4,660.407 1380.36,661.022 1390.8,667.722 \n",
       "  1392.21,668.628 1393.14,669.23 1401.96,674.912 1420.07,686.626 1427.14,691.222 1430.21,693.217 1435.43,696.615 1443.59,701.94 1449.52,705.822 1458.72,711.85 \n",
       "  1459.96,712.666 1464.9,715.912 1472.23,720.735 1475.86,723.127 1476.26,723.392 1482.24,727.345 1492.47,734.113 1502.5,740.775 1505.55,742.804 1550.05,772.622 \n",
       "  1551.45,773.566 1557.01,777.32 1570.33,786.338 1587.6,798.079 1623.32,822.56 1641.37,835.027 1651.05,841.738 1657.12,845.956 1663.4,850.332 1663.69,850.53 \n",
       "  1671.02,855.646 1674.65,858.182 1688.12,867.613 1731.4,898.17 1733.65,899.77 1755.66,915.459 1758.52,917.511 1760.9,919.213 1787.07,938.026 1844.11,979.495 \n",
       "  1848.17,982.468 1848.57,982.764 1875.35,1002.48 1977.96,1079.36 2293.27,1328.79 \n",
       "  \"/>\n",
       "<path clip-path=\"url(#clip300)\" d=\"\n",
       "M1545.08 196.379 L2282.7 196.379 L2282.7 92.6992 L1545.08 92.6992  Z\n",
       "  \" fill=\"#ffffff\" fill-rule=\"evenodd\" fill-opacity=\"1\"/>\n",
       "<polyline clip-path=\"url(#clip300)\" style=\"stroke:#000000; stroke-linecap:round; stroke-linejoin:round; stroke-width:4; stroke-opacity:1; fill:none\" points=\"\n",
       "  1545.08,196.379 2282.7,196.379 2282.7,92.6992 1545.08,92.6992 1545.08,196.379 \n",
       "  \"/>\n",
       "<polyline clip-path=\"url(#clip300)\" style=\"stroke:#009af9; stroke-linecap:round; stroke-linejoin:round; stroke-width:10; stroke-opacity:1; fill:none\" points=\"\n",
       "  1568.43,144.539 1708.54,144.539 \n",
       "  \"/>\n",
       "<path clip-path=\"url(#clip300)\" d=\"M1750.32 136.657 L1750.32 140.685 Q1748.52 139.759 1746.57 139.296 Q1744.63 138.833 1742.54 138.833 Q1739.37 138.833 1737.78 139.805 Q1736.2 140.778 1736.2 142.722 Q1736.2 144.204 1737.34 145.06 Q1738.47 145.893 1741.9 146.657 L1743.36 146.981 Q1747.89 147.954 1749.79 149.736 Q1751.71 151.495 1751.71 154.666 Q1751.71 158.278 1748.84 160.384 Q1745.99 162.49 1740.99 162.49 Q1738.91 162.49 1736.64 162.074 Q1734.4 161.68 1731.9 160.87 L1731.9 156.472 Q1734.26 157.699 1736.55 158.324 Q1738.84 158.926 1741.09 158.926 Q1744.1 158.926 1745.72 157.907 Q1747.34 156.866 1747.34 154.991 Q1747.34 153.254 1746.16 152.328 Q1745 151.403 1741.04 150.546 L1739.56 150.199 Q1735.6 149.366 1733.84 147.653 Q1732.08 145.916 1732.08 142.907 Q1732.08 139.25 1734.67 137.259 Q1737.27 135.268 1742.04 135.268 Q1744.4 135.268 1746.48 135.616 Q1748.56 135.963 1750.32 136.657 Z\" fill=\"#000000\" fill-rule=\"evenodd\" fill-opacity=\"1\" /><path clip-path=\"url(#clip300)\" d=\"M1758.49 135.893 L1762.75 135.893 L1762.75 161.819 L1758.49 161.819 L1758.49 135.893 M1758.49 125.801 L1762.75 125.801 L1762.75 131.194 L1758.49 131.194 L1758.49 125.801 Z\" fill=\"#000000\" fill-rule=\"evenodd\" fill-opacity=\"1\" /><path clip-path=\"url(#clip300)\" d=\"M1788.73 139.829 L1788.73 125.801 L1792.98 125.801 L1792.98 161.819 L1788.73 161.819 L1788.73 157.93 Q1787.38 160.245 1785.32 161.379 Q1783.29 162.49 1780.42 162.49 Q1775.72 162.49 1772.75 158.74 Q1769.81 154.991 1769.81 148.879 Q1769.81 142.768 1772.75 139.018 Q1775.72 135.268 1780.42 135.268 Q1783.29 135.268 1785.32 136.403 Q1787.38 137.514 1788.73 139.829 M1774.21 148.879 Q1774.21 153.578 1776.13 156.264 Q1778.08 158.926 1781.46 158.926 Q1784.84 158.926 1786.78 156.264 Q1788.73 153.578 1788.73 148.879 Q1788.73 144.18 1786.78 141.518 Q1784.84 138.833 1781.46 138.833 Q1778.08 138.833 1776.13 141.518 Q1774.21 144.18 1774.21 148.879 Z\" fill=\"#000000\" fill-rule=\"evenodd\" fill-opacity=\"1\" /><path clip-path=\"url(#clip300)\" d=\"M1823.93 147.791 L1823.93 149.875 L1804.35 149.875 Q1804.63 154.273 1806.99 156.588 Q1809.37 158.879 1813.61 158.879 Q1816.06 158.879 1818.35 158.278 Q1820.67 157.676 1822.94 156.472 L1822.94 160.5 Q1820.65 161.472 1818.24 161.981 Q1815.83 162.49 1813.35 162.49 Q1807.15 162.49 1803.52 158.879 Q1799.91 155.268 1799.91 149.111 Q1799.91 142.745 1803.33 139.018 Q1806.78 135.268 1812.61 135.268 Q1817.85 135.268 1820.88 138.648 Q1823.93 142.004 1823.93 147.791 M1819.67 146.541 Q1819.63 143.046 1817.71 140.963 Q1815.81 138.879 1812.66 138.879 Q1809.1 138.879 1806.94 140.893 Q1804.81 142.907 1804.49 146.565 L1819.67 146.541 Z\" fill=\"#000000\" fill-rule=\"evenodd\" fill-opacity=\"1\" /><path clip-path=\"url(#clip300)\" d=\"M1831.48 140.292 L1861.16 140.292 L1861.16 144.18 L1831.48 144.18 L1831.48 140.292 M1831.48 149.736 L1861.16 149.736 L1861.16 153.671 L1831.48 153.671 L1831.48 149.736 Z\" fill=\"#000000\" fill-rule=\"evenodd\" fill-opacity=\"1\" /><path clip-path=\"url(#clip300)\" d=\"M1885.41 143.185 Q1888.77 143.903 1890.65 146.171 Q1892.54 148.44 1892.54 151.773 Q1892.54 156.889 1889.03 159.69 Q1885.51 162.49 1879.03 162.49 Q1876.85 162.49 1874.53 162.051 Q1872.24 161.634 1869.79 160.778 L1869.79 156.264 Q1871.73 157.398 1874.05 157.977 Q1876.36 158.555 1878.89 158.555 Q1883.28 158.555 1885.58 156.819 Q1887.89 155.083 1887.89 151.773 Q1887.89 148.717 1885.74 147.004 Q1883.61 145.268 1879.79 145.268 L1875.76 145.268 L1875.76 141.426 L1879.97 141.426 Q1883.42 141.426 1885.25 140.06 Q1887.08 138.671 1887.08 136.079 Q1887.08 133.417 1885.18 132.005 Q1883.31 130.569 1879.79 130.569 Q1877.87 130.569 1875.67 130.986 Q1873.47 131.403 1870.83 132.282 L1870.83 128.116 Q1873.49 127.375 1875.81 127.005 Q1878.15 126.634 1880.21 126.634 Q1885.53 126.634 1888.63 129.065 Q1891.73 131.472 1891.73 135.592 Q1891.73 138.463 1890.09 140.454 Q1888.45 142.421 1885.41 143.185 Z\" fill=\"#000000\" fill-rule=\"evenodd\" fill-opacity=\"1\" /><path clip-path=\"url(#clip300)\" d=\"M1901.9 155.94 L1906.78 155.94 L1906.78 159.921 L1902.98 167.328 L1900 167.328 L1901.9 159.921 L1901.9 155.94 Z\" fill=\"#000000\" fill-rule=\"evenodd\" fill-opacity=\"1\" /><path clip-path=\"url(#clip300)\" d=\"M1942.73 148.787 Q1937.57 148.787 1935.58 149.967 Q1933.59 151.148 1933.59 153.995 Q1933.59 156.264 1935.07 157.606 Q1936.57 158.926 1939.14 158.926 Q1942.68 158.926 1944.81 156.426 Q1946.97 153.903 1946.97 149.736 L1946.97 148.787 L1942.73 148.787 M1951.22 147.028 L1951.22 161.819 L1946.97 161.819 L1946.97 157.884 Q1945.51 160.245 1943.33 161.379 Q1941.15 162.49 1938.01 162.49 Q1934.03 162.49 1931.66 160.268 Q1929.33 158.023 1929.33 154.273 Q1929.33 149.898 1932.24 147.676 Q1935.18 145.454 1940.99 145.454 L1946.97 145.454 L1946.97 145.037 Q1946.97 142.097 1945.02 140.5 Q1943.1 138.879 1939.6 138.879 Q1937.38 138.879 1935.28 139.412 Q1933.17 139.944 1931.22 141.009 L1931.22 137.074 Q1933.56 136.171 1935.76 135.731 Q1937.96 135.268 1940.04 135.268 Q1945.67 135.268 1948.45 138.185 Q1951.22 141.102 1951.22 147.028 Z\" fill=\"#000000\" fill-rule=\"evenodd\" fill-opacity=\"1\" /><path clip-path=\"url(#clip300)\" d=\"M1960 125.801 L1964.26 125.801 L1964.26 161.819 L1960 161.819 L1960 125.801 Z\" fill=\"#000000\" fill-rule=\"evenodd\" fill-opacity=\"1\" /><path clip-path=\"url(#clip300)\" d=\"M1977.29 157.93 L1977.29 171.68 L1973.01 171.68 L1973.01 135.893 L1977.29 135.893 L1977.29 139.829 Q1978.63 137.514 1980.67 136.403 Q1982.73 135.268 1985.58 135.268 Q1990.3 135.268 1993.24 139.018 Q1996.2 142.768 1996.2 148.879 Q1996.2 154.991 1993.24 158.74 Q1990.3 162.49 1985.58 162.49 Q1982.73 162.49 1980.67 161.379 Q1978.63 160.245 1977.29 157.93 M1991.78 148.879 Q1991.78 144.18 1989.84 141.518 Q1987.91 138.833 1984.53 138.833 Q1981.15 138.833 1979.21 141.518 Q1977.29 144.18 1977.29 148.879 Q1977.29 153.578 1979.21 156.264 Q1981.15 158.926 1984.53 158.926 Q1987.91 158.926 1989.84 156.264 Q1991.78 153.578 1991.78 148.879 Z\" fill=\"#000000\" fill-rule=\"evenodd\" fill-opacity=\"1\" /><path clip-path=\"url(#clip300)\" d=\"M2024.81 146.171 L2024.81 161.819 L2020.55 161.819 L2020.55 146.31 Q2020.55 142.629 2019.12 140.801 Q2017.68 138.972 2014.81 138.972 Q2011.36 138.972 2009.37 141.171 Q2007.38 143.37 2007.38 147.166 L2007.38 161.819 L2003.1 161.819 L2003.1 125.801 L2007.38 125.801 L2007.38 139.921 Q2008.91 137.583 2010.97 136.426 Q2013.05 135.268 2015.76 135.268 Q2020.23 135.268 2022.52 138.046 Q2024.81 140.801 2024.81 146.171 Z\" fill=\"#000000\" fill-rule=\"evenodd\" fill-opacity=\"1\" /><path clip-path=\"url(#clip300)\" d=\"M2045.09 148.787 Q2039.93 148.787 2037.94 149.967 Q2035.95 151.148 2035.95 153.995 Q2035.95 156.264 2037.43 157.606 Q2038.93 158.926 2041.5 158.926 Q2045.04 158.926 2047.17 156.426 Q2049.33 153.903 2049.33 149.736 L2049.33 148.787 L2045.09 148.787 M2053.58 147.028 L2053.58 161.819 L2049.33 161.819 L2049.33 157.884 Q2047.87 160.245 2045.69 161.379 Q2043.52 162.49 2040.37 162.49 Q2036.39 162.49 2034.02 160.268 Q2031.69 158.023 2031.69 154.273 Q2031.69 149.898 2034.6 147.676 Q2037.54 145.454 2043.35 145.454 L2049.33 145.454 L2049.33 145.037 Q2049.33 142.097 2047.38 140.5 Q2045.46 138.879 2041.96 138.879 Q2039.74 138.879 2037.64 139.412 Q2035.53 139.944 2033.59 141.009 L2033.59 137.074 Q2035.92 136.171 2038.12 135.731 Q2040.32 135.268 2042.4 135.268 Q2048.03 135.268 2050.81 138.185 Q2053.58 141.102 2053.58 147.028 Z\" fill=\"#000000\" fill-rule=\"evenodd\" fill-opacity=\"1\" /><path clip-path=\"url(#clip300)\" d=\"M2062.91 140.292 L2092.59 140.292 L2092.59 144.18 L2062.91 144.18 L2062.91 140.292 M2062.91 149.736 L2092.59 149.736 L2092.59 153.671 L2062.91 153.671 L2062.91 149.736 Z\" fill=\"#000000\" fill-rule=\"evenodd\" fill-opacity=\"1\" /><path clip-path=\"url(#clip300)\" d=\"M2106.71 157.884 L2123.03 157.884 L2123.03 161.819 L2101.08 161.819 L2101.08 157.884 Q2103.75 155.129 2108.33 150.5 Q2112.94 145.847 2114.12 144.504 Q2116.36 141.981 2117.24 140.245 Q2118.14 138.486 2118.14 136.796 Q2118.14 134.042 2116.2 132.305 Q2114.28 130.569 2111.18 130.569 Q2108.98 130.569 2106.52 131.333 Q2104.09 132.097 2101.32 133.648 L2101.32 128.926 Q2104.14 127.792 2106.59 127.213 Q2109.05 126.634 2111.08 126.634 Q2116.45 126.634 2119.65 129.319 Q2122.84 132.005 2122.84 136.495 Q2122.84 138.625 2122.03 140.546 Q2121.25 142.444 2119.14 145.037 Q2118.56 145.708 2115.46 148.926 Q2112.36 152.12 2106.71 157.884 Z\" fill=\"#000000\" fill-rule=\"evenodd\" fill-opacity=\"1\" /><path clip-path=\"url(#clip300)\" d=\"M2132.84 155.94 L2137.73 155.94 L2137.73 161.819 L2132.84 161.819 L2132.84 155.94 Z\" fill=\"#000000\" fill-rule=\"evenodd\" fill-opacity=\"1\" /><path clip-path=\"url(#clip300)\" d=\"M2160.76 131.333 L2148.95 149.782 L2160.76 149.782 L2160.76 131.333 M2159.53 127.259 L2165.41 127.259 L2165.41 149.782 L2170.34 149.782 L2170.34 153.671 L2165.41 153.671 L2165.41 161.819 L2160.76 161.819 L2160.76 153.671 L2145.16 153.671 L2145.16 149.157 L2159.53 127.259 Z\" fill=\"#000000\" fill-rule=\"evenodd\" fill-opacity=\"1\" /><path clip-path=\"url(#clip300)\" d=\"M2190.92 131.333 L2179.12 149.782 L2190.92 149.782 L2190.92 131.333 M2189.7 127.259 L2195.57 127.259 L2195.57 149.782 L2200.51 149.782 L2200.51 153.671 L2195.57 153.671 L2195.57 161.819 L2190.92 161.819 L2190.92 153.671 L2175.32 153.671 L2175.32 149.157 L2189.7 127.259 Z\" fill=\"#000000\" fill-rule=\"evenodd\" fill-opacity=\"1\" /><path clip-path=\"url(#clip300)\" d=\"M2218.82 142.676 Q2215.67 142.676 2213.82 144.829 Q2211.99 146.981 2211.99 150.731 Q2211.99 154.458 2213.82 156.634 Q2215.67 158.787 2218.82 158.787 Q2221.96 158.787 2223.79 156.634 Q2225.64 154.458 2225.64 150.731 Q2225.64 146.981 2223.79 144.829 Q2221.96 142.676 2218.82 142.676 M2228.1 128.023 L2228.1 132.282 Q2226.34 131.449 2224.53 131.009 Q2222.75 130.569 2220.99 130.569 Q2216.36 130.569 2213.91 133.694 Q2211.48 136.819 2211.13 143.139 Q2212.5 141.125 2214.56 140.06 Q2216.62 138.972 2219.09 138.972 Q2224.3 138.972 2227.31 142.143 Q2230.34 145.291 2230.34 150.731 Q2230.34 156.055 2227.2 159.273 Q2224.05 162.49 2218.82 162.49 Q2212.82 162.49 2209.65 157.907 Q2206.48 153.301 2206.48 144.574 Q2206.48 136.38 2210.37 131.518 Q2214.26 126.634 2220.81 126.634 Q2222.57 126.634 2224.35 126.981 Q2226.15 127.329 2228.1 128.023 Z\" fill=\"#000000\" fill-rule=\"evenodd\" fill-opacity=\"1\" /><path clip-path=\"url(#clip300)\" d=\"M2238.45 127.259 L2256.8 127.259 L2256.8 131.194 L2242.73 131.194 L2242.73 139.667 Q2243.75 139.319 2244.76 139.157 Q2245.78 138.972 2246.8 138.972 Q2252.59 138.972 2255.97 142.143 Q2259.35 145.315 2259.35 150.731 Q2259.35 156.31 2255.88 159.412 Q2252.4 162.49 2246.08 162.49 Q2243.91 162.49 2241.64 162.12 Q2239.39 161.75 2236.99 161.009 L2236.99 156.31 Q2239.07 157.444 2241.29 158 Q2243.51 158.555 2245.99 158.555 Q2250 158.555 2252.33 156.449 Q2254.67 154.342 2254.67 150.731 Q2254.67 147.12 2252.33 145.014 Q2250 142.907 2245.99 142.907 Q2244.12 142.907 2242.24 143.324 Q2240.39 143.741 2238.45 144.62 L2238.45 127.259 Z\" fill=\"#000000\" fill-rule=\"evenodd\" fill-opacity=\"1\" /></svg>\n"
      ]
     },
     "metadata": {},
     "output_type": "display_data"
    }
   ],
   "source": [
    "Plots.plot(xlabel = \"k\", ylabel = \"P(k)\")\n",
    "x_ccdf, y_ccdf = fit_degrees.ccdf()\n",
    "Plots.plot!(x_ccdf, y_ccdf, xscale=:log10, yscale=:log10, label=\"side=$side, alpha=$alpha\", linewidth=2.5)\n",
    "\n",
    "# Theoretical power_law\n",
    "fit_degrees_power_law = fit_degrees.power_law.plot_ccdf()[:lines][1]\n",
    "x_powlaw, y_powlaw = fit_degrees_power_law[:get_xdata](), fit_degrees_power_law[:get_ydata]()\n",
    "Plots.plot!(x_powlaw, y_powlaw, xscale=:log10, yscale=:log10, label=\"\", color=:red, linestyle=:dash) #label=\"power law, alpha=$(alpha)\")\n",
    "\n",
    "# Theoretical lognormal\n",
    "fit_degrees_lognormal = fit_degrees.lognormal.plot_ccdf()[:lines][1]\n",
    "x_lognormal, y_lognormal = fit_degrees_lognormal[:get_xdata](), fit_degrees_lognormal[:get_ydata]()\n",
    "Plots.plot!(x_lognormal, y_lognormal, xscale=:log10, yscale=:log10, label=\"\", color=:red, linestyle=:dash) #label=\"power law, alpha=$(alpha)\")"
   ]
  },
  {
   "cell_type": "code",
   "execution_count": 47,
   "metadata": {},
   "outputs": [
    {
     "data": {
      "text/plain": [
       "0.032755406244338814"
      ]
     },
     "metadata": {},
     "output_type": "display_data"
    }
   ],
   "source": [
    "fit_degrees.power_law.KS(data=degrees)"
   ]
  },
  {
   "cell_type": "code",
   "execution_count": 48,
   "metadata": {},
   "outputs": [
    {
     "data": {
      "text/plain": [
       "0.018720574347945634"
      ]
     },
     "metadata": {},
     "output_type": "display_data"
    }
   ],
   "source": [
    "# Compute the chi_squared goodness of fit = sum( ( observed - expected )^2 / expected )\n",
    "fit_degrees.lognormal.KS(data=degrees)"
   ]
  },
  {
   "cell_type": "code",
   "execution_count": 49,
   "metadata": {},
   "outputs": [
    {
     "data": {
      "text/plain": [
       "(-6.409326660432441, 0.023287618333048207)"
      ]
     },
     "metadata": {},
     "output_type": "display_data"
    }
   ],
   "source": [
    "fit_degrees.distribution_compare(\"power_law\",\"lognormal\")"
   ]
  },
  {
   "cell_type": "code",
   "execution_count": 50,
   "metadata": {},
   "outputs": [
    {
     "data": {
      "text/plain": [
       "(0.0, 1.0)"
      ]
     },
     "metadata": {},
     "output_type": "display_data"
    }
   ],
   "source": [
    "fit_degrees.distribution_compare(\"power_law\",\"power_law\")"
   ]
  },
  {
   "cell_type": "code",
   "execution_count": null,
   "metadata": {},
   "outputs": [],
   "source": [
    "Plots.plot(xlabel = \"k\", ylabel = \"P(k)\")\n",
    "for side in [3,5,8,10,15]\n",
    "    df, df_cubes = region_cube_split(df,side=side)\n",
    "    MG = create_network(df, df_cubes)\n",
    "    degrees=[]\n",
    "    # indegrees=[]\n",
    "    # outdegrees=[]\n",
    "    for i in 1:nv(MG)\n",
    "        push!(degrees, get_prop(MG, i, :degree))\n",
    "        # push!(indegrees, get_prop(MG, i, :indegree))\n",
    "        # push!(outdegrees, get_prop(MG, i, :outdegree))\n",
    "    end\n",
    "\n",
    "    fit = powlaw.Fit(degrees);\n",
    "    alpha = round(fit.alpha,digits=4)\n",
    "\n",
    "    # CCDF of data truncated\n",
    "    x_ccdf, y_ccdf = fit.ccdf()\n",
    "    Plots.plot!(x_ccdf, y_ccdf, xscale=:log10, yscale=:log10, label=\"side=$side, alpha=$alpha\", linewidth=2.5)\n",
    "    \n",
    "    # Theoretical power_law\n",
    "    \n",
    "    fit_degrees_power_law = fit.power_law.plot_ccdf()[:lines][1]\n",
    "    x_powlaw, y_powlaw = fit_degrees_power_law[:get_xdata](), fit_degrees_power_law[:get_ydata]()\n",
    "    Plots.plot!(x_powlaw, y_powlaw, xscale=:log10, yscale=:log10, label=\"\", color=:red, linestyle=:dash) #label=\"power law, alpha=$(alpha)\")\n",
    "    \n",
    "    # # Theoretical lognormal\n",
    "    # mu = round(fit.lognormal.mu, digits=4)\n",
    "    # fit_degrees_lognormal = fit.lognormal.plot_ccdf()[:lines][1]\n",
    "    # x_lognormal, y_lognormal = fit_degrees_lognormal[:get_xdata](), fit_degrees_lognormal[:get_ydata]()\n",
    "    # Plots.plot!(x_lognormal, y_lognormal, xscale=:log10, yscale=:log10, label=\"\") #label=\"lognormal, mu=$(mu)\")\n",
    "\n",
    "end\n",
    "plot!(size=(800,500), legend=:bottomleft)\n",
    "current()\n",
    "Plots.savefig(\"./results/$region/$(region)_mag_$(magnitude_threshold)_ccdfs_and_fits.png\")\n",
    "current()"
   ]
  },
  {
   "cell_type": "code",
   "execution_count": null,
   "metadata": {},
   "outputs": [],
   "source": []
  },
  {
   "cell_type": "code",
   "execution_count": 28,
   "metadata": {},
   "outputs": [
    {
     "ename": "ErrorException",
     "evalue": "syntax: invalid character \"’\" near column 34",
     "output_type": "error",
     "traceback": [
      "syntax: invalid character \"’\" near column 34\n",
      "\n",
      "Stacktrace:\n",
      " [1] top-level scope\n",
      "   @ /media/gabipana/work/Work/PROJECTS/seismic-networks/seismic-networks-julia-dev/connectivity_par_dep_errors.ipynb:1"
     ]
    }
   ],
   "source": [
    "fit_degrees.distribution_compare(’power_law’, ’exponential’)\n"
   ]
  },
  {
   "cell_type": "code",
   "execution_count": 21,
   "metadata": {},
   "outputs": [
    {
     "ename": "UndefVarError",
     "evalue": "UndefVarError: likelihoods not defined",
     "output_type": "error",
     "traceback": [
      "UndefVarError: likelihoods not defined\n",
      "\n",
      "Stacktrace:\n",
      " [1] getproperty(x::Module, f::Symbol)\n",
      "   @ Base ./Base.jl:31\n",
      " [2] top-level scope\n",
      "   @ /media/gabipana/work/Work/PROJECTS/seismic-networks/seismic-networks-julia-dev/connectivity_par_dep_errors.ipynb:1"
     ]
    }
   ],
   "source": [
    "powlaw.likelihoods(degrees)"
   ]
  },
  {
   "cell_type": "code",
   "execution_count": 11,
   "metadata": {},
   "outputs": [
    {
     "data": {
      "text/plain": [
       "1-element Vector{Any}:\n",
       " 10.0"
      ]
     },
     "metadata": {},
     "output_type": "display_data"
    }
   ],
   "source": [
    "degrees_xmin"
   ]
  },
  {
   "cell_type": "code",
   "execution_count": 23,
   "metadata": {},
   "outputs": [
    {
     "ename": "UndefVarError",
     "evalue": "UndefVarError: power_law not defined",
     "output_type": "error",
     "traceback": [
      "UndefVarError: power_law not defined\n",
      "\n",
      "Stacktrace:\n",
      " [1] getproperty(x::Module, f::Symbol)\n",
      "   @ Base ./Base.jl:31\n",
      " [2] top-level scope\n",
      "   @ /media/gabipana/work/Work/PROJECTS/seismic-networks/seismic-networks-julia-dev/connectivity_par_dep_errors.ipynb:1"
     ]
    }
   ],
   "source": [
    "powlaw.power_law.likelihoods(degrees)"
   ]
  },
  {
   "cell_type": "code",
   "execution_count": null,
   "metadata": {},
   "outputs": [],
   "source": []
  }
 ],
 "metadata": {
  "kernelspec": {
   "display_name": "Julia 1.8.5",
   "language": "julia",
   "name": "julia-1.8"
  },
  "language_info": {
   "file_extension": ".jl",
   "mimetype": "application/julia",
   "name": "julia",
   "version": "1.8.5"
  },
  "orig_nbformat": 4
 },
 "nbformat": 4,
 "nbformat_minor": 2
}
