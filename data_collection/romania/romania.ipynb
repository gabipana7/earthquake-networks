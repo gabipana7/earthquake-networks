{
 "cells": [
  {
   "cell_type": "code",
   "execution_count": 2,
   "metadata": {},
   "outputs": [],
   "source": [
    "using CSV, DataFrames, Dates"
   ]
  },
  {
   "cell_type": "code",
   "execution_count": 3,
   "metadata": {},
   "outputs": [
    {
     "data": {
      "text/plain": [
       "\"http://www.infp.ro/data/romplus.txt\""
      ]
     },
     "metadata": {},
     "output_type": "display_data"
    }
   ],
   "source": [
    "url = \"http://www.infp.ro/data/romplus.txt\""
   ]
  },
  {
   "cell_type": "code",
   "execution_count": 4,
   "metadata": {},
   "outputs": [
    {
     "data": {
      "text/plain": [
       "\"./romania.txt\""
      ]
     },
     "metadata": {},
     "output_type": "display_data"
    }
   ],
   "source": [
    "download(url,\"./romania.txt\")\n",
    "# http_response = download(url)\n",
    "# file = CSV.File(http_response)"
   ]
  },
  {
   "cell_type": "code",
   "execution_count": 5,
   "metadata": {},
   "outputs": [
    {
     "data": {
      "text/plain": [
       "seismic_db_parser (generic function with 1 method)"
      ]
     },
     "metadata": {},
     "output_type": "display_data"
    }
   ],
   "source": [
    "# function that parses the downloaded database and extract info to be put in dataframe\n",
    "function seismic_db_parser(filename)\n",
    "\n",
    "    # Declare types of the needed columns\n",
    "    datetime = Vector{String}()\n",
    "    latitude, longitude, depth =  Vector{Float64}(), Vector{Float64}(), Vector{Float64}()\n",
    "    magnitude =  Vector{Float64}()\n",
    "    \n",
    "    # open the file\n",
    "    open(filename) do io\n",
    "        # skip the first line\n",
    "        line = readline(io)\n",
    "        while true\n",
    "            # start reading the lines\n",
    "            line = readline(io)\n",
    "            # detect the end of the line\n",
    "            line == \"\" && break\n",
    "            # push to the vectors, the characters based on the position in the text file\n",
    "            # push!(date,  strip(line[1:10]))\n",
    "            push!(datetime,  strip(line[1:23]))\n",
    "            push!(latitude, parse(Float64,strip(line[38:45])))\n",
    "            push!(longitude, parse(Float64, strip(line[48:56])))\n",
    "            push!(depth, parse(Float64, strip(line[76:80])))\n",
    "            push!(magnitude, parse(Float64, strip(line[108:110])))\n",
    "       end\n",
    "    end\n",
    "    # return the vectors with data as a dataframe\n",
    "    [datetime, latitude, longitude, depth, magnitude]\n",
    "end"
   ]
  },
  {
   "cell_type": "code",
   "execution_count": 6,
   "metadata": {},
   "outputs": [
    {
     "data": {
      "text/plain": [
       "5-element Vector{Vector}:\n",
       " [\"984/01/01  00:00:00.00\", \"1022/05/12  00:00:00.00\", \"1038/08/15  00:00:00.00\", \"1091/01/01  00:00:00.00\", \"1107/02/12  03:00:00.00\", \"1122/10/01  00:00:00.00\", \"1126/08/08  00:00:00.00\", \"1170/04/01  00:00:00.00\", \"1196/02/13  07:00:00.00\", \"1223/01/08  00:00:00.00\"  …  \"2022/12/28  07:38:54.27\", \"2022/12/28  13:15:05.47\", \"2022/12/29  02:06:28.32\", \"2022/12/29  09:28:11.27\", \"2022/12/29  09:42:33.92\", \"2022/12/29  12:16:03.08\", \"2022/12/29  13:11:43.57\", \"2022/12/30  14:23:49.39\", \"2022/12/31  03:16:48.32\", \"2022/12/31  15:24:39.55\"]\n",
       " [45.7, 45.7, 45.7, 45.7, 45.7, 45.7, 45.7, 45.7, 45.7, 46.2  …  45.7505, 46.3193, 45.6714, 45.2972, 45.9596, 46.3226, 45.4378, 45.4639, 45.4082, 45.0022]\n",
       " [26.6, 26.6, 26.6, 26.6, 26.6, 26.6, 26.6, 26.6, 26.6, 24.4  …  26.6086, 23.1806, 26.6291, 25.093, 22.6972, 23.1438, 24.1116, 24.1433, 24.134, 22.6597]\n",
       " [150.0, 150.0, 150.0, 150.0, 150.0, 150.0, 150.0, 150.0, 150.0, 9.9  …  85.2, 2.0, 134.0, 2.0, 3.3, 1.0, 11.7, 14.0, 18.2, 4.5]\n",
       " [7.1, 6.5, 7.3, 7.1, 7.1, 6.2, 7.1, 7.3, 7.5, 5.9  …  2.9, 1.9, 2.8, 1.5, 1.6, 1.7, 2.1, 1.7, 1.7, 2.1]"
      ]
     },
     "metadata": {},
     "output_type": "display_data"
    }
   ],
   "source": [
    "features = seismic_db_parser(\"romania.txt\") "
   ]
  },
  {
   "cell_type": "code",
   "execution_count": 7,
   "metadata": {},
   "outputs": [
    {
     "data": {
      "text/html": [
       "<div><div style = \"float: left;\"><span>32628×5 DataFrame</span></div><div style = \"float: right;\"><span style = \"font-style: italic;\">32603 rows omitted</span></div><div style = \"clear: both;\"></div></div><div class = \"data-frame\" style = \"overflow-x: scroll;\"><table class = \"data-frame\" style = \"margin-bottom: 6px;\"><thead><tr class = \"header\"><th class = \"rowNumber\" style = \"font-weight: bold; text-align: right;\">Row</th><th style = \"text-align: left;\">Datetime</th><th style = \"text-align: left;\">Latitude</th><th style = \"text-align: left;\">Longitude</th><th style = \"text-align: left;\">Depth</th><th style = \"text-align: left;\">Magnitude</th></tr><tr class = \"subheader headerLastRow\"><th class = \"rowNumber\" style = \"font-weight: bold; text-align: right;\"></th><th title = \"String\" style = \"text-align: left;\">String</th><th title = \"Float64\" style = \"text-align: left;\">Float64</th><th title = \"Float64\" style = \"text-align: left;\">Float64</th><th title = \"Float64\" style = \"text-align: left;\">Float64</th><th title = \"Float64\" style = \"text-align: left;\">Float64</th></tr></thead><tbody><tr><td class = \"rowNumber\" style = \"font-weight: bold; text-align: right;\">1</td><td style = \"text-align: left;\">984/01/01  00:00:00.00</td><td style = \"text-align: right;\">45.7</td><td style = \"text-align: right;\">26.6</td><td style = \"text-align: right;\">150.0</td><td style = \"text-align: right;\">7.1</td></tr><tr><td class = \"rowNumber\" style = \"font-weight: bold; text-align: right;\">2</td><td style = \"text-align: left;\">1022/05/12  00:00:00.00</td><td style = \"text-align: right;\">45.7</td><td style = \"text-align: right;\">26.6</td><td style = \"text-align: right;\">150.0</td><td style = \"text-align: right;\">6.5</td></tr><tr><td class = \"rowNumber\" style = \"font-weight: bold; text-align: right;\">3</td><td style = \"text-align: left;\">1038/08/15  00:00:00.00</td><td style = \"text-align: right;\">45.7</td><td style = \"text-align: right;\">26.6</td><td style = \"text-align: right;\">150.0</td><td style = \"text-align: right;\">7.3</td></tr><tr><td class = \"rowNumber\" style = \"font-weight: bold; text-align: right;\">4</td><td style = \"text-align: left;\">1091/01/01  00:00:00.00</td><td style = \"text-align: right;\">45.7</td><td style = \"text-align: right;\">26.6</td><td style = \"text-align: right;\">150.0</td><td style = \"text-align: right;\">7.1</td></tr><tr><td class = \"rowNumber\" style = \"font-weight: bold; text-align: right;\">5</td><td style = \"text-align: left;\">1107/02/12  03:00:00.00</td><td style = \"text-align: right;\">45.7</td><td style = \"text-align: right;\">26.6</td><td style = \"text-align: right;\">150.0</td><td style = \"text-align: right;\">7.1</td></tr><tr><td class = \"rowNumber\" style = \"font-weight: bold; text-align: right;\">6</td><td style = \"text-align: left;\">1122/10/01  00:00:00.00</td><td style = \"text-align: right;\">45.7</td><td style = \"text-align: right;\">26.6</td><td style = \"text-align: right;\">150.0</td><td style = \"text-align: right;\">6.2</td></tr><tr><td class = \"rowNumber\" style = \"font-weight: bold; text-align: right;\">7</td><td style = \"text-align: left;\">1126/08/08  00:00:00.00</td><td style = \"text-align: right;\">45.7</td><td style = \"text-align: right;\">26.6</td><td style = \"text-align: right;\">150.0</td><td style = \"text-align: right;\">7.1</td></tr><tr><td class = \"rowNumber\" style = \"font-weight: bold; text-align: right;\">8</td><td style = \"text-align: left;\">1170/04/01  00:00:00.00</td><td style = \"text-align: right;\">45.7</td><td style = \"text-align: right;\">26.6</td><td style = \"text-align: right;\">150.0</td><td style = \"text-align: right;\">7.3</td></tr><tr><td class = \"rowNumber\" style = \"font-weight: bold; text-align: right;\">9</td><td style = \"text-align: left;\">1196/02/13  07:00:00.00</td><td style = \"text-align: right;\">45.7</td><td style = \"text-align: right;\">26.6</td><td style = \"text-align: right;\">150.0</td><td style = \"text-align: right;\">7.5</td></tr><tr><td class = \"rowNumber\" style = \"font-weight: bold; text-align: right;\">10</td><td style = \"text-align: left;\">1223/01/08  00:00:00.00</td><td style = \"text-align: right;\">46.2</td><td style = \"text-align: right;\">24.4</td><td style = \"text-align: right;\">9.9</td><td style = \"text-align: right;\">5.9</td></tr><tr><td class = \"rowNumber\" style = \"font-weight: bold; text-align: right;\">11</td><td style = \"text-align: left;\">1230/05/10  07:00:00.00</td><td style = \"text-align: right;\">45.7</td><td style = \"text-align: right;\">26.6</td><td style = \"text-align: right;\">150.0</td><td style = \"text-align: right;\">7.3</td></tr><tr><td class = \"rowNumber\" style = \"font-weight: bold; text-align: right;\">12</td><td style = \"text-align: left;\">1258/02/07  13:00:00.00</td><td style = \"text-align: right;\">45.7</td><td style = \"text-align: right;\">26.6</td><td style = \"text-align: right;\">150.0</td><td style = \"text-align: right;\">7.1</td></tr><tr><td class = \"rowNumber\" style = \"font-weight: bold; text-align: right;\">13</td><td style = \"text-align: left;\">1327/01/01  00:00:00.00</td><td style = \"text-align: right;\">45.7</td><td style = \"text-align: right;\">26.6</td><td style = \"text-align: right;\">150.0</td><td style = \"text-align: right;\">7.3</td></tr><tr><td style = \"text-align: right;\">&vellip;</td><td style = \"text-align: right;\">&vellip;</td><td style = \"text-align: right;\">&vellip;</td><td style = \"text-align: right;\">&vellip;</td><td style = \"text-align: right;\">&vellip;</td><td style = \"text-align: right;\">&vellip;</td></tr><tr><td class = \"rowNumber\" style = \"font-weight: bold; text-align: right;\">32617</td><td style = \"text-align: left;\">2022/12/26  13:48:35.86</td><td style = \"text-align: right;\">47.28</td><td style = \"text-align: right;\">23.8104</td><td style = \"text-align: right;\">2.0</td><td style = \"text-align: right;\">2.0</td></tr><tr><td class = \"rowNumber\" style = \"font-weight: bold; text-align: right;\">32618</td><td style = \"text-align: left;\">2022/12/27  16:00:52.89</td><td style = \"text-align: right;\">45.5211</td><td style = \"text-align: right;\">26.4184</td><td style = \"text-align: right;\">110.2</td><td style = \"text-align: right;\">2.5</td></tr><tr><td class = \"rowNumber\" style = \"font-weight: bold; text-align: right;\">32619</td><td style = \"text-align: left;\">2022/12/28  07:38:54.27</td><td style = \"text-align: right;\">45.7505</td><td style = \"text-align: right;\">26.6086</td><td style = \"text-align: right;\">85.2</td><td style = \"text-align: right;\">2.9</td></tr><tr><td class = \"rowNumber\" style = \"font-weight: bold; text-align: right;\">32620</td><td style = \"text-align: left;\">2022/12/28  13:15:05.47</td><td style = \"text-align: right;\">46.3193</td><td style = \"text-align: right;\">23.1806</td><td style = \"text-align: right;\">2.0</td><td style = \"text-align: right;\">1.9</td></tr><tr><td class = \"rowNumber\" style = \"font-weight: bold; text-align: right;\">32621</td><td style = \"text-align: left;\">2022/12/29  02:06:28.32</td><td style = \"text-align: right;\">45.6714</td><td style = \"text-align: right;\">26.6291</td><td style = \"text-align: right;\">134.0</td><td style = \"text-align: right;\">2.8</td></tr><tr><td class = \"rowNumber\" style = \"font-weight: bold; text-align: right;\">32622</td><td style = \"text-align: left;\">2022/12/29  09:28:11.27</td><td style = \"text-align: right;\">45.2972</td><td style = \"text-align: right;\">25.093</td><td style = \"text-align: right;\">2.0</td><td style = \"text-align: right;\">1.5</td></tr><tr><td class = \"rowNumber\" style = \"font-weight: bold; text-align: right;\">32623</td><td style = \"text-align: left;\">2022/12/29  09:42:33.92</td><td style = \"text-align: right;\">45.9596</td><td style = \"text-align: right;\">22.6972</td><td style = \"text-align: right;\">3.3</td><td style = \"text-align: right;\">1.6</td></tr><tr><td class = \"rowNumber\" style = \"font-weight: bold; text-align: right;\">32624</td><td style = \"text-align: left;\">2022/12/29  12:16:03.08</td><td style = \"text-align: right;\">46.3226</td><td style = \"text-align: right;\">23.1438</td><td style = \"text-align: right;\">1.0</td><td style = \"text-align: right;\">1.7</td></tr><tr><td class = \"rowNumber\" style = \"font-weight: bold; text-align: right;\">32625</td><td style = \"text-align: left;\">2022/12/29  13:11:43.57</td><td style = \"text-align: right;\">45.4378</td><td style = \"text-align: right;\">24.1116</td><td style = \"text-align: right;\">11.7</td><td style = \"text-align: right;\">2.1</td></tr><tr><td class = \"rowNumber\" style = \"font-weight: bold; text-align: right;\">32626</td><td style = \"text-align: left;\">2022/12/30  14:23:49.39</td><td style = \"text-align: right;\">45.4639</td><td style = \"text-align: right;\">24.1433</td><td style = \"text-align: right;\">14.0</td><td style = \"text-align: right;\">1.7</td></tr><tr><td class = \"rowNumber\" style = \"font-weight: bold; text-align: right;\">32627</td><td style = \"text-align: left;\">2022/12/31  03:16:48.32</td><td style = \"text-align: right;\">45.4082</td><td style = \"text-align: right;\">24.134</td><td style = \"text-align: right;\">18.2</td><td style = \"text-align: right;\">1.7</td></tr><tr><td class = \"rowNumber\" style = \"font-weight: bold; text-align: right;\">32628</td><td style = \"text-align: left;\">2022/12/31  15:24:39.55</td><td style = \"text-align: right;\">45.0022</td><td style = \"text-align: right;\">22.6597</td><td style = \"text-align: right;\">4.5</td><td style = \"text-align: right;\">2.1</td></tr></tbody></table></div>"
      ],
      "text/latex": [
       "\\begin{tabular}{r|ccccc}\n",
       "\t& Datetime & Latitude & Longitude & Depth & Magnitude\\\\\n",
       "\t\\hline\n",
       "\t& String & Float64 & Float64 & Float64 & Float64\\\\\n",
       "\t\\hline\n",
       "\t1 & 984/01/01  00:00:00.00 & 45.7 & 26.6 & 150.0 & 7.1 \\\\\n",
       "\t2 & 1022/05/12  00:00:00.00 & 45.7 & 26.6 & 150.0 & 6.5 \\\\\n",
       "\t3 & 1038/08/15  00:00:00.00 & 45.7 & 26.6 & 150.0 & 7.3 \\\\\n",
       "\t4 & 1091/01/01  00:00:00.00 & 45.7 & 26.6 & 150.0 & 7.1 \\\\\n",
       "\t5 & 1107/02/12  03:00:00.00 & 45.7 & 26.6 & 150.0 & 7.1 \\\\\n",
       "\t6 & 1122/10/01  00:00:00.00 & 45.7 & 26.6 & 150.0 & 6.2 \\\\\n",
       "\t7 & 1126/08/08  00:00:00.00 & 45.7 & 26.6 & 150.0 & 7.1 \\\\\n",
       "\t8 & 1170/04/01  00:00:00.00 & 45.7 & 26.6 & 150.0 & 7.3 \\\\\n",
       "\t9 & 1196/02/13  07:00:00.00 & 45.7 & 26.6 & 150.0 & 7.5 \\\\\n",
       "\t10 & 1223/01/08  00:00:00.00 & 46.2 & 24.4 & 9.9 & 5.9 \\\\\n",
       "\t11 & 1230/05/10  07:00:00.00 & 45.7 & 26.6 & 150.0 & 7.3 \\\\\n",
       "\t12 & 1258/02/07  13:00:00.00 & 45.7 & 26.6 & 150.0 & 7.1 \\\\\n",
       "\t13 & 1327/01/01  00:00:00.00 & 45.7 & 26.6 & 150.0 & 7.3 \\\\\n",
       "\t14 & 1444/08/04  00:00:00.00 & 46.2 & 20.1 & 40.0 & 6.0 \\\\\n",
       "\t15 & 1446/10/10  04:00:00.00 & 45.7 & 26.6 & 150.0 & 7.5 \\\\\n",
       "\t16 & 1471/08/29  10:00:00.00 & 45.7 & 26.6 & 110.0 & 7.5 \\\\\n",
       "\t17 & 1473/08/29  00:00:00.00 & 45.7 & 26.6 & 150.0 & 7.3 \\\\\n",
       "\t18 & 1516/11/24  12:00:00.00 & 45.7 & 26.6 & 150.0 & 7.5 \\\\\n",
       "\t19 & 1517/02/06  00:00:00.00 & 46.0 & 25.2 & 9.9 & 5.3 \\\\\n",
       "\t20 & 1523/06/09  00:00:00.00 & 45.7 & 26.6 & 130.0 & 6.5 \\\\\n",
       "\t21 & 1523/11/19  00:00:00.00 & 46.2 & 24.4 & 9.9 & 5.9 \\\\\n",
       "\t22 & 1543/01/01  00:00:00.00 & 45.7 & 26.6 & 150.0 & 7.1 \\\\\n",
       "\t23 & 1545/07/19  08:00:00.00 & 45.7 & 26.6 & 110.0 & 7.1 \\\\\n",
       "\t24 & 1550/10/26  01:00:00.00 & 45.8 & 24.2 & 9.9 & 6.5 \\\\\n",
       "\t$\\dots$ & $\\dots$ & $\\dots$ & $\\dots$ & $\\dots$ & $\\dots$ \\\\\n",
       "\\end{tabular}\n"
      ],
      "text/plain": [
       "\u001b[1m32628×5 DataFrame\u001b[0m\n",
       "\u001b[1m   Row \u001b[0m│\u001b[1m Datetime                \u001b[0m\u001b[1m Latitude \u001b[0m\u001b[1m Longitude \u001b[0m\u001b[1m Depth   \u001b[0m\u001b[1m Magnitude \u001b[0m\n",
       "       │\u001b[90m String                  \u001b[0m\u001b[90m Float64  \u001b[0m\u001b[90m Float64   \u001b[0m\u001b[90m Float64 \u001b[0m\u001b[90m Float64   \u001b[0m\n",
       "───────┼──────────────────────────────────────────────────────────────────\n",
       "     1 │ 984/01/01  00:00:00.00    45.7       26.6       150.0        7.1\n",
       "     2 │ 1022/05/12  00:00:00.00   45.7       26.6       150.0        6.5\n",
       "     3 │ 1038/08/15  00:00:00.00   45.7       26.6       150.0        7.3\n",
       "     4 │ 1091/01/01  00:00:00.00   45.7       26.6       150.0        7.1\n",
       "     5 │ 1107/02/12  03:00:00.00   45.7       26.6       150.0        7.1\n",
       "     6 │ 1122/10/01  00:00:00.00   45.7       26.6       150.0        6.2\n",
       "     7 │ 1126/08/08  00:00:00.00   45.7       26.6       150.0        7.1\n",
       "     8 │ 1170/04/01  00:00:00.00   45.7       26.6       150.0        7.3\n",
       "   ⋮   │            ⋮                ⋮          ⋮         ⋮         ⋮\n",
       " 32622 │ 2022/12/29  09:28:11.27   45.2972    25.093       2.0        1.5\n",
       " 32623 │ 2022/12/29  09:42:33.92   45.9596    22.6972      3.3        1.6\n",
       " 32624 │ 2022/12/29  12:16:03.08   46.3226    23.1438      1.0        1.7\n",
       " 32625 │ 2022/12/29  13:11:43.57   45.4378    24.1116     11.7        2.1\n",
       " 32626 │ 2022/12/30  14:23:49.39   45.4639    24.1433     14.0        1.7\n",
       " 32627 │ 2022/12/31  03:16:48.32   45.4082    24.134      18.2        1.7\n",
       " 32628 │ 2022/12/31  15:24:39.55   45.0022    22.6597      4.5        2.1\n",
       "\u001b[36m                                                        32613 rows omitted\u001b[0m"
      ]
     },
     "metadata": {},
     "output_type": "display_data"
    }
   ],
   "source": [
    "df = DataFrame(Datetime=features[1], \n",
    "                Latitude=features[2], Longitude=features[3], Depth=features[4],\n",
    "                Magnitude=features[5])"
   ]
  },
  {
   "cell_type": "code",
   "execution_count": 8,
   "metadata": {},
   "outputs": [
    {
     "data": {
      "text/plain": [
       "dateformat\"yyyy/mm/dd  HH:MM:SS.s\""
      ]
     },
     "metadata": {},
     "output_type": "display_data"
    }
   ],
   "source": [
    "dateformat = dateformat\"yyyy/mm/dd  HH:MM:SS.s\""
   ]
  },
  {
   "cell_type": "code",
   "execution_count": 9,
   "metadata": {},
   "outputs": [
    {
     "data": {
      "text/plain": [
       "32628-element Vector{DateTime}:\n",
       " 0984-01-01T00:00:00\n",
       " 1022-05-12T00:00:00\n",
       " 1038-08-15T00:00:00\n",
       " 1091-01-01T00:00:00\n",
       " 1107-02-12T03:00:00\n",
       " 1122-10-01T00:00:00\n",
       " 1126-08-08T00:00:00\n",
       " 1170-04-01T00:00:00\n",
       " 1196-02-13T07:00:00\n",
       " 1223-01-08T00:00:00\n",
       " ⋮\n",
       " 2022-12-28T13:15:05.470\n",
       " 2022-12-29T02:06:28.320\n",
       " 2022-12-29T09:28:11.270\n",
       " 2022-12-29T09:42:33.920\n",
       " 2022-12-29T12:16:03.080\n",
       " 2022-12-29T13:11:43.570\n",
       " 2022-12-30T14:23:49.390\n",
       " 2022-12-31T03:16:48.320\n",
       " 2022-12-31T15:24:39.550"
      ]
     },
     "metadata": {},
     "output_type": "display_data"
    }
   ],
   "source": [
    "df.Datetime = DateTime.(df.Datetime, dateformat)"
   ]
  },
  {
   "cell_type": "code",
   "execution_count": 10,
   "metadata": {},
   "outputs": [
    {
     "data": {
      "text/html": [
       "<div><div style = \"float: left;\"><span>32628×5 DataFrame</span></div><div style = \"float: right;\"><span style = \"font-style: italic;\">32603 rows omitted</span></div><div style = \"clear: both;\"></div></div><div class = \"data-frame\" style = \"overflow-x: scroll;\"><table class = \"data-frame\" style = \"margin-bottom: 6px;\"><thead><tr class = \"header\"><th class = \"rowNumber\" style = \"font-weight: bold; text-align: right;\">Row</th><th style = \"text-align: left;\">Datetime</th><th style = \"text-align: left;\">Latitude</th><th style = \"text-align: left;\">Longitude</th><th style = \"text-align: left;\">Depth</th><th style = \"text-align: left;\">Magnitude</th></tr><tr class = \"subheader headerLastRow\"><th class = \"rowNumber\" style = \"font-weight: bold; text-align: right;\"></th><th title = \"DateTime\" style = \"text-align: left;\">DateTime</th><th title = \"Float64\" style = \"text-align: left;\">Float64</th><th title = \"Float64\" style = \"text-align: left;\">Float64</th><th title = \"Float64\" style = \"text-align: left;\">Float64</th><th title = \"Float64\" style = \"text-align: left;\">Float64</th></tr></thead><tbody><tr><td class = \"rowNumber\" style = \"font-weight: bold; text-align: right;\">1</td><td style = \"text-align: left;\">0984-01-01T00:00:00</td><td style = \"text-align: right;\">45.7</td><td style = \"text-align: right;\">26.6</td><td style = \"text-align: right;\">150.0</td><td style = \"text-align: right;\">7.1</td></tr><tr><td class = \"rowNumber\" style = \"font-weight: bold; text-align: right;\">2</td><td style = \"text-align: left;\">1022-05-12T00:00:00</td><td style = \"text-align: right;\">45.7</td><td style = \"text-align: right;\">26.6</td><td style = \"text-align: right;\">150.0</td><td style = \"text-align: right;\">6.5</td></tr><tr><td class = \"rowNumber\" style = \"font-weight: bold; text-align: right;\">3</td><td style = \"text-align: left;\">1038-08-15T00:00:00</td><td style = \"text-align: right;\">45.7</td><td style = \"text-align: right;\">26.6</td><td style = \"text-align: right;\">150.0</td><td style = \"text-align: right;\">7.3</td></tr><tr><td class = \"rowNumber\" style = \"font-weight: bold; text-align: right;\">4</td><td style = \"text-align: left;\">1091-01-01T00:00:00</td><td style = \"text-align: right;\">45.7</td><td style = \"text-align: right;\">26.6</td><td style = \"text-align: right;\">150.0</td><td style = \"text-align: right;\">7.1</td></tr><tr><td class = \"rowNumber\" style = \"font-weight: bold; text-align: right;\">5</td><td style = \"text-align: left;\">1107-02-12T03:00:00</td><td style = \"text-align: right;\">45.7</td><td style = \"text-align: right;\">26.6</td><td style = \"text-align: right;\">150.0</td><td style = \"text-align: right;\">7.1</td></tr><tr><td class = \"rowNumber\" style = \"font-weight: bold; text-align: right;\">6</td><td style = \"text-align: left;\">1122-10-01T00:00:00</td><td style = \"text-align: right;\">45.7</td><td style = \"text-align: right;\">26.6</td><td style = \"text-align: right;\">150.0</td><td style = \"text-align: right;\">6.2</td></tr><tr><td class = \"rowNumber\" style = \"font-weight: bold; text-align: right;\">7</td><td style = \"text-align: left;\">1126-08-08T00:00:00</td><td style = \"text-align: right;\">45.7</td><td style = \"text-align: right;\">26.6</td><td style = \"text-align: right;\">150.0</td><td style = \"text-align: right;\">7.1</td></tr><tr><td class = \"rowNumber\" style = \"font-weight: bold; text-align: right;\">8</td><td style = \"text-align: left;\">1170-04-01T00:00:00</td><td style = \"text-align: right;\">45.7</td><td style = \"text-align: right;\">26.6</td><td style = \"text-align: right;\">150.0</td><td style = \"text-align: right;\">7.3</td></tr><tr><td class = \"rowNumber\" style = \"font-weight: bold; text-align: right;\">9</td><td style = \"text-align: left;\">1196-02-13T07:00:00</td><td style = \"text-align: right;\">45.7</td><td style = \"text-align: right;\">26.6</td><td style = \"text-align: right;\">150.0</td><td style = \"text-align: right;\">7.5</td></tr><tr><td class = \"rowNumber\" style = \"font-weight: bold; text-align: right;\">10</td><td style = \"text-align: left;\">1223-01-08T00:00:00</td><td style = \"text-align: right;\">46.2</td><td style = \"text-align: right;\">24.4</td><td style = \"text-align: right;\">9.9</td><td style = \"text-align: right;\">5.9</td></tr><tr><td class = \"rowNumber\" style = \"font-weight: bold; text-align: right;\">11</td><td style = \"text-align: left;\">1230-05-10T07:00:00</td><td style = \"text-align: right;\">45.7</td><td style = \"text-align: right;\">26.6</td><td style = \"text-align: right;\">150.0</td><td style = \"text-align: right;\">7.3</td></tr><tr><td class = \"rowNumber\" style = \"font-weight: bold; text-align: right;\">12</td><td style = \"text-align: left;\">1258-02-07T13:00:00</td><td style = \"text-align: right;\">45.7</td><td style = \"text-align: right;\">26.6</td><td style = \"text-align: right;\">150.0</td><td style = \"text-align: right;\">7.1</td></tr><tr><td class = \"rowNumber\" style = \"font-weight: bold; text-align: right;\">13</td><td style = \"text-align: left;\">1327-01-01T00:00:00</td><td style = \"text-align: right;\">45.7</td><td style = \"text-align: right;\">26.6</td><td style = \"text-align: right;\">150.0</td><td style = \"text-align: right;\">7.3</td></tr><tr><td style = \"text-align: right;\">&vellip;</td><td style = \"text-align: right;\">&vellip;</td><td style = \"text-align: right;\">&vellip;</td><td style = \"text-align: right;\">&vellip;</td><td style = \"text-align: right;\">&vellip;</td><td style = \"text-align: right;\">&vellip;</td></tr><tr><td class = \"rowNumber\" style = \"font-weight: bold; text-align: right;\">32617</td><td style = \"text-align: left;\">2022-12-26T13:48:35.860</td><td style = \"text-align: right;\">47.28</td><td style = \"text-align: right;\">23.8104</td><td style = \"text-align: right;\">2.0</td><td style = \"text-align: right;\">2.0</td></tr><tr><td class = \"rowNumber\" style = \"font-weight: bold; text-align: right;\">32618</td><td style = \"text-align: left;\">2022-12-27T16:00:52.890</td><td style = \"text-align: right;\">45.5211</td><td style = \"text-align: right;\">26.4184</td><td style = \"text-align: right;\">110.2</td><td style = \"text-align: right;\">2.5</td></tr><tr><td class = \"rowNumber\" style = \"font-weight: bold; text-align: right;\">32619</td><td style = \"text-align: left;\">2022-12-28T07:38:54.270</td><td style = \"text-align: right;\">45.7505</td><td style = \"text-align: right;\">26.6086</td><td style = \"text-align: right;\">85.2</td><td style = \"text-align: right;\">2.9</td></tr><tr><td class = \"rowNumber\" style = \"font-weight: bold; text-align: right;\">32620</td><td style = \"text-align: left;\">2022-12-28T13:15:05.470</td><td style = \"text-align: right;\">46.3193</td><td style = \"text-align: right;\">23.1806</td><td style = \"text-align: right;\">2.0</td><td style = \"text-align: right;\">1.9</td></tr><tr><td class = \"rowNumber\" style = \"font-weight: bold; text-align: right;\">32621</td><td style = \"text-align: left;\">2022-12-29T02:06:28.320</td><td style = \"text-align: right;\">45.6714</td><td style = \"text-align: right;\">26.6291</td><td style = \"text-align: right;\">134.0</td><td style = \"text-align: right;\">2.8</td></tr><tr><td class = \"rowNumber\" style = \"font-weight: bold; text-align: right;\">32622</td><td style = \"text-align: left;\">2022-12-29T09:28:11.270</td><td style = \"text-align: right;\">45.2972</td><td style = \"text-align: right;\">25.093</td><td style = \"text-align: right;\">2.0</td><td style = \"text-align: right;\">1.5</td></tr><tr><td class = \"rowNumber\" style = \"font-weight: bold; text-align: right;\">32623</td><td style = \"text-align: left;\">2022-12-29T09:42:33.920</td><td style = \"text-align: right;\">45.9596</td><td style = \"text-align: right;\">22.6972</td><td style = \"text-align: right;\">3.3</td><td style = \"text-align: right;\">1.6</td></tr><tr><td class = \"rowNumber\" style = \"font-weight: bold; text-align: right;\">32624</td><td style = \"text-align: left;\">2022-12-29T12:16:03.080</td><td style = \"text-align: right;\">46.3226</td><td style = \"text-align: right;\">23.1438</td><td style = \"text-align: right;\">1.0</td><td style = \"text-align: right;\">1.7</td></tr><tr><td class = \"rowNumber\" style = \"font-weight: bold; text-align: right;\">32625</td><td style = \"text-align: left;\">2022-12-29T13:11:43.570</td><td style = \"text-align: right;\">45.4378</td><td style = \"text-align: right;\">24.1116</td><td style = \"text-align: right;\">11.7</td><td style = \"text-align: right;\">2.1</td></tr><tr><td class = \"rowNumber\" style = \"font-weight: bold; text-align: right;\">32626</td><td style = \"text-align: left;\">2022-12-30T14:23:49.390</td><td style = \"text-align: right;\">45.4639</td><td style = \"text-align: right;\">24.1433</td><td style = \"text-align: right;\">14.0</td><td style = \"text-align: right;\">1.7</td></tr><tr><td class = \"rowNumber\" style = \"font-weight: bold; text-align: right;\">32627</td><td style = \"text-align: left;\">2022-12-31T03:16:48.320</td><td style = \"text-align: right;\">45.4082</td><td style = \"text-align: right;\">24.134</td><td style = \"text-align: right;\">18.2</td><td style = \"text-align: right;\">1.7</td></tr><tr><td class = \"rowNumber\" style = \"font-weight: bold; text-align: right;\">32628</td><td style = \"text-align: left;\">2022-12-31T15:24:39.550</td><td style = \"text-align: right;\">45.0022</td><td style = \"text-align: right;\">22.6597</td><td style = \"text-align: right;\">4.5</td><td style = \"text-align: right;\">2.1</td></tr></tbody></table></div>"
      ],
      "text/latex": [
       "\\begin{tabular}{r|ccccc}\n",
       "\t& Datetime & Latitude & Longitude & Depth & Magnitude\\\\\n",
       "\t\\hline\n",
       "\t& DateTime & Float64 & Float64 & Float64 & Float64\\\\\n",
       "\t\\hline\n",
       "\t1 & 0984-01-01T00:00:00 & 45.7 & 26.6 & 150.0 & 7.1 \\\\\n",
       "\t2 & 1022-05-12T00:00:00 & 45.7 & 26.6 & 150.0 & 6.5 \\\\\n",
       "\t3 & 1038-08-15T00:00:00 & 45.7 & 26.6 & 150.0 & 7.3 \\\\\n",
       "\t4 & 1091-01-01T00:00:00 & 45.7 & 26.6 & 150.0 & 7.1 \\\\\n",
       "\t5 & 1107-02-12T03:00:00 & 45.7 & 26.6 & 150.0 & 7.1 \\\\\n",
       "\t6 & 1122-10-01T00:00:00 & 45.7 & 26.6 & 150.0 & 6.2 \\\\\n",
       "\t7 & 1126-08-08T00:00:00 & 45.7 & 26.6 & 150.0 & 7.1 \\\\\n",
       "\t8 & 1170-04-01T00:00:00 & 45.7 & 26.6 & 150.0 & 7.3 \\\\\n",
       "\t9 & 1196-02-13T07:00:00 & 45.7 & 26.6 & 150.0 & 7.5 \\\\\n",
       "\t10 & 1223-01-08T00:00:00 & 46.2 & 24.4 & 9.9 & 5.9 \\\\\n",
       "\t11 & 1230-05-10T07:00:00 & 45.7 & 26.6 & 150.0 & 7.3 \\\\\n",
       "\t12 & 1258-02-07T13:00:00 & 45.7 & 26.6 & 150.0 & 7.1 \\\\\n",
       "\t13 & 1327-01-01T00:00:00 & 45.7 & 26.6 & 150.0 & 7.3 \\\\\n",
       "\t14 & 1444-08-04T00:00:00 & 46.2 & 20.1 & 40.0 & 6.0 \\\\\n",
       "\t15 & 1446-10-10T04:00:00 & 45.7 & 26.6 & 150.0 & 7.5 \\\\\n",
       "\t16 & 1471-08-29T10:00:00 & 45.7 & 26.6 & 110.0 & 7.5 \\\\\n",
       "\t17 & 1473-08-29T00:00:00 & 45.7 & 26.6 & 150.0 & 7.3 \\\\\n",
       "\t18 & 1516-11-24T12:00:00 & 45.7 & 26.6 & 150.0 & 7.5 \\\\\n",
       "\t19 & 1517-02-06T00:00:00 & 46.0 & 25.2 & 9.9 & 5.3 \\\\\n",
       "\t20 & 1523-06-09T00:00:00 & 45.7 & 26.6 & 130.0 & 6.5 \\\\\n",
       "\t21 & 1523-11-19T00:00:00 & 46.2 & 24.4 & 9.9 & 5.9 \\\\\n",
       "\t22 & 1543-01-01T00:00:00 & 45.7 & 26.6 & 150.0 & 7.1 \\\\\n",
       "\t23 & 1545-07-19T08:00:00 & 45.7 & 26.6 & 110.0 & 7.1 \\\\\n",
       "\t24 & 1550-10-26T01:00:00 & 45.8 & 24.2 & 9.9 & 6.5 \\\\\n",
       "\t$\\dots$ & $\\dots$ & $\\dots$ & $\\dots$ & $\\dots$ & $\\dots$ \\\\\n",
       "\\end{tabular}\n"
      ],
      "text/plain": [
       "\u001b[1m32628×5 DataFrame\u001b[0m\n",
       "\u001b[1m   Row \u001b[0m│\u001b[1m Datetime                \u001b[0m\u001b[1m Latitude \u001b[0m\u001b[1m Longitude \u001b[0m\u001b[1m Depth   \u001b[0m\u001b[1m Magnitude \u001b[0m\n",
       "       │\u001b[90m DateTime                \u001b[0m\u001b[90m Float64  \u001b[0m\u001b[90m Float64   \u001b[0m\u001b[90m Float64 \u001b[0m\u001b[90m Float64   \u001b[0m\n",
       "───────┼──────────────────────────────────────────────────────────────────\n",
       "     1 │ 0984-01-01T00:00:00       45.7       26.6       150.0        7.1\n",
       "     2 │ 1022-05-12T00:00:00       45.7       26.6       150.0        6.5\n",
       "     3 │ 1038-08-15T00:00:00       45.7       26.6       150.0        7.3\n",
       "     4 │ 1091-01-01T00:00:00       45.7       26.6       150.0        7.1\n",
       "     5 │ 1107-02-12T03:00:00       45.7       26.6       150.0        7.1\n",
       "     6 │ 1122-10-01T00:00:00       45.7       26.6       150.0        6.2\n",
       "     7 │ 1126-08-08T00:00:00       45.7       26.6       150.0        7.1\n",
       "     8 │ 1170-04-01T00:00:00       45.7       26.6       150.0        7.3\n",
       "   ⋮   │            ⋮                ⋮          ⋮         ⋮         ⋮\n",
       " 32622 │ 2022-12-29T09:28:11.270   45.2972    25.093       2.0        1.5\n",
       " 32623 │ 2022-12-29T09:42:33.920   45.9596    22.6972      3.3        1.6\n",
       " 32624 │ 2022-12-29T12:16:03.080   46.3226    23.1438      1.0        1.7\n",
       " 32625 │ 2022-12-29T13:11:43.570   45.4378    24.1116     11.7        2.1\n",
       " 32626 │ 2022-12-30T14:23:49.390   45.4639    24.1433     14.0        1.7\n",
       " 32627 │ 2022-12-31T03:16:48.320   45.4082    24.134      18.2        1.7\n",
       " 32628 │ 2022-12-31T15:24:39.550   45.0022    22.6597      4.5        2.1\n",
       "\u001b[36m                                                        32613 rows omitted\u001b[0m"
      ]
     },
     "metadata": {},
     "output_type": "display_data"
    }
   ],
   "source": [
    "df"
   ]
  },
  {
   "cell_type": "code",
   "execution_count": null,
   "metadata": {},
   "outputs": [],
   "source": []
  },
  {
   "cell_type": "code",
   "execution_count": 11,
   "metadata": {},
   "outputs": [],
   "source": []
  },
  {
   "cell_type": "code",
   "execution_count": 13,
   "metadata": {},
   "outputs": [
    {
     "data": {
      "text/html": [
       "<div><div style = \"float: left;\"><span>339×5 DataFrame</span></div><div style = \"float: right;\"><span style = \"font-style: italic;\">314 rows omitted</span></div><div style = \"clear: both;\"></div></div><div class = \"data-frame\" style = \"overflow-x: scroll;\"><table class = \"data-frame\" style = \"margin-bottom: 6px;\"><thead><tr class = \"header\"><th class = \"rowNumber\" style = \"font-weight: bold; text-align: right;\">Row</th><th style = \"text-align: left;\">Datetime</th><th style = \"text-align: left;\">Latitude</th><th style = \"text-align: left;\">Longitude</th><th style = \"text-align: left;\">Depth</th><th style = \"text-align: left;\">Magnitude</th></tr><tr class = \"subheader headerLastRow\"><th class = \"rowNumber\" style = \"font-weight: bold; text-align: right;\"></th><th title = \"DateTime\" style = \"text-align: left;\">DateTime</th><th title = \"Float64\" style = \"text-align: left;\">Float64</th><th title = \"Float64\" style = \"text-align: left;\">Float64</th><th title = \"Float64\" style = \"text-align: left;\">Float64</th><th title = \"Float64\" style = \"text-align: left;\">Float64</th></tr></thead><tbody><tr><td class = \"rowNumber\" style = \"font-weight: bold; text-align: right;\">1</td><td style = \"text-align: left;\">1802-10-26T20:30:00</td><td style = \"text-align: right;\">45.7</td><td style = \"text-align: right;\">26.6</td><td style = \"text-align: right;\">99.9</td><td style = \"text-align: right;\">0.0</td></tr><tr><td class = \"rowNumber\" style = \"font-weight: bold; text-align: right;\">2</td><td style = \"text-align: left;\">1802-10-27T01:00:00</td><td style = \"text-align: right;\">45.7</td><td style = \"text-align: right;\">26.6</td><td style = \"text-align: right;\">99.9</td><td style = \"text-align: right;\">0.0</td></tr><tr><td class = \"rowNumber\" style = \"font-weight: bold; text-align: right;\">3</td><td style = \"text-align: left;\">1802-10-28T00:00:00</td><td style = \"text-align: right;\">45.7</td><td style = \"text-align: right;\">26.6</td><td style = \"text-align: right;\">99.9</td><td style = \"text-align: right;\">0.0</td></tr><tr><td class = \"rowNumber\" style = \"font-weight: bold; text-align: right;\">4</td><td style = \"text-align: left;\">1802-11-07T00:00:00</td><td style = \"text-align: right;\">45.7</td><td style = \"text-align: right;\">26.6</td><td style = \"text-align: right;\">99.9</td><td style = \"text-align: right;\">0.0</td></tr><tr><td class = \"rowNumber\" style = \"font-weight: bold; text-align: right;\">5</td><td style = \"text-align: left;\">1829-07-01T01:37:00</td><td style = \"text-align: right;\">47.6</td><td style = \"text-align: right;\">22.3</td><td style = \"text-align: right;\">9.9</td><td style = \"text-align: right;\">0.0</td></tr><tr><td class = \"rowNumber\" style = \"font-weight: bold; text-align: right;\">6</td><td style = \"text-align: left;\">1829-11-26T17:00:00</td><td style = \"text-align: right;\">45.7</td><td style = \"text-align: right;\">26.6</td><td style = \"text-align: right;\">99.9</td><td style = \"text-align: right;\">0.0</td></tr><tr><td class = \"rowNumber\" style = \"font-weight: bold; text-align: right;\">7</td><td style = \"text-align: left;\">1838-01-25T01:00:00</td><td style = \"text-align: right;\">45.7</td><td style = \"text-align: right;\">26.6</td><td style = \"text-align: right;\">99.9</td><td style = \"text-align: right;\">0.0</td></tr><tr><td class = \"rowNumber\" style = \"font-weight: bold; text-align: right;\">8</td><td style = \"text-align: left;\">1838-02-10T03:00:00</td><td style = \"text-align: right;\">45.7</td><td style = \"text-align: right;\">26.6</td><td style = \"text-align: right;\">99.9</td><td style = \"text-align: right;\">0.0</td></tr><tr><td class = \"rowNumber\" style = \"font-weight: bold; text-align: right;\">9</td><td style = \"text-align: left;\">1855-01-23T23:30:00</td><td style = \"text-align: right;\">45.5</td><td style = \"text-align: right;\">25.6</td><td style = \"text-align: right;\">9.9</td><td style = \"text-align: right;\">0.0</td></tr><tr><td class = \"rowNumber\" style = \"font-weight: bold; text-align: right;\">10</td><td style = \"text-align: left;\">1876-01-15T05:00:00</td><td style = \"text-align: right;\">47.9</td><td style = \"text-align: right;\">23.9</td><td style = \"text-align: right;\">9.9</td><td style = \"text-align: right;\">0.0</td></tr><tr><td class = \"rowNumber\" style = \"font-weight: bold; text-align: right;\">11</td><td style = \"text-align: left;\">1883-04-18T17:31:00</td><td style = \"text-align: right;\">47.6</td><td style = \"text-align: right;\">22.4</td><td style = \"text-align: right;\">9.9</td><td style = \"text-align: right;\">0.0</td></tr><tr><td class = \"rowNumber\" style = \"font-weight: bold; text-align: right;\">12</td><td style = \"text-align: left;\">1884-12-01T00:00:00</td><td style = \"text-align: right;\">44.5</td><td style = \"text-align: right;\">21.8</td><td style = \"text-align: right;\">9.9</td><td style = \"text-align: right;\">0.0</td></tr><tr><td class = \"rowNumber\" style = \"font-weight: bold; text-align: right;\">13</td><td style = \"text-align: left;\">1887-02-08T07:50:00</td><td style = \"text-align: right;\">45.0</td><td style = \"text-align: right;\">21.7</td><td style = \"text-align: right;\">9.9</td><td style = \"text-align: right;\">0.0</td></tr><tr><td style = \"text-align: right;\">&vellip;</td><td style = \"text-align: right;\">&vellip;</td><td style = \"text-align: right;\">&vellip;</td><td style = \"text-align: right;\">&vellip;</td><td style = \"text-align: right;\">&vellip;</td><td style = \"text-align: right;\">&vellip;</td></tr><tr><td class = \"rowNumber\" style = \"font-weight: bold; text-align: right;\">328</td><td style = \"text-align: left;\">2004-10-29T19:40:54.200</td><td style = \"text-align: right;\">45.5</td><td style = \"text-align: right;\">27.68</td><td style = \"text-align: right;\">18.6</td><td style = \"text-align: right;\">0.0</td></tr><tr><td class = \"rowNumber\" style = \"font-weight: bold; text-align: right;\">329</td><td style = \"text-align: left;\">2004-11-08T08:55:50.400</td><td style = \"text-align: right;\">44.88</td><td style = \"text-align: right;\">28.25</td><td style = \"text-align: right;\">0.0</td><td style = \"text-align: right;\">0.0</td></tr><tr><td class = \"rowNumber\" style = \"font-weight: bold; text-align: right;\">330</td><td style = \"text-align: left;\">2005-01-15T02:11:05.200</td><td style = \"text-align: right;\">45.37</td><td style = \"text-align: right;\">25.86</td><td style = \"text-align: right;\">0.0</td><td style = \"text-align: right;\">0.0</td></tr><tr><td class = \"rowNumber\" style = \"font-weight: bold; text-align: right;\">331</td><td style = \"text-align: left;\">2005-07-20T05:17:05.200</td><td style = \"text-align: right;\">46.91</td><td style = \"text-align: right;\">25.79</td><td style = \"text-align: right;\">5.0</td><td style = \"text-align: right;\">0.0</td></tr><tr><td class = \"rowNumber\" style = \"font-weight: bold; text-align: right;\">332</td><td style = \"text-align: left;\">2005-07-21T11:59:53</td><td style = \"text-align: right;\">45.23</td><td style = \"text-align: right;\">25.59</td><td style = \"text-align: right;\">13.6</td><td style = \"text-align: right;\">0.0</td></tr><tr><td class = \"rowNumber\" style = \"font-weight: bold; text-align: right;\">333</td><td style = \"text-align: left;\">2005-07-21T16:40:02.300</td><td style = \"text-align: right;\">45.64</td><td style = \"text-align: right;\">24.29</td><td style = \"text-align: right;\">0.0</td><td style = \"text-align: right;\">0.0</td></tr><tr><td class = \"rowNumber\" style = \"font-weight: bold; text-align: right;\">334</td><td style = \"text-align: left;\">2005-08-31T13:33:35.800</td><td style = \"text-align: right;\">45.08</td><td style = \"text-align: right;\">28.3</td><td style = \"text-align: right;\">0.0</td><td style = \"text-align: right;\">0.0</td></tr><tr><td class = \"rowNumber\" style = \"font-weight: bold; text-align: right;\">335</td><td style = \"text-align: left;\">2005-11-23T13:18:01.600</td><td style = \"text-align: right;\">46.23</td><td style = \"text-align: right;\">22.66</td><td style = \"text-align: right;\">10.0</td><td style = \"text-align: right;\">0.0</td></tr><tr><td class = \"rowNumber\" style = \"font-weight: bold; text-align: right;\">336</td><td style = \"text-align: left;\">2006-06-21T09:20:58.500</td><td style = \"text-align: right;\">45.96</td><td style = \"text-align: right;\">22.92</td><td style = \"text-align: right;\">0.0</td><td style = \"text-align: right;\">0.0</td></tr><tr><td class = \"rowNumber\" style = \"font-weight: bold; text-align: right;\">337</td><td style = \"text-align: left;\">2006-06-23T13:14:19.300</td><td style = \"text-align: right;\">46.49</td><td style = \"text-align: right;\">21.91</td><td style = \"text-align: right;\">50.0</td><td style = \"text-align: right;\">0.0</td></tr><tr><td class = \"rowNumber\" style = \"font-weight: bold; text-align: right;\">338</td><td style = \"text-align: left;\">2006-07-08T19:34:38.900</td><td style = \"text-align: right;\">45.37</td><td style = \"text-align: right;\">24.84</td><td style = \"text-align: right;\">0.0</td><td style = \"text-align: right;\">0.0</td></tr><tr><td class = \"rowNumber\" style = \"font-weight: bold; text-align: right;\">339</td><td style = \"text-align: left;\">2009-08-05T10:20:30.100</td><td style = \"text-align: right;\">45.74</td><td style = \"text-align: right;\">25.93</td><td style = \"text-align: right;\">119.8</td><td style = \"text-align: right;\">0.0</td></tr></tbody></table></div>"
      ],
      "text/latex": [
       "\\begin{tabular}{r|ccccc}\n",
       "\t& Datetime & Latitude & Longitude & Depth & Magnitude\\\\\n",
       "\t\\hline\n",
       "\t& DateTime & Float64 & Float64 & Float64 & Float64\\\\\n",
       "\t\\hline\n",
       "\t1 & 1802-10-26T20:30:00 & 45.7 & 26.6 & 99.9 & 0.0 \\\\\n",
       "\t2 & 1802-10-27T01:00:00 & 45.7 & 26.6 & 99.9 & 0.0 \\\\\n",
       "\t3 & 1802-10-28T00:00:00 & 45.7 & 26.6 & 99.9 & 0.0 \\\\\n",
       "\t4 & 1802-11-07T00:00:00 & 45.7 & 26.6 & 99.9 & 0.0 \\\\\n",
       "\t5 & 1829-07-01T01:37:00 & 47.6 & 22.3 & 9.9 & 0.0 \\\\\n",
       "\t6 & 1829-11-26T17:00:00 & 45.7 & 26.6 & 99.9 & 0.0 \\\\\n",
       "\t7 & 1838-01-25T01:00:00 & 45.7 & 26.6 & 99.9 & 0.0 \\\\\n",
       "\t8 & 1838-02-10T03:00:00 & 45.7 & 26.6 & 99.9 & 0.0 \\\\\n",
       "\t9 & 1855-01-23T23:30:00 & 45.5 & 25.6 & 9.9 & 0.0 \\\\\n",
       "\t10 & 1876-01-15T05:00:00 & 47.9 & 23.9 & 9.9 & 0.0 \\\\\n",
       "\t11 & 1883-04-18T17:31:00 & 47.6 & 22.4 & 9.9 & 0.0 \\\\\n",
       "\t12 & 1884-12-01T00:00:00 & 44.5 & 21.8 & 9.9 & 0.0 \\\\\n",
       "\t13 & 1887-02-08T07:50:00 & 45.0 & 21.7 & 9.9 & 0.0 \\\\\n",
       "\t14 & 1894-03-10T22:10:00 & 44.6 & 22.7 & 9.9 & 0.0 \\\\\n",
       "\t15 & 1905-11-09T22:10:00 & 45.0 & 23.3 & 9.9 & 0.0 \\\\\n",
       "\t16 & 1905-11-13T07:00:00 & 45.0 & 23.3 & 9.9 & 0.0 \\\\\n",
       "\t17 & 1916-01-25T00:00:00 & 45.4 & 24.2 & 9.9 & 0.0 \\\\\n",
       "\t18 & 1924-08-12T16:27:37 & 45.0 & 22.0 & 9.9 & 0.0 \\\\\n",
       "\t19 & 1930-05-20T12:17:34 & 44.5 & 26.6 & 9.9 & 0.0 \\\\\n",
       "\t20 & 1941-10-01T05:00:00 & 45.8 & 21.3 & 9.9 & 0.0 \\\\\n",
       "\t21 & 1943-11-21T16:17:00 & 45.4 & 25.0 & 9.9 & 0.0 \\\\\n",
       "\t22 & 1945-10-01T00:00:00 & 45.32 & 26.44 & 100.0 & 0.0 \\\\\n",
       "\t23 & 1952-05-23T11:00:00 & 47.3 & 27.9 & 9.9 & 0.0 \\\\\n",
       "\t24 & 1954-02-11T08:50:12 & 45.75 & 26.72 & 140.0 & 0.0 \\\\\n",
       "\t$\\dots$ & $\\dots$ & $\\dots$ & $\\dots$ & $\\dots$ & $\\dots$ \\\\\n",
       "\\end{tabular}\n"
      ],
      "text/plain": [
       "\u001b[1m339×5 DataFrame\u001b[0m\n",
       "\u001b[1m Row \u001b[0m│\u001b[1m Datetime                \u001b[0m\u001b[1m Latitude \u001b[0m\u001b[1m Longitude \u001b[0m\u001b[1m Depth   \u001b[0m\u001b[1m Magnitude \u001b[0m\n",
       "     │\u001b[90m DateTime                \u001b[0m\u001b[90m Float64  \u001b[0m\u001b[90m Float64   \u001b[0m\u001b[90m Float64 \u001b[0m\u001b[90m Float64   \u001b[0m\n",
       "─────┼──────────────────────────────────────────────────────────────────\n",
       "   1 │ 1802-10-26T20:30:00         45.7       26.6      99.9        0.0\n",
       "   2 │ 1802-10-27T01:00:00         45.7       26.6      99.9        0.0\n",
       "   3 │ 1802-10-28T00:00:00         45.7       26.6      99.9        0.0\n",
       "   4 │ 1802-11-07T00:00:00         45.7       26.6      99.9        0.0\n",
       "   5 │ 1829-07-01T01:37:00         47.6       22.3       9.9        0.0\n",
       "   6 │ 1829-11-26T17:00:00         45.7       26.6      99.9        0.0\n",
       "   7 │ 1838-01-25T01:00:00         45.7       26.6      99.9        0.0\n",
       "   8 │ 1838-02-10T03:00:00         45.7       26.6      99.9        0.0\n",
       "  ⋮  │            ⋮                ⋮          ⋮         ⋮         ⋮\n",
       " 333 │ 2005-07-21T16:40:02.300     45.64      24.29      0.0        0.0\n",
       " 334 │ 2005-08-31T13:33:35.800     45.08      28.3       0.0        0.0\n",
       " 335 │ 2005-11-23T13:18:01.600     46.23      22.66     10.0        0.0\n",
       " 336 │ 2006-06-21T09:20:58.500     45.96      22.92      0.0        0.0\n",
       " 337 │ 2006-06-23T13:14:19.300     46.49      21.91     50.0        0.0\n",
       " 338 │ 2006-07-08T19:34:38.900     45.37      24.84      0.0        0.0\n",
       " 339 │ 2009-08-05T10:20:30.100     45.74      25.93    119.8        0.0\n",
       "\u001b[36m                                                        324 rows omitted\u001b[0m"
      ]
     },
     "metadata": {},
     "output_type": "display_data"
    }
   ],
   "source": [
    "df[∈([0.0]).(df.Magnitude), :]"
   ]
  },
  {
   "cell_type": "code",
   "execution_count": null,
   "metadata": {},
   "outputs": [],
   "source": []
  },
  {
   "cell_type": "code",
   "execution_count": 14,
   "metadata": {},
   "outputs": [
    {
     "data": {
      "text/html": [
       "<div><div style = \"float: left;\"><span>32289×5 DataFrame</span></div><div style = \"float: right;\"><span style = \"font-style: italic;\">32264 rows omitted</span></div><div style = \"clear: both;\"></div></div><div class = \"data-frame\" style = \"overflow-x: scroll;\"><table class = \"data-frame\" style = \"margin-bottom: 6px;\"><thead><tr class = \"header\"><th class = \"rowNumber\" style = \"font-weight: bold; text-align: right;\">Row</th><th style = \"text-align: left;\">Datetime</th><th style = \"text-align: left;\">Latitude</th><th style = \"text-align: left;\">Longitude</th><th style = \"text-align: left;\">Depth</th><th style = \"text-align: left;\">Magnitude</th></tr><tr class = \"subheader headerLastRow\"><th class = \"rowNumber\" style = \"font-weight: bold; text-align: right;\"></th><th title = \"DateTime\" style = \"text-align: left;\">DateTime</th><th title = \"Float64\" style = \"text-align: left;\">Float64</th><th title = \"Float64\" style = \"text-align: left;\">Float64</th><th title = \"Float64\" style = \"text-align: left;\">Float64</th><th title = \"Float64\" style = \"text-align: left;\">Float64</th></tr></thead><tbody><tr><td class = \"rowNumber\" style = \"font-weight: bold; text-align: right;\">1</td><td style = \"text-align: left;\">0984-01-01T00:00:00</td><td style = \"text-align: right;\">45.7</td><td style = \"text-align: right;\">26.6</td><td style = \"text-align: right;\">150.0</td><td style = \"text-align: right;\">7.1</td></tr><tr><td class = \"rowNumber\" style = \"font-weight: bold; text-align: right;\">2</td><td style = \"text-align: left;\">1022-05-12T00:00:00</td><td style = \"text-align: right;\">45.7</td><td style = \"text-align: right;\">26.6</td><td style = \"text-align: right;\">150.0</td><td style = \"text-align: right;\">6.5</td></tr><tr><td class = \"rowNumber\" style = \"font-weight: bold; text-align: right;\">3</td><td style = \"text-align: left;\">1038-08-15T00:00:00</td><td style = \"text-align: right;\">45.7</td><td style = \"text-align: right;\">26.6</td><td style = \"text-align: right;\">150.0</td><td style = \"text-align: right;\">7.3</td></tr><tr><td class = \"rowNumber\" style = \"font-weight: bold; text-align: right;\">4</td><td style = \"text-align: left;\">1091-01-01T00:00:00</td><td style = \"text-align: right;\">45.7</td><td style = \"text-align: right;\">26.6</td><td style = \"text-align: right;\">150.0</td><td style = \"text-align: right;\">7.1</td></tr><tr><td class = \"rowNumber\" style = \"font-weight: bold; text-align: right;\">5</td><td style = \"text-align: left;\">1107-02-12T03:00:00</td><td style = \"text-align: right;\">45.7</td><td style = \"text-align: right;\">26.6</td><td style = \"text-align: right;\">150.0</td><td style = \"text-align: right;\">7.1</td></tr><tr><td class = \"rowNumber\" style = \"font-weight: bold; text-align: right;\">6</td><td style = \"text-align: left;\">1122-10-01T00:00:00</td><td style = \"text-align: right;\">45.7</td><td style = \"text-align: right;\">26.6</td><td style = \"text-align: right;\">150.0</td><td style = \"text-align: right;\">6.2</td></tr><tr><td class = \"rowNumber\" style = \"font-weight: bold; text-align: right;\">7</td><td style = \"text-align: left;\">1126-08-08T00:00:00</td><td style = \"text-align: right;\">45.7</td><td style = \"text-align: right;\">26.6</td><td style = \"text-align: right;\">150.0</td><td style = \"text-align: right;\">7.1</td></tr><tr><td class = \"rowNumber\" style = \"font-weight: bold; text-align: right;\">8</td><td style = \"text-align: left;\">1170-04-01T00:00:00</td><td style = \"text-align: right;\">45.7</td><td style = \"text-align: right;\">26.6</td><td style = \"text-align: right;\">150.0</td><td style = \"text-align: right;\">7.3</td></tr><tr><td class = \"rowNumber\" style = \"font-weight: bold; text-align: right;\">9</td><td style = \"text-align: left;\">1196-02-13T07:00:00</td><td style = \"text-align: right;\">45.7</td><td style = \"text-align: right;\">26.6</td><td style = \"text-align: right;\">150.0</td><td style = \"text-align: right;\">7.5</td></tr><tr><td class = \"rowNumber\" style = \"font-weight: bold; text-align: right;\">10</td><td style = \"text-align: left;\">1223-01-08T00:00:00</td><td style = \"text-align: right;\">46.2</td><td style = \"text-align: right;\">24.4</td><td style = \"text-align: right;\">9.9</td><td style = \"text-align: right;\">5.9</td></tr><tr><td class = \"rowNumber\" style = \"font-weight: bold; text-align: right;\">11</td><td style = \"text-align: left;\">1230-05-10T07:00:00</td><td style = \"text-align: right;\">45.7</td><td style = \"text-align: right;\">26.6</td><td style = \"text-align: right;\">150.0</td><td style = \"text-align: right;\">7.3</td></tr><tr><td class = \"rowNumber\" style = \"font-weight: bold; text-align: right;\">12</td><td style = \"text-align: left;\">1258-02-07T13:00:00</td><td style = \"text-align: right;\">45.7</td><td style = \"text-align: right;\">26.6</td><td style = \"text-align: right;\">150.0</td><td style = \"text-align: right;\">7.1</td></tr><tr><td class = \"rowNumber\" style = \"font-weight: bold; text-align: right;\">13</td><td style = \"text-align: left;\">1327-01-01T00:00:00</td><td style = \"text-align: right;\">45.7</td><td style = \"text-align: right;\">26.6</td><td style = \"text-align: right;\">150.0</td><td style = \"text-align: right;\">7.3</td></tr><tr><td style = \"text-align: right;\">&vellip;</td><td style = \"text-align: right;\">&vellip;</td><td style = \"text-align: right;\">&vellip;</td><td style = \"text-align: right;\">&vellip;</td><td style = \"text-align: right;\">&vellip;</td><td style = \"text-align: right;\">&vellip;</td></tr><tr><td class = \"rowNumber\" style = \"font-weight: bold; text-align: right;\">32278</td><td style = \"text-align: left;\">2022-12-26T13:48:35.860</td><td style = \"text-align: right;\">47.28</td><td style = \"text-align: right;\">23.8104</td><td style = \"text-align: right;\">2.0</td><td style = \"text-align: right;\">2.0</td></tr><tr><td class = \"rowNumber\" style = \"font-weight: bold; text-align: right;\">32279</td><td style = \"text-align: left;\">2022-12-27T16:00:52.890</td><td style = \"text-align: right;\">45.5211</td><td style = \"text-align: right;\">26.4184</td><td style = \"text-align: right;\">110.2</td><td style = \"text-align: right;\">2.5</td></tr><tr><td class = \"rowNumber\" style = \"font-weight: bold; text-align: right;\">32280</td><td style = \"text-align: left;\">2022-12-28T07:38:54.270</td><td style = \"text-align: right;\">45.7505</td><td style = \"text-align: right;\">26.6086</td><td style = \"text-align: right;\">85.2</td><td style = \"text-align: right;\">2.9</td></tr><tr><td class = \"rowNumber\" style = \"font-weight: bold; text-align: right;\">32281</td><td style = \"text-align: left;\">2022-12-28T13:15:05.470</td><td style = \"text-align: right;\">46.3193</td><td style = \"text-align: right;\">23.1806</td><td style = \"text-align: right;\">2.0</td><td style = \"text-align: right;\">1.9</td></tr><tr><td class = \"rowNumber\" style = \"font-weight: bold; text-align: right;\">32282</td><td style = \"text-align: left;\">2022-12-29T02:06:28.320</td><td style = \"text-align: right;\">45.6714</td><td style = \"text-align: right;\">26.6291</td><td style = \"text-align: right;\">134.0</td><td style = \"text-align: right;\">2.8</td></tr><tr><td class = \"rowNumber\" style = \"font-weight: bold; text-align: right;\">32283</td><td style = \"text-align: left;\">2022-12-29T09:28:11.270</td><td style = \"text-align: right;\">45.2972</td><td style = \"text-align: right;\">25.093</td><td style = \"text-align: right;\">2.0</td><td style = \"text-align: right;\">1.5</td></tr><tr><td class = \"rowNumber\" style = \"font-weight: bold; text-align: right;\">32284</td><td style = \"text-align: left;\">2022-12-29T09:42:33.920</td><td style = \"text-align: right;\">45.9596</td><td style = \"text-align: right;\">22.6972</td><td style = \"text-align: right;\">3.3</td><td style = \"text-align: right;\">1.6</td></tr><tr><td class = \"rowNumber\" style = \"font-weight: bold; text-align: right;\">32285</td><td style = \"text-align: left;\">2022-12-29T12:16:03.080</td><td style = \"text-align: right;\">46.3226</td><td style = \"text-align: right;\">23.1438</td><td style = \"text-align: right;\">1.0</td><td style = \"text-align: right;\">1.7</td></tr><tr><td class = \"rowNumber\" style = \"font-weight: bold; text-align: right;\">32286</td><td style = \"text-align: left;\">2022-12-29T13:11:43.570</td><td style = \"text-align: right;\">45.4378</td><td style = \"text-align: right;\">24.1116</td><td style = \"text-align: right;\">11.7</td><td style = \"text-align: right;\">2.1</td></tr><tr><td class = \"rowNumber\" style = \"font-weight: bold; text-align: right;\">32287</td><td style = \"text-align: left;\">2022-12-30T14:23:49.390</td><td style = \"text-align: right;\">45.4639</td><td style = \"text-align: right;\">24.1433</td><td style = \"text-align: right;\">14.0</td><td style = \"text-align: right;\">1.7</td></tr><tr><td class = \"rowNumber\" style = \"font-weight: bold; text-align: right;\">32288</td><td style = \"text-align: left;\">2022-12-31T03:16:48.320</td><td style = \"text-align: right;\">45.4082</td><td style = \"text-align: right;\">24.134</td><td style = \"text-align: right;\">18.2</td><td style = \"text-align: right;\">1.7</td></tr><tr><td class = \"rowNumber\" style = \"font-weight: bold; text-align: right;\">32289</td><td style = \"text-align: left;\">2022-12-31T15:24:39.550</td><td style = \"text-align: right;\">45.0022</td><td style = \"text-align: right;\">22.6597</td><td style = \"text-align: right;\">4.5</td><td style = \"text-align: right;\">2.1</td></tr></tbody></table></div>"
      ],
      "text/latex": [
       "\\begin{tabular}{r|ccccc}\n",
       "\t& Datetime & Latitude & Longitude & Depth & Magnitude\\\\\n",
       "\t\\hline\n",
       "\t& DateTime & Float64 & Float64 & Float64 & Float64\\\\\n",
       "\t\\hline\n",
       "\t1 & 0984-01-01T00:00:00 & 45.7 & 26.6 & 150.0 & 7.1 \\\\\n",
       "\t2 & 1022-05-12T00:00:00 & 45.7 & 26.6 & 150.0 & 6.5 \\\\\n",
       "\t3 & 1038-08-15T00:00:00 & 45.7 & 26.6 & 150.0 & 7.3 \\\\\n",
       "\t4 & 1091-01-01T00:00:00 & 45.7 & 26.6 & 150.0 & 7.1 \\\\\n",
       "\t5 & 1107-02-12T03:00:00 & 45.7 & 26.6 & 150.0 & 7.1 \\\\\n",
       "\t6 & 1122-10-01T00:00:00 & 45.7 & 26.6 & 150.0 & 6.2 \\\\\n",
       "\t7 & 1126-08-08T00:00:00 & 45.7 & 26.6 & 150.0 & 7.1 \\\\\n",
       "\t8 & 1170-04-01T00:00:00 & 45.7 & 26.6 & 150.0 & 7.3 \\\\\n",
       "\t9 & 1196-02-13T07:00:00 & 45.7 & 26.6 & 150.0 & 7.5 \\\\\n",
       "\t10 & 1223-01-08T00:00:00 & 46.2 & 24.4 & 9.9 & 5.9 \\\\\n",
       "\t11 & 1230-05-10T07:00:00 & 45.7 & 26.6 & 150.0 & 7.3 \\\\\n",
       "\t12 & 1258-02-07T13:00:00 & 45.7 & 26.6 & 150.0 & 7.1 \\\\\n",
       "\t13 & 1327-01-01T00:00:00 & 45.7 & 26.6 & 150.0 & 7.3 \\\\\n",
       "\t14 & 1444-08-04T00:00:00 & 46.2 & 20.1 & 40.0 & 6.0 \\\\\n",
       "\t15 & 1446-10-10T04:00:00 & 45.7 & 26.6 & 150.0 & 7.5 \\\\\n",
       "\t16 & 1471-08-29T10:00:00 & 45.7 & 26.6 & 110.0 & 7.5 \\\\\n",
       "\t17 & 1473-08-29T00:00:00 & 45.7 & 26.6 & 150.0 & 7.3 \\\\\n",
       "\t18 & 1516-11-24T12:00:00 & 45.7 & 26.6 & 150.0 & 7.5 \\\\\n",
       "\t19 & 1517-02-06T00:00:00 & 46.0 & 25.2 & 9.9 & 5.3 \\\\\n",
       "\t20 & 1523-06-09T00:00:00 & 45.7 & 26.6 & 130.0 & 6.5 \\\\\n",
       "\t21 & 1523-11-19T00:00:00 & 46.2 & 24.4 & 9.9 & 5.9 \\\\\n",
       "\t22 & 1543-01-01T00:00:00 & 45.7 & 26.6 & 150.0 & 7.1 \\\\\n",
       "\t23 & 1545-07-19T08:00:00 & 45.7 & 26.6 & 110.0 & 7.1 \\\\\n",
       "\t24 & 1550-10-26T01:00:00 & 45.8 & 24.2 & 9.9 & 6.5 \\\\\n",
       "\t$\\dots$ & $\\dots$ & $\\dots$ & $\\dots$ & $\\dots$ & $\\dots$ \\\\\n",
       "\\end{tabular}\n"
      ],
      "text/plain": [
       "\u001b[1m32289×5 DataFrame\u001b[0m\n",
       "\u001b[1m   Row \u001b[0m│\u001b[1m Datetime                \u001b[0m\u001b[1m Latitude \u001b[0m\u001b[1m Longitude \u001b[0m\u001b[1m Depth   \u001b[0m\u001b[1m Magnitude \u001b[0m\n",
       "       │\u001b[90m DateTime                \u001b[0m\u001b[90m Float64  \u001b[0m\u001b[90m Float64   \u001b[0m\u001b[90m Float64 \u001b[0m\u001b[90m Float64   \u001b[0m\n",
       "───────┼──────────────────────────────────────────────────────────────────\n",
       "     1 │ 0984-01-01T00:00:00       45.7       26.6       150.0        7.1\n",
       "     2 │ 1022-05-12T00:00:00       45.7       26.6       150.0        6.5\n",
       "     3 │ 1038-08-15T00:00:00       45.7       26.6       150.0        7.3\n",
       "     4 │ 1091-01-01T00:00:00       45.7       26.6       150.0        7.1\n",
       "     5 │ 1107-02-12T03:00:00       45.7       26.6       150.0        7.1\n",
       "     6 │ 1122-10-01T00:00:00       45.7       26.6       150.0        6.2\n",
       "     7 │ 1126-08-08T00:00:00       45.7       26.6       150.0        7.1\n",
       "     8 │ 1170-04-01T00:00:00       45.7       26.6       150.0        7.3\n",
       "   ⋮   │            ⋮                ⋮          ⋮         ⋮         ⋮\n",
       " 32283 │ 2022-12-29T09:28:11.270   45.2972    25.093       2.0        1.5\n",
       " 32284 │ 2022-12-29T09:42:33.920   45.9596    22.6972      3.3        1.6\n",
       " 32285 │ 2022-12-29T12:16:03.080   46.3226    23.1438      1.0        1.7\n",
       " 32286 │ 2022-12-29T13:11:43.570   45.4378    24.1116     11.7        2.1\n",
       " 32287 │ 2022-12-30T14:23:49.390   45.4639    24.1433     14.0        1.7\n",
       " 32288 │ 2022-12-31T03:16:48.320   45.4082    24.134      18.2        1.7\n",
       " 32289 │ 2022-12-31T15:24:39.550   45.0022    22.6597      4.5        2.1\n",
       "\u001b[36m                                                        32274 rows omitted\u001b[0m"
      ]
     },
     "metadata": {},
     "output_type": "display_data"
    }
   ],
   "source": [
    "romania = df[df.Magnitude .> 0.0,:]"
   ]
  },
  {
   "cell_type": "code",
   "execution_count": null,
   "metadata": {},
   "outputs": [],
   "source": []
  },
  {
   "cell_type": "code",
   "execution_count": 15,
   "metadata": {},
   "outputs": [
    {
     "data": {
      "text/plain": [
       "\"../data/romania.csv\""
      ]
     },
     "metadata": {},
     "output_type": "display_data"
    }
   ],
   "source": [
    "CSV.write(\"../data/romania.csv\", romania)"
   ]
  },
  {
   "cell_type": "code",
   "execution_count": null,
   "metadata": {},
   "outputs": [],
   "source": []
  },
  {
   "cell_type": "code",
   "execution_count": null,
   "metadata": {},
   "outputs": [],
   "source": []
  }
 ],
 "metadata": {
  "kernelspec": {
   "display_name": "Julia 1.8.5",
   "language": "julia",
   "name": "julia-1.8"
  },
  "language_info": {
   "file_extension": ".jl",
   "mimetype": "application/julia",
   "name": "julia",
   "version": "1.8.5"
  },
  "orig_nbformat": 4
 },
 "nbformat": 4,
 "nbformat_minor": 2
}
