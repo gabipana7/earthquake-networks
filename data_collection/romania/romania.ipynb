{
 "cells": [
  {
   "cell_type": "code",
   "execution_count": 2,
   "metadata": {},
   "outputs": [],
   "source": [
    "using CSV, DataFrames, Dates"
   ]
  },
  {
   "cell_type": "code",
   "execution_count": 3,
   "metadata": {},
   "outputs": [
    {
     "data": {
      "text/plain": [
       "\"http://www.infp.ro/data/romplus.txt\""
      ]
     },
     "metadata": {},
     "output_type": "display_data"
    }
   ],
   "source": [
    "url = \"http://www.infp.ro/data/romplus.txt\"\n",
    "download(url,\"./romania.txt\")"
   ]
  },
  {
   "cell_type": "code",
   "execution_count": 5,
   "metadata": {},
   "outputs": [
    {
     "data": {
      "text/plain": [
       "seismic_db_parser (generic function with 1 method)"
      ]
     },
     "metadata": {},
     "output_type": "display_data"
    }
   ],
   "source": [
    "\n",
    "\n",
    "# Declare types of the needed columns\n",
    "datetime = Vector{String}()\n",
    "latitude, longitude, depth =  Vector{Float64}(), Vector{Float64}(), Vector{Float64}()\n",
    "magnitude =  Vector{Float64}()\n",
    "\n",
    "# open the file\n",
    "open(filename) do io\n",
    "    # skip the first line\n",
    "    line = readline(io)\n",
    "    while true\n",
    "        # start reading the lines\n",
    "        line = readline(io)\n",
    "        # detect the end of the line\n",
    "        line == \"\" && break\n",
    "        # push to the vectors, the characters based on the position in the text file\n",
    "        # push!(date,  strip(line[1:10]))\n",
    "        push!(datetime,  strip(line[1:23]))\n",
    "        push!(latitude, parse(Float64,strip(line[38:45])))\n",
    "        push!(longitude, parse(Float64, strip(line[48:56])))\n",
    "        push!(depth, parse(Float64, strip(line[76:80])))\n",
    "        push!(magnitude, parse(Float64, strip(line[108:110])))\n",
    "    end\n",
    "end\n",
    "\n",
    "df = DataFrame(Datetime=datetime, \n",
    "                Latitude=latitude, Longitude=longitude, Depth=depth,\n",
    "                Magnitude=magnitude)\n",
    "\n",
    "# Turn to datetime \n",
    "dateformat = dateformat\"yyyy/mm/dd  HH:MM:SS.s\"\n",
    "df.Datetime = DateTime.(df.Datetime, dateformat)"
   ]
  },
  {
   "cell_type": "code",
   "execution_count": null,
   "metadata": {},
   "outputs": [],
   "source": [
    "# df[∈([0.0]).(df.Magnitude), :]\n",
    "romania = df[df.Magnitude .> 0.0,:]"
   ]
  },
  {
   "cell_type": "code",
   "execution_count": 15,
   "metadata": {},
   "outputs": [
    {
     "data": {
      "text/plain": [
       "\"../data/romania.csv\""
      ]
     },
     "metadata": {},
     "output_type": "display_data"
    }
   ],
   "source": [
    "CSV.write(\"../../data/romania.csv\", romania)"
   ]
  },
  {
   "cell_type": "code",
   "execution_count": null,
   "metadata": {},
   "outputs": [],
   "source": [
    "rm(\"romania.txt\")"
   ]
  },
  {
   "cell_type": "code",
   "execution_count": null,
   "metadata": {},
   "outputs": [],
   "source": []
  }
 ],
 "metadata": {
  "kernelspec": {
   "display_name": "Julia 1.8.5",
   "language": "julia",
   "name": "julia-1.8"
  },
  "language_info": {
   "file_extension": ".jl",
   "mimetype": "application/julia",
   "name": "julia",
   "version": "1.8.5"
  },
  "orig_nbformat": 4
 },
 "nbformat": 4,
 "nbformat_minor": 2
}
