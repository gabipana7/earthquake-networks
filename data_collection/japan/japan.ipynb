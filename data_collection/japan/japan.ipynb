{
 "cells": [
  {
   "cell_type": "code",
   "execution_count": 1,
   "metadata": {},
   "outputs": [],
   "source": [
    "using CSV, DataFrames, Dates\n",
    "\n",
    "using HTTP, Gumbo, Cascadia"
   ]
  },
  {
   "cell_type": "code",
   "execution_count": 2,
   "metadata": {},
   "outputs": [],
   "source": [
    "# url = \"https://www.data.jma.go.jp/svd/eqev/data/bulletin/data/hypo/\"\n",
    "\n",
    "# filelist =[\"h1919\", \"h1951\", \"h1961\",\"h1967\",\"h1983\",\"h1984\",\"h1985\",\"h1986\",\"h1987\",\"h1988\",\"h1989\",\n",
    "# \"h1990\",\"h1991\",\"h1992\",\"h1993\",\"h1994\",\"h1995\",\"h1996\",\"h199701\",\"h199710\",\"h1998\",\"h1999\",\n",
    "# \"h2000\",\"h2001\",\"h2003\",\"h2004\",\"h2005\",\"h2006\",\"h2007\",\"h2008\",\"h2009\",\n",
    "# \"h2010\",\"h2011\",\"h2012\",\"h2013\",\"h2014\",\"h2015\",\"h2016\",\"h2017\",\"h2018\",\"h2019\",\n",
    "# \"h202001\",\"h202002\",\"h202003\",\"h202004\" ,\"h202005\" ,\"h202006\" ,\"h202007\" ,\"h202008\"  ];\n",
    "\n",
    "# filename = url * filelist[1]"
   ]
  },
  {
   "cell_type": "code",
   "execution_count": 3,
   "metadata": {},
   "outputs": [
    {
     "data": {
      "text/plain": [
       "\"https://www.data.jma.go.jp/svd/eqev/data/bulletin/hypo.html\""
      ]
     },
     "metadata": {},
     "output_type": "display_data"
    }
   ],
   "source": [
    "url_to_parse = \"https://www.data.jma.go.jp/svd/eqev/data/bulletin/hypo.html\""
   ]
  },
  {
   "cell_type": "code",
   "execution_count": 4,
   "metadata": {},
   "outputs": [],
   "source": [
    "# Make HTTP GET request to the URL and get the response content\n",
    "response = HTTP.get(url_to_parse)\n",
    "content = String(response.body)\n",
    "\n",
    "# Parse the HTML content using Gumbo\n",
    "parsed_html = parsehtml(content)\n",
    "\n",
    "# Select the body\n",
    "body = parsed_html.root[2];"
   ]
  },
  {
   "cell_type": "code",
   "execution_count": 6,
   "metadata": {},
   "outputs": [],
   "source": [
    "# Select all links from the body of the HTML page\n",
    "all_links = eachmatch(Cascadia.Selector(\"a\"), body)\n",
    "\n",
    "# Filter only links that go to a download, results in HTMLElements\n",
    "downloadable_links = filter(link -> occursin(\".zip\", lowercase(link.attributes[\"href\"])) || occursin(\".tar\", lowercase(link.attributes[\"href\"])), all_links)\n",
    "\n",
    "# Get the actual links\n",
    "hrefs = [link.attributes[\"href\"] for link in downloadable_links];"
   ]
  },
  {
   "cell_type": "code",
   "execution_count": 8,
   "metadata": {},
   "outputs": [
    {
     "data": {
      "text/plain": [
       "\"https://www.data.jma.go.jp/svd/eqev/data/bulletin/\""
      ]
     },
     "metadata": {},
     "output_type": "display_data"
    }
   ],
   "source": [
    "corelink = \"https://www.data.jma.go.jp/svd/eqev/data/bulletin/\""
   ]
  },
  {
   "cell_type": "code",
   "execution_count": 10,
   "metadata": {},
   "outputs": [
    {
     "data": {
      "text/plain": [
       "50-element Vector{String}:\n",
       " \"https://www.data.jma.go.jp/svd/eqev/data/bulletin/./data/hypo/h202001.zip\"\n",
       " \"https://www.data.jma.go.jp/svd/eqev/data/bulletin/./data/hypo/h202002.zip\"\n",
       " \"https://www.data.jma.go.jp/svd/eqev/data/bulletin/./data/hypo/h202003.zip\"\n",
       " \"https://www.data.jma.go.jp/svd/eqev/data/bulletin/./data/hypo/h202004.zip\"\n",
       " \"https://www.data.jma.go.jp/svd/eqev/data/bulletin/./data/hypo/h202005.zip\"\n",
       " \"https://www.data.jma.go.jp/svd/eqev/data/bulletin/./data/hypo/h202006.zip\"\n",
       " \"https://www.data.jma.go.jp/svd/eqev/data/bulletin/./data/hypo/h202007.zip\"\n",
       " \"https://www.data.jma.go.jp/svd/eqev/data/bulletin/./data/hypo/h202008.zip\"\n",
       " \"https://www.data.jma.go.jp/svd/eqev/data/bulletin/./data/hypo/h2019.zip\"\n",
       " \"https://www.data.jma.go.jp/svd/eqev/data/bulletin/./data/hypo/h2018.zip\"\n",
       " ⋮\n",
       " \"https://www.data.jma.go.jp/svd/eqev/data/bulletin/./data/hypo/h1987.zip\"\n",
       " \"https://www.data.jma.go.jp/svd/eqev/data/bulletin/./data/hypo/h1986.zip\"\n",
       " \"https://www.data.jma.go.jp/svd/eqev/data/bulletin/./data/hypo/h1985.zip\"\n",
       " \"https://www.data.jma.go.jp/svd/eqev/data/bulletin/./data/hypo/h1984.zip\"\n",
       " \"https://www.data.jma.go.jp/svd/eqev/data/bulletin/./data/hypo/h1983.zip\"\n",
       " \"https://www.data.jma.go.jp/svd/eqev/data/bulletin/./data/hypo/h1967.zip\"\n",
       " \"https://www.data.jma.go.jp/svd/eqev/data/bulletin/./data/hypo/h1961.zip\"\n",
       " \"https://www.data.jma.go.jp/svd/eqev/data/bulletin/./data/hypo/h1951.zip\"\n",
       " \"https://www.data.jma.go.jp/svd/eqev/data/bulletin/./data/hypo/h1919.zip\""
      ]
     },
     "metadata": {},
     "output_type": "display_data"
    }
   ],
   "source": [
    "download_url = corelink .* hrefs"
   ]
  },
  {
   "cell_type": "code",
   "execution_count": 13,
   "metadata": {},
   "outputs": [
    {
     "data": {
      "text/plain": [
       "\"./downloads\""
      ]
     },
     "metadata": {},
     "output_type": "display_data"
    }
   ],
   "source": [
    "mkpath(\"./downloads\")"
   ]
  },
  {
   "cell_type": "code",
   "execution_count": 14,
   "metadata": {},
   "outputs": [
    {
     "name": "stderr",
     "output_type": "stream",
     "text": [
      "┌ Info: Downloading\n",
      "│   source = https://www.data.jma.go.jp/svd/eqev/data/bulletin/./data/hypo/h202001.zip\n",
      "│   dest = ./downloads\\h202001.zip\n",
      "│   progress = 1.0\n",
      "│   time_taken = 0.02 s\n",
      "│   time_remaining = 0.0 s\n",
      "│   average_speed = 24.577 MiB/s\n",
      "│   downloaded = 453.001 KiB\n",
      "│   remaining = 0 bytes\n",
      "│   total = 453.001 KiB\n",
      "└ @ HTTP C:\\Users\\gabipana\\.julia\\packages\\HTTP\\z8l0i\\src\\download.jl:132\n",
      "┌ Info: Downloading\n",
      "│   source = https://www.data.jma.go.jp/svd/eqev/data/bulletin/./data/hypo/h202002.zip\n",
      "│   dest = ./downloads\\h202002.zip\n",
      "│   progress = 1.0\n",
      "│   time_taken = 0.02 s\n",
      "│   time_remaining = 0.0 s\n",
      "│   average_speed = 28.815 MiB/s\n",
      "│   downloaded = 472.100 KiB\n",
      "│   remaining = 0 bytes\n",
      "│   total = 472.100 KiB\n",
      "└ @ HTTP C:\\Users\\gabipana\\.julia\\packages\\HTTP\\z8l0i\\src\\download.jl:132\n"
     ]
    },
    {
     "data": {
      "text/plain": [
       "2-element Vector{String}:\n",
       " \"./downloads\\\\h202001.zip\"\n",
       " \"./downloads\\\\h202002.zip\""
      ]
     },
     "metadata": {},
     "output_type": "display_data"
    }
   ],
   "source": [
    "HTTP.download.(download_url[1:2],\"./downloads\")"
   ]
  },
  {
   "cell_type": "code",
   "execution_count": null,
   "metadata": {},
   "outputs": [],
   "source": [
    "mkpath(\"./downloads\")\n",
    "for link_component in hrefs\n",
    "    download_url = corelink * link_component\n",
    "    HTTP.download(download_url,\"./downloads\")\n",
    "end;"
   ]
  },
  {
   "cell_type": "code",
   "execution_count": null,
   "metadata": {},
   "outputs": [],
   "source": []
  },
  {
   "cell_type": "code",
   "execution_count": 198,
   "metadata": {},
   "outputs": [],
   "source": [
    "using ZipFile"
   ]
  },
  {
   "cell_type": "code",
   "execution_count": 203,
   "metadata": {},
   "outputs": [
    {
     "data": {
      "text/plain": [
       "unzip_files (generic function with 1 method)"
      ]
     },
     "metadata": {},
     "output_type": "display_data"
    }
   ],
   "source": [
    "function unzip_files(folder_path::AbstractString, destination_path::AbstractString)\n",
    "    # Get a list of all the files in the folder\n",
    "    file_list = readdir(folder_path)\n",
    "\n",
    "    # Filter the list to only include .zip files\n",
    "    zip_files = filter(x -> occursin(r\"\\.zip$\", x), file_list)\n",
    "\n",
    "    # Unzip each .zip file in the folder\n",
    "    for file in zip_files\n",
    "        # Construct the path to the .zip file\n",
    "        zip_path = joinpath(folder_path, file)\n",
    "\n",
    "        # Open the .zip file\n",
    "        zf = ZipFile.Reader(zip_path)\n",
    "\n",
    "        # Loop over each file in the .zip file\n",
    "        for file_in_zip in zf.files\n",
    "            # Get the name of the file in the .zip file\n",
    "            file_name = basename(file_in_zip.name)\n",
    "\n",
    "            # Construct the path to extract the file to\n",
    "            extract_path = joinpath(destination_path, file_name)\n",
    "\n",
    "            # Extract the file to the folder\n",
    "            write(extract_path, read(file_in_zip, String))\n",
    "        end\n",
    "\n",
    "        # Close the .zip file\n",
    "        close(zf)\n",
    "    end\n",
    "end"
   ]
  },
  {
   "cell_type": "code",
   "execution_count": 208,
   "metadata": {},
   "outputs": [
    {
     "ename": "MethodError",
     "evalue": "MethodError: no method matching unzip_files(::String, ::String)\nClosest candidates are:\n  unzip_files(::AbstractString) at d:\\projects\\seismic-networks-julia\\data_collection\\japan\\japan.ipynb:1",
     "output_type": "error",
     "traceback": [
      "MethodError: no method matching unzip_files(::String, ::String)\n",
      "Closest candidates are:\n",
      "  unzip_files(::AbstractString) at d:\\projects\\seismic-networks-julia\\data_collection\\japan\\japan.ipynb:1\n",
      "\n",
      "Stacktrace:\n",
      " [1] top-level scope\n",
      "   @ d:\\projects\\seismic-networks-julia\\data_collection\\japan\\japan.ipynb:4"
     ]
    }
   ],
   "source": [
    "folder_path = \"./downloads\"\n",
    "destination_path = \"./data\"\n",
    "mkpath(destination_path)\n",
    "unzip_files(folder_path, destination_path)"
   ]
  },
  {
   "cell_type": "code",
   "execution_count": null,
   "metadata": {},
   "outputs": [],
   "source": []
  },
  {
   "cell_type": "code",
   "execution_count": null,
   "metadata": {},
   "outputs": [],
   "source": []
  }
 ],
 "metadata": {
  "kernelspec": {
   "display_name": "Julia 1.8.5",
   "language": "julia",
   "name": "julia-1.8"
  },
  "language_info": {
   "file_extension": ".jl",
   "mimetype": "application/julia",
   "name": "julia",
   "version": "1.8.5"
  },
  "orig_nbformat": 4,
  "vscode": {
   "interpreter": {
    "hash": "0f70a35dd2b85e0fbdf740964da3dda7ef418e2ba19e1da9e3dbc65ae5d9559a"
   }
  }
 },
 "nbformat": 4,
 "nbformat_minor": 2
}
