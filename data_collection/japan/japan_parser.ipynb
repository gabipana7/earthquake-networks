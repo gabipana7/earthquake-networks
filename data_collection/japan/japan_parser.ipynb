{
 "cells": [
  {
   "cell_type": "code",
   "execution_count": 1,
   "metadata": {},
   "outputs": [],
   "source": [
    "using CSV, DataFrames, Dates"
   ]
  },
  {
   "cell_type": "code",
   "execution_count": 2,
   "metadata": {},
   "outputs": [
    {
     "data": {
      "text/plain": [
       "\"../../japan_data\""
      ]
     },
     "metadata": {},
     "output_type": "display_data"
    }
   ],
   "source": [
    "destination_path = \"../../japan_data\""
   ]
  },
  {
   "cell_type": "code",
   "execution_count": 3,
   "metadata": {},
   "outputs": [
    {
     "data": {
      "text/plain": [
       "50-element Vector{String}:\n",
       " \"../../japan_data\\\\h1919\"\n",
       " \"../../japan_data\\\\h1951\"\n",
       " \"../../japan_data\\\\h1961\"\n",
       " \"../../japan_data\\\\h1967\"\n",
       " \"../../japan_data\\\\h1983\"\n",
       " \"../../japan_data\\\\h1984\"\n",
       " \"../../japan_data\\\\h1985\"\n",
       " \"../../japan_data\\\\h1986\"\n",
       " \"../../japan_data\\\\h1987\"\n",
       " \"../../japan_data\\\\h1988\"\n",
       " ⋮\n",
       " \"../../japan_data\\\\h2019\"\n",
       " \"../../japan_data\\\\h202001\"\n",
       " \"../../japan_data\\\\h202002\"\n",
       " \"../../japan_data\\\\h202003\"\n",
       " \"../../japan_data\\\\h202004\"\n",
       " \"../../japan_data\\\\h202005\"\n",
       " \"../../japan_data\\\\h202006\"\n",
       " \"../../japan_data\\\\h202007\"\n",
       " \"../../japan_data\\\\h202008\""
      ]
     },
     "metadata": {},
     "output_type": "display_data"
    }
   ],
   "source": [
    "filepaths = readdir(destination_path,join=true)"
   ]
  },
  {
   "cell_type": "code",
   "execution_count": 4,
   "metadata": {},
   "outputs": [
    {
     "data": {
      "text/plain": [
       "parse_float (generic function with 1 method)"
      ]
     },
     "metadata": {},
     "output_type": "display_data"
    }
   ],
   "source": [
    "identifier = []\n",
    "datetime = []\n",
    "latitude_deg, latitude_min=  [],[]\n",
    "longitude_deg, longitude_min =  [],[]\n",
    "depth = []\n",
    "magnitude1 = []\n",
    "magnitude1_type = []\n",
    "\n",
    "# 5:end -> 1983 - 2020\n",
    "for path in filepaths[5:end]\n",
    "    open(path) do io\n",
    "        # skip the first line\n",
    "        # line = readline(io)\n",
    "        while true\n",
    "            # start reading the lines\n",
    "            line = readline(io)\n",
    "            # detect the end of the line\n",
    "            line == \"\" && break\n",
    "            # push to the vectors, the characters based on the position in the text file\n",
    "            # push!(date,  strip(line[1:10]))\n",
    "            push!(identifier,  strip(line[1:1]))\n",
    "\n",
    "            # DATETIME PROCESSING \n",
    "            year = strip(line[2:5])\n",
    "            month = strip(line[6:7])\n",
    "            day = strip(line[8:9])\n",
    "            hour = strip(line[10:11])\n",
    "            minute = strip(line[12:13])\n",
    "            second = strip(line[14:17])\n",
    "            push!(datetime,  year * \"/\" * month * \"/\" * day * \" \" * hour * \":\" * minute * \":\" * string(parse(Float64,second)/100))\n",
    "\n",
    "            # Latitude\n",
    "            push!(latitude_deg,strip(line[22:24]) )\n",
    "            push!(latitude_min, strip(line[25:28]))\n",
    "            \n",
    "            # Longitude\n",
    "            push!(longitude_deg, strip(line[33:36]))\n",
    "            push!(longitude_min, strip(line[37:40]))\n",
    "\n",
    "            # Depth\n",
    "            push!(depth, strip(line[45:49]))\n",
    "\n",
    "            # Magnitude\n",
    "            push!(magnitude1, strip(line[53:54]))\n",
    "            push!(magnitude1_type, strip(line[55:55]))\n",
    "            # push!(magnitude2, parse(Float64, strip(line[56:57])))\n",
    "            # push!(magnitude2_type, strip(line[57:58]))\n",
    "        end\n",
    "    end\n",
    "end\n",
    "\n",
    "df = DataFrame(Identifier=identifier,\n",
    "                Datetime=datetime, \n",
    "                Latitude_degree=latitude_deg, Latitude_minute=latitude_min, \n",
    "                Longitude_degree=longitude_deg, Longitude_minute=longitude_min,\n",
    "                Depth=depth,\n",
    "                Magnitude=magnitude1, Magnitude_type=magnitude1_type)\n",
    "\n",
    "\n",
    "####################################################\n",
    "# STEP 2\n",
    "# Some preprocessing -> keep Japan, eliminate emptys \n",
    "####################################################\n",
    "\n",
    "japan = df[df.Identifier .== \"J\",:]\n",
    "\n",
    "# Eliminate empty strings data\n",
    "japan = japan[all.(!=(\"\"), eachrow(japan)), :]\n",
    "\n",
    "\n",
    "####################################################\n",
    "# STEP 3\n",
    "# Processing -> manage long, lat, dep and mag\n",
    "####################################################\n",
    "\n",
    "# Parser for strings to turn into float and process\n",
    "function parse_float(value)\n",
    "    try\n",
    "        float_value = parse(Float64, value)\n",
    "        return(float_value)\n",
    "    catch e\n",
    "        return(missing)\n",
    "    end\n",
    "end"
   ]
  },
  {
   "cell_type": "code",
   "execution_count": 5,
   "metadata": {},
   "outputs": [
    {
     "data": {
      "text/plain": [
       "Any[]"
      ]
     },
     "metadata": {},
     "output_type": "display_data"
    }
   ],
   "source": [
    "latitude = []\n",
    "longitude = []\n",
    "depth = []\n",
    "magnitude =[]"
   ]
  },
  {
   "cell_type": "code",
   "execution_count": 6,
   "metadata": {},
   "outputs": [],
   "source": [
    "for i in eachindex(japan.Identifier)\n",
    "    # Latitude processing\n",
    "    lat_deg = parse_float(japan.Latitude_degree[i])\n",
    "    # Minutes are in the form XXXX, but represent actually XX.XX\n",
    "    # Divide XXXX by 100\n",
    "    lat_min = parse_float(japan.Latitude_minute[i]) / 6000\n",
    "\n",
    "    push!(latitude, lat_deg + lat_min)\n",
    "\n",
    "    # Longitude processing\n",
    "    lon_deg = parse_float(japan.Longitude_degree[i])\n",
    "    lon_min = parse_float(japan.Longitude_minute[i]) / 6000\n",
    "\n",
    "    push!(longitude, lon_deg + lon_min)\n",
    "\n",
    "    # Depth processing\n",
    "    dep = parse_float(japan.Depth[i]) / 100\n",
    "    push!(depth, dep )\n",
    "\n",
    "    # Magnitude\n",
    "    mag = parse_float(japan.Magnitude[i]) / 10\n",
    "    push!(magnitude, mag)\n",
    "end\n",
    "\n"
   ]
  },
  {
   "cell_type": "code",
   "execution_count": 7,
   "metadata": {},
   "outputs": [
    {
     "data": {
      "text/plain": [
       "3907921-element Vector{DateTime}:\n",
       " 1983-01-01T00:36:05.840\n",
       " 1983-01-01T00:44:03.730\n",
       " 1983-01-01T01:05:05.160\n",
       " 1983-01-01T01:18:05.400\n",
       " 1983-01-01T01:21:05.440\n",
       " 1983-01-01T01:26:02.630\n",
       " 1983-01-01T01:36:02.660\n",
       " 1983-01-01T01:47:04.750\n",
       " 1983-01-01T01:51:04.830\n",
       " 1983-01-01T01:53:01.370\n",
       " ⋮\n",
       " 2020-08-31T23:41:03.390\n",
       " 2020-08-31T23:42:18\n",
       " 2020-08-31T23:47:18.900\n",
       " 2020-08-31T23:47:29.650\n",
       " 2020-08-31T23:49:43.620\n",
       " 2020-08-31T23:51:10.010\n",
       " 2020-08-31T23:52:39.120\n",
       " 2020-08-31T23:54:46.940\n",
       " 2020-08-31T23:55:49.130"
      ]
     },
     "metadata": {},
     "output_type": "display_data"
    }
   ],
   "source": [
    "# do not forget about datetime\n",
    "datetime = []\n",
    "dateformat = dateformat\"yyyy/mm/dd HH:MM:SS.ss\"\n",
    "datetime = DateTime.(japan.Datetime, dateformat);\n",
    "\n"
   ]
  },
  {
   "cell_type": "code",
   "execution_count": 8,
   "metadata": {},
   "outputs": [
    {
     "data": {
      "text/html": [
       "<div><div style = \"float: left;\"><span>3907921×6 DataFrame</span></div><div style = \"float: right;\"><span style = \"font-style: italic;\">3907896 rows omitted</span></div><div style = \"clear: both;\"></div></div><div class = \"data-frame\" style = \"overflow-x: scroll;\"><table class = \"data-frame\" style = \"margin-bottom: 6px;\"><thead><tr class = \"header\"><th class = \"rowNumber\" style = \"font-weight: bold; text-align: right;\">Row</th><th style = \"text-align: left;\">Datetime</th><th style = \"text-align: left;\">Latitude</th><th style = \"text-align: left;\">Longitude</th><th style = \"text-align: left;\">Depth</th><th style = \"text-align: left;\">Magnitude</th><th style = \"text-align: left;\">Magnitude_type</th></tr><tr class = \"subheader headerLastRow\"><th class = \"rowNumber\" style = \"font-weight: bold; text-align: right;\"></th><th title = \"DateTime\" style = \"text-align: left;\">DateTime</th><th title = \"Any\" style = \"text-align: left;\">Any</th><th title = \"Any\" style = \"text-align: left;\">Any</th><th title = \"Any\" style = \"text-align: left;\">Any</th><th title = \"Any\" style = \"text-align: left;\">Any</th><th title = \"Any\" style = \"text-align: left;\">Any</th></tr></thead><tbody><tr><td class = \"rowNumber\" style = \"font-weight: bold; text-align: right;\">1</td><td style = \"text-align: left;\">1983-01-01T00:36:05.840</td><td style = \"text-align: left;\">33.0778</td><td style = \"text-align: left;\">139.035</td><td style = \"text-align: left;\">0.21</td><td style = \"text-align: left;\">3.9</td><td style = \"text-align: left;\">V</td></tr><tr><td class = \"rowNumber\" style = \"font-weight: bold; text-align: right;\">2</td><td style = \"text-align: left;\">1983-01-01T00:44:03.730</td><td style = \"text-align: left;\">33.0892</td><td style = \"text-align: left;\">139.042</td><td style = \"text-align: left;\">0.0</td><td style = \"text-align: left;\">3.2</td><td style = \"text-align: left;\">V</td></tr><tr><td class = \"rowNumber\" style = \"font-weight: bold; text-align: right;\">3</td><td style = \"text-align: left;\">1983-01-01T01:05:05.160</td><td style = \"text-align: left;\">33.0918</td><td style = \"text-align: left;\">139.044</td><td style = \"text-align: left;\">0.17</td><td style = \"text-align: left;\">3.7</td><td style = \"text-align: left;\">V</td></tr><tr><td class = \"rowNumber\" style = \"font-weight: bold; text-align: right;\">4</td><td style = \"text-align: left;\">1983-01-01T01:18:05.400</td><td style = \"text-align: left;\">33.078</td><td style = \"text-align: left;\">139.041</td><td style = \"text-align: left;\">0.16</td><td style = \"text-align: left;\">2.8</td><td style = \"text-align: left;\">V</td></tr><tr><td class = \"rowNumber\" style = \"font-weight: bold; text-align: right;\">5</td><td style = \"text-align: left;\">1983-01-01T01:21:05.440</td><td style = \"text-align: left;\">33.0798</td><td style = \"text-align: left;\">139.034</td><td style = \"text-align: left;\">0.09</td><td style = \"text-align: left;\">2.9</td><td style = \"text-align: left;\">V</td></tr><tr><td class = \"rowNumber\" style = \"font-weight: bold; text-align: right;\">6</td><td style = \"text-align: left;\">1983-01-01T01:26:02.630</td><td style = \"text-align: left;\">33.0773</td><td style = \"text-align: left;\">139.042</td><td style = \"text-align: left;\">0.2</td><td style = \"text-align: left;\">3.4</td><td style = \"text-align: left;\">V</td></tr><tr><td class = \"rowNumber\" style = \"font-weight: bold; text-align: right;\">7</td><td style = \"text-align: left;\">1983-01-01T01:36:02.660</td><td style = \"text-align: left;\">33.0778</td><td style = \"text-align: left;\">139.044</td><td style = \"text-align: left;\">0.3</td><td style = \"text-align: left;\">3.0</td><td style = \"text-align: left;\">V</td></tr><tr><td class = \"rowNumber\" style = \"font-weight: bold; text-align: right;\">8</td><td style = \"text-align: left;\">1983-01-01T01:47:04.750</td><td style = \"text-align: left;\">33.0785</td><td style = \"text-align: left;\">139.033</td><td style = \"text-align: left;\">0.11</td><td style = \"text-align: left;\">2.6</td><td style = \"text-align: left;\">V</td></tr><tr><td class = \"rowNumber\" style = \"font-weight: bold; text-align: right;\">9</td><td style = \"text-align: left;\">1983-01-01T01:51:04.830</td><td style = \"text-align: left;\">33.0763</td><td style = \"text-align: left;\">139.039</td><td style = \"text-align: left;\">0.15</td><td style = \"text-align: left;\">3.0</td><td style = \"text-align: left;\">V</td></tr><tr><td class = \"rowNumber\" style = \"font-weight: bold; text-align: right;\">10</td><td style = \"text-align: left;\">1983-01-01T01:53:01.370</td><td style = \"text-align: left;\">33.0778</td><td style = \"text-align: left;\">139.038</td><td style = \"text-align: left;\">0.19</td><td style = \"text-align: left;\">3.1</td><td style = \"text-align: left;\">V</td></tr><tr><td class = \"rowNumber\" style = \"font-weight: bold; text-align: right;\">11</td><td style = \"text-align: left;\">1983-01-01T01:54:00.310</td><td style = \"text-align: left;\">33.079</td><td style = \"text-align: left;\">139.037</td><td style = \"text-align: left;\">0.19</td><td style = \"text-align: left;\">4.1</td><td style = \"text-align: left;\">J</td></tr><tr><td class = \"rowNumber\" style = \"font-weight: bold; text-align: right;\">12</td><td style = \"text-align: left;\">1983-01-01T02:18:03.090</td><td style = \"text-align: left;\">33.0762</td><td style = \"text-align: left;\">139.035</td><td style = \"text-align: left;\">0.17</td><td style = \"text-align: left;\">3.7</td><td style = \"text-align: left;\">V</td></tr><tr><td class = \"rowNumber\" style = \"font-weight: bold; text-align: right;\">13</td><td style = \"text-align: left;\">1983-01-01T02:19:04.690</td><td style = \"text-align: left;\">33.0788</td><td style = \"text-align: left;\">139.037</td><td style = \"text-align: left;\">0.26</td><td style = \"text-align: left;\">3.3</td><td style = \"text-align: left;\">V</td></tr><tr><td style = \"text-align: right;\">&vellip;</td><td style = \"text-align: right;\">&vellip;</td><td style = \"text-align: right;\">&vellip;</td><td style = \"text-align: right;\">&vellip;</td><td style = \"text-align: right;\">&vellip;</td><td style = \"text-align: right;\">&vellip;</td><td style = \"text-align: right;\">&vellip;</td></tr><tr><td class = \"rowNumber\" style = \"font-weight: bold; text-align: right;\">3907910</td><td style = \"text-align: left;\">2020-08-31T23:36:45.060</td><td style = \"text-align: left;\">35.858</td><td style = \"text-align: left;\">140.448</td><td style = \"text-align: left;\">32.32</td><td style = \"text-align: left;\">0.6</td><td style = \"text-align: left;\">V</td></tr><tr><td class = \"rowNumber\" style = \"font-weight: bold; text-align: right;\">3907911</td><td style = \"text-align: left;\">2020-08-31T23:37:53.310</td><td style = \"text-align: left;\">35.9108</td><td style = \"text-align: left;\">137.727</td><td style = \"text-align: left;\">4.83</td><td style = \"text-align: left;\">0.0</td><td style = \"text-align: left;\">V</td></tr><tr><td class = \"rowNumber\" style = \"font-weight: bold; text-align: right;\">3907912</td><td style = \"text-align: left;\">2020-08-31T23:40:31.810</td><td style = \"text-align: left;\">36.2415</td><td style = \"text-align: left;\">137.664</td><td style = \"text-align: left;\">10.79</td><td style = \"text-align: left;\">-0.1</td><td style = \"text-align: left;\">V</td></tr><tr><td class = \"rowNumber\" style = \"font-weight: bold; text-align: right;\">3907913</td><td style = \"text-align: left;\">2020-08-31T23:41:03.390</td><td style = \"text-align: left;\">36.241</td><td style = \"text-align: left;\">137.664</td><td style = \"text-align: left;\">7.22</td><td style = \"text-align: left;\">0.7</td><td style = \"text-align: left;\">V</td></tr><tr><td class = \"rowNumber\" style = \"font-weight: bold; text-align: right;\">3907914</td><td style = \"text-align: left;\">2020-08-31T23:42:18</td><td style = \"text-align: left;\">36.24</td><td style = \"text-align: left;\">137.672</td><td style = \"text-align: left;\">16.61</td><td style = \"text-align: left;\">0.3</td><td style = \"text-align: left;\">V</td></tr><tr><td class = \"rowNumber\" style = \"font-weight: bold; text-align: right;\">3907915</td><td style = \"text-align: left;\">2020-08-31T23:47:18.900</td><td style = \"text-align: left;\">35.5092</td><td style = \"text-align: left;\">135.985</td><td style = \"text-align: left;\">7.83</td><td style = \"text-align: left;\">0.4</td><td style = \"text-align: left;\">v</td></tr><tr><td class = \"rowNumber\" style = \"font-weight: bold; text-align: right;\">3907916</td><td style = \"text-align: left;\">2020-08-31T23:47:29.650</td><td style = \"text-align: left;\">36.2393</td><td style = \"text-align: left;\">137.656</td><td style = \"text-align: left;\">4.02</td><td style = \"text-align: left;\">-0.2</td><td style = \"text-align: left;\">V</td></tr><tr><td class = \"rowNumber\" style = \"font-weight: bold; text-align: right;\">3907917</td><td style = \"text-align: left;\">2020-08-31T23:49:43.620</td><td style = \"text-align: left;\">37.148</td><td style = \"text-align: left;\">139.536</td><td style = \"text-align: left;\">6.89</td><td style = \"text-align: left;\">0.4</td><td style = \"text-align: left;\">V</td></tr><tr><td class = \"rowNumber\" style = \"font-weight: bold; text-align: right;\">3907918</td><td style = \"text-align: left;\">2020-08-31T23:51:10.010</td><td style = \"text-align: left;\">35.0288</td><td style = \"text-align: left;\">135.58</td><td style = \"text-align: left;\">11.0</td><td style = \"text-align: left;\">0.3</td><td style = \"text-align: left;\">V</td></tr><tr><td class = \"rowNumber\" style = \"font-weight: bold; text-align: right;\">3907919</td><td style = \"text-align: left;\">2020-08-31T23:52:39.120</td><td style = \"text-align: left;\">36.2407</td><td style = \"text-align: left;\">137.657</td><td style = \"text-align: left;\">5.64</td><td style = \"text-align: left;\">0.0</td><td style = \"text-align: left;\">V</td></tr><tr><td class = \"rowNumber\" style = \"font-weight: bold; text-align: right;\">3907920</td><td style = \"text-align: left;\">2020-08-31T23:54:46.940</td><td style = \"text-align: left;\">36.617</td><td style = \"text-align: left;\">140.06</td><td style = \"text-align: left;\">112.1</td><td style = \"text-align: left;\">1.1</td><td style = \"text-align: left;\">V</td></tr><tr><td class = \"rowNumber\" style = \"font-weight: bold; text-align: right;\">3907921</td><td style = \"text-align: left;\">2020-08-31T23:55:49.130</td><td style = \"text-align: left;\">35.8678</td><td style = \"text-align: left;\">137.645</td><td style = \"text-align: left;\">8.4</td><td style = \"text-align: left;\">0.4</td><td style = \"text-align: left;\">V</td></tr></tbody></table></div>"
      ],
      "text/latex": [
       "\\begin{tabular}{r|cccccc}\n",
       "\t& Datetime & Latitude & Longitude & Depth & Magnitude & Magnitude\\_type\\\\\n",
       "\t\\hline\n",
       "\t& DateTime & Any & Any & Any & Any & Any\\\\\n",
       "\t\\hline\n",
       "\t1 & 1983-01-01T00:36:05.840 & 33.0778 & 139.035 & 0.21 & 3.9 & V \\\\\n",
       "\t2 & 1983-01-01T00:44:03.730 & 33.0892 & 139.042 & 0.0 & 3.2 & V \\\\\n",
       "\t3 & 1983-01-01T01:05:05.160 & 33.0918 & 139.044 & 0.17 & 3.7 & V \\\\\n",
       "\t4 & 1983-01-01T01:18:05.400 & 33.078 & 139.041 & 0.16 & 2.8 & V \\\\\n",
       "\t5 & 1983-01-01T01:21:05.440 & 33.0798 & 139.034 & 0.09 & 2.9 & V \\\\\n",
       "\t6 & 1983-01-01T01:26:02.630 & 33.0773 & 139.042 & 0.2 & 3.4 & V \\\\\n",
       "\t7 & 1983-01-01T01:36:02.660 & 33.0778 & 139.044 & 0.3 & 3.0 & V \\\\\n",
       "\t8 & 1983-01-01T01:47:04.750 & 33.0785 & 139.033 & 0.11 & 2.6 & V \\\\\n",
       "\t9 & 1983-01-01T01:51:04.830 & 33.0763 & 139.039 & 0.15 & 3.0 & V \\\\\n",
       "\t10 & 1983-01-01T01:53:01.370 & 33.0778 & 139.038 & 0.19 & 3.1 & V \\\\\n",
       "\t11 & 1983-01-01T01:54:00.310 & 33.079 & 139.037 & 0.19 & 4.1 & J \\\\\n",
       "\t12 & 1983-01-01T02:18:03.090 & 33.0762 & 139.035 & 0.17 & 3.7 & V \\\\\n",
       "\t13 & 1983-01-01T02:19:04.690 & 33.0788 & 139.037 & 0.26 & 3.3 & V \\\\\n",
       "\t14 & 1983-01-01T02:26:00.800 & 33.0847 & 139.052 & 0.41 & 2.5 & V \\\\\n",
       "\t15 & 1983-01-01T02:55:00.720 & 36.0418 & 141.013 & 0.44 & 2.8 & V \\\\\n",
       "\t16 & 1983-01-01T02:55:02.400 & 33.0798 & 139.031 & 0.14 & 2.5 & V \\\\\n",
       "\t17 & 1983-01-01T02:56:05.040 & 33.0803 & 139.038 & 0.23 & 2.7 & V \\\\\n",
       "\t18 & 1983-01-01T03:03:00.380 & 33.0638 & 139.066 & 0.25 & 4.0 & V \\\\\n",
       "\t19 & 1983-01-01T03:15:00.460 & 33.0793 & 139.039 & 0.29 & 2.5 & V \\\\\n",
       "\t20 & 1983-01-01T03:17:01.430 & 33.0803 & 139.031 & 0.0 & 3.2 & V \\\\\n",
       "\t21 & 1983-01-01T03:19:00.770 & 33.0752 & 139.031 & 0.04 & 2.9 & V \\\\\n",
       "\t22 & 1983-01-01T03:31:01.720 & 33.0772 & 139.032 & 0.04 & 2.9 & V \\\\\n",
       "\t23 & 1983-01-01T03:41:00.110 & 33.0783 & 139.032 & 0.0 & 2.6 & V \\\\\n",
       "\t24 & 1983-01-01T03:49:01.570 & 33.0785 & 139.033 & 0.11 & 2.5 & V \\\\\n",
       "\t$\\dots$ & $\\dots$ & $\\dots$ & $\\dots$ & $\\dots$ & $\\dots$ & $\\dots$ \\\\\n",
       "\\end{tabular}\n"
      ],
      "text/plain": [
       "\u001b[1m3907921×6 DataFrame\u001b[0m\n",
       "\u001b[1m     Row \u001b[0m│\u001b[1m Datetime                \u001b[0m\u001b[1m Latitude \u001b[0m\u001b[1m Longitude \u001b[0m\u001b[1m Depth \u001b[0m\u001b[1m Magnitude \u001b[0m\u001b[1m Mag\u001b[0m ⋯\n",
       "         │\u001b[90m DateTime                \u001b[0m\u001b[90m Any      \u001b[0m\u001b[90m Any       \u001b[0m\u001b[90m Any   \u001b[0m\u001b[90m Any       \u001b[0m\u001b[90m Any\u001b[0m ⋯\n",
       "─────────┼──────────────────────────────────────────────────────────────────────\n",
       "       1 │ 1983-01-01T00:36:05.840  33.0778   139.035    0.21   3.9        V   ⋯\n",
       "       2 │ 1983-01-01T00:44:03.730  33.0892   139.042    0.0    3.2        V\n",
       "       3 │ 1983-01-01T01:05:05.160  33.0918   139.044    0.17   3.7        V\n",
       "       4 │ 1983-01-01T01:18:05.400  33.078    139.041    0.16   2.8        V\n",
       "       5 │ 1983-01-01T01:21:05.440  33.0798   139.034    0.09   2.9        V   ⋯\n",
       "       6 │ 1983-01-01T01:26:02.630  33.0773   139.042    0.2    3.4        V\n",
       "       7 │ 1983-01-01T01:36:02.660  33.0778   139.044    0.3    3.0        V\n",
       "       8 │ 1983-01-01T01:47:04.750  33.0785   139.033    0.11   2.6        V\n",
       "    ⋮    │            ⋮                ⋮          ⋮        ⋮        ⋮          ⋱\n",
       " 3907915 │ 2020-08-31T23:47:18.900  35.5092   135.985    7.83   0.4        v   ⋯\n",
       " 3907916 │ 2020-08-31T23:47:29.650  36.2393   137.656    4.02   -0.2       V\n",
       " 3907917 │ 2020-08-31T23:49:43.620  37.148    139.536    6.89   0.4        V\n",
       " 3907918 │ 2020-08-31T23:51:10.010  35.0288   135.58     11.0   0.3        V\n",
       " 3907919 │ 2020-08-31T23:52:39.120  36.2407   137.657    5.64   0.0        V   ⋯\n",
       " 3907920 │ 2020-08-31T23:54:46.940  36.617    140.06     112.1  1.1        V\n",
       " 3907921 │ 2020-08-31T23:55:49.130  35.8678   137.645    8.4    0.4        V\n",
       "\u001b[36m                                               1 column and 3907906 rows omitted\u001b[0m"
      ]
     },
     "metadata": {},
     "output_type": "display_data"
    }
   ],
   "source": [
    "japan_new = DataFrame(Datetime=datetime, \n",
    "                Latitude=latitude, Longitude=longitude, Depth=depth,\n",
    "                Magnitude=magnitude, Magnitude_type=japan.Magnitude_type)"
   ]
  },
  {
   "cell_type": "code",
   "execution_count": 4,
   "metadata": {},
   "outputs": [
    {
     "data": {
      "text/plain": [
       "Any[]"
      ]
     },
     "metadata": {},
     "output_type": "display_data"
    }
   ],
   "source": [
    "# datetime = Vector{String}()\n",
    "# latitude, longitude, depth =  Vector{Float64}(), Vector{Float64}(), Vector{Float64}()\n",
    "# latitude_min, longitude_min =  Vector{Float64}(), Vector{Float64}()\n",
    "# magnitude1 =  Vector{Float64}()\n",
    "# magnitude1_type = Vector{String}()\n",
    "# magnitude2 =  Vector{Float64}()\n",
    "# magnitude2_type = Vector{String}()\n",
    "\n",
    "identifier = []\n",
    "datetime = []\n",
    "# year, month, day = [], [], []\n",
    "date, time, second = [], [], []\n",
    "latitude_deg, latitude_min=  [],[],[]\n",
    "longitude_deg, longitude_min =  [],[]\n",
    "depth = []\n",
    "magnitude1 = []\n",
    "magnitude1_type = []\n",
    "# magnitude2 =  []\n",
    "# magnitude2_type = []"
   ]
  },
  {
   "cell_type": "code",
   "execution_count": 5,
   "metadata": {},
   "outputs": [],
   "source": [
    "for path in filepaths[5:end]\n",
    "    open(path) do io\n",
    "        # skip the first line\n",
    "        # line = readline(io)\n",
    "        while true\n",
    "            # start reading the lines\n",
    "            line = readline(io)\n",
    "            # detect the end of the line\n",
    "            line == \"\" && break\n",
    "            # push to the vectors, the characters based on the position in the text file\n",
    "            # push!(date,  strip(line[1:10]))\n",
    "            push!(identifier,  strip(line[1:1]))\n",
    "\n",
    "            # DATETIME PROCESSING \n",
    "            year = strip(line[2:5])\n",
    "            month = strip(line[6:7])\n",
    "            day = strip(line[8:9])\n",
    "            hour = strip(line[10:11])\n",
    "            minute = strip(line[12:13])\n",
    "            # seconds = parse(Float64, strip(line[14:17])) / 100\n",
    "            seconds = strip(line[14:17])\n",
    "\n",
    "            # push!(date, year * \"/\" * month * \"/\" * day  )\n",
    "            # push!(time, hour * \":\" * minute * \":\" )\n",
    "            # push!(second, seconds )\n",
    "\n",
    "\n",
    "            # push!(datetime,  strip(line[2:17]))\n",
    "            # 35 seconds\n",
    "            push!(datetime,  year * \"/\" * month * \"/\" * day * \" \" * hour * \":\" * minute * \":\" * string(parse(Float64,seconds)/100))\n",
    "\n",
    "            # 12 seconds\n",
    "            # push!(datetime,  year * \"/\" * month * \"/\" * day * \" \" * hour * \":\" * minute * \":\" * seconds)\n",
    "\n",
    "\n",
    "            # Latitude\n",
    "            # latitude_degrees = strip(line[22:24])\n",
    "            # latitude_minutes = strip(line[25:28])\n",
    "            # push!(latitude, latitude_degrees )\n",
    "\n",
    "            push!(latitude_deg,strip(line[22:24]) )\n",
    "            push!(latitude_min, strip(line[25:28]))\n",
    "            \n",
    "            # Longitude\n",
    "            push!(longitude_deg, strip(line[33:36]))\n",
    "            push!(longitude_min, strip(line[37:40]))\n",
    "\n",
    "            # Depth\n",
    "            push!(depth, strip(line[45:49]))\n",
    "\n",
    "            # Magnitude\n",
    "            push!(magnitude1, strip(line[53:54]))\n",
    "            \n",
    "            push!(magnitude1_type, strip(line[55:55]))\n",
    "            # push!(magnitude2, parse(Float64, strip(line[56:57])))\n",
    "            # push!(magnitude2_type, strip(line[57:58]))\n",
    "            \n",
    "        end\n",
    "    end\n",
    "    # break\n",
    "end"
   ]
  },
  {
   "cell_type": "code",
   "execution_count": 6,
   "metadata": {},
   "outputs": [
    {
     "data": {
      "text/html": [
       "<div><div style = \"float: left;\"><span>4086795×9 DataFrame</span></div><div style = \"float: right;\"><span style = \"font-style: italic;\">4086770 rows omitted</span></div><div style = \"clear: both;\"></div></div><div class = \"data-frame\" style = \"overflow-x: scroll;\"><table class = \"data-frame\" style = \"margin-bottom: 6px;\"><thead><tr class = \"header\"><th class = \"rowNumber\" style = \"font-weight: bold; text-align: right;\">Row</th><th style = \"text-align: left;\">Identifier</th><th style = \"text-align: left;\">Datetime</th><th style = \"text-align: left;\">Latitude_degree</th><th style = \"text-align: left;\">Latitude_minute</th><th style = \"text-align: left;\">Longitude_degree</th><th style = \"text-align: left;\">Longitude_minute</th><th style = \"text-align: left;\">Depth</th><th style = \"text-align: left;\">Magnitude</th><th style = \"text-align: left;\">Magnitude_type</th></tr><tr class = \"subheader headerLastRow\"><th class = \"rowNumber\" style = \"font-weight: bold; text-align: right;\"></th><th title = \"Any\" style = \"text-align: left;\">Any</th><th title = \"Any\" style = \"text-align: left;\">Any</th><th title = \"Any\" style = \"text-align: left;\">Any</th><th title = \"Any\" style = \"text-align: left;\">Any</th><th title = \"Any\" style = \"text-align: left;\">Any</th><th title = \"Any\" style = \"text-align: left;\">Any</th><th title = \"Any\" style = \"text-align: left;\">Any</th><th title = \"Any\" style = \"text-align: left;\">Any</th><th title = \"Any\" style = \"text-align: left;\">Any</th></tr></thead><tbody><tr><td class = \"rowNumber\" style = \"font-weight: bold; text-align: right;\">1</td><td style = \"text-align: left;\">J</td><td style = \"text-align: left;\">1983/01/01 00:36:5.84</td><td style = \"text-align: left;\">33</td><td style = \"text-align: left;\">467</td><td style = \"text-align: left;\">139</td><td style = \"text-align: left;\">212</td><td style = \"text-align: left;\">21</td><td style = \"text-align: left;\">39</td><td style = \"text-align: left;\">V</td></tr><tr><td class = \"rowNumber\" style = \"font-weight: bold; text-align: right;\">2</td><td style = \"text-align: left;\">J</td><td style = \"text-align: left;\">1983/01/01 00:44:3.73</td><td style = \"text-align: left;\">33</td><td style = \"text-align: left;\">535</td><td style = \"text-align: left;\">139</td><td style = \"text-align: left;\">251</td><td style = \"text-align: left;\">0</td><td style = \"text-align: left;\">32</td><td style = \"text-align: left;\">V</td></tr><tr><td class = \"rowNumber\" style = \"font-weight: bold; text-align: right;\">3</td><td style = \"text-align: left;\">J</td><td style = \"text-align: left;\">1983/01/01 01:05:5.16</td><td style = \"text-align: left;\">33</td><td style = \"text-align: left;\">551</td><td style = \"text-align: left;\">139</td><td style = \"text-align: left;\">262</td><td style = \"text-align: left;\">17</td><td style = \"text-align: left;\">37</td><td style = \"text-align: left;\">V</td></tr><tr><td class = \"rowNumber\" style = \"font-weight: bold; text-align: right;\">4</td><td style = \"text-align: left;\">J</td><td style = \"text-align: left;\">1983/01/01 01:18:5.4</td><td style = \"text-align: left;\">33</td><td style = \"text-align: left;\">468</td><td style = \"text-align: left;\">139</td><td style = \"text-align: left;\">246</td><td style = \"text-align: left;\">16</td><td style = \"text-align: left;\">28</td><td style = \"text-align: left;\">V</td></tr><tr><td class = \"rowNumber\" style = \"font-weight: bold; text-align: right;\">5</td><td style = \"text-align: left;\">J</td><td style = \"text-align: left;\">1983/01/01 01:21:5.44</td><td style = \"text-align: left;\">33</td><td style = \"text-align: left;\">479</td><td style = \"text-align: left;\">139</td><td style = \"text-align: left;\">201</td><td style = \"text-align: left;\">9</td><td style = \"text-align: left;\">29</td><td style = \"text-align: left;\">V</td></tr><tr><td class = \"rowNumber\" style = \"font-weight: bold; text-align: right;\">6</td><td style = \"text-align: left;\">J</td><td style = \"text-align: left;\">1983/01/01 01:26:2.63</td><td style = \"text-align: left;\">33</td><td style = \"text-align: left;\">464</td><td style = \"text-align: left;\">139</td><td style = \"text-align: left;\">251</td><td style = \"text-align: left;\">20</td><td style = \"text-align: left;\">34</td><td style = \"text-align: left;\">V</td></tr><tr><td class = \"rowNumber\" style = \"font-weight: bold; text-align: right;\">7</td><td style = \"text-align: left;\">J</td><td style = \"text-align: left;\">1983/01/01 01:30:2.66</td><td style = \"text-align: left;\">33</td><td style = \"text-align: left;\">480</td><td style = \"text-align: left;\">139</td><td style = \"text-align: left;\">204</td><td style = \"text-align: left;\">0</td><td style = \"text-align: left;\"></td><td style = \"text-align: left;\"></td></tr><tr><td class = \"rowNumber\" style = \"font-weight: bold; text-align: right;\">8</td><td style = \"text-align: left;\">J</td><td style = \"text-align: left;\">1983/01/01 01:36:2.66</td><td style = \"text-align: left;\">33</td><td style = \"text-align: left;\">467</td><td style = \"text-align: left;\">139</td><td style = \"text-align: left;\">262</td><td style = \"text-align: left;\">30</td><td style = \"text-align: left;\">30</td><td style = \"text-align: left;\">V</td></tr><tr><td class = \"rowNumber\" style = \"font-weight: bold; text-align: right;\">9</td><td style = \"text-align: left;\">J</td><td style = \"text-align: left;\">1983/01/01 01:47:4.75</td><td style = \"text-align: left;\">33</td><td style = \"text-align: left;\">471</td><td style = \"text-align: left;\">139</td><td style = \"text-align: left;\">200</td><td style = \"text-align: left;\">11</td><td style = \"text-align: left;\">26</td><td style = \"text-align: left;\">V</td></tr><tr><td class = \"rowNumber\" style = \"font-weight: bold; text-align: right;\">10</td><td style = \"text-align: left;\">J</td><td style = \"text-align: left;\">1983/01/01 01:51:4.83</td><td style = \"text-align: left;\">33</td><td style = \"text-align: left;\">458</td><td style = \"text-align: left;\">139</td><td style = \"text-align: left;\">234</td><td style = \"text-align: left;\">15</td><td style = \"text-align: left;\">30</td><td style = \"text-align: left;\">V</td></tr><tr><td class = \"rowNumber\" style = \"font-weight: bold; text-align: right;\">11</td><td style = \"text-align: left;\">J</td><td style = \"text-align: left;\">1983/01/01 01:53:1.37</td><td style = \"text-align: left;\">33</td><td style = \"text-align: left;\">467</td><td style = \"text-align: left;\">139</td><td style = \"text-align: left;\">226</td><td style = \"text-align: left;\">19</td><td style = \"text-align: left;\">31</td><td style = \"text-align: left;\">V</td></tr><tr><td class = \"rowNumber\" style = \"font-weight: bold; text-align: right;\">12</td><td style = \"text-align: left;\">J</td><td style = \"text-align: left;\">1983/01/01 01:54:0.31</td><td style = \"text-align: left;\">33</td><td style = \"text-align: left;\">474</td><td style = \"text-align: left;\">139</td><td style = \"text-align: left;\">225</td><td style = \"text-align: left;\">19</td><td style = \"text-align: left;\">41</td><td style = \"text-align: left;\">J</td></tr><tr><td class = \"rowNumber\" style = \"font-weight: bold; text-align: right;\">13</td><td style = \"text-align: left;\">J</td><td style = \"text-align: left;\">1983/01/01 02:18:3.09</td><td style = \"text-align: left;\">33</td><td style = \"text-align: left;\">457</td><td style = \"text-align: left;\">139</td><td style = \"text-align: left;\">208</td><td style = \"text-align: left;\">17</td><td style = \"text-align: left;\">37</td><td style = \"text-align: left;\">V</td></tr><tr><td style = \"text-align: right;\">&vellip;</td><td style = \"text-align: right;\">&vellip;</td><td style = \"text-align: right;\">&vellip;</td><td style = \"text-align: right;\">&vellip;</td><td style = \"text-align: right;\">&vellip;</td><td style = \"text-align: right;\">&vellip;</td><td style = \"text-align: right;\">&vellip;</td><td style = \"text-align: right;\">&vellip;</td><td style = \"text-align: right;\">&vellip;</td><td style = \"text-align: right;\">&vellip;</td></tr><tr><td class = \"rowNumber\" style = \"font-weight: bold; text-align: right;\">4086784</td><td style = \"text-align: left;\">J</td><td style = \"text-align: left;\">2020/08/31 23:36:45.06</td><td style = \"text-align: left;\">35</td><td style = \"text-align: left;\">5148</td><td style = \"text-align: left;\">140</td><td style = \"text-align: left;\">2689</td><td style = \"text-align: left;\">3232</td><td style = \"text-align: left;\">06</td><td style = \"text-align: left;\">V</td></tr><tr><td class = \"rowNumber\" style = \"font-weight: bold; text-align: right;\">4086785</td><td style = \"text-align: left;\">J</td><td style = \"text-align: left;\">2020/08/31 23:37:53.31</td><td style = \"text-align: left;\">35</td><td style = \"text-align: left;\">5465</td><td style = \"text-align: left;\">137</td><td style = \"text-align: left;\">4364</td><td style = \"text-align: left;\">483</td><td style = \"text-align: left;\">00</td><td style = \"text-align: left;\">V</td></tr><tr><td class = \"rowNumber\" style = \"font-weight: bold; text-align: right;\">4086786</td><td style = \"text-align: left;\">J</td><td style = \"text-align: left;\">2020/08/31 23:40:31.81</td><td style = \"text-align: left;\">36</td><td style = \"text-align: left;\">1449</td><td style = \"text-align: left;\">137</td><td style = \"text-align: left;\">3984</td><td style = \"text-align: left;\">1079</td><td style = \"text-align: left;\">-1</td><td style = \"text-align: left;\">V</td></tr><tr><td class = \"rowNumber\" style = \"font-weight: bold; text-align: right;\">4086787</td><td style = \"text-align: left;\">J</td><td style = \"text-align: left;\">2020/08/31 23:41:3.39</td><td style = \"text-align: left;\">36</td><td style = \"text-align: left;\">1446</td><td style = \"text-align: left;\">137</td><td style = \"text-align: left;\">3983</td><td style = \"text-align: left;\">722</td><td style = \"text-align: left;\">07</td><td style = \"text-align: left;\">V</td></tr><tr><td class = \"rowNumber\" style = \"font-weight: bold; text-align: right;\">4086788</td><td style = \"text-align: left;\">J</td><td style = \"text-align: left;\">2020/08/31 23:42:18.0</td><td style = \"text-align: left;\">36</td><td style = \"text-align: left;\">1440</td><td style = \"text-align: left;\">137</td><td style = \"text-align: left;\">4029</td><td style = \"text-align: left;\">1661</td><td style = \"text-align: left;\">03</td><td style = \"text-align: left;\">V</td></tr><tr><td class = \"rowNumber\" style = \"font-weight: bold; text-align: right;\">4086789</td><td style = \"text-align: left;\">J</td><td style = \"text-align: left;\">2020/08/31 23:47:18.9</td><td style = \"text-align: left;\">35</td><td style = \"text-align: left;\">3055</td><td style = \"text-align: left;\">135</td><td style = \"text-align: left;\">5911</td><td style = \"text-align: left;\">783</td><td style = \"text-align: left;\">04</td><td style = \"text-align: left;\">v</td></tr><tr><td class = \"rowNumber\" style = \"font-weight: bold; text-align: right;\">4086790</td><td style = \"text-align: left;\">J</td><td style = \"text-align: left;\">2020/08/31 23:47:29.65</td><td style = \"text-align: left;\">36</td><td style = \"text-align: left;\">1436</td><td style = \"text-align: left;\">137</td><td style = \"text-align: left;\">3937</td><td style = \"text-align: left;\">402</td><td style = \"text-align: left;\">-2</td><td style = \"text-align: left;\">V</td></tr><tr><td class = \"rowNumber\" style = \"font-weight: bold; text-align: right;\">4086791</td><td style = \"text-align: left;\">J</td><td style = \"text-align: left;\">2020/08/31 23:49:43.62</td><td style = \"text-align: left;\">37</td><td style = \"text-align: left;\">0888</td><td style = \"text-align: left;\">139</td><td style = \"text-align: left;\">3218</td><td style = \"text-align: left;\">689</td><td style = \"text-align: left;\">04</td><td style = \"text-align: left;\">V</td></tr><tr><td class = \"rowNumber\" style = \"font-weight: bold; text-align: right;\">4086792</td><td style = \"text-align: left;\">J</td><td style = \"text-align: left;\">2020/08/31 23:51:10.01</td><td style = \"text-align: left;\">35</td><td style = \"text-align: left;\">0173</td><td style = \"text-align: left;\">135</td><td style = \"text-align: left;\">3482</td><td style = \"text-align: left;\">1100</td><td style = \"text-align: left;\">03</td><td style = \"text-align: left;\">V</td></tr><tr><td class = \"rowNumber\" style = \"font-weight: bold; text-align: right;\">4086793</td><td style = \"text-align: left;\">J</td><td style = \"text-align: left;\">2020/08/31 23:52:39.12</td><td style = \"text-align: left;\">36</td><td style = \"text-align: left;\">1444</td><td style = \"text-align: left;\">137</td><td style = \"text-align: left;\">3945</td><td style = \"text-align: left;\">564</td><td style = \"text-align: left;\">00</td><td style = \"text-align: left;\">V</td></tr><tr><td class = \"rowNumber\" style = \"font-weight: bold; text-align: right;\">4086794</td><td style = \"text-align: left;\">J</td><td style = \"text-align: left;\">2020/08/31 23:54:46.94</td><td style = \"text-align: left;\">36</td><td style = \"text-align: left;\">3702</td><td style = \"text-align: left;\">140</td><td style = \"text-align: left;\">0360</td><td style = \"text-align: left;\">11210</td><td style = \"text-align: left;\">11</td><td style = \"text-align: left;\">V</td></tr><tr><td class = \"rowNumber\" style = \"font-weight: bold; text-align: right;\">4086795</td><td style = \"text-align: left;\">J</td><td style = \"text-align: left;\">2020/08/31 23:55:49.13</td><td style = \"text-align: left;\">35</td><td style = \"text-align: left;\">5207</td><td style = \"text-align: left;\">137</td><td style = \"text-align: left;\">3871</td><td style = \"text-align: left;\">840</td><td style = \"text-align: left;\">04</td><td style = \"text-align: left;\">V</td></tr></tbody></table></div>"
      ],
      "text/latex": [
       "\\begin{tabular}{r|cccccc}\n",
       "\t& Identifier & Datetime & Latitude\\_degree & Latitude\\_minute & Longitude\\_degree & \\\\\n",
       "\t\\hline\n",
       "\t& Any & Any & Any & Any & Any & \\\\\n",
       "\t\\hline\n",
       "\t1 & J & 1983/01/01 00:36:5.84 & 33 & 467 & 139 & $\\dots$ \\\\\n",
       "\t2 & J & 1983/01/01 00:44:3.73 & 33 & 535 & 139 & $\\dots$ \\\\\n",
       "\t3 & J & 1983/01/01 01:05:5.16 & 33 & 551 & 139 & $\\dots$ \\\\\n",
       "\t4 & J & 1983/01/01 01:18:5.4 & 33 & 468 & 139 & $\\dots$ \\\\\n",
       "\t5 & J & 1983/01/01 01:21:5.44 & 33 & 479 & 139 & $\\dots$ \\\\\n",
       "\t6 & J & 1983/01/01 01:26:2.63 & 33 & 464 & 139 & $\\dots$ \\\\\n",
       "\t7 & J & 1983/01/01 01:30:2.66 & 33 & 480 & 139 & $\\dots$ \\\\\n",
       "\t8 & J & 1983/01/01 01:36:2.66 & 33 & 467 & 139 & $\\dots$ \\\\\n",
       "\t9 & J & 1983/01/01 01:47:4.75 & 33 & 471 & 139 & $\\dots$ \\\\\n",
       "\t10 & J & 1983/01/01 01:51:4.83 & 33 & 458 & 139 & $\\dots$ \\\\\n",
       "\t11 & J & 1983/01/01 01:53:1.37 & 33 & 467 & 139 & $\\dots$ \\\\\n",
       "\t12 & J & 1983/01/01 01:54:0.31 & 33 & 474 & 139 & $\\dots$ \\\\\n",
       "\t13 & J & 1983/01/01 02:18:3.09 & 33 & 457 & 139 & $\\dots$ \\\\\n",
       "\t14 & J & 1983/01/01 02:19:4.69 & 33 & 473 & 139 & $\\dots$ \\\\\n",
       "\t15 & J & 1983/01/01 02:26:0.8 & 33 & 508 & 139 & $\\dots$ \\\\\n",
       "\t16 & J & 1983/01/01 02:55:0.72 & 36 & 251 & 141 & $\\dots$ \\\\\n",
       "\t17 & J & 1983/01/01 02:55:2.4 & 33 & 479 & 139 & $\\dots$ \\\\\n",
       "\t18 & J & 1983/01/01 02:56:5.04 & 33 & 482 & 139 & $\\dots$ \\\\\n",
       "\t19 & J & 1983/01/01 03:03:0.38 & 33 & 383 & 139 & $\\dots$ \\\\\n",
       "\t20 & J & 1983/01/01 03:15:0.46 & 33 & 476 & 139 & $\\dots$ \\\\\n",
       "\t21 & J & 1983/01/01 03:17:1.43 & 33 & 482 & 139 & $\\dots$ \\\\\n",
       "\t22 & J & 1983/01/01 03:19:0.77 & 33 & 451 & 139 & $\\dots$ \\\\\n",
       "\t23 & J & 1983/01/01 03:31:1.72 & 33 & 463 & 139 & $\\dots$ \\\\\n",
       "\t24 & J & 1983/01/01 03:41:0.11 & 33 & 470 & 139 & $\\dots$ \\\\\n",
       "\t$\\dots$ & $\\dots$ & $\\dots$ & $\\dots$ & $\\dots$ & $\\dots$ &  \\\\\n",
       "\\end{tabular}\n"
      ],
      "text/plain": [
       "\u001b[1m4086795×9 DataFrame\u001b[0m\n",
       "\u001b[1m     Row \u001b[0m│\u001b[1m Identifier \u001b[0m\u001b[1m Datetime               \u001b[0m\u001b[1m Latitude_degree \u001b[0m\u001b[1m Latitude_minut\u001b[0m ⋯\n",
       "         │\u001b[90m Any        \u001b[0m\u001b[90m Any                    \u001b[0m\u001b[90m Any             \u001b[0m\u001b[90m Any           \u001b[0m ⋯\n",
       "─────────┼──────────────────────────────────────────────────────────────────────\n",
       "       1 │ J           1983/01/01 00:36:5.84   33               467            ⋯\n",
       "       2 │ J           1983/01/01 00:44:3.73   33               535\n",
       "       3 │ J           1983/01/01 01:05:5.16   33               551\n",
       "       4 │ J           1983/01/01 01:18:5.4    33               468\n",
       "       5 │ J           1983/01/01 01:21:5.44   33               479            ⋯\n",
       "       6 │ J           1983/01/01 01:26:2.63   33               464\n",
       "       7 │ J           1983/01/01 01:30:2.66   33               480\n",
       "       8 │ J           1983/01/01 01:36:2.66   33               467\n",
       "    ⋮    │     ⋮                 ⋮                    ⋮                ⋮       ⋱\n",
       " 4086789 │ J           2020/08/31 23:47:18.9   35               3055           ⋯\n",
       " 4086790 │ J           2020/08/31 23:47:29.65  36               1436\n",
       " 4086791 │ J           2020/08/31 23:49:43.62  37               0888\n",
       " 4086792 │ J           2020/08/31 23:51:10.01  35               0173\n",
       " 4086793 │ J           2020/08/31 23:52:39.12  36               1444           ⋯\n",
       " 4086794 │ J           2020/08/31 23:54:46.94  36               3702\n",
       " 4086795 │ J           2020/08/31 23:55:49.13  35               5207\n",
       "\u001b[36m                                              6 columns and 4086780 rows omitted\u001b[0m"
      ]
     },
     "metadata": {},
     "output_type": "display_data"
    }
   ],
   "source": [
    "df = DataFrame(Identifier=identifier,\n",
    "                Datetime=datetime, \n",
    "                Latitude_degree=latitude_deg, Latitude_minute=latitude_min, \n",
    "                Longitude_degree=longitude_deg, Longitude_minute=longitude_min,\n",
    "                Depth=depth,\n",
    "                Magnitude=magnitude1, Magnitude_type=magnitude1_type)"
   ]
  },
  {
   "cell_type": "code",
   "execution_count": 7,
   "metadata": {},
   "outputs": [
    {
     "data": {
      "text/html": [
       "<div><div style = \"float: left;\"><span>4063651×9 DataFrame</span></div><div style = \"float: right;\"><span style = \"font-style: italic;\">4063626 rows omitted</span></div><div style = \"clear: both;\"></div></div><div class = \"data-frame\" style = \"overflow-x: scroll;\"><table class = \"data-frame\" style = \"margin-bottom: 6px;\"><thead><tr class = \"header\"><th class = \"rowNumber\" style = \"font-weight: bold; text-align: right;\">Row</th><th style = \"text-align: left;\">Identifier</th><th style = \"text-align: left;\">Datetime</th><th style = \"text-align: left;\">Latitude_degree</th><th style = \"text-align: left;\">Latitude_minute</th><th style = \"text-align: left;\">Longitude_degree</th><th style = \"text-align: left;\">Longitude_minute</th><th style = \"text-align: left;\">Depth</th><th style = \"text-align: left;\">Magnitude</th><th style = \"text-align: left;\">Magnitude_type</th></tr><tr class = \"subheader headerLastRow\"><th class = \"rowNumber\" style = \"font-weight: bold; text-align: right;\"></th><th title = \"Any\" style = \"text-align: left;\">Any</th><th title = \"Any\" style = \"text-align: left;\">Any</th><th title = \"Any\" style = \"text-align: left;\">Any</th><th title = \"Any\" style = \"text-align: left;\">Any</th><th title = \"Any\" style = \"text-align: left;\">Any</th><th title = \"Any\" style = \"text-align: left;\">Any</th><th title = \"Any\" style = \"text-align: left;\">Any</th><th title = \"Any\" style = \"text-align: left;\">Any</th><th title = \"Any\" style = \"text-align: left;\">Any</th></tr></thead><tbody><tr><td class = \"rowNumber\" style = \"font-weight: bold; text-align: right;\">1</td><td style = \"text-align: left;\">J</td><td style = \"text-align: left;\">1983/01/01 00:36:5.84</td><td style = \"text-align: left;\">33</td><td style = \"text-align: left;\">467</td><td style = \"text-align: left;\">139</td><td style = \"text-align: left;\">212</td><td style = \"text-align: left;\">21</td><td style = \"text-align: left;\">39</td><td style = \"text-align: left;\">V</td></tr><tr><td class = \"rowNumber\" style = \"font-weight: bold; text-align: right;\">2</td><td style = \"text-align: left;\">J</td><td style = \"text-align: left;\">1983/01/01 00:44:3.73</td><td style = \"text-align: left;\">33</td><td style = \"text-align: left;\">535</td><td style = \"text-align: left;\">139</td><td style = \"text-align: left;\">251</td><td style = \"text-align: left;\">0</td><td style = \"text-align: left;\">32</td><td style = \"text-align: left;\">V</td></tr><tr><td class = \"rowNumber\" style = \"font-weight: bold; text-align: right;\">3</td><td style = \"text-align: left;\">J</td><td style = \"text-align: left;\">1983/01/01 01:05:5.16</td><td style = \"text-align: left;\">33</td><td style = \"text-align: left;\">551</td><td style = \"text-align: left;\">139</td><td style = \"text-align: left;\">262</td><td style = \"text-align: left;\">17</td><td style = \"text-align: left;\">37</td><td style = \"text-align: left;\">V</td></tr><tr><td class = \"rowNumber\" style = \"font-weight: bold; text-align: right;\">4</td><td style = \"text-align: left;\">J</td><td style = \"text-align: left;\">1983/01/01 01:18:5.4</td><td style = \"text-align: left;\">33</td><td style = \"text-align: left;\">468</td><td style = \"text-align: left;\">139</td><td style = \"text-align: left;\">246</td><td style = \"text-align: left;\">16</td><td style = \"text-align: left;\">28</td><td style = \"text-align: left;\">V</td></tr><tr><td class = \"rowNumber\" style = \"font-weight: bold; text-align: right;\">5</td><td style = \"text-align: left;\">J</td><td style = \"text-align: left;\">1983/01/01 01:21:5.44</td><td style = \"text-align: left;\">33</td><td style = \"text-align: left;\">479</td><td style = \"text-align: left;\">139</td><td style = \"text-align: left;\">201</td><td style = \"text-align: left;\">9</td><td style = \"text-align: left;\">29</td><td style = \"text-align: left;\">V</td></tr><tr><td class = \"rowNumber\" style = \"font-weight: bold; text-align: right;\">6</td><td style = \"text-align: left;\">J</td><td style = \"text-align: left;\">1983/01/01 01:26:2.63</td><td style = \"text-align: left;\">33</td><td style = \"text-align: left;\">464</td><td style = \"text-align: left;\">139</td><td style = \"text-align: left;\">251</td><td style = \"text-align: left;\">20</td><td style = \"text-align: left;\">34</td><td style = \"text-align: left;\">V</td></tr><tr><td class = \"rowNumber\" style = \"font-weight: bold; text-align: right;\">7</td><td style = \"text-align: left;\">J</td><td style = \"text-align: left;\">1983/01/01 01:30:2.66</td><td style = \"text-align: left;\">33</td><td style = \"text-align: left;\">480</td><td style = \"text-align: left;\">139</td><td style = \"text-align: left;\">204</td><td style = \"text-align: left;\">0</td><td style = \"text-align: left;\"></td><td style = \"text-align: left;\"></td></tr><tr><td class = \"rowNumber\" style = \"font-weight: bold; text-align: right;\">8</td><td style = \"text-align: left;\">J</td><td style = \"text-align: left;\">1983/01/01 01:36:2.66</td><td style = \"text-align: left;\">33</td><td style = \"text-align: left;\">467</td><td style = \"text-align: left;\">139</td><td style = \"text-align: left;\">262</td><td style = \"text-align: left;\">30</td><td style = \"text-align: left;\">30</td><td style = \"text-align: left;\">V</td></tr><tr><td class = \"rowNumber\" style = \"font-weight: bold; text-align: right;\">9</td><td style = \"text-align: left;\">J</td><td style = \"text-align: left;\">1983/01/01 01:47:4.75</td><td style = \"text-align: left;\">33</td><td style = \"text-align: left;\">471</td><td style = \"text-align: left;\">139</td><td style = \"text-align: left;\">200</td><td style = \"text-align: left;\">11</td><td style = \"text-align: left;\">26</td><td style = \"text-align: left;\">V</td></tr><tr><td class = \"rowNumber\" style = \"font-weight: bold; text-align: right;\">10</td><td style = \"text-align: left;\">J</td><td style = \"text-align: left;\">1983/01/01 01:51:4.83</td><td style = \"text-align: left;\">33</td><td style = \"text-align: left;\">458</td><td style = \"text-align: left;\">139</td><td style = \"text-align: left;\">234</td><td style = \"text-align: left;\">15</td><td style = \"text-align: left;\">30</td><td style = \"text-align: left;\">V</td></tr><tr><td class = \"rowNumber\" style = \"font-weight: bold; text-align: right;\">11</td><td style = \"text-align: left;\">J</td><td style = \"text-align: left;\">1983/01/01 01:53:1.37</td><td style = \"text-align: left;\">33</td><td style = \"text-align: left;\">467</td><td style = \"text-align: left;\">139</td><td style = \"text-align: left;\">226</td><td style = \"text-align: left;\">19</td><td style = \"text-align: left;\">31</td><td style = \"text-align: left;\">V</td></tr><tr><td class = \"rowNumber\" style = \"font-weight: bold; text-align: right;\">12</td><td style = \"text-align: left;\">J</td><td style = \"text-align: left;\">1983/01/01 01:54:0.31</td><td style = \"text-align: left;\">33</td><td style = \"text-align: left;\">474</td><td style = \"text-align: left;\">139</td><td style = \"text-align: left;\">225</td><td style = \"text-align: left;\">19</td><td style = \"text-align: left;\">41</td><td style = \"text-align: left;\">J</td></tr><tr><td class = \"rowNumber\" style = \"font-weight: bold; text-align: right;\">13</td><td style = \"text-align: left;\">J</td><td style = \"text-align: left;\">1983/01/01 02:18:3.09</td><td style = \"text-align: left;\">33</td><td style = \"text-align: left;\">457</td><td style = \"text-align: left;\">139</td><td style = \"text-align: left;\">208</td><td style = \"text-align: left;\">17</td><td style = \"text-align: left;\">37</td><td style = \"text-align: left;\">V</td></tr><tr><td style = \"text-align: right;\">&vellip;</td><td style = \"text-align: right;\">&vellip;</td><td style = \"text-align: right;\">&vellip;</td><td style = \"text-align: right;\">&vellip;</td><td style = \"text-align: right;\">&vellip;</td><td style = \"text-align: right;\">&vellip;</td><td style = \"text-align: right;\">&vellip;</td><td style = \"text-align: right;\">&vellip;</td><td style = \"text-align: right;\">&vellip;</td><td style = \"text-align: right;\">&vellip;</td></tr><tr><td class = \"rowNumber\" style = \"font-weight: bold; text-align: right;\">4063640</td><td style = \"text-align: left;\">J</td><td style = \"text-align: left;\">2020/08/31 23:36:45.06</td><td style = \"text-align: left;\">35</td><td style = \"text-align: left;\">5148</td><td style = \"text-align: left;\">140</td><td style = \"text-align: left;\">2689</td><td style = \"text-align: left;\">3232</td><td style = \"text-align: left;\">06</td><td style = \"text-align: left;\">V</td></tr><tr><td class = \"rowNumber\" style = \"font-weight: bold; text-align: right;\">4063641</td><td style = \"text-align: left;\">J</td><td style = \"text-align: left;\">2020/08/31 23:37:53.31</td><td style = \"text-align: left;\">35</td><td style = \"text-align: left;\">5465</td><td style = \"text-align: left;\">137</td><td style = \"text-align: left;\">4364</td><td style = \"text-align: left;\">483</td><td style = \"text-align: left;\">00</td><td style = \"text-align: left;\">V</td></tr><tr><td class = \"rowNumber\" style = \"font-weight: bold; text-align: right;\">4063642</td><td style = \"text-align: left;\">J</td><td style = \"text-align: left;\">2020/08/31 23:40:31.81</td><td style = \"text-align: left;\">36</td><td style = \"text-align: left;\">1449</td><td style = \"text-align: left;\">137</td><td style = \"text-align: left;\">3984</td><td style = \"text-align: left;\">1079</td><td style = \"text-align: left;\">-1</td><td style = \"text-align: left;\">V</td></tr><tr><td class = \"rowNumber\" style = \"font-weight: bold; text-align: right;\">4063643</td><td style = \"text-align: left;\">J</td><td style = \"text-align: left;\">2020/08/31 23:41:3.39</td><td style = \"text-align: left;\">36</td><td style = \"text-align: left;\">1446</td><td style = \"text-align: left;\">137</td><td style = \"text-align: left;\">3983</td><td style = \"text-align: left;\">722</td><td style = \"text-align: left;\">07</td><td style = \"text-align: left;\">V</td></tr><tr><td class = \"rowNumber\" style = \"font-weight: bold; text-align: right;\">4063644</td><td style = \"text-align: left;\">J</td><td style = \"text-align: left;\">2020/08/31 23:42:18.0</td><td style = \"text-align: left;\">36</td><td style = \"text-align: left;\">1440</td><td style = \"text-align: left;\">137</td><td style = \"text-align: left;\">4029</td><td style = \"text-align: left;\">1661</td><td style = \"text-align: left;\">03</td><td style = \"text-align: left;\">V</td></tr><tr><td class = \"rowNumber\" style = \"font-weight: bold; text-align: right;\">4063645</td><td style = \"text-align: left;\">J</td><td style = \"text-align: left;\">2020/08/31 23:47:18.9</td><td style = \"text-align: left;\">35</td><td style = \"text-align: left;\">3055</td><td style = \"text-align: left;\">135</td><td style = \"text-align: left;\">5911</td><td style = \"text-align: left;\">783</td><td style = \"text-align: left;\">04</td><td style = \"text-align: left;\">v</td></tr><tr><td class = \"rowNumber\" style = \"font-weight: bold; text-align: right;\">4063646</td><td style = \"text-align: left;\">J</td><td style = \"text-align: left;\">2020/08/31 23:47:29.65</td><td style = \"text-align: left;\">36</td><td style = \"text-align: left;\">1436</td><td style = \"text-align: left;\">137</td><td style = \"text-align: left;\">3937</td><td style = \"text-align: left;\">402</td><td style = \"text-align: left;\">-2</td><td style = \"text-align: left;\">V</td></tr><tr><td class = \"rowNumber\" style = \"font-weight: bold; text-align: right;\">4063647</td><td style = \"text-align: left;\">J</td><td style = \"text-align: left;\">2020/08/31 23:49:43.62</td><td style = \"text-align: left;\">37</td><td style = \"text-align: left;\">0888</td><td style = \"text-align: left;\">139</td><td style = \"text-align: left;\">3218</td><td style = \"text-align: left;\">689</td><td style = \"text-align: left;\">04</td><td style = \"text-align: left;\">V</td></tr><tr><td class = \"rowNumber\" style = \"font-weight: bold; text-align: right;\">4063648</td><td style = \"text-align: left;\">J</td><td style = \"text-align: left;\">2020/08/31 23:51:10.01</td><td style = \"text-align: left;\">35</td><td style = \"text-align: left;\">0173</td><td style = \"text-align: left;\">135</td><td style = \"text-align: left;\">3482</td><td style = \"text-align: left;\">1100</td><td style = \"text-align: left;\">03</td><td style = \"text-align: left;\">V</td></tr><tr><td class = \"rowNumber\" style = \"font-weight: bold; text-align: right;\">4063649</td><td style = \"text-align: left;\">J</td><td style = \"text-align: left;\">2020/08/31 23:52:39.12</td><td style = \"text-align: left;\">36</td><td style = \"text-align: left;\">1444</td><td style = \"text-align: left;\">137</td><td style = \"text-align: left;\">3945</td><td style = \"text-align: left;\">564</td><td style = \"text-align: left;\">00</td><td style = \"text-align: left;\">V</td></tr><tr><td class = \"rowNumber\" style = \"font-weight: bold; text-align: right;\">4063650</td><td style = \"text-align: left;\">J</td><td style = \"text-align: left;\">2020/08/31 23:54:46.94</td><td style = \"text-align: left;\">36</td><td style = \"text-align: left;\">3702</td><td style = \"text-align: left;\">140</td><td style = \"text-align: left;\">0360</td><td style = \"text-align: left;\">11210</td><td style = \"text-align: left;\">11</td><td style = \"text-align: left;\">V</td></tr><tr><td class = \"rowNumber\" style = \"font-weight: bold; text-align: right;\">4063651</td><td style = \"text-align: left;\">J</td><td style = \"text-align: left;\">2020/08/31 23:55:49.13</td><td style = \"text-align: left;\">35</td><td style = \"text-align: left;\">5207</td><td style = \"text-align: left;\">137</td><td style = \"text-align: left;\">3871</td><td style = \"text-align: left;\">840</td><td style = \"text-align: left;\">04</td><td style = \"text-align: left;\">V</td></tr></tbody></table></div>"
      ],
      "text/latex": [
       "\\begin{tabular}{r|cccccc}\n",
       "\t& Identifier & Datetime & Latitude\\_degree & Latitude\\_minute & Longitude\\_degree & \\\\\n",
       "\t\\hline\n",
       "\t& Any & Any & Any & Any & Any & \\\\\n",
       "\t\\hline\n",
       "\t1 & J & 1983/01/01 00:36:5.84 & 33 & 467 & 139 & $\\dots$ \\\\\n",
       "\t2 & J & 1983/01/01 00:44:3.73 & 33 & 535 & 139 & $\\dots$ \\\\\n",
       "\t3 & J & 1983/01/01 01:05:5.16 & 33 & 551 & 139 & $\\dots$ \\\\\n",
       "\t4 & J & 1983/01/01 01:18:5.4 & 33 & 468 & 139 & $\\dots$ \\\\\n",
       "\t5 & J & 1983/01/01 01:21:5.44 & 33 & 479 & 139 & $\\dots$ \\\\\n",
       "\t6 & J & 1983/01/01 01:26:2.63 & 33 & 464 & 139 & $\\dots$ \\\\\n",
       "\t7 & J & 1983/01/01 01:30:2.66 & 33 & 480 & 139 & $\\dots$ \\\\\n",
       "\t8 & J & 1983/01/01 01:36:2.66 & 33 & 467 & 139 & $\\dots$ \\\\\n",
       "\t9 & J & 1983/01/01 01:47:4.75 & 33 & 471 & 139 & $\\dots$ \\\\\n",
       "\t10 & J & 1983/01/01 01:51:4.83 & 33 & 458 & 139 & $\\dots$ \\\\\n",
       "\t11 & J & 1983/01/01 01:53:1.37 & 33 & 467 & 139 & $\\dots$ \\\\\n",
       "\t12 & J & 1983/01/01 01:54:0.31 & 33 & 474 & 139 & $\\dots$ \\\\\n",
       "\t13 & J & 1983/01/01 02:18:3.09 & 33 & 457 & 139 & $\\dots$ \\\\\n",
       "\t14 & J & 1983/01/01 02:19:4.69 & 33 & 473 & 139 & $\\dots$ \\\\\n",
       "\t15 & J & 1983/01/01 02:26:0.8 & 33 & 508 & 139 & $\\dots$ \\\\\n",
       "\t16 & J & 1983/01/01 02:55:0.72 & 36 & 251 & 141 & $\\dots$ \\\\\n",
       "\t17 & J & 1983/01/01 02:55:2.4 & 33 & 479 & 139 & $\\dots$ \\\\\n",
       "\t18 & J & 1983/01/01 02:56:5.04 & 33 & 482 & 139 & $\\dots$ \\\\\n",
       "\t19 & J & 1983/01/01 03:03:0.38 & 33 & 383 & 139 & $\\dots$ \\\\\n",
       "\t20 & J & 1983/01/01 03:15:0.46 & 33 & 476 & 139 & $\\dots$ \\\\\n",
       "\t21 & J & 1983/01/01 03:17:1.43 & 33 & 482 & 139 & $\\dots$ \\\\\n",
       "\t22 & J & 1983/01/01 03:19:0.77 & 33 & 451 & 139 & $\\dots$ \\\\\n",
       "\t23 & J & 1983/01/01 03:31:1.72 & 33 & 463 & 139 & $\\dots$ \\\\\n",
       "\t24 & J & 1983/01/01 03:41:0.11 & 33 & 470 & 139 & $\\dots$ \\\\\n",
       "\t$\\dots$ & $\\dots$ & $\\dots$ & $\\dots$ & $\\dots$ & $\\dots$ &  \\\\\n",
       "\\end{tabular}\n"
      ],
      "text/plain": [
       "\u001b[1m4063651×9 DataFrame\u001b[0m\n",
       "\u001b[1m     Row \u001b[0m│\u001b[1m Identifier \u001b[0m\u001b[1m Datetime               \u001b[0m\u001b[1m Latitude_degree \u001b[0m\u001b[1m Latitude_minut\u001b[0m ⋯\n",
       "         │\u001b[90m Any        \u001b[0m\u001b[90m Any                    \u001b[0m\u001b[90m Any             \u001b[0m\u001b[90m Any           \u001b[0m ⋯\n",
       "─────────┼──────────────────────────────────────────────────────────────────────\n",
       "       1 │ J           1983/01/01 00:36:5.84   33               467            ⋯\n",
       "       2 │ J           1983/01/01 00:44:3.73   33               535\n",
       "       3 │ J           1983/01/01 01:05:5.16   33               551\n",
       "       4 │ J           1983/01/01 01:18:5.4    33               468\n",
       "       5 │ J           1983/01/01 01:21:5.44   33               479            ⋯\n",
       "       6 │ J           1983/01/01 01:26:2.63   33               464\n",
       "       7 │ J           1983/01/01 01:30:2.66   33               480\n",
       "       8 │ J           1983/01/01 01:36:2.66   33               467\n",
       "    ⋮    │     ⋮                 ⋮                    ⋮                ⋮       ⋱\n",
       " 4063645 │ J           2020/08/31 23:47:18.9   35               3055           ⋯\n",
       " 4063646 │ J           2020/08/31 23:47:29.65  36               1436\n",
       " 4063647 │ J           2020/08/31 23:49:43.62  37               0888\n",
       " 4063648 │ J           2020/08/31 23:51:10.01  35               0173\n",
       " 4063649 │ J           2020/08/31 23:52:39.12  36               1444           ⋯\n",
       " 4063650 │ J           2020/08/31 23:54:46.94  36               3702\n",
       " 4063651 │ J           2020/08/31 23:55:49.13  35               5207\n",
       "\u001b[36m                                              6 columns and 4063636 rows omitted\u001b[0m"
      ]
     },
     "metadata": {},
     "output_type": "display_data"
    }
   ],
   "source": [
    "japan = df[df.Identifier .== \"J\",:]"
   ]
  },
  {
   "cell_type": "code",
   "execution_count": 57,
   "metadata": {},
   "outputs": [
    {
     "data": {
      "text/plain": [
       "4086795-element BitVector:\n",
       " 0\n",
       " 0\n",
       " 0\n",
       " 0\n",
       " 0\n",
       " 0\n",
       " 1\n",
       " 0\n",
       " 0\n",
       " 0\n",
       " ⋮\n",
       " 0\n",
       " 0\n",
       " 0\n",
       " 0\n",
       " 0\n",
       " 0\n",
       " 0\n",
       " 0\n",
       " 0"
      ]
     },
     "metadata": {},
     "output_type": "display_data"
    }
   ],
   "source": [
    "isempty.(df.Magnitude) "
   ]
  },
  {
   "cell_type": "code",
   "execution_count": 8,
   "metadata": {},
   "outputs": [
    {
     "data": {
      "text/html": [
       "<div><div style = \"float: left;\"><span>3907921×9 DataFrame</span></div><div style = \"float: right;\"><span style = \"font-style: italic;\">3907896 rows omitted</span></div><div style = \"clear: both;\"></div></div><div class = \"data-frame\" style = \"overflow-x: scroll;\"><table class = \"data-frame\" style = \"margin-bottom: 6px;\"><thead><tr class = \"header\"><th class = \"rowNumber\" style = \"font-weight: bold; text-align: right;\">Row</th><th style = \"text-align: left;\">Identifier</th><th style = \"text-align: left;\">Datetime</th><th style = \"text-align: left;\">Latitude_degree</th><th style = \"text-align: left;\">Latitude_minute</th><th style = \"text-align: left;\">Longitude_degree</th><th style = \"text-align: left;\">Longitude_minute</th><th style = \"text-align: left;\">Depth</th><th style = \"text-align: left;\">Magnitude</th><th style = \"text-align: left;\">Magnitude_type</th></tr><tr class = \"subheader headerLastRow\"><th class = \"rowNumber\" style = \"font-weight: bold; text-align: right;\"></th><th title = \"Any\" style = \"text-align: left;\">Any</th><th title = \"Any\" style = \"text-align: left;\">Any</th><th title = \"Any\" style = \"text-align: left;\">Any</th><th title = \"Any\" style = \"text-align: left;\">Any</th><th title = \"Any\" style = \"text-align: left;\">Any</th><th title = \"Any\" style = \"text-align: left;\">Any</th><th title = \"Any\" style = \"text-align: left;\">Any</th><th title = \"Any\" style = \"text-align: left;\">Any</th><th title = \"Any\" style = \"text-align: left;\">Any</th></tr></thead><tbody><tr><td class = \"rowNumber\" style = \"font-weight: bold; text-align: right;\">1</td><td style = \"text-align: left;\">J</td><td style = \"text-align: left;\">1983/01/01 00:36:5.84</td><td style = \"text-align: left;\">33</td><td style = \"text-align: left;\">467</td><td style = \"text-align: left;\">139</td><td style = \"text-align: left;\">212</td><td style = \"text-align: left;\">21</td><td style = \"text-align: left;\">39</td><td style = \"text-align: left;\">V</td></tr><tr><td class = \"rowNumber\" style = \"font-weight: bold; text-align: right;\">2</td><td style = \"text-align: left;\">J</td><td style = \"text-align: left;\">1983/01/01 00:44:3.73</td><td style = \"text-align: left;\">33</td><td style = \"text-align: left;\">535</td><td style = \"text-align: left;\">139</td><td style = \"text-align: left;\">251</td><td style = \"text-align: left;\">0</td><td style = \"text-align: left;\">32</td><td style = \"text-align: left;\">V</td></tr><tr><td class = \"rowNumber\" style = \"font-weight: bold; text-align: right;\">3</td><td style = \"text-align: left;\">J</td><td style = \"text-align: left;\">1983/01/01 01:05:5.16</td><td style = \"text-align: left;\">33</td><td style = \"text-align: left;\">551</td><td style = \"text-align: left;\">139</td><td style = \"text-align: left;\">262</td><td style = \"text-align: left;\">17</td><td style = \"text-align: left;\">37</td><td style = \"text-align: left;\">V</td></tr><tr><td class = \"rowNumber\" style = \"font-weight: bold; text-align: right;\">4</td><td style = \"text-align: left;\">J</td><td style = \"text-align: left;\">1983/01/01 01:18:5.4</td><td style = \"text-align: left;\">33</td><td style = \"text-align: left;\">468</td><td style = \"text-align: left;\">139</td><td style = \"text-align: left;\">246</td><td style = \"text-align: left;\">16</td><td style = \"text-align: left;\">28</td><td style = \"text-align: left;\">V</td></tr><tr><td class = \"rowNumber\" style = \"font-weight: bold; text-align: right;\">5</td><td style = \"text-align: left;\">J</td><td style = \"text-align: left;\">1983/01/01 01:21:5.44</td><td style = \"text-align: left;\">33</td><td style = \"text-align: left;\">479</td><td style = \"text-align: left;\">139</td><td style = \"text-align: left;\">201</td><td style = \"text-align: left;\">9</td><td style = \"text-align: left;\">29</td><td style = \"text-align: left;\">V</td></tr><tr><td class = \"rowNumber\" style = \"font-weight: bold; text-align: right;\">6</td><td style = \"text-align: left;\">J</td><td style = \"text-align: left;\">1983/01/01 01:26:2.63</td><td style = \"text-align: left;\">33</td><td style = \"text-align: left;\">464</td><td style = \"text-align: left;\">139</td><td style = \"text-align: left;\">251</td><td style = \"text-align: left;\">20</td><td style = \"text-align: left;\">34</td><td style = \"text-align: left;\">V</td></tr><tr><td class = \"rowNumber\" style = \"font-weight: bold; text-align: right;\">7</td><td style = \"text-align: left;\">J</td><td style = \"text-align: left;\">1983/01/01 01:36:2.66</td><td style = \"text-align: left;\">33</td><td style = \"text-align: left;\">467</td><td style = \"text-align: left;\">139</td><td style = \"text-align: left;\">262</td><td style = \"text-align: left;\">30</td><td style = \"text-align: left;\">30</td><td style = \"text-align: left;\">V</td></tr><tr><td class = \"rowNumber\" style = \"font-weight: bold; text-align: right;\">8</td><td style = \"text-align: left;\">J</td><td style = \"text-align: left;\">1983/01/01 01:47:4.75</td><td style = \"text-align: left;\">33</td><td style = \"text-align: left;\">471</td><td style = \"text-align: left;\">139</td><td style = \"text-align: left;\">200</td><td style = \"text-align: left;\">11</td><td style = \"text-align: left;\">26</td><td style = \"text-align: left;\">V</td></tr><tr><td class = \"rowNumber\" style = \"font-weight: bold; text-align: right;\">9</td><td style = \"text-align: left;\">J</td><td style = \"text-align: left;\">1983/01/01 01:51:4.83</td><td style = \"text-align: left;\">33</td><td style = \"text-align: left;\">458</td><td style = \"text-align: left;\">139</td><td style = \"text-align: left;\">234</td><td style = \"text-align: left;\">15</td><td style = \"text-align: left;\">30</td><td style = \"text-align: left;\">V</td></tr><tr><td class = \"rowNumber\" style = \"font-weight: bold; text-align: right;\">10</td><td style = \"text-align: left;\">J</td><td style = \"text-align: left;\">1983/01/01 01:53:1.37</td><td style = \"text-align: left;\">33</td><td style = \"text-align: left;\">467</td><td style = \"text-align: left;\">139</td><td style = \"text-align: left;\">226</td><td style = \"text-align: left;\">19</td><td style = \"text-align: left;\">31</td><td style = \"text-align: left;\">V</td></tr><tr><td class = \"rowNumber\" style = \"font-weight: bold; text-align: right;\">11</td><td style = \"text-align: left;\">J</td><td style = \"text-align: left;\">1983/01/01 01:54:0.31</td><td style = \"text-align: left;\">33</td><td style = \"text-align: left;\">474</td><td style = \"text-align: left;\">139</td><td style = \"text-align: left;\">225</td><td style = \"text-align: left;\">19</td><td style = \"text-align: left;\">41</td><td style = \"text-align: left;\">J</td></tr><tr><td class = \"rowNumber\" style = \"font-weight: bold; text-align: right;\">12</td><td style = \"text-align: left;\">J</td><td style = \"text-align: left;\">1983/01/01 02:18:3.09</td><td style = \"text-align: left;\">33</td><td style = \"text-align: left;\">457</td><td style = \"text-align: left;\">139</td><td style = \"text-align: left;\">208</td><td style = \"text-align: left;\">17</td><td style = \"text-align: left;\">37</td><td style = \"text-align: left;\">V</td></tr><tr><td class = \"rowNumber\" style = \"font-weight: bold; text-align: right;\">13</td><td style = \"text-align: left;\">J</td><td style = \"text-align: left;\">1983/01/01 02:19:4.69</td><td style = \"text-align: left;\">33</td><td style = \"text-align: left;\">473</td><td style = \"text-align: left;\">139</td><td style = \"text-align: left;\">224</td><td style = \"text-align: left;\">26</td><td style = \"text-align: left;\">33</td><td style = \"text-align: left;\">V</td></tr><tr><td style = \"text-align: right;\">&vellip;</td><td style = \"text-align: right;\">&vellip;</td><td style = \"text-align: right;\">&vellip;</td><td style = \"text-align: right;\">&vellip;</td><td style = \"text-align: right;\">&vellip;</td><td style = \"text-align: right;\">&vellip;</td><td style = \"text-align: right;\">&vellip;</td><td style = \"text-align: right;\">&vellip;</td><td style = \"text-align: right;\">&vellip;</td><td style = \"text-align: right;\">&vellip;</td></tr><tr><td class = \"rowNumber\" style = \"font-weight: bold; text-align: right;\">3907910</td><td style = \"text-align: left;\">J</td><td style = \"text-align: left;\">2020/08/31 23:36:45.06</td><td style = \"text-align: left;\">35</td><td style = \"text-align: left;\">5148</td><td style = \"text-align: left;\">140</td><td style = \"text-align: left;\">2689</td><td style = \"text-align: left;\">3232</td><td style = \"text-align: left;\">06</td><td style = \"text-align: left;\">V</td></tr><tr><td class = \"rowNumber\" style = \"font-weight: bold; text-align: right;\">3907911</td><td style = \"text-align: left;\">J</td><td style = \"text-align: left;\">2020/08/31 23:37:53.31</td><td style = \"text-align: left;\">35</td><td style = \"text-align: left;\">5465</td><td style = \"text-align: left;\">137</td><td style = \"text-align: left;\">4364</td><td style = \"text-align: left;\">483</td><td style = \"text-align: left;\">00</td><td style = \"text-align: left;\">V</td></tr><tr><td class = \"rowNumber\" style = \"font-weight: bold; text-align: right;\">3907912</td><td style = \"text-align: left;\">J</td><td style = \"text-align: left;\">2020/08/31 23:40:31.81</td><td style = \"text-align: left;\">36</td><td style = \"text-align: left;\">1449</td><td style = \"text-align: left;\">137</td><td style = \"text-align: left;\">3984</td><td style = \"text-align: left;\">1079</td><td style = \"text-align: left;\">-1</td><td style = \"text-align: left;\">V</td></tr><tr><td class = \"rowNumber\" style = \"font-weight: bold; text-align: right;\">3907913</td><td style = \"text-align: left;\">J</td><td style = \"text-align: left;\">2020/08/31 23:41:3.39</td><td style = \"text-align: left;\">36</td><td style = \"text-align: left;\">1446</td><td style = \"text-align: left;\">137</td><td style = \"text-align: left;\">3983</td><td style = \"text-align: left;\">722</td><td style = \"text-align: left;\">07</td><td style = \"text-align: left;\">V</td></tr><tr><td class = \"rowNumber\" style = \"font-weight: bold; text-align: right;\">3907914</td><td style = \"text-align: left;\">J</td><td style = \"text-align: left;\">2020/08/31 23:42:18.0</td><td style = \"text-align: left;\">36</td><td style = \"text-align: left;\">1440</td><td style = \"text-align: left;\">137</td><td style = \"text-align: left;\">4029</td><td style = \"text-align: left;\">1661</td><td style = \"text-align: left;\">03</td><td style = \"text-align: left;\">V</td></tr><tr><td class = \"rowNumber\" style = \"font-weight: bold; text-align: right;\">3907915</td><td style = \"text-align: left;\">J</td><td style = \"text-align: left;\">2020/08/31 23:47:18.9</td><td style = \"text-align: left;\">35</td><td style = \"text-align: left;\">3055</td><td style = \"text-align: left;\">135</td><td style = \"text-align: left;\">5911</td><td style = \"text-align: left;\">783</td><td style = \"text-align: left;\">04</td><td style = \"text-align: left;\">v</td></tr><tr><td class = \"rowNumber\" style = \"font-weight: bold; text-align: right;\">3907916</td><td style = \"text-align: left;\">J</td><td style = \"text-align: left;\">2020/08/31 23:47:29.65</td><td style = \"text-align: left;\">36</td><td style = \"text-align: left;\">1436</td><td style = \"text-align: left;\">137</td><td style = \"text-align: left;\">3937</td><td style = \"text-align: left;\">402</td><td style = \"text-align: left;\">-2</td><td style = \"text-align: left;\">V</td></tr><tr><td class = \"rowNumber\" style = \"font-weight: bold; text-align: right;\">3907917</td><td style = \"text-align: left;\">J</td><td style = \"text-align: left;\">2020/08/31 23:49:43.62</td><td style = \"text-align: left;\">37</td><td style = \"text-align: left;\">0888</td><td style = \"text-align: left;\">139</td><td style = \"text-align: left;\">3218</td><td style = \"text-align: left;\">689</td><td style = \"text-align: left;\">04</td><td style = \"text-align: left;\">V</td></tr><tr><td class = \"rowNumber\" style = \"font-weight: bold; text-align: right;\">3907918</td><td style = \"text-align: left;\">J</td><td style = \"text-align: left;\">2020/08/31 23:51:10.01</td><td style = \"text-align: left;\">35</td><td style = \"text-align: left;\">0173</td><td style = \"text-align: left;\">135</td><td style = \"text-align: left;\">3482</td><td style = \"text-align: left;\">1100</td><td style = \"text-align: left;\">03</td><td style = \"text-align: left;\">V</td></tr><tr><td class = \"rowNumber\" style = \"font-weight: bold; text-align: right;\">3907919</td><td style = \"text-align: left;\">J</td><td style = \"text-align: left;\">2020/08/31 23:52:39.12</td><td style = \"text-align: left;\">36</td><td style = \"text-align: left;\">1444</td><td style = \"text-align: left;\">137</td><td style = \"text-align: left;\">3945</td><td style = \"text-align: left;\">564</td><td style = \"text-align: left;\">00</td><td style = \"text-align: left;\">V</td></tr><tr><td class = \"rowNumber\" style = \"font-weight: bold; text-align: right;\">3907920</td><td style = \"text-align: left;\">J</td><td style = \"text-align: left;\">2020/08/31 23:54:46.94</td><td style = \"text-align: left;\">36</td><td style = \"text-align: left;\">3702</td><td style = \"text-align: left;\">140</td><td style = \"text-align: left;\">0360</td><td style = \"text-align: left;\">11210</td><td style = \"text-align: left;\">11</td><td style = \"text-align: left;\">V</td></tr><tr><td class = \"rowNumber\" style = \"font-weight: bold; text-align: right;\">3907921</td><td style = \"text-align: left;\">J</td><td style = \"text-align: left;\">2020/08/31 23:55:49.13</td><td style = \"text-align: left;\">35</td><td style = \"text-align: left;\">5207</td><td style = \"text-align: left;\">137</td><td style = \"text-align: left;\">3871</td><td style = \"text-align: left;\">840</td><td style = \"text-align: left;\">04</td><td style = \"text-align: left;\">V</td></tr></tbody></table></div>"
      ],
      "text/latex": [
       "\\begin{tabular}{r|cccccc}\n",
       "\t& Identifier & Datetime & Latitude\\_degree & Latitude\\_minute & Longitude\\_degree & \\\\\n",
       "\t\\hline\n",
       "\t& Any & Any & Any & Any & Any & \\\\\n",
       "\t\\hline\n",
       "\t1 & J & 1983/01/01 00:36:5.84 & 33 & 467 & 139 & $\\dots$ \\\\\n",
       "\t2 & J & 1983/01/01 00:44:3.73 & 33 & 535 & 139 & $\\dots$ \\\\\n",
       "\t3 & J & 1983/01/01 01:05:5.16 & 33 & 551 & 139 & $\\dots$ \\\\\n",
       "\t4 & J & 1983/01/01 01:18:5.4 & 33 & 468 & 139 & $\\dots$ \\\\\n",
       "\t5 & J & 1983/01/01 01:21:5.44 & 33 & 479 & 139 & $\\dots$ \\\\\n",
       "\t6 & J & 1983/01/01 01:26:2.63 & 33 & 464 & 139 & $\\dots$ \\\\\n",
       "\t7 & J & 1983/01/01 01:36:2.66 & 33 & 467 & 139 & $\\dots$ \\\\\n",
       "\t8 & J & 1983/01/01 01:47:4.75 & 33 & 471 & 139 & $\\dots$ \\\\\n",
       "\t9 & J & 1983/01/01 01:51:4.83 & 33 & 458 & 139 & $\\dots$ \\\\\n",
       "\t10 & J & 1983/01/01 01:53:1.37 & 33 & 467 & 139 & $\\dots$ \\\\\n",
       "\t11 & J & 1983/01/01 01:54:0.31 & 33 & 474 & 139 & $\\dots$ \\\\\n",
       "\t12 & J & 1983/01/01 02:18:3.09 & 33 & 457 & 139 & $\\dots$ \\\\\n",
       "\t13 & J & 1983/01/01 02:19:4.69 & 33 & 473 & 139 & $\\dots$ \\\\\n",
       "\t14 & J & 1983/01/01 02:26:0.8 & 33 & 508 & 139 & $\\dots$ \\\\\n",
       "\t15 & J & 1983/01/01 02:55:0.72 & 36 & 251 & 141 & $\\dots$ \\\\\n",
       "\t16 & J & 1983/01/01 02:55:2.4 & 33 & 479 & 139 & $\\dots$ \\\\\n",
       "\t17 & J & 1983/01/01 02:56:5.04 & 33 & 482 & 139 & $\\dots$ \\\\\n",
       "\t18 & J & 1983/01/01 03:03:0.38 & 33 & 383 & 139 & $\\dots$ \\\\\n",
       "\t19 & J & 1983/01/01 03:15:0.46 & 33 & 476 & 139 & $\\dots$ \\\\\n",
       "\t20 & J & 1983/01/01 03:17:1.43 & 33 & 482 & 139 & $\\dots$ \\\\\n",
       "\t21 & J & 1983/01/01 03:19:0.77 & 33 & 451 & 139 & $\\dots$ \\\\\n",
       "\t22 & J & 1983/01/01 03:31:1.72 & 33 & 463 & 139 & $\\dots$ \\\\\n",
       "\t23 & J & 1983/01/01 03:41:0.11 & 33 & 470 & 139 & $\\dots$ \\\\\n",
       "\t24 & J & 1983/01/01 03:49:1.57 & 33 & 471 & 139 & $\\dots$ \\\\\n",
       "\t$\\dots$ & $\\dots$ & $\\dots$ & $\\dots$ & $\\dots$ & $\\dots$ &  \\\\\n",
       "\\end{tabular}\n"
      ],
      "text/plain": [
       "\u001b[1m3907921×9 DataFrame\u001b[0m\n",
       "\u001b[1m     Row \u001b[0m│\u001b[1m Identifier \u001b[0m\u001b[1m Datetime               \u001b[0m\u001b[1m Latitude_degree \u001b[0m\u001b[1m Latitude_minut\u001b[0m ⋯\n",
       "         │\u001b[90m Any        \u001b[0m\u001b[90m Any                    \u001b[0m\u001b[90m Any             \u001b[0m\u001b[90m Any           \u001b[0m ⋯\n",
       "─────────┼──────────────────────────────────────────────────────────────────────\n",
       "       1 │ J           1983/01/01 00:36:5.84   33               467            ⋯\n",
       "       2 │ J           1983/01/01 00:44:3.73   33               535\n",
       "       3 │ J           1983/01/01 01:05:5.16   33               551\n",
       "       4 │ J           1983/01/01 01:18:5.4    33               468\n",
       "       5 │ J           1983/01/01 01:21:5.44   33               479            ⋯\n",
       "       6 │ J           1983/01/01 01:26:2.63   33               464\n",
       "       7 │ J           1983/01/01 01:36:2.66   33               467\n",
       "       8 │ J           1983/01/01 01:47:4.75   33               471\n",
       "    ⋮    │     ⋮                 ⋮                    ⋮                ⋮       ⋱\n",
       " 3907915 │ J           2020/08/31 23:47:18.9   35               3055           ⋯\n",
       " 3907916 │ J           2020/08/31 23:47:29.65  36               1436\n",
       " 3907917 │ J           2020/08/31 23:49:43.62  37               0888\n",
       " 3907918 │ J           2020/08/31 23:51:10.01  35               0173\n",
       " 3907919 │ J           2020/08/31 23:52:39.12  36               1444           ⋯\n",
       " 3907920 │ J           2020/08/31 23:54:46.94  36               3702\n",
       " 3907921 │ J           2020/08/31 23:55:49.13  35               5207\n",
       "\u001b[36m                                              6 columns and 3907906 rows omitted\u001b[0m"
      ]
     },
     "metadata": {},
     "output_type": "display_data"
    }
   ],
   "source": [
    "japan = japan[all.(!=(\"\"), eachrow(japan)), :]"
   ]
  },
  {
   "cell_type": "code",
   "execution_count": 25,
   "metadata": {},
   "outputs": [
    {
     "data": {
      "text/plain": [
       "decimal_degrees (generic function with 1 method)"
      ]
     },
     "metadata": {},
     "output_type": "display_data"
    }
   ],
   "source": [
    "function decimal_degrees(degrees,minutes)\n",
    "    try\n",
    "        degree = parse.(Float64, degrees)\n",
    "        minute = (parse.(Float64, minutes))/6000\n",
    "    catch e\n",
    "        degree = missing\n",
    "        minute = missing\n",
    "    end\n",
    "    \n",
    "    decimal_degree = degree .+ minute\n",
    "    return(round.(decimal_degree, digits=4))\n",
    "    # round.(parse.(Float64,japan.Latitude_degree) .+ (parse.(Float64, japan.Latitude_minute))/6000, digits=4);\n",
    "end\n"
   ]
  },
  {
   "cell_type": "code",
   "execution_count": null,
   "metadata": {},
   "outputs": [],
   "source": []
  },
  {
   "cell_type": "code",
   "execution_count": null,
   "metadata": {},
   "outputs": [],
   "source": []
  },
  {
   "cell_type": "code",
   "execution_count": 31,
   "metadata": {},
   "outputs": [
    {
     "data": {
      "text/plain": [
       "parse_float (generic function with 1 method)"
      ]
     },
     "metadata": {},
     "output_type": "display_data"
    }
   ],
   "source": [
    "function parse_float(value)\n",
    "    try\n",
    "        float_value = parse(Float64, value)\n",
    "        return(float_value)\n",
    "    catch e\n",
    "        return(missing)\n",
    "    end\n",
    "end"
   ]
  },
  {
   "cell_type": "code",
   "execution_count": 37,
   "metadata": {},
   "outputs": [],
   "source": [
    "latitude = []\n",
    "longitude = []\n",
    "depth = []\n",
    "magnitude =[]\n",
    "\n",
    "for i in eachindex(japan.Identifier)\n",
    "    # Latitude processing\n",
    "    lat_deg = parse_float(japan.Latitude_degree[i])\n",
    "    lat_min = parse_float(japan.Latitude_minute[i]) / 6000\n",
    "\n",
    "    push!(latitude, lat_deg + lat_min)\n",
    "\n",
    "    # Longitude processing\n",
    "    lon_deg = parse_float(japan.Longitude_degree[i])\n",
    "    lon_min = parse_float(japan.Longitude_minute[i]) / 6000\n",
    "\n",
    "    push!(longitude, lon_deg + lon_min)\n",
    "\n",
    "    # Depth processing\n",
    "    dep = parse_float(japan.Depth[i]) / 100\n",
    "    push!(depth, dep )\n",
    "\n",
    "    # Magnitude\n",
    "    mag = parse_float(japan.Magnitude[i]) / 10\n",
    "    push!(magnitude, mag)\n",
    "end"
   ]
  },
  {
   "cell_type": "code",
   "execution_count": null,
   "metadata": {},
   "outputs": [],
   "source": []
  },
  {
   "cell_type": "code",
   "execution_count": 35,
   "metadata": {},
   "outputs": [],
   "source": [
    "datetime = []\n",
    "dateformat = dateformat\"yyyy/mm/dd HH:MM:SS.ss\"\n",
    "datetime = DateTime.(japan.Datetime, dateformat);"
   ]
  },
  {
   "cell_type": "code",
   "execution_count": null,
   "metadata": {},
   "outputs": [],
   "source": []
  },
  {
   "cell_type": "code",
   "execution_count": null,
   "metadata": {},
   "outputs": [],
   "source": []
  },
  {
   "cell_type": "code",
   "execution_count": 38,
   "metadata": {},
   "outputs": [
    {
     "data": {
      "text/html": [
       "<div><div style = \"float: left;\"><span>3907921×6 DataFrame</span></div><div style = \"float: right;\"><span style = \"font-style: italic;\">3907896 rows omitted</span></div><div style = \"clear: both;\"></div></div><div class = \"data-frame\" style = \"overflow-x: scroll;\"><table class = \"data-frame\" style = \"margin-bottom: 6px;\"><thead><tr class = \"header\"><th class = \"rowNumber\" style = \"font-weight: bold; text-align: right;\">Row</th><th style = \"text-align: left;\">Datetime</th><th style = \"text-align: left;\">Latitude</th><th style = \"text-align: left;\">Longitude</th><th style = \"text-align: left;\">Depth</th><th style = \"text-align: left;\">Magnitude</th><th style = \"text-align: left;\">Magnitude_type</th></tr><tr class = \"subheader headerLastRow\"><th class = \"rowNumber\" style = \"font-weight: bold; text-align: right;\"></th><th title = \"DateTime\" style = \"text-align: left;\">DateTime</th><th title = \"Any\" style = \"text-align: left;\">Any</th><th title = \"Any\" style = \"text-align: left;\">Any</th><th title = \"Any\" style = \"text-align: left;\">Any</th><th title = \"Any\" style = \"text-align: left;\">Any</th><th title = \"Any\" style = \"text-align: left;\">Any</th></tr></thead><tbody><tr><td class = \"rowNumber\" style = \"font-weight: bold; text-align: right;\">1</td><td style = \"text-align: left;\">1983-01-01T00:36:05.840</td><td style = \"text-align: left;\">33.0778</td><td style = \"text-align: left;\">139.035</td><td style = \"text-align: left;\">0.21</td><td style = \"text-align: left;\">3.9</td><td style = \"text-align: left;\">V</td></tr><tr><td class = \"rowNumber\" style = \"font-weight: bold; text-align: right;\">2</td><td style = \"text-align: left;\">1983-01-01T00:44:03.730</td><td style = \"text-align: left;\">33.0892</td><td style = \"text-align: left;\">139.042</td><td style = \"text-align: left;\">0.0</td><td style = \"text-align: left;\">3.2</td><td style = \"text-align: left;\">V</td></tr><tr><td class = \"rowNumber\" style = \"font-weight: bold; text-align: right;\">3</td><td style = \"text-align: left;\">1983-01-01T01:05:05.160</td><td style = \"text-align: left;\">33.0918</td><td style = \"text-align: left;\">139.044</td><td style = \"text-align: left;\">0.17</td><td style = \"text-align: left;\">3.7</td><td style = \"text-align: left;\">V</td></tr><tr><td class = \"rowNumber\" style = \"font-weight: bold; text-align: right;\">4</td><td style = \"text-align: left;\">1983-01-01T01:18:05.400</td><td style = \"text-align: left;\">33.078</td><td style = \"text-align: left;\">139.041</td><td style = \"text-align: left;\">0.16</td><td style = \"text-align: left;\">2.8</td><td style = \"text-align: left;\">V</td></tr><tr><td class = \"rowNumber\" style = \"font-weight: bold; text-align: right;\">5</td><td style = \"text-align: left;\">1983-01-01T01:21:05.440</td><td style = \"text-align: left;\">33.0798</td><td style = \"text-align: left;\">139.034</td><td style = \"text-align: left;\">0.09</td><td style = \"text-align: left;\">2.9</td><td style = \"text-align: left;\">V</td></tr><tr><td class = \"rowNumber\" style = \"font-weight: bold; text-align: right;\">6</td><td style = \"text-align: left;\">1983-01-01T01:26:02.630</td><td style = \"text-align: left;\">33.0773</td><td style = \"text-align: left;\">139.042</td><td style = \"text-align: left;\">0.2</td><td style = \"text-align: left;\">3.4</td><td style = \"text-align: left;\">V</td></tr><tr><td class = \"rowNumber\" style = \"font-weight: bold; text-align: right;\">7</td><td style = \"text-align: left;\">1983-01-01T01:36:02.660</td><td style = \"text-align: left;\">33.0778</td><td style = \"text-align: left;\">139.044</td><td style = \"text-align: left;\">0.3</td><td style = \"text-align: left;\">3.0</td><td style = \"text-align: left;\">V</td></tr><tr><td class = \"rowNumber\" style = \"font-weight: bold; text-align: right;\">8</td><td style = \"text-align: left;\">1983-01-01T01:47:04.750</td><td style = \"text-align: left;\">33.0785</td><td style = \"text-align: left;\">139.033</td><td style = \"text-align: left;\">0.11</td><td style = \"text-align: left;\">2.6</td><td style = \"text-align: left;\">V</td></tr><tr><td class = \"rowNumber\" style = \"font-weight: bold; text-align: right;\">9</td><td style = \"text-align: left;\">1983-01-01T01:51:04.830</td><td style = \"text-align: left;\">33.0763</td><td style = \"text-align: left;\">139.039</td><td style = \"text-align: left;\">0.15</td><td style = \"text-align: left;\">3.0</td><td style = \"text-align: left;\">V</td></tr><tr><td class = \"rowNumber\" style = \"font-weight: bold; text-align: right;\">10</td><td style = \"text-align: left;\">1983-01-01T01:53:01.370</td><td style = \"text-align: left;\">33.0778</td><td style = \"text-align: left;\">139.038</td><td style = \"text-align: left;\">0.19</td><td style = \"text-align: left;\">3.1</td><td style = \"text-align: left;\">V</td></tr><tr><td class = \"rowNumber\" style = \"font-weight: bold; text-align: right;\">11</td><td style = \"text-align: left;\">1983-01-01T01:54:00.310</td><td style = \"text-align: left;\">33.079</td><td style = \"text-align: left;\">139.037</td><td style = \"text-align: left;\">0.19</td><td style = \"text-align: left;\">4.1</td><td style = \"text-align: left;\">J</td></tr><tr><td class = \"rowNumber\" style = \"font-weight: bold; text-align: right;\">12</td><td style = \"text-align: left;\">1983-01-01T02:18:03.090</td><td style = \"text-align: left;\">33.0762</td><td style = \"text-align: left;\">139.035</td><td style = \"text-align: left;\">0.17</td><td style = \"text-align: left;\">3.7</td><td style = \"text-align: left;\">V</td></tr><tr><td class = \"rowNumber\" style = \"font-weight: bold; text-align: right;\">13</td><td style = \"text-align: left;\">1983-01-01T02:19:04.690</td><td style = \"text-align: left;\">33.0788</td><td style = \"text-align: left;\">139.037</td><td style = \"text-align: left;\">0.26</td><td style = \"text-align: left;\">3.3</td><td style = \"text-align: left;\">V</td></tr><tr><td style = \"text-align: right;\">&vellip;</td><td style = \"text-align: right;\">&vellip;</td><td style = \"text-align: right;\">&vellip;</td><td style = \"text-align: right;\">&vellip;</td><td style = \"text-align: right;\">&vellip;</td><td style = \"text-align: right;\">&vellip;</td><td style = \"text-align: right;\">&vellip;</td></tr><tr><td class = \"rowNumber\" style = \"font-weight: bold; text-align: right;\">3907910</td><td style = \"text-align: left;\">2020-08-31T23:36:45.060</td><td style = \"text-align: left;\">35.858</td><td style = \"text-align: left;\">140.448</td><td style = \"text-align: left;\">32.32</td><td style = \"text-align: left;\">0.6</td><td style = \"text-align: left;\">V</td></tr><tr><td class = \"rowNumber\" style = \"font-weight: bold; text-align: right;\">3907911</td><td style = \"text-align: left;\">2020-08-31T23:37:53.310</td><td style = \"text-align: left;\">35.9108</td><td style = \"text-align: left;\">137.727</td><td style = \"text-align: left;\">4.83</td><td style = \"text-align: left;\">0.0</td><td style = \"text-align: left;\">V</td></tr><tr><td class = \"rowNumber\" style = \"font-weight: bold; text-align: right;\">3907912</td><td style = \"text-align: left;\">2020-08-31T23:40:31.810</td><td style = \"text-align: left;\">36.2415</td><td style = \"text-align: left;\">137.664</td><td style = \"text-align: left;\">10.79</td><td style = \"text-align: left;\">-0.1</td><td style = \"text-align: left;\">V</td></tr><tr><td class = \"rowNumber\" style = \"font-weight: bold; text-align: right;\">3907913</td><td style = \"text-align: left;\">2020-08-31T23:41:03.390</td><td style = \"text-align: left;\">36.241</td><td style = \"text-align: left;\">137.664</td><td style = \"text-align: left;\">7.22</td><td style = \"text-align: left;\">0.7</td><td style = \"text-align: left;\">V</td></tr><tr><td class = \"rowNumber\" style = \"font-weight: bold; text-align: right;\">3907914</td><td style = \"text-align: left;\">2020-08-31T23:42:18</td><td style = \"text-align: left;\">36.24</td><td style = \"text-align: left;\">137.672</td><td style = \"text-align: left;\">16.61</td><td style = \"text-align: left;\">0.3</td><td style = \"text-align: left;\">V</td></tr><tr><td class = \"rowNumber\" style = \"font-weight: bold; text-align: right;\">3907915</td><td style = \"text-align: left;\">2020-08-31T23:47:18.900</td><td style = \"text-align: left;\">35.5092</td><td style = \"text-align: left;\">135.985</td><td style = \"text-align: left;\">7.83</td><td style = \"text-align: left;\">0.4</td><td style = \"text-align: left;\">v</td></tr><tr><td class = \"rowNumber\" style = \"font-weight: bold; text-align: right;\">3907916</td><td style = \"text-align: left;\">2020-08-31T23:47:29.650</td><td style = \"text-align: left;\">36.2393</td><td style = \"text-align: left;\">137.656</td><td style = \"text-align: left;\">4.02</td><td style = \"text-align: left;\">-0.2</td><td style = \"text-align: left;\">V</td></tr><tr><td class = \"rowNumber\" style = \"font-weight: bold; text-align: right;\">3907917</td><td style = \"text-align: left;\">2020-08-31T23:49:43.620</td><td style = \"text-align: left;\">37.148</td><td style = \"text-align: left;\">139.536</td><td style = \"text-align: left;\">6.89</td><td style = \"text-align: left;\">0.4</td><td style = \"text-align: left;\">V</td></tr><tr><td class = \"rowNumber\" style = \"font-weight: bold; text-align: right;\">3907918</td><td style = \"text-align: left;\">2020-08-31T23:51:10.010</td><td style = \"text-align: left;\">35.0288</td><td style = \"text-align: left;\">135.58</td><td style = \"text-align: left;\">11.0</td><td style = \"text-align: left;\">0.3</td><td style = \"text-align: left;\">V</td></tr><tr><td class = \"rowNumber\" style = \"font-weight: bold; text-align: right;\">3907919</td><td style = \"text-align: left;\">2020-08-31T23:52:39.120</td><td style = \"text-align: left;\">36.2407</td><td style = \"text-align: left;\">137.657</td><td style = \"text-align: left;\">5.64</td><td style = \"text-align: left;\">0.0</td><td style = \"text-align: left;\">V</td></tr><tr><td class = \"rowNumber\" style = \"font-weight: bold; text-align: right;\">3907920</td><td style = \"text-align: left;\">2020-08-31T23:54:46.940</td><td style = \"text-align: left;\">36.617</td><td style = \"text-align: left;\">140.06</td><td style = \"text-align: left;\">112.1</td><td style = \"text-align: left;\">1.1</td><td style = \"text-align: left;\">V</td></tr><tr><td class = \"rowNumber\" style = \"font-weight: bold; text-align: right;\">3907921</td><td style = \"text-align: left;\">2020-08-31T23:55:49.130</td><td style = \"text-align: left;\">35.8678</td><td style = \"text-align: left;\">137.645</td><td style = \"text-align: left;\">8.4</td><td style = \"text-align: left;\">0.4</td><td style = \"text-align: left;\">V</td></tr></tbody></table></div>"
      ],
      "text/latex": [
       "\\begin{tabular}{r|cccccc}\n",
       "\t& Datetime & Latitude & Longitude & Depth & Magnitude & Magnitude\\_type\\\\\n",
       "\t\\hline\n",
       "\t& DateTime & Any & Any & Any & Any & Any\\\\\n",
       "\t\\hline\n",
       "\t1 & 1983-01-01T00:36:05.840 & 33.0778 & 139.035 & 0.21 & 3.9 & V \\\\\n",
       "\t2 & 1983-01-01T00:44:03.730 & 33.0892 & 139.042 & 0.0 & 3.2 & V \\\\\n",
       "\t3 & 1983-01-01T01:05:05.160 & 33.0918 & 139.044 & 0.17 & 3.7 & V \\\\\n",
       "\t4 & 1983-01-01T01:18:05.400 & 33.078 & 139.041 & 0.16 & 2.8 & V \\\\\n",
       "\t5 & 1983-01-01T01:21:05.440 & 33.0798 & 139.034 & 0.09 & 2.9 & V \\\\\n",
       "\t6 & 1983-01-01T01:26:02.630 & 33.0773 & 139.042 & 0.2 & 3.4 & V \\\\\n",
       "\t7 & 1983-01-01T01:36:02.660 & 33.0778 & 139.044 & 0.3 & 3.0 & V \\\\\n",
       "\t8 & 1983-01-01T01:47:04.750 & 33.0785 & 139.033 & 0.11 & 2.6 & V \\\\\n",
       "\t9 & 1983-01-01T01:51:04.830 & 33.0763 & 139.039 & 0.15 & 3.0 & V \\\\\n",
       "\t10 & 1983-01-01T01:53:01.370 & 33.0778 & 139.038 & 0.19 & 3.1 & V \\\\\n",
       "\t11 & 1983-01-01T01:54:00.310 & 33.079 & 139.037 & 0.19 & 4.1 & J \\\\\n",
       "\t12 & 1983-01-01T02:18:03.090 & 33.0762 & 139.035 & 0.17 & 3.7 & V \\\\\n",
       "\t13 & 1983-01-01T02:19:04.690 & 33.0788 & 139.037 & 0.26 & 3.3 & V \\\\\n",
       "\t14 & 1983-01-01T02:26:00.800 & 33.0847 & 139.052 & 0.41 & 2.5 & V \\\\\n",
       "\t15 & 1983-01-01T02:55:00.720 & 36.0418 & 141.013 & 0.44 & 2.8 & V \\\\\n",
       "\t16 & 1983-01-01T02:55:02.400 & 33.0798 & 139.031 & 0.14 & 2.5 & V \\\\\n",
       "\t17 & 1983-01-01T02:56:05.040 & 33.0803 & 139.038 & 0.23 & 2.7 & V \\\\\n",
       "\t18 & 1983-01-01T03:03:00.380 & 33.0638 & 139.066 & 0.25 & 4.0 & V \\\\\n",
       "\t19 & 1983-01-01T03:15:00.460 & 33.0793 & 139.039 & 0.29 & 2.5 & V \\\\\n",
       "\t20 & 1983-01-01T03:17:01.430 & 33.0803 & 139.031 & 0.0 & 3.2 & V \\\\\n",
       "\t21 & 1983-01-01T03:19:00.770 & 33.0752 & 139.031 & 0.04 & 2.9 & V \\\\\n",
       "\t22 & 1983-01-01T03:31:01.720 & 33.0772 & 139.032 & 0.04 & 2.9 & V \\\\\n",
       "\t23 & 1983-01-01T03:41:00.110 & 33.0783 & 139.032 & 0.0 & 2.6 & V \\\\\n",
       "\t24 & 1983-01-01T03:49:01.570 & 33.0785 & 139.033 & 0.11 & 2.5 & V \\\\\n",
       "\t$\\dots$ & $\\dots$ & $\\dots$ & $\\dots$ & $\\dots$ & $\\dots$ & $\\dots$ \\\\\n",
       "\\end{tabular}\n"
      ],
      "text/plain": [
       "\u001b[1m3907921×6 DataFrame\u001b[0m\n",
       "\u001b[1m     Row \u001b[0m│\u001b[1m Datetime                \u001b[0m\u001b[1m Latitude \u001b[0m\u001b[1m Longitude \u001b[0m\u001b[1m Depth \u001b[0m\u001b[1m Magnitude \u001b[0m\u001b[1m Mag\u001b[0m ⋯\n",
       "         │\u001b[90m DateTime                \u001b[0m\u001b[90m Any      \u001b[0m\u001b[90m Any       \u001b[0m\u001b[90m Any   \u001b[0m\u001b[90m Any       \u001b[0m\u001b[90m Any\u001b[0m ⋯\n",
       "─────────┼──────────────────────────────────────────────────────────────────────\n",
       "       1 │ 1983-01-01T00:36:05.840  33.0778   139.035    0.21   3.9        V   ⋯\n",
       "       2 │ 1983-01-01T00:44:03.730  33.0892   139.042    0.0    3.2        V\n",
       "       3 │ 1983-01-01T01:05:05.160  33.0918   139.044    0.17   3.7        V\n",
       "       4 │ 1983-01-01T01:18:05.400  33.078    139.041    0.16   2.8        V\n",
       "       5 │ 1983-01-01T01:21:05.440  33.0798   139.034    0.09   2.9        V   ⋯\n",
       "       6 │ 1983-01-01T01:26:02.630  33.0773   139.042    0.2    3.4        V\n",
       "       7 │ 1983-01-01T01:36:02.660  33.0778   139.044    0.3    3.0        V\n",
       "       8 │ 1983-01-01T01:47:04.750  33.0785   139.033    0.11   2.6        V\n",
       "    ⋮    │            ⋮                ⋮          ⋮        ⋮        ⋮          ⋱\n",
       " 3907915 │ 2020-08-31T23:47:18.900  35.5092   135.985    7.83   0.4        v   ⋯\n",
       " 3907916 │ 2020-08-31T23:47:29.650  36.2393   137.656    4.02   -0.2       V\n",
       " 3907917 │ 2020-08-31T23:49:43.620  37.148    139.536    6.89   0.4        V\n",
       " 3907918 │ 2020-08-31T23:51:10.010  35.0288   135.58     11.0   0.3        V\n",
       " 3907919 │ 2020-08-31T23:52:39.120  36.2407   137.657    5.64   0.0        V   ⋯\n",
       " 3907920 │ 2020-08-31T23:54:46.940  36.617    140.06     112.1  1.1        V\n",
       " 3907921 │ 2020-08-31T23:55:49.130  35.8678   137.645    8.4    0.4        V\n",
       "\u001b[36m                                               1 column and 3907906 rows omitted\u001b[0m"
      ]
     },
     "metadata": {},
     "output_type": "display_data"
    }
   ],
   "source": [
    "df_new = DataFrame(Datetime=datetime, \n",
    "                Latitude=latitude, Longitude=longitude, Depth=depth,\n",
    "                Magnitude=magnitude, Magnitude_type=japan.Magnitude_type)"
   ]
  },
  {
   "cell_type": "code",
   "execution_count": null,
   "metadata": {},
   "outputs": [],
   "source": []
  },
  {
   "cell_type": "code",
   "execution_count": 46,
   "metadata": {},
   "outputs": [
    {
     "data": {
      "text/plain": [
       "3907921-element BitVector:\n",
       " 0\n",
       " 0\n",
       " 0\n",
       " 0\n",
       " 0\n",
       " 0\n",
       " 0\n",
       " 0\n",
       " 0\n",
       " 0\n",
       " ⋮\n",
       " 0\n",
       " 0\n",
       " 0\n",
       " 0\n",
       " 0\n",
       " 0\n",
       " 0\n",
       " 0\n",
       " 0"
      ]
     },
     "metadata": {},
     "output_type": "display_data"
    }
   ],
   "source": [
    "missingss = ismissing.(df_new.Magnitude)"
   ]
  },
  {
   "cell_type": "code",
   "execution_count": 52,
   "metadata": {},
   "outputs": [
    {
     "data": {
      "text/plain": [
       "716"
      ]
     },
     "metadata": {},
     "output_type": "display_data"
    }
   ],
   "source": [
    "i=0\n",
    "for element in eachindex(missingss)\n",
    "    if missingss[element] == 1\n",
    "        # println(element, df_new.Magnitude[element])\n",
    "        i=i+1\n",
    "    end\n",
    "end\n",
    "i"
   ]
  },
  {
   "cell_type": "code",
   "execution_count": null,
   "metadata": {},
   "outputs": [],
   "source": []
  },
  {
   "cell_type": "code",
   "execution_count": 53,
   "metadata": {},
   "outputs": [
    {
     "data": {
      "text/html": [
       "<div><div style = \"float: left;\"><span>3907187×6 DataFrame</span></div><div style = \"float: right;\"><span style = \"font-style: italic;\">3907162 rows omitted</span></div><div style = \"clear: both;\"></div></div><div class = \"data-frame\" style = \"overflow-x: scroll;\"><table class = \"data-frame\" style = \"margin-bottom: 6px;\"><thead><tr class = \"header\"><th class = \"rowNumber\" style = \"font-weight: bold; text-align: right;\">Row</th><th style = \"text-align: left;\">Datetime</th><th style = \"text-align: left;\">Latitude</th><th style = \"text-align: left;\">Longitude</th><th style = \"text-align: left;\">Depth</th><th style = \"text-align: left;\">Magnitude</th><th style = \"text-align: left;\">Magnitude_type</th></tr><tr class = \"subheader headerLastRow\"><th class = \"rowNumber\" style = \"font-weight: bold; text-align: right;\"></th><th title = \"DateTime\" style = \"text-align: left;\">DateTime</th><th title = \"Any\" style = \"text-align: left;\">Any</th><th title = \"Any\" style = \"text-align: left;\">Any</th><th title = \"Any\" style = \"text-align: left;\">Any</th><th title = \"Any\" style = \"text-align: left;\">Any</th><th title = \"Any\" style = \"text-align: left;\">Any</th></tr></thead><tbody><tr><td class = \"rowNumber\" style = \"font-weight: bold; text-align: right;\">1</td><td style = \"text-align: left;\">1983-01-01T00:36:05.840</td><td style = \"text-align: left;\">33.0778</td><td style = \"text-align: left;\">139.035</td><td style = \"text-align: left;\">0.21</td><td style = \"text-align: left;\">3.9</td><td style = \"text-align: left;\">V</td></tr><tr><td class = \"rowNumber\" style = \"font-weight: bold; text-align: right;\">2</td><td style = \"text-align: left;\">1983-01-01T00:44:03.730</td><td style = \"text-align: left;\">33.0892</td><td style = \"text-align: left;\">139.042</td><td style = \"text-align: left;\">0.0</td><td style = \"text-align: left;\">3.2</td><td style = \"text-align: left;\">V</td></tr><tr><td class = \"rowNumber\" style = \"font-weight: bold; text-align: right;\">3</td><td style = \"text-align: left;\">1983-01-01T01:05:05.160</td><td style = \"text-align: left;\">33.0918</td><td style = \"text-align: left;\">139.044</td><td style = \"text-align: left;\">0.17</td><td style = \"text-align: left;\">3.7</td><td style = \"text-align: left;\">V</td></tr><tr><td class = \"rowNumber\" style = \"font-weight: bold; text-align: right;\">4</td><td style = \"text-align: left;\">1983-01-01T01:18:05.400</td><td style = \"text-align: left;\">33.078</td><td style = \"text-align: left;\">139.041</td><td style = \"text-align: left;\">0.16</td><td style = \"text-align: left;\">2.8</td><td style = \"text-align: left;\">V</td></tr><tr><td class = \"rowNumber\" style = \"font-weight: bold; text-align: right;\">5</td><td style = \"text-align: left;\">1983-01-01T01:21:05.440</td><td style = \"text-align: left;\">33.0798</td><td style = \"text-align: left;\">139.034</td><td style = \"text-align: left;\">0.09</td><td style = \"text-align: left;\">2.9</td><td style = \"text-align: left;\">V</td></tr><tr><td class = \"rowNumber\" style = \"font-weight: bold; text-align: right;\">6</td><td style = \"text-align: left;\">1983-01-01T01:26:02.630</td><td style = \"text-align: left;\">33.0773</td><td style = \"text-align: left;\">139.042</td><td style = \"text-align: left;\">0.2</td><td style = \"text-align: left;\">3.4</td><td style = \"text-align: left;\">V</td></tr><tr><td class = \"rowNumber\" style = \"font-weight: bold; text-align: right;\">7</td><td style = \"text-align: left;\">1983-01-01T01:36:02.660</td><td style = \"text-align: left;\">33.0778</td><td style = \"text-align: left;\">139.044</td><td style = \"text-align: left;\">0.3</td><td style = \"text-align: left;\">3.0</td><td style = \"text-align: left;\">V</td></tr><tr><td class = \"rowNumber\" style = \"font-weight: bold; text-align: right;\">8</td><td style = \"text-align: left;\">1983-01-01T01:47:04.750</td><td style = \"text-align: left;\">33.0785</td><td style = \"text-align: left;\">139.033</td><td style = \"text-align: left;\">0.11</td><td style = \"text-align: left;\">2.6</td><td style = \"text-align: left;\">V</td></tr><tr><td class = \"rowNumber\" style = \"font-weight: bold; text-align: right;\">9</td><td style = \"text-align: left;\">1983-01-01T01:51:04.830</td><td style = \"text-align: left;\">33.0763</td><td style = \"text-align: left;\">139.039</td><td style = \"text-align: left;\">0.15</td><td style = \"text-align: left;\">3.0</td><td style = \"text-align: left;\">V</td></tr><tr><td class = \"rowNumber\" style = \"font-weight: bold; text-align: right;\">10</td><td style = \"text-align: left;\">1983-01-01T01:53:01.370</td><td style = \"text-align: left;\">33.0778</td><td style = \"text-align: left;\">139.038</td><td style = \"text-align: left;\">0.19</td><td style = \"text-align: left;\">3.1</td><td style = \"text-align: left;\">V</td></tr><tr><td class = \"rowNumber\" style = \"font-weight: bold; text-align: right;\">11</td><td style = \"text-align: left;\">1983-01-01T01:54:00.310</td><td style = \"text-align: left;\">33.079</td><td style = \"text-align: left;\">139.037</td><td style = \"text-align: left;\">0.19</td><td style = \"text-align: left;\">4.1</td><td style = \"text-align: left;\">J</td></tr><tr><td class = \"rowNumber\" style = \"font-weight: bold; text-align: right;\">12</td><td style = \"text-align: left;\">1983-01-01T02:18:03.090</td><td style = \"text-align: left;\">33.0762</td><td style = \"text-align: left;\">139.035</td><td style = \"text-align: left;\">0.17</td><td style = \"text-align: left;\">3.7</td><td style = \"text-align: left;\">V</td></tr><tr><td class = \"rowNumber\" style = \"font-weight: bold; text-align: right;\">13</td><td style = \"text-align: left;\">1983-01-01T02:19:04.690</td><td style = \"text-align: left;\">33.0788</td><td style = \"text-align: left;\">139.037</td><td style = \"text-align: left;\">0.26</td><td style = \"text-align: left;\">3.3</td><td style = \"text-align: left;\">V</td></tr><tr><td style = \"text-align: right;\">&vellip;</td><td style = \"text-align: right;\">&vellip;</td><td style = \"text-align: right;\">&vellip;</td><td style = \"text-align: right;\">&vellip;</td><td style = \"text-align: right;\">&vellip;</td><td style = \"text-align: right;\">&vellip;</td><td style = \"text-align: right;\">&vellip;</td></tr><tr><td class = \"rowNumber\" style = \"font-weight: bold; text-align: right;\">3907176</td><td style = \"text-align: left;\">2020-08-31T23:36:45.060</td><td style = \"text-align: left;\">35.858</td><td style = \"text-align: left;\">140.448</td><td style = \"text-align: left;\">32.32</td><td style = \"text-align: left;\">0.6</td><td style = \"text-align: left;\">V</td></tr><tr><td class = \"rowNumber\" style = \"font-weight: bold; text-align: right;\">3907177</td><td style = \"text-align: left;\">2020-08-31T23:37:53.310</td><td style = \"text-align: left;\">35.9108</td><td style = \"text-align: left;\">137.727</td><td style = \"text-align: left;\">4.83</td><td style = \"text-align: left;\">0.0</td><td style = \"text-align: left;\">V</td></tr><tr><td class = \"rowNumber\" style = \"font-weight: bold; text-align: right;\">3907178</td><td style = \"text-align: left;\">2020-08-31T23:40:31.810</td><td style = \"text-align: left;\">36.2415</td><td style = \"text-align: left;\">137.664</td><td style = \"text-align: left;\">10.79</td><td style = \"text-align: left;\">-0.1</td><td style = \"text-align: left;\">V</td></tr><tr><td class = \"rowNumber\" style = \"font-weight: bold; text-align: right;\">3907179</td><td style = \"text-align: left;\">2020-08-31T23:41:03.390</td><td style = \"text-align: left;\">36.241</td><td style = \"text-align: left;\">137.664</td><td style = \"text-align: left;\">7.22</td><td style = \"text-align: left;\">0.7</td><td style = \"text-align: left;\">V</td></tr><tr><td class = \"rowNumber\" style = \"font-weight: bold; text-align: right;\">3907180</td><td style = \"text-align: left;\">2020-08-31T23:42:18</td><td style = \"text-align: left;\">36.24</td><td style = \"text-align: left;\">137.672</td><td style = \"text-align: left;\">16.61</td><td style = \"text-align: left;\">0.3</td><td style = \"text-align: left;\">V</td></tr><tr><td class = \"rowNumber\" style = \"font-weight: bold; text-align: right;\">3907181</td><td style = \"text-align: left;\">2020-08-31T23:47:18.900</td><td style = \"text-align: left;\">35.5092</td><td style = \"text-align: left;\">135.985</td><td style = \"text-align: left;\">7.83</td><td style = \"text-align: left;\">0.4</td><td style = \"text-align: left;\">v</td></tr><tr><td class = \"rowNumber\" style = \"font-weight: bold; text-align: right;\">3907182</td><td style = \"text-align: left;\">2020-08-31T23:47:29.650</td><td style = \"text-align: left;\">36.2393</td><td style = \"text-align: left;\">137.656</td><td style = \"text-align: left;\">4.02</td><td style = \"text-align: left;\">-0.2</td><td style = \"text-align: left;\">V</td></tr><tr><td class = \"rowNumber\" style = \"font-weight: bold; text-align: right;\">3907183</td><td style = \"text-align: left;\">2020-08-31T23:49:43.620</td><td style = \"text-align: left;\">37.148</td><td style = \"text-align: left;\">139.536</td><td style = \"text-align: left;\">6.89</td><td style = \"text-align: left;\">0.4</td><td style = \"text-align: left;\">V</td></tr><tr><td class = \"rowNumber\" style = \"font-weight: bold; text-align: right;\">3907184</td><td style = \"text-align: left;\">2020-08-31T23:51:10.010</td><td style = \"text-align: left;\">35.0288</td><td style = \"text-align: left;\">135.58</td><td style = \"text-align: left;\">11.0</td><td style = \"text-align: left;\">0.3</td><td style = \"text-align: left;\">V</td></tr><tr><td class = \"rowNumber\" style = \"font-weight: bold; text-align: right;\">3907185</td><td style = \"text-align: left;\">2020-08-31T23:52:39.120</td><td style = \"text-align: left;\">36.2407</td><td style = \"text-align: left;\">137.657</td><td style = \"text-align: left;\">5.64</td><td style = \"text-align: left;\">0.0</td><td style = \"text-align: left;\">V</td></tr><tr><td class = \"rowNumber\" style = \"font-weight: bold; text-align: right;\">3907186</td><td style = \"text-align: left;\">2020-08-31T23:54:46.940</td><td style = \"text-align: left;\">36.617</td><td style = \"text-align: left;\">140.06</td><td style = \"text-align: left;\">112.1</td><td style = \"text-align: left;\">1.1</td><td style = \"text-align: left;\">V</td></tr><tr><td class = \"rowNumber\" style = \"font-weight: bold; text-align: right;\">3907187</td><td style = \"text-align: left;\">2020-08-31T23:55:49.130</td><td style = \"text-align: left;\">35.8678</td><td style = \"text-align: left;\">137.645</td><td style = \"text-align: left;\">8.4</td><td style = \"text-align: left;\">0.4</td><td style = \"text-align: left;\">V</td></tr></tbody></table></div>"
      ],
      "text/latex": [
       "\\begin{tabular}{r|cccccc}\n",
       "\t& Datetime & Latitude & Longitude & Depth & Magnitude & Magnitude\\_type\\\\\n",
       "\t\\hline\n",
       "\t& DateTime & Any & Any & Any & Any & Any\\\\\n",
       "\t\\hline\n",
       "\t1 & 1983-01-01T00:36:05.840 & 33.0778 & 139.035 & 0.21 & 3.9 & V \\\\\n",
       "\t2 & 1983-01-01T00:44:03.730 & 33.0892 & 139.042 & 0.0 & 3.2 & V \\\\\n",
       "\t3 & 1983-01-01T01:05:05.160 & 33.0918 & 139.044 & 0.17 & 3.7 & V \\\\\n",
       "\t4 & 1983-01-01T01:18:05.400 & 33.078 & 139.041 & 0.16 & 2.8 & V \\\\\n",
       "\t5 & 1983-01-01T01:21:05.440 & 33.0798 & 139.034 & 0.09 & 2.9 & V \\\\\n",
       "\t6 & 1983-01-01T01:26:02.630 & 33.0773 & 139.042 & 0.2 & 3.4 & V \\\\\n",
       "\t7 & 1983-01-01T01:36:02.660 & 33.0778 & 139.044 & 0.3 & 3.0 & V \\\\\n",
       "\t8 & 1983-01-01T01:47:04.750 & 33.0785 & 139.033 & 0.11 & 2.6 & V \\\\\n",
       "\t9 & 1983-01-01T01:51:04.830 & 33.0763 & 139.039 & 0.15 & 3.0 & V \\\\\n",
       "\t10 & 1983-01-01T01:53:01.370 & 33.0778 & 139.038 & 0.19 & 3.1 & V \\\\\n",
       "\t11 & 1983-01-01T01:54:00.310 & 33.079 & 139.037 & 0.19 & 4.1 & J \\\\\n",
       "\t12 & 1983-01-01T02:18:03.090 & 33.0762 & 139.035 & 0.17 & 3.7 & V \\\\\n",
       "\t13 & 1983-01-01T02:19:04.690 & 33.0788 & 139.037 & 0.26 & 3.3 & V \\\\\n",
       "\t14 & 1983-01-01T02:26:00.800 & 33.0847 & 139.052 & 0.41 & 2.5 & V \\\\\n",
       "\t15 & 1983-01-01T02:55:00.720 & 36.0418 & 141.013 & 0.44 & 2.8 & V \\\\\n",
       "\t16 & 1983-01-01T02:55:02.400 & 33.0798 & 139.031 & 0.14 & 2.5 & V \\\\\n",
       "\t17 & 1983-01-01T02:56:05.040 & 33.0803 & 139.038 & 0.23 & 2.7 & V \\\\\n",
       "\t18 & 1983-01-01T03:03:00.380 & 33.0638 & 139.066 & 0.25 & 4.0 & V \\\\\n",
       "\t19 & 1983-01-01T03:15:00.460 & 33.0793 & 139.039 & 0.29 & 2.5 & V \\\\\n",
       "\t20 & 1983-01-01T03:17:01.430 & 33.0803 & 139.031 & 0.0 & 3.2 & V \\\\\n",
       "\t21 & 1983-01-01T03:19:00.770 & 33.0752 & 139.031 & 0.04 & 2.9 & V \\\\\n",
       "\t22 & 1983-01-01T03:31:01.720 & 33.0772 & 139.032 & 0.04 & 2.9 & V \\\\\n",
       "\t23 & 1983-01-01T03:41:00.110 & 33.0783 & 139.032 & 0.0 & 2.6 & V \\\\\n",
       "\t24 & 1983-01-01T03:49:01.570 & 33.0785 & 139.033 & 0.11 & 2.5 & V \\\\\n",
       "\t$\\dots$ & $\\dots$ & $\\dots$ & $\\dots$ & $\\dots$ & $\\dots$ & $\\dots$ \\\\\n",
       "\\end{tabular}\n"
      ],
      "text/plain": [
       "\u001b[1m3907187×6 DataFrame\u001b[0m\n",
       "\u001b[1m     Row \u001b[0m│\u001b[1m Datetime                \u001b[0m\u001b[1m Latitude \u001b[0m\u001b[1m Longitude \u001b[0m\u001b[1m Depth \u001b[0m\u001b[1m Magnitude \u001b[0m\u001b[1m Mag\u001b[0m ⋯\n",
       "         │\u001b[90m DateTime                \u001b[0m\u001b[90m Any      \u001b[0m\u001b[90m Any       \u001b[0m\u001b[90m Any   \u001b[0m\u001b[90m Any       \u001b[0m\u001b[90m Any\u001b[0m ⋯\n",
       "─────────┼──────────────────────────────────────────────────────────────────────\n",
       "       1 │ 1983-01-01T00:36:05.840  33.0778   139.035    0.21   3.9        V   ⋯\n",
       "       2 │ 1983-01-01T00:44:03.730  33.0892   139.042    0.0    3.2        V\n",
       "       3 │ 1983-01-01T01:05:05.160  33.0918   139.044    0.17   3.7        V\n",
       "       4 │ 1983-01-01T01:18:05.400  33.078    139.041    0.16   2.8        V\n",
       "       5 │ 1983-01-01T01:21:05.440  33.0798   139.034    0.09   2.9        V   ⋯\n",
       "       6 │ 1983-01-01T01:26:02.630  33.0773   139.042    0.2    3.4        V\n",
       "       7 │ 1983-01-01T01:36:02.660  33.0778   139.044    0.3    3.0        V\n",
       "       8 │ 1983-01-01T01:47:04.750  33.0785   139.033    0.11   2.6        V\n",
       "    ⋮    │            ⋮                ⋮          ⋮        ⋮        ⋮          ⋱\n",
       " 3907181 │ 2020-08-31T23:47:18.900  35.5092   135.985    7.83   0.4        v   ⋯\n",
       " 3907182 │ 2020-08-31T23:47:29.650  36.2393   137.656    4.02   -0.2       V\n",
       " 3907183 │ 2020-08-31T23:49:43.620  37.148    139.536    6.89   0.4        V\n",
       " 3907184 │ 2020-08-31T23:51:10.010  35.0288   135.58     11.0   0.3        V\n",
       " 3907185 │ 2020-08-31T23:52:39.120  36.2407   137.657    5.64   0.0        V   ⋯\n",
       " 3907186 │ 2020-08-31T23:54:46.940  36.617    140.06     112.1  1.1        V\n",
       " 3907187 │ 2020-08-31T23:55:49.130  35.8678   137.645    8.4    0.4        V\n",
       "\u001b[36m                                               1 column and 3907172 rows omitted\u001b[0m"
      ]
     },
     "metadata": {},
     "output_type": "display_data"
    }
   ],
   "source": [
    "dropmissing!(df_new)"
   ]
  },
  {
   "cell_type": "code",
   "execution_count": 70,
   "metadata": {},
   "outputs": [
    {
     "data": {
      "text/html": [
       "<div><div style = \"float: left;\"><span>3563558×6 DataFrame</span></div><div style = \"float: right;\"><span style = \"font-style: italic;\">3563533 rows omitted</span></div><div style = \"clear: both;\"></div></div><div class = \"data-frame\" style = \"overflow-x: scroll;\"><table class = \"data-frame\" style = \"margin-bottom: 6px;\"><thead><tr class = \"header\"><th class = \"rowNumber\" style = \"font-weight: bold; text-align: right;\">Row</th><th style = \"text-align: left;\">Datetime</th><th style = \"text-align: left;\">Latitude</th><th style = \"text-align: left;\">Longitude</th><th style = \"text-align: left;\">Depth</th><th style = \"text-align: left;\">Magnitude</th><th style = \"text-align: left;\">Magnitude_type</th></tr><tr class = \"subheader headerLastRow\"><th class = \"rowNumber\" style = \"font-weight: bold; text-align: right;\"></th><th title = \"DateTime\" style = \"text-align: left;\">DateTime</th><th title = \"Any\" style = \"text-align: left;\">Any</th><th title = \"Any\" style = \"text-align: left;\">Any</th><th title = \"Any\" style = \"text-align: left;\">Any</th><th title = \"Any\" style = \"text-align: left;\">Any</th><th title = \"Any\" style = \"text-align: left;\">Any</th></tr></thead><tbody><tr><td class = \"rowNumber\" style = \"font-weight: bold; text-align: right;\">1</td><td style = \"text-align: left;\">1983-01-01T00:36:05.840</td><td style = \"text-align: left;\">33.0778</td><td style = \"text-align: left;\">139.035</td><td style = \"text-align: left;\">0.21</td><td style = \"text-align: left;\">3.9</td><td style = \"text-align: left;\">V</td></tr><tr><td class = \"rowNumber\" style = \"font-weight: bold; text-align: right;\">2</td><td style = \"text-align: left;\">1983-01-01T00:44:03.730</td><td style = \"text-align: left;\">33.0892</td><td style = \"text-align: left;\">139.042</td><td style = \"text-align: left;\">0.0</td><td style = \"text-align: left;\">3.2</td><td style = \"text-align: left;\">V</td></tr><tr><td class = \"rowNumber\" style = \"font-weight: bold; text-align: right;\">3</td><td style = \"text-align: left;\">1983-01-01T01:05:05.160</td><td style = \"text-align: left;\">33.0918</td><td style = \"text-align: left;\">139.044</td><td style = \"text-align: left;\">0.17</td><td style = \"text-align: left;\">3.7</td><td style = \"text-align: left;\">V</td></tr><tr><td class = \"rowNumber\" style = \"font-weight: bold; text-align: right;\">4</td><td style = \"text-align: left;\">1983-01-01T01:18:05.400</td><td style = \"text-align: left;\">33.078</td><td style = \"text-align: left;\">139.041</td><td style = \"text-align: left;\">0.16</td><td style = \"text-align: left;\">2.8</td><td style = \"text-align: left;\">V</td></tr><tr><td class = \"rowNumber\" style = \"font-weight: bold; text-align: right;\">5</td><td style = \"text-align: left;\">1983-01-01T01:21:05.440</td><td style = \"text-align: left;\">33.0798</td><td style = \"text-align: left;\">139.034</td><td style = \"text-align: left;\">0.09</td><td style = \"text-align: left;\">2.9</td><td style = \"text-align: left;\">V</td></tr><tr><td class = \"rowNumber\" style = \"font-weight: bold; text-align: right;\">6</td><td style = \"text-align: left;\">1983-01-01T01:26:02.630</td><td style = \"text-align: left;\">33.0773</td><td style = \"text-align: left;\">139.042</td><td style = \"text-align: left;\">0.2</td><td style = \"text-align: left;\">3.4</td><td style = \"text-align: left;\">V</td></tr><tr><td class = \"rowNumber\" style = \"font-weight: bold; text-align: right;\">7</td><td style = \"text-align: left;\">1983-01-01T01:36:02.660</td><td style = \"text-align: left;\">33.0778</td><td style = \"text-align: left;\">139.044</td><td style = \"text-align: left;\">0.3</td><td style = \"text-align: left;\">3.0</td><td style = \"text-align: left;\">V</td></tr><tr><td class = \"rowNumber\" style = \"font-weight: bold; text-align: right;\">8</td><td style = \"text-align: left;\">1983-01-01T01:47:04.750</td><td style = \"text-align: left;\">33.0785</td><td style = \"text-align: left;\">139.033</td><td style = \"text-align: left;\">0.11</td><td style = \"text-align: left;\">2.6</td><td style = \"text-align: left;\">V</td></tr><tr><td class = \"rowNumber\" style = \"font-weight: bold; text-align: right;\">9</td><td style = \"text-align: left;\">1983-01-01T01:51:04.830</td><td style = \"text-align: left;\">33.0763</td><td style = \"text-align: left;\">139.039</td><td style = \"text-align: left;\">0.15</td><td style = \"text-align: left;\">3.0</td><td style = \"text-align: left;\">V</td></tr><tr><td class = \"rowNumber\" style = \"font-weight: bold; text-align: right;\">10</td><td style = \"text-align: left;\">1983-01-01T01:53:01.370</td><td style = \"text-align: left;\">33.0778</td><td style = \"text-align: left;\">139.038</td><td style = \"text-align: left;\">0.19</td><td style = \"text-align: left;\">3.1</td><td style = \"text-align: left;\">V</td></tr><tr><td class = \"rowNumber\" style = \"font-weight: bold; text-align: right;\">11</td><td style = \"text-align: left;\">1983-01-01T01:54:00.310</td><td style = \"text-align: left;\">33.079</td><td style = \"text-align: left;\">139.037</td><td style = \"text-align: left;\">0.19</td><td style = \"text-align: left;\">4.1</td><td style = \"text-align: left;\">J</td></tr><tr><td class = \"rowNumber\" style = \"font-weight: bold; text-align: right;\">12</td><td style = \"text-align: left;\">1983-01-01T02:18:03.090</td><td style = \"text-align: left;\">33.0762</td><td style = \"text-align: left;\">139.035</td><td style = \"text-align: left;\">0.17</td><td style = \"text-align: left;\">3.7</td><td style = \"text-align: left;\">V</td></tr><tr><td class = \"rowNumber\" style = \"font-weight: bold; text-align: right;\">13</td><td style = \"text-align: left;\">1983-01-01T02:19:04.690</td><td style = \"text-align: left;\">33.0788</td><td style = \"text-align: left;\">139.037</td><td style = \"text-align: left;\">0.26</td><td style = \"text-align: left;\">3.3</td><td style = \"text-align: left;\">V</td></tr><tr><td style = \"text-align: right;\">&vellip;</td><td style = \"text-align: right;\">&vellip;</td><td style = \"text-align: right;\">&vellip;</td><td style = \"text-align: right;\">&vellip;</td><td style = \"text-align: right;\">&vellip;</td><td style = \"text-align: right;\">&vellip;</td><td style = \"text-align: right;\">&vellip;</td></tr><tr><td class = \"rowNumber\" style = \"font-weight: bold; text-align: right;\">3563547</td><td style = \"text-align: left;\">2020-08-31T23:20:27.020</td><td style = \"text-align: left;\">34.9333</td><td style = \"text-align: left;\">135.579</td><td style = \"text-align: left;\">7.35</td><td style = \"text-align: left;\">0.2</td><td style = \"text-align: left;\">V</td></tr><tr><td class = \"rowNumber\" style = \"font-weight: bold; text-align: right;\">3563548</td><td style = \"text-align: left;\">2020-08-31T23:21:52.020</td><td style = \"text-align: left;\">32.3375</td><td style = \"text-align: left;\">132.068</td><td style = \"text-align: left;\">15.7</td><td style = \"text-align: left;\">1.3</td><td style = \"text-align: left;\">V</td></tr><tr><td class = \"rowNumber\" style = \"font-weight: bold; text-align: right;\">3563549</td><td style = \"text-align: left;\">2020-08-31T23:23:31.650</td><td style = \"text-align: left;\">35.884</td><td style = \"text-align: left;\">140.798</td><td style = \"text-align: left;\">37.74</td><td style = \"text-align: left;\">1.2</td><td style = \"text-align: left;\">V</td></tr><tr><td class = \"rowNumber\" style = \"font-weight: bold; text-align: right;\">3563550</td><td style = \"text-align: left;\">2020-08-31T23:34:00.050</td><td style = \"text-align: left;\">37.8845</td><td style = \"text-align: left;\">141.75</td><td style = \"text-align: left;\">40.83</td><td style = \"text-align: left;\">1.0</td><td style = \"text-align: left;\">V</td></tr><tr><td class = \"rowNumber\" style = \"font-weight: bold; text-align: right;\">3563551</td><td style = \"text-align: left;\">2020-08-31T23:36:45.060</td><td style = \"text-align: left;\">35.858</td><td style = \"text-align: left;\">140.448</td><td style = \"text-align: left;\">32.32</td><td style = \"text-align: left;\">0.6</td><td style = \"text-align: left;\">V</td></tr><tr><td class = \"rowNumber\" style = \"font-weight: bold; text-align: right;\">3563552</td><td style = \"text-align: left;\">2020-08-31T23:41:03.390</td><td style = \"text-align: left;\">36.241</td><td style = \"text-align: left;\">137.664</td><td style = \"text-align: left;\">7.22</td><td style = \"text-align: left;\">0.7</td><td style = \"text-align: left;\">V</td></tr><tr><td class = \"rowNumber\" style = \"font-weight: bold; text-align: right;\">3563553</td><td style = \"text-align: left;\">2020-08-31T23:42:18</td><td style = \"text-align: left;\">36.24</td><td style = \"text-align: left;\">137.672</td><td style = \"text-align: left;\">16.61</td><td style = \"text-align: left;\">0.3</td><td style = \"text-align: left;\">V</td></tr><tr><td class = \"rowNumber\" style = \"font-weight: bold; text-align: right;\">3563554</td><td style = \"text-align: left;\">2020-08-31T23:47:18.900</td><td style = \"text-align: left;\">35.5092</td><td style = \"text-align: left;\">135.985</td><td style = \"text-align: left;\">7.83</td><td style = \"text-align: left;\">0.4</td><td style = \"text-align: left;\">v</td></tr><tr><td class = \"rowNumber\" style = \"font-weight: bold; text-align: right;\">3563555</td><td style = \"text-align: left;\">2020-08-31T23:49:43.620</td><td style = \"text-align: left;\">37.148</td><td style = \"text-align: left;\">139.536</td><td style = \"text-align: left;\">6.89</td><td style = \"text-align: left;\">0.4</td><td style = \"text-align: left;\">V</td></tr><tr><td class = \"rowNumber\" style = \"font-weight: bold; text-align: right;\">3563556</td><td style = \"text-align: left;\">2020-08-31T23:51:10.010</td><td style = \"text-align: left;\">35.0288</td><td style = \"text-align: left;\">135.58</td><td style = \"text-align: left;\">11.0</td><td style = \"text-align: left;\">0.3</td><td style = \"text-align: left;\">V</td></tr><tr><td class = \"rowNumber\" style = \"font-weight: bold; text-align: right;\">3563557</td><td style = \"text-align: left;\">2020-08-31T23:54:46.940</td><td style = \"text-align: left;\">36.617</td><td style = \"text-align: left;\">140.06</td><td style = \"text-align: left;\">112.1</td><td style = \"text-align: left;\">1.1</td><td style = \"text-align: left;\">V</td></tr><tr><td class = \"rowNumber\" style = \"font-weight: bold; text-align: right;\">3563558</td><td style = \"text-align: left;\">2020-08-31T23:55:49.130</td><td style = \"text-align: left;\">35.8678</td><td style = \"text-align: left;\">137.645</td><td style = \"text-align: left;\">8.4</td><td style = \"text-align: left;\">0.4</td><td style = \"text-align: left;\">V</td></tr></tbody></table></div>"
      ],
      "text/latex": [
       "\\begin{tabular}{r|cccccc}\n",
       "\t& Datetime & Latitude & Longitude & Depth & Magnitude & Magnitude\\_type\\\\\n",
       "\t\\hline\n",
       "\t& DateTime & Any & Any & Any & Any & Any\\\\\n",
       "\t\\hline\n",
       "\t1 & 1983-01-01T00:36:05.840 & 33.0778 & 139.035 & 0.21 & 3.9 & V \\\\\n",
       "\t2 & 1983-01-01T00:44:03.730 & 33.0892 & 139.042 & 0.0 & 3.2 & V \\\\\n",
       "\t3 & 1983-01-01T01:05:05.160 & 33.0918 & 139.044 & 0.17 & 3.7 & V \\\\\n",
       "\t4 & 1983-01-01T01:18:05.400 & 33.078 & 139.041 & 0.16 & 2.8 & V \\\\\n",
       "\t5 & 1983-01-01T01:21:05.440 & 33.0798 & 139.034 & 0.09 & 2.9 & V \\\\\n",
       "\t6 & 1983-01-01T01:26:02.630 & 33.0773 & 139.042 & 0.2 & 3.4 & V \\\\\n",
       "\t7 & 1983-01-01T01:36:02.660 & 33.0778 & 139.044 & 0.3 & 3.0 & V \\\\\n",
       "\t8 & 1983-01-01T01:47:04.750 & 33.0785 & 139.033 & 0.11 & 2.6 & V \\\\\n",
       "\t9 & 1983-01-01T01:51:04.830 & 33.0763 & 139.039 & 0.15 & 3.0 & V \\\\\n",
       "\t10 & 1983-01-01T01:53:01.370 & 33.0778 & 139.038 & 0.19 & 3.1 & V \\\\\n",
       "\t11 & 1983-01-01T01:54:00.310 & 33.079 & 139.037 & 0.19 & 4.1 & J \\\\\n",
       "\t12 & 1983-01-01T02:18:03.090 & 33.0762 & 139.035 & 0.17 & 3.7 & V \\\\\n",
       "\t13 & 1983-01-01T02:19:04.690 & 33.0788 & 139.037 & 0.26 & 3.3 & V \\\\\n",
       "\t14 & 1983-01-01T02:26:00.800 & 33.0847 & 139.052 & 0.41 & 2.5 & V \\\\\n",
       "\t15 & 1983-01-01T02:55:00.720 & 36.0418 & 141.013 & 0.44 & 2.8 & V \\\\\n",
       "\t16 & 1983-01-01T02:55:02.400 & 33.0798 & 139.031 & 0.14 & 2.5 & V \\\\\n",
       "\t17 & 1983-01-01T02:56:05.040 & 33.0803 & 139.038 & 0.23 & 2.7 & V \\\\\n",
       "\t18 & 1983-01-01T03:03:00.380 & 33.0638 & 139.066 & 0.25 & 4.0 & V \\\\\n",
       "\t19 & 1983-01-01T03:15:00.460 & 33.0793 & 139.039 & 0.29 & 2.5 & V \\\\\n",
       "\t20 & 1983-01-01T03:17:01.430 & 33.0803 & 139.031 & 0.0 & 3.2 & V \\\\\n",
       "\t21 & 1983-01-01T03:19:00.770 & 33.0752 & 139.031 & 0.04 & 2.9 & V \\\\\n",
       "\t22 & 1983-01-01T03:31:01.720 & 33.0772 & 139.032 & 0.04 & 2.9 & V \\\\\n",
       "\t23 & 1983-01-01T03:41:00.110 & 33.0783 & 139.032 & 0.0 & 2.6 & V \\\\\n",
       "\t24 & 1983-01-01T03:49:01.570 & 33.0785 & 139.033 & 0.11 & 2.5 & V \\\\\n",
       "\t$\\dots$ & $\\dots$ & $\\dots$ & $\\dots$ & $\\dots$ & $\\dots$ & $\\dots$ \\\\\n",
       "\\end{tabular}\n"
      ],
      "text/plain": [
       "\u001b[1m3563558×6 DataFrame\u001b[0m\n",
       "\u001b[1m     Row \u001b[0m│\u001b[1m Datetime                \u001b[0m\u001b[1m Latitude \u001b[0m\u001b[1m Longitude \u001b[0m\u001b[1m Depth \u001b[0m\u001b[1m Magnitude \u001b[0m\u001b[1m Mag\u001b[0m ⋯\n",
       "         │\u001b[90m DateTime                \u001b[0m\u001b[90m Any      \u001b[0m\u001b[90m Any       \u001b[0m\u001b[90m Any   \u001b[0m\u001b[90m Any       \u001b[0m\u001b[90m Any\u001b[0m ⋯\n",
       "─────────┼──────────────────────────────────────────────────────────────────────\n",
       "       1 │ 1983-01-01T00:36:05.840  33.0778   139.035    0.21   3.9        V   ⋯\n",
       "       2 │ 1983-01-01T00:44:03.730  33.0892   139.042    0.0    3.2        V\n",
       "       3 │ 1983-01-01T01:05:05.160  33.0918   139.044    0.17   3.7        V\n",
       "       4 │ 1983-01-01T01:18:05.400  33.078    139.041    0.16   2.8        V\n",
       "       5 │ 1983-01-01T01:21:05.440  33.0798   139.034    0.09   2.9        V   ⋯\n",
       "       6 │ 1983-01-01T01:26:02.630  33.0773   139.042    0.2    3.4        V\n",
       "       7 │ 1983-01-01T01:36:02.660  33.0778   139.044    0.3    3.0        V\n",
       "       8 │ 1983-01-01T01:47:04.750  33.0785   139.033    0.11   2.6        V\n",
       "    ⋮    │            ⋮                ⋮          ⋮        ⋮        ⋮          ⋱\n",
       " 3563552 │ 2020-08-31T23:41:03.390  36.241    137.664    7.22   0.7        V   ⋯\n",
       " 3563553 │ 2020-08-31T23:42:18      36.24     137.672    16.61  0.3        V\n",
       " 3563554 │ 2020-08-31T23:47:18.900  35.5092   135.985    7.83   0.4        v\n",
       " 3563555 │ 2020-08-31T23:49:43.620  37.148    139.536    6.89   0.4        V\n",
       " 3563556 │ 2020-08-31T23:51:10.010  35.0288   135.58     11.0   0.3        V   ⋯\n",
       " 3563557 │ 2020-08-31T23:54:46.940  36.617    140.06     112.1  1.1        V\n",
       " 3563558 │ 2020-08-31T23:55:49.130  35.8678   137.645    8.4    0.4        V\n",
       "\u001b[36m                                               1 column and 3563543 rows omitted\u001b[0m"
      ]
     },
     "metadata": {},
     "output_type": "display_data"
    }
   ],
   "source": [
    "japan = df_new[df_new.Magnitude .> 0.0,:]"
   ]
  },
  {
   "cell_type": "code",
   "execution_count": null,
   "metadata": {},
   "outputs": [],
   "source": []
  },
  {
   "cell_type": "code",
   "execution_count": 80,
   "metadata": {},
   "outputs": [
    {
     "data": {
      "text/html": [
       "<div><div style = \"float: left;\"><span>0×6 DataFrame</span></div><div style = \"clear: both;\"></div></div><div class = \"data-frame\" style = \"overflow-x: scroll;\"><table class = \"data-frame\" style = \"margin-bottom: 6px;\"><thead><tr class = \"header\"><th class = \"rowNumber\" style = \"font-weight: bold; text-align: right;\">Row</th><th style = \"text-align: left;\">Datetime</th><th style = \"text-align: left;\">Latitude</th><th style = \"text-align: left;\">Longitude</th><th style = \"text-align: left;\">Depth</th><th style = \"text-align: left;\">Magnitude</th><th style = \"text-align: left;\">Magnitude_type</th></tr><tr class = \"subheader headerLastRow\"><th class = \"rowNumber\" style = \"font-weight: bold; text-align: right;\"></th><th title = \"DateTime\" style = \"text-align: left;\">DateTime</th><th title = \"Any\" style = \"text-align: left;\">Any</th><th title = \"Any\" style = \"text-align: left;\">Any</th><th title = \"Any\" style = \"text-align: left;\">Any</th><th title = \"Any\" style = \"text-align: left;\">Any</th><th title = \"Any\" style = \"text-align: left;\">Any</th></tr></thead><tbody></tbody></table></div>"
      ],
      "text/latex": [
       "\\begin{tabular}{r|cccccc}\n",
       "\t& Datetime & Latitude & Longitude & Depth & Magnitude & Magnitude\\_type\\\\\n",
       "\t\\hline\n",
       "\t& DateTime & Any & Any & Any & Any & Any\\\\\n",
       "\t\\hline\n",
       "\\end{tabular}\n"
      ],
      "text/plain": [
       "\u001b[1m0×6 DataFrame\u001b[0m\n",
       "\u001b[1m Row \u001b[0m│\u001b[1m Datetime \u001b[0m\u001b[1m Latitude \u001b[0m\u001b[1m Longitude \u001b[0m\u001b[1m Depth \u001b[0m\u001b[1m Magnitude \u001b[0m\u001b[1m Magnitude_type \u001b[0m\n",
       "     │\u001b[90m DateTime \u001b[0m\u001b[90m Any      \u001b[0m\u001b[90m Any       \u001b[0m\u001b[90m Any   \u001b[0m\u001b[90m Any       \u001b[0m\u001b[90m Any            \u001b[0m\n",
       "─────┴─────────────────────────────────────────────────────────────────"
      ]
     },
     "metadata": {},
     "output_type": "display_data"
    }
   ],
   "source": [
    "japan_negdep = japan[japan.Magnitude .< 0.0,:]"
   ]
  },
  {
   "cell_type": "code",
   "execution_count": null,
   "metadata": {},
   "outputs": [],
   "source": []
  },
  {
   "cell_type": "code",
   "execution_count": 78,
   "metadata": {},
   "outputs": [
    {
     "data": {
      "text/html": [
       "<div><div style = \"float: left;\"><span>5×6 DataFrame</span></div><div style = \"clear: both;\"></div></div><div class = \"data-frame\" style = \"overflow-x: scroll;\"><table class = \"data-frame\" style = \"margin-bottom: 6px;\"><thead><tr class = \"header\"><th class = \"rowNumber\" style = \"font-weight: bold; text-align: right;\">Row</th><th style = \"text-align: left;\">Datetime</th><th style = \"text-align: left;\">Latitude</th><th style = \"text-align: left;\">Longitude</th><th style = \"text-align: left;\">Depth</th><th style = \"text-align: left;\">Magnitude</th><th style = \"text-align: left;\">Magnitude_type</th></tr><tr class = \"subheader headerLastRow\"><th class = \"rowNumber\" style = \"font-weight: bold; text-align: right;\"></th><th title = \"DateTime\" style = \"text-align: left;\">DateTime</th><th title = \"Any\" style = \"text-align: left;\">Any</th><th title = \"Any\" style = \"text-align: left;\">Any</th><th title = \"Any\" style = \"text-align: left;\">Any</th><th title = \"Any\" style = \"text-align: left;\">Any</th><th title = \"Any\" style = \"text-align: left;\">Any</th></tr></thead><tbody><tr><td class = \"rowNumber\" style = \"font-weight: bold; text-align: right;\">1</td><td style = \"text-align: left;\">1989-11-02T03:25:03.350</td><td style = \"text-align: left;\">39.0858</td><td style = \"text-align: left;\">143.005</td><td style = \"text-align: left;\">0.0</td><td style = \"text-align: left;\">7.1</td><td style = \"text-align: left;\">J</td></tr><tr><td class = \"rowNumber\" style = \"font-weight: bold; text-align: right;\">2</td><td style = \"text-align: left;\">1994-10-09T16:55:03.900</td><td style = \"text-align: left;\">43.0558</td><td style = \"text-align: left;\">147.08</td><td style = \"text-align: left;\">0.0</td><td style = \"text-align: left;\">7.3</td><td style = \"text-align: left;\">D</td></tr><tr><td class = \"rowNumber\" style = \"font-weight: bold; text-align: right;\">3</td><td style = \"text-align: left;\">1994-12-28T21:19:02.090</td><td style = \"text-align: left;\">40.043</td><td style = \"text-align: left;\">143.075</td><td style = \"text-align: left;\">0.0</td><td style = \"text-align: left;\">7.6</td><td style = \"text-align: left;\">J</td></tr><tr><td class = \"rowNumber\" style = \"font-weight: bold; text-align: right;\">4</td><td style = \"text-align: left;\">1999-09-21T02:47:28.600</td><td style = \"text-align: left;\">23.877</td><td style = \"text-align: left;\">120.931</td><td style = \"text-align: left;\">0.0</td><td style = \"text-align: left;\">7.7</td><td style = \"text-align: left;\">D</td></tr><tr><td class = \"rowNumber\" style = \"font-weight: bold; text-align: right;\">5</td><td style = \"text-align: left;\">2006-12-26T21:34:11.960</td><td style = \"text-align: left;\">21.8165</td><td style = \"text-align: left;\">120.686</td><td style = \"text-align: left;\">0.0</td><td style = \"text-align: left;\">7.2</td><td style = \"text-align: left;\">D</td></tr></tbody></table></div>"
      ],
      "text/latex": [
       "\\begin{tabular}{r|cccccc}\n",
       "\t& Datetime & Latitude & Longitude & Depth & Magnitude & Magnitude\\_type\\\\\n",
       "\t\\hline\n",
       "\t& DateTime & Any & Any & Any & Any & Any\\\\\n",
       "\t\\hline\n",
       "\t1 & 1989-11-02T03:25:03.350 & 39.0858 & 143.005 & 0.0 & 7.1 & J \\\\\n",
       "\t2 & 1994-10-09T16:55:03.900 & 43.0558 & 147.08 & 0.0 & 7.3 & D \\\\\n",
       "\t3 & 1994-12-28T21:19:02.090 & 40.043 & 143.075 & 0.0 & 7.6 & J \\\\\n",
       "\t4 & 1999-09-21T02:47:28.600 & 23.877 & 120.931 & 0.0 & 7.7 & D \\\\\n",
       "\t5 & 2006-12-26T21:34:11.960 & 21.8165 & 120.686 & 0.0 & 7.2 & D \\\\\n",
       "\\end{tabular}\n"
      ],
      "text/plain": [
       "\u001b[1m5×6 DataFrame\u001b[0m\n",
       "\u001b[1m Row \u001b[0m│\u001b[1m Datetime                \u001b[0m\u001b[1m Latitude \u001b[0m\u001b[1m Longitude \u001b[0m\u001b[1m Depth \u001b[0m\u001b[1m Magnitude \u001b[0m\u001b[1m Magnitu\u001b[0m ⋯\n",
       "     │\u001b[90m DateTime                \u001b[0m\u001b[90m Any      \u001b[0m\u001b[90m Any       \u001b[0m\u001b[90m Any   \u001b[0m\u001b[90m Any       \u001b[0m\u001b[90m Any    \u001b[0m ⋯\n",
       "─────┼──────────────────────────────────────────────────────────────────────────\n",
       "   1 │ 1989-11-02T03:25:03.350  39.0858   143.005    0.0    7.1        J       ⋯\n",
       "   2 │ 1994-10-09T16:55:03.900  43.0558   147.08     0.0    7.3        D\n",
       "   3 │ 1994-12-28T21:19:02.090  40.043    143.075    0.0    7.6        J\n",
       "   4 │ 1999-09-21T02:47:28.600  23.877    120.931    0.0    7.7        D\n",
       "   5 │ 2006-12-26T21:34:11.960  21.8165   120.686    0.0    7.2        D       ⋯\n",
       "\u001b[36m                                                                1 column omitted\u001b[0m"
      ]
     },
     "metadata": {},
     "output_type": "display_data"
    }
   ],
   "source": [
    "japan_negdep[japan_negdep.Magnitude .> 7,:]"
   ]
  },
  {
   "cell_type": "code",
   "execution_count": null,
   "metadata": {},
   "outputs": [],
   "source": []
  },
  {
   "cell_type": "code",
   "execution_count": 69,
   "metadata": {},
   "outputs": [
    {
     "data": {
      "text/html": [
       "<div><div style = \"float: left;\"><span>3506786×6 DataFrame</span></div><div style = \"float: right;\"><span style = \"font-style: italic;\">3506761 rows omitted</span></div><div style = \"clear: both;\"></div></div><div class = \"data-frame\" style = \"overflow-x: scroll;\"><table class = \"data-frame\" style = \"margin-bottom: 6px;\"><thead><tr class = \"header\"><th class = \"rowNumber\" style = \"font-weight: bold; text-align: right;\">Row</th><th style = \"text-align: left;\">Datetime</th><th style = \"text-align: left;\">Latitude</th><th style = \"text-align: left;\">Longitude</th><th style = \"text-align: left;\">Depth</th><th style = \"text-align: left;\">Magnitude</th><th style = \"text-align: left;\">Magnitude_type</th></tr><tr class = \"subheader headerLastRow\"><th class = \"rowNumber\" style = \"font-weight: bold; text-align: right;\"></th><th title = \"DateTime\" style = \"text-align: left;\">DateTime</th><th title = \"Any\" style = \"text-align: left;\">Any</th><th title = \"Any\" style = \"text-align: left;\">Any</th><th title = \"Any\" style = \"text-align: left;\">Any</th><th title = \"Any\" style = \"text-align: left;\">Any</th><th title = \"Any\" style = \"text-align: left;\">Any</th></tr></thead><tbody><tr><td class = \"rowNumber\" style = \"font-weight: bold; text-align: right;\">1</td><td style = \"text-align: left;\">1983-01-01T00:36:05.840</td><td style = \"text-align: left;\">33.0778</td><td style = \"text-align: left;\">139.035</td><td style = \"text-align: left;\">0.21</td><td style = \"text-align: left;\">3.9</td><td style = \"text-align: left;\">V</td></tr><tr><td class = \"rowNumber\" style = \"font-weight: bold; text-align: right;\">2</td><td style = \"text-align: left;\">1983-01-01T01:05:05.160</td><td style = \"text-align: left;\">33.0918</td><td style = \"text-align: left;\">139.044</td><td style = \"text-align: left;\">0.17</td><td style = \"text-align: left;\">3.7</td><td style = \"text-align: left;\">V</td></tr><tr><td class = \"rowNumber\" style = \"font-weight: bold; text-align: right;\">3</td><td style = \"text-align: left;\">1983-01-01T01:18:05.400</td><td style = \"text-align: left;\">33.078</td><td style = \"text-align: left;\">139.041</td><td style = \"text-align: left;\">0.16</td><td style = \"text-align: left;\">2.8</td><td style = \"text-align: left;\">V</td></tr><tr><td class = \"rowNumber\" style = \"font-weight: bold; text-align: right;\">4</td><td style = \"text-align: left;\">1983-01-01T01:21:05.440</td><td style = \"text-align: left;\">33.0798</td><td style = \"text-align: left;\">139.034</td><td style = \"text-align: left;\">0.09</td><td style = \"text-align: left;\">2.9</td><td style = \"text-align: left;\">V</td></tr><tr><td class = \"rowNumber\" style = \"font-weight: bold; text-align: right;\">5</td><td style = \"text-align: left;\">1983-01-01T01:26:02.630</td><td style = \"text-align: left;\">33.0773</td><td style = \"text-align: left;\">139.042</td><td style = \"text-align: left;\">0.2</td><td style = \"text-align: left;\">3.4</td><td style = \"text-align: left;\">V</td></tr><tr><td class = \"rowNumber\" style = \"font-weight: bold; text-align: right;\">6</td><td style = \"text-align: left;\">1983-01-01T01:36:02.660</td><td style = \"text-align: left;\">33.0778</td><td style = \"text-align: left;\">139.044</td><td style = \"text-align: left;\">0.3</td><td style = \"text-align: left;\">3.0</td><td style = \"text-align: left;\">V</td></tr><tr><td class = \"rowNumber\" style = \"font-weight: bold; text-align: right;\">7</td><td style = \"text-align: left;\">1983-01-01T01:47:04.750</td><td style = \"text-align: left;\">33.0785</td><td style = \"text-align: left;\">139.033</td><td style = \"text-align: left;\">0.11</td><td style = \"text-align: left;\">2.6</td><td style = \"text-align: left;\">V</td></tr><tr><td class = \"rowNumber\" style = \"font-weight: bold; text-align: right;\">8</td><td style = \"text-align: left;\">1983-01-01T01:51:04.830</td><td style = \"text-align: left;\">33.0763</td><td style = \"text-align: left;\">139.039</td><td style = \"text-align: left;\">0.15</td><td style = \"text-align: left;\">3.0</td><td style = \"text-align: left;\">V</td></tr><tr><td class = \"rowNumber\" style = \"font-weight: bold; text-align: right;\">9</td><td style = \"text-align: left;\">1983-01-01T01:53:01.370</td><td style = \"text-align: left;\">33.0778</td><td style = \"text-align: left;\">139.038</td><td style = \"text-align: left;\">0.19</td><td style = \"text-align: left;\">3.1</td><td style = \"text-align: left;\">V</td></tr><tr><td class = \"rowNumber\" style = \"font-weight: bold; text-align: right;\">10</td><td style = \"text-align: left;\">1983-01-01T01:54:00.310</td><td style = \"text-align: left;\">33.079</td><td style = \"text-align: left;\">139.037</td><td style = \"text-align: left;\">0.19</td><td style = \"text-align: left;\">4.1</td><td style = \"text-align: left;\">J</td></tr><tr><td class = \"rowNumber\" style = \"font-weight: bold; text-align: right;\">11</td><td style = \"text-align: left;\">1983-01-01T02:18:03.090</td><td style = \"text-align: left;\">33.0762</td><td style = \"text-align: left;\">139.035</td><td style = \"text-align: left;\">0.17</td><td style = \"text-align: left;\">3.7</td><td style = \"text-align: left;\">V</td></tr><tr><td class = \"rowNumber\" style = \"font-weight: bold; text-align: right;\">12</td><td style = \"text-align: left;\">1983-01-01T02:19:04.690</td><td style = \"text-align: left;\">33.0788</td><td style = \"text-align: left;\">139.037</td><td style = \"text-align: left;\">0.26</td><td style = \"text-align: left;\">3.3</td><td style = \"text-align: left;\">V</td></tr><tr><td class = \"rowNumber\" style = \"font-weight: bold; text-align: right;\">13</td><td style = \"text-align: left;\">1983-01-01T02:26:00.800</td><td style = \"text-align: left;\">33.0847</td><td style = \"text-align: left;\">139.052</td><td style = \"text-align: left;\">0.41</td><td style = \"text-align: left;\">2.5</td><td style = \"text-align: left;\">V</td></tr><tr><td style = \"text-align: right;\">&vellip;</td><td style = \"text-align: right;\">&vellip;</td><td style = \"text-align: right;\">&vellip;</td><td style = \"text-align: right;\">&vellip;</td><td style = \"text-align: right;\">&vellip;</td><td style = \"text-align: right;\">&vellip;</td><td style = \"text-align: right;\">&vellip;</td></tr><tr><td class = \"rowNumber\" style = \"font-weight: bold; text-align: right;\">3506775</td><td style = \"text-align: left;\">2020-08-31T23:20:27.020</td><td style = \"text-align: left;\">34.9333</td><td style = \"text-align: left;\">135.579</td><td style = \"text-align: left;\">7.35</td><td style = \"text-align: left;\">0.2</td><td style = \"text-align: left;\">V</td></tr><tr><td class = \"rowNumber\" style = \"font-weight: bold; text-align: right;\">3506776</td><td style = \"text-align: left;\">2020-08-31T23:21:52.020</td><td style = \"text-align: left;\">32.3375</td><td style = \"text-align: left;\">132.068</td><td style = \"text-align: left;\">15.7</td><td style = \"text-align: left;\">1.3</td><td style = \"text-align: left;\">V</td></tr><tr><td class = \"rowNumber\" style = \"font-weight: bold; text-align: right;\">3506777</td><td style = \"text-align: left;\">2020-08-31T23:23:31.650</td><td style = \"text-align: left;\">35.884</td><td style = \"text-align: left;\">140.798</td><td style = \"text-align: left;\">37.74</td><td style = \"text-align: left;\">1.2</td><td style = \"text-align: left;\">V</td></tr><tr><td class = \"rowNumber\" style = \"font-weight: bold; text-align: right;\">3506778</td><td style = \"text-align: left;\">2020-08-31T23:34:00.050</td><td style = \"text-align: left;\">37.8845</td><td style = \"text-align: left;\">141.75</td><td style = \"text-align: left;\">40.83</td><td style = \"text-align: left;\">1.0</td><td style = \"text-align: left;\">V</td></tr><tr><td class = \"rowNumber\" style = \"font-weight: bold; text-align: right;\">3506779</td><td style = \"text-align: left;\">2020-08-31T23:36:45.060</td><td style = \"text-align: left;\">35.858</td><td style = \"text-align: left;\">140.448</td><td style = \"text-align: left;\">32.32</td><td style = \"text-align: left;\">0.6</td><td style = \"text-align: left;\">V</td></tr><tr><td class = \"rowNumber\" style = \"font-weight: bold; text-align: right;\">3506780</td><td style = \"text-align: left;\">2020-08-31T23:41:03.390</td><td style = \"text-align: left;\">36.241</td><td style = \"text-align: left;\">137.664</td><td style = \"text-align: left;\">7.22</td><td style = \"text-align: left;\">0.7</td><td style = \"text-align: left;\">V</td></tr><tr><td class = \"rowNumber\" style = \"font-weight: bold; text-align: right;\">3506781</td><td style = \"text-align: left;\">2020-08-31T23:42:18</td><td style = \"text-align: left;\">36.24</td><td style = \"text-align: left;\">137.672</td><td style = \"text-align: left;\">16.61</td><td style = \"text-align: left;\">0.3</td><td style = \"text-align: left;\">V</td></tr><tr><td class = \"rowNumber\" style = \"font-weight: bold; text-align: right;\">3506782</td><td style = \"text-align: left;\">2020-08-31T23:47:18.900</td><td style = \"text-align: left;\">35.5092</td><td style = \"text-align: left;\">135.985</td><td style = \"text-align: left;\">7.83</td><td style = \"text-align: left;\">0.4</td><td style = \"text-align: left;\">v</td></tr><tr><td class = \"rowNumber\" style = \"font-weight: bold; text-align: right;\">3506783</td><td style = \"text-align: left;\">2020-08-31T23:49:43.620</td><td style = \"text-align: left;\">37.148</td><td style = \"text-align: left;\">139.536</td><td style = \"text-align: left;\">6.89</td><td style = \"text-align: left;\">0.4</td><td style = \"text-align: left;\">V</td></tr><tr><td class = \"rowNumber\" style = \"font-weight: bold; text-align: right;\">3506784</td><td style = \"text-align: left;\">2020-08-31T23:51:10.010</td><td style = \"text-align: left;\">35.0288</td><td style = \"text-align: left;\">135.58</td><td style = \"text-align: left;\">11.0</td><td style = \"text-align: left;\">0.3</td><td style = \"text-align: left;\">V</td></tr><tr><td class = \"rowNumber\" style = \"font-weight: bold; text-align: right;\">3506785</td><td style = \"text-align: left;\">2020-08-31T23:54:46.940</td><td style = \"text-align: left;\">36.617</td><td style = \"text-align: left;\">140.06</td><td style = \"text-align: left;\">112.1</td><td style = \"text-align: left;\">1.1</td><td style = \"text-align: left;\">V</td></tr><tr><td class = \"rowNumber\" style = \"font-weight: bold; text-align: right;\">3506786</td><td style = \"text-align: left;\">2020-08-31T23:55:49.130</td><td style = \"text-align: left;\">35.8678</td><td style = \"text-align: left;\">137.645</td><td style = \"text-align: left;\">8.4</td><td style = \"text-align: left;\">0.4</td><td style = \"text-align: left;\">V</td></tr></tbody></table></div>"
      ],
      "text/latex": [
       "\\begin{tabular}{r|cccccc}\n",
       "\t& Datetime & Latitude & Longitude & Depth & Magnitude & Magnitude\\_type\\\\\n",
       "\t\\hline\n",
       "\t& DateTime & Any & Any & Any & Any & Any\\\\\n",
       "\t\\hline\n",
       "\t1 & 1983-01-01T00:36:05.840 & 33.0778 & 139.035 & 0.21 & 3.9 & V \\\\\n",
       "\t2 & 1983-01-01T01:05:05.160 & 33.0918 & 139.044 & 0.17 & 3.7 & V \\\\\n",
       "\t3 & 1983-01-01T01:18:05.400 & 33.078 & 139.041 & 0.16 & 2.8 & V \\\\\n",
       "\t4 & 1983-01-01T01:21:05.440 & 33.0798 & 139.034 & 0.09 & 2.9 & V \\\\\n",
       "\t5 & 1983-01-01T01:26:02.630 & 33.0773 & 139.042 & 0.2 & 3.4 & V \\\\\n",
       "\t6 & 1983-01-01T01:36:02.660 & 33.0778 & 139.044 & 0.3 & 3.0 & V \\\\\n",
       "\t7 & 1983-01-01T01:47:04.750 & 33.0785 & 139.033 & 0.11 & 2.6 & V \\\\\n",
       "\t8 & 1983-01-01T01:51:04.830 & 33.0763 & 139.039 & 0.15 & 3.0 & V \\\\\n",
       "\t9 & 1983-01-01T01:53:01.370 & 33.0778 & 139.038 & 0.19 & 3.1 & V \\\\\n",
       "\t10 & 1983-01-01T01:54:00.310 & 33.079 & 139.037 & 0.19 & 4.1 & J \\\\\n",
       "\t11 & 1983-01-01T02:18:03.090 & 33.0762 & 139.035 & 0.17 & 3.7 & V \\\\\n",
       "\t12 & 1983-01-01T02:19:04.690 & 33.0788 & 139.037 & 0.26 & 3.3 & V \\\\\n",
       "\t13 & 1983-01-01T02:26:00.800 & 33.0847 & 139.052 & 0.41 & 2.5 & V \\\\\n",
       "\t14 & 1983-01-01T02:55:00.720 & 36.0418 & 141.013 & 0.44 & 2.8 & V \\\\\n",
       "\t15 & 1983-01-01T02:55:02.400 & 33.0798 & 139.031 & 0.14 & 2.5 & V \\\\\n",
       "\t16 & 1983-01-01T02:56:05.040 & 33.0803 & 139.038 & 0.23 & 2.7 & V \\\\\n",
       "\t17 & 1983-01-01T03:03:00.380 & 33.0638 & 139.066 & 0.25 & 4.0 & V \\\\\n",
       "\t18 & 1983-01-01T03:15:00.460 & 33.0793 & 139.039 & 0.29 & 2.5 & V \\\\\n",
       "\t19 & 1983-01-01T03:19:00.770 & 33.0752 & 139.031 & 0.04 & 2.9 & V \\\\\n",
       "\t20 & 1983-01-01T03:31:01.720 & 33.0772 & 139.032 & 0.04 & 2.9 & V \\\\\n",
       "\t21 & 1983-01-01T03:49:01.570 & 33.0785 & 139.033 & 0.11 & 2.5 & V \\\\\n",
       "\t22 & 1983-01-01T03:50:03.480 & 33.0843 & 139.048 & 0.35 & 2.8 & V \\\\\n",
       "\t23 & 1983-01-01T03:56:00.980 & 33.0847 & 139.048 & 0.41 & 3.0 & V \\\\\n",
       "\t24 & 1983-01-01T04:02:02.230 & 33.0838 & 139.047 & 0.38 & 3.1 & V \\\\\n",
       "\t$\\dots$ & $\\dots$ & $\\dots$ & $\\dots$ & $\\dots$ & $\\dots$ & $\\dots$ \\\\\n",
       "\\end{tabular}\n"
      ],
      "text/plain": [
       "\u001b[1m3506786×6 DataFrame\u001b[0m\n",
       "\u001b[1m     Row \u001b[0m│\u001b[1m Datetime                \u001b[0m\u001b[1m Latitude \u001b[0m\u001b[1m Longitude \u001b[0m\u001b[1m Depth \u001b[0m\u001b[1m Magnitude \u001b[0m\u001b[1m Mag\u001b[0m ⋯\n",
       "         │\u001b[90m DateTime                \u001b[0m\u001b[90m Any      \u001b[0m\u001b[90m Any       \u001b[0m\u001b[90m Any   \u001b[0m\u001b[90m Any       \u001b[0m\u001b[90m Any\u001b[0m ⋯\n",
       "─────────┼──────────────────────────────────────────────────────────────────────\n",
       "       1 │ 1983-01-01T00:36:05.840  33.0778   139.035    0.21   3.9        V   ⋯\n",
       "       2 │ 1983-01-01T01:05:05.160  33.0918   139.044    0.17   3.7        V\n",
       "       3 │ 1983-01-01T01:18:05.400  33.078    139.041    0.16   2.8        V\n",
       "       4 │ 1983-01-01T01:21:05.440  33.0798   139.034    0.09   2.9        V\n",
       "       5 │ 1983-01-01T01:26:02.630  33.0773   139.042    0.2    3.4        V   ⋯\n",
       "       6 │ 1983-01-01T01:36:02.660  33.0778   139.044    0.3    3.0        V\n",
       "       7 │ 1983-01-01T01:47:04.750  33.0785   139.033    0.11   2.6        V\n",
       "       8 │ 1983-01-01T01:51:04.830  33.0763   139.039    0.15   3.0        V\n",
       "    ⋮    │            ⋮                ⋮          ⋮        ⋮        ⋮          ⋱\n",
       " 3506780 │ 2020-08-31T23:41:03.390  36.241    137.664    7.22   0.7        V   ⋯\n",
       " 3506781 │ 2020-08-31T23:42:18      36.24     137.672    16.61  0.3        V\n",
       " 3506782 │ 2020-08-31T23:47:18.900  35.5092   135.985    7.83   0.4        v\n",
       " 3506783 │ 2020-08-31T23:49:43.620  37.148    139.536    6.89   0.4        V\n",
       " 3506784 │ 2020-08-31T23:51:10.010  35.0288   135.58     11.0   0.3        V   ⋯\n",
       " 3506785 │ 2020-08-31T23:54:46.940  36.617    140.06     112.1  1.1        V\n",
       " 3506786 │ 2020-08-31T23:55:49.130  35.8678   137.645    8.4    0.4        V\n",
       "\u001b[36m                                               1 column and 3506771 rows omitted\u001b[0m"
      ]
     },
     "metadata": {},
     "output_type": "display_data"
    }
   ],
   "source": [
    "japan = japan[japan.Depth .> 0.0,:]"
   ]
  },
  {
   "cell_type": "code",
   "execution_count": null,
   "metadata": {},
   "outputs": [],
   "source": []
  },
  {
   "cell_type": "code",
   "execution_count": 65,
   "metadata": {},
   "outputs": [
    {
     "data": {
      "text/plain": [
       "3563558-element BitVector:\n",
       " 0\n",
       " 0\n",
       " 0\n",
       " 0\n",
       " 0\n",
       " 0\n",
       " 0\n",
       " 0\n",
       " 0\n",
       " 0\n",
       " ⋮\n",
       " 0\n",
       " 0\n",
       " 0\n",
       " 0\n",
       " 0\n",
       " 0\n",
       " 0\n",
       " 0\n",
       " 0"
      ]
     },
     "metadata": {},
     "output_type": "display_data"
    }
   ],
   "source": [
    "missings = isempty.(japan.Magnitude_type)"
   ]
  },
  {
   "cell_type": "code",
   "execution_count": 66,
   "metadata": {},
   "outputs": [
    {
     "data": {
      "text/plain": [
       "0"
      ]
     },
     "metadata": {},
     "output_type": "display_data"
    }
   ],
   "source": [
    "i=0\n",
    "for element in eachindex(missings)\n",
    "    if missings[element] == 1\n",
    "        println(element, df_new.Magnitude[element])\n",
    "        i=i+1\n",
    "    end\n",
    "end\n",
    "i"
   ]
  },
  {
   "cell_type": "code",
   "execution_count": null,
   "metadata": {},
   "outputs": [],
   "source": []
  },
  {
   "cell_type": "code",
   "execution_count": 40,
   "metadata": {},
   "outputs": [
    {
     "ename": "MethodError",
     "evalue": "MethodError: no method matching ismissing()\nClosest candidates are:\n  ismissing(!Matched::Any) at essentials.jl:841",
     "output_type": "error",
     "traceback": [
      "MethodError: no method matching ismissing()\n",
      "Closest candidates are:\n",
      "  ismissing(!Matched::Any) at essentials.jl:841\n",
      "\n",
      "Stacktrace:\n",
      " [1] _broadcast_getindex_evalf(::typeof(ismissing))\n",
      "   @ Base.Broadcast .\\broadcast.jl:670\n",
      " [2] _broadcast_getindex\n",
      "   @ .\\broadcast.jl:643 [inlined]\n",
      " [3] _getindex\n",
      "   @ .\\broadcast.jl:666 [inlined]\n",
      " [4] _broadcast_getindex\n",
      "   @ .\\broadcast.jl:642 [inlined]\n",
      " [5] getindex\n",
      "   @ .\\broadcast.jl:597 [inlined]\n",
      " [6] copy\n",
      "   @ .\\broadcast.jl:899 [inlined]\n",
      " [7] materialize(bc::Base.Broadcast.Broadcasted{Base.Broadcast.DefaultArrayStyle{1}, Nothing, typeof(all), Tuple{Base.Broadcast.Broadcasted{Base.Broadcast.DefaultArrayStyle{0}, Nothing, typeof(ismissing), Tuple{}}, DataFrames.DataFrameRows{DataFrame}}})\n",
      "   @ Base.Broadcast .\\broadcast.jl:860\n",
      " [8] top-level scope\n",
      "   @ d:\\projects\\seismic-networks-julia\\data_collection\\japan\\japan_parser.ipynb:1"
     ]
    }
   ],
   "source": [
    "japan = japan[all.(!=(\"\"), eachrow(japan)), :]"
   ]
  },
  {
   "cell_type": "code",
   "execution_count": 73,
   "metadata": {},
   "outputs": [],
   "source": [
    "ismissing()"
   ]
  },
  {
   "cell_type": "code",
   "execution_count": 74,
   "metadata": {},
   "outputs": [
    {
     "data": {
      "text/html": [
       "<div><div style = \"float: left;\"><span>4086795×9 DataFrame</span></div><div style = \"float: right;\"><span style = \"font-style: italic;\">4086770 rows omitted</span></div><div style = \"clear: both;\"></div></div><div class = \"data-frame\" style = \"overflow-x: scroll;\"><table class = \"data-frame\" style = \"margin-bottom: 6px;\"><thead><tr class = \"header\"><th class = \"rowNumber\" style = \"font-weight: bold; text-align: right;\">Row</th><th style = \"text-align: left;\">Identifier</th><th style = \"text-align: left;\">Datetime</th><th style = \"text-align: left;\">Latitude</th><th style = \"text-align: left;\">Latitude_min</th><th style = \"text-align: left;\">Longitude</th><th style = \"text-align: left;\">Longitude_min</th><th style = \"text-align: left;\">Depth</th><th style = \"text-align: left;\">Magnitude</th><th style = \"text-align: left;\">Magnitude_type</th></tr><tr class = \"subheader headerLastRow\"><th class = \"rowNumber\" style = \"font-weight: bold; text-align: right;\"></th><th title = \"Any\" style = \"text-align: left;\">Any</th><th title = \"Any\" style = \"text-align: left;\">Any</th><th title = \"Any\" style = \"text-align: left;\">Any</th><th title = \"Any\" style = \"text-align: left;\">Any</th><th title = \"Any\" style = \"text-align: left;\">Any</th><th title = \"Any\" style = \"text-align: left;\">Any</th><th title = \"Any\" style = \"text-align: left;\">Any</th><th title = \"Any\" style = \"text-align: left;\">Any</th><th title = \"Any\" style = \"text-align: left;\">Any</th></tr></thead><tbody><tr><td class = \"rowNumber\" style = \"font-weight: bold; text-align: right;\">1</td><td style = \"text-align: left;\">J</td><td style = \"text-align: left;\">1983/01/01 00:36:5.84</td><td style = \"text-align: left;\">33</td><td style = \"text-align: left;\">467</td><td style = \"text-align: left;\">139</td><td style = \"text-align: left;\">212</td><td style = \"text-align: left;\">21</td><td style = \"text-align: left;\">39</td><td style = \"text-align: left;\">V</td></tr><tr><td class = \"rowNumber\" style = \"font-weight: bold; text-align: right;\">2</td><td style = \"text-align: left;\">J</td><td style = \"text-align: left;\">1983/01/01 00:44:3.73</td><td style = \"text-align: left;\">33</td><td style = \"text-align: left;\">535</td><td style = \"text-align: left;\">139</td><td style = \"text-align: left;\">251</td><td style = \"text-align: left;\">0</td><td style = \"text-align: left;\">32</td><td style = \"text-align: left;\">V</td></tr><tr><td class = \"rowNumber\" style = \"font-weight: bold; text-align: right;\">3</td><td style = \"text-align: left;\">J</td><td style = \"text-align: left;\">1983/01/01 01:05:5.16</td><td style = \"text-align: left;\">33</td><td style = \"text-align: left;\">551</td><td style = \"text-align: left;\">139</td><td style = \"text-align: left;\">262</td><td style = \"text-align: left;\">17</td><td style = \"text-align: left;\">37</td><td style = \"text-align: left;\">V</td></tr><tr><td class = \"rowNumber\" style = \"font-weight: bold; text-align: right;\">4</td><td style = \"text-align: left;\">J</td><td style = \"text-align: left;\">1983/01/01 01:18:5.4</td><td style = \"text-align: left;\">33</td><td style = \"text-align: left;\">468</td><td style = \"text-align: left;\">139</td><td style = \"text-align: left;\">246</td><td style = \"text-align: left;\">16</td><td style = \"text-align: left;\">28</td><td style = \"text-align: left;\">V</td></tr><tr><td class = \"rowNumber\" style = \"font-weight: bold; text-align: right;\">5</td><td style = \"text-align: left;\">J</td><td style = \"text-align: left;\">1983/01/01 01:21:5.44</td><td style = \"text-align: left;\">33</td><td style = \"text-align: left;\">479</td><td style = \"text-align: left;\">139</td><td style = \"text-align: left;\">201</td><td style = \"text-align: left;\">9</td><td style = \"text-align: left;\">29</td><td style = \"text-align: left;\">V</td></tr><tr><td class = \"rowNumber\" style = \"font-weight: bold; text-align: right;\">6</td><td style = \"text-align: left;\">J</td><td style = \"text-align: left;\">1983/01/01 01:26:2.63</td><td style = \"text-align: left;\">33</td><td style = \"text-align: left;\">464</td><td style = \"text-align: left;\">139</td><td style = \"text-align: left;\">251</td><td style = \"text-align: left;\">20</td><td style = \"text-align: left;\">34</td><td style = \"text-align: left;\">V</td></tr><tr><td class = \"rowNumber\" style = \"font-weight: bold; text-align: right;\">7</td><td style = \"text-align: left;\">J</td><td style = \"text-align: left;\">1983/01/01 01:30:2.66</td><td style = \"text-align: left;\">33</td><td style = \"text-align: left;\">480</td><td style = \"text-align: left;\">139</td><td style = \"text-align: left;\">204</td><td style = \"text-align: left;\">0</td><td style = \"text-align: left;\"></td><td style = \"text-align: left;\"></td></tr><tr><td class = \"rowNumber\" style = \"font-weight: bold; text-align: right;\">8</td><td style = \"text-align: left;\">J</td><td style = \"text-align: left;\">1983/01/01 01:36:2.66</td><td style = \"text-align: left;\">33</td><td style = \"text-align: left;\">467</td><td style = \"text-align: left;\">139</td><td style = \"text-align: left;\">262</td><td style = \"text-align: left;\">30</td><td style = \"text-align: left;\">30</td><td style = \"text-align: left;\">V</td></tr><tr><td class = \"rowNumber\" style = \"font-weight: bold; text-align: right;\">9</td><td style = \"text-align: left;\">J</td><td style = \"text-align: left;\">1983/01/01 01:47:4.75</td><td style = \"text-align: left;\">33</td><td style = \"text-align: left;\">471</td><td style = \"text-align: left;\">139</td><td style = \"text-align: left;\">200</td><td style = \"text-align: left;\">11</td><td style = \"text-align: left;\">26</td><td style = \"text-align: left;\">V</td></tr><tr><td class = \"rowNumber\" style = \"font-weight: bold; text-align: right;\">10</td><td style = \"text-align: left;\">J</td><td style = \"text-align: left;\">1983/01/01 01:51:4.83</td><td style = \"text-align: left;\">33</td><td style = \"text-align: left;\">458</td><td style = \"text-align: left;\">139</td><td style = \"text-align: left;\">234</td><td style = \"text-align: left;\">15</td><td style = \"text-align: left;\">30</td><td style = \"text-align: left;\">V</td></tr><tr><td class = \"rowNumber\" style = \"font-weight: bold; text-align: right;\">11</td><td style = \"text-align: left;\">J</td><td style = \"text-align: left;\">1983/01/01 01:53:1.37</td><td style = \"text-align: left;\">33</td><td style = \"text-align: left;\">467</td><td style = \"text-align: left;\">139</td><td style = \"text-align: left;\">226</td><td style = \"text-align: left;\">19</td><td style = \"text-align: left;\">31</td><td style = \"text-align: left;\">V</td></tr><tr><td class = \"rowNumber\" style = \"font-weight: bold; text-align: right;\">12</td><td style = \"text-align: left;\">J</td><td style = \"text-align: left;\">1983/01/01 01:54:0.31</td><td style = \"text-align: left;\">33</td><td style = \"text-align: left;\">474</td><td style = \"text-align: left;\">139</td><td style = \"text-align: left;\">225</td><td style = \"text-align: left;\">19</td><td style = \"text-align: left;\">41</td><td style = \"text-align: left;\">J</td></tr><tr><td class = \"rowNumber\" style = \"font-weight: bold; text-align: right;\">13</td><td style = \"text-align: left;\">J</td><td style = \"text-align: left;\">1983/01/01 02:18:3.09</td><td style = \"text-align: left;\">33</td><td style = \"text-align: left;\">457</td><td style = \"text-align: left;\">139</td><td style = \"text-align: left;\">208</td><td style = \"text-align: left;\">17</td><td style = \"text-align: left;\">37</td><td style = \"text-align: left;\">V</td></tr><tr><td style = \"text-align: right;\">&vellip;</td><td style = \"text-align: right;\">&vellip;</td><td style = \"text-align: right;\">&vellip;</td><td style = \"text-align: right;\">&vellip;</td><td style = \"text-align: right;\">&vellip;</td><td style = \"text-align: right;\">&vellip;</td><td style = \"text-align: right;\">&vellip;</td><td style = \"text-align: right;\">&vellip;</td><td style = \"text-align: right;\">&vellip;</td><td style = \"text-align: right;\">&vellip;</td></tr><tr><td class = \"rowNumber\" style = \"font-weight: bold; text-align: right;\">4086784</td><td style = \"text-align: left;\">J</td><td style = \"text-align: left;\">2020/08/31 23:36:45.06</td><td style = \"text-align: left;\">35</td><td style = \"text-align: left;\">5148</td><td style = \"text-align: left;\">140</td><td style = \"text-align: left;\">2689</td><td style = \"text-align: left;\">3232</td><td style = \"text-align: left;\">06</td><td style = \"text-align: left;\">V</td></tr><tr><td class = \"rowNumber\" style = \"font-weight: bold; text-align: right;\">4086785</td><td style = \"text-align: left;\">J</td><td style = \"text-align: left;\">2020/08/31 23:37:53.31</td><td style = \"text-align: left;\">35</td><td style = \"text-align: left;\">5465</td><td style = \"text-align: left;\">137</td><td style = \"text-align: left;\">4364</td><td style = \"text-align: left;\">483</td><td style = \"text-align: left;\">00</td><td style = \"text-align: left;\">V</td></tr><tr><td class = \"rowNumber\" style = \"font-weight: bold; text-align: right;\">4086786</td><td style = \"text-align: left;\">J</td><td style = \"text-align: left;\">2020/08/31 23:40:31.81</td><td style = \"text-align: left;\">36</td><td style = \"text-align: left;\">1449</td><td style = \"text-align: left;\">137</td><td style = \"text-align: left;\">3984</td><td style = \"text-align: left;\">1079</td><td style = \"text-align: left;\">-1</td><td style = \"text-align: left;\">V</td></tr><tr><td class = \"rowNumber\" style = \"font-weight: bold; text-align: right;\">4086787</td><td style = \"text-align: left;\">J</td><td style = \"text-align: left;\">2020/08/31 23:41:3.39</td><td style = \"text-align: left;\">36</td><td style = \"text-align: left;\">1446</td><td style = \"text-align: left;\">137</td><td style = \"text-align: left;\">3983</td><td style = \"text-align: left;\">722</td><td style = \"text-align: left;\">07</td><td style = \"text-align: left;\">V</td></tr><tr><td class = \"rowNumber\" style = \"font-weight: bold; text-align: right;\">4086788</td><td style = \"text-align: left;\">J</td><td style = \"text-align: left;\">2020/08/31 23:42:18.0</td><td style = \"text-align: left;\">36</td><td style = \"text-align: left;\">1440</td><td style = \"text-align: left;\">137</td><td style = \"text-align: left;\">4029</td><td style = \"text-align: left;\">1661</td><td style = \"text-align: left;\">03</td><td style = \"text-align: left;\">V</td></tr><tr><td class = \"rowNumber\" style = \"font-weight: bold; text-align: right;\">4086789</td><td style = \"text-align: left;\">J</td><td style = \"text-align: left;\">2020/08/31 23:47:18.9</td><td style = \"text-align: left;\">35</td><td style = \"text-align: left;\">3055</td><td style = \"text-align: left;\">135</td><td style = \"text-align: left;\">5911</td><td style = \"text-align: left;\">783</td><td style = \"text-align: left;\">04</td><td style = \"text-align: left;\">v</td></tr><tr><td class = \"rowNumber\" style = \"font-weight: bold; text-align: right;\">4086790</td><td style = \"text-align: left;\">J</td><td style = \"text-align: left;\">2020/08/31 23:47:29.65</td><td style = \"text-align: left;\">36</td><td style = \"text-align: left;\">1436</td><td style = \"text-align: left;\">137</td><td style = \"text-align: left;\">3937</td><td style = \"text-align: left;\">402</td><td style = \"text-align: left;\">-2</td><td style = \"text-align: left;\">V</td></tr><tr><td class = \"rowNumber\" style = \"font-weight: bold; text-align: right;\">4086791</td><td style = \"text-align: left;\">J</td><td style = \"text-align: left;\">2020/08/31 23:49:43.62</td><td style = \"text-align: left;\">37</td><td style = \"text-align: left;\">0888</td><td style = \"text-align: left;\">139</td><td style = \"text-align: left;\">3218</td><td style = \"text-align: left;\">689</td><td style = \"text-align: left;\">04</td><td style = \"text-align: left;\">V</td></tr><tr><td class = \"rowNumber\" style = \"font-weight: bold; text-align: right;\">4086792</td><td style = \"text-align: left;\">J</td><td style = \"text-align: left;\">2020/08/31 23:51:10.01</td><td style = \"text-align: left;\">35</td><td style = \"text-align: left;\">0173</td><td style = \"text-align: left;\">135</td><td style = \"text-align: left;\">3482</td><td style = \"text-align: left;\">1100</td><td style = \"text-align: left;\">03</td><td style = \"text-align: left;\">V</td></tr><tr><td class = \"rowNumber\" style = \"font-weight: bold; text-align: right;\">4086793</td><td style = \"text-align: left;\">J</td><td style = \"text-align: left;\">2020/08/31 23:52:39.12</td><td style = \"text-align: left;\">36</td><td style = \"text-align: left;\">1444</td><td style = \"text-align: left;\">137</td><td style = \"text-align: left;\">3945</td><td style = \"text-align: left;\">564</td><td style = \"text-align: left;\">00</td><td style = \"text-align: left;\">V</td></tr><tr><td class = \"rowNumber\" style = \"font-weight: bold; text-align: right;\">4086794</td><td style = \"text-align: left;\">J</td><td style = \"text-align: left;\">2020/08/31 23:54:46.94</td><td style = \"text-align: left;\">36</td><td style = \"text-align: left;\">3702</td><td style = \"text-align: left;\">140</td><td style = \"text-align: left;\">0360</td><td style = \"text-align: left;\">11210</td><td style = \"text-align: left;\">11</td><td style = \"text-align: left;\">V</td></tr><tr><td class = \"rowNumber\" style = \"font-weight: bold; text-align: right;\">4086795</td><td style = \"text-align: left;\">J</td><td style = \"text-align: left;\">2020/08/31 23:55:49.13</td><td style = \"text-align: left;\">35</td><td style = \"text-align: left;\">5207</td><td style = \"text-align: left;\">137</td><td style = \"text-align: left;\">3871</td><td style = \"text-align: left;\">840</td><td style = \"text-align: left;\">04</td><td style = \"text-align: left;\">V</td></tr></tbody></table></div>"
      ],
      "text/latex": [
       "\\begin{tabular}{r|ccccccc}\n",
       "\t& Identifier & Datetime & Latitude & Latitude\\_min & Longitude & Longitude\\_min & \\\\\n",
       "\t\\hline\n",
       "\t& Any & Any & Any & Any & Any & Any & \\\\\n",
       "\t\\hline\n",
       "\t1 & J & 1983/01/01 00:36:5.84 & 33 & 467 & 139 & 212 & $\\dots$ \\\\\n",
       "\t2 & J & 1983/01/01 00:44:3.73 & 33 & 535 & 139 & 251 & $\\dots$ \\\\\n",
       "\t3 & J & 1983/01/01 01:05:5.16 & 33 & 551 & 139 & 262 & $\\dots$ \\\\\n",
       "\t4 & J & 1983/01/01 01:18:5.4 & 33 & 468 & 139 & 246 & $\\dots$ \\\\\n",
       "\t5 & J & 1983/01/01 01:21:5.44 & 33 & 479 & 139 & 201 & $\\dots$ \\\\\n",
       "\t6 & J & 1983/01/01 01:26:2.63 & 33 & 464 & 139 & 251 & $\\dots$ \\\\\n",
       "\t7 & J & 1983/01/01 01:30:2.66 & 33 & 480 & 139 & 204 & $\\dots$ \\\\\n",
       "\t8 & J & 1983/01/01 01:36:2.66 & 33 & 467 & 139 & 262 & $\\dots$ \\\\\n",
       "\t9 & J & 1983/01/01 01:47:4.75 & 33 & 471 & 139 & 200 & $\\dots$ \\\\\n",
       "\t10 & J & 1983/01/01 01:51:4.83 & 33 & 458 & 139 & 234 & $\\dots$ \\\\\n",
       "\t11 & J & 1983/01/01 01:53:1.37 & 33 & 467 & 139 & 226 & $\\dots$ \\\\\n",
       "\t12 & J & 1983/01/01 01:54:0.31 & 33 & 474 & 139 & 225 & $\\dots$ \\\\\n",
       "\t13 & J & 1983/01/01 02:18:3.09 & 33 & 457 & 139 & 208 & $\\dots$ \\\\\n",
       "\t14 & J & 1983/01/01 02:19:4.69 & 33 & 473 & 139 & 224 & $\\dots$ \\\\\n",
       "\t15 & J & 1983/01/01 02:26:0.8 & 33 & 508 & 139 & 311 & $\\dots$ \\\\\n",
       "\t16 & J & 1983/01/01 02:55:0.72 & 36 & 251 & 141 & 077 & $\\dots$ \\\\\n",
       "\t17 & J & 1983/01/01 02:55:2.4 & 33 & 479 & 139 & 189 & $\\dots$ \\\\\n",
       "\t18 & J & 1983/01/01 02:56:5.04 & 33 & 482 & 139 & 231 & $\\dots$ \\\\\n",
       "\t19 & J & 1983/01/01 03:03:0.38 & 33 & 383 & 139 & 398 & $\\dots$ \\\\\n",
       "\t20 & J & 1983/01/01 03:15:0.46 & 33 & 476 & 139 & 235 & $\\dots$ \\\\\n",
       "\t21 & J & 1983/01/01 03:17:1.43 & 33 & 482 & 139 & 185 & $\\dots$ \\\\\n",
       "\t22 & J & 1983/01/01 03:19:0.77 & 33 & 451 & 139 & 189 & $\\dots$ \\\\\n",
       "\t23 & J & 1983/01/01 03:31:1.72 & 33 & 463 & 139 & 192 & $\\dots$ \\\\\n",
       "\t24 & J & 1983/01/01 03:41:0.11 & 33 & 470 & 139 & 190 & $\\dots$ \\\\\n",
       "\t$\\dots$ & $\\dots$ & $\\dots$ & $\\dots$ & $\\dots$ & $\\dots$ & $\\dots$ &  \\\\\n",
       "\\end{tabular}\n"
      ],
      "text/plain": [
       "\u001b[1m4086795×9 DataFrame\u001b[0m\n",
       "\u001b[1m     Row \u001b[0m│\u001b[1m Identifier \u001b[0m\u001b[1m Datetime               \u001b[0m\u001b[1m Latitude \u001b[0m\u001b[1m Latitude_min \u001b[0m\u001b[1m Longitu\u001b[0m ⋯\n",
       "         │\u001b[90m Any        \u001b[0m\u001b[90m Any                    \u001b[0m\u001b[90m Any      \u001b[0m\u001b[90m Any          \u001b[0m\u001b[90m Any    \u001b[0m ⋯\n",
       "─────────┼──────────────────────────────────────────────────────────────────────\n",
       "       1 │ J           1983/01/01 00:36:5.84   33        467           139     ⋯\n",
       "       2 │ J           1983/01/01 00:44:3.73   33        535           139\n",
       "       3 │ J           1983/01/01 01:05:5.16   33        551           139\n",
       "       4 │ J           1983/01/01 01:18:5.4    33        468           139\n",
       "       5 │ J           1983/01/01 01:21:5.44   33        479           139     ⋯\n",
       "       6 │ J           1983/01/01 01:26:2.63   33        464           139\n",
       "       7 │ J           1983/01/01 01:30:2.66   33        480           139\n",
       "       8 │ J           1983/01/01 01:36:2.66   33        467           139\n",
       "    ⋮    │     ⋮                 ⋮                ⋮           ⋮            ⋮   ⋱\n",
       " 4086789 │ J           2020/08/31 23:47:18.9   35        3055          135     ⋯\n",
       " 4086790 │ J           2020/08/31 23:47:29.65  36        1436          137\n",
       " 4086791 │ J           2020/08/31 23:49:43.62  37        0888          139\n",
       " 4086792 │ J           2020/08/31 23:51:10.01  35        0173          135\n",
       " 4086793 │ J           2020/08/31 23:52:39.12  36        1444          137     ⋯\n",
       " 4086794 │ J           2020/08/31 23:54:46.94  36        3702          140\n",
       " 4086795 │ J           2020/08/31 23:55:49.13  35        5207          137\n",
       "\u001b[36m                                              5 columns and 4086780 rows omitted\u001b[0m"
      ]
     },
     "metadata": {},
     "output_type": "display_data"
    }
   ],
   "source": []
  },
  {
   "cell_type": "code",
   "execution_count": null,
   "metadata": {},
   "outputs": [],
   "source": []
  },
  {
   "cell_type": "code",
   "execution_count": 29,
   "metadata": {},
   "outputs": [],
   "source": [
    "dateformat = dateformat\"yyyy/mm/dd HH:MM:SS.ss\"\n",
    "df.Datetime = DateTime.(df.Datetime, dateformat);"
   ]
  },
  {
   "cell_type": "code",
   "execution_count": 30,
   "metadata": {},
   "outputs": [
    {
     "data": {
      "text/html": [
       "<div><div style = \"float: left;\"><span>309527×9 DataFrame</span></div><div style = \"float: right;\"><span style = \"font-style: italic;\">309502 rows omitted</span></div><div style = \"clear: both;\"></div></div><div class = \"data-frame\" style = \"overflow-x: scroll;\"><table class = \"data-frame\" style = \"margin-bottom: 6px;\"><thead><tr class = \"header\"><th class = \"rowNumber\" style = \"font-weight: bold; text-align: right;\">Row</th><th style = \"text-align: left;\">Identifier</th><th style = \"text-align: left;\">Datetime</th><th style = \"text-align: left;\">Latitude</th><th style = \"text-align: left;\">Latitude_min</th><th style = \"text-align: left;\">Longitude</th><th style = \"text-align: left;\">Longitude_min</th><th style = \"text-align: left;\">Depth</th><th style = \"text-align: left;\">Magnitude</th><th style = \"text-align: left;\">Magnitude_type</th></tr><tr class = \"subheader headerLastRow\"><th class = \"rowNumber\" style = \"font-weight: bold; text-align: right;\"></th><th title = \"Any\" style = \"text-align: left;\">Any</th><th title = \"DateTime\" style = \"text-align: left;\">DateTime</th><th title = \"Any\" style = \"text-align: left;\">Any</th><th title = \"Any\" style = \"text-align: left;\">Any</th><th title = \"Any\" style = \"text-align: left;\">Any</th><th title = \"Any\" style = \"text-align: left;\">Any</th><th title = \"Any\" style = \"text-align: left;\">Any</th><th title = \"Any\" style = \"text-align: left;\">Any</th><th title = \"Any\" style = \"text-align: left;\">Any</th></tr></thead><tbody><tr><td class = \"rowNumber\" style = \"font-weight: bold; text-align: right;\">1</td><td style = \"text-align: left;\">J</td><td style = \"text-align: left;\">2011-01-01T00:01:25.610</td><td style = \"text-align: left;\">41</td><td style = \"text-align: left;\">1791</td><td style = \"text-align: left;\">142</td><td style = \"text-align: left;\">4813</td><td style = \"text-align: left;\">22</td><td style = \"text-align: left;\">2.4</td><td style = \"text-align: left;\">V</td></tr><tr><td class = \"rowNumber\" style = \"font-weight: bold; text-align: right;\">2</td><td style = \"text-align: left;\">J</td><td style = \"text-align: left;\">2011-01-01T00:04:56.650</td><td style = \"text-align: left;\">35</td><td style = \"text-align: left;\">2554</td><td style = \"text-align: left;\">139</td><td style = \"text-align: left;\">5532</td><td style = \"text-align: left;\">868</td><td style = \"text-align: left;\">0.9</td><td style = \"text-align: left;\">v</td></tr><tr><td class = \"rowNumber\" style = \"font-weight: bold; text-align: right;\">3</td><td style = \"text-align: left;\">J</td><td style = \"text-align: left;\">2011-01-01T00:11:58.800</td><td style = \"text-align: left;\">35</td><td style = \"text-align: left;\">5734</td><td style = \"text-align: left;\">140</td><td style = \"text-align: left;\">0935</td><td style = \"text-align: left;\">5885</td><td style = \"text-align: left;\">0.9</td><td style = \"text-align: left;\">V</td></tr><tr><td class = \"rowNumber\" style = \"font-weight: bold; text-align: right;\">4</td><td style = \"text-align: left;\">J</td><td style = \"text-align: left;\">2011-01-01T00:12:56.960</td><td style = \"text-align: left;\">38</td><td style = \"text-align: left;\">4189</td><td style = \"text-align: left;\">142</td><td style = \"text-align: left;\">1555</td><td style = \"text-align: left;\">3570</td><td style = \"text-align: left;\">1.8</td><td style = \"text-align: left;\">V</td></tr><tr><td class = \"rowNumber\" style = \"font-weight: bold; text-align: right;\">5</td><td style = \"text-align: left;\">J</td><td style = \"text-align: left;\">2011-01-01T00:18:02.850</td><td style = \"text-align: left;\">28</td><td style = \"text-align: left;\">0156</td><td style = \"text-align: left;\">130</td><td style = \"text-align: left;\">0869</td><td style = \"text-align: left;\">22</td><td style = \"text-align: left;\">1.8</td><td style = \"text-align: left;\">v</td></tr><tr><td class = \"rowNumber\" style = \"font-weight: bold; text-align: right;\">6</td><td style = \"text-align: left;\">J</td><td style = \"text-align: left;\">2011-01-01T00:19:34.770</td><td style = \"text-align: left;\">32</td><td style = \"text-align: left;\">4023</td><td style = \"text-align: left;\">130</td><td style = \"text-align: left;\">5331</td><td style = \"text-align: left;\">1174</td><td style = \"text-align: left;\">1.6</td><td style = \"text-align: left;\">V</td></tr><tr><td class = \"rowNumber\" style = \"font-weight: bold; text-align: right;\">7</td><td style = \"text-align: left;\">J</td><td style = \"text-align: left;\">2011-01-01T00:28:01.360</td><td style = \"text-align: left;\">32</td><td style = \"text-align: left;\">4025</td><td style = \"text-align: left;\">130</td><td style = \"text-align: left;\">5300</td><td style = \"text-align: left;\">1133</td><td style = \"text-align: left;\">0.6</td><td style = \"text-align: left;\">V</td></tr><tr><td class = \"rowNumber\" style = \"font-weight: bold; text-align: right;\">8</td><td style = \"text-align: left;\">J</td><td style = \"text-align: left;\">2011-01-01T00:33:15.480</td><td style = \"text-align: left;\">32</td><td style = \"text-align: left;\">4023</td><td style = \"text-align: left;\">130</td><td style = \"text-align: left;\">5325</td><td style = \"text-align: left;\">1131</td><td style = \"text-align: left;\">1.0</td><td style = \"text-align: left;\">V</td></tr><tr><td class = \"rowNumber\" style = \"font-weight: bold; text-align: right;\">9</td><td style = \"text-align: left;\">J</td><td style = \"text-align: left;\">2011-01-01T00:34:45.960</td><td style = \"text-align: left;\">35</td><td style = \"text-align: left;\">3936</td><td style = \"text-align: left;\">140</td><td style = \"text-align: left;\">0017</td><td style = \"text-align: left;\">6557</td><td style = \"text-align: left;\">1.6</td><td style = \"text-align: left;\">V</td></tr><tr><td class = \"rowNumber\" style = \"font-weight: bold; text-align: right;\">10</td><td style = \"text-align: left;\">J</td><td style = \"text-align: left;\">2011-01-01T00:39:00.970</td><td style = \"text-align: left;\">35</td><td style = \"text-align: left;\">4493</td><td style = \"text-align: left;\">138</td><td style = \"text-align: left;\">0770</td><td style = \"text-align: left;\">1496</td><td style = \"text-align: left;\">0.4</td><td style = \"text-align: left;\">V</td></tr><tr><td class = \"rowNumber\" style = \"font-weight: bold; text-align: right;\">11</td><td style = \"text-align: left;\">J</td><td style = \"text-align: left;\">2011-01-01T00:43:20.610</td><td style = \"text-align: left;\">39</td><td style = \"text-align: left;\">0349</td><td style = \"text-align: left;\">140</td><td style = \"text-align: left;\">5535</td><td style = \"text-align: left;\">586</td><td style = \"text-align: left;\">1.4</td><td style = \"text-align: left;\">V</td></tr><tr><td class = \"rowNumber\" style = \"font-weight: bold; text-align: right;\">12</td><td style = \"text-align: left;\">J</td><td style = \"text-align: left;\">2011-01-01T00:46:44.500</td><td style = \"text-align: left;\">41</td><td style = \"text-align: left;\">5284</td><td style = \"text-align: left;\">143</td><td style = \"text-align: left;\">0163</td><td style = \"text-align: left;\">3942</td><td style = \"text-align: left;\">0.4</td><td style = \"text-align: left;\">v</td></tr><tr><td class = \"rowNumber\" style = \"font-weight: bold; text-align: right;\">13</td><td style = \"text-align: left;\">J</td><td style = \"text-align: left;\">2011-01-01T01:11:28.790</td><td style = \"text-align: left;\">43</td><td style = \"text-align: left;\">1701</td><td style = \"text-align: left;\">143</td><td style = \"text-align: left;\">4165</td><td style = \"text-align: left;\">14514</td><td style = \"text-align: left;\">1.7</td><td style = \"text-align: left;\">V</td></tr><tr><td style = \"text-align: right;\">&vellip;</td><td style = \"text-align: right;\">&vellip;</td><td style = \"text-align: right;\">&vellip;</td><td style = \"text-align: right;\">&vellip;</td><td style = \"text-align: right;\">&vellip;</td><td style = \"text-align: right;\">&vellip;</td><td style = \"text-align: right;\">&vellip;</td><td style = \"text-align: right;\">&vellip;</td><td style = \"text-align: right;\">&vellip;</td><td style = \"text-align: right;\">&vellip;</td></tr><tr><td class = \"rowNumber\" style = \"font-weight: bold; text-align: right;\">309516</td><td style = \"text-align: left;\">J</td><td style = \"text-align: left;\">2011-12-31T23:37:40.140</td><td style = \"text-align: left;\">35</td><td style = \"text-align: left;\">3483</td><td style = \"text-align: left;\">140</td><td style = \"text-align: left;\">0804</td><td style = \"text-align: left;\">6524</td><td style = \"text-align: left;\">1.8</td><td style = \"text-align: left;\">V</td></tr><tr><td class = \"rowNumber\" style = \"font-weight: bold; text-align: right;\">309517</td><td style = \"text-align: left;\">J</td><td style = \"text-align: left;\">2011-12-31T23:39:48.990</td><td style = \"text-align: left;\">28</td><td style = \"text-align: left;\">0538</td><td style = \"text-align: left;\">129</td><td style = \"text-align: left;\">3734</td><td style = \"text-align: left;\">2573</td><td style = \"text-align: left;\">0.6</td><td style = \"text-align: left;\">v</td></tr><tr><td class = \"rowNumber\" style = \"font-weight: bold; text-align: right;\">309518</td><td style = \"text-align: left;\">J</td><td style = \"text-align: left;\">2011-12-31T23:41:38.250</td><td style = \"text-align: left;\">33</td><td style = \"text-align: left;\">5026</td><td style = \"text-align: left;\">134</td><td style = \"text-align: left;\">5898</td><td style = \"text-align: left;\">1227</td><td style = \"text-align: left;\">1.1</td><td style = \"text-align: left;\">V</td></tr><tr><td class = \"rowNumber\" style = \"font-weight: bold; text-align: right;\">309519</td><td style = \"text-align: left;\">J</td><td style = \"text-align: left;\">2011-12-31T23:43:31.690</td><td style = \"text-align: left;\">36</td><td style = \"text-align: left;\">4592</td><td style = \"text-align: left;\">140</td><td style = \"text-align: left;\">3420</td><td style = \"text-align: left;\">852</td><td style = \"text-align: left;\">1.6</td><td style = \"text-align: left;\">V</td></tr><tr><td class = \"rowNumber\" style = \"font-weight: bold; text-align: right;\">309520</td><td style = \"text-align: left;\">J</td><td style = \"text-align: left;\">2011-12-31T23:45:05.400</td><td style = \"text-align: left;\">33</td><td style = \"text-align: left;\">3186</td><td style = \"text-align: left;\">132</td><td style = \"text-align: left;\">4731</td><td style = \"text-align: left;\">3284</td><td style = \"text-align: left;\">0.2</td><td style = \"text-align: left;\">V</td></tr><tr><td class = \"rowNumber\" style = \"font-weight: bold; text-align: right;\">309521</td><td style = \"text-align: left;\">J</td><td style = \"text-align: left;\">2011-12-31T23:51:31.260</td><td style = \"text-align: left;\">30</td><td style = \"text-align: left;\">3101</td><td style = \"text-align: left;\">130</td><td style = \"text-align: left;\">3006</td><td style = \"text-align: left;\">7143</td><td style = \"text-align: left;\">3.1</td><td style = \"text-align: left;\">V</td></tr><tr><td class = \"rowNumber\" style = \"font-weight: bold; text-align: right;\">309522</td><td style = \"text-align: left;\">J</td><td style = \"text-align: left;\">2011-12-31T23:53:06.830</td><td style = \"text-align: left;\">37</td><td style = \"text-align: left;\">1940</td><td style = \"text-align: left;\">141</td><td style = \"text-align: left;\">3429</td><td style = \"text-align: left;\">2857</td><td style = \"text-align: left;\">1.4</td><td style = \"text-align: left;\">V</td></tr><tr><td class = \"rowNumber\" style = \"font-weight: bold; text-align: right;\">309523</td><td style = \"text-align: left;\">J</td><td style = \"text-align: left;\">2011-12-31T23:54:39.010</td><td style = \"text-align: left;\">36</td><td style = \"text-align: left;\">2628</td><td style = \"text-align: left;\">141</td><td style = \"text-align: left;\">0678</td><td style = \"text-align: left;\">4525</td><td style = \"text-align: left;\">1.2</td><td style = \"text-align: left;\">V</td></tr><tr><td class = \"rowNumber\" style = \"font-weight: bold; text-align: right;\">309524</td><td style = \"text-align: left;\">J</td><td style = \"text-align: left;\">2011-12-31T23:58:31.530</td><td style = \"text-align: left;\">36</td><td style = \"text-align: left;\">4074</td><td style = \"text-align: left;\">140</td><td style = \"text-align: left;\">3762</td><td style = \"text-align: left;\">719</td><td style = \"text-align: left;\">0.7</td><td style = \"text-align: left;\">V</td></tr><tr><td class = \"rowNumber\" style = \"font-weight: bold; text-align: right;\">309525</td><td style = \"text-align: left;\">J</td><td style = \"text-align: left;\">2011-12-31T23:58:54</td><td style = \"text-align: left;\">34</td><td style = \"text-align: left;\">4777</td><td style = \"text-align: left;\">138</td><td style = \"text-align: left;\">2695</td><td style = \"text-align: left;\">1774</td><td style = \"text-align: left;\">1.1</td><td style = \"text-align: left;\">V</td></tr><tr><td class = \"rowNumber\" style = \"font-weight: bold; text-align: right;\">309526</td><td style = \"text-align: left;\">J</td><td style = \"text-align: left;\">2011-12-31T23:58:58.340</td><td style = \"text-align: left;\">37</td><td style = \"text-align: left;\">1578</td><td style = \"text-align: left;\">143</td><td style = \"text-align: left;\">2104</td><td style = \"text-align: left;\">43</td><td style = \"text-align: left;\">3.0</td><td style = \"text-align: left;\">V</td></tr><tr><td class = \"rowNumber\" style = \"font-weight: bold; text-align: right;\">309527</td><td style = \"text-align: left;\">J</td><td style = \"text-align: left;\">2011-12-31T23:59:24.650</td><td style = \"text-align: left;\">41</td><td style = \"text-align: left;\">5777</td><td style = \"text-align: left;\">143</td><td style = \"text-align: left;\">0091</td><td style = \"text-align: left;\">4646</td><td style = \"text-align: left;\">0.1</td><td style = \"text-align: left;\">v</td></tr></tbody></table></div>"
      ],
      "text/latex": [
       "\\begin{tabular}{r|ccccccc}\n",
       "\t& Identifier & Datetime & Latitude & Latitude\\_min & Longitude & Longitude\\_min & \\\\\n",
       "\t\\hline\n",
       "\t& Any & DateTime & Any & Any & Any & Any & \\\\\n",
       "\t\\hline\n",
       "\t1 & J & 2011-01-01T00:01:25.610 & 41 & 1791 & 142 & 4813 & $\\dots$ \\\\\n",
       "\t2 & J & 2011-01-01T00:04:56.650 & 35 & 2554 & 139 & 5532 & $\\dots$ \\\\\n",
       "\t3 & J & 2011-01-01T00:11:58.800 & 35 & 5734 & 140 & 0935 & $\\dots$ \\\\\n",
       "\t4 & J & 2011-01-01T00:12:56.960 & 38 & 4189 & 142 & 1555 & $\\dots$ \\\\\n",
       "\t5 & J & 2011-01-01T00:18:02.850 & 28 & 0156 & 130 & 0869 & $\\dots$ \\\\\n",
       "\t6 & J & 2011-01-01T00:19:34.770 & 32 & 4023 & 130 & 5331 & $\\dots$ \\\\\n",
       "\t7 & J & 2011-01-01T00:28:01.360 & 32 & 4025 & 130 & 5300 & $\\dots$ \\\\\n",
       "\t8 & J & 2011-01-01T00:33:15.480 & 32 & 4023 & 130 & 5325 & $\\dots$ \\\\\n",
       "\t9 & J & 2011-01-01T00:34:45.960 & 35 & 3936 & 140 & 0017 & $\\dots$ \\\\\n",
       "\t10 & J & 2011-01-01T00:39:00.970 & 35 & 4493 & 138 & 0770 & $\\dots$ \\\\\n",
       "\t11 & J & 2011-01-01T00:43:20.610 & 39 & 0349 & 140 & 5535 & $\\dots$ \\\\\n",
       "\t12 & J & 2011-01-01T00:46:44.500 & 41 & 5284 & 143 & 0163 & $\\dots$ \\\\\n",
       "\t13 & J & 2011-01-01T01:11:28.790 & 43 & 1701 & 143 & 4165 & $\\dots$ \\\\\n",
       "\t14 & J & 2011-01-01T01:13:24.510 & 34 & 3980 & 133 & 3279 & $\\dots$ \\\\\n",
       "\t15 & J & 2011-01-01T01:21:00.780 & 40 & 5718 & 141 & 0588 & $\\dots$ \\\\\n",
       "\t16 & J & 2011-01-01T01:21:30.690 & 27 & 0359 & 127 & 1853 & $\\dots$ \\\\\n",
       "\t17 & J & 2011-01-01T01:28:13.060 & 43 & 3938 & 147 & 4817 & $\\dots$ \\\\\n",
       "\t18 & J & 2011-01-01T01:28:13.640 & 34 & 0569 & 135 & 2222 & $\\dots$ \\\\\n",
       "\t19 & J & 2011-01-01T01:28:52.990 & 27 & 4733 & 142 & 4492 & $\\dots$ \\\\\n",
       "\t20 & J & 2011-01-01T01:41:32.600 & 24 & 5521 & 124 & 0159 & $\\dots$ \\\\\n",
       "\t21 & J & 2011-01-01T01:44:25.270 & 34 & 5089 & 134 & 0857 & $\\dots$ \\\\\n",
       "\t22 & J & 2011-01-01T01:50:32.930 & 27 & 1115 & 128 & 3833 & $\\dots$ \\\\\n",
       "\t23 & J & 2011-01-01T01:55:35.490 & 33 & 5958 & 135 & 1316 & $\\dots$ \\\\\n",
       "\t24 & J & 2011-01-01T01:59:30.620 & 33 & 3819 & 134 & 1329 & $\\dots$ \\\\\n",
       "\t$\\dots$ & $\\dots$ & $\\dots$ & $\\dots$ & $\\dots$ & $\\dots$ & $\\dots$ &  \\\\\n",
       "\\end{tabular}\n"
      ],
      "text/plain": [
       "\u001b[1m309527×9 DataFrame\u001b[0m\n",
       "\u001b[1m    Row \u001b[0m│\u001b[1m Identifier \u001b[0m\u001b[1m Datetime                \u001b[0m\u001b[1m Latitude \u001b[0m\u001b[1m Latitude_min \u001b[0m\u001b[1m Longitu\u001b[0m ⋯\n",
       "        │\u001b[90m Any        \u001b[0m\u001b[90m DateTime                \u001b[0m\u001b[90m Any      \u001b[0m\u001b[90m Any          \u001b[0m\u001b[90m Any    \u001b[0m ⋯\n",
       "────────┼───────────────────────────────────────────────────────────────────────\n",
       "      1 │ J           2011-01-01T00:01:25.610  41        1791          142     ⋯\n",
       "      2 │ J           2011-01-01T00:04:56.650  35        2554          139\n",
       "      3 │ J           2011-01-01T00:11:58.800  35        5734          140\n",
       "      4 │ J           2011-01-01T00:12:56.960  38        4189          142\n",
       "      5 │ J           2011-01-01T00:18:02.850  28        0156          130     ⋯\n",
       "      6 │ J           2011-01-01T00:19:34.770  32        4023          130\n",
       "      7 │ J           2011-01-01T00:28:01.360  32        4025          130\n",
       "      8 │ J           2011-01-01T00:33:15.480  32        4023          130\n",
       "   ⋮    │     ⋮                  ⋮                ⋮           ⋮            ⋮   ⋱\n",
       " 309521 │ J           2011-12-31T23:51:31.260  30        3101          130     ⋯\n",
       " 309522 │ J           2011-12-31T23:53:06.830  37        1940          141\n",
       " 309523 │ J           2011-12-31T23:54:39.010  36        2628          141\n",
       " 309524 │ J           2011-12-31T23:58:31.530  36        4074          140\n",
       " 309525 │ J           2011-12-31T23:58:54      34        4777          138     ⋯\n",
       " 309526 │ J           2011-12-31T23:58:58.340  37        1578          143\n",
       " 309527 │ J           2011-12-31T23:59:24.650  41        5777          143\n",
       "\u001b[36m                                               5 columns and 309512 rows omitted\u001b[0m"
      ]
     },
     "metadata": {},
     "output_type": "display_data"
    }
   ],
   "source": [
    "df"
   ]
  },
  {
   "cell_type": "code",
   "execution_count": 31,
   "metadata": {},
   "outputs": [
    {
     "data": {
      "text/html": [
       "<div><div style = \"float: left;\"><span>7×9 DataFrame</span></div><div style = \"clear: both;\"></div></div><div class = \"data-frame\" style = \"overflow-x: scroll;\"><table class = \"data-frame\" style = \"margin-bottom: 6px;\"><thead><tr class = \"header\"><th class = \"rowNumber\" style = \"font-weight: bold; text-align: right;\">Row</th><th style = \"text-align: left;\">Identifier</th><th style = \"text-align: left;\">Datetime</th><th style = \"text-align: left;\">Latitude</th><th style = \"text-align: left;\">Latitude_min</th><th style = \"text-align: left;\">Longitude</th><th style = \"text-align: left;\">Longitude_min</th><th style = \"text-align: left;\">Depth</th><th style = \"text-align: left;\">Magnitude</th><th style = \"text-align: left;\">Magnitude_type</th></tr><tr class = \"subheader headerLastRow\"><th class = \"rowNumber\" style = \"font-weight: bold; text-align: right;\"></th><th title = \"Any\" style = \"text-align: left;\">Any</th><th title = \"DateTime\" style = \"text-align: left;\">DateTime</th><th title = \"Any\" style = \"text-align: left;\">Any</th><th title = \"Any\" style = \"text-align: left;\">Any</th><th title = \"Any\" style = \"text-align: left;\">Any</th><th title = \"Any\" style = \"text-align: left;\">Any</th><th title = \"Any\" style = \"text-align: left;\">Any</th><th title = \"Any\" style = \"text-align: left;\">Any</th><th title = \"Any\" style = \"text-align: left;\">Any</th></tr></thead><tbody><tr><td class = \"rowNumber\" style = \"font-weight: bold; text-align: right;\">1</td><td style = \"text-align: left;\">J</td><td style = \"text-align: left;\">2011-03-09T11:45:12.970</td><td style = \"text-align: left;\">38</td><td style = \"text-align: left;\">1971</td><td style = \"text-align: left;\">143</td><td style = \"text-align: left;\">1679</td><td style = \"text-align: left;\">828</td><td style = \"text-align: left;\">7.3</td><td style = \"text-align: left;\">D</td></tr><tr><td class = \"rowNumber\" style = \"font-weight: bold; text-align: right;\">2</td><td style = \"text-align: left;\">J</td><td style = \"text-align: left;\">2011-03-11T14:46:18.120</td><td style = \"text-align: left;\">38</td><td style = \"text-align: left;\">0621</td><td style = \"text-align: left;\">142</td><td style = \"text-align: left;\">5166</td><td style = \"text-align: left;\">2374</td><td style = \"text-align: left;\">9.0</td><td style = \"text-align: left;\">W</td></tr><tr><td class = \"rowNumber\" style = \"font-weight: bold; text-align: right;\">3</td><td style = \"text-align: left;\">J</td><td style = \"text-align: left;\">2011-03-11T15:08:53.460</td><td style = \"text-align: left;\">39</td><td style = \"text-align: left;\">4924</td><td style = \"text-align: left;\">142</td><td style = \"text-align: left;\">4601</td><td style = \"text-align: left;\">3202</td><td style = \"text-align: left;\">7.4</td><td style = \"text-align: left;\">D</td></tr><tr><td class = \"rowNumber\" style = \"font-weight: bold; text-align: right;\">4</td><td style = \"text-align: left;\">J</td><td style = \"text-align: left;\">2011-03-11T15:15:34.250</td><td style = \"text-align: left;\">36</td><td style = \"text-align: left;\">0725</td><td style = \"text-align: left;\">141</td><td style = \"text-align: left;\">1515</td><td style = \"text-align: left;\">4270</td><td style = \"text-align: left;\">7.6</td><td style = \"text-align: left;\">D</td></tr><tr><td class = \"rowNumber\" style = \"font-weight: bold; text-align: right;\">5</td><td style = \"text-align: left;\">J</td><td style = \"text-align: left;\">2011-03-11T15:25:44.330</td><td style = \"text-align: left;\">37</td><td style = \"text-align: left;\">5486</td><td style = \"text-align: left;\">144</td><td style = \"text-align: left;\">4506</td><td style = \"text-align: left;\">11</td><td style = \"text-align: left;\">7.5</td><td style = \"text-align: left;\">D</td></tr><tr><td class = \"rowNumber\" style = \"font-weight: bold; text-align: right;\">6</td><td style = \"text-align: left;\">J</td><td style = \"text-align: left;\">2011-04-07T23:32:43.460</td><td style = \"text-align: left;\">38</td><td style = \"text-align: left;\">1225</td><td style = \"text-align: left;\">141</td><td style = \"text-align: left;\">5521</td><td style = \"text-align: left;\">6589</td><td style = \"text-align: left;\">7.2</td><td style = \"text-align: left;\">D</td></tr><tr><td class = \"rowNumber\" style = \"font-weight: bold; text-align: right;\">7</td><td style = \"text-align: left;\">J</td><td style = \"text-align: left;\">2011-07-10T09:57:07.360</td><td style = \"text-align: left;\">38</td><td style = \"text-align: left;\">0191</td><td style = \"text-align: left;\">143</td><td style = \"text-align: left;\">3040</td><td style = \"text-align: left;\">34</td><td style = \"text-align: left;\">7.3</td><td style = \"text-align: left;\">D</td></tr></tbody></table></div>"
      ],
      "text/latex": [
       "\\begin{tabular}{r|ccccccc}\n",
       "\t& Identifier & Datetime & Latitude & Latitude\\_min & Longitude & Longitude\\_min & \\\\\n",
       "\t\\hline\n",
       "\t& Any & DateTime & Any & Any & Any & Any & \\\\\n",
       "\t\\hline\n",
       "\t1 & J & 2011-03-09T11:45:12.970 & 38 & 1971 & 143 & 1679 & $\\dots$ \\\\\n",
       "\t2 & J & 2011-03-11T14:46:18.120 & 38 & 0621 & 142 & 5166 & $\\dots$ \\\\\n",
       "\t3 & J & 2011-03-11T15:08:53.460 & 39 & 4924 & 142 & 4601 & $\\dots$ \\\\\n",
       "\t4 & J & 2011-03-11T15:15:34.250 & 36 & 0725 & 141 & 1515 & $\\dots$ \\\\\n",
       "\t5 & J & 2011-03-11T15:25:44.330 & 37 & 5486 & 144 & 4506 & $\\dots$ \\\\\n",
       "\t6 & J & 2011-04-07T23:32:43.460 & 38 & 1225 & 141 & 5521 & $\\dots$ \\\\\n",
       "\t7 & J & 2011-07-10T09:57:07.360 & 38 & 0191 & 143 & 3040 & $\\dots$ \\\\\n",
       "\\end{tabular}\n"
      ],
      "text/plain": [
       "\u001b[1m7×9 DataFrame\u001b[0m\n",
       "\u001b[1m Row \u001b[0m│\u001b[1m Identifier \u001b[0m\u001b[1m Datetime                \u001b[0m\u001b[1m Latitude \u001b[0m\u001b[1m Latitude_min \u001b[0m\u001b[1m Longitude \u001b[0m\u001b[1m\u001b[0m ⋯\n",
       "     │\u001b[90m Any        \u001b[0m\u001b[90m DateTime                \u001b[0m\u001b[90m Any      \u001b[0m\u001b[90m Any          \u001b[0m\u001b[90m Any       \u001b[0m\u001b[90m\u001b[0m ⋯\n",
       "─────┼──────────────────────────────────────────────────────────────────────────\n",
       "   1 │ J           2011-03-09T11:45:12.970  38        1971          143        ⋯\n",
       "   2 │ J           2011-03-11T14:46:18.120  38        0621          142\n",
       "   3 │ J           2011-03-11T15:08:53.460  39        4924          142\n",
       "   4 │ J           2011-03-11T15:15:34.250  36        0725          141\n",
       "   5 │ J           2011-03-11T15:25:44.330  37        5486          144        ⋯\n",
       "   6 │ J           2011-04-07T23:32:43.460  38        1225          141\n",
       "   7 │ J           2011-07-10T09:57:07.360  38        0191          143\n",
       "\u001b[36m                                                               4 columns omitted\u001b[0m"
      ]
     },
     "metadata": {},
     "output_type": "display_data"
    }
   ],
   "source": [
    "japan = df[df.Magnitude .>7,:]"
   ]
  },
  {
   "cell_type": "code",
   "execution_count": 34,
   "metadata": {},
   "outputs": [
    {
     "data": {
      "text/plain": [
       "309527-element Vector{Any}:\n",
       " \"1791\"\n",
       " \"2554\"\n",
       " \"5734\"\n",
       " \"4189\"\n",
       " \"0156\"\n",
       " \"4023\"\n",
       " \"4025\"\n",
       " \"4023\"\n",
       " \"3936\"\n",
       " \"4493\"\n",
       " ⋮\n",
       " \"4592\"\n",
       " \"3186\"\n",
       " \"3101\"\n",
       " \"1940\"\n",
       " \"2628\"\n",
       " \"4074\"\n",
       " \"4777\"\n",
       " \"1578\"\n",
       " \"5777\""
      ]
     },
     "metadata": {},
     "output_type": "display_data"
    }
   ],
   "source": [
    "df.Latitude_min"
   ]
  },
  {
   "cell_type": "code",
   "execution_count": 42,
   "metadata": {},
   "outputs": [
    {
     "data": {
      "text/plain": [
       "309527-element Vector{Float64}:\n",
       " 0.2985\n",
       " 0.42566666666666664\n",
       " 0.9556666666666668\n",
       " 0.6981666666666667\n",
       " 0.026000000000000002\n",
       " 0.6705\n",
       " 0.6708333333333333\n",
       " 0.6705\n",
       " 0.656\n",
       " 0.7488333333333334\n",
       " ⋮\n",
       " 0.7653333333333333\n",
       " 0.531\n",
       " 0.5168333333333334\n",
       " 0.3233333333333333\n",
       " 0.438\n",
       " 0.679\n",
       " 0.7961666666666667\n",
       " 0.263\n",
       " 0.9628333333333334"
      ]
     },
     "metadata": {},
     "output_type": "display_data"
    }
   ],
   "source": [
    "parse.(Float64, df.Latitude_min) /100 /60 "
   ]
  },
  {
   "cell_type": "code",
   "execution_count": 46,
   "metadata": {},
   "outputs": [
    {
     "name": "stdout",
     "output_type": "stream",
     "text": [
      "702- 4\n"
     ]
    }
   ],
   "source": [
    "for i in eachindex(df.Latitude)\n",
    "    try\n",
    "        parse(Float64, df.Latitude[i])\n",
    "    catch e\n",
    "        println(i, df.Latitude[i])\n",
    "        break\n",
    "    end\n",
    "end"
   ]
  },
  {
   "cell_type": "code",
   "execution_count": 49,
   "metadata": {},
   "outputs": [
    {
     "data": {
      "text/html": [
       "<div><div style = \"float: left;\"><span>DataFrameRow (9 columns)</span></div><div style = \"clear: both;\"></div></div><div class = \"data-frame\" style = \"overflow-x: scroll;\"><table class = \"data-frame\" style = \"margin-bottom: 6px;\"><thead><tr class = \"header\"><th class = \"rowLabel\" style = \"font-weight: bold; text-align: right;\">Row</th><th style = \"text-align: left;\">Identifier</th><th style = \"text-align: left;\">Datetime</th><th style = \"text-align: left;\">Latitude</th><th style = \"text-align: left;\">Latitude_min</th><th style = \"text-align: left;\">Longitude</th><th style = \"text-align: left;\">Longitude_min</th><th style = \"text-align: left;\">Depth</th><th style = \"text-align: left;\">Magnitude</th><th style = \"text-align: left;\">Magnitude_type</th></tr><tr class = \"subheader headerLastRow\"><th class = \"rowLabel\" style = \"font-weight: bold; text-align: right;\"></th><th title = \"Any\" style = \"text-align: left;\">Any</th><th title = \"DateTime\" style = \"text-align: left;\">DateTime</th><th title = \"Any\" style = \"text-align: left;\">Any</th><th title = \"Any\" style = \"text-align: left;\">Any</th><th title = \"Any\" style = \"text-align: left;\">Any</th><th title = \"Any\" style = \"text-align: left;\">Any</th><th title = \"Any\" style = \"text-align: left;\">Any</th><th title = \"Any\" style = \"text-align: left;\">Any</th><th title = \"Any\" style = \"text-align: left;\">Any</th></tr></thead><tbody><tr><td class = \"rowLabel\" style = \"font-weight: bold; text-align: right;\">702</td><td style = \"text-align: left;\">U</td><td style = \"text-align: left;\">2011-01-03T00:19:31.040</td><td style = \"text-align: left;\">- 4</td><td style = \"text-align: left;\">2748</td><td style = \"text-align: left;\">101</td><td style = \"text-align: left;\">2568</td><td style = \"text-align: left;\">22</td><td style = \"text-align: left;\">5.7</td><td style = \"text-align: left;\">B</td></tr></tbody></table></div>"
      ],
      "text/latex": [
       "\\begin{tabular}{r|ccccccc}\n",
       "\t& Identifier & Datetime & Latitude & Latitude\\_min & Longitude & Longitude\\_min & \\\\\n",
       "\t\\hline\n",
       "\t& Any & DateTime & Any & Any & Any & Any & \\\\\n",
       "\t\\hline\n",
       "\t702 & U & 2011-01-03T00:19:31.040 & - 4 & 2748 & 101 & 2568 & $\\dots$ \\\\\n",
       "\\end{tabular}\n"
      ],
      "text/plain": [
       "\u001b[1mDataFrameRow\u001b[0m\n",
       "\u001b[1m Row \u001b[0m│\u001b[1m Identifier \u001b[0m\u001b[1m Datetime                \u001b[0m\u001b[1m Latitude \u001b[0m\u001b[1m Latitude_min \u001b[0m\u001b[1m Longitude \u001b[0m\u001b[1m\u001b[0m ⋯\n",
       "     │\u001b[90m Any        \u001b[0m\u001b[90m DateTime                \u001b[0m\u001b[90m Any      \u001b[0m\u001b[90m Any          \u001b[0m\u001b[90m Any       \u001b[0m\u001b[90m\u001b[0m ⋯\n",
       "─────┼──────────────────────────────────────────────────────────────────────────\n",
       " 702 │ U           2011-01-03T00:19:31.040  - 4       2748          101        ⋯\n",
       "\u001b[36m                                                               4 columns omitted\u001b[0m"
      ]
     },
     "metadata": {},
     "output_type": "display_data"
    }
   ],
   "source": [
    "df[702,:]"
   ]
  },
  {
   "cell_type": "code",
   "execution_count": 52,
   "metadata": {},
   "outputs": [
    {
     "data": {
      "text/plain": [
       "-4.0"
      ]
     },
     "metadata": {},
     "output_type": "display_data"
    }
   ],
   "source": [
    "parse(Float64, \"-4\")"
   ]
  },
  {
   "cell_type": "code",
   "execution_count": 53,
   "metadata": {},
   "outputs": [
    {
     "data": {
      "text/plain": [
       "\"- 4\""
      ]
     },
     "metadata": {},
     "output_type": "display_data"
    }
   ],
   "source": [
    "df.Latitude[702]"
   ]
  },
  {
   "cell_type": "code",
   "execution_count": 54,
   "metadata": {},
   "outputs": [
    {
     "ename": "ArgumentError",
     "evalue": "ArgumentError: cannot parse \"- 4\" as Float64",
     "output_type": "error",
     "traceback": [
      "ArgumentError: cannot parse \"- 4\" as Float64\n",
      "\n",
      "Stacktrace:\n",
      " [1] _parse_failure(T::Type, s::String, startpos::Int64, endpos::Int64) (repeats 2 times)\n",
      "   @ Base .\\parse.jl:373\n",
      " [2] #tryparse_internal#478\n",
      "   @ .\\parse.jl:369 [inlined]\n",
      " [3] tryparse_internal\n",
      "   @ .\\parse.jl:366 [inlined]\n",
      " [4] #parse#479\n",
      "   @ .\\parse.jl:379 [inlined]\n",
      " [5] parse(::Type{Float64}, s::String)\n",
      "   @ Base .\\parse.jl:379\n",
      " [6] top-level scope\n",
      "   @ d:\\projects\\seismic-networks-julia\\data_collection\\japan\\japan_parser.ipynb:1"
     ]
    }
   ],
   "source": [
    "parse(Float64, \"- 4\")"
   ]
  },
  {
   "cell_type": "code",
   "execution_count": 55,
   "metadata": {},
   "outputs": [
    {
     "data": {
      "text/plain": [
       "\"- 4\""
      ]
     },
     "metadata": {},
     "output_type": "display_data"
    }
   ],
   "source": [
    "a = \"- 4\""
   ]
  },
  {
   "cell_type": "code",
   "execution_count": 56,
   "metadata": {},
   "outputs": [
    {
     "data": {
      "text/plain": [
       "\"-4\""
      ]
     },
     "metadata": {},
     "output_type": "display_data"
    }
   ],
   "source": [
    "filter(x -> !isspace(x), a)"
   ]
  },
  {
   "cell_type": "code",
   "execution_count": 44,
   "metadata": {},
   "outputs": [
    {
     "ename": "ArgumentError",
     "evalue": "ArgumentError: cannot parse \"- 4\" as Float64",
     "output_type": "error",
     "traceback": [
      "ArgumentError: cannot parse \"- 4\" as Float64\n",
      "\n",
      "Stacktrace:\n",
      "  [1] _parse_failure(T::Type, s::SubString{String}, startpos::Int64, endpos::Int64) (repeats 2 times)\n",
      "    @ Base .\\parse.jl:373\n",
      "  [2] #tryparse_internal#478\n",
      "    @ .\\parse.jl:369 [inlined]\n",
      "  [3] tryparse_internal\n",
      "    @ .\\parse.jl:366 [inlined]\n",
      "  [4] #parse#479\n",
      "    @ .\\parse.jl:379 [inlined]\n",
      "  [5] parse(::Type{Float64}, s::SubString{String})\n",
      "    @ Base .\\parse.jl:379\n",
      "  [6] _broadcast_getindex_evalf\n",
      "    @ .\\broadcast.jl:670 [inlined]\n",
      "  [7] _broadcast_getindex\n",
      "    @ .\\broadcast.jl:653 [inlined]\n",
      "  [8] getindex\n",
      "    @ .\\broadcast.jl:597 [inlined]\n",
      "  [9] macro expansion\n",
      "    @ .\\broadcast.jl:961 [inlined]\n",
      " [10] macro expansion\n",
      "    @ .\\simdloop.jl:77 [inlined]\n",
      " [11] copyto!\n",
      "    @ .\\broadcast.jl:960 [inlined]\n",
      " [12] copyto!\n",
      "    @ .\\broadcast.jl:913 [inlined]\n",
      " [13] copy\n",
      "    @ .\\broadcast.jl:885 [inlined]\n",
      " [14] materialize(bc::Base.Broadcast.Broadcasted{Base.Broadcast.DefaultArrayStyle{1}, Nothing, typeof(parse), Tuple{Base.RefValue{Type{Float64}}, Vector{Any}}})\n",
      "    @ Base.Broadcast .\\broadcast.jl:860\n",
      " [15] top-level scope\n",
      "    @ d:\\projects\\seismic-networks-julia\\data_collection\\japan\\japan_parser.ipynb:1"
     ]
    }
   ],
   "source": [
    "parse.(Float64, df.Latitude)"
   ]
  },
  {
   "cell_type": "code",
   "execution_count": 57,
   "metadata": {},
   "outputs": [
    {
     "data": {
      "text/plain": [
       "true"
      ]
     },
     "metadata": {},
     "output_type": "display_data"
    }
   ],
   "source": [
    "isempty(\"\")"
   ]
  },
  {
   "cell_type": "code",
   "execution_count": 17,
   "metadata": {},
   "outputs": [
    {
     "data": {
      "text/html": [
       "<div><div style = \"float: left;\"><span>36797×9 DataFrame</span></div><div style = \"float: right;\"><span style = \"font-style: italic;\">36772 rows omitted</span></div><div style = \"clear: both;\"></div></div><div class = \"data-frame\" style = \"overflow-x: scroll;\"><table class = \"data-frame\" style = \"margin-bottom: 6px;\"><thead><tr class = \"header\"><th class = \"rowNumber\" style = \"font-weight: bold; text-align: right;\">Row</th><th style = \"text-align: left;\">Identifier</th><th style = \"text-align: left;\">Datetime</th><th style = \"text-align: left;\">Latitude</th><th style = \"text-align: left;\">Latitude_min</th><th style = \"text-align: left;\">Longitude</th><th style = \"text-align: left;\">Longitude_min</th><th style = \"text-align: left;\">Depth</th><th style = \"text-align: left;\">Magnitude</th><th style = \"text-align: left;\">Magnitude_type</th></tr><tr class = \"subheader headerLastRow\"><th class = \"rowNumber\" style = \"font-weight: bold; text-align: right;\"></th><th title = \"Any\" style = \"text-align: left;\">Any</th><th title = \"DateTime\" style = \"text-align: left;\">DateTime</th><th title = \"Any\" style = \"text-align: left;\">Any</th><th title = \"Any\" style = \"text-align: left;\">Any</th><th title = \"Any\" style = \"text-align: left;\">Any</th><th title = \"Any\" style = \"text-align: left;\">Any</th><th title = \"Any\" style = \"text-align: left;\">Any</th><th title = \"Any\" style = \"text-align: left;\">Any</th><th title = \"Any\" style = \"text-align: left;\">Any</th></tr></thead><tbody><tr><td class = \"rowNumber\" style = \"font-weight: bold; text-align: right;\">1</td><td style = \"text-align: left;\">J</td><td style = \"text-align: left;\">2011-11-03T00:00:51.170</td><td style = \"text-align: left;\">39</td><td style = \"text-align: left;\">0498</td><td style = \"text-align: left;\">142</td><td style = \"text-align: left;\">2285</td><td style = \"text-align: left;\">2870</td><td style = \"text-align: left;\">1.8</td><td style = \"text-align: left;\">V</td></tr><tr><td class = \"rowNumber\" style = \"font-weight: bold; text-align: right;\">2</td><td style = \"text-align: left;\">J</td><td style = \"text-align: left;\">2011-11-03T00:01:19.700</td><td style = \"text-align: left;\">36</td><td style = \"text-align: left;\">0956</td><td style = \"text-align: left;\">142</td><td style = \"text-align: left;\">0755</td><td style = \"text-align: left;\">66</td><td style = \"text-align: left;\">2.8</td><td style = \"text-align: left;\">V</td></tr><tr><td class = \"rowNumber\" style = \"font-weight: bold; text-align: right;\">3</td><td style = \"text-align: left;\">J</td><td style = \"text-align: left;\">2011-11-03T00:05:01.110</td><td style = \"text-align: left;\">37</td><td style = \"text-align: left;\">1087</td><td style = \"text-align: left;\">142</td><td style = \"text-align: left;\">4002</td><td style = \"text-align: left;\">9</td><td style = \"text-align: left;\">3.4</td><td style = \"text-align: left;\">V</td></tr><tr><td class = \"rowNumber\" style = \"font-weight: bold; text-align: right;\">4</td><td style = \"text-align: left;\">J</td><td style = \"text-align: left;\">2011-11-03T00:10:29.330</td><td style = \"text-align: left;\">38</td><td style = \"text-align: left;\">5474</td><td style = \"text-align: left;\">142</td><td style = \"text-align: left;\">0491</td><td style = \"text-align: left;\">5381</td><td style = \"text-align: left;\">3.2</td><td style = \"text-align: left;\">V</td></tr><tr><td class = \"rowNumber\" style = \"font-weight: bold; text-align: right;\">5</td><td style = \"text-align: left;\">J</td><td style = \"text-align: left;\">2011-11-03T00:12:37.730</td><td style = \"text-align: left;\">24</td><td style = \"text-align: left;\">4826</td><td style = \"text-align: left;\">123</td><td style = \"text-align: left;\">4963</td><td style = \"text-align: left;\">4106</td><td style = \"text-align: left;\">NaN</td><td style = \"text-align: left;\"></td></tr><tr><td class = \"rowNumber\" style = \"font-weight: bold; text-align: right;\">6</td><td style = \"text-align: left;\">J</td><td style = \"text-align: left;\">2011-11-03T00:15:32.630</td><td style = \"text-align: left;\">35</td><td style = \"text-align: left;\">5808</td><td style = \"text-align: left;\">141</td><td style = \"text-align: left;\">0676</td><td style = \"text-align: left;\">4204</td><td style = \"text-align: left;\">1.8</td><td style = \"text-align: left;\">V</td></tr><tr><td class = \"rowNumber\" style = \"font-weight: bold; text-align: right;\">7</td><td style = \"text-align: left;\">J</td><td style = \"text-align: left;\">2011-11-03T00:20:53.990</td><td style = \"text-align: left;\">35</td><td style = \"text-align: left;\">1914</td><td style = \"text-align: left;\">138</td><td style = \"text-align: left;\">2118</td><td style = \"text-align: left;\">1852</td><td style = \"text-align: left;\">0.1</td><td style = \"text-align: left;\">V</td></tr><tr><td class = \"rowNumber\" style = \"font-weight: bold; text-align: right;\">8</td><td style = \"text-align: left;\">J</td><td style = \"text-align: left;\">2011-11-03T00:21:03.850</td><td style = \"text-align: left;\">36</td><td style = \"text-align: left;\">4191</td><td style = \"text-align: left;\">140</td><td style = \"text-align: left;\">3649</td><td style = \"text-align: left;\">582</td><td style = \"text-align: left;\">0.1</td><td style = \"text-align: left;\">V</td></tr><tr><td class = \"rowNumber\" style = \"font-weight: bold; text-align: right;\">9</td><td style = \"text-align: left;\">J</td><td style = \"text-align: left;\">2011-11-03T00:21:08.910</td><td style = \"text-align: left;\">36</td><td style = \"text-align: left;\">4186</td><td style = \"text-align: left;\">140</td><td style = \"text-align: left;\">3655</td><td style = \"text-align: left;\">633</td><td style = \"text-align: left;\">0.4</td><td style = \"text-align: left;\">V</td></tr><tr><td class = \"rowNumber\" style = \"font-weight: bold; text-align: right;\">10</td><td style = \"text-align: left;\">J</td><td style = \"text-align: left;\">2011-11-03T00:22:22.400</td><td style = \"text-align: left;\">34</td><td style = \"text-align: left;\">5760</td><td style = \"text-align: left;\">139</td><td style = \"text-align: left;\">0492</td><td style = \"text-align: left;\">367</td><td style = \"text-align: left;\">0.2</td><td style = \"text-align: left;\">V</td></tr><tr><td class = \"rowNumber\" style = \"font-weight: bold; text-align: right;\">11</td><td style = \"text-align: left;\">J</td><td style = \"text-align: left;\">2011-11-03T00:23:19.470</td><td style = \"text-align: left;\">34</td><td style = \"text-align: left;\">0937</td><td style = \"text-align: left;\">135</td><td style = \"text-align: left;\">0636</td><td style = \"text-align: left;\">611</td><td style = \"text-align: left;\">0.1</td><td style = \"text-align: left;\">v</td></tr><tr><td class = \"rowNumber\" style = \"font-weight: bold; text-align: right;\">12</td><td style = \"text-align: left;\">J</td><td style = \"text-align: left;\">2011-11-03T00:24:20.870</td><td style = \"text-align: left;\">35</td><td style = \"text-align: left;\">5170</td><td style = \"text-align: left;\">137</td><td style = \"text-align: left;\">3526</td><td style = \"text-align: left;\">597</td><td style = \"text-align: left;\">-0.4</td><td style = \"text-align: left;\">V</td></tr><tr><td class = \"rowNumber\" style = \"font-weight: bold; text-align: right;\">13</td><td style = \"text-align: left;\">J</td><td style = \"text-align: left;\">2011-11-03T00:25:07.260</td><td style = \"text-align: left;\">35</td><td style = \"text-align: left;\">5626</td><td style = \"text-align: left;\">137</td><td style = \"text-align: left;\">3624</td><td style = \"text-align: left;\">957</td><td style = \"text-align: left;\">0.1</td><td style = \"text-align: left;\">V</td></tr><tr><td style = \"text-align: right;\">&vellip;</td><td style = \"text-align: right;\">&vellip;</td><td style = \"text-align: right;\">&vellip;</td><td style = \"text-align: right;\">&vellip;</td><td style = \"text-align: right;\">&vellip;</td><td style = \"text-align: right;\">&vellip;</td><td style = \"text-align: right;\">&vellip;</td><td style = \"text-align: right;\">&vellip;</td><td style = \"text-align: right;\">&vellip;</td><td style = \"text-align: right;\">&vellip;</td></tr><tr><td class = \"rowNumber\" style = \"font-weight: bold; text-align: right;\">36786</td><td style = \"text-align: left;\">J</td><td style = \"text-align: left;\">2011-12-31T23:37:40.140</td><td style = \"text-align: left;\">35</td><td style = \"text-align: left;\">3483</td><td style = \"text-align: left;\">140</td><td style = \"text-align: left;\">0804</td><td style = \"text-align: left;\">6524</td><td style = \"text-align: left;\">1.8</td><td style = \"text-align: left;\">V</td></tr><tr><td class = \"rowNumber\" style = \"font-weight: bold; text-align: right;\">36787</td><td style = \"text-align: left;\">J</td><td style = \"text-align: left;\">2011-12-31T23:39:48.990</td><td style = \"text-align: left;\">28</td><td style = \"text-align: left;\">0538</td><td style = \"text-align: left;\">129</td><td style = \"text-align: left;\">3734</td><td style = \"text-align: left;\">2573</td><td style = \"text-align: left;\">0.6</td><td style = \"text-align: left;\">v</td></tr><tr><td class = \"rowNumber\" style = \"font-weight: bold; text-align: right;\">36788</td><td style = \"text-align: left;\">J</td><td style = \"text-align: left;\">2011-12-31T23:41:38.250</td><td style = \"text-align: left;\">33</td><td style = \"text-align: left;\">5026</td><td style = \"text-align: left;\">134</td><td style = \"text-align: left;\">5898</td><td style = \"text-align: left;\">1227</td><td style = \"text-align: left;\">1.1</td><td style = \"text-align: left;\">V</td></tr><tr><td class = \"rowNumber\" style = \"font-weight: bold; text-align: right;\">36789</td><td style = \"text-align: left;\">J</td><td style = \"text-align: left;\">2011-12-31T23:43:31.690</td><td style = \"text-align: left;\">36</td><td style = \"text-align: left;\">4592</td><td style = \"text-align: left;\">140</td><td style = \"text-align: left;\">3420</td><td style = \"text-align: left;\">852</td><td style = \"text-align: left;\">1.6</td><td style = \"text-align: left;\">V</td></tr><tr><td class = \"rowNumber\" style = \"font-weight: bold; text-align: right;\">36790</td><td style = \"text-align: left;\">J</td><td style = \"text-align: left;\">2011-12-31T23:45:05.400</td><td style = \"text-align: left;\">33</td><td style = \"text-align: left;\">3186</td><td style = \"text-align: left;\">132</td><td style = \"text-align: left;\">4731</td><td style = \"text-align: left;\">3284</td><td style = \"text-align: left;\">0.2</td><td style = \"text-align: left;\">V</td></tr><tr><td class = \"rowNumber\" style = \"font-weight: bold; text-align: right;\">36791</td><td style = \"text-align: left;\">J</td><td style = \"text-align: left;\">2011-12-31T23:51:31.260</td><td style = \"text-align: left;\">30</td><td style = \"text-align: left;\">3101</td><td style = \"text-align: left;\">130</td><td style = \"text-align: left;\">3006</td><td style = \"text-align: left;\">7143</td><td style = \"text-align: left;\">3.1</td><td style = \"text-align: left;\">V</td></tr><tr><td class = \"rowNumber\" style = \"font-weight: bold; text-align: right;\">36792</td><td style = \"text-align: left;\">J</td><td style = \"text-align: left;\">2011-12-31T23:53:06.830</td><td style = \"text-align: left;\">37</td><td style = \"text-align: left;\">1940</td><td style = \"text-align: left;\">141</td><td style = \"text-align: left;\">3429</td><td style = \"text-align: left;\">2857</td><td style = \"text-align: left;\">1.4</td><td style = \"text-align: left;\">V</td></tr><tr><td class = \"rowNumber\" style = \"font-weight: bold; text-align: right;\">36793</td><td style = \"text-align: left;\">J</td><td style = \"text-align: left;\">2011-12-31T23:54:39.010</td><td style = \"text-align: left;\">36</td><td style = \"text-align: left;\">2628</td><td style = \"text-align: left;\">141</td><td style = \"text-align: left;\">0678</td><td style = \"text-align: left;\">4525</td><td style = \"text-align: left;\">1.2</td><td style = \"text-align: left;\">V</td></tr><tr><td class = \"rowNumber\" style = \"font-weight: bold; text-align: right;\">36794</td><td style = \"text-align: left;\">J</td><td style = \"text-align: left;\">2011-12-31T23:58:31.530</td><td style = \"text-align: left;\">36</td><td style = \"text-align: left;\">4074</td><td style = \"text-align: left;\">140</td><td style = \"text-align: left;\">3762</td><td style = \"text-align: left;\">719</td><td style = \"text-align: left;\">0.7</td><td style = \"text-align: left;\">V</td></tr><tr><td class = \"rowNumber\" style = \"font-weight: bold; text-align: right;\">36795</td><td style = \"text-align: left;\">J</td><td style = \"text-align: left;\">2011-12-31T23:58:54</td><td style = \"text-align: left;\">34</td><td style = \"text-align: left;\">4777</td><td style = \"text-align: left;\">138</td><td style = \"text-align: left;\">2695</td><td style = \"text-align: left;\">1774</td><td style = \"text-align: left;\">1.1</td><td style = \"text-align: left;\">V</td></tr><tr><td class = \"rowNumber\" style = \"font-weight: bold; text-align: right;\">36796</td><td style = \"text-align: left;\">J</td><td style = \"text-align: left;\">2011-12-31T23:58:58.340</td><td style = \"text-align: left;\">37</td><td style = \"text-align: left;\">1578</td><td style = \"text-align: left;\">143</td><td style = \"text-align: left;\">2104</td><td style = \"text-align: left;\">43</td><td style = \"text-align: left;\">3.0</td><td style = \"text-align: left;\">V</td></tr><tr><td class = \"rowNumber\" style = \"font-weight: bold; text-align: right;\">36797</td><td style = \"text-align: left;\">J</td><td style = \"text-align: left;\">2011-12-31T23:59:24.650</td><td style = \"text-align: left;\">41</td><td style = \"text-align: left;\">5777</td><td style = \"text-align: left;\">143</td><td style = \"text-align: left;\">0091</td><td style = \"text-align: left;\">4646</td><td style = \"text-align: left;\">0.1</td><td style = \"text-align: left;\">v</td></tr></tbody></table></div>"
      ],
      "text/latex": [
       "\\begin{tabular}{r|ccccccc}\n",
       "\t& Identifier & Datetime & Latitude & Latitude\\_min & Longitude & Longitude\\_min & \\\\\n",
       "\t\\hline\n",
       "\t& Any & DateTime & Any & Any & Any & Any & \\\\\n",
       "\t\\hline\n",
       "\t1 & J & 2011-11-03T00:00:51.170 & 39 & 0498 & 142 & 2285 & $\\dots$ \\\\\n",
       "\t2 & J & 2011-11-03T00:01:19.700 & 36 & 0956 & 142 & 0755 & $\\dots$ \\\\\n",
       "\t3 & J & 2011-11-03T00:05:01.110 & 37 & 1087 & 142 & 4002 & $\\dots$ \\\\\n",
       "\t4 & J & 2011-11-03T00:10:29.330 & 38 & 5474 & 142 & 0491 & $\\dots$ \\\\\n",
       "\t5 & J & 2011-11-03T00:12:37.730 & 24 & 4826 & 123 & 4963 & $\\dots$ \\\\\n",
       "\t6 & J & 2011-11-03T00:15:32.630 & 35 & 5808 & 141 & 0676 & $\\dots$ \\\\\n",
       "\t7 & J & 2011-11-03T00:20:53.990 & 35 & 1914 & 138 & 2118 & $\\dots$ \\\\\n",
       "\t8 & J & 2011-11-03T00:21:03.850 & 36 & 4191 & 140 & 3649 & $\\dots$ \\\\\n",
       "\t9 & J & 2011-11-03T00:21:08.910 & 36 & 4186 & 140 & 3655 & $\\dots$ \\\\\n",
       "\t10 & J & 2011-11-03T00:22:22.400 & 34 & 5760 & 139 & 0492 & $\\dots$ \\\\\n",
       "\t11 & J & 2011-11-03T00:23:19.470 & 34 & 0937 & 135 & 0636 & $\\dots$ \\\\\n",
       "\t12 & J & 2011-11-03T00:24:20.870 & 35 & 5170 & 137 & 3526 & $\\dots$ \\\\\n",
       "\t13 & J & 2011-11-03T00:25:07.260 & 35 & 5626 & 137 & 3624 & $\\dots$ \\\\\n",
       "\t14 & J & 2011-11-03T00:26:11.570 & 33 & 5431 & 135 & 3899 & $\\dots$ \\\\\n",
       "\t15 & J & 2011-11-03T00:26:45.220 & 37 & 0685 & 140 & 5160 & $\\dots$ \\\\\n",
       "\t16 & J & 2011-11-03T00:26:52.750 & 34 & 5775 & 139 & 0537 & $\\dots$ \\\\\n",
       "\t17 & J & 2011-11-03T00:29:58.010 & 45 & 1128 & 141 & 4990 & $\\dots$ \\\\\n",
       "\t18 & J & 2011-11-03T00:30:03.570 & 36 & 1009 & 141 & 0042 & $\\dots$ \\\\\n",
       "\t19 & J & 2011-11-03T00:32:28.340 & 36 & 5029 & 140 & 3365 & $\\dots$ \\\\\n",
       "\t20 & J & 2011-11-03T00:33:45.910 & 36 & 4196 & 140 & 3648 & $\\dots$ \\\\\n",
       "\t21 & J & 2011-11-03T00:35:20.690 & 37 & 4381 & 139 & 5867 & $\\dots$ \\\\\n",
       "\t22 & J & 2011-11-03T00:36:00.590 & 34 & 5520 & 134 & 1223 & $\\dots$ \\\\\n",
       "\t23 & J & 2011-11-03T00:37:18.450 & 36 & 4444 & 140 & 3803 & $\\dots$ \\\\\n",
       "\t24 & J & 2011-11-03T00:37:33.500 & 45 & 1075 & 141 & 5052 & $\\dots$ \\\\\n",
       "\t$\\dots$ & $\\dots$ & $\\dots$ & $\\dots$ & $\\dots$ & $\\dots$ & $\\dots$ &  \\\\\n",
       "\\end{tabular}\n"
      ],
      "text/plain": [
       "\u001b[1m36797×9 DataFrame\u001b[0m\n",
       "\u001b[1m   Row \u001b[0m│\u001b[1m Identifier \u001b[0m\u001b[1m Datetime                \u001b[0m\u001b[1m Latitude \u001b[0m\u001b[1m Latitude_min \u001b[0m\u001b[1m Longitud\u001b[0m ⋯\n",
       "       │\u001b[90m Any        \u001b[0m\u001b[90m DateTime                \u001b[0m\u001b[90m Any      \u001b[0m\u001b[90m Any          \u001b[0m\u001b[90m Any     \u001b[0m ⋯\n",
       "───────┼────────────────────────────────────────────────────────────────────────\n",
       "     1 │ J           2011-11-03T00:00:51.170  39        0498          142      ⋯\n",
       "     2 │ J           2011-11-03T00:01:19.700  36        0956          142\n",
       "     3 │ J           2011-11-03T00:05:01.110  37        1087          142\n",
       "     4 │ J           2011-11-03T00:10:29.330  38        5474          142\n",
       "     5 │ J           2011-11-03T00:12:37.730  24        4826          123      ⋯\n",
       "     6 │ J           2011-11-03T00:15:32.630  35        5808          141\n",
       "     7 │ J           2011-11-03T00:20:53.990  35        1914          138\n",
       "     8 │ J           2011-11-03T00:21:03.850  36        4191          140\n",
       "   ⋮   │     ⋮                  ⋮                ⋮           ⋮            ⋮    ⋱\n",
       " 36791 │ J           2011-12-31T23:51:31.260  30        3101          130      ⋯\n",
       " 36792 │ J           2011-12-31T23:53:06.830  37        1940          141\n",
       " 36793 │ J           2011-12-31T23:54:39.010  36        2628          141\n",
       " 36794 │ J           2011-12-31T23:58:31.530  36        4074          140\n",
       " 36795 │ J           2011-12-31T23:58:54      34        4777          138      ⋯\n",
       " 36796 │ J           2011-12-31T23:58:58.340  37        1578          143\n",
       " 36797 │ J           2011-12-31T23:59:24.650  41        5777          143\n",
       "\u001b[36m                                                5 columns and 36782 rows omitted\u001b[0m"
      ]
     },
     "metadata": {},
     "output_type": "display_data"
    }
   ],
   "source": [
    "japan = df[df.Datetime .> DateTime(2011,11,3,0,0,0),:]"
   ]
  },
  {
   "cell_type": "code",
   "execution_count": null,
   "metadata": {},
   "outputs": [],
   "source": []
  }
 ],
 "metadata": {
  "kernelspec": {
   "display_name": "Julia 1.8.5",
   "language": "julia",
   "name": "julia-1.8"
  },
  "language_info": {
   "file_extension": ".jl",
   "mimetype": "application/julia",
   "name": "julia",
   "version": "1.8.5"
  },
  "orig_nbformat": 4
 },
 "nbformat": 4,
 "nbformat_minor": 2
}
