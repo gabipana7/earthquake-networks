{
 "cells": [
  {
   "cell_type": "code",
   "execution_count": 185,
   "metadata": {},
   "outputs": [],
   "source": [
    "using CSV, DataFrames, Dates\n",
    "using Tar, CodecZlib"
   ]
  },
  {
   "cell_type": "code",
   "execution_count": 197,
   "metadata": {},
   "outputs": [],
   "source": [
    "url = \"https://service.scedc.caltech.edu/ftp/catalogs/SCEC_DC/SCEDC_catalogs.tar.gz\"\n",
    "download(url,\"./california.tar.gz\")\n",
    "\n",
    "open(GzipDecompressorStream, \"./california.tar.gz\") do io\n",
    "    Tar.extract(io, \"output\")\n",
    "end;"
   ]
  },
  {
   "cell_type": "code",
   "execution_count": 187,
   "metadata": {},
   "outputs": [],
   "source": [
    "# Declare types of the needed columns\n",
    "datetime = Vector{String}()\n",
    "latitude, longitude, depth =  Vector{Float64}(), Vector{Float64}(), Vector{Float64}()\n",
    "magnitude =  Vector{Float64}()\n",
    "magnitude_type = Vector{String}()\n",
    "event_type = Vector{String}();"
   ]
  },
  {
   "cell_type": "code",
   "execution_count": 188,
   "metadata": {},
   "outputs": [],
   "source": [
    "for year=1932:2023\n",
    "    filename=\"./output/SCEC_DC/\" * string(year) *  \".catalog\"\n",
    "    open(filename) do io\n",
    "        # Skip first 10 lines\n",
    "        for i=1:10\n",
    "            line = readline(io)\n",
    "            # println(line)\n",
    "        end\n",
    "        # Parse all lines until you get an empty line (skip last 2 lines)\n",
    "        while true\n",
    "            line = readline(io)\n",
    "            # detect the end of the line\n",
    "            line == \"\" && break \n",
    "            # push to the vectors, the characters based on the position in the text file\n",
    "            # push!(date,  strip(line[1:10]))\n",
    "            push!(datetime,  strip(line[1:22]))\n",
    "            push!(event_type,  strip(line[24:25]))\n",
    "            push!(magnitude, parse(Float64, strip(line[30:33])))\n",
    "            push!(magnitude_type,strip(line[35:37]))\n",
    "            push!(latitude, parse(Float64,strip(line[40:45])))\n",
    "            push!(longitude, parse(Float64, strip(line[47:54])))\n",
    "            push!(depth, parse(Float64, strip(line[56:60])))\n",
    "    \n",
    "        end\n",
    "    end\n",
    "end\n",
    "\n",
    "# Handling improper second formatting in original data\n",
    "for i in eachindex(datetime)\n",
    "    # try turning string into datetime\n",
    "    try\n",
    "        element_date = DateTime.(datetime[i],dateformat)\n",
    "    # catch the element that gives error\n",
    "    catch e\n",
    "        # collect each character of the string\n",
    "        as = collect(datetime[i])\n",
    "        # we know that the second gives problem; second is in 18 position\n",
    "        # seconds formated as \"60\", not possible. change to 50\n",
    "        as[18] = '5'\n",
    "        # join back the characters into string and modify in the original vector\n",
    "        datetime[i] = join(as)\n",
    "    end\n",
    "end\n",
    "\n",
    "\n",
    "df = DataFrame(Datetime=datetime, \n",
    "        Latitude=latitude, Longitude=longitude, Depth=depth,\n",
    "        Magnitude=magnitude, Event_Type=event_type, Magnitude_Type=magnitude_type);"
   ]
  },
  {
   "cell_type": "code",
   "execution_count": 189,
   "metadata": {},
   "outputs": [],
   "source": [
    "dateformat = dateformat\"yyyy/mm/dd HH:MM:SS.ss\"\n",
    "df.Datetime = DateTime.(df.Datetime, dateformat);"
   ]
  },
  {
   "cell_type": "code",
   "execution_count": 191,
   "metadata": {},
   "outputs": [],
   "source": [
    "california = df[(df.Event_Type .== \"eq\") .& (df.Magnitude .> 0.0),:];"
   ]
  },
  {
   "cell_type": "code",
   "execution_count": 192,
   "metadata": {},
   "outputs": [
    {
     "data": {
      "text/html": [
       "<div><div style = \"float: left;\"><span>807338×7 DataFrame</span></div><div style = \"float: right;\"><span style = \"font-style: italic;\">807313 rows omitted</span></div><div style = \"clear: both;\"></div></div><div class = \"data-frame\" style = \"overflow-x: scroll;\"><table class = \"data-frame\" style = \"margin-bottom: 6px;\"><thead><tr class = \"header\"><th class = \"rowNumber\" style = \"font-weight: bold; text-align: right;\">Row</th><th style = \"text-align: left;\">Datetime</th><th style = \"text-align: left;\">Latitude</th><th style = \"text-align: left;\">Longitude</th><th style = \"text-align: left;\">Depth</th><th style = \"text-align: left;\">Magnitude</th><th style = \"text-align: left;\">Event_Type</th><th style = \"text-align: left;\">Magnitude_Type</th></tr><tr class = \"subheader headerLastRow\"><th class = \"rowNumber\" style = \"font-weight: bold; text-align: right;\"></th><th title = \"DateTime\" style = \"text-align: left;\">DateTime</th><th title = \"Float64\" style = \"text-align: left;\">Float64</th><th title = \"Float64\" style = \"text-align: left;\">Float64</th><th title = \"Float64\" style = \"text-align: left;\">Float64</th><th title = \"Float64\" style = \"text-align: left;\">Float64</th><th title = \"String\" style = \"text-align: left;\">String</th><th title = \"String\" style = \"text-align: left;\">String</th></tr></thead><tbody><tr><td class = \"rowNumber\" style = \"font-weight: bold; text-align: right;\">1</td><td style = \"text-align: left;\">1932-01-02T16:42:43.680</td><td style = \"text-align: right;\">33.903</td><td style = \"text-align: right;\">-117.645</td><td style = \"text-align: right;\">6.0</td><td style = \"text-align: right;\">2.73</td><td style = \"text-align: left;\">eq</td><td style = \"text-align: left;\">l</td></tr><tr><td class = \"rowNumber\" style = \"font-weight: bold; text-align: right;\">2</td><td style = \"text-align: left;\">1932-01-03T17:58:10.010</td><td style = \"text-align: right;\">32.0</td><td style = \"text-align: right;\">-116.0</td><td style = \"text-align: right;\">6.0</td><td style = \"text-align: right;\">3.0</td><td style = \"text-align: left;\">eq</td><td style = \"text-align: left;\">h</td></tr><tr><td class = \"rowNumber\" style = \"font-weight: bold; text-align: right;\">3</td><td style = \"text-align: left;\">1932-01-04T21:30:00.960</td><td style = \"text-align: right;\">33.771</td><td style = \"text-align: right;\">-117.494</td><td style = \"text-align: right;\">6.0</td><td style = \"text-align: right;\">2.0</td><td style = \"text-align: left;\">eq</td><td style = \"text-align: left;\">h</td></tr><tr><td class = \"rowNumber\" style = \"font-weight: bold; text-align: right;\">4</td><td style = \"text-align: left;\">1932-01-05T02:37:27.960</td><td style = \"text-align: right;\">33.559</td><td style = \"text-align: right;\">-118.442</td><td style = \"text-align: right;\">6.0</td><td style = \"text-align: right;\">1.5</td><td style = \"text-align: left;\">eq</td><td style = \"text-align: left;\">h</td></tr><tr><td class = \"rowNumber\" style = \"font-weight: bold; text-align: right;\">5</td><td style = \"text-align: left;\">1932-01-06T08:08:38.620</td><td style = \"text-align: right;\">34.143</td><td style = \"text-align: right;\">-117.475</td><td style = \"text-align: right;\">6.0</td><td style = \"text-align: right;\">2.0</td><td style = \"text-align: left;\">eq</td><td style = \"text-align: left;\">h</td></tr><tr><td class = \"rowNumber\" style = \"font-weight: bold; text-align: right;\">6</td><td style = \"text-align: left;\">1932-01-07T02:29:22.370</td><td style = \"text-align: right;\">33.992</td><td style = \"text-align: right;\">-118.194</td><td style = \"text-align: right;\">6.0</td><td style = \"text-align: right;\">1.0</td><td style = \"text-align: left;\">eq</td><td style = \"text-align: left;\">h</td></tr><tr><td class = \"rowNumber\" style = \"font-weight: bold; text-align: right;\">7</td><td style = \"text-align: left;\">1932-01-07T05:39:23.730</td><td style = \"text-align: right;\">34.094</td><td style = \"text-align: right;\">-117.263</td><td style = \"text-align: right;\">6.0</td><td style = \"text-align: right;\">1.0</td><td style = \"text-align: left;\">eq</td><td style = \"text-align: left;\">h</td></tr><tr><td class = \"rowNumber\" style = \"font-weight: bold; text-align: right;\">8</td><td style = \"text-align: left;\">1932-01-07T14:55:43.920</td><td style = \"text-align: right;\">32.0</td><td style = \"text-align: right;\">-116.0</td><td style = \"text-align: right;\">6.0</td><td style = \"text-align: right;\">3.0</td><td style = \"text-align: left;\">eq</td><td style = \"text-align: left;\">h</td></tr><tr><td class = \"rowNumber\" style = \"font-weight: bold; text-align: right;\">9</td><td style = \"text-align: left;\">1932-01-07T21:25:55.850</td><td style = \"text-align: right;\">34.775</td><td style = \"text-align: right;\">-118.814</td><td style = \"text-align: right;\">6.0</td><td style = \"text-align: right;\">2.0</td><td style = \"text-align: left;\">eq</td><td style = \"text-align: left;\">h</td></tr><tr><td class = \"rowNumber\" style = \"font-weight: bold; text-align: right;\">10</td><td style = \"text-align: left;\">1932-01-10T10:44:54.530</td><td style = \"text-align: right;\">33.857</td><td style = \"text-align: right;\">-117.537</td><td style = \"text-align: right;\">6.0</td><td style = \"text-align: right;\">3.05</td><td style = \"text-align: left;\">eq</td><td style = \"text-align: left;\">h</td></tr><tr><td class = \"rowNumber\" style = \"font-weight: bold; text-align: right;\">11</td><td style = \"text-align: left;\">1932-01-10T11:25:06.530</td><td style = \"text-align: right;\">34.15</td><td style = \"text-align: right;\">-117.515</td><td style = \"text-align: right;\">6.0</td><td style = \"text-align: right;\">2.0</td><td style = \"text-align: left;\">eq</td><td style = \"text-align: left;\">h</td></tr><tr><td class = \"rowNumber\" style = \"font-weight: bold; text-align: right;\">12</td><td style = \"text-align: left;\">1932-01-10T15:39:29.570</td><td style = \"text-align: right;\">33.657</td><td style = \"text-align: right;\">-116.846</td><td style = \"text-align: right;\">6.0</td><td style = \"text-align: right;\">3.0</td><td style = \"text-align: left;\">eq</td><td style = \"text-align: left;\">h</td></tr><tr><td class = \"rowNumber\" style = \"font-weight: bold; text-align: right;\">13</td><td style = \"text-align: left;\">1932-01-11T21:08:38.790</td><td style = \"text-align: right;\">33.985</td><td style = \"text-align: right;\">-117.673</td><td style = \"text-align: right;\">6.0</td><td style = \"text-align: right;\">2.5</td><td style = \"text-align: left;\">eq</td><td style = \"text-align: left;\">h</td></tr><tr><td style = \"text-align: right;\">&vellip;</td><td style = \"text-align: right;\">&vellip;</td><td style = \"text-align: right;\">&vellip;</td><td style = \"text-align: right;\">&vellip;</td><td style = \"text-align: right;\">&vellip;</td><td style = \"text-align: right;\">&vellip;</td><td style = \"text-align: right;\">&vellip;</td><td style = \"text-align: right;\">&vellip;</td></tr><tr><td class = \"rowNumber\" style = \"font-weight: bold; text-align: right;\">807327</td><td style = \"text-align: left;\">2023-02-12T22:29:08.320</td><td style = \"text-align: right;\">33.177</td><td style = \"text-align: right;\">-116.036</td><td style = \"text-align: right;\">6.1</td><td style = \"text-align: right;\">1.36</td><td style = \"text-align: left;\">eq</td><td style = \"text-align: left;\">l</td></tr><tr><td class = \"rowNumber\" style = \"font-weight: bold; text-align: right;\">807328</td><td style = \"text-align: left;\">2023-02-12T23:35:25.150</td><td style = \"text-align: right;\">34.399</td><td style = \"text-align: right;\">-118.987</td><td style = \"text-align: right;\">27.0</td><td style = \"text-align: right;\">1.66</td><td style = \"text-align: left;\">eq</td><td style = \"text-align: left;\">l</td></tr><tr><td class = \"rowNumber\" style = \"font-weight: bold; text-align: right;\">807329</td><td style = \"text-align: left;\">2023-02-13T00:33:07.390</td><td style = \"text-align: right;\">32.493</td><td style = \"text-align: right;\">-115.236</td><td style = \"text-align: right;\">18.6</td><td style = \"text-align: right;\">1.96</td><td style = \"text-align: left;\">eq</td><td style = \"text-align: left;\">l</td></tr><tr><td class = \"rowNumber\" style = \"font-weight: bold; text-align: right;\">807330</td><td style = \"text-align: left;\">2023-02-13T00:38:45.430</td><td style = \"text-align: right;\">33.539</td><td style = \"text-align: right;\">-117.981</td><td style = \"text-align: right;\">36.6</td><td style = \"text-align: right;\">2.0</td><td style = \"text-align: left;\">eq</td><td style = \"text-align: left;\">l</td></tr><tr><td class = \"rowNumber\" style = \"font-weight: bold; text-align: right;\">807331</td><td style = \"text-align: left;\">2023-02-13T02:45:38.410</td><td style = \"text-align: right;\">33.013</td><td style = \"text-align: right;\">-116.353</td><td style = \"text-align: right;\">10.8</td><td style = \"text-align: right;\">0.89</td><td style = \"text-align: left;\">eq</td><td style = \"text-align: left;\">l</td></tr><tr><td class = \"rowNumber\" style = \"font-weight: bold; text-align: right;\">807332</td><td style = \"text-align: left;\">2023-02-13T02:48:58.240</td><td style = \"text-align: right;\">34.059</td><td style = \"text-align: right;\">-118.674</td><td style = \"text-align: right;\">7.3</td><td style = \"text-align: right;\">1.61</td><td style = \"text-align: left;\">eq</td><td style = \"text-align: left;\">l</td></tr><tr><td class = \"rowNumber\" style = \"font-weight: bold; text-align: right;\">807333</td><td style = \"text-align: left;\">2023-02-13T03:22:14.140</td><td style = \"text-align: right;\">34.05</td><td style = \"text-align: right;\">-116.321</td><td style = \"text-align: right;\">7.8</td><td style = \"text-align: right;\">1.06</td><td style = \"text-align: left;\">eq</td><td style = \"text-align: left;\">l</td></tr><tr><td class = \"rowNumber\" style = \"font-weight: bold; text-align: right;\">807334</td><td style = \"text-align: left;\">2023-02-13T04:16:12.930</td><td style = \"text-align: right;\">35.045</td><td style = \"text-align: right;\">-118.993</td><td style = \"text-align: right;\">18.3</td><td style = \"text-align: right;\">1.34</td><td style = \"text-align: left;\">eq</td><td style = \"text-align: left;\">l</td></tr><tr><td class = \"rowNumber\" style = \"font-weight: bold; text-align: right;\">807335</td><td style = \"text-align: left;\">2023-02-13T05:26:19.550</td><td style = \"text-align: right;\">34.864</td><td style = \"text-align: right;\">-116.303</td><td style = \"text-align: right;\">0.5</td><td style = \"text-align: right;\">2.09</td><td style = \"text-align: left;\">eq</td><td style = \"text-align: left;\">l</td></tr><tr><td class = \"rowNumber\" style = \"font-weight: bold; text-align: right;\">807336</td><td style = \"text-align: left;\">2023-02-13T07:01:15.120</td><td style = \"text-align: right;\">33.406</td><td style = \"text-align: right;\">-116.385</td><td style = \"text-align: right;\">9.6</td><td style = \"text-align: right;\">0.67</td><td style = \"text-align: left;\">eq</td><td style = \"text-align: left;\">l</td></tr><tr><td class = \"rowNumber\" style = \"font-weight: bold; text-align: right;\">807337</td><td style = \"text-align: left;\">2023-02-13T07:40:15.270</td><td style = \"text-align: right;\">34.16</td><td style = \"text-align: right;\">-117.554</td><td style = \"text-align: right;\">8.8</td><td style = \"text-align: right;\">0.92</td><td style = \"text-align: left;\">eq</td><td style = \"text-align: left;\">l</td></tr><tr><td class = \"rowNumber\" style = \"font-weight: bold; text-align: right;\">807338</td><td style = \"text-align: left;\">2023-02-13T08:13:42.660</td><td style = \"text-align: right;\">35.825</td><td style = \"text-align: right;\">-117.665</td><td style = \"text-align: right;\">10.5</td><td style = \"text-align: right;\">1.25</td><td style = \"text-align: left;\">eq</td><td style = \"text-align: left;\">l</td></tr></tbody></table></div>"
      ],
      "text/latex": [
       "\\begin{tabular}{r|ccccccc}\n",
       "\t& Datetime & Latitude & Longitude & Depth & Magnitude & Event\\_Type & Magnitude\\_Type\\\\\n",
       "\t\\hline\n",
       "\t& DateTime & Float64 & Float64 & Float64 & Float64 & String & String\\\\\n",
       "\t\\hline\n",
       "\t1 & 1932-01-02T16:42:43.680 & 33.903 & -117.645 & 6.0 & 2.73 & eq & l \\\\\n",
       "\t2 & 1932-01-03T17:58:10.010 & 32.0 & -116.0 & 6.0 & 3.0 & eq & h \\\\\n",
       "\t3 & 1932-01-04T21:30:00.960 & 33.771 & -117.494 & 6.0 & 2.0 & eq & h \\\\\n",
       "\t4 & 1932-01-05T02:37:27.960 & 33.559 & -118.442 & 6.0 & 1.5 & eq & h \\\\\n",
       "\t5 & 1932-01-06T08:08:38.620 & 34.143 & -117.475 & 6.0 & 2.0 & eq & h \\\\\n",
       "\t6 & 1932-01-07T02:29:22.370 & 33.992 & -118.194 & 6.0 & 1.0 & eq & h \\\\\n",
       "\t7 & 1932-01-07T05:39:23.730 & 34.094 & -117.263 & 6.0 & 1.0 & eq & h \\\\\n",
       "\t8 & 1932-01-07T14:55:43.920 & 32.0 & -116.0 & 6.0 & 3.0 & eq & h \\\\\n",
       "\t9 & 1932-01-07T21:25:55.850 & 34.775 & -118.814 & 6.0 & 2.0 & eq & h \\\\\n",
       "\t10 & 1932-01-10T10:44:54.530 & 33.857 & -117.537 & 6.0 & 3.05 & eq & h \\\\\n",
       "\t11 & 1932-01-10T11:25:06.530 & 34.15 & -117.515 & 6.0 & 2.0 & eq & h \\\\\n",
       "\t12 & 1932-01-10T15:39:29.570 & 33.657 & -116.846 & 6.0 & 3.0 & eq & h \\\\\n",
       "\t13 & 1932-01-11T21:08:38.790 & 33.985 & -117.673 & 6.0 & 2.5 & eq & h \\\\\n",
       "\t14 & 1932-01-14T00:51:15.310 & 34.162 & -119.878 & 6.0 & 3.0 & eq & h \\\\\n",
       "\t15 & 1932-01-14T03:16:21.460 & 36.545 & -118.046 & 6.0 & 3.23 & eq & l \\\\\n",
       "\t16 & 1932-01-14T08:55:48.010 & 34.057 & -118.597 & 6.0 & 3.0 & eq & h \\\\\n",
       "\t17 & 1932-01-14T19:35:51.600 & 33.88 & -118.094 & 6.0 & 3.0 & eq & h \\\\\n",
       "\t18 & 1932-01-16T12:17:02.420 & 33.946 & -117.614 & 6.0 & 2.0 & eq & h \\\\\n",
       "\t19 & 1932-01-17T20:06:57.250 & 33.891 & -117.294 & 6.0 & 2.74 & eq & l \\\\\n",
       "\t20 & 1932-01-18T04:29:07.170 & 33.77 & -118.797 & 6.0 & 2.0 & eq & h \\\\\n",
       "\t21 & 1932-01-20T16:29:14.880 & 33.434 & -118.248 & 6.0 & 2.89 & eq & h \\\\\n",
       "\t22 & 1932-01-20T20:21:38.360 & 33.47 & -118.3 & 6.0 & 3.5 & eq & h \\\\\n",
       "\t23 & 1932-01-21T03:05:04.860 & 34.025 & -117.392 & 21.9 & 1.5 & eq & h \\\\\n",
       "\t24 & 1932-01-21T03:07:26.900 & 34.086 & -117.426 & 15.2 & 3.0 & eq & h \\\\\n",
       "\t$\\dots$ & $\\dots$ & $\\dots$ & $\\dots$ & $\\dots$ & $\\dots$ & $\\dots$ & $\\dots$ \\\\\n",
       "\\end{tabular}\n"
      ],
      "text/plain": [
       "\u001b[1m807338×7 DataFrame\u001b[0m\n",
       "\u001b[1m    Row \u001b[0m│\u001b[1m Datetime                \u001b[0m\u001b[1m Latitude \u001b[0m\u001b[1m Longitude \u001b[0m\u001b[1m Depth   \u001b[0m\u001b[1m Magnitude \u001b[0m\u001b[1m Ev\u001b[0m ⋯\n",
       "        │\u001b[90m DateTime                \u001b[0m\u001b[90m Float64  \u001b[0m\u001b[90m Float64   \u001b[0m\u001b[90m Float64 \u001b[0m\u001b[90m Float64   \u001b[0m\u001b[90m St\u001b[0m ⋯\n",
       "────────┼───────────────────────────────────────────────────────────────────────\n",
       "      1 │ 1932-01-02T16:42:43.680    33.903   -117.645      6.0       2.73  eq ⋯\n",
       "      2 │ 1932-01-03T17:58:10.010    32.0     -116.0        6.0       3.0   eq\n",
       "      3 │ 1932-01-04T21:30:00.960    33.771   -117.494      6.0       2.0   eq\n",
       "      4 │ 1932-01-05T02:37:27.960    33.559   -118.442      6.0       1.5   eq\n",
       "      5 │ 1932-01-06T08:08:38.620    34.143   -117.475      6.0       2.0   eq ⋯\n",
       "      6 │ 1932-01-07T02:29:22.370    33.992   -118.194      6.0       1.0   eq\n",
       "      7 │ 1932-01-07T05:39:23.730    34.094   -117.263      6.0       1.0   eq\n",
       "      8 │ 1932-01-07T14:55:43.920    32.0     -116.0        6.0       3.0   eq\n",
       "   ⋮    │            ⋮                ⋮          ⋮         ⋮         ⋮         ⋱\n",
       " 807332 │ 2023-02-13T02:48:58.240    34.059   -118.674      7.3       1.61  eq ⋯\n",
       " 807333 │ 2023-02-13T03:22:14.140    34.05    -116.321      7.8       1.06  eq\n",
       " 807334 │ 2023-02-13T04:16:12.930    35.045   -118.993     18.3       1.34  eq\n",
       " 807335 │ 2023-02-13T05:26:19.550    34.864   -116.303      0.5       2.09  eq\n",
       " 807336 │ 2023-02-13T07:01:15.120    33.406   -116.385      9.6       0.67  eq ⋯\n",
       " 807337 │ 2023-02-13T07:40:15.270    34.16    -117.554      8.8       0.92  eq\n",
       " 807338 │ 2023-02-13T08:13:42.660    35.825   -117.665     10.5       1.25  eq\n",
       "\u001b[36m                                               2 columns and 807323 rows omitted\u001b[0m"
      ]
     },
     "metadata": {},
     "output_type": "display_data"
    }
   ],
   "source": [
    "california"
   ]
  },
  {
   "cell_type": "code",
   "execution_count": 194,
   "metadata": {},
   "outputs": [
    {
     "data": {
      "text/plain": [
       "\"./california.csv\""
      ]
     },
     "metadata": {},
     "output_type": "display_data"
    }
   ],
   "source": [
    "# CSV.write(\"../../data/california.csv\", california)\n",
    "CSV.write(\"./california.csv\", california)"
   ]
  },
  {
   "cell_type": "code",
   "execution_count": 195,
   "metadata": {},
   "outputs": [
    {
     "data": {
      "text/plain": [
       "\"../../data/california.csv\""
      ]
     },
     "metadata": {},
     "output_type": "display_data"
    }
   ],
   "source": [
    "CSV.write(\"../../data/california.csv\", california)"
   ]
  },
  {
   "cell_type": "code",
   "execution_count": 196,
   "metadata": {},
   "outputs": [],
   "source": [
    "# Remove downloaded and extracted data\n",
    "rm(\"output\", recursive=true)\n",
    "rm(\"california.tar.gz\")"
   ]
  },
  {
   "cell_type": "code",
   "execution_count": null,
   "metadata": {},
   "outputs": [],
   "source": []
  }
 ],
 "metadata": {
  "kernelspec": {
   "display_name": "Julia 1.8.5",
   "language": "julia",
   "name": "julia-1.8"
  },
  "language_info": {
   "file_extension": ".jl",
   "mimetype": "application/julia",
   "name": "julia",
   "version": "1.8.5"
  },
  "orig_nbformat": 4
 },
 "nbformat": 4,
 "nbformat_minor": 2
}
