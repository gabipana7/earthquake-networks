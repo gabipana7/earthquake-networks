{
 "cells": [
  {
   "cell_type": "code",
   "execution_count": 37,
   "metadata": {},
   "outputs": [],
   "source": [
    "using CSV, DataFrames, Dates\n",
    "# using Tar, CodecZlib"
   ]
  },
  {
   "cell_type": "code",
   "execution_count": 38,
   "metadata": {},
   "outputs": [],
   "source": [
    "startDate = [\"-01-01\", \"-02-01\", \"-03-02\", \"-04-01\", \"-05-01\", \"-06-01\", \"-07-01\", \"-08-01\", \"-09-01\", \"-10-01\", \"-11-01\", \"-12-01\"]\n",
    "# account for february ! start from 02-01 to 03-01\n",
    "endDate = [\"-01-31\", \"-03-01\", \"-03-31\", \"-04-30\", \"-05-31\", \"-06-30\", \"-07-31\", \"-08-31\", \"-09-30\", \"-10-31\", \"-11-30\", \"-12-31\"];"
   ]
  },
  {
   "cell_type": "code",
   "execution_count": 40,
   "metadata": {},
   "outputs": [
    {
     "data": {
      "text/html": [
       "<div><div style = \"float: left;\"><span>0×14 DataFrame</span></div><div style = \"clear: both;\"></div></div><div class = \"data-frame\" style = \"overflow-x: scroll;\"><table class = \"data-frame\" style = \"margin-bottom: 6px;\"><thead><tr class = \"header\"><th class = \"rowNumber\" style = \"font-weight: bold; text-align: right;\">Row</th><th style = \"text-align: left;\">#EventID</th><th style = \"text-align: left;\">Time</th><th style = \"text-align: left;\">Latitude</th><th style = \"text-align: left;\">Longitude</th><th style = \"text-align: left;\">Depth/Km</th><th style = \"text-align: left;\">Author</th><th style = \"text-align: left;\">Catalog</th><th style = \"text-align: left;\">Contributor</th><th style = \"text-align: left;\">ContributorID</th><th style = \"text-align: left;\">MagType</th><th style = \"text-align: left;\">Magnitude</th><th style = \"text-align: left;\">MagAuthor</th><th style = \"text-align: left;\">EventLocationName</th><th style = \"text-align: left;\">EventType</th></tr><tr class = \"subheader headerLastRow\"><th class = \"rowNumber\" style = \"font-weight: bold; text-align: right;\"></th><th title = \"Int64\" style = \"text-align: left;\">Int64</th><th title = \"DateTime\" style = \"text-align: left;\">DateTime</th><th title = \"Float64\" style = \"text-align: left;\">Float64</th><th title = \"Float64\" style = \"text-align: left;\">Float64</th><th title = \"Float64\" style = \"text-align: left;\">Float64</th><th title = \"String\" style = \"text-align: left;\">String</th><th title = \"Missing\" style = \"text-align: left;\">Missing</th><th title = \"Missing\" style = \"text-align: left;\">Missing</th><th title = \"Missing\" style = \"text-align: left;\">Missing</th><th title = \"String\" style = \"text-align: left;\">String</th><th title = \"Float64\" style = \"text-align: left;\">Float64</th><th title = \"String\" style = \"text-align: left;\">String</th><th title = \"String\" style = \"text-align: left;\">String</th><th title = \"String\" style = \"text-align: left;\">String</th></tr></thead><tbody></tbody></table></div>"
      ],
      "text/latex": [
       "\\begin{tabular}{r|ccccccccc}\n",
       "\t& \\#EventID & Time & Latitude & Longitude & Depth/Km & Author & Catalog & Contributor & \\\\\n",
       "\t\\hline\n",
       "\t& Int64 & DateTime & Float64 & Float64 & Float64 & String & Missing & Missing & \\\\\n",
       "\t\\hline\n",
       "\\end{tabular}\n"
      ],
      "text/plain": [
       "\u001b[1m0×14 DataFrame\u001b[0m\n",
       "\u001b[1m Row \u001b[0m│\u001b[1m #EventID \u001b[0m\u001b[1m Time     \u001b[0m\u001b[1m Latitude \u001b[0m\u001b[1m Longitude \u001b[0m\u001b[1m Depth/Km \u001b[0m\u001b[1m Author \u001b[0m\u001b[1m Catalog \u001b[0m\u001b[1m Con\u001b[0m ⋯\n",
       "     │\u001b[90m Int64    \u001b[0m\u001b[90m DateTime \u001b[0m\u001b[90m Float64  \u001b[0m\u001b[90m Float64   \u001b[0m\u001b[90m Float64  \u001b[0m\u001b[90m String \u001b[0m\u001b[90m Missing \u001b[0m\u001b[90m Mis\u001b[0m ⋯\n",
       "─────┴──────────────────────────────────────────────────────────────────────────\n",
       "\u001b[36m                                                               7 columns omitted\u001b[0m"
      ]
     },
     "metadata": {},
     "output_type": "display_data"
    }
   ],
   "source": [
    "year = 1985\n",
    "month = 1\n",
    "url = \"http://webservices.ingv.it/fdsnws/event/1/query?starttime=\" * string(year) * startDate[month] * \"T00%3A00%3A00&endtime=\" * string(year) * endDate[month] * \"T23%3A59%3A59&minversion=100&orderby=time-asc&timezone=UTC&format=text&limit=15000\"\n",
    "# put directly into dataframe. Note the delimiter:\"|\" and forcing the String to String\n",
    "dataset = CSV.read(download(url), DataFrame, delim=\"|\",stringtype=String)\n",
    "# Initialize dataframe with proper columns and columns typt\n",
    "italy = similar(dataset,0)\n"
   ]
  },
  {
   "cell_type": "code",
   "execution_count": 60,
   "metadata": {},
   "outputs": [
    {
     "data": {
      "text/html": [
       "<div><div style = \"float: left;\"><span>0×7 DataFrame</span></div><div style = \"clear: both;\"></div></div><div class = \"data-frame\" style = \"overflow-x: scroll;\"><table class = \"data-frame\" style = \"margin-bottom: 6px;\"><thead><tr class = \"header\"><th class = \"rowNumber\" style = \"font-weight: bold; text-align: right;\">Row</th><th style = \"text-align: left;\">Time</th><th style = \"text-align: left;\">Latitude</th><th style = \"text-align: left;\">Longitude</th><th style = \"text-align: left;\">Depth/Km</th><th style = \"text-align: left;\">MagType</th><th style = \"text-align: left;\">Magnitude</th><th style = \"text-align: left;\">EventType</th></tr><tr class = \"subheader headerLastRow\"><th class = \"rowNumber\" style = \"font-weight: bold; text-align: right;\"></th><th title = \"String\" style = \"text-align: left;\">String</th><th title = \"Float64\" style = \"text-align: left;\">Float64</th><th title = \"Float64\" style = \"text-align: left;\">Float64</th><th title = \"Float64\" style = \"text-align: left;\">Float64</th><th title = \"String\" style = \"text-align: left;\">String</th><th title = \"Float64\" style = \"text-align: left;\">Float64</th><th title = \"String\" style = \"text-align: left;\">String</th></tr></thead><tbody></tbody></table></div>"
      ],
      "text/latex": [
       "\\begin{tabular}{r|ccccccc}\n",
       "\t& Time & Latitude & Longitude & Depth/Km & MagType & Magnitude & EventType\\\\\n",
       "\t\\hline\n",
       "\t& String & Float64 & Float64 & Float64 & String & Float64 & String\\\\\n",
       "\t\\hline\n",
       "\\end{tabular}\n"
      ],
      "text/plain": [
       "\u001b[1m0×7 DataFrame\u001b[0m\n",
       "\u001b[1m Row \u001b[0m│\u001b[1m Time   \u001b[0m\u001b[1m Latitude \u001b[0m\u001b[1m Longitude \u001b[0m\u001b[1m Depth/Km \u001b[0m\u001b[1m MagType \u001b[0m\u001b[1m Magnitude \u001b[0m\u001b[1m EventType \u001b[0m\n",
       "     │\u001b[90m String \u001b[0m\u001b[90m Float64  \u001b[0m\u001b[90m Float64   \u001b[0m\u001b[90m Float64  \u001b[0m\u001b[90m String  \u001b[0m\u001b[90m Float64   \u001b[0m\u001b[90m String    \u001b[0m\n",
       "─────┴──────────────────────────────────────────────────────────────────────"
      ]
     },
     "metadata": {},
     "output_type": "display_data"
    }
   ],
   "source": [
    "# year = 1985\n",
    "# month = 1\n",
    "# url = \"http://webservices.ingv.it/fdsnws/event/1/query?starttime=\" * string(year) * startDate[month] * \"T00%3A00%3A00&endtime=\" * string(year) * endDate[month] * \"T23%3A59%3A59&minversion=100&orderby=time-asc&timezone=UTC&format=text&limit=15000\"\n",
    "# # put directly into dataframe. Note the delimiter:\"|\" and forcing the String to String\n",
    "# dataset = CSV.read(download(url), DataFrame, delim=\"|\", stringtype=String, \n",
    "#         select=[:Time, :Latitude, :Longitude, Symbol(\"Depth/Km\"), :MagType, :Magnitude, :EventType], \n",
    "#         types=Dict(:Time=>String, :Latitude=>Float64, :Longitude=>Float64, Symbol(\"Depth/Km\")=>Float64, :MagType=>String, :Magnitude=>Float64, :EventType=>String)) \n",
    "# # Initialize dataframe with proper columns and columns typt\n",
    "# italy = similar(dataset,0)"
   ]
  },
  {
   "cell_type": "code",
   "execution_count": 91,
   "metadata": {},
   "outputs": [
    {
     "data": {
      "text/html": [
       "<div><div style = \"float: left;\"><span>0×7 DataFrame</span></div><div style = \"clear: both;\"></div></div><div class = \"data-frame\" style = \"overflow-x: scroll;\"><table class = \"data-frame\" style = \"margin-bottom: 6px;\"><thead><tr class = \"header\"><th class = \"rowNumber\" style = \"font-weight: bold; text-align: right;\">Row</th><th style = \"text-align: left;\">Time</th><th style = \"text-align: left;\">Latitude</th><th style = \"text-align: left;\">Longitude</th><th style = \"text-align: left;\">Depth/Km</th><th style = \"text-align: left;\">MagType</th><th style = \"text-align: left;\">Magnitude</th><th style = \"text-align: left;\">EventType</th></tr><tr class = \"subheader headerLastRow\"><th class = \"rowNumber\" style = \"font-weight: bold; text-align: right;\"></th><th title = \"String\" style = \"text-align: left;\">String</th><th title = \"Float64\" style = \"text-align: left;\">Float64</th><th title = \"Float64\" style = \"text-align: left;\">Float64</th><th title = \"Float64\" style = \"text-align: left;\">Float64</th><th title = \"String\" style = \"text-align: left;\">String</th><th title = \"Float64\" style = \"text-align: left;\">Float64</th><th title = \"String\" style = \"text-align: left;\">String</th></tr></thead><tbody></tbody></table></div>"
      ],
      "text/latex": [
       "\\begin{tabular}{r|ccccccc}\n",
       "\t& Time & Latitude & Longitude & Depth/Km & MagType & Magnitude & EventType\\\\\n",
       "\t\\hline\n",
       "\t& String & Float64 & Float64 & Float64 & String & Float64 & String\\\\\n",
       "\t\\hline\n",
       "\\end{tabular}\n"
      ],
      "text/plain": [
       "\u001b[1m0×7 DataFrame\u001b[0m\n",
       "\u001b[1m Row \u001b[0m│\u001b[1m Time   \u001b[0m\u001b[1m Latitude \u001b[0m\u001b[1m Longitude \u001b[0m\u001b[1m Depth/Km \u001b[0m\u001b[1m MagType \u001b[0m\u001b[1m Magnitude \u001b[0m\u001b[1m EventType \u001b[0m\n",
       "     │\u001b[90m String \u001b[0m\u001b[90m Float64  \u001b[0m\u001b[90m Float64   \u001b[0m\u001b[90m Float64  \u001b[0m\u001b[90m String  \u001b[0m\u001b[90m Float64   \u001b[0m\u001b[90m String    \u001b[0m\n",
       "─────┴──────────────────────────────────────────────────────────────────────"
      ]
     },
     "metadata": {},
     "output_type": "display_data"
    }
   ],
   "source": [
    "year = 1985\n",
    "month = 1\n",
    "url = \"http://webservices.ingv.it/fdsnws/event/1/query?starttime=\" * string(year) * startDate[month] * \"T00%3A00%3A00&endtime=\" * string(year) * endDate[month] * \"T23%3A59%3A59&minversion=100&orderby=time-asc&timezone=UTC&format=text&limit=15000\"\n",
    "# put directly into dataframe. Note the delimiter:\"|\" and forcing the String to String\n",
    "dataset = CSV.read(download(url), DataFrame, delim=\"|\", stringtype=String, \n",
    "        select=[:Time, :Latitude, :Longitude, Symbol(\"Depth/Km\"), :MagType, :Magnitude, :EventType], \n",
    "        types=Dict(:Time=>String))#, :Latitude=>Float64, :Longitude=>Float64, :MagType=>String, :Magnitude=>Float64, :EventType=>String)) \n",
    "# Initialize dataframe with proper columns and columns typt\n",
    "italy = similar(dataset,0)"
   ]
  },
  {
   "cell_type": "code",
   "execution_count": null,
   "metadata": {},
   "outputs": [],
   "source": [
    "# Parse through years\n",
    "for year=1985:2023\n",
    "    # Parse through months\n",
    "    for month=1:12\n",
    "        filename = string(year) * \"-\" * string(month)\n",
    "        filepath = \"./output/\" * filename\n",
    "        url = \"http://webservices.ingv.it/fdsnws/event/1/query?starttime=\" * string(year) * startDate[month] * \"T00%3A00%3A00&endtime=\" * string(year) * endDate[month] * \"T23%3A59%3A59&minversion=100&orderby=time-asc&timezone=UTC&format=text&limit=15000\"\n",
    "        \n",
    "        # download(url,filepath)\n",
    "        df = CSV.read(download(url), DataFrame, delim=\"|\", stringtype=String,\n",
    "                select=[:Time, :Latitude, :Longitude, Symbol(\"Depth/Km\"), :MagType, :Magnitude, :EventType], \n",
    "                types=Dict(:Time=>String), #, :Latitude=>Float64, :Longitude=>Float64, Symbol(\"Depth/Km\")=>Float64, :MagType=>String, :Magnitude=>Float64, :EventType=>String)) \n",
    "                validate=false)\n",
    "        append!(italy,df);\n",
    "    end\n",
    "end"
   ]
  },
  {
   "cell_type": "code",
   "execution_count": null,
   "metadata": {},
   "outputs": [],
   "source": [
    "italy.Time = chop.(italy.Time, tail=3)\n",
    "italy.Time = DateTime.(italy.Time)\n",
    "\n",
    "italy = italy[italy.EventType .== \"earthquake\", :]"
   ]
  },
  {
   "cell_type": "code",
   "execution_count": 93,
   "metadata": {},
   "outputs": [
    {
     "data": {
      "text/html": [
       "<div><div style = \"float: left;\"><span>417708×7 DataFrame</span></div><div style = \"float: right;\"><span style = \"font-style: italic;\">417683 rows omitted</span></div><div style = \"clear: both;\"></div></div><div class = \"data-frame\" style = \"overflow-x: scroll;\"><table class = \"data-frame\" style = \"margin-bottom: 6px;\"><thead><tr class = \"header\"><th class = \"rowNumber\" style = \"font-weight: bold; text-align: right;\">Row</th><th style = \"text-align: left;\">Datetime</th><th style = \"text-align: left;\">Latitude</th><th style = \"text-align: left;\">Longitude</th><th style = \"text-align: left;\">Depth</th><th style = \"text-align: left;\">Magnitude_Type</th><th style = \"text-align: left;\">Magnitude</th><th style = \"text-align: left;\">Event_Type</th></tr><tr class = \"subheader headerLastRow\"><th class = \"rowNumber\" style = \"font-weight: bold; text-align: right;\"></th><th title = \"DateTime\" style = \"text-align: left;\">DateTime</th><th title = \"Float64\" style = \"text-align: left;\">Float64</th><th title = \"Float64\" style = \"text-align: left;\">Float64</th><th title = \"Float64\" style = \"text-align: left;\">Float64</th><th title = \"String\" style = \"text-align: left;\">String</th><th title = \"Float64\" style = \"text-align: left;\">Float64</th><th title = \"String\" style = \"text-align: left;\">String</th></tr></thead><tbody><tr><td class = \"rowNumber\" style = \"font-weight: bold; text-align: right;\">1</td><td style = \"text-align: left;\">1985-01-02T18:39:30.740</td><td style = \"text-align: right;\">48.092</td><td style = \"text-align: right;\">7.061</td><td style = \"text-align: right;\">10.0</td><td style = \"text-align: left;\">M</td><td style = \"text-align: right;\">4.0</td><td style = \"text-align: left;\">earthquake</td></tr><tr><td class = \"rowNumber\" style = \"font-weight: bold; text-align: right;\">2</td><td style = \"text-align: left;\">1985-01-02T22:57:43.090</td><td style = \"text-align: right;\">41.715</td><td style = \"text-align: right;\">13.941</td><td style = \"text-align: right;\">5.8</td><td style = \"text-align: left;\">Md</td><td style = \"text-align: right;\">2.6</td><td style = \"text-align: left;\">earthquake</td></tr><tr><td class = \"rowNumber\" style = \"font-weight: bold; text-align: right;\">3</td><td style = \"text-align: left;\">1985-01-03T00:46:16.990</td><td style = \"text-align: right;\">41.677</td><td style = \"text-align: right;\">13.931</td><td style = \"text-align: right;\">6.1</td><td style = \"text-align: left;\">Md</td><td style = \"text-align: right;\">2.5</td><td style = \"text-align: left;\">earthquake</td></tr><tr><td class = \"rowNumber\" style = \"font-weight: bold; text-align: right;\">4</td><td style = \"text-align: left;\">1985-01-04T16:57:40.240</td><td style = \"text-align: right;\">46.158</td><td style = \"text-align: right;\">7.174</td><td style = \"text-align: right;\">10.0</td><td style = \"text-align: left;\">M</td><td style = \"text-align: right;\">3.8</td><td style = \"text-align: left;\">earthquake</td></tr><tr><td class = \"rowNumber\" style = \"font-weight: bold; text-align: right;\">5</td><td style = \"text-align: left;\">1985-01-04T23:59:54.820</td><td style = \"text-align: right;\">45.338</td><td style = \"text-align: right;\">6.641</td><td style = \"text-align: right;\">5.0</td><td style = \"text-align: left;\">M</td><td style = \"text-align: right;\">3.7</td><td style = \"text-align: left;\">earthquake</td></tr><tr><td class = \"rowNumber\" style = \"font-weight: bold; text-align: right;\">6</td><td style = \"text-align: left;\">1985-01-05T03:47:03.640</td><td style = \"text-align: right;\">45.409</td><td style = \"text-align: right;\">6.627</td><td style = \"text-align: right;\">10.0</td><td style = \"text-align: left;\">M</td><td style = \"text-align: right;\">3.2</td><td style = \"text-align: left;\">earthquake</td></tr><tr><td class = \"rowNumber\" style = \"font-weight: bold; text-align: right;\">7</td><td style = \"text-align: left;\">1985-01-05T08:32:41.900</td><td style = \"text-align: right;\">43.056</td><td style = \"text-align: right;\">13.139</td><td style = \"text-align: right;\">2.8</td><td style = \"text-align: left;\">Md</td><td style = \"text-align: right;\">2.6</td><td style = \"text-align: left;\">earthquake</td></tr><tr><td class = \"rowNumber\" style = \"font-weight: bold; text-align: right;\">8</td><td style = \"text-align: left;\">1985-01-05T10:13:26.800</td><td style = \"text-align: right;\">45.15</td><td style = \"text-align: right;\">7.86</td><td style = \"text-align: right;\">20.8</td><td style = \"text-align: left;\">Md</td><td style = \"text-align: right;\">2.2</td><td style = \"text-align: left;\">earthquake</td></tr><tr><td class = \"rowNumber\" style = \"font-weight: bold; text-align: right;\">9</td><td style = \"text-align: left;\">1985-01-05T13:06:33.110</td><td style = \"text-align: right;\">42.62</td><td style = \"text-align: right;\">22.312</td><td style = \"text-align: right;\">10.0</td><td style = \"text-align: left;\">M</td><td style = \"text-align: right;\">4.5</td><td style = \"text-align: left;\">earthquake</td></tr><tr><td class = \"rowNumber\" style = \"font-weight: bold; text-align: right;\">10</td><td style = \"text-align: left;\">1985-01-06T03:52:23.380</td><td style = \"text-align: right;\">43.357</td><td style = \"text-align: right;\">12.537</td><td style = \"text-align: right;\">10.0</td><td style = \"text-align: left;\">Md</td><td style = \"text-align: right;\">2.4</td><td style = \"text-align: left;\">earthquake</td></tr><tr><td class = \"rowNumber\" style = \"font-weight: bold; text-align: right;\">11</td><td style = \"text-align: left;\">1985-01-06T04:19:36.650</td><td style = \"text-align: right;\">43.37</td><td style = \"text-align: right;\">12.545</td><td style = \"text-align: right;\">10.0</td><td style = \"text-align: left;\">Md</td><td style = \"text-align: right;\">2.3</td><td style = \"text-align: left;\">earthquake</td></tr><tr><td class = \"rowNumber\" style = \"font-weight: bold; text-align: right;\">12</td><td style = \"text-align: left;\">1985-01-06T14:38:40.570</td><td style = \"text-align: right;\">41.781</td><td style = \"text-align: right;\">13.857</td><td style = \"text-align: right;\">15.5</td><td style = \"text-align: left;\">Md</td><td style = \"text-align: right;\">2.4</td><td style = \"text-align: left;\">earthquake</td></tr><tr><td class = \"rowNumber\" style = \"font-weight: bold; text-align: right;\">13</td><td style = \"text-align: left;\">1985-01-06T17:22:58.540</td><td style = \"text-align: right;\">39.291</td><td style = \"text-align: right;\">16.765</td><td style = \"text-align: right;\">5.0</td><td style = \"text-align: left;\">Md</td><td style = \"text-align: right;\">3.0</td><td style = \"text-align: left;\">earthquake</td></tr><tr><td style = \"text-align: right;\">&vellip;</td><td style = \"text-align: right;\">&vellip;</td><td style = \"text-align: right;\">&vellip;</td><td style = \"text-align: right;\">&vellip;</td><td style = \"text-align: right;\">&vellip;</td><td style = \"text-align: right;\">&vellip;</td><td style = \"text-align: right;\">&vellip;</td><td style = \"text-align: right;\">&vellip;</td></tr><tr><td class = \"rowNumber\" style = \"font-weight: bold; text-align: right;\">417697</td><td style = \"text-align: left;\">2023-02-14T12:33:01.710</td><td style = \"text-align: right;\">44.1448</td><td style = \"text-align: right;\">12.3295</td><td style = \"text-align: right;\">10.6</td><td style = \"text-align: left;\">ML</td><td style = \"text-align: right;\">1.4</td><td style = \"text-align: left;\">earthquake</td></tr><tr><td class = \"rowNumber\" style = \"font-weight: bold; text-align: right;\">417698</td><td style = \"text-align: left;\">2023-02-14T13:16:52.687</td><td style = \"text-align: right;\">45.0932</td><td style = \"text-align: right;\">23.2446</td><td style = \"text-align: right;\">10.0</td><td style = \"text-align: left;\">Mwp</td><td style = \"text-align: right;\">5.8</td><td style = \"text-align: left;\">earthquake</td></tr><tr><td class = \"rowNumber\" style = \"font-weight: bold; text-align: right;\">417699</td><td style = \"text-align: left;\">2023-02-14T13:55:24.580</td><td style = \"text-align: right;\">42.2878</td><td style = \"text-align: right;\">13.5265</td><td style = \"text-align: right;\">16.2</td><td style = \"text-align: left;\">ML</td><td style = \"text-align: right;\">2.2</td><td style = \"text-align: left;\">earthquake</td></tr><tr><td class = \"rowNumber\" style = \"font-weight: bold; text-align: right;\">417700</td><td style = \"text-align: left;\">2023-02-14T14:12:53.680</td><td style = \"text-align: right;\">40.8237</td><td style = \"text-align: right;\">14.0843</td><td style = \"text-align: right;\">3.9</td><td style = \"text-align: left;\">Md</td><td style = \"text-align: right;\">1.0</td><td style = \"text-align: left;\">earthquake</td></tr><tr><td class = \"rowNumber\" style = \"font-weight: bold; text-align: right;\">417701</td><td style = \"text-align: left;\">2023-02-14T14:19:07.230</td><td style = \"text-align: right;\">43.4468</td><td style = \"text-align: right;\">12.481</td><td style = \"text-align: right;\">8.1</td><td style = \"text-align: left;\">ML</td><td style = \"text-align: right;\">0.8</td><td style = \"text-align: left;\">earthquake</td></tr><tr><td class = \"rowNumber\" style = \"font-weight: bold; text-align: right;\">417702</td><td style = \"text-align: left;\">2023-02-14T14:30:30.420</td><td style = \"text-align: right;\">43.3677</td><td style = \"text-align: right;\">12.5153</td><td style = \"text-align: right;\">7.1</td><td style = \"text-align: left;\">ML</td><td style = \"text-align: right;\">1.3</td><td style = \"text-align: left;\">earthquake</td></tr><tr><td class = \"rowNumber\" style = \"font-weight: bold; text-align: right;\">417703</td><td style = \"text-align: left;\">2023-02-14T14:40:12.080</td><td style = \"text-align: right;\">38.7867</td><td style = \"text-align: right;\">13.0107</td><td style = \"text-align: right;\">11.5</td><td style = \"text-align: left;\">ML</td><td style = \"text-align: right;\">2.1</td><td style = \"text-align: left;\">earthquake</td></tr><tr><td class = \"rowNumber\" style = \"font-weight: bold; text-align: right;\">417704</td><td style = \"text-align: left;\">2023-02-14T14:41:42.540</td><td style = \"text-align: right;\">42.9273</td><td style = \"text-align: right;\">13.0018</td><td style = \"text-align: right;\">11.0</td><td style = \"text-align: left;\">ML</td><td style = \"text-align: right;\">0.5</td><td style = \"text-align: left;\">earthquake</td></tr><tr><td class = \"rowNumber\" style = \"font-weight: bold; text-align: right;\">417705</td><td style = \"text-align: left;\">2023-02-14T14:53:45.100</td><td style = \"text-align: right;\">44.0338</td><td style = \"text-align: right;\">10.7152</td><td style = \"text-align: right;\">5.6</td><td style = \"text-align: left;\">ML</td><td style = \"text-align: right;\">0.5</td><td style = \"text-align: left;\">earthquake</td></tr><tr><td class = \"rowNumber\" style = \"font-weight: bold; text-align: right;\">417706</td><td style = \"text-align: left;\">2023-02-14T15:42:29.540</td><td style = \"text-align: right;\">42.824</td><td style = \"text-align: right;\">13.0422</td><td style = \"text-align: right;\">11.0</td><td style = \"text-align: left;\">ML</td><td style = \"text-align: right;\">0.9</td><td style = \"text-align: left;\">earthquake</td></tr><tr><td class = \"rowNumber\" style = \"font-weight: bold; text-align: right;\">417707</td><td style = \"text-align: left;\">2023-02-14T16:16:35.070</td><td style = \"text-align: right;\">42.8883</td><td style = \"text-align: right;\">13.0218</td><td style = \"text-align: right;\">9.8</td><td style = \"text-align: left;\">ML</td><td style = \"text-align: right;\">1.5</td><td style = \"text-align: left;\">earthquake</td></tr><tr><td class = \"rowNumber\" style = \"font-weight: bold; text-align: right;\">417708</td><td style = \"text-align: left;\">2023-02-14T16:27:39.910</td><td style = \"text-align: right;\">37.4142</td><td style = \"text-align: right;\">13.9282</td><td style = \"text-align: right;\">37.8</td><td style = \"text-align: left;\">ML</td><td style = \"text-align: right;\">2.1</td><td style = \"text-align: left;\">earthquake</td></tr></tbody></table></div>"
      ],
      "text/latex": [
       "\\begin{tabular}{r|ccccccc}\n",
       "\t& Datetime & Latitude & Longitude & Depth & Magnitude\\_Type & Magnitude & \\\\\n",
       "\t\\hline\n",
       "\t& DateTime & Float64 & Float64 & Float64 & String & Float64 & \\\\\n",
       "\t\\hline\n",
       "\t1 & 1985-01-02T18:39:30.740 & 48.092 & 7.061 & 10.0 & M & 4.0 & $\\dots$ \\\\\n",
       "\t2 & 1985-01-02T22:57:43.090 & 41.715 & 13.941 & 5.8 & Md & 2.6 & $\\dots$ \\\\\n",
       "\t3 & 1985-01-03T00:46:16.990 & 41.677 & 13.931 & 6.1 & Md & 2.5 & $\\dots$ \\\\\n",
       "\t4 & 1985-01-04T16:57:40.240 & 46.158 & 7.174 & 10.0 & M & 3.8 & $\\dots$ \\\\\n",
       "\t5 & 1985-01-04T23:59:54.820 & 45.338 & 6.641 & 5.0 & M & 3.7 & $\\dots$ \\\\\n",
       "\t6 & 1985-01-05T03:47:03.640 & 45.409 & 6.627 & 10.0 & M & 3.2 & $\\dots$ \\\\\n",
       "\t7 & 1985-01-05T08:32:41.900 & 43.056 & 13.139 & 2.8 & Md & 2.6 & $\\dots$ \\\\\n",
       "\t8 & 1985-01-05T10:13:26.800 & 45.15 & 7.86 & 20.8 & Md & 2.2 & $\\dots$ \\\\\n",
       "\t9 & 1985-01-05T13:06:33.110 & 42.62 & 22.312 & 10.0 & M & 4.5 & $\\dots$ \\\\\n",
       "\t10 & 1985-01-06T03:52:23.380 & 43.357 & 12.537 & 10.0 & Md & 2.4 & $\\dots$ \\\\\n",
       "\t11 & 1985-01-06T04:19:36.650 & 43.37 & 12.545 & 10.0 & Md & 2.3 & $\\dots$ \\\\\n",
       "\t12 & 1985-01-06T14:38:40.570 & 41.781 & 13.857 & 15.5 & Md & 2.4 & $\\dots$ \\\\\n",
       "\t13 & 1985-01-06T17:22:58.540 & 39.291 & 16.765 & 5.0 & Md & 3.0 & $\\dots$ \\\\\n",
       "\t14 & 1985-01-06T21:53:50.520 & 41.936 & 13.937 & 10.0 & Md & 2.5 & $\\dots$ \\\\\n",
       "\t15 & 1985-01-07T00:34:49.290 & 43.225 & 12.73 & 10.0 & Md & 3.0 & $\\dots$ \\\\\n",
       "\t16 & 1985-01-07T07:33:56.810 & 43.358 & 12.539 & 10.0 & Md & 2.4 & $\\dots$ \\\\\n",
       "\t17 & 1985-01-07T11:07:55.060 & 44.222 & 6.778 & 10.0 & M & 3.0 & $\\dots$ \\\\\n",
       "\t18 & 1985-01-07T20:14:45.970 & 37.672 & 15.513 & 85.2 & Md & 2.8 & $\\dots$ \\\\\n",
       "\t19 & 1985-01-07T21:23:35.650 & 37.539 & 15.579 & 75.4 & Md & 2.6 & $\\dots$ \\\\\n",
       "\t20 & 1985-01-08T04:03:09.590 & 46.368 & 13.184 & 2.6 & Md & 2.5 & $\\dots$ \\\\\n",
       "\t21 & 1985-01-08T08:30:13.150 & 41.975 & 16.222 & 10.0 & Md & 2.8 & $\\dots$ \\\\\n",
       "\t22 & 1985-01-08T22:06:13.070 & 45.753 & 12.951 & 10.0 & Md & 2.5 & $\\dots$ \\\\\n",
       "\t23 & 1985-01-08T23:33:34.130 & 43.303 & 12.55 & 10.0 & Md & 3.6 & $\\dots$ \\\\\n",
       "\t24 & 1985-01-08T23:38:35.790 & 43.371 & 12.585 & 10.0 & Md & 2.3 & $\\dots$ \\\\\n",
       "\t$\\dots$ & $\\dots$ & $\\dots$ & $\\dots$ & $\\dots$ & $\\dots$ & $\\dots$ &  \\\\\n",
       "\\end{tabular}\n"
      ],
      "text/plain": [
       "\u001b[1m417708×7 DataFrame\u001b[0m\n",
       "\u001b[1m    Row \u001b[0m│\u001b[1m Datetime                \u001b[0m\u001b[1m Latitude \u001b[0m\u001b[1m Longitude \u001b[0m\u001b[1m Depth   \u001b[0m\u001b[1m Magnitude_Typ\u001b[0m ⋯\n",
       "        │\u001b[90m DateTime                \u001b[0m\u001b[90m Float64  \u001b[0m\u001b[90m Float64   \u001b[0m\u001b[90m Float64 \u001b[0m\u001b[90m String       \u001b[0m ⋯\n",
       "────────┼───────────────────────────────────────────────────────────────────────\n",
       "      1 │ 1985-01-02T18:39:30.740   48.092      7.061      10.0  M             ⋯\n",
       "      2 │ 1985-01-02T22:57:43.090   41.715     13.941       5.8  Md\n",
       "      3 │ 1985-01-03T00:46:16.990   41.677     13.931       6.1  Md\n",
       "      4 │ 1985-01-04T16:57:40.240   46.158      7.174      10.0  M\n",
       "      5 │ 1985-01-04T23:59:54.820   45.338      6.641       5.0  M             ⋯\n",
       "      6 │ 1985-01-05T03:47:03.640   45.409      6.627      10.0  M\n",
       "      7 │ 1985-01-05T08:32:41.900   43.056     13.139       2.8  Md\n",
       "      8 │ 1985-01-05T10:13:26.800   45.15       7.86       20.8  Md\n",
       "   ⋮    │            ⋮                ⋮          ⋮         ⋮           ⋮       ⋱\n",
       " 417702 │ 2023-02-14T14:30:30.420   43.3677    12.5153      7.1  ML            ⋯\n",
       " 417703 │ 2023-02-14T14:40:12.080   38.7867    13.0107     11.5  ML\n",
       " 417704 │ 2023-02-14T14:41:42.540   42.9273    13.0018     11.0  ML\n",
       " 417705 │ 2023-02-14T14:53:45.100   44.0338    10.7152      5.6  ML\n",
       " 417706 │ 2023-02-14T15:42:29.540   42.824     13.0422     11.0  ML            ⋯\n",
       " 417707 │ 2023-02-14T16:16:35.070   42.8883    13.0218      9.8  ML\n",
       " 417708 │ 2023-02-14T16:27:39.910   37.4142    13.9282     37.8  ML\n",
       "\u001b[36m                                               3 columns and 417693 rows omitted\u001b[0m"
      ]
     },
     "metadata": {},
     "output_type": "display_data"
    }
   ],
   "source": [
    "rename!(italy,:Time => :Datetime, Symbol(\"Depth/Km\") => :Depth, :MagType => :Magnitude_Type, :EventType => :Event_Type )"
   ]
  },
  {
   "cell_type": "code",
   "execution_count": 80,
   "metadata": {},
   "outputs": [
    {
     "data": {
      "text/plain": [
       "\"../../data/italy.csv\""
      ]
     },
     "metadata": {},
     "output_type": "display_data"
    }
   ],
   "source": [
    "CSV.write(\"../../data/italy.csv\", italy)"
   ]
  },
  {
   "cell_type": "code",
   "execution_count": null,
   "metadata": {},
   "outputs": [],
   "source": []
  }
 ],
 "metadata": {
  "kernelspec": {
   "display_name": "Julia 1.8.5",
   "language": "julia",
   "name": "julia-1.8"
  },
  "language_info": {
   "file_extension": ".jl",
   "mimetype": "application/julia",
   "name": "julia",
   "version": "1.8.5"
  },
  "orig_nbformat": 4,
  "vscode": {
   "interpreter": {
    "hash": "0f70a35dd2b85e0fbdf740964da3dda7ef418e2ba19e1da9e3dbc65ae5d9559a"
   }
  }
 },
 "nbformat": 4,
 "nbformat_minor": 2
}
