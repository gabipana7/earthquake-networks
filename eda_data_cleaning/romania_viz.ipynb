{
 "cells": [
  {
   "cell_type": "code",
   "execution_count": 1,
   "metadata": {},
   "outputs": [],
   "source": [
    "using CSV, DataFrames, Dates\n",
    "using FileIO\n",
    "# using LaTeXStrings"
   ]
  },
  {
   "cell_type": "code",
   "execution_count": 2,
   "metadata": {},
   "outputs": [
    {
     "data": {
      "text/html": [
       "<div><div style = \"float: left;\"><span>31383×5 DataFrame</span></div><div style = \"float: right;\"><span style = \"font-style: italic;\">31358 rows omitted</span></div><div style = \"clear: both;\"></div></div><div class = \"data-frame\" style = \"overflow-x: scroll;\"><table class = \"data-frame\" style = \"margin-bottom: 6px;\"><thead><tr class = \"header\"><th class = \"rowNumber\" style = \"font-weight: bold; text-align: right;\">Row</th><th style = \"text-align: left;\">Datetime</th><th style = \"text-align: left;\">Latitude</th><th style = \"text-align: left;\">Longitude</th><th style = \"text-align: left;\">Depth</th><th style = \"text-align: left;\">Magnitude</th></tr><tr class = \"subheader headerLastRow\"><th class = \"rowNumber\" style = \"font-weight: bold; text-align: right;\"></th><th title = \"DateTime\" style = \"text-align: left;\">DateTime</th><th title = \"Float64\" style = \"text-align: left;\">Float64</th><th title = \"Float64\" style = \"text-align: left;\">Float64</th><th title = \"Float64\" style = \"text-align: left;\">Float64</th><th title = \"Float64\" style = \"text-align: left;\">Float64</th></tr></thead><tbody><tr><td class = \"rowNumber\" style = \"font-weight: bold; text-align: right;\">1</td><td style = \"text-align: left;\">1976-02-03T13:29:16.400</td><td style = \"text-align: right;\">45.32</td><td style = \"text-align: right;\">25.99</td><td style = \"text-align: right;\">184.3</td><td style = \"text-align: right;\">2.6</td></tr><tr><td class = \"rowNumber\" style = \"font-weight: bold; text-align: right;\">2</td><td style = \"text-align: left;\">1976-08-19T19:03:00.800</td><td style = \"text-align: right;\">45.54</td><td style = \"text-align: right;\">26.37</td><td style = \"text-align: right;\">162.0</td><td style = \"text-align: right;\">2.3</td></tr><tr><td class = \"rowNumber\" style = \"font-weight: bold; text-align: right;\">3</td><td style = \"text-align: left;\">1976-09-07T17:38:08.200</td><td style = \"text-align: right;\">45.62</td><td style = \"text-align: right;\">26.5</td><td style = \"text-align: right;\">155.3</td><td style = \"text-align: right;\">3.6</td></tr><tr><td class = \"rowNumber\" style = \"font-weight: bold; text-align: right;\">4</td><td style = \"text-align: left;\">1976-10-01T17:50:43.200</td><td style = \"text-align: right;\">45.68</td><td style = \"text-align: right;\">26.49</td><td style = \"text-align: right;\">146.0</td><td style = \"text-align: right;\">6.0</td></tr><tr><td class = \"rowNumber\" style = \"font-weight: bold; text-align: right;\">5</td><td style = \"text-align: left;\">1976-10-15T10:54:48</td><td style = \"text-align: right;\">47.1</td><td style = \"text-align: right;\">25.6</td><td style = \"text-align: right;\">17.0</td><td style = \"text-align: right;\">3.9</td></tr><tr><td class = \"rowNumber\" style = \"font-weight: bold; text-align: right;\">6</td><td style = \"text-align: left;\">1977-03-04T19:21:54.100</td><td style = \"text-align: right;\">45.77</td><td style = \"text-align: right;\">26.76</td><td style = \"text-align: right;\">94.0</td><td style = \"text-align: right;\">7.4</td></tr><tr><td class = \"rowNumber\" style = \"font-weight: bold; text-align: right;\">7</td><td style = \"text-align: left;\">1977-03-04T21:21:01.100</td><td style = \"text-align: right;\">45.22</td><td style = \"text-align: right;\">26.65</td><td style = \"text-align: right;\">141.0</td><td style = \"text-align: right;\">3.0</td></tr><tr><td class = \"rowNumber\" style = \"font-weight: bold; text-align: right;\">8</td><td style = \"text-align: left;\">1977-03-04T21:28:07.400</td><td style = \"text-align: right;\">45.23</td><td style = \"text-align: right;\">26.87</td><td style = \"text-align: right;\">22.0</td><td style = \"text-align: right;\">1.5</td></tr><tr><td class = \"rowNumber\" style = \"font-weight: bold; text-align: right;\">9</td><td style = \"text-align: left;\">1977-03-04T23:17:14</td><td style = \"text-align: right;\">45.0</td><td style = \"text-align: right;\">27.2</td><td style = \"text-align: right;\">33.0</td><td style = \"text-align: right;\">2.5</td></tr><tr><td class = \"rowNumber\" style = \"font-weight: bold; text-align: right;\">10</td><td style = \"text-align: left;\">1977-03-05T00:00:45.900</td><td style = \"text-align: right;\">45.48</td><td style = \"text-align: right;\">27.09</td><td style = \"text-align: right;\">104.2</td><td style = \"text-align: right;\">4.2</td></tr><tr><td class = \"rowNumber\" style = \"font-weight: bold; text-align: right;\">11</td><td style = \"text-align: left;\">1977-03-05T00:08:37.700</td><td style = \"text-align: right;\">45.4</td><td style = \"text-align: right;\">27.16</td><td style = \"text-align: right;\">22.2</td><td style = \"text-align: right;\">3.0</td></tr><tr><td class = \"rowNumber\" style = \"font-weight: bold; text-align: right;\">12</td><td style = \"text-align: left;\">1977-03-05T00:13:04</td><td style = \"text-align: right;\">45.5</td><td style = \"text-align: right;\">27.2</td><td style = \"text-align: right;\">77.0</td><td style = \"text-align: right;\">3.2</td></tr><tr><td class = \"rowNumber\" style = \"font-weight: bold; text-align: right;\">13</td><td style = \"text-align: left;\">1977-03-05T00:47:55.100</td><td style = \"text-align: right;\">45.37</td><td style = \"text-align: right;\">27.31</td><td style = \"text-align: right;\">20.7</td><td style = \"text-align: right;\">2.3</td></tr><tr><td style = \"text-align: right;\">&vellip;</td><td style = \"text-align: right;\">&vellip;</td><td style = \"text-align: right;\">&vellip;</td><td style = \"text-align: right;\">&vellip;</td><td style = \"text-align: right;\">&vellip;</td><td style = \"text-align: right;\">&vellip;</td></tr><tr><td class = \"rowNumber\" style = \"font-weight: bold; text-align: right;\">31372</td><td style = \"text-align: left;\">2022-12-26T13:48:35.860</td><td style = \"text-align: right;\">47.28</td><td style = \"text-align: right;\">23.8104</td><td style = \"text-align: right;\">2.0</td><td style = \"text-align: right;\">2.0</td></tr><tr><td class = \"rowNumber\" style = \"font-weight: bold; text-align: right;\">31373</td><td style = \"text-align: left;\">2022-12-27T16:00:52.890</td><td style = \"text-align: right;\">45.5211</td><td style = \"text-align: right;\">26.4184</td><td style = \"text-align: right;\">110.2</td><td style = \"text-align: right;\">2.5</td></tr><tr><td class = \"rowNumber\" style = \"font-weight: bold; text-align: right;\">31374</td><td style = \"text-align: left;\">2022-12-28T07:38:54.270</td><td style = \"text-align: right;\">45.7505</td><td style = \"text-align: right;\">26.6086</td><td style = \"text-align: right;\">85.2</td><td style = \"text-align: right;\">2.9</td></tr><tr><td class = \"rowNumber\" style = \"font-weight: bold; text-align: right;\">31375</td><td style = \"text-align: left;\">2022-12-28T13:15:05.470</td><td style = \"text-align: right;\">46.3193</td><td style = \"text-align: right;\">23.1806</td><td style = \"text-align: right;\">2.0</td><td style = \"text-align: right;\">1.9</td></tr><tr><td class = \"rowNumber\" style = \"font-weight: bold; text-align: right;\">31376</td><td style = \"text-align: left;\">2022-12-29T02:06:28.320</td><td style = \"text-align: right;\">45.6714</td><td style = \"text-align: right;\">26.6291</td><td style = \"text-align: right;\">134.0</td><td style = \"text-align: right;\">2.8</td></tr><tr><td class = \"rowNumber\" style = \"font-weight: bold; text-align: right;\">31377</td><td style = \"text-align: left;\">2022-12-29T09:28:11.270</td><td style = \"text-align: right;\">45.2972</td><td style = \"text-align: right;\">25.093</td><td style = \"text-align: right;\">2.0</td><td style = \"text-align: right;\">1.5</td></tr><tr><td class = \"rowNumber\" style = \"font-weight: bold; text-align: right;\">31378</td><td style = \"text-align: left;\">2022-12-29T09:42:33.920</td><td style = \"text-align: right;\">45.9596</td><td style = \"text-align: right;\">22.6972</td><td style = \"text-align: right;\">3.3</td><td style = \"text-align: right;\">1.6</td></tr><tr><td class = \"rowNumber\" style = \"font-weight: bold; text-align: right;\">31379</td><td style = \"text-align: left;\">2022-12-29T12:16:03.080</td><td style = \"text-align: right;\">46.3226</td><td style = \"text-align: right;\">23.1438</td><td style = \"text-align: right;\">1.0</td><td style = \"text-align: right;\">1.7</td></tr><tr><td class = \"rowNumber\" style = \"font-weight: bold; text-align: right;\">31380</td><td style = \"text-align: left;\">2022-12-29T13:11:43.570</td><td style = \"text-align: right;\">45.4378</td><td style = \"text-align: right;\">24.1116</td><td style = \"text-align: right;\">11.7</td><td style = \"text-align: right;\">2.1</td></tr><tr><td class = \"rowNumber\" style = \"font-weight: bold; text-align: right;\">31381</td><td style = \"text-align: left;\">2022-12-30T14:23:49.390</td><td style = \"text-align: right;\">45.4639</td><td style = \"text-align: right;\">24.1433</td><td style = \"text-align: right;\">14.0</td><td style = \"text-align: right;\">1.7</td></tr><tr><td class = \"rowNumber\" style = \"font-weight: bold; text-align: right;\">31382</td><td style = \"text-align: left;\">2022-12-31T03:16:48.320</td><td style = \"text-align: right;\">45.4082</td><td style = \"text-align: right;\">24.134</td><td style = \"text-align: right;\">18.2</td><td style = \"text-align: right;\">1.7</td></tr><tr><td class = \"rowNumber\" style = \"font-weight: bold; text-align: right;\">31383</td><td style = \"text-align: left;\">2022-12-31T15:24:39.550</td><td style = \"text-align: right;\">45.0022</td><td style = \"text-align: right;\">22.6597</td><td style = \"text-align: right;\">4.5</td><td style = \"text-align: right;\">2.1</td></tr></tbody></table></div>"
      ],
      "text/latex": [
       "\\begin{tabular}{r|ccccc}\n",
       "\t& Datetime & Latitude & Longitude & Depth & Magnitude\\\\\n",
       "\t\\hline\n",
       "\t& DateTime & Float64 & Float64 & Float64 & Float64\\\\\n",
       "\t\\hline\n",
       "\t1 & 1976-02-03T13:29:16.400 & 45.32 & 25.99 & 184.3 & 2.6 \\\\\n",
       "\t2 & 1976-08-19T19:03:00.800 & 45.54 & 26.37 & 162.0 & 2.3 \\\\\n",
       "\t3 & 1976-09-07T17:38:08.200 & 45.62 & 26.5 & 155.3 & 3.6 \\\\\n",
       "\t4 & 1976-10-01T17:50:43.200 & 45.68 & 26.49 & 146.0 & 6.0 \\\\\n",
       "\t5 & 1976-10-15T10:54:48 & 47.1 & 25.6 & 17.0 & 3.9 \\\\\n",
       "\t6 & 1977-03-04T19:21:54.100 & 45.77 & 26.76 & 94.0 & 7.4 \\\\\n",
       "\t7 & 1977-03-04T21:21:01.100 & 45.22 & 26.65 & 141.0 & 3.0 \\\\\n",
       "\t8 & 1977-03-04T21:28:07.400 & 45.23 & 26.87 & 22.0 & 1.5 \\\\\n",
       "\t9 & 1977-03-04T23:17:14 & 45.0 & 27.2 & 33.0 & 2.5 \\\\\n",
       "\t10 & 1977-03-05T00:00:45.900 & 45.48 & 27.09 & 104.2 & 4.2 \\\\\n",
       "\t11 & 1977-03-05T00:08:37.700 & 45.4 & 27.16 & 22.2 & 3.0 \\\\\n",
       "\t12 & 1977-03-05T00:13:04 & 45.5 & 27.2 & 77.0 & 3.2 \\\\\n",
       "\t13 & 1977-03-05T00:47:55.100 & 45.37 & 27.31 & 20.7 & 2.3 \\\\\n",
       "\t14 & 1977-03-05T02:35:22 & 45.63 & 26.19 & 121.3 & 3.0 \\\\\n",
       "\t15 & 1977-03-05T05:50:13 & 45.19 & 27.2 & 33.0 & 2.6 \\\\\n",
       "\t16 & 1977-03-05T12:08:42 & 45.37 & 26.3 & 124.0 & 3.5 \\\\\n",
       "\t17 & 1977-03-06T13:27:06.300 & 45.83 & 26.63 & 112.3 & 2.6 \\\\\n",
       "\t18 & 1977-03-07T21:21:08.700 & 47.2 & 26.2 & 6.0 & 2.5 \\\\\n",
       "\t19 & 1977-03-07T21:27:16.400 & 47.1 & 26.3 & 2.0 & 2.9 \\\\\n",
       "\t20 & 1977-03-07T21:33:11.700 & 47.1 & 26.1 & 8.0 & 3.3 \\\\\n",
       "\t21 & 1977-03-08T18:44:56.500 & 45.96 & 26.44 & 80.4 & 1.9 \\\\\n",
       "\t22 & 1977-03-09T03:25:27.400 & 45.02 & 26.27 & 25.7 & 2.4 \\\\\n",
       "\t23 & 1977-03-09T03:52:50 & 45.07 & 26.31 & 35.6 & 1.2 \\\\\n",
       "\t24 & 1977-03-09T10:37:29.700 & 45.38 & 27.0 & 108.0 & 3.0 \\\\\n",
       "\t$\\dots$ & $\\dots$ & $\\dots$ & $\\dots$ & $\\dots$ & $\\dots$ \\\\\n",
       "\\end{tabular}\n"
      ],
      "text/plain": [
       "\u001b[1m31383×5 DataFrame\u001b[0m\n",
       "\u001b[1m   Row \u001b[0m│\u001b[1m Datetime                \u001b[0m\u001b[1m Latitude \u001b[0m\u001b[1m Longitude \u001b[0m\u001b[1m Depth   \u001b[0m\u001b[1m Magnitude \u001b[0m\n",
       "       │\u001b[90m DateTime                \u001b[0m\u001b[90m Float64  \u001b[0m\u001b[90m Float64   \u001b[0m\u001b[90m Float64 \u001b[0m\u001b[90m Float64   \u001b[0m\n",
       "───────┼──────────────────────────────────────────────────────────────────\n",
       "     1 │ 1976-02-03T13:29:16.400   45.32      25.99      184.3        2.6\n",
       "     2 │ 1976-08-19T19:03:00.800   45.54      26.37      162.0        2.3\n",
       "     3 │ 1976-09-07T17:38:08.200   45.62      26.5       155.3        3.6\n",
       "     4 │ 1976-10-01T17:50:43.200   45.68      26.49      146.0        6.0\n",
       "     5 │ 1976-10-15T10:54:48       47.1       25.6        17.0        3.9\n",
       "     6 │ 1977-03-04T19:21:54.100   45.77      26.76       94.0        7.4\n",
       "     7 │ 1977-03-04T21:21:01.100   45.22      26.65      141.0        3.0\n",
       "     8 │ 1977-03-04T21:28:07.400   45.23      26.87       22.0        1.5\n",
       "   ⋮   │            ⋮                ⋮          ⋮         ⋮         ⋮\n",
       " 31377 │ 2022-12-29T09:28:11.270   45.2972    25.093       2.0        1.5\n",
       " 31378 │ 2022-12-29T09:42:33.920   45.9596    22.6972      3.3        1.6\n",
       " 31379 │ 2022-12-29T12:16:03.080   46.3226    23.1438      1.0        1.7\n",
       " 31380 │ 2022-12-29T13:11:43.570   45.4378    24.1116     11.7        2.1\n",
       " 31381 │ 2022-12-30T14:23:49.390   45.4639    24.1433     14.0        1.7\n",
       " 31382 │ 2022-12-31T03:16:48.320   45.4082    24.134      18.2        1.7\n",
       " 31383 │ 2022-12-31T15:24:39.550   45.0022    22.6597      4.5        2.1\n",
       "\u001b[36m                                                        31368 rows omitted\u001b[0m"
      ]
     },
     "metadata": {},
     "output_type": "display_data"
    }
   ],
   "source": [
    "romania_full = CSV.read(\"../data/romania.csv\", DataFrame);\n",
    "romania = romania_full[romania_full.Datetime .> DateTime(1976,1,1,0,0,0),:]"
   ]
  },
  {
   "cell_type": "code",
   "execution_count": 3,
   "metadata": {},
   "outputs": [],
   "source": []
  },
  {
   "cell_type": "code",
   "execution_count": 4,
   "metadata": {},
   "outputs": [
    {
     "data": {
      "text/plain": [
       "Dict{String, Float64} with 8 entries:\n",
       "  \"maxLon\"   => 29.84\n",
       "  \"minMag\"   => 0.1\n",
       "  \"minLon\"   => 20.19\n",
       "  \"maxMag\"   => 7.4\n",
       "  \"minLat\"   => 43.5941\n",
       "  \"maxLat\"   => 48.23\n",
       "  \"maxDepth\" => 218.4\n",
       "  \"minDepth\" => 0.0"
      ]
     },
     "metadata": {},
     "output_type": "display_data"
    }
   ],
   "source": [
    "mapcoords= Dict(\"minLat\"=>minimum(romania.Latitude),\n",
    "            \"maxLat\"=>maximum(romania.Latitude),\n",
    "            \"minLon\"=>minimum(romania.Longitude),\n",
    "            \"maxLon\"=>maximum(romania.Longitude),\n",
    "            \"minDepth\"=>minimum(romania.Depth),\n",
    "            \"maxDepth\"=>maximum(romania.Depth),\n",
    "            \"minMag\"=>minimum(romania.Magnitude),\n",
    "            \"maxMag\"=>maximum(romania.Magnitude)\n",
    ")"
   ]
  },
  {
   "cell_type": "code",
   "execution_count": 5,
   "metadata": {},
   "outputs": [],
   "source": []
  },
  {
   "cell_type": "code",
   "execution_count": 23,
   "metadata": {},
   "outputs": [],
   "source": [
    "# specify the path to your local image file\n",
    "img_path = \"../maps/romania_wikipedia.png\"\n",
    "img = load(img_path);"
   ]
  },
  {
   "cell_type": "code",
   "execution_count": 7,
   "metadata": {},
   "outputs": [],
   "source": []
  },
  {
   "cell_type": "code",
   "execution_count": 99,
   "metadata": {},
   "outputs": [],
   "source": [
    "using LaTeXStrings"
   ]
  },
  {
   "cell_type": "code",
   "execution_count": 8,
   "metadata": {},
   "outputs": [],
   "source": [
    "using GLMakie"
   ]
  },
  {
   "cell_type": "code",
   "execution_count": 150,
   "metadata": {},
   "outputs": [
    {
     "data": {
      "text/plain": [
       "Attributes with 1 entry:\n",
       "  Axis3 => Attributes with 9 entries:\n",
       "    xlabeloffset => 40\n",
       "    xlabelsize => 24\n",
       "    xticklabelsize => 16\n",
       "    ylabeloffset => 40\n",
       "    ylabelsize => 24\n",
       "    yticklabelsize => 16\n",
       "    zlabeloffset => 40\n",
       "    zlabelsize => 24\n",
       "    zticklabelsize => 16"
      ]
     },
     "metadata": {},
     "output_type": "display_data"
    }
   ],
   "source": [
    "# Theme\n",
    "seismic_theme = Theme(\n",
    "    # fontsize = 24,\n",
    "    Axis3 = (\n",
    "        xlabelsize = 24,\n",
    "        xlabeloffset = 40,\n",
    "        xticklabelsize  = 16,\n",
    "\n",
    "        ylabelsize = 24,\n",
    "        ylabeloffset = 40,\n",
    "        yticklabelsize  = 16,\n",
    "\n",
    "        zlabelsize = 24,\n",
    "        zlabeloffset = 40,\n",
    "        zticklabelsize  = 16\n",
    "        )\n",
    "                    )"
   ]
  },
  {
   "cell_type": "code",
   "execution_count": 151,
   "metadata": {},
   "outputs": [],
   "source": []
  },
  {
   "cell_type": "code",
   "execution_count": 152,
   "metadata": {},
   "outputs": [],
   "source": [
    "GLMakie.activate!()\n",
    "set_theme!(seismic_theme)\n",
    "# Makie.inline!(true)"
   ]
  },
  {
   "cell_type": "code",
   "execution_count": 153,
   "metadata": {},
   "outputs": [
    {
     "data": {
      "text/plain": [
       "Attributes with 4 entries:\n",
       "  bold => TeX Gyre Heros Makie Bold\n",
       "  bold_italic => TeX Gyre Heros Makie Bold Italic\n",
       "  italic => TeX Gyre Heros Makie Italic\n",
       "  regular => TeX Gyre Heros Makie"
      ]
     },
     "metadata": {},
     "output_type": "display_data"
    }
   ],
   "source": [
    "Makie.current_default_theme()[:fonts]"
   ]
  },
  {
   "cell_type": "code",
   "execution_count": 154,
   "metadata": {},
   "outputs": [],
   "source": [
    "fig = Figure( resolution=(1080, 720))\n"
   ]
  },
  {
   "cell_type": "code",
   "execution_count": 159,
   "metadata": {},
   "outputs": [],
   "source": [
    "empty!(fig)"
   ]
  },
  {
   "cell_type": "code",
   "execution_count": 160,
   "metadata": {},
   "outputs": [
    {
     "data": {
      "text/plain": [
       "Axis3()"
      ]
     },
     "metadata": {},
     "output_type": "display_data"
    }
   ],
   "source": [
    "ax = Axis3(fig[1,1];    \n",
    "    title = L\"\\text{Seismic Events in Romania}\",\n",
    "    titlesize = 40,\n",
    "    xlabel = \"Longitude\",\n",
    "    ylabel = \"Latitude\",\n",
    "    zlabel = \"Depth\",\n",
    "    perspectiveness=0.5\n",
    ")"
   ]
  },
  {
   "cell_type": "code",
   "execution_count": 161,
   "metadata": {},
   "outputs": [],
   "source": [
    "# markerSizes = [10+log10(10*x) for x in romania.Magnitude];\n",
    "markerSizes2 = [1.7^x for x in romania.Magnitude];"
   ]
  },
  {
   "cell_type": "code",
   "execution_count": 162,
   "metadata": {},
   "outputs": [
    {
     "data": {
      "text/plain": [
       "Scatter{Tuple{Vector{Point{3, Float32}}}}"
      ]
     },
     "metadata": {},
     "output_type": "display_data"
    }
   ],
   "source": [
    "sc = scatter!(ax,\n",
    "    romania.Longitude,\n",
    "    romania.Latitude,\n",
    "    -romania.Depth;\n",
    "    markersize= markerSizes2,\n",
    "    color= romania.Magnitude,\n",
    "    colormap= (Reverse(:devon), 0.99),\n",
    "    strokewidth= 0.5,\n",
    "    shading= false\n",
    "    # transparency= true\n",
    "    # alpha = 0.8\n",
    ")"
   ]
  },
  {
   "cell_type": "code",
   "execution_count": 163,
   "metadata": {},
   "outputs": [
    {
     "data": {
      "text/plain": [
       "Colorbar()"
      ]
     },
     "metadata": {},
     "output_type": "display_data"
    }
   ],
   "source": [
    "Colorbar(fig[1, 2], \n",
    "    sc, \n",
    "    label=\"Magnitudes\", \n",
    "    height=Relative(0.5)\n",
    ")"
   ]
  },
  {
   "cell_type": "code",
   "execution_count": 164,
   "metadata": {},
   "outputs": [
    {
     "data": {
      "text/plain": [
       "Image{Tuple{Vector{Float32}, Vector{Float32}, Matrix{ColorTypes.RGBA{Float32}}}}"
      ]
     },
     "metadata": {},
     "output_type": "display_data"
    }
   ],
   "source": [
    "image!(ax , \n",
    "    mapcoords[\"minLon\"] .. mapcoords[\"maxLon\"],\n",
    "    mapcoords[\"minLat\"] .. mapcoords[\"maxLat\"],\n",
    "    rotr90(img*0.6); \n",
    "    # img*0.6;\n",
    "    transformation=(:xy, -mapcoords[\"maxDepth\"]),\n",
    "    # transformation=(:xy, 10),\n",
    ")"
   ]
  },
  {
   "cell_type": "code",
   "execution_count": 17,
   "metadata": {},
   "outputs": [],
   "source": []
  },
  {
   "cell_type": "code",
   "execution_count": 18,
   "metadata": {},
   "outputs": [
    {
     "name": "stdout",
     "output_type": "stream",
     "text": [
      "43.5941 48.23 20.19 29.84\n"
     ]
    }
   ],
   "source": [
    "println(mapcoords[\"minLat\"],\" \",mapcoords[\"maxLat\"],\" \",mapcoords[\"minLon\"],\" \",mapcoords[\"maxLon\"],)"
   ]
  },
  {
   "cell_type": "code",
   "execution_count": 168,
   "metadata": {},
   "outputs": [],
   "source": [
    "save(\"../results/romania_seismic_scatter.png\", fig)"
   ]
  },
  {
   "cell_type": "code",
   "execution_count": 20,
   "metadata": {},
   "outputs": [],
   "source": []
  }
 ],
 "metadata": {
  "kernelspec": {
   "display_name": "Julia 1.8.5",
   "language": "julia",
   "name": "julia-1.8"
  },
  "language_info": {
   "file_extension": ".jl",
   "mimetype": "application/julia",
   "name": "julia",
   "version": "1.8.5"
  },
  "orig_nbformat": 4
 },
 "nbformat": 4,
 "nbformat_minor": 2
}
