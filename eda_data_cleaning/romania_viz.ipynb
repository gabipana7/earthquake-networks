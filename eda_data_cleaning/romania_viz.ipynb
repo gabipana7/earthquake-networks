{
 "cells": [
  {
   "cell_type": "code",
   "execution_count": 4,
   "metadata": {},
   "outputs": [],
   "source": [
    "using CSV, DataFrames, GLMakie, Dates"
   ]
  },
  {
   "cell_type": "code",
   "execution_count": 5,
   "metadata": {},
   "outputs": [
    {
     "data": {
      "text/html": [
       "<div><div style = \"float: left;\"><span>31648×5 DataFrame</span></div><div style = \"float: right;\"><span style = \"font-style: italic;\">31623 rows omitted</span></div><div style = \"clear: both;\"></div></div><div class = \"data-frame\" style = \"overflow-x: scroll;\"><table class = \"data-frame\" style = \"margin-bottom: 6px;\"><thead><tr class = \"header\"><th class = \"rowNumber\" style = \"font-weight: bold; text-align: right;\">Row</th><th style = \"text-align: left;\">Datetime</th><th style = \"text-align: left;\">Latitude</th><th style = \"text-align: left;\">Longitude</th><th style = \"text-align: left;\">Depth</th><th style = \"text-align: left;\">Magnitude</th></tr><tr class = \"subheader headerLastRow\"><th class = \"rowNumber\" style = \"font-weight: bold; text-align: right;\"></th><th title = \"DateTime\" style = \"text-align: left;\">DateTime</th><th title = \"Float64\" style = \"text-align: left;\">Float64</th><th title = \"Float64\" style = \"text-align: left;\">Float64</th><th title = \"Float64\" style = \"text-align: left;\">Float64</th><th title = \"Float64\" style = \"text-align: left;\">Float64</th></tr></thead><tbody><tr><td class = \"rowNumber\" style = \"font-weight: bold; text-align: right;\">1</td><td style = \"text-align: left;\">1976-02-02T19:48:48</td><td style = \"text-align: right;\">44.2</td><td style = \"text-align: right;\">27.8</td><td style = \"text-align: right;\">33.0</td><td style = \"text-align: right;\">0.0</td></tr><tr><td class = \"rowNumber\" style = \"font-weight: bold; text-align: right;\">2</td><td style = \"text-align: left;\">1976-02-03T13:29:16.400</td><td style = \"text-align: right;\">45.32</td><td style = \"text-align: right;\">25.99</td><td style = \"text-align: right;\">184.3</td><td style = \"text-align: right;\">2.6</td></tr><tr><td class = \"rowNumber\" style = \"font-weight: bold; text-align: right;\">3</td><td style = \"text-align: left;\">1976-02-12T18:58:24</td><td style = \"text-align: right;\">45.4</td><td style = \"text-align: right;\">26.2</td><td style = \"text-align: right;\">33.0</td><td style = \"text-align: right;\">0.0</td></tr><tr><td class = \"rowNumber\" style = \"font-weight: bold; text-align: right;\">4</td><td style = \"text-align: left;\">1976-03-09T16:17:09.500</td><td style = \"text-align: right;\">44.72</td><td style = \"text-align: right;\">27.07</td><td style = \"text-align: right;\">33.0</td><td style = \"text-align: right;\">0.0</td></tr><tr><td class = \"rowNumber\" style = \"font-weight: bold; text-align: right;\">5</td><td style = \"text-align: left;\">1976-03-18T11:00:51</td><td style = \"text-align: right;\">46.2</td><td style = \"text-align: right;\">21.5</td><td style = \"text-align: right;\">0.0</td><td style = \"text-align: right;\">0.0</td></tr><tr><td class = \"rowNumber\" style = \"font-weight: bold; text-align: right;\">6</td><td style = \"text-align: left;\">1976-04-03T09:48:08.800</td><td style = \"text-align: right;\">44.97</td><td style = \"text-align: right;\">22.7</td><td style = \"text-align: right;\">33.0</td><td style = \"text-align: right;\">0.0</td></tr><tr><td class = \"rowNumber\" style = \"font-weight: bold; text-align: right;\">7</td><td style = \"text-align: left;\">1976-06-14T22:43:13.300</td><td style = \"text-align: right;\">45.08</td><td style = \"text-align: right;\">23.3</td><td style = \"text-align: right;\">10.0</td><td style = \"text-align: right;\">0.0</td></tr><tr><td class = \"rowNumber\" style = \"font-weight: bold; text-align: right;\">8</td><td style = \"text-align: left;\">1976-06-19T12:08:50.600</td><td style = \"text-align: right;\">45.74</td><td style = \"text-align: right;\">26.84</td><td style = \"text-align: right;\">77.0</td><td style = \"text-align: right;\">0.0</td></tr><tr><td class = \"rowNumber\" style = \"font-weight: bold; text-align: right;\">9</td><td style = \"text-align: left;\">1976-07-15T18:48:51</td><td style = \"text-align: right;\">45.9</td><td style = \"text-align: right;\">27.6</td><td style = \"text-align: right;\">177.0</td><td style = \"text-align: right;\">0.0</td></tr><tr><td class = \"rowNumber\" style = \"font-weight: bold; text-align: right;\">10</td><td style = \"text-align: left;\">1976-07-23T15:08:49</td><td style = \"text-align: right;\">45.3</td><td style = \"text-align: right;\">23.2</td><td style = \"text-align: right;\">33.0</td><td style = \"text-align: right;\">0.0</td></tr><tr><td class = \"rowNumber\" style = \"font-weight: bold; text-align: right;\">11</td><td style = \"text-align: left;\">1976-08-19T19:03:00.800</td><td style = \"text-align: right;\">45.54</td><td style = \"text-align: right;\">26.37</td><td style = \"text-align: right;\">162.0</td><td style = \"text-align: right;\">2.3</td></tr><tr><td class = \"rowNumber\" style = \"font-weight: bold; text-align: right;\">12</td><td style = \"text-align: left;\">1976-08-28T10:10:33</td><td style = \"text-align: right;\">46.2</td><td style = \"text-align: right;\">21.0</td><td style = \"text-align: right;\">33.0</td><td style = \"text-align: right;\">0.0</td></tr><tr><td class = \"rowNumber\" style = \"font-weight: bold; text-align: right;\">13</td><td style = \"text-align: left;\">1976-09-07T17:38:08.200</td><td style = \"text-align: right;\">45.62</td><td style = \"text-align: right;\">26.5</td><td style = \"text-align: right;\">155.3</td><td style = \"text-align: right;\">3.6</td></tr><tr><td style = \"text-align: right;\">&vellip;</td><td style = \"text-align: right;\">&vellip;</td><td style = \"text-align: right;\">&vellip;</td><td style = \"text-align: right;\">&vellip;</td><td style = \"text-align: right;\">&vellip;</td><td style = \"text-align: right;\">&vellip;</td></tr><tr><td class = \"rowNumber\" style = \"font-weight: bold; text-align: right;\">31637</td><td style = \"text-align: left;\">2022-12-26T13:48:35.860</td><td style = \"text-align: right;\">47.28</td><td style = \"text-align: right;\">23.8104</td><td style = \"text-align: right;\">2.0</td><td style = \"text-align: right;\">2.0</td></tr><tr><td class = \"rowNumber\" style = \"font-weight: bold; text-align: right;\">31638</td><td style = \"text-align: left;\">2022-12-27T16:00:52.890</td><td style = \"text-align: right;\">45.5211</td><td style = \"text-align: right;\">26.4184</td><td style = \"text-align: right;\">110.2</td><td style = \"text-align: right;\">2.5</td></tr><tr><td class = \"rowNumber\" style = \"font-weight: bold; text-align: right;\">31639</td><td style = \"text-align: left;\">2022-12-28T07:38:54.270</td><td style = \"text-align: right;\">45.7505</td><td style = \"text-align: right;\">26.6086</td><td style = \"text-align: right;\">85.2</td><td style = \"text-align: right;\">2.9</td></tr><tr><td class = \"rowNumber\" style = \"font-weight: bold; text-align: right;\">31640</td><td style = \"text-align: left;\">2022-12-28T13:15:05.470</td><td style = \"text-align: right;\">46.3193</td><td style = \"text-align: right;\">23.1806</td><td style = \"text-align: right;\">2.0</td><td style = \"text-align: right;\">1.9</td></tr><tr><td class = \"rowNumber\" style = \"font-weight: bold; text-align: right;\">31641</td><td style = \"text-align: left;\">2022-12-29T02:06:28.320</td><td style = \"text-align: right;\">45.6714</td><td style = \"text-align: right;\">26.6291</td><td style = \"text-align: right;\">134.0</td><td style = \"text-align: right;\">2.8</td></tr><tr><td class = \"rowNumber\" style = \"font-weight: bold; text-align: right;\">31642</td><td style = \"text-align: left;\">2022-12-29T09:28:11.270</td><td style = \"text-align: right;\">45.2972</td><td style = \"text-align: right;\">25.093</td><td style = \"text-align: right;\">2.0</td><td style = \"text-align: right;\">1.5</td></tr><tr><td class = \"rowNumber\" style = \"font-weight: bold; text-align: right;\">31643</td><td style = \"text-align: left;\">2022-12-29T09:42:33.920</td><td style = \"text-align: right;\">45.9596</td><td style = \"text-align: right;\">22.6972</td><td style = \"text-align: right;\">3.3</td><td style = \"text-align: right;\">1.6</td></tr><tr><td class = \"rowNumber\" style = \"font-weight: bold; text-align: right;\">31644</td><td style = \"text-align: left;\">2022-12-29T12:16:03.080</td><td style = \"text-align: right;\">46.3226</td><td style = \"text-align: right;\">23.1438</td><td style = \"text-align: right;\">1.0</td><td style = \"text-align: right;\">1.7</td></tr><tr><td class = \"rowNumber\" style = \"font-weight: bold; text-align: right;\">31645</td><td style = \"text-align: left;\">2022-12-29T13:11:43.570</td><td style = \"text-align: right;\">45.4378</td><td style = \"text-align: right;\">24.1116</td><td style = \"text-align: right;\">11.7</td><td style = \"text-align: right;\">2.1</td></tr><tr><td class = \"rowNumber\" style = \"font-weight: bold; text-align: right;\">31646</td><td style = \"text-align: left;\">2022-12-30T14:23:49.390</td><td style = \"text-align: right;\">45.4639</td><td style = \"text-align: right;\">24.1433</td><td style = \"text-align: right;\">14.0</td><td style = \"text-align: right;\">1.7</td></tr><tr><td class = \"rowNumber\" style = \"font-weight: bold; text-align: right;\">31647</td><td style = \"text-align: left;\">2022-12-31T03:16:48.320</td><td style = \"text-align: right;\">45.4082</td><td style = \"text-align: right;\">24.134</td><td style = \"text-align: right;\">18.2</td><td style = \"text-align: right;\">1.7</td></tr><tr><td class = \"rowNumber\" style = \"font-weight: bold; text-align: right;\">31648</td><td style = \"text-align: left;\">2022-12-31T15:24:39.550</td><td style = \"text-align: right;\">45.0022</td><td style = \"text-align: right;\">22.6597</td><td style = \"text-align: right;\">4.5</td><td style = \"text-align: right;\">2.1</td></tr></tbody></table></div>"
      ],
      "text/latex": [
       "\\begin{tabular}{r|ccccc}\n",
       "\t& Datetime & Latitude & Longitude & Depth & Magnitude\\\\\n",
       "\t\\hline\n",
       "\t& DateTime & Float64 & Float64 & Float64 & Float64\\\\\n",
       "\t\\hline\n",
       "\t1 & 1976-02-02T19:48:48 & 44.2 & 27.8 & 33.0 & 0.0 \\\\\n",
       "\t2 & 1976-02-03T13:29:16.400 & 45.32 & 25.99 & 184.3 & 2.6 \\\\\n",
       "\t3 & 1976-02-12T18:58:24 & 45.4 & 26.2 & 33.0 & 0.0 \\\\\n",
       "\t4 & 1976-03-09T16:17:09.500 & 44.72 & 27.07 & 33.0 & 0.0 \\\\\n",
       "\t5 & 1976-03-18T11:00:51 & 46.2 & 21.5 & 0.0 & 0.0 \\\\\n",
       "\t6 & 1976-04-03T09:48:08.800 & 44.97 & 22.7 & 33.0 & 0.0 \\\\\n",
       "\t7 & 1976-06-14T22:43:13.300 & 45.08 & 23.3 & 10.0 & 0.0 \\\\\n",
       "\t8 & 1976-06-19T12:08:50.600 & 45.74 & 26.84 & 77.0 & 0.0 \\\\\n",
       "\t9 & 1976-07-15T18:48:51 & 45.9 & 27.6 & 177.0 & 0.0 \\\\\n",
       "\t10 & 1976-07-23T15:08:49 & 45.3 & 23.2 & 33.0 & 0.0 \\\\\n",
       "\t11 & 1976-08-19T19:03:00.800 & 45.54 & 26.37 & 162.0 & 2.3 \\\\\n",
       "\t12 & 1976-08-28T10:10:33 & 46.2 & 21.0 & 33.0 & 0.0 \\\\\n",
       "\t13 & 1976-09-07T17:38:08.200 & 45.62 & 26.5 & 155.3 & 3.6 \\\\\n",
       "\t14 & 1976-10-01T17:50:43.200 & 45.68 & 26.49 & 146.0 & 6.0 \\\\\n",
       "\t15 & 1976-10-15T10:54:48 & 47.1 & 25.6 & 17.0 & 3.9 \\\\\n",
       "\t16 & 1976-12-13T06:33:11.800 & 45.66 & 26.49 & 157.0 & 0.0 \\\\\n",
       "\t17 & 1976-12-21T14:56:03 & 45.6 & 27.1 & 33.0 & 0.0 \\\\\n",
       "\t18 & 1976-12-24T14:48:51.100 & 45.8 & 26.86 & 161.0 & 0.0 \\\\\n",
       "\t19 & 1976-12-30T10:48:24 & 45.7 & 23.5 & 0.0 & 0.0 \\\\\n",
       "\t20 & 1977-01-07T19:25:00.900 & 45.5 & 26.1 & 33.0 & 0.0 \\\\\n",
       "\t21 & 1977-01-20T23:23:33.700 & 45.63 & 26.75 & 130.0 & 0.0 \\\\\n",
       "\t22 & 1977-03-04T19:21:54.100 & 45.77 & 26.76 & 94.0 & 7.4 \\\\\n",
       "\t23 & 1977-03-04T19:51:08.900 & 45.55 & 27.14 & 15.6 & 0.0 \\\\\n",
       "\t24 & 1977-03-04T20:46:55.600 & 45.35 & 27.36 & 17.2 & 0.0 \\\\\n",
       "\t$\\dots$ & $\\dots$ & $\\dots$ & $\\dots$ & $\\dots$ & $\\dots$ \\\\\n",
       "\\end{tabular}\n"
      ],
      "text/plain": [
       "\u001b[1m31648×5 DataFrame\u001b[0m\n",
       "\u001b[1m   Row \u001b[0m│\u001b[1m Datetime                \u001b[0m\u001b[1m Latitude \u001b[0m\u001b[1m Longitude \u001b[0m\u001b[1m Depth   \u001b[0m\u001b[1m Magnitude \u001b[0m\n",
       "       │\u001b[90m DateTime                \u001b[0m\u001b[90m Float64  \u001b[0m\u001b[90m Float64   \u001b[0m\u001b[90m Float64 \u001b[0m\u001b[90m Float64   \u001b[0m\n",
       "───────┼──────────────────────────────────────────────────────────────────\n",
       "     1 │ 1976-02-02T19:48:48       44.2       27.8        33.0        0.0\n",
       "     2 │ 1976-02-03T13:29:16.400   45.32      25.99      184.3        2.6\n",
       "     3 │ 1976-02-12T18:58:24       45.4       26.2        33.0        0.0\n",
       "     4 │ 1976-03-09T16:17:09.500   44.72      27.07       33.0        0.0\n",
       "     5 │ 1976-03-18T11:00:51       46.2       21.5         0.0        0.0\n",
       "     6 │ 1976-04-03T09:48:08.800   44.97      22.7        33.0        0.0\n",
       "     7 │ 1976-06-14T22:43:13.300   45.08      23.3        10.0        0.0\n",
       "     8 │ 1976-06-19T12:08:50.600   45.74      26.84       77.0        0.0\n",
       "   ⋮   │            ⋮                ⋮          ⋮         ⋮         ⋮\n",
       " 31642 │ 2022-12-29T09:28:11.270   45.2972    25.093       2.0        1.5\n",
       " 31643 │ 2022-12-29T09:42:33.920   45.9596    22.6972      3.3        1.6\n",
       " 31644 │ 2022-12-29T12:16:03.080   46.3226    23.1438      1.0        1.7\n",
       " 31645 │ 2022-12-29T13:11:43.570   45.4378    24.1116     11.7        2.1\n",
       " 31646 │ 2022-12-30T14:23:49.390   45.4639    24.1433     14.0        1.7\n",
       " 31647 │ 2022-12-31T03:16:48.320   45.4082    24.134      18.2        1.7\n",
       " 31648 │ 2022-12-31T15:24:39.550   45.0022    22.6597      4.5        2.1\n",
       "\u001b[36m                                                        31633 rows omitted\u001b[0m"
      ]
     },
     "metadata": {},
     "output_type": "display_data"
    }
   ],
   "source": [
    "romania_full = CSV.read(\"../data/romania.csv\", DataFrame);\n",
    "romania = romania_full[romania_full.Datetime .> DateTime(1976,1,1,0,0,0),:]"
   ]
  },
  {
   "cell_type": "code",
   "execution_count": null,
   "metadata": {},
   "outputs": [],
   "source": []
  },
  {
   "cell_type": "code",
   "execution_count": 14,
   "metadata": {},
   "outputs": [],
   "source": [
    "GLMakie.activate!()\n",
    "# Makie.inline!(true)"
   ]
  },
  {
   "cell_type": "code",
   "execution_count": 26,
   "metadata": {},
   "outputs": [],
   "source": [
    "import Random"
   ]
  },
  {
   "cell_type": "code",
   "execution_count": 61,
   "metadata": {},
   "outputs": [],
   "source": [
    "fig = Figure( resolution=(720, 480))"
   ]
  },
  {
   "cell_type": "code",
   "execution_count": 62,
   "metadata": {},
   "outputs": [
    {
     "data": {
      "text/plain": [
       "Colorbar()"
      ]
     },
     "metadata": {},
     "output_type": "display_data"
    }
   ],
   "source": [
    "ax = Axis3(fig[1,1];  perspectiveness=0.5)\n",
    "scatter!(ax,romania.Longitude, romania.Latitude, -romania.Depth )\n",
    "Colorbar(fig[1, 2], hm, label=\"values\", height=Relative(0.5))\n"
   ]
  },
  {
   "cell_type": "code",
   "execution_count": 63,
   "metadata": {},
   "outputs": [
    {
     "data": {
      "text/plain": [
       "peaks (generic function with 1 method)"
      ]
     },
     "metadata": {},
     "output_type": "display_data"
    }
   ],
   "source": [
    "function peaks(; n=49)\n",
    "    x = LinRange(-3, 3, n)\n",
    "    y = LinRange(-3, 3, n)\n",
    "    a = 3 * (1 .- x') .^ 2 .* exp.(-(x' .^ 2) .- (y .+ 1) .^ 2)\n",
    "    b = 10 * (x' / 5 .- x' .^ 3 .- y .^ 5) .* exp.(-x' .^ 2 .- y .^ 2)\n",
    "    c = 1 / 3 * exp.(-(x' .+ 1) .^ 2 .- y .^ 2)\n",
    "    return (x, y, a .- b .- c)\n",
    "end"
   ]
  },
  {
   "cell_type": "code",
   "execution_count": 64,
   "metadata": {},
   "outputs": [
    {
     "data": {
      "text/plain": [
       "(LinRange{Float64}(-3.0, 3.0, 49), LinRange{Float64}(-3.0, 3.0, 49), [6.671280296717442e-5 0.00012649614433448057 … -2.0086931331601636e-5 -5.864187872589529e-6; 0.000103807734320312 0.00019662097315701298 … -3.395634005691865e-5 -9.941750827362957e-6; … ; 5.239973604749501e-5 0.0001120586286173271 … 0.0001452861988016753 7.072847663666593e-5; 3.2235359612692725e-5 6.855086453499669e-5 … 8.449391056829913e-5 4.1029727458267584e-5])"
      ]
     },
     "metadata": {},
     "output_type": "display_data"
    }
   ],
   "source": [
    "x, y, z = peaks()"
   ]
  },
  {
   "cell_type": "code",
   "execution_count": 66,
   "metadata": {},
   "outputs": [
    {
     "data": {
      "text/plain": [
       "Combined{Makie.contourf, Tuple{Vector{Float32}, Vector{Float32}, Matrix{Float32}}}"
      ]
     },
     "metadata": {},
     "output_type": "display_data"
    }
   ],
   "source": [
    "contourf!(ax, x, y, z)"
   ]
  },
  {
   "cell_type": "code",
   "execution_count": null,
   "metadata": {},
   "outputs": [],
   "source": []
  }
 ],
 "metadata": {
  "kernelspec": {
   "display_name": "Julia 1.8.5",
   "language": "julia",
   "name": "julia-1.8"
  },
  "language_info": {
   "file_extension": ".jl",
   "mimetype": "application/julia",
   "name": "julia",
   "version": "1.8.5"
  },
  "orig_nbformat": 4
 },
 "nbformat": 4,
 "nbformat_minor": 2
}
